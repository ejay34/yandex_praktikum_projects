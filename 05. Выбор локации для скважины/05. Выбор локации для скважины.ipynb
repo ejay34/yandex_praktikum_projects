{
  "cells": [
    {
      "cell_type": "markdown",
      "metadata": {
        "id": "view-in-github",
        "colab_type": "text"
      },
      "source": [
        "<a href=\"https://colab.research.google.com/github/ejay34/yandex_praktikum_projects/blob/main/05.%20%D0%92%D1%8B%D0%B1%D0%BE%D1%80%20%D0%BB%D0%BE%D0%BA%D0%B0%D1%86%D0%B8%D0%B8%20%D0%B4%D0%BB%D1%8F%20%D1%81%D0%BA%D0%B2%D0%B0%D0%B6%D0%B8%D0%BD%D1%8B.ipynb\" target=\"_parent\"><img src=\"https://colab.research.google.com/assets/colab-badge.svg\" alt=\"Open In Colab\"/></a>"
      ]
    },
    {
      "cell_type": "markdown",
      "metadata": {
        "id": "fqmdDOhFzUIw"
      },
      "source": [
        "# Выбор локации для скважины"
      ]
    },
    {
      "cell_type": "markdown",
      "metadata": {
        "id": "VCnOxaI8zUIw"
      },
      "source": [
        "Условный заказчик, добывающая компания ведет разработку по бурению новой скважины. Необходимо определить место проведения работ.\n",
        "\n",
        "Заказчиком предоставлены наборы данных пробы нефти в трёх регионах: в каждом 10 000 месторождений, где измерили качество нефти и объём её запасов.\n",
        "\n",
        "*Цель исследования:* Построить модель машинного обучения, которая определит регион, где добыча принесёт наибольшую прибыль. Проанализируйте возможную прибыль и риски техникой *Bootstrap.*\n",
        "\n",
        "*Этапы исследования:*\n",
        "1. Загрузка и подготовка данных\n",
        "2. Создание и обучение модели линейой регрессии\n",
        "3. Определение показателей прибыли для каждого региона\n",
        "4. Итоговый вывод\n",
        "\n",
        "*Описание данных:*\n",
        "\n",
        "Технологический процесс:\n",
        "- Rougher feed — исходное сырье\n",
        "- Rougher additions (или reagent additions) — флотационные реагенты: Xanthate, - Sulphate, Depressant\n",
        "- Xanthate — ксантогенат (промотер, или активатор флотации)\n",
        "- Sulphate — сульфат (на данном производстве сульфид натрия)\n",
        "- Depressant — депрессант (силикат натрия).\n",
        "- Rougher process (англ. «грубый процесс») — флотация\n",
        "- Rougher tails — отвальные хвосты\n",
        "- Float banks — флотационная установка\n",
        "- Cleaner process — очистка\n",
        "- Rougher Au — черновой концентрат золота\n",
        "- Final Au — финальный концентрат золота\n",
        "\n",
        "Параметры этапов:\n",
        "- air amount — объём воздуха\n",
        "- fluid levels — уровень жидкости\n",
        "- feed size — размер гранул сырья\n",
        "- feed rate — скорость подачи\n",
        "\n",
        "Наименование признаков: [этап].[тип_параметра].[название_параметра]\n",
        "\n",
        "Возможные значения для блока [этап]:\n",
        "- rougher — флотация\n",
        "- primary_cleaner — первичная очистка\n",
        "- secondary_cleaner — вторичная очистка\n",
        "- final — финальные характеристики\n",
        "\n",
        "Возможные значения для блока [тип_параметра]:\n",
        "- input — параметры сырья\n",
        "- output — параметры продукта\n",
        "- state — параметры, характеризующие текущее состояние этапа\n",
        "- calculation — расчётные характеристики"
      ]
    },
    {
      "cell_type": "markdown",
      "metadata": {
        "id": "--G0BahkzUIw"
      },
      "source": [
        "<h1>Содержание<span class=\"tocSkip\"></span></h1>\n",
        "<div class=\"toc\">\n",
        "    <ul class=\"toc-item\">\n",
        "        <li><span><a href=\"#Загрузка-и-подготовка-данных\" data-toc-modified-id=\"Загрузка-и-подготовка-данных-1\"><span class=\"toc-item-num\">1&nbsp;&nbsp;</span>Загрузка и подготовка данных</a></span>\n",
        "            <ul class=\"toc-item\">\n",
        "                <li><span><a href=\"#Импорт-необходимых-библиотек\" data-toc-modified-id=\"Импорт-необходимых-библиотек-1.1\"><span class=\"toc-item-num\">1.1&nbsp;&nbsp;</span>Импорт необходимых библиотек</a></span></li>\n",
        "                <li><span><a href=\"#Загрузка-данных\" data-toc-modified-id=\"Загрузка-данных-1.2\"><span class=\"toc-item-num\">1.2&nbsp;&nbsp;</span>Загрузка данных</a></span></li>\n",
        "                <li><span><a href=\"#Вывод-основной-информации\" data-toc-modified-id=\"Вывод-основной-информации-1.3\"><span class=\"toc-item-num\">1.3&nbsp;&nbsp;</span>Вывод основной информации</a></span></li>\n",
        "                <li><span><a href=\"#Проверка-на-мультиколлинеарность\" data-toc-modified-id=\"Проверка-на-мультиколлинеарность-1.4\"><span class=\"toc-item-num\">1.4&nbsp;&nbsp;</span>Проверка на мультиколлинеарность</a></span></li>\n",
        "                <li><span><a href=\"#Проверка-на-явные-дубликаты\" data-toc-modified-id=\"Проверка-на-явные-дубликаты-1.5\"><span class=\"toc-item-num\">1.5&nbsp;&nbsp;</span>Проверка на явные дубликаты</a></span></li>\n",
        "                <li><span><a href=\"#Поиск-пропущенных-значений\" data-toc-modified-id=\"Поиск-пропущенных-значений-1.6\"><span class=\"toc-item-num\">1.6&nbsp;&nbsp;</span>Поиск пропущенных значений</a></span></li>\n",
        "                <li><span><a href=\"#Гистограммы-признаков\" data-toc-modified-id=\"Гистограммы-признаков-1.7\"><span class=\"toc-item-num\">1.7&nbsp;&nbsp;</span>Гистограммы признаков</a></span></li>\n",
        "                <li><span><a href=\"#Краткий-вывод\" data-toc-modified-id=\"Краткий-вывод-1.8\"><span class=\"toc-item-num\">1.8&nbsp;&nbsp;</span>Краткий вывод</a></span></li>\n",
        "            </ul>\n",
        "        </li>\n",
        "        <li><span><a href=\"#Обучение-и-проверка-модели\" data-toc-modified-id=\"Обучение-и-проверка-модели-2\"><span class=\"toc-item-num\">2&nbsp;&nbsp;</span>Обучение и проверка модели</a></span>\n",
        "            <ul class=\"toc-item\">\n",
        "                <li><span><a href=\"#Создание-функции-обучения-модели\" data-toc-modified-id=\"Создание-функции-обучения-модели-2.1\"><span class=\"toc-item-num\">2.1&nbsp;&nbsp;</span>Создание функции обучения модели</a></span></li>\n",
        "                <li><span><a href=\"#Обучение-модели\" data-toc-modified-id=\"Обучение-модели-2.2\"><span class=\"toc-item-num\">2.2&nbsp;&nbsp;</span>Обучение модели</a></span></li>\n",
        "                <li><span><a href=\"#Вывод-результатов\" data-toc-modified-id=\"Вывод-результатов-2.3\"><span class=\"toc-item-num\">2.3&nbsp;&nbsp;</span>Вывод результатов</a></span></li>\n",
        "                <li><span><a href=\"#Анализ-результатов\" data-toc-modified-id=\"Анализ-результатов-2.4\"><span class=\"toc-item-num\">2.4&nbsp;&nbsp;</span>Анализ результатов</a></span></li>                \n",
        "            </ul>\n",
        "        </li>\n",
        "        <li><span><a href=\"#Подготовка-к-расчету-прибыли\" data-toc-modified-id=\"Подготовка-к-расчету-прибыли-3\"><span class=\"toc-item-num\">3&nbsp;&nbsp;</span>Подготовка к расчету прибыли</a></span>\n",
        "            <ul class=\"toc-item\">\n",
        "                <li><span><a href=\"#Определим-ключевые-значения\" data-toc-modified-id=\"Определим-ключевые-значения-3.1\"><span class=\"toc-item-num\">3.1&nbsp;&nbsp;</span>Определим ключевые значения</a></span></li>\n",
        "                <li><span><a href=\"#Определение-величины-запаса-сырья-для-безубыточной-разработки\" data-toc-modified-id=\"Определение-величины-запаса-сырья-для-безубыточной-разработки-3.2\"><span class=\"toc-item-num\">3.2&nbsp;&nbsp;</span>Определение величины запаса сырья для безубыточной разработки</a></span></li>\n",
        "                <li><span><a href=\"#Краткий-вывод\" data-toc-modified-id=\"Краткий-вывод-3.3\"><span class=\"toc-item-num\">3.3&nbsp;&nbsp;</span>Краткий вывод</a></span></li>                 \n",
        "            </ul>\n",
        "        </li>\n",
        "        <li><span><a href=\"#Расчёт-прибыли-и-рисков\" data-toc-modified-id=\"Расчёт-прибыли-и-рисков-4\"><span class=\"toc-item-num\">4&nbsp;&nbsp;</span>Расчёт прибыли и рисков</a></span>\n",
        "            <ul class=\"toc-item\">\n",
        "                <li><span><a href=\"#Создание-функции-расчета-прибыли\" data-toc-modified-id=\"Создание-функции-расчета-прибыли-4.1\"><span class=\"toc-item-num\">4.1&nbsp;&nbsp;</span>Создание функции расчета прибыли</a></span></li>\n",
        "                <li><span><a href=\"#Создание-функции-расчета-целевых-показателей\" data-toc-modified-id=\"Создание-функции-расчета-целевых-показателей-4.2\"><span class=\"toc-item-num\">4.2&nbsp;&nbsp;</span>Создание функции расчета целевых показателей</a></span></li>\n",
        "                <li><span><a href=\"#Определение-показателей-прибыли-для-региона-1\" data-toc-modified-id=\"Определение-показателей-прибыли-для-региона-1-4.3\"><span class=\"toc-item-num\">4.3&nbsp;&nbsp;</span>Определение показателей прибыли для региона 1</a></span></li>\n",
        "                <li><span><a href=\"#Определение-показателей-прибыли-для-региона-2\" data-toc-modified-id=\"Определение-показателей-прибыли-для-региона-2-4.4\"><span class=\"toc-item-num\">4.4&nbsp;&nbsp;</span>Определение показателей прибыли для региона 2</a></span></li>\n",
        "                <li><span><a href=\"#Определение-показателей-прибыли-для-региона-3\" data-toc-modified-id=\"Определение-показателей-прибыли-для-региона-3-4.5\"><span class=\"toc-item-num\">4.5&nbsp;&nbsp;</span>Определение показателей прибыли для региона 3</a></span></li>                \n",
        "                <li><span><a href=\"#Краткий-вывод\" data-toc-modified-id=\"Краткий-вывод-4.6\"><span class=\"toc-item-num\">4.6&nbsp;&nbsp;</span>Краткий вывод</a></span></li>\n",
        "            </ul>\n",
        "        </li>   \n",
        "        <li><span><a href=\"#Вывод\" data-toc-modified-id=\"Вывод-5\"><span class=\"toc-item-num\">5&nbsp;&nbsp;</span>Вывод</a></span></li>\n",
        "        <li><span><a href=\"#Чек-лист-готовности-проекта\" data-toc-modified-id=\"Чек-лист-готовности-проекта-6\"><span class=\"toc-item-num\">6&nbsp;&nbsp;</span>Чек-лист готовности проекта</a></span></li>\n",
        "    </ul>\n",
        "</div>"
      ]
    },
    {
      "cell_type": "markdown",
      "metadata": {
        "id": "oSTnD9o_zUIw"
      },
      "source": [
        "## Загрузка и подготовка данных"
      ]
    },
    {
      "cell_type": "markdown",
      "metadata": {
        "id": "8D34IvbczUIw"
      },
      "source": [
        "### Импорт необходимых библиотек"
      ]
    },
    {
      "cell_type": "code",
      "execution_count": 1,
      "metadata": {
        "id": "ReW0LBaOzUIw"
      },
      "outputs": [],
      "source": [
        "# Импортируем необходимые библиотеки\n",
        "import pandas as pd\n",
        "import numpy as np\n",
        "import seaborn as sns\n",
        "from scipy import stats as st\n",
        "from numpy.random import RandomState\n",
        "import matplotlib.pyplot as plt\n",
        "from sklearn.preprocessing import StandardScaler\n",
        "from sklearn.model_selection import train_test_split\n",
        "from sklearn.metrics import mean_squared_error\n",
        "from sklearn.linear_model import LinearRegression\n",
        "\n",
        "# Сброс ограничений на число столбцов\n",
        "pd.set_option('display.max_columns', None)\n",
        "pd.options.mode.chained_assignment=None"
      ]
    },
    {
      "cell_type": "markdown",
      "metadata": {
        "id": "DS6jmykJzUJA"
      },
      "source": [
        "### Загрузка данных"
      ]
    },
    {
      "cell_type": "code",
      "execution_count": 2,
      "metadata": {
        "id": "dtrHuT6XzUJA"
      },
      "outputs": [],
      "source": [
        "# Загрузим данные из csv-файла в переменную df_1\n",
        "try:\n",
        "    df_1 = pd.read_csv('/datasets/geo_data_0.csv')\n",
        "except:\n",
        "    df_1 = pd.read_csv('https://code.s3.yandex.net/datasets/geo_data_0.csv')\n",
        "\n",
        "# Загрузим данные из csv-файла в переменную df_2\n",
        "try:\n",
        "    df_2 = pd.read_csv('/datasets/geo_data_1.csv')\n",
        "except:\n",
        "    df_2 = pd.read_csv('https://code.s3.yandex.net/datasets/geo_data_1.csv')\n",
        "\n",
        "# Загрузим данные из csv-файла в переменную df_3\n",
        "try:\n",
        "    df_3 = pd.read_csv('/datasets/geo_data_2.csv')\n",
        "except:\n",
        "    df_3 = pd.read_csv('https://code.s3.yandex.net/datasets/geo_data_2.csv')"
      ]
    },
    {
      "cell_type": "markdown",
      "metadata": {
        "id": "yXgO6k57zUJA"
      },
      "source": [
        "### Вывод основной информации"
      ]
    },
    {
      "cell_type": "code",
      "execution_count": 3,
      "metadata": {
        "id": "rdeHuHlUzUJA",
        "outputId": "b1763c1b-2b2f-4070-b2a8-a78b886a6669",
        "colab": {
          "base_uri": "https://localhost:8080/"
        }
      },
      "outputs": [
        {
          "output_type": "stream",
          "name": "stdout",
          "text": [
            "\n",
            "Размерность исходных данных первого региона: \n",
            "\tобъектов - 100000, признаков - 5\n",
            "\n",
            "          id        f0        f1        f2     product\n",
            "44578  owXlp  1.596368 -0.380288  6.544657   57.349140\n",
            "92839  ex6t0  0.162020 -0.057048 -0.461012   72.323787\n",
            "3569   cDxkG  0.024067 -0.000198  0.304200  103.352304\n",
            "17292  OkcJr -0.071363  0.473235  6.279500  151.935056\n",
            "22378  ZById  0.682213  0.639399  3.575636   48.412262\n",
            "\n",
            "id          object\n",
            "f0         float64\n",
            "f1         float64\n",
            "f2         float64\n",
            "product    float64\n",
            "dtype: object\n",
            "\n",
            "Размерность исходных данных второго региона: \n",
            "\tобъектов - 100000, признаков - 5\n",
            "\n",
            "          id         f0        f1        f2     product\n",
            "84643  1CGKp   6.853531 -4.188275  4.988448  134.766305\n",
            "87946  thDqF -12.634626 -4.860937  0.002199    3.179103\n",
            "68304  IJETR -13.223425 -8.275486 -0.004235    3.179103\n",
            "65887  X9Qee   9.713563 -9.860361  3.001495   80.859783\n",
            "1660   C7cnc   0.522730 -0.189695  2.009415   53.906522\n",
            "\n",
            "id          object\n",
            "f0         float64\n",
            "f1         float64\n",
            "f2         float64\n",
            "product    float64\n",
            "dtype: object\n",
            "\n",
            "Размерность исходных данных третьего региона: \n",
            "\tобъектов - 100000, признаков - 5\n",
            "\n",
            "          id        f0        f1        f2     product\n",
            "77644  4KLly  0.497124 -2.663678  2.225802  157.939207\n",
            "41506  5spFD  2.884558  0.027442 -0.993928   41.928805\n",
            "91317  ioiBt  2.258540  0.987081  5.832329  184.682988\n",
            "49063  PEwlS  2.669021 -0.279734  4.743331  112.595723\n",
            "34951  TrJEH -0.000201 -2.492287  4.089593  123.809416\n",
            "\n",
            "id          object\n",
            "f0         float64\n",
            "f1         float64\n",
            "f2         float64\n",
            "product    float64\n",
            "dtype: object\n"
          ]
        }
      ],
      "source": [
        "# Выведем информацию и датасетах\n",
        "print(f'\\nРазмерность исходных данных первого региона: \\n\\tобъектов - {df_1.shape[0]}, признаков - {df_1.shape[1]}\\n')\n",
        "print(df_1.sample(5))\n",
        "print()\n",
        "print(df_1.dtypes)\n",
        "\n",
        "print(f'\\nРазмерность исходных данных второго региона: \\n\\tобъектов - {df_2.shape[0]}, признаков - {df_2.shape[1]}\\n')\n",
        "print(df_2.sample(5))\n",
        "print()\n",
        "print(df_2.dtypes)\n",
        "\n",
        "print(f'\\nРазмерность исходных данных третьего региона: \\n\\tобъектов - {df_3.shape[0]}, признаков - {df_3.shape[1]}\\n')\n",
        "print(df_3.sample(5))\n",
        "print()\n",
        "print(df_3.dtypes)"
      ]
    },
    {
      "cell_type": "markdown",
      "metadata": {
        "id": "0i4BSbPrzUJA"
      },
      "source": [
        "### Проверка на мультиколлинеарность"
      ]
    },
    {
      "cell_type": "code",
      "execution_count": 4,
      "metadata": {
        "id": "FZnqOUQrzUJA",
        "outputId": "1caa31f6-dd52-446f-f00d-3606ca0ce316",
        "colab": {
          "base_uri": "https://localhost:8080/",
          "height": 600
        }
      },
      "outputs": [
        {
          "output_type": "stream",
          "name": "stderr",
          "text": [
            "<ipython-input-4-2d86096f760f>:3: FutureWarning: The default value of numeric_only in DataFrame.corr is deprecated. In a future version, it will default to False. Select only valid columns or specify the value of numeric_only to silence this warning.\n",
            "  sns.heatmap(df_1.corr(), cmap=\"YlGnBu\", annot=True)\n"
          ]
        },
        {
          "output_type": "display_data",
          "data": {
            "text/plain": [
              "<Figure size 900x600 with 2 Axes>"
            ],
            "image/png": "[encoded data removed]"
          },
          "metadata": {}
        }
      ],
      "source": [
        "# Для региона 1\n",
        "plt.figure(figsize=(9, 6))\n",
        "sns.heatmap(df_1.corr(), cmap=\"YlGnBu\", annot=True)\n",
        "plt.title('Матрица коррелиции для региона 1')\n",
        "plt.show()"
      ]
    },
    {
      "cell_type": "code",
      "execution_count": 5,
      "metadata": {
        "id": "2f40YAukzUJA",
        "outputId": "c6e7c409-2951-4315-d345-2bbc2918b671",
        "colab": {
          "base_uri": "https://localhost:8080/",
          "height": 600
        }
      },
      "outputs": [
        {
          "output_type": "stream",
          "name": "stderr",
          "text": [
            "<ipython-input-5-bb1d25f9fa33>:3: FutureWarning: The default value of numeric_only in DataFrame.corr is deprecated. In a future version, it will default to False. Select only valid columns or specify the value of numeric_only to silence this warning.\n",
            "  sns.heatmap(df_2.corr(), cmap=\"YlGnBu\", annot=True)\n"
          ]
        },
        {
          "output_type": "display_data",
          "data": {
            "text/plain": [
              "<Figure size 900x600 with 2 Axes>"
            ],
            "image/png": "[encoded data removed]"
          },
          "metadata": {}
        }
      ],
      "source": [
        "# Для региона 2\n",
        "plt.figure(figsize=(9, 6))\n",
        "sns.heatmap(df_2.corr(), cmap=\"YlGnBu\", annot=True)\n",
        "plt.title('Матрица коррелиции для региона 2')\n",
        "plt.show()"
      ]
    },
    {
      "cell_type": "code",
      "execution_count": 6,
      "metadata": {
        "scrolled": true,
        "id": "BIJi9RxOzUJA",
        "outputId": "58193d77-914c-4e19-dcc6-77f44fb79b97",
        "colab": {
          "base_uri": "https://localhost:8080/",
          "height": 600
        }
      },
      "outputs": [
        {
          "output_type": "stream",
          "name": "stderr",
          "text": [
            "<ipython-input-6-0c53bb5a4819>:3: FutureWarning: The default value of numeric_only in DataFrame.corr is deprecated. In a future version, it will default to False. Select only valid columns or specify the value of numeric_only to silence this warning.\n",
            "  sns.heatmap(df_3.corr(), cmap=\"YlGnBu\", annot=True)\n"
          ]
        },
        {
          "output_type": "display_data",
          "data": {
            "text/plain": [
              "<Figure size 900x600 with 2 Axes>"
            ],
            "image/png": "[encoded data removed]"
          },
          "metadata": {}
        }
      ],
      "source": [
        "# Для региона 3\n",
        "plt.figure(figsize=(9, 6))\n",
        "sns.heatmap(df_3.corr(), cmap=\"YlGnBu\", annot=True)\n",
        "plt.title('Матрица коррелиции для региона 3')\n",
        "plt.show()"
      ]
    },
    {
      "cell_type": "markdown",
      "metadata": {
        "id": "UzBSevu_zUJA"
      },
      "source": [
        "### Проверка на явные дубликаты"
      ]
    },
    {
      "cell_type": "code",
      "execution_count": 7,
      "metadata": {
        "id": "_VU9SaWezUJA",
        "outputId": "fefcb506-58fc-44fe-88f8-6e5dd71d9039",
        "colab": {
          "base_uri": "https://localhost:8080/"
        }
      },
      "outputs": [
        {
          "output_type": "stream",
          "name": "stdout",
          "text": [
            "\n",
            "Явных дубликатов в данных первого региона: 0\n",
            "\n",
            "Явных дубликатов в данных второго региона: 0\n",
            "\n",
            "Явных дубликатов в данных третьего региона: 0\n"
          ]
        }
      ],
      "source": [
        "# Выполним проверку на явные дубликаты в df_1\n",
        "print(f'\\nЯвных дубликатов в данных первого региона: {df_1.duplicated().sum()}')\n",
        "\n",
        "# Выполним проверку на явные дубликаты в df_2\n",
        "print(f'\\nЯвных дубликатов в данных второго региона: {df_2.duplicated().sum()}')\n",
        "\n",
        "# Выполним проверку на явные дубликаты в df_3\n",
        "print(f'\\nЯвных дубликатов в данных третьего региона: {df_3.duplicated().sum()}')"
      ]
    },
    {
      "cell_type": "code",
      "execution_count": 8,
      "metadata": {
        "id": "VgNxkUaEzUJA",
        "outputId": "13b14311-9cd7-4b79-9a15-5ecdb9df078c",
        "colab": {
          "base_uri": "https://localhost:8080/",
          "height": 472
        }
      },
      "outputs": [
        {
          "output_type": "stream",
          "name": "stdout",
          "text": [
            "Количество дубликатов признака id: 0.016%\n"
          ]
        },
        {
          "output_type": "execute_result",
          "data": {
            "text/plain": [
              "                    f0        f1        f2     product\n",
              "id    region                                          \n",
              "2tyMi 1       0.576679 -0.411140 -3.725859   69.292672\n",
              "      3      -1.789602 -1.359044 -4.840745  145.901447\n",
              "5ltQ6 2       7.389219 -5.052022  2.996832   82.449334\n",
              "5ssQt 1      -1.005117  0.268726 -0.407822   53.206029\n",
              "      3      -0.651825  0.782415  2.690636  120.108761\n",
              "...                ...       ...       ...         ...\n",
              "uSye4 3      -0.066172  2.543996 -0.054049  141.345070\n",
              "wqgPo 1       2.009877 -0.119927  5.254332   72.798085\n",
              "      3       0.052461  1.424025  0.085541   10.686576\n",
              "wt4Uk 2       0.584437 -8.742817  2.495991   68.972704\n",
              "xCHr8 3       0.392981  1.234965  1.609381   95.254583\n",
              "\n",
              "[80 rows x 4 columns]"
            ],
            "text/html": [
              "\n",
              "  <div id=\"df-84fa7267-dd85-4266-a48c-05d2672f7bd8\">\n",
              "    <div class=\"colab-df-container\">\n",
              "      <div>\n",
              "<style scoped>\n",
              "    .dataframe tbody tr th:only-of-type {\n",
              "        vertical-align: middle;\n",
              "    }\n",
              "\n",
              "    .dataframe tbody tr th {\n",
              "        vertical-align: top;\n",
              "    }\n",
              "\n",
              "    .dataframe thead th {\n",
              "        text-align: right;\n",
              "    }\n",
              "</style>\n",
              "<table border=\"1\" class=\"dataframe\">\n",
              "  <thead>\n",
              "    <tr style=\"text-align: right;\">\n",
              "      <th></th>\n",
              "      <th></th>\n",
              "      <th>f0</th>\n",
              "      <th>f1</th>\n",
              "      <th>f2</th>\n",
              "      <th>product</th>\n",
              "    </tr>\n",
              "    <tr>\n",
              "      <th>id</th>\n",
              "      <th>region</th>\n",
              "      <th></th>\n",
              "      <th></th>\n",
              "      <th></th>\n",
              "      <th></th>\n",
              "    </tr>\n",
              "  </thead>\n",
              "  <tbody>\n",
              "    <tr>\n",
              "      <th rowspan=\"2\" valign=\"top\">2tyMi</th>\n",
              "      <th>1</th>\n",
              "      <td>0.576679</td>\n",
              "      <td>-0.411140</td>\n",
              "      <td>-3.725859</td>\n",
              "      <td>69.292672</td>\n",
              "    </tr>\n",
              "    <tr>\n",
              "      <th>3</th>\n",
              "      <td>-1.789602</td>\n",
              "      <td>-1.359044</td>\n",
              "      <td>-4.840745</td>\n",
              "      <td>145.901447</td>\n",
              "    </tr>\n",
              "    <tr>\n",
              "      <th>5ltQ6</th>\n",
              "      <th>2</th>\n",
              "      <td>7.389219</td>\n",
              "      <td>-5.052022</td>\n",
              "      <td>2.996832</td>\n",
              "      <td>82.449334</td>\n",
              "    </tr>\n",
              "    <tr>\n",
              "      <th rowspan=\"2\" valign=\"top\">5ssQt</th>\n",
              "      <th>1</th>\n",
              "      <td>-1.005117</td>\n",
              "      <td>0.268726</td>\n",
              "      <td>-0.407822</td>\n",
              "      <td>53.206029</td>\n",
              "    </tr>\n",
              "    <tr>\n",
              "      <th>3</th>\n",
              "      <td>-0.651825</td>\n",
              "      <td>0.782415</td>\n",
              "      <td>2.690636</td>\n",
              "      <td>120.108761</td>\n",
              "    </tr>\n",
              "    <tr>\n",
              "      <th>...</th>\n",
              "      <th>...</th>\n",
              "      <td>...</td>\n",
              "      <td>...</td>\n",
              "      <td>...</td>\n",
              "      <td>...</td>\n",
              "    </tr>\n",
              "    <tr>\n",
              "      <th>uSye4</th>\n",
              "      <th>3</th>\n",
              "      <td>-0.066172</td>\n",
              "      <td>2.543996</td>\n",
              "      <td>-0.054049</td>\n",
              "      <td>141.345070</td>\n",
              "    </tr>\n",
              "    <tr>\n",
              "      <th rowspan=\"2\" valign=\"top\">wqgPo</th>\n",
              "      <th>1</th>\n",
              "      <td>2.009877</td>\n",
              "      <td>-0.119927</td>\n",
              "      <td>5.254332</td>\n",
              "      <td>72.798085</td>\n",
              "    </tr>\n",
              "    <tr>\n",
              "      <th>3</th>\n",
              "      <td>0.052461</td>\n",
              "      <td>1.424025</td>\n",
              "      <td>0.085541</td>\n",
              "      <td>10.686576</td>\n",
              "    </tr>\n",
              "    <tr>\n",
              "      <th>wt4Uk</th>\n",
              "      <th>2</th>\n",
              "      <td>0.584437</td>\n",
              "      <td>-8.742817</td>\n",
              "      <td>2.495991</td>\n",
              "      <td>68.972704</td>\n",
              "    </tr>\n",
              "    <tr>\n",
              "      <th>xCHr8</th>\n",
              "      <th>3</th>\n",
              "      <td>0.392981</td>\n",
              "      <td>1.234965</td>\n",
              "      <td>1.609381</td>\n",
              "      <td>95.254583</td>\n",
              "    </tr>\n",
              "  </tbody>\n",
              "</table>\n",
              "<p>80 rows × 4 columns</p>\n",
              "</div>\n",
              "      <button class=\"colab-df-convert\" onclick=\"convertToInteractive('df-84fa7267-dd85-4266-a48c-05d2672f7bd8')\"\n",
              "              title=\"Convert this dataframe to an interactive table.\"\n",
              "              style=\"display:none;\">\n",
              "        \n",
              "  <svg xmlns=\"http://www.w3.org/2000/svg\" height=\"24px\"viewBox=\"0 0 24 24\"\n",
              "       width=\"24px\">\n",
              "    <path d=\"M0 0h24v24H0V0z\" fill=\"none\"/>\n",
              "    <path d=\"M18.56 5.44l.94 2.06.94-2.06 2.06-.94-2.06-.94-.94-2.06-.94 2.06-2.06.94zm-11 1L8.5 8.5l.94-2.06 2.06-.94-2.06-.94L8.5 2.5l-.94 2.06-2.06.94zm10 10l.94 2.06.94-2.06 2.06-.94-2.06-.94-.94-2.06-.94 2.06-2.06.94z\"/><path d=\"M17.41 7.96l-1.37-1.37c-.4-.4-.92-.59-1.43-.59-.52 0-1.04.2-1.43.59L10.3 9.45l-7.72 7.72c-.78.78-.78 2.05 0 2.83L4 21.41c.39.39.9.59 1.41.59.51 0 1.02-.2 1.41-.59l7.78-7.78 2.81-2.81c.8-.78.8-2.07 0-2.86zM5.41 20L4 18.59l7.72-7.72 1.47 1.35L5.41 20z\"/>\n",
              "  </svg>\n",
              "      </button>\n",
              "      \n",
              "  <style>\n",
              "    .colab-df-container {\n",
              "      display:flex;\n",
              "      flex-wrap:wrap;\n",
              "      gap: 12px;\n",
              "    }\n",
              "\n",
              "    .colab-df-convert {\n",
              "      background-color: #E8F0FE;\n",
              "      border: none;\n",
              "      border-radius: 50%;\n",
              "      cursor: pointer;\n",
              "      display: none;\n",
              "      fill: #1967D2;\n",
              "      height: 32px;\n",
              "      padding: 0 0 0 0;\n",
              "      width: 32px;\n",
              "    }\n",
              "\n",
              "    .colab-df-convert:hover {\n",
              "      background-color: #E2EBFA;\n",
              "      box-shadow: 0px 1px 2px rgba(60, 64, 67, 0.3), 0px 1px 3px 1px rgba(60, 64, 67, 0.15);\n",
              "      fill: #174EA6;\n",
              "    }\n",
              "\n",
              "    [theme=dark] .colab-df-convert {\n",
              "      background-color: #3B4455;\n",
              "      fill: #D2E3FC;\n",
              "    }\n",
              "\n",
              "    [theme=dark] .colab-df-convert:hover {\n",
              "      background-color: #434B5C;\n",
              "      box-shadow: 0px 1px 3px 1px rgba(0, 0, 0, 0.15);\n",
              "      filter: drop-shadow(0px 1px 2px rgba(0, 0, 0, 0.3));\n",
              "      fill: #FFFFFF;\n",
              "    }\n",
              "  </style>\n",
              "\n",
              "      <script>\n",
              "        const buttonEl =\n",
              "          document.querySelector('#df-84fa7267-dd85-4266-a48c-05d2672f7bd8 button.colab-df-convert');\n",
              "        buttonEl.style.display =\n",
              "          google.colab.kernel.accessAllowed ? 'block' : 'none';\n",
              "\n",
              "        async function convertToInteractive(key) {\n",
              "          const element = document.querySelector('#df-84fa7267-dd85-4266-a48c-05d2672f7bd8');\n",
              "          const dataTable =\n",
              "            await google.colab.kernel.invokeFunction('convertToInteractive',\n",
              "                                                     [key], {});\n",
              "          if (!dataTable) return;\n",
              "\n",
              "          const docLinkHtml = 'Like what you see? Visit the ' +\n",
              "            '<a target=\"_blank\" href=https://colab.research.google.com/notebooks/data_table.ipynb>data table notebook</a>'\n",
              "            + ' to learn more about interactive tables.';\n",
              "          element.innerHTML = '';\n",
              "          dataTable['output_type'] = 'display_data';\n",
              "          await google.colab.output.renderOutput(dataTable, element);\n",
              "          const docLink = document.createElement('div');\n",
              "          docLink.innerHTML = docLinkHtml;\n",
              "          element.appendChild(docLink);\n",
              "        }\n",
              "      </script>\n",
              "    </div>\n",
              "  </div>\n",
              "  "
            ]
          },
          "metadata": {},
          "execution_count": 8
        }
      ],
      "source": [
        "df_1['region'] = 1\n",
        "df_2['region'] = 2\n",
        "df_3['region'] = 3\n",
        "df = pd.concat([df_1, df_2, df_3])\n",
        "\n",
        "problem = df.duplicated(subset='id', keep='first').sum() / len(df)\n",
        "print(f\"Количество дубликатов признака id: {problem:.3%}\")\n",
        "\n",
        "df[df['id'].isin(df['id'].value_counts()[df['id'].value_counts() >= 2].index)] \\\n",
        ".pivot_table(index=['id','region'])"
      ]
    },
    {
      "cell_type": "markdown",
      "metadata": {
        "id": "B96RoyuizUJA"
      },
      "source": [
        "### Поиск пропущенных значений"
      ]
    },
    {
      "cell_type": "code",
      "execution_count": 9,
      "metadata": {
        "id": "oJi3IPt9zUJA",
        "outputId": "f1f51565-c16c-4093-a8ce-b0d4e5f31924",
        "colab": {
          "base_uri": "https://localhost:8080/"
        }
      },
      "outputs": [
        {
          "output_type": "stream",
          "name": "stdout",
          "text": [
            "\n",
            "Пропусков в данных первого региона\n",
            "\n",
            "id         0\n",
            "f0         0\n",
            "f1         0\n",
            "f2         0\n",
            "product    0\n",
            "region     0\n",
            "dtype: int64\n",
            "\n",
            "Пропусков в данных второго региона\n",
            "\n",
            "id         0\n",
            "f0         0\n",
            "f1         0\n",
            "f2         0\n",
            "product    0\n",
            "region     0\n",
            "dtype: int64\n",
            "\n",
            "Пропусков в данных третьего региона\n",
            "\n",
            "id         0\n",
            "f0         0\n",
            "f1         0\n",
            "f2         0\n",
            "product    0\n",
            "region     0\n",
            "dtype: int64\n"
          ]
        }
      ],
      "source": [
        "# Проверим количество пропущенных данных в df_1\n",
        "print('\\nПропусков в данных первого региона\\n')\n",
        "print(df_1.isna().sum())\n",
        "\n",
        "# Проверим количество пропущенных данных в df_2\n",
        "print('\\nПропусков в данных второго региона\\n')\n",
        "print(df_2.isna().sum())\n",
        "\n",
        "# Проверим количество пропущенных данных в df_3\n",
        "print('\\nПропусков в данных третьего региона\\n')\n",
        "print(df_3.isna().sum())"
      ]
    },
    {
      "cell_type": "markdown",
      "metadata": {
        "id": "d26GuTFzzUJA"
      },
      "source": [
        "### Гистограммы признаков"
      ]
    },
    {
      "cell_type": "code",
      "execution_count": 10,
      "metadata": {
        "id": "pZwjdrxJzUJA",
        "outputId": "8e5c3c0c-d257-4ebe-8589-906e748eb42e",
        "colab": {
          "base_uri": "https://localhost:8080/",
          "height": 622
        }
      },
      "outputs": [
        {
          "output_type": "display_data",
          "data": {
            "text/plain": [
              "<Figure size 900x700 with 6 Axes>"
            ],
            "image/png": "[encoded data removed]"
          },
          "metadata": {}
        }
      ],
      "source": [
        "# Построим гистограмму признаков для df_1\n",
        "df_1.hist(bins=50, figsize=(9, 7), edgecolor='black', linewidth=2)\n",
        "plt.show()"
      ]
    },
    {
      "cell_type": "code",
      "execution_count": 11,
      "metadata": {
        "scrolled": false,
        "id": "127dVK6hzUJA",
        "outputId": "00006699-895c-4ccd-a974-c466faa5d0ec",
        "colab": {
          "base_uri": "https://localhost:8080/",
          "height": 622
        }
      },
      "outputs": [
        {
          "output_type": "display_data",
          "data": {
            "text/plain": [
              "<Figure size 900x700 with 6 Axes>"
            ],
            "image/png": "[encoded data removed]"
          },
          "metadata": {}
        }
      ],
      "source": [
        "# Построим гистограмму признаков для df_2\n",
        "df_2.hist(bins=50, figsize=(9, 7), edgecolor='black', linewidth=2)\n",
        "plt.show()"
      ]
    },
    {
      "cell_type": "code",
      "execution_count": 12,
      "metadata": {
        "id": "7jXXz4F_zUJA",
        "outputId": "ba684f87-deef-4588-c91e-3090ced4f608",
        "colab": {
          "base_uri": "https://localhost:8080/",
          "height": 622
        }
      },
      "outputs": [
        {
          "output_type": "display_data",
          "data": {
            "text/plain": [
              "<Figure size 900x700 with 6 Axes>"
            ],
            "image/png": "[encoded data removed]"
          },
          "metadata": {}
        }
      ],
      "source": [
        "# Построим гистограмму признаков для df_3\n",
        "df_3.hist(bins=50, figsize=(9, 7), edgecolor='black', linewidth=2)\n",
        "plt.show()"
      ]
    },
    {
      "cell_type": "markdown",
      "metadata": {
        "id": "cicV_JFjzUJA"
      },
      "source": [
        "### Краткий вывод\n",
        "\n",
        "В первой части нашего исследования мы сохранили предоставленные нам данные по регионам в соответствующие переменные, проверили на отсутсвие явных пропусков и пропусков. Проверив данные на мультиколлинеарность, видим среднее положительное влияние признаков f2 и product в регионах 1 и 3, но сильное положительное влияние в регионе 2. Относительно региона 2 - это также проявляется и на гистограммах распределения."
      ]
    },
    {
      "cell_type": "markdown",
      "metadata": {
        "id": "KdPRcPXezUJA"
      },
      "source": [
        "## Обучение и проверка модели"
      ]
    },
    {
      "cell_type": "markdown",
      "metadata": {
        "id": "FJ59tk1YzUJA"
      },
      "source": [
        "### Создание функции обучения модели"
      ]
    },
    {
      "cell_type": "code",
      "execution_count": 13,
      "metadata": {
        "id": "CxsqQSRbzUJA"
      },
      "outputs": [],
      "source": [
        "# Примем значение аргумента random_state в переменной STATE\n",
        "STATE = np.random.RandomState(1234)\n",
        "\n",
        "def split_scale_learn(df):\n",
        "\n",
        "    '''\n",
        "        Функция принимает на вход датасет и производит с ним полный цикл,\n",
        "         - разбиение на выборки,\n",
        "         - масштабирование численных признаков,\n",
        "         - обучение модели,\n",
        "         - оценка качества модели\n",
        "    '''\n",
        "\n",
        "    # Делим данные на target и features\n",
        "    target = df['product']\n",
        "    features = df.drop(['id', 'product'], axis=1)\n",
        "\n",
        "    # Делим данные на обучающую и валидационную выборки\n",
        "    features_train, features_valid, target_train, target_valid = train_test_split(\n",
        "        features,\n",
        "        target,\n",
        "        test_size=0.25,\n",
        "        random_state=STATE)\n",
        "\n",
        "    # Масштабируем признаки\n",
        "    numeric = ['f0', 'f1', 'f2']\n",
        "\n",
        "    scaler = StandardScaler()\n",
        "    scaler.fit(features_train[numeric])\n",
        "\n",
        "    pd.options.mode.chained_assignment = None\n",
        "\n",
        "    features_train[numeric] = scaler.transform(features_train[numeric])\n",
        "    features_valid[numeric] = scaler.transform(features_valid[numeric])\n",
        "\n",
        "    # Обучаем модель\n",
        "    model = LinearRegression()\n",
        "    model.fit(features_train, target_train)\n",
        "    predicted = model.predict(features_valid)\n",
        "\n",
        "    # Оцениваем модель\n",
        "    rmse = mean_squared_error(predicted, target_valid) ** .5\n",
        "\n",
        "    return rmse, predicted, features_train, features_valid, target_valid"
      ]
    },
    {
      "cell_type": "markdown",
      "metadata": {
        "id": "UBP9J-tyzUJQ"
      },
      "source": [
        "### Обучение модели"
      ]
    },
    {
      "cell_type": "code",
      "execution_count": 14,
      "metadata": {
        "id": "bGop6k71zUJQ"
      },
      "outputs": [],
      "source": [
        "# Вызов функции и сохранение переменных для региона 1\n",
        "rmse_1, predicted_1, features_1_train, features_1_valid, target_1_valid = split_scale_learn(df_1)\n",
        "\n",
        "# Вызов функции и сохранение переменных для региона 2\n",
        "rmse_2, predicted_2, features_2_train, features_2_valid, target_2_valid = split_scale_learn(df_2)\n",
        "\n",
        "# Вызов функции и сохранение переменных для региона 3\n",
        "rmse_3, predicted_3, features_3_train, features_3_valid, target_3_valid = split_scale_learn(df_3)"
      ]
    },
    {
      "cell_type": "markdown",
      "metadata": {
        "id": "p1andmeDzUJQ"
      },
      "source": [
        "### Вывод результатов"
      ]
    },
    {
      "cell_type": "code",
      "execution_count": 15,
      "metadata": {
        "id": "iWAzbh_6zUJQ",
        "outputId": "a532db94-eb98-40fc-8a94-776f3a94fc70",
        "colab": {
          "base_uri": "https://localhost:8080/"
        }
      },
      "outputs": [
        {
          "output_type": "stream",
          "name": "stdout",
          "text": [
            "Регион 1:\n",
            "\n",
            "\tКоличество строк в обучающей выборке: 75000, или 75.0% от исходных данных\n",
            "\tКоличество строк в валидационной выборке: 25000, или 25.0% от исходных данных\n",
            "\tСредний предсказанный запас сырья: 92.430\n",
            "\tСредний истинный запас сырья: 92.500\n",
            "\tRMSE модели: 37.56\n",
            "\n",
            "Регион 2:\n",
            "\n",
            "\tКоличество строк в обучающей выборке: 75000, или 75.0% от исходных данных\n",
            "\tКоличество строк в валидационной выборке: 25000, или 25.0% от исходных данных\n",
            "\tСредний предсказанный запас сырья: 68.983\n",
            "\tСредний истинный запас сырья: 68.825\n",
            "\tRMSE модели: 0.89\n",
            "\n",
            "Регион 3:\n",
            "\n",
            "\tКоличество строк в обучающей выборке: 75000, или 75.0% от исходных данных\n",
            "\tКоличество строк в валидационной выборке: 25000, или 25.0% от исходных данных\n",
            "\tСредний предсказанный запас сырья: 94.779\n",
            "\tСредний истинный запас сырья: 95.000\n",
            "\tRMSE модели: 40.12\n"
          ]
        }
      ],
      "source": [
        "print(f'Регион 1:\\n')\n",
        "print(f'\\tКоличество строк в обучающей выборке: {features_1_train.shape[0]}, или {(len(features_1_train) / len(df_1)):.1%} от исходных данных')\n",
        "print(f'\\tКоличество строк в валидационной выборке: {features_1_valid.shape[0]}, или {(len(features_1_valid) / len(df_1)):.1%} от исходных данных')\n",
        "print(f'\\tСредний предсказанный запас сырья: {predicted_1.mean():.3f}')\n",
        "print(f'\\tСредний истинный запас сырья: {df_1[\"product\"].mean():.3f}')\n",
        "print(f'\\tRMSE модели: {rmse_1:.2f}')\n",
        "\n",
        "print(f'\\nРегион 2:\\n')\n",
        "print(f'\\tКоличество строк в обучающей выборке: {features_2_train.shape[0]}, или {(len(features_2_train) / len(df_2)):.1%} от исходных данных')\n",
        "print(f'\\tКоличество строк в валидационной выборке: {features_2_valid.shape[0]}, или {(len(features_2_valid) / len(df_2)):.1%} от исходных данных')\n",
        "print(f'\\tСредний предсказанный запас сырья: {predicted_2.mean():.3f}')\n",
        "print(f'\\tСредний истинный запас сырья: {df_2[\"product\"].mean():.3f}')\n",
        "print(f'\\tRMSE модели: {rmse_2:.2f}')\n",
        "\n",
        "print(f'\\nРегион 3:\\n')\n",
        "print(f'\\tКоличество строк в обучающей выборке: {features_3_train.shape[0]}, или {(len(features_3_train) / len(df_3)):.1%} от исходных данных')\n",
        "print(f'\\tКоличество строк в валидационной выборке: {features_3_valid.shape[0]}, или {(len(features_3_valid) / len(df_3)):.1%} от исходных данных')\n",
        "print(f'\\tСредний предсказанный запас сырья: {predicted_3.mean():.3f}')\n",
        "print(f'\\tСредний истинный запас сырья: {df_3[\"product\"].mean():.3f}')\n",
        "print(f'\\tRMSE модели: {rmse_3:.2f}')"
      ]
    },
    {
      "cell_type": "markdown",
      "metadata": {
        "id": "FkZPBrw7zUJQ"
      },
      "source": [
        "### Анализ результатов\n",
        "\n",
        "Во второй части исследования мы разбили исходные данные на обучающую и валидационную выборки. Вычислили показатели среднего предсказанного запаса сырья и оценили качество модели с помощью метрики RMSE. Данная метрика вычисляет квадратный корень из значения средней квадратичной ошибки, что позволяет оценивать величину ошибки в понятных единицах измерения.\n",
        "\n",
        "Согласно предсказаниям построенных моделей для каждого региона, средний запас предсказанного сырья больше в третьем регионе - модель предсказала залежи в 94.916 тыс. баррелей. В первом регионе запасы сопоставимы - 92.43 тыс. баррелей. Третий регион показал самые низкие значения - 68.802 тыс. баррелей."
      ]
    },
    {
      "cell_type": "code",
      "execution_count": 16,
      "metadata": {
        "id": "s29uiMODzUJQ",
        "outputId": "146400ed-ae5c-4499-eb57-e53e9e28db89",
        "colab": {
          "base_uri": "https://localhost:8080/"
        }
      },
      "outputs": [
        {
          "output_type": "stream",
          "name": "stdout",
          "text": [
            "Количество уникальных значений запасов сырья в регионе: 100000\n",
            "Количество уникальных значений запасов сырья в регионе: 12\n",
            "Количество уникальных значений запасов сырья в регионе: 100000\n"
          ]
        }
      ],
      "source": [
        "print('Количество уникальных значений запасов сырья в регионе:', df_1['product'].nunique())\n",
        "print('Количество уникальных значений запасов сырья в регионе:', df_2['product'].nunique())\n",
        "print('Количество уникальных значений запасов сырья в регионе:', df_3['product'].nunique())"
      ]
    },
    {
      "cell_type": "markdown",
      "metadata": {
        "id": "7QuhiW3zzUJQ"
      },
      "source": [
        "## Подготовка к расчёту прибыли"
      ]
    },
    {
      "cell_type": "markdown",
      "metadata": {
        "id": "y_gNlTY4zUJQ"
      },
      "source": [
        "### Определим ключевые значения"
      ]
    },
    {
      "cell_type": "code",
      "execution_count": 17,
      "metadata": {
        "id": "TFeap43YzUJQ"
      },
      "outputs": [],
      "source": [
        "BUDGET = 10000000000\n",
        "POINTS = 500\n",
        "POINTS_PER_BUDGET = 200\n",
        "INCOME_PER_UNIT = 450000"
      ]
    },
    {
      "cell_type": "markdown",
      "metadata": {
        "id": "mg4QQcW7zUJQ"
      },
      "source": [
        "### Определение величины запаса сырья для безубыточной разработки"
      ]
    },
    {
      "cell_type": "code",
      "execution_count": 18,
      "metadata": {
        "id": "U7IvoX__zUJQ",
        "outputId": "25d93af9-b43d-4564-89ae-d55e1c719cf3",
        "colab": {
          "base_uri": "https://localhost:8080/"
        }
      },
      "outputs": [
        {
          "output_type": "stream",
          "name": "stdout",
          "text": [
            "Для безубыточной разработки одной скважины необходимо 111.0 тыс. баррелей\n"
          ]
        }
      ],
      "source": [
        "# Бюджет на разработку скважины\n",
        "COST_PER_UNIT = BUDGET / POINTS_PER_BUDGET\n",
        "\n",
        "# Достаточный объем сырья для безубыточной разработки\n",
        "LOSSLESS_POINT = COST_PER_UNIT / INCOME_PER_UNIT\n",
        "\n",
        "print(f'Для безубыточной разработки одной скважины необходимо {round(LOSSLESS_POINT, 0)} тыс. баррелей')"
      ]
    },
    {
      "cell_type": "markdown",
      "metadata": {
        "id": "iuCyKd9KzUJf"
      },
      "source": [
        "### Краткий вывод\n",
        "\n",
        "Судя по данным полученным в третьей части исследования, для безубыточной разработки скважины необходим запас в 111 тыс. баррелей. В предыдущей части мы определили среднее предсказанное значение добычи нефти по регионам. Во всех трех регионах, средние показатели меньше безубыточных"
      ]
    },
    {
      "cell_type": "markdown",
      "metadata": {
        "id": "aX9C4JJLzUJf"
      },
      "source": [
        "## Расчёт прибыли и рисков"
      ]
    },
    {
      "cell_type": "markdown",
      "metadata": {
        "id": "EBqpqL4szUJf"
      },
      "source": [
        "### Создание функции расчета прибыли"
      ]
    },
    {
      "cell_type": "code",
      "execution_count": 19,
      "metadata": {
        "id": "SK9Dp3ZZzUJf"
      },
      "outputs": [],
      "source": [
        "def profit(predictions, target):\n",
        "\n",
        "    '''\n",
        "        Функция принимает на вход набор предсказаний и целевого\n",
        "        признака валидационной выборки каждого региона\n",
        "        и производит расчет прибыли от строительства скважины\n",
        "    '''\n",
        "    # Отсортируем предсказанные данные по убыванию\n",
        "    probs_sorted = pd.Series(predictions).sort_values(ascending=False)\n",
        "\n",
        "    # Выберем 200 точек с самым высоким значением запасов нефти\n",
        "    top_target = target[probs_sorted.index][:POINTS_PER_BUDGET]\n",
        "\n",
        "    # Вычислим значение прибыли по этим точкам\n",
        "    revenue = top_target.sum() * INCOME_PER_UNIT\n",
        "\n",
        "    return revenue - BUDGET"
      ]
    },
    {
      "cell_type": "markdown",
      "metadata": {
        "id": "Jrz53hJozUJf"
      },
      "source": [
        "### Создание функции расчета целевых показателей"
      ]
    },
    {
      "cell_type": "code",
      "execution_count": 20,
      "metadata": {
        "id": "fbii7k_ZzUJf"
      },
      "outputs": [],
      "source": [
        "def mean_rev_interval_risk(predictions, target):\n",
        "\n",
        "    '''\n",
        "        Функция применяет технику Bootstrap с 1000 выборок\n",
        "        предсказанных значений по каждому региону\n",
        "        для распределение прибыли\n",
        "    '''\n",
        "\n",
        "    values = []\n",
        "\n",
        "    # Заведем цикл перебора для выборок Bootstrap\n",
        "    for _ in range(1000):\n",
        "        predictions_sample = pd.Series(predictions).sample(n=POINTS, replace=True, random_state=STATE)\n",
        "        values.append(profit(predictions_sample, target.reset_index(drop=True)))\n",
        "\n",
        "    # Запишем значение распределения выборок в объект Series\n",
        "    values = pd.Series(values)\n",
        "\n",
        "    # Определим целевые показатели\n",
        "    lower = values.quantile(.025)\n",
        "    upper = values.quantile(.975)\n",
        "    mean_revenue = sum(values) / len(values)\n",
        "    risk_loss = len(values[values<0])/len(values)\n",
        "\n",
        "    return mean_revenue, lower, upper, risk_loss, values"
      ]
    },
    {
      "cell_type": "code",
      "execution_count": 21,
      "metadata": {
        "id": "qIkBzWUEzUJf"
      },
      "outputs": [],
      "source": [
        "mean_1, lower_1, upper_1, risk_loss_1, values_1 = mean_rev_interval_risk(predicted_1, target_1_valid)\n",
        "mean_2, lower_2, upper_2, risk_loss_2, values_2 = mean_rev_interval_risk(predicted_2, target_2_valid)\n",
        "mean_3, lower_3, upper_3, risk_loss_3, values_3 = mean_rev_interval_risk(predicted_3, target_3_valid)"
      ]
    },
    {
      "cell_type": "code",
      "execution_count": 22,
      "metadata": {
        "id": "FzjW6-JizUJf",
        "outputId": "0cf486fc-3c01-4864-f923-2725d82bc252",
        "colab": {
          "base_uri": "https://localhost:8080/",
          "height": 424
        }
      },
      "outputs": [
        {
          "output_type": "execute_result",
          "data": {
            "text/plain": [
              "         Регион 1      Регион 2      Регион 3\n",
              "0    5.185387e+08  4.106971e+08  3.496152e+08\n",
              "1    3.166419e+06  5.183650e+08  3.097591e+08\n",
              "2    4.950823e+08  6.817639e+08  3.240679e+08\n",
              "3   -1.109909e+07  2.422599e+08  5.249475e+08\n",
              "4    5.127952e+08  6.439464e+08  5.648771e+08\n",
              "..            ...           ...           ...\n",
              "995  2.377468e+08  6.560754e+08  5.096311e+08\n",
              "996  5.461740e+08  4.834087e+08  5.039023e+08\n",
              "997  4.578776e+08  4.327780e+08  2.053733e+08\n",
              "998  3.576915e+08  7.238110e+08  8.418853e+07\n",
              "999  4.933090e+08  6.218655e+08  5.613846e+08\n",
              "\n",
              "[1000 rows x 3 columns]"
            ],
            "text/html": [
              "\n",
              "  <div id=\"df-d0adbc8f-e94f-4573-8850-be02e7b21a63\">\n",
              "    <div class=\"colab-df-container\">\n",
              "      <div>\n",
              "<style scoped>\n",
              "    .dataframe tbody tr th:only-of-type {\n",
              "        vertical-align: middle;\n",
              "    }\n",
              "\n",
              "    .dataframe tbody tr th {\n",
              "        vertical-align: top;\n",
              "    }\n",
              "\n",
              "    .dataframe thead th {\n",
              "        text-align: right;\n",
              "    }\n",
              "</style>\n",
              "<table border=\"1\" class=\"dataframe\">\n",
              "  <thead>\n",
              "    <tr style=\"text-align: right;\">\n",
              "      <th></th>\n",
              "      <th>Регион 1</th>\n",
              "      <th>Регион 2</th>\n",
              "      <th>Регион 3</th>\n",
              "    </tr>\n",
              "  </thead>\n",
              "  <tbody>\n",
              "    <tr>\n",
              "      <th>0</th>\n",
              "      <td>5.185387e+08</td>\n",
              "      <td>4.106971e+08</td>\n",
              "      <td>3.496152e+08</td>\n",
              "    </tr>\n",
              "    <tr>\n",
              "      <th>1</th>\n",
              "      <td>3.166419e+06</td>\n",
              "      <td>5.183650e+08</td>\n",
              "      <td>3.097591e+08</td>\n",
              "    </tr>\n",
              "    <tr>\n",
              "      <th>2</th>\n",
              "      <td>4.950823e+08</td>\n",
              "      <td>6.817639e+08</td>\n",
              "      <td>3.240679e+08</td>\n",
              "    </tr>\n",
              "    <tr>\n",
              "      <th>3</th>\n",
              "      <td>-1.109909e+07</td>\n",
              "      <td>2.422599e+08</td>\n",
              "      <td>5.249475e+08</td>\n",
              "    </tr>\n",
              "    <tr>\n",
              "      <th>4</th>\n",
              "      <td>5.127952e+08</td>\n",
              "      <td>6.439464e+08</td>\n",
              "      <td>5.648771e+08</td>\n",
              "    </tr>\n",
              "    <tr>\n",
              "      <th>...</th>\n",
              "      <td>...</td>\n",
              "      <td>...</td>\n",
              "      <td>...</td>\n",
              "    </tr>\n",
              "    <tr>\n",
              "      <th>995</th>\n",
              "      <td>2.377468e+08</td>\n",
              "      <td>6.560754e+08</td>\n",
              "      <td>5.096311e+08</td>\n",
              "    </tr>\n",
              "    <tr>\n",
              "      <th>996</th>\n",
              "      <td>5.461740e+08</td>\n",
              "      <td>4.834087e+08</td>\n",
              "      <td>5.039023e+08</td>\n",
              "    </tr>\n",
              "    <tr>\n",
              "      <th>997</th>\n",
              "      <td>4.578776e+08</td>\n",
              "      <td>4.327780e+08</td>\n",
              "      <td>2.053733e+08</td>\n",
              "    </tr>\n",
              "    <tr>\n",
              "      <th>998</th>\n",
              "      <td>3.576915e+08</td>\n",
              "      <td>7.238110e+08</td>\n",
              "      <td>8.418853e+07</td>\n",
              "    </tr>\n",
              "    <tr>\n",
              "      <th>999</th>\n",
              "      <td>4.933090e+08</td>\n",
              "      <td>6.218655e+08</td>\n",
              "      <td>5.613846e+08</td>\n",
              "    </tr>\n",
              "  </tbody>\n",
              "</table>\n",
              "<p>1000 rows × 3 columns</p>\n",
              "</div>\n",
              "      <button class=\"colab-df-convert\" onclick=\"convertToInteractive('df-d0adbc8f-e94f-4573-8850-be02e7b21a63')\"\n",
              "              title=\"Convert this dataframe to an interactive table.\"\n",
              "              style=\"display:none;\">\n",
              "        \n",
              "  <svg xmlns=\"http://www.w3.org/2000/svg\" height=\"24px\"viewBox=\"0 0 24 24\"\n",
              "       width=\"24px\">\n",
              "    <path d=\"M0 0h24v24H0V0z\" fill=\"none\"/>\n",
              "    <path d=\"M18.56 5.44l.94 2.06.94-2.06 2.06-.94-2.06-.94-.94-2.06-.94 2.06-2.06.94zm-11 1L8.5 8.5l.94-2.06 2.06-.94-2.06-.94L8.5 2.5l-.94 2.06-2.06.94zm10 10l.94 2.06.94-2.06 2.06-.94-2.06-.94-.94-2.06-.94 2.06-2.06.94z\"/><path d=\"M17.41 7.96l-1.37-1.37c-.4-.4-.92-.59-1.43-.59-.52 0-1.04.2-1.43.59L10.3 9.45l-7.72 7.72c-.78.78-.78 2.05 0 2.83L4 21.41c.39.39.9.59 1.41.59.51 0 1.02-.2 1.41-.59l7.78-7.78 2.81-2.81c.8-.78.8-2.07 0-2.86zM5.41 20L4 18.59l7.72-7.72 1.47 1.35L5.41 20z\"/>\n",
              "  </svg>\n",
              "      </button>\n",
              "      \n",
              "  <style>\n",
              "    .colab-df-container {\n",
              "      display:flex;\n",
              "      flex-wrap:wrap;\n",
              "      gap: 12px;\n",
              "    }\n",
              "\n",
              "    .colab-df-convert {\n",
              "      background-color: #E8F0FE;\n",
              "      border: none;\n",
              "      border-radius: 50%;\n",
              "      cursor: pointer;\n",
              "      display: none;\n",
              "      fill: #1967D2;\n",
              "      height: 32px;\n",
              "      padding: 0 0 0 0;\n",
              "      width: 32px;\n",
              "    }\n",
              "\n",
              "    .colab-df-convert:hover {\n",
              "      background-color: #E2EBFA;\n",
              "      box-shadow: 0px 1px 2px rgba(60, 64, 67, 0.3), 0px 1px 3px 1px rgba(60, 64, 67, 0.15);\n",
              "      fill: #174EA6;\n",
              "    }\n",
              "\n",
              "    [theme=dark] .colab-df-convert {\n",
              "      background-color: #3B4455;\n",
              "      fill: #D2E3FC;\n",
              "    }\n",
              "\n",
              "    [theme=dark] .colab-df-convert:hover {\n",
              "      background-color: #434B5C;\n",
              "      box-shadow: 0px 1px 3px 1px rgba(0, 0, 0, 0.15);\n",
              "      filter: drop-shadow(0px 1px 2px rgba(0, 0, 0, 0.3));\n",
              "      fill: #FFFFFF;\n",
              "    }\n",
              "  </style>\n",
              "\n",
              "      <script>\n",
              "        const buttonEl =\n",
              "          document.querySelector('#df-d0adbc8f-e94f-4573-8850-be02e7b21a63 button.colab-df-convert');\n",
              "        buttonEl.style.display =\n",
              "          google.colab.kernel.accessAllowed ? 'block' : 'none';\n",
              "\n",
              "        async function convertToInteractive(key) {\n",
              "          const element = document.querySelector('#df-d0adbc8f-e94f-4573-8850-be02e7b21a63');\n",
              "          const dataTable =\n",
              "            await google.colab.kernel.invokeFunction('convertToInteractive',\n",
              "                                                     [key], {});\n",
              "          if (!dataTable) return;\n",
              "\n",
              "          const docLinkHtml = 'Like what you see? Visit the ' +\n",
              "            '<a target=\"_blank\" href=https://colab.research.google.com/notebooks/data_table.ipynb>data table notebook</a>'\n",
              "            + ' to learn more about interactive tables.';\n",
              "          element.innerHTML = '';\n",
              "          dataTable['output_type'] = 'display_data';\n",
              "          await google.colab.output.renderOutput(dataTable, element);\n",
              "          const docLink = document.createElement('div');\n",
              "          docLink.innerHTML = docLinkHtml;\n",
              "          element.appendChild(docLink);\n",
              "        }\n",
              "      </script>\n",
              "    </div>\n",
              "  </div>\n",
              "  "
            ]
          },
          "metadata": {},
          "execution_count": 22
        }
      ],
      "source": [
        "values_result = pd.DataFrame({'Регион 1': values_1,\n",
        "                              'Регион 2': values_2,\n",
        "                              'Регион 3': values_3})\n",
        "values_result"
      ]
    },
    {
      "cell_type": "markdown",
      "metadata": {
        "id": "v2BVAjjzzUJf"
      },
      "source": [
        "### Определение показателей прибыли для региона 1"
      ]
    },
    {
      "cell_type": "code",
      "execution_count": 23,
      "metadata": {
        "id": "uZSQWeXQzUJf",
        "outputId": "91115145-29a5-42e6-adf2-2bf014530dc3",
        "colab": {
          "base_uri": "https://localhost:8080/"
        }
      },
      "outputs": [
        {
          "output_type": "stream",
          "name": "stdout",
          "text": [
            "Регион 1:\n",
            "\n",
            "\tСредняя прибыль: 392853884.51\n",
            "\tДоверительный интервал: -120448195.90 - 899077102.22\n",
            "\tРиск убытков: 6.10%\n"
          ]
        }
      ],
      "source": [
        "print('Регион 1:\\n')\n",
        "print(f'\\tСредняя прибыль: {mean_1:.2f}')\n",
        "print(f'\\tДоверительный интервал: {lower_1:.2f} - {upper_1:.2f}')\n",
        "print(f'\\tРиск убытков: {risk_loss_1:.2%}')"
      ]
    },
    {
      "cell_type": "markdown",
      "metadata": {
        "id": "c35aUlNYzUJf"
      },
      "source": [
        "### Определение показателей прибыли для региона 2"
      ]
    },
    {
      "cell_type": "code",
      "execution_count": 24,
      "metadata": {
        "id": "GECjn0l2zUJf",
        "outputId": "0abadaa7-40d8-45e6-b20b-356230eeeda8",
        "colab": {
          "base_uri": "https://localhost:8080/"
        }
      },
      "outputs": [
        {
          "output_type": "stream",
          "name": "stdout",
          "text": [
            "Регион 2:\n",
            "\n",
            "\tСредняя прибыль: 458572160.61\n",
            "\tДоверительный интервал: 65141235.38 - 858678931.73\n",
            "\tРиск убытков: 0.60%\n"
          ]
        }
      ],
      "source": [
        "print('Регион 2:\\n')\n",
        "print(f'\\tСредняя прибыль: {mean_2:.2f}')\n",
        "print(f'\\tДоверительный интервал: {lower_2:.2f} - {upper_2:.2f}')\n",
        "print(f'\\tРиск убытков: {risk_loss_2:.2%}')"
      ]
    },
    {
      "cell_type": "markdown",
      "metadata": {
        "id": "XgcqNxVLzUJf"
      },
      "source": [
        "### Определение показателей прибыли для региона 3"
      ]
    },
    {
      "cell_type": "code",
      "execution_count": 25,
      "metadata": {
        "id": "VTKa5SPbzUJf",
        "outputId": "469c6e48-f4d3-4aaf-e526-ae9c314b83b7",
        "colab": {
          "base_uri": "https://localhost:8080/"
        }
      },
      "outputs": [
        {
          "output_type": "stream",
          "name": "stdout",
          "text": [
            "Регион 3:\n",
            "\n",
            "\tСредняя прибыль: 381761274.44\n",
            "\tДоверительный интервал: -156487445.47 - 873879619.54\n",
            "\tРиск убытков: 7.80%\n"
          ]
        }
      ],
      "source": [
        "print('Регион 3:\\n')\n",
        "print(f'\\tСредняя прибыль: {mean_3:.2f}')\n",
        "print(f'\\tДоверительный интервал: {lower_3:.2f} - {upper_3:.2f}')\n",
        "print(f'\\tРиск убытков: {risk_loss_3:.2%}')"
      ]
    },
    {
      "cell_type": "code",
      "execution_count": 26,
      "metadata": {
        "id": "bWYS5WOBzUJf",
        "outputId": "3e39c870-d259-4ea4-b9e4-5970929f2129",
        "colab": {
          "base_uri": "https://localhost:8080/",
          "height": 410
        }
      },
      "outputs": [
        {
          "output_type": "display_data",
          "data": {
            "text/plain": [
              "<Figure size 1200x400 with 1 Axes>"
            ],
            "image/png": "[encoded data removed]"
          },
          "metadata": {}
        }
      ],
      "source": [
        "plt.figure(figsize=(12, 4))\n",
        "sns.boxplot(data=values_result, whis=0.95, orient='h')\n",
        "plt.title('Диаграмма распределения прибыли')\n",
        "plt.xlabel('Прибыль, млрд. руб')\n",
        "plt.show();"
      ]
    },
    {
      "cell_type": "markdown",
      "metadata": {
        "id": "q4HL1re1zUJf"
      },
      "source": [
        "### Краткий вывод\n",
        "\n",
        "В результате расчетов получены следующие результаты:\n",
        "    - Риск убытков во втором регионе - самый низкий и составляет 0.6%. В 1 и 3 регионе этот показатель составил 6.1% и 7.8%, соответственно\n",
        "    - Средныы прибыль во втором регионе - самая высокая и составляет, примерно, 459 млн. рублей. В 1 и 3 регионе этот показатель составил 393 млн. и 382 млн. рублей, соответственно\n",
        "    \n",
        "***На основании этих данных, предлагаем остановиться на выборе региона №2 для строительства новых скважин***"
      ]
    },
    {
      "cell_type": "markdown",
      "metadata": {
        "id": "dHgNZongzUJv"
      },
      "source": [
        "## Вывод\n",
        "\n",
        "В данном исследовании, на основании данных проб нефти из трех регионов нам нужно было решить, в каком из регионов наиболее эффективно бурить новую скважину.\n",
        "\n",
        "В первой части исследования мы загрузили данные, предоставленные компанией и сохранили в соответствующие переменные, рассмотрели общую информацию о данных, произвели проверку данных на явные дубликаты и пропущенные значения.\n",
        "\n",
        "Во второй части, при помощи созданный функции, произвели разделение датасетов на обучающие признаки (features) и целевой (target) признаки, масштабировали числовые признаки в обучающих выборках и обучили модели линейной регрессии по данным каждого региона. В результате работы модели получили следующие результаты о качестве модели: средний запас сырья в регионах 1 и 3 оказались, примерно, на одном уровне - 94430 и 94779 баррелей, соответственно, а в регионе 2 - 68983 баррелей. Однако, по метрике RMSE - лучший результат, как раз у региона 1 (0.89). Регоны  1 и 3 - 37.56 и 40.12, соответственно.\n",
        "\n",
        "В третей части исследования мы определили ключевые значения и определили значение запасов для безубыточного строительства скважины - 111 тыс. баррелей -, что не соответсвтвует средним показателям по регионам.\n",
        "\n",
        "В четвертой части, при помощи техники Bootstrap разделили предсказанные значения каждого региона на 1000 выборок по 500 скважин в каждой, чтобы определить распределение прибыли. Далее определили 200 самых прибыльных скважин в каждом регионе и для них вычислили среднюю прибыль, 95%-й доверительный интервал и риск убытков.\n",
        "\n",
        "В результате полученных данных предложили регион для строительства скважины с наименьшим риском убытка. Таким регионом оказался регион 2 со значением доли убыточного строительства 0.6%"
      ]
    }
  ],
  "metadata": {
    "ExecuteTimeLog": [
      {
        "duration": 380,
        "start_time": "2023-03-05T12:45:30.452Z"
      },
      {
        "duration": 1590,
        "start_time": "2023-03-05T12:45:32.060Z"
      },
      {
        "duration": 60,
        "start_time": "2023-03-05T12:45:35.620Z"
      },
      {
        "duration": 27,
        "start_time": "2023-03-05T12:46:08.001Z"
      },
      {
        "duration": 19,
        "start_time": "2023-03-05T12:46:46.774Z"
      },
      {
        "duration": 19,
        "start_time": "2023-03-05T12:49:10.979Z"
      },
      {
        "duration": 18,
        "start_time": "2023-03-05T12:54:29.410Z"
      },
      {
        "duration": 18,
        "start_time": "2023-03-05T12:54:55.317Z"
      },
      {
        "duration": 18,
        "start_time": "2023-03-05T12:55:17.521Z"
      },
      {
        "duration": 19,
        "start_time": "2023-03-05T12:55:33.711Z"
      },
      {
        "duration": 1069,
        "start_time": "2023-03-05T13:05:00.180Z"
      },
      {
        "duration": 329,
        "start_time": "2023-03-05T13:05:03.586Z"
      },
      {
        "duration": 21,
        "start_time": "2023-03-05T13:05:06.846Z"
      },
      {
        "duration": 21,
        "start_time": "2023-03-05T13:05:25.867Z"
      },
      {
        "duration": 21,
        "start_time": "2023-03-05T13:05:41.882Z"
      },
      {
        "duration": 148,
        "start_time": "2023-03-05T13:09:25.556Z"
      },
      {
        "duration": 102,
        "start_time": "2023-03-05T13:15:36.963Z"
      },
      {
        "duration": 9,
        "start_time": "2023-03-05T13:15:45.961Z"
      },
      {
        "duration": 26,
        "start_time": "2023-03-05T13:16:25.473Z"
      },
      {
        "duration": 1132,
        "start_time": "2023-03-05T13:18:45.903Z"
      },
      {
        "duration": 28,
        "start_time": "2023-03-05T13:19:24.195Z"
      },
      {
        "duration": 321,
        "start_time": "2023-03-05T13:20:15.000Z"
      },
      {
        "duration": 1358,
        "start_time": "2023-03-05T13:21:17.367Z"
      },
      {
        "duration": 370,
        "start_time": "2023-03-05T13:21:18.728Z"
      },
      {
        "duration": 28,
        "start_time": "2023-03-05T13:21:19.100Z"
      },
      {
        "duration": 148,
        "start_time": "2023-03-05T13:21:19.130Z"
      },
      {
        "duration": 26,
        "start_time": "2023-03-05T13:21:19.280Z"
      },
      {
        "duration": 118,
        "start_time": "2023-03-05T13:21:19.308Z"
      },
      {
        "duration": 76,
        "start_time": "2023-03-05T13:21:19.427Z"
      },
      {
        "duration": 108,
        "start_time": "2023-03-05T13:21:19.505Z"
      },
      {
        "duration": 42,
        "start_time": "2023-03-05T13:21:19.614Z"
      },
      {
        "duration": 308,
        "start_time": "2023-03-05T13:21:19.658Z"
      },
      {
        "duration": 101,
        "start_time": "2023-03-05T13:24:57.815Z"
      },
      {
        "duration": 18,
        "start_time": "2023-03-05T13:25:14.424Z"
      },
      {
        "duration": 22,
        "start_time": "2023-03-05T13:25:38.785Z"
      },
      {
        "duration": 21,
        "start_time": "2023-03-05T13:31:51.765Z"
      },
      {
        "duration": 17,
        "start_time": "2023-03-05T13:32:03.405Z"
      },
      {
        "duration": 19,
        "start_time": "2023-03-05T13:32:32.068Z"
      },
      {
        "duration": 20,
        "start_time": "2023-03-05T13:32:42.203Z"
      },
      {
        "duration": 28,
        "start_time": "2023-03-05T13:34:16.981Z"
      },
      {
        "duration": 29,
        "start_time": "2023-03-05T13:34:42.271Z"
      },
      {
        "duration": 19,
        "start_time": "2023-03-05T13:34:52.732Z"
      },
      {
        "duration": 7,
        "start_time": "2023-03-05T13:46:33.388Z"
      },
      {
        "duration": 8,
        "start_time": "2023-03-05T13:48:57.188Z"
      },
      {
        "duration": 9,
        "start_time": "2023-03-05T13:48:59.573Z"
      },
      {
        "duration": 18,
        "start_time": "2023-03-05T13:49:01.270Z"
      },
      {
        "duration": 16,
        "start_time": "2023-03-05T13:51:56.803Z"
      },
      {
        "duration": 10,
        "start_time": "2023-03-05T13:52:32.224Z"
      },
      {
        "duration": 50,
        "start_time": "2023-03-05T13:52:36.707Z"
      },
      {
        "duration": 40,
        "start_time": "2023-03-05T13:53:37.800Z"
      },
      {
        "duration": 31,
        "start_time": "2023-03-05T13:53:57.304Z"
      },
      {
        "duration": 31,
        "start_time": "2023-03-05T13:56:05.221Z"
      },
      {
        "duration": 14,
        "start_time": "2023-03-05T13:58:36.031Z"
      },
      {
        "duration": 139,
        "start_time": "2023-03-05T13:58:55.746Z"
      },
      {
        "duration": 110,
        "start_time": "2023-03-05T13:59:40.681Z"
      },
      {
        "duration": 393,
        "start_time": "2023-03-05T14:05:42.807Z"
      },
      {
        "duration": 67,
        "start_time": "2023-03-05T14:07:22.873Z"
      },
      {
        "duration": 491,
        "start_time": "2023-03-05T14:07:37.111Z"
      },
      {
        "duration": 887,
        "start_time": "2023-03-05T14:12:17.856Z"
      },
      {
        "duration": 823,
        "start_time": "2023-03-05T14:12:33.039Z"
      },
      {
        "duration": 12,
        "start_time": "2023-03-05T14:14:06.135Z"
      },
      {
        "duration": 497,
        "start_time": "2023-03-05T14:15:28.809Z"
      },
      {
        "duration": 1880,
        "start_time": "2023-03-05T14:15:46.877Z"
      },
      {
        "duration": 1023,
        "start_time": "2023-03-05T14:15:52.495Z"
      },
      {
        "duration": 897,
        "start_time": "2023-03-05T14:16:49.678Z"
      },
      {
        "duration": 867,
        "start_time": "2023-03-05T14:17:44.712Z"
      },
      {
        "duration": 1265,
        "start_time": "2023-03-05T14:18:12.116Z"
      },
      {
        "duration": 320,
        "start_time": "2023-03-05T14:18:13.382Z"
      },
      {
        "duration": 22,
        "start_time": "2023-03-05T14:18:13.703Z"
      },
      {
        "duration": 124,
        "start_time": "2023-03-05T14:18:13.727Z"
      },
      {
        "duration": 17,
        "start_time": "2023-03-05T14:18:13.855Z"
      },
      {
        "duration": 676,
        "start_time": "2023-03-05T14:18:13.874Z"
      },
      {
        "duration": 734,
        "start_time": "2023-03-05T14:18:14.551Z"
      },
      {
        "duration": 726,
        "start_time": "2023-03-05T14:18:15.286Z"
      },
      {
        "duration": 104,
        "start_time": "2023-03-05T14:18:16.013Z"
      },
      {
        "duration": 0,
        "start_time": "2023-03-05T14:18:16.118Z"
      },
      {
        "duration": 0,
        "start_time": "2023-03-05T14:18:16.119Z"
      },
      {
        "duration": 4,
        "start_time": "2023-03-05T14:20:02.913Z"
      },
      {
        "duration": 11,
        "start_time": "2023-03-05T14:20:05.991Z"
      },
      {
        "duration": 12,
        "start_time": "2023-03-05T14:22:18.239Z"
      },
      {
        "duration": 13,
        "start_time": "2023-03-05T14:25:03.395Z"
      },
      {
        "duration": 14,
        "start_time": "2023-03-05T14:25:07.500Z"
      },
      {
        "duration": 17,
        "start_time": "2023-03-05T14:25:10.684Z"
      },
      {
        "duration": 51,
        "start_time": "2023-03-05T14:27:29.493Z"
      },
      {
        "duration": 1369,
        "start_time": "2023-03-05T14:27:39.858Z"
      },
      {
        "duration": 360,
        "start_time": "2023-03-05T14:27:41.228Z"
      },
      {
        "duration": 32,
        "start_time": "2023-03-05T14:27:41.589Z"
      },
      {
        "duration": 140,
        "start_time": "2023-03-05T14:27:41.623Z"
      },
      {
        "duration": 18,
        "start_time": "2023-03-05T14:27:41.765Z"
      },
      {
        "duration": 767,
        "start_time": "2023-03-05T14:27:41.784Z"
      },
      {
        "duration": 759,
        "start_time": "2023-03-05T14:27:42.554Z"
      },
      {
        "duration": 701,
        "start_time": "2023-03-05T14:27:43.315Z"
      },
      {
        "duration": 13,
        "start_time": "2023-03-05T14:27:44.017Z"
      },
      {
        "duration": 25,
        "start_time": "2023-03-05T14:27:44.032Z"
      },
      {
        "duration": 15,
        "start_time": "2023-03-05T14:27:44.059Z"
      },
      {
        "duration": 40,
        "start_time": "2023-03-05T14:27:44.075Z"
      },
      {
        "duration": 47,
        "start_time": "2023-03-05T14:29:55.574Z"
      },
      {
        "duration": 105,
        "start_time": "2023-03-05T14:47:31.326Z"
      },
      {
        "duration": 13,
        "start_time": "2023-03-05T14:48:15.200Z"
      },
      {
        "duration": 12,
        "start_time": "2023-03-05T14:48:44.050Z"
      },
      {
        "duration": 1341,
        "start_time": "2023-03-05T14:48:54.701Z"
      },
      {
        "duration": 333,
        "start_time": "2023-03-05T14:48:56.044Z"
      },
      {
        "duration": 24,
        "start_time": "2023-03-05T14:48:56.378Z"
      },
      {
        "duration": 150,
        "start_time": "2023-03-05T14:48:56.405Z"
      },
      {
        "duration": 21,
        "start_time": "2023-03-05T14:48:56.558Z"
      },
      {
        "duration": 720,
        "start_time": "2023-03-05T14:48:56.581Z"
      },
      {
        "duration": 744,
        "start_time": "2023-03-05T14:48:57.303Z"
      },
      {
        "duration": 660,
        "start_time": "2023-03-05T14:48:58.049Z"
      },
      {
        "duration": 13,
        "start_time": "2023-03-05T14:48:58.711Z"
      },
      {
        "duration": 31,
        "start_time": "2023-03-05T14:48:58.727Z"
      },
      {
        "duration": 17,
        "start_time": "2023-03-05T14:48:58.760Z"
      },
      {
        "duration": 40,
        "start_time": "2023-03-05T14:48:58.779Z"
      },
      {
        "duration": 130,
        "start_time": "2023-03-05T14:48:58.821Z"
      },
      {
        "duration": 13,
        "start_time": "2023-03-05T14:49:19.741Z"
      },
      {
        "duration": 4,
        "start_time": "2023-03-05T15:02:17.097Z"
      },
      {
        "duration": 4,
        "start_time": "2023-03-05T15:03:31.080Z"
      },
      {
        "duration": 12,
        "start_time": "2023-03-05T15:03:32.369Z"
      },
      {
        "duration": 9,
        "start_time": "2023-03-05T15:16:32.931Z"
      },
      {
        "duration": 1343,
        "start_time": "2023-03-05T15:16:42.826Z"
      },
      {
        "duration": 341,
        "start_time": "2023-03-05T15:16:44.171Z"
      },
      {
        "duration": 26,
        "start_time": "2023-03-05T15:16:44.514Z"
      },
      {
        "duration": 143,
        "start_time": "2023-03-05T15:16:44.542Z"
      },
      {
        "duration": 18,
        "start_time": "2023-03-05T15:16:44.687Z"
      },
      {
        "duration": 744,
        "start_time": "2023-03-05T15:16:44.707Z"
      },
      {
        "duration": 831,
        "start_time": "2023-03-05T15:16:45.453Z"
      },
      {
        "duration": 697,
        "start_time": "2023-03-05T15:16:46.286Z"
      },
      {
        "duration": 13,
        "start_time": "2023-03-05T15:16:46.984Z"
      },
      {
        "duration": 11,
        "start_time": "2023-03-05T15:16:46.999Z"
      },
      {
        "duration": 15,
        "start_time": "2023-03-05T15:16:47.012Z"
      },
      {
        "duration": 159,
        "start_time": "2023-03-05T15:16:47.029Z"
      },
      {
        "duration": 0,
        "start_time": "2023-03-05T15:16:47.189Z"
      },
      {
        "duration": 0,
        "start_time": "2023-03-05T15:16:47.191Z"
      },
      {
        "duration": 38,
        "start_time": "2023-03-05T15:17:08.725Z"
      },
      {
        "duration": 3,
        "start_time": "2023-03-05T15:17:11.868Z"
      },
      {
        "duration": 26,
        "start_time": "2023-03-05T15:17:13.242Z"
      },
      {
        "duration": 4,
        "start_time": "2023-03-05T15:17:31.783Z"
      },
      {
        "duration": 16,
        "start_time": "2023-03-05T15:17:33.326Z"
      },
      {
        "duration": 3,
        "start_time": "2023-03-05T15:17:49.913Z"
      },
      {
        "duration": 17,
        "start_time": "2023-03-05T15:17:51.100Z"
      },
      {
        "duration": 4,
        "start_time": "2023-03-05T15:18:33.743Z"
      },
      {
        "duration": 25,
        "start_time": "2023-03-05T15:18:36.950Z"
      },
      {
        "duration": 5,
        "start_time": "2023-03-05T15:21:42.386Z"
      },
      {
        "duration": 4,
        "start_time": "2023-03-05T15:21:48.683Z"
      },
      {
        "duration": 18,
        "start_time": "2023-03-05T15:21:50.171Z"
      },
      {
        "duration": 1393,
        "start_time": "2023-03-05T15:21:59.851Z"
      },
      {
        "duration": 362,
        "start_time": "2023-03-05T15:22:01.246Z"
      },
      {
        "duration": 24,
        "start_time": "2023-03-05T15:22:01.610Z"
      },
      {
        "duration": 161,
        "start_time": "2023-03-05T15:22:01.636Z"
      },
      {
        "duration": 18,
        "start_time": "2023-03-05T15:22:01.799Z"
      },
      {
        "duration": 751,
        "start_time": "2023-03-05T15:22:01.818Z"
      },
      {
        "duration": 765,
        "start_time": "2023-03-05T15:22:02.572Z"
      },
      {
        "duration": 784,
        "start_time": "2023-03-05T15:22:03.339Z"
      },
      {
        "duration": 12,
        "start_time": "2023-03-05T15:22:04.125Z"
      },
      {
        "duration": 35,
        "start_time": "2023-03-05T15:22:04.139Z"
      },
      {
        "duration": 41,
        "start_time": "2023-03-05T15:22:04.176Z"
      },
      {
        "duration": 71,
        "start_time": "2023-03-05T15:22:04.219Z"
      },
      {
        "duration": 4,
        "start_time": "2023-03-05T15:22:04.292Z"
      },
      {
        "duration": 138,
        "start_time": "2023-03-05T15:22:04.298Z"
      },
      {
        "duration": 3,
        "start_time": "2023-03-05T15:24:50.001Z"
      },
      {
        "duration": 15,
        "start_time": "2023-03-05T15:25:03.296Z"
      },
      {
        "duration": 3,
        "start_time": "2023-03-05T15:25:28.036Z"
      },
      {
        "duration": 18,
        "start_time": "2023-03-05T15:25:30.016Z"
      },
      {
        "duration": 4,
        "start_time": "2023-03-05T15:41:53.796Z"
      },
      {
        "duration": 3,
        "start_time": "2023-03-05T15:42:10.612Z"
      },
      {
        "duration": 13,
        "start_time": "2023-03-05T15:42:13.076Z"
      },
      {
        "duration": 3,
        "start_time": "2023-03-05T15:43:31.510Z"
      },
      {
        "duration": 18,
        "start_time": "2023-03-05T15:43:33.192Z"
      },
      {
        "duration": 4,
        "start_time": "2023-03-05T15:44:05.627Z"
      },
      {
        "duration": 4,
        "start_time": "2023-03-05T15:44:07.158Z"
      },
      {
        "duration": 65,
        "start_time": "2023-03-05T15:44:30.787Z"
      },
      {
        "duration": 13,
        "start_time": "2023-03-05T15:44:42.601Z"
      },
      {
        "duration": 95,
        "start_time": "2023-03-05T15:48:29.567Z"
      },
      {
        "duration": 93,
        "start_time": "2023-03-05T15:48:40.871Z"
      },
      {
        "duration": 92,
        "start_time": "2023-03-05T15:48:48.267Z"
      },
      {
        "duration": 76,
        "start_time": "2023-03-05T15:49:29.182Z"
      },
      {
        "duration": 1320,
        "start_time": "2023-03-05T15:54:14.704Z"
      },
      {
        "duration": 337,
        "start_time": "2023-03-05T15:54:16.026Z"
      },
      {
        "duration": 21,
        "start_time": "2023-03-05T15:54:16.365Z"
      },
      {
        "duration": 122,
        "start_time": "2023-03-05T15:54:16.387Z"
      },
      {
        "duration": 17,
        "start_time": "2023-03-05T15:54:16.511Z"
      },
      {
        "duration": 737,
        "start_time": "2023-03-05T15:54:16.530Z"
      },
      {
        "duration": 791,
        "start_time": "2023-03-05T15:54:17.269Z"
      },
      {
        "duration": 728,
        "start_time": "2023-03-05T15:54:18.062Z"
      },
      {
        "duration": 14,
        "start_time": "2023-03-05T15:54:18.792Z"
      },
      {
        "duration": 14,
        "start_time": "2023-03-05T15:54:18.808Z"
      },
      {
        "duration": 40,
        "start_time": "2023-03-05T15:54:18.824Z"
      },
      {
        "duration": 39,
        "start_time": "2023-03-05T15:54:18.866Z"
      },
      {
        "duration": 3,
        "start_time": "2023-03-05T15:54:18.907Z"
      },
      {
        "duration": 150,
        "start_time": "2023-03-05T15:54:18.912Z"
      },
      {
        "duration": 124,
        "start_time": "2023-03-05T15:58:36.530Z"
      },
      {
        "duration": 67,
        "start_time": "2023-03-05T15:58:50.297Z"
      },
      {
        "duration": 96,
        "start_time": "2023-03-05T15:58:54.570Z"
      },
      {
        "duration": 58,
        "start_time": "2023-03-05T15:59:09.704Z"
      },
      {
        "duration": 99,
        "start_time": "2023-03-05T16:00:47.179Z"
      },
      {
        "duration": 88,
        "start_time": "2023-03-05T16:01:07.769Z"
      },
      {
        "duration": 153,
        "start_time": "2023-03-05T16:01:15.008Z"
      },
      {
        "duration": 53,
        "start_time": "2023-03-05T16:02:08.006Z"
      },
      {
        "duration": 1344,
        "start_time": "2023-03-05T16:10:38.756Z"
      },
      {
        "duration": 337,
        "start_time": "2023-03-05T16:10:40.101Z"
      },
      {
        "duration": 24,
        "start_time": "2023-03-05T16:10:40.440Z"
      },
      {
        "duration": 128,
        "start_time": "2023-03-05T16:10:40.465Z"
      },
      {
        "duration": 17,
        "start_time": "2023-03-05T16:10:40.595Z"
      },
      {
        "duration": 692,
        "start_time": "2023-03-05T16:10:40.613Z"
      },
      {
        "duration": 789,
        "start_time": "2023-03-05T16:10:41.306Z"
      },
      {
        "duration": 709,
        "start_time": "2023-03-05T16:10:42.097Z"
      },
      {
        "duration": 15,
        "start_time": "2023-03-05T16:10:42.809Z"
      },
      {
        "duration": 29,
        "start_time": "2023-03-05T16:10:42.826Z"
      },
      {
        "duration": 16,
        "start_time": "2023-03-05T16:10:42.857Z"
      },
      {
        "duration": 38,
        "start_time": "2023-03-05T16:10:42.875Z"
      },
      {
        "duration": 4,
        "start_time": "2023-03-05T16:10:42.914Z"
      },
      {
        "duration": 139,
        "start_time": "2023-03-05T16:10:42.921Z"
      },
      {
        "duration": 298,
        "start_time": "2023-03-05T16:10:43.062Z"
      },
      {
        "duration": 199,
        "start_time": "2023-03-05T16:10:43.362Z"
      },
      {
        "duration": 1328,
        "start_time": "2023-03-05T16:20:51.976Z"
      },
      {
        "duration": 370,
        "start_time": "2023-03-05T16:20:53.306Z"
      },
      {
        "duration": 23,
        "start_time": "2023-03-05T16:20:53.678Z"
      },
      {
        "duration": 135,
        "start_time": "2023-03-05T16:20:53.703Z"
      },
      {
        "duration": 39,
        "start_time": "2023-03-05T16:20:53.840Z"
      },
      {
        "duration": 738,
        "start_time": "2023-03-05T16:20:53.881Z"
      },
      {
        "duration": 830,
        "start_time": "2023-03-05T16:20:54.621Z"
      },
      {
        "duration": 799,
        "start_time": "2023-03-05T16:20:55.453Z"
      },
      {
        "duration": 19,
        "start_time": "2023-03-05T16:20:56.253Z"
      },
      {
        "duration": 26,
        "start_time": "2023-03-05T16:20:56.275Z"
      },
      {
        "duration": 10,
        "start_time": "2023-03-05T16:20:56.303Z"
      },
      {
        "duration": 19,
        "start_time": "2023-03-05T16:20:56.314Z"
      },
      {
        "duration": 52,
        "start_time": "2023-03-05T16:20:56.335Z"
      },
      {
        "duration": 3,
        "start_time": "2023-03-05T16:20:56.389Z"
      },
      {
        "duration": 169,
        "start_time": "2023-03-05T16:20:56.394Z"
      },
      {
        "duration": 205,
        "start_time": "2023-03-05T16:20:56.565Z"
      },
      {
        "duration": 188,
        "start_time": "2023-03-05T16:20:56.772Z"
      },
      {
        "duration": 41,
        "start_time": "2023-03-05T16:21:45.332Z"
      },
      {
        "duration": 48,
        "start_time": "2023-03-05T16:22:51.537Z"
      },
      {
        "duration": 32,
        "start_time": "2023-03-05T16:23:15.911Z"
      },
      {
        "duration": 289,
        "start_time": "2023-03-05T16:35:25.072Z"
      },
      {
        "duration": 46,
        "start_time": "2023-03-05T16:35:32.722Z"
      },
      {
        "duration": 53,
        "start_time": "2023-03-05T16:35:35.122Z"
      },
      {
        "duration": 242,
        "start_time": "2023-03-05T16:35:37.514Z"
      },
      {
        "duration": 2,
        "start_time": "2023-03-05T16:53:41.816Z"
      },
      {
        "duration": 2,
        "start_time": "2023-03-05T17:00:40.070Z"
      },
      {
        "duration": 1344,
        "start_time": "2023-03-05T17:11:13.258Z"
      },
      {
        "duration": 359,
        "start_time": "2023-03-05T17:11:14.605Z"
      },
      {
        "duration": 22,
        "start_time": "2023-03-05T17:11:14.966Z"
      },
      {
        "duration": 160,
        "start_time": "2023-03-05T17:11:14.989Z"
      },
      {
        "duration": 32,
        "start_time": "2023-03-05T17:11:15.155Z"
      },
      {
        "duration": 873,
        "start_time": "2023-03-05T17:11:15.189Z"
      },
      {
        "duration": 795,
        "start_time": "2023-03-05T17:11:16.066Z"
      },
      {
        "duration": 742,
        "start_time": "2023-03-05T17:11:16.863Z"
      },
      {
        "duration": 4,
        "start_time": "2023-03-05T17:11:17.606Z"
      },
      {
        "duration": 33,
        "start_time": "2023-03-05T17:11:17.611Z"
      },
      {
        "duration": 34,
        "start_time": "2023-03-05T17:11:17.655Z"
      },
      {
        "duration": 29,
        "start_time": "2023-03-05T17:11:17.690Z"
      },
      {
        "duration": 50,
        "start_time": "2023-03-05T17:11:17.721Z"
      },
      {
        "duration": 3,
        "start_time": "2023-03-05T17:11:17.774Z"
      },
      {
        "duration": 97,
        "start_time": "2023-03-05T17:11:17.779Z"
      },
      {
        "duration": 120,
        "start_time": "2023-03-05T17:11:17.956Z"
      },
      {
        "duration": 201,
        "start_time": "2023-03-05T17:11:18.160Z"
      },
      {
        "duration": 89,
        "start_time": "2023-03-05T17:11:18.366Z"
      },
      {
        "duration": 204,
        "start_time": "2023-03-05T17:11:18.457Z"
      },
      {
        "duration": 3,
        "start_time": "2023-03-05T17:12:40.429Z"
      },
      {
        "duration": 4,
        "start_time": "2023-03-05T17:13:01.387Z"
      },
      {
        "duration": 3,
        "start_time": "2023-03-05T17:13:21.812Z"
      },
      {
        "duration": 4,
        "start_time": "2023-03-05T17:13:25.686Z"
      },
      {
        "duration": 3,
        "start_time": "2023-03-05T17:15:12.789Z"
      },
      {
        "duration": 4,
        "start_time": "2023-03-05T17:15:18.622Z"
      },
      {
        "duration": 3,
        "start_time": "2023-03-05T17:15:22.237Z"
      },
      {
        "duration": 4,
        "start_time": "2023-03-05T17:15:25.621Z"
      },
      {
        "duration": 3,
        "start_time": "2023-03-05T17:16:02.314Z"
      },
      {
        "duration": 6,
        "start_time": "2023-03-05T17:16:36.389Z"
      },
      {
        "duration": 3,
        "start_time": "2023-03-05T17:16:38.825Z"
      },
      {
        "duration": 6,
        "start_time": "2023-03-05T17:16:40.757Z"
      },
      {
        "duration": 3,
        "start_time": "2023-03-05T17:36:51.734Z"
      },
      {
        "duration": 2,
        "start_time": "2023-03-05T17:37:50.193Z"
      },
      {
        "duration": 3,
        "start_time": "2023-03-05T17:37:52.502Z"
      },
      {
        "duration": 1233,
        "start_time": "2023-03-05T17:38:01.617Z"
      },
      {
        "duration": 352,
        "start_time": "2023-03-05T17:38:02.851Z"
      },
      {
        "duration": 24,
        "start_time": "2023-03-05T17:38:03.205Z"
      },
      {
        "duration": 159,
        "start_time": "2023-03-05T17:38:03.230Z"
      },
      {
        "duration": 30,
        "start_time": "2023-03-05T17:38:03.391Z"
      },
      {
        "duration": 746,
        "start_time": "2023-03-05T17:38:03.423Z"
      },
      {
        "duration": 734,
        "start_time": "2023-03-05T17:38:04.171Z"
      },
      {
        "duration": 728,
        "start_time": "2023-03-05T17:38:04.907Z"
      },
      {
        "duration": 5,
        "start_time": "2023-03-05T17:38:05.637Z"
      },
      {
        "duration": 39,
        "start_time": "2023-03-05T17:38:05.644Z"
      },
      {
        "duration": 37,
        "start_time": "2023-03-05T17:38:05.685Z"
      },
      {
        "duration": 48,
        "start_time": "2023-03-05T17:38:05.723Z"
      },
      {
        "duration": 35,
        "start_time": "2023-03-05T17:38:05.772Z"
      },
      {
        "duration": 3,
        "start_time": "2023-03-05T17:38:05.809Z"
      },
      {
        "duration": 146,
        "start_time": "2023-03-05T17:38:05.814Z"
      },
      {
        "duration": 296,
        "start_time": "2023-03-05T17:38:05.962Z"
      },
      {
        "duration": 297,
        "start_time": "2023-03-05T17:38:06.259Z"
      },
      {
        "duration": 2,
        "start_time": "2023-03-05T17:38:06.558Z"
      },
      {
        "duration": 187,
        "start_time": "2023-03-05T17:38:06.562Z"
      },
      {
        "duration": 0,
        "start_time": "2023-03-05T17:38:06.750Z"
      },
      {
        "duration": 3,
        "start_time": "2023-03-05T17:39:29.703Z"
      },
      {
        "duration": 4,
        "start_time": "2023-03-05T17:40:10.149Z"
      },
      {
        "duration": 10,
        "start_time": "2023-03-05T17:40:44.282Z"
      },
      {
        "duration": 4,
        "start_time": "2023-03-05T17:40:51.386Z"
      },
      {
        "duration": 3,
        "start_time": "2023-03-05T17:41:13.387Z"
      },
      {
        "duration": 3,
        "start_time": "2023-03-05T18:07:03.677Z"
      },
      {
        "duration": 1490,
        "start_time": "2023-03-06T16:37:19.893Z"
      },
      {
        "duration": 2301,
        "start_time": "2023-03-06T16:37:21.385Z"
      },
      {
        "duration": 27,
        "start_time": "2023-03-06T16:37:23.687Z"
      },
      {
        "duration": 127,
        "start_time": "2023-03-06T16:37:23.716Z"
      },
      {
        "duration": 19,
        "start_time": "2023-03-06T16:37:23.845Z"
      },
      {
        "duration": 811,
        "start_time": "2023-03-06T16:37:23.866Z"
      },
      {
        "duration": 707,
        "start_time": "2023-03-06T16:37:24.679Z"
      },
      {
        "duration": 690,
        "start_time": "2023-03-06T16:37:25.388Z"
      },
      {
        "duration": 110,
        "start_time": "2023-03-06T16:37:26.080Z"
      },
      {
        "duration": 0,
        "start_time": "2023-03-06T16:37:26.192Z"
      },
      {
        "duration": 0,
        "start_time": "2023-03-06T16:37:26.192Z"
      },
      {
        "duration": 1,
        "start_time": "2023-03-06T16:37:26.193Z"
      },
      {
        "duration": 0,
        "start_time": "2023-03-06T16:37:26.195Z"
      },
      {
        "duration": 0,
        "start_time": "2023-03-06T16:37:26.195Z"
      },
      {
        "duration": 0,
        "start_time": "2023-03-06T16:37:26.196Z"
      },
      {
        "duration": 0,
        "start_time": "2023-03-06T16:37:26.197Z"
      },
      {
        "duration": 0,
        "start_time": "2023-03-06T16:37:26.199Z"
      },
      {
        "duration": 0,
        "start_time": "2023-03-06T16:37:26.199Z"
      },
      {
        "duration": 0,
        "start_time": "2023-03-06T16:37:26.200Z"
      },
      {
        "duration": 0,
        "start_time": "2023-03-06T16:37:26.201Z"
      },
      {
        "duration": 0,
        "start_time": "2023-03-06T16:37:26.202Z"
      },
      {
        "duration": 1329,
        "start_time": "2023-03-06T16:38:01.356Z"
      },
      {
        "duration": 334,
        "start_time": "2023-03-06T16:38:02.687Z"
      },
      {
        "duration": 22,
        "start_time": "2023-03-06T16:38:03.023Z"
      },
      {
        "duration": 129,
        "start_time": "2023-03-06T16:38:03.047Z"
      },
      {
        "duration": 16,
        "start_time": "2023-03-06T16:38:03.177Z"
      },
      {
        "duration": 717,
        "start_time": "2023-03-06T16:38:03.195Z"
      },
      {
        "duration": 796,
        "start_time": "2023-03-06T16:38:03.914Z"
      },
      {
        "duration": 670,
        "start_time": "2023-03-06T16:38:04.712Z"
      },
      {
        "duration": 4,
        "start_time": "2023-03-06T16:38:05.384Z"
      },
      {
        "duration": 46,
        "start_time": "2023-03-06T16:38:05.390Z"
      },
      {
        "duration": 27,
        "start_time": "2023-03-06T16:38:05.437Z"
      },
      {
        "duration": 29,
        "start_time": "2023-03-06T16:38:05.466Z"
      },
      {
        "duration": 46,
        "start_time": "2023-03-06T16:38:05.496Z"
      },
      {
        "duration": 3,
        "start_time": "2023-03-06T16:38:05.544Z"
      },
      {
        "duration": 195,
        "start_time": "2023-03-06T16:38:05.548Z"
      },
      {
        "duration": 297,
        "start_time": "2023-03-06T16:38:05.745Z"
      },
      {
        "duration": 203,
        "start_time": "2023-03-06T16:38:06.044Z"
      },
      {
        "duration": 98,
        "start_time": "2023-03-06T16:38:06.250Z"
      },
      {
        "duration": 107,
        "start_time": "2023-03-06T16:38:06.351Z"
      },
      {
        "duration": 3,
        "start_time": "2023-03-06T16:38:06.460Z"
      },
      {
        "duration": 96,
        "start_time": "2023-03-06T16:38:06.465Z"
      },
      {
        "duration": 1326,
        "start_time": "2023-03-06T16:41:51.018Z"
      },
      {
        "duration": 415,
        "start_time": "2023-03-06T16:41:52.346Z"
      },
      {
        "duration": 25,
        "start_time": "2023-03-06T16:41:52.762Z"
      },
      {
        "duration": 153,
        "start_time": "2023-03-06T16:41:52.789Z"
      },
      {
        "duration": 20,
        "start_time": "2023-03-06T16:41:52.943Z"
      },
      {
        "duration": 750,
        "start_time": "2023-03-06T16:41:52.964Z"
      },
      {
        "duration": 759,
        "start_time": "2023-03-06T16:41:53.716Z"
      },
      {
        "duration": 734,
        "start_time": "2023-03-06T16:41:54.476Z"
      },
      {
        "duration": 4,
        "start_time": "2023-03-06T16:41:55.212Z"
      },
      {
        "duration": 55,
        "start_time": "2023-03-06T16:41:55.218Z"
      },
      {
        "duration": 36,
        "start_time": "2023-03-06T16:41:55.275Z"
      },
      {
        "duration": 42,
        "start_time": "2023-03-06T16:41:55.312Z"
      },
      {
        "duration": 40,
        "start_time": "2023-03-06T16:41:55.356Z"
      },
      {
        "duration": 3,
        "start_time": "2023-03-06T16:41:55.397Z"
      },
      {
        "duration": 148,
        "start_time": "2023-03-06T16:41:55.402Z"
      },
      {
        "duration": 201,
        "start_time": "2023-03-06T16:41:55.643Z"
      },
      {
        "duration": 293,
        "start_time": "2023-03-06T16:41:55.846Z"
      },
      {
        "duration": 4,
        "start_time": "2023-03-06T16:41:56.142Z"
      },
      {
        "duration": 104,
        "start_time": "2023-03-06T16:41:56.148Z"
      },
      {
        "duration": 18,
        "start_time": "2023-03-06T16:41:56.254Z"
      },
      {
        "duration": 85,
        "start_time": "2023-03-06T16:41:56.274Z"
      },
      {
        "duration": 104,
        "start_time": "2023-03-06T16:42:40.191Z"
      },
      {
        "duration": 10,
        "start_time": "2023-03-06T16:43:20.423Z"
      },
      {
        "duration": 11,
        "start_time": "2023-03-06T16:44:15.672Z"
      },
      {
        "duration": 1257,
        "start_time": "2023-03-06T16:55:48.280Z"
      },
      {
        "duration": 341,
        "start_time": "2023-03-06T16:55:49.539Z"
      },
      {
        "duration": 24,
        "start_time": "2023-03-06T16:55:49.881Z"
      },
      {
        "duration": 145,
        "start_time": "2023-03-06T16:55:49.907Z"
      },
      {
        "duration": 20,
        "start_time": "2023-03-06T16:55:50.053Z"
      },
      {
        "duration": 714,
        "start_time": "2023-03-06T16:55:50.075Z"
      },
      {
        "duration": 753,
        "start_time": "2023-03-06T16:55:50.790Z"
      },
      {
        "duration": 671,
        "start_time": "2023-03-06T16:55:51.545Z"
      },
      {
        "duration": 4,
        "start_time": "2023-03-06T16:55:52.218Z"
      },
      {
        "duration": 35,
        "start_time": "2023-03-06T16:55:52.224Z"
      },
      {
        "duration": 27,
        "start_time": "2023-03-06T16:55:52.260Z"
      },
      {
        "duration": 27,
        "start_time": "2023-03-06T16:55:52.289Z"
      },
      {
        "duration": 53,
        "start_time": "2023-03-06T16:55:52.318Z"
      },
      {
        "duration": 3,
        "start_time": "2023-03-06T16:55:52.373Z"
      },
      {
        "duration": 264,
        "start_time": "2023-03-06T16:55:52.377Z"
      },
      {
        "duration": 299,
        "start_time": "2023-03-06T16:55:52.643Z"
      },
      {
        "duration": 302,
        "start_time": "2023-03-06T16:55:52.944Z"
      },
      {
        "duration": 91,
        "start_time": "2023-03-06T16:55:53.249Z"
      },
      {
        "duration": 7,
        "start_time": "2023-03-06T16:55:53.342Z"
      },
      {
        "duration": 9,
        "start_time": "2023-03-06T16:55:53.351Z"
      },
      {
        "duration": 106,
        "start_time": "2023-03-06T16:55:53.441Z"
      },
      {
        "duration": 11,
        "start_time": "2023-03-06T16:56:29.730Z"
      },
      {
        "duration": 12,
        "start_time": "2023-03-06T17:01:40.110Z"
      },
      {
        "duration": 11,
        "start_time": "2023-03-06T17:01:49.412Z"
      },
      {
        "duration": 16,
        "start_time": "2023-03-06T17:02:37.477Z"
      },
      {
        "duration": 3,
        "start_time": "2023-03-06T17:03:48.181Z"
      },
      {
        "duration": 22,
        "start_time": "2023-03-06T17:03:49.505Z"
      },
      {
        "duration": 3,
        "start_time": "2023-03-06T17:04:27.573Z"
      },
      {
        "duration": 21,
        "start_time": "2023-03-06T17:04:28.651Z"
      },
      {
        "duration": 3,
        "start_time": "2023-03-06T17:07:14.886Z"
      },
      {
        "duration": 21,
        "start_time": "2023-03-06T17:07:16.135Z"
      },
      {
        "duration": 2,
        "start_time": "2023-03-06T17:10:00.850Z"
      },
      {
        "duration": 4,
        "start_time": "2023-03-06T17:10:02.624Z"
      },
      {
        "duration": 2,
        "start_time": "2023-03-06T17:10:07.663Z"
      },
      {
        "duration": 21,
        "start_time": "2023-03-06T17:10:09.571Z"
      },
      {
        "duration": 21,
        "start_time": "2023-03-06T17:10:15.115Z"
      },
      {
        "duration": 20,
        "start_time": "2023-03-06T17:10:56.319Z"
      },
      {
        "duration": 4,
        "start_time": "2023-03-06T17:12:18.082Z"
      },
      {
        "duration": 21,
        "start_time": "2023-03-06T17:12:19.290Z"
      },
      {
        "duration": 12,
        "start_time": "2023-03-06T17:15:46.327Z"
      },
      {
        "duration": 11,
        "start_time": "2023-03-06T17:17:21.873Z"
      },
      {
        "duration": 13,
        "start_time": "2023-03-06T17:17:48.081Z"
      },
      {
        "duration": 16,
        "start_time": "2023-03-06T17:18:12.370Z"
      },
      {
        "duration": 19,
        "start_time": "2023-03-06T17:19:44.418Z"
      },
      {
        "duration": 20,
        "start_time": "2023-03-06T17:19:57.477Z"
      },
      {
        "duration": 16,
        "start_time": "2023-03-06T17:20:42.829Z"
      },
      {
        "duration": 3,
        "start_time": "2023-03-06T17:21:25.471Z"
      },
      {
        "duration": 871,
        "start_time": "2023-03-06T17:21:26.650Z"
      },
      {
        "duration": 4,
        "start_time": "2023-03-06T17:21:46.338Z"
      },
      {
        "duration": 890,
        "start_time": "2023-03-06T17:21:47.276Z"
      },
      {
        "duration": 1238,
        "start_time": "2023-03-06T17:38:56.190Z"
      },
      {
        "duration": 355,
        "start_time": "2023-03-06T17:38:57.430Z"
      },
      {
        "duration": 30,
        "start_time": "2023-03-06T17:38:57.787Z"
      },
      {
        "duration": 141,
        "start_time": "2023-03-06T17:38:57.819Z"
      },
      {
        "duration": 19,
        "start_time": "2023-03-06T17:38:57.963Z"
      },
      {
        "duration": 749,
        "start_time": "2023-03-06T17:38:57.984Z"
      },
      {
        "duration": 777,
        "start_time": "2023-03-06T17:38:58.735Z"
      },
      {
        "duration": 710,
        "start_time": "2023-03-06T17:38:59.513Z"
      },
      {
        "duration": 4,
        "start_time": "2023-03-06T17:39:00.225Z"
      },
      {
        "duration": 29,
        "start_time": "2023-03-06T17:39:00.241Z"
      },
      {
        "duration": 35,
        "start_time": "2023-03-06T17:39:00.272Z"
      },
      {
        "duration": 56,
        "start_time": "2023-03-06T17:39:00.309Z"
      },
      {
        "duration": 52,
        "start_time": "2023-03-06T17:39:00.367Z"
      },
      {
        "duration": 4,
        "start_time": "2023-03-06T17:39:00.422Z"
      },
      {
        "duration": 123,
        "start_time": "2023-03-06T17:39:00.427Z"
      },
      {
        "duration": 296,
        "start_time": "2023-03-06T17:39:00.552Z"
      },
      {
        "duration": 296,
        "start_time": "2023-03-06T17:39:00.853Z"
      },
      {
        "duration": 195,
        "start_time": "2023-03-06T17:39:01.151Z"
      },
      {
        "duration": 34,
        "start_time": "2023-03-06T17:39:01.348Z"
      },
      {
        "duration": 31,
        "start_time": "2023-03-06T17:39:01.384Z"
      },
      {
        "duration": 37,
        "start_time": "2023-03-06T17:39:01.417Z"
      },
      {
        "duration": 5,
        "start_time": "2023-03-06T17:41:10.422Z"
      },
      {
        "duration": 108,
        "start_time": "2023-03-06T17:43:35.261Z"
      },
      {
        "duration": 4,
        "start_time": "2023-03-06T17:44:05.139Z"
      },
      {
        "duration": 13,
        "start_time": "2023-03-06T17:44:06.418Z"
      },
      {
        "duration": 4,
        "start_time": "2023-03-06T17:44:40.104Z"
      },
      {
        "duration": 911,
        "start_time": "2023-03-06T17:44:41.342Z"
      },
      {
        "duration": 4,
        "start_time": "2023-03-06T17:45:22.884Z"
      },
      {
        "duration": 846,
        "start_time": "2023-03-06T17:45:24.112Z"
      },
      {
        "duration": 5,
        "start_time": "2023-03-06T17:45:40.505Z"
      },
      {
        "duration": 2674,
        "start_time": "2023-03-06T17:45:41.872Z"
      },
      {
        "duration": 5,
        "start_time": "2023-03-06T17:47:03.657Z"
      },
      {
        "duration": 2659,
        "start_time": "2023-03-06T17:47:04.824Z"
      },
      {
        "duration": 2624,
        "start_time": "2023-03-06T17:47:23.855Z"
      },
      {
        "duration": 3343,
        "start_time": "2023-03-06T17:48:35.228Z"
      },
      {
        "duration": 2644,
        "start_time": "2023-03-06T17:49:11.435Z"
      },
      {
        "duration": 2540,
        "start_time": "2023-03-06T17:49:34.170Z"
      },
      {
        "duration": 4,
        "start_time": "2023-03-06T17:49:50.876Z"
      },
      {
        "duration": 4,
        "start_time": "2023-03-06T17:49:52.912Z"
      },
      {
        "duration": 2485,
        "start_time": "2023-03-06T17:49:53.937Z"
      },
      {
        "duration": 3,
        "start_time": "2023-03-06T17:50:18.335Z"
      },
      {
        "duration": 4,
        "start_time": "2023-03-06T17:50:20.061Z"
      },
      {
        "duration": 2591,
        "start_time": "2023-03-06T17:50:21.669Z"
      },
      {
        "duration": 4,
        "start_time": "2023-03-06T17:50:44.568Z"
      },
      {
        "duration": 4,
        "start_time": "2023-03-06T17:50:47.061Z"
      },
      {
        "duration": 2542,
        "start_time": "2023-03-06T17:50:47.868Z"
      },
      {
        "duration": 88,
        "start_time": "2023-03-06T17:51:28.030Z"
      },
      {
        "duration": 4,
        "start_time": "2023-03-06T17:51:34.314Z"
      },
      {
        "duration": 2600,
        "start_time": "2023-03-06T17:51:36.341Z"
      },
      {
        "duration": 2756,
        "start_time": "2023-03-06T17:52:38.109Z"
      },
      {
        "duration": 2650,
        "start_time": "2023-03-06T17:52:44.802Z"
      },
      {
        "duration": 2542,
        "start_time": "2023-03-06T17:53:07.298Z"
      },
      {
        "duration": 72,
        "start_time": "2023-03-06T17:54:02.191Z"
      },
      {
        "duration": 2548,
        "start_time": "2023-03-06T17:54:55.341Z"
      },
      {
        "duration": 2466,
        "start_time": "2023-03-06T18:06:28.838Z"
      },
      {
        "duration": 870,
        "start_time": "2023-03-06T18:06:50.874Z"
      },
      {
        "duration": 822,
        "start_time": "2023-03-06T18:08:11.151Z"
      },
      {
        "duration": 874,
        "start_time": "2023-03-06T18:09:12.148Z"
      },
      {
        "duration": 2,
        "start_time": "2023-03-06T18:15:05.504Z"
      },
      {
        "duration": 3,
        "start_time": "2023-03-06T18:15:06.528Z"
      },
      {
        "duration": 3,
        "start_time": "2023-03-06T18:15:12.542Z"
      },
      {
        "duration": 4,
        "start_time": "2023-03-06T18:15:18.760Z"
      },
      {
        "duration": 895,
        "start_time": "2023-03-06T18:15:20.038Z"
      },
      {
        "duration": 869,
        "start_time": "2023-03-06T18:15:25.806Z"
      },
      {
        "duration": 877,
        "start_time": "2023-03-06T18:15:29.405Z"
      },
      {
        "duration": 4,
        "start_time": "2023-03-06T18:20:49.874Z"
      },
      {
        "duration": 912,
        "start_time": "2023-03-06T18:20:52.279Z"
      },
      {
        "duration": 4,
        "start_time": "2023-03-06T18:21:11.044Z"
      },
      {
        "duration": 849,
        "start_time": "2023-03-06T18:21:12.807Z"
      },
      {
        "duration": 3,
        "start_time": "2023-03-06T18:22:36.995Z"
      },
      {
        "duration": 4,
        "start_time": "2023-03-06T18:22:39.139Z"
      },
      {
        "duration": 931,
        "start_time": "2023-03-06T18:22:40.394Z"
      },
      {
        "duration": 3,
        "start_time": "2023-03-06T18:23:48.878Z"
      },
      {
        "duration": 4,
        "start_time": "2023-03-06T18:23:51.465Z"
      },
      {
        "duration": 836,
        "start_time": "2023-03-06T18:23:52.884Z"
      },
      {
        "duration": 821,
        "start_time": "2023-03-06T18:23:57.651Z"
      },
      {
        "duration": 4,
        "start_time": "2023-03-06T18:24:12.461Z"
      },
      {
        "duration": 4,
        "start_time": "2023-03-06T18:24:14.274Z"
      },
      {
        "duration": 863,
        "start_time": "2023-03-06T18:24:15.140Z"
      },
      {
        "duration": 821,
        "start_time": "2023-03-06T18:24:24.097Z"
      },
      {
        "duration": 843,
        "start_time": "2023-03-06T18:24:26.657Z"
      },
      {
        "duration": 3,
        "start_time": "2023-03-06T18:26:33.890Z"
      },
      {
        "duration": 3,
        "start_time": "2023-03-06T18:26:38.452Z"
      },
      {
        "duration": 4,
        "start_time": "2023-03-06T18:26:40.942Z"
      },
      {
        "duration": 845,
        "start_time": "2023-03-06T18:26:42.692Z"
      },
      {
        "duration": 1220,
        "start_time": "2023-03-06T18:27:37.002Z"
      },
      {
        "duration": 338,
        "start_time": "2023-03-06T18:27:38.224Z"
      },
      {
        "duration": 23,
        "start_time": "2023-03-06T18:27:38.564Z"
      },
      {
        "duration": 140,
        "start_time": "2023-03-06T18:27:38.589Z"
      },
      {
        "duration": 24,
        "start_time": "2023-03-06T18:27:38.731Z"
      },
      {
        "duration": 702,
        "start_time": "2023-03-06T18:27:38.756Z"
      },
      {
        "duration": 779,
        "start_time": "2023-03-06T18:27:39.461Z"
      },
      {
        "duration": 670,
        "start_time": "2023-03-06T18:27:40.242Z"
      },
      {
        "duration": 4,
        "start_time": "2023-03-06T18:27:40.914Z"
      },
      {
        "duration": 33,
        "start_time": "2023-03-06T18:27:40.920Z"
      },
      {
        "duration": 28,
        "start_time": "2023-03-06T18:27:40.954Z"
      },
      {
        "duration": 30,
        "start_time": "2023-03-06T18:27:40.983Z"
      },
      {
        "duration": 59,
        "start_time": "2023-03-06T18:27:41.015Z"
      },
      {
        "duration": 3,
        "start_time": "2023-03-06T18:27:41.076Z"
      },
      {
        "duration": 172,
        "start_time": "2023-03-06T18:27:41.081Z"
      },
      {
        "duration": 204,
        "start_time": "2023-03-06T18:27:41.341Z"
      },
      {
        "duration": 296,
        "start_time": "2023-03-06T18:27:41.546Z"
      },
      {
        "duration": 5,
        "start_time": "2023-03-06T18:27:41.844Z"
      },
      {
        "duration": 4,
        "start_time": "2023-03-06T18:27:41.941Z"
      },
      {
        "duration": 13,
        "start_time": "2023-03-06T18:27:41.947Z"
      },
      {
        "duration": 5,
        "start_time": "2023-03-06T18:27:42.041Z"
      },
      {
        "duration": 971,
        "start_time": "2023-03-06T18:27:42.047Z"
      },
      {
        "duration": 841,
        "start_time": "2023-03-06T18:27:43.019Z"
      },
      {
        "duration": 828,
        "start_time": "2023-03-06T18:27:43.862Z"
      },
      {
        "duration": 4,
        "start_time": "2023-03-06T18:29:10.612Z"
      },
      {
        "duration": 918,
        "start_time": "2023-03-06T18:29:11.734Z"
      },
      {
        "duration": 3,
        "start_time": "2023-03-06T18:30:02.234Z"
      },
      {
        "duration": 4,
        "start_time": "2023-03-06T18:30:03.502Z"
      },
      {
        "duration": 869,
        "start_time": "2023-03-06T18:30:05.072Z"
      },
      {
        "duration": 822,
        "start_time": "2023-03-06T18:30:09.379Z"
      },
      {
        "duration": 850,
        "start_time": "2023-03-06T18:30:12.904Z"
      },
      {
        "duration": 77,
        "start_time": "2023-03-06T18:33:23.910Z"
      },
      {
        "duration": 78,
        "start_time": "2023-03-06T18:36:34.303Z"
      },
      {
        "duration": 913,
        "start_time": "2023-03-06T18:36:58.010Z"
      },
      {
        "duration": 4,
        "start_time": "2023-03-06T18:37:04.966Z"
      },
      {
        "duration": 829,
        "start_time": "2023-03-06T18:37:05.875Z"
      },
      {
        "duration": 842,
        "start_time": "2023-03-06T18:38:40.837Z"
      },
      {
        "duration": 851,
        "start_time": "2023-03-06T18:38:43.619Z"
      },
      {
        "duration": 3,
        "start_time": "2023-03-06T18:42:33.412Z"
      },
      {
        "duration": 3,
        "start_time": "2023-03-06T18:45:54.261Z"
      },
      {
        "duration": 4,
        "start_time": "2023-03-06T18:45:55.243Z"
      },
      {
        "duration": 869,
        "start_time": "2023-03-06T18:45:56.005Z"
      },
      {
        "duration": 857,
        "start_time": "2023-03-06T18:46:00.298Z"
      },
      {
        "duration": 960,
        "start_time": "2023-03-06T18:46:02.103Z"
      },
      {
        "duration": 3,
        "start_time": "2023-03-06T18:49:23.471Z"
      },
      {
        "duration": 3,
        "start_time": "2023-03-06T18:49:47.903Z"
      },
      {
        "duration": 1305,
        "start_time": "2023-03-06T18:53:44.014Z"
      },
      {
        "duration": 346,
        "start_time": "2023-03-06T18:53:45.321Z"
      },
      {
        "duration": 26,
        "start_time": "2023-03-06T18:53:45.668Z"
      },
      {
        "duration": 160,
        "start_time": "2023-03-06T18:53:45.695Z"
      },
      {
        "duration": 20,
        "start_time": "2023-03-06T18:53:45.857Z"
      },
      {
        "duration": 853,
        "start_time": "2023-03-06T18:53:45.879Z"
      },
      {
        "duration": 879,
        "start_time": "2023-03-06T18:53:46.734Z"
      },
      {
        "duration": 777,
        "start_time": "2023-03-06T18:53:47.614Z"
      },
      {
        "duration": 4,
        "start_time": "2023-03-06T18:53:48.392Z"
      },
      {
        "duration": 63,
        "start_time": "2023-03-06T18:53:48.398Z"
      },
      {
        "duration": 55,
        "start_time": "2023-03-06T18:53:48.463Z"
      },
      {
        "duration": 69,
        "start_time": "2023-03-06T18:53:48.519Z"
      },
      {
        "duration": 164,
        "start_time": "2023-03-06T18:53:48.590Z"
      },
      {
        "duration": 3,
        "start_time": "2023-03-06T18:53:48.757Z"
      },
      {
        "duration": 144,
        "start_time": "2023-03-06T18:53:48.762Z"
      },
      {
        "duration": 0,
        "start_time": "2023-03-06T18:53:48.907Z"
      },
      {
        "duration": 0,
        "start_time": "2023-03-06T18:53:48.909Z"
      },
      {
        "duration": 0,
        "start_time": "2023-03-06T18:53:48.910Z"
      },
      {
        "duration": 0,
        "start_time": "2023-03-06T18:53:48.911Z"
      },
      {
        "duration": 0,
        "start_time": "2023-03-06T18:53:48.912Z"
      },
      {
        "duration": 0,
        "start_time": "2023-03-06T18:53:48.913Z"
      },
      {
        "duration": 0,
        "start_time": "2023-03-06T18:53:48.914Z"
      },
      {
        "duration": 0,
        "start_time": "2023-03-06T18:53:48.915Z"
      },
      {
        "duration": 0,
        "start_time": "2023-03-06T18:53:48.917Z"
      },
      {
        "duration": 1283,
        "start_time": "2023-03-06T18:54:21.505Z"
      },
      {
        "duration": 341,
        "start_time": "2023-03-06T18:54:22.790Z"
      },
      {
        "duration": 23,
        "start_time": "2023-03-06T18:54:23.133Z"
      },
      {
        "duration": 138,
        "start_time": "2023-03-06T18:54:23.158Z"
      },
      {
        "duration": 18,
        "start_time": "2023-03-06T18:54:23.298Z"
      },
      {
        "duration": 710,
        "start_time": "2023-03-06T18:54:23.317Z"
      },
      {
        "duration": 739,
        "start_time": "2023-03-06T18:54:24.029Z"
      },
      {
        "duration": 676,
        "start_time": "2023-03-06T18:54:24.769Z"
      },
      {
        "duration": 4,
        "start_time": "2023-03-06T18:54:25.447Z"
      },
      {
        "duration": 30,
        "start_time": "2023-03-06T18:54:25.452Z"
      },
      {
        "duration": 27,
        "start_time": "2023-03-06T18:54:25.483Z"
      },
      {
        "duration": 50,
        "start_time": "2023-03-06T18:54:25.512Z"
      },
      {
        "duration": 36,
        "start_time": "2023-03-06T18:54:25.563Z"
      },
      {
        "duration": 3,
        "start_time": "2023-03-06T18:54:25.601Z"
      },
      {
        "duration": 137,
        "start_time": "2023-03-06T18:54:25.606Z"
      },
      {
        "duration": 198,
        "start_time": "2023-03-06T18:54:25.748Z"
      },
      {
        "duration": 300,
        "start_time": "2023-03-06T18:54:25.947Z"
      },
      {
        "duration": 100,
        "start_time": "2023-03-06T18:54:26.249Z"
      },
      {
        "duration": 5,
        "start_time": "2023-03-06T18:54:26.441Z"
      },
      {
        "duration": 11,
        "start_time": "2023-03-06T18:54:26.447Z"
      },
      {
        "duration": 5,
        "start_time": "2023-03-06T18:54:26.459Z"
      },
      {
        "duration": 897,
        "start_time": "2023-03-06T18:54:26.465Z"
      },
      {
        "duration": 853,
        "start_time": "2023-03-06T18:54:27.364Z"
      },
      {
        "duration": 867,
        "start_time": "2023-03-06T18:54:28.219Z"
      },
      {
        "duration": 1243,
        "start_time": "2023-03-06T18:55:34.507Z"
      },
      {
        "duration": 349,
        "start_time": "2023-03-06T18:55:35.751Z"
      },
      {
        "duration": 24,
        "start_time": "2023-03-06T18:55:36.102Z"
      },
      {
        "duration": 135,
        "start_time": "2023-03-06T18:55:36.127Z"
      },
      {
        "duration": 19,
        "start_time": "2023-03-06T18:55:36.263Z"
      },
      {
        "duration": 755,
        "start_time": "2023-03-06T18:55:36.284Z"
      },
      {
        "duration": 744,
        "start_time": "2023-03-06T18:55:37.041Z"
      },
      {
        "duration": 676,
        "start_time": "2023-03-06T18:55:37.787Z"
      },
      {
        "duration": 4,
        "start_time": "2023-03-06T18:55:38.465Z"
      },
      {
        "duration": 31,
        "start_time": "2023-03-06T18:55:38.471Z"
      },
      {
        "duration": 43,
        "start_time": "2023-03-06T18:55:38.504Z"
      },
      {
        "duration": 30,
        "start_time": "2023-03-06T18:55:38.548Z"
      },
      {
        "duration": 110,
        "start_time": "2023-03-06T18:55:38.579Z"
      },
      {
        "duration": 0,
        "start_time": "2023-03-06T18:55:38.691Z"
      },
      {
        "duration": 0,
        "start_time": "2023-03-06T18:55:38.692Z"
      },
      {
        "duration": 0,
        "start_time": "2023-03-06T18:55:38.693Z"
      },
      {
        "duration": 1,
        "start_time": "2023-03-06T18:55:38.694Z"
      },
      {
        "duration": 0,
        "start_time": "2023-03-06T18:55:38.696Z"
      },
      {
        "duration": 0,
        "start_time": "2023-03-06T18:55:38.697Z"
      },
      {
        "duration": 0,
        "start_time": "2023-03-06T18:55:38.698Z"
      },
      {
        "duration": 0,
        "start_time": "2023-03-06T18:55:38.699Z"
      },
      {
        "duration": 0,
        "start_time": "2023-03-06T18:55:38.700Z"
      },
      {
        "duration": 0,
        "start_time": "2023-03-06T18:55:38.702Z"
      },
      {
        "duration": 0,
        "start_time": "2023-03-06T18:55:38.703Z"
      },
      {
        "duration": 1321,
        "start_time": "2023-03-06T18:55:59.511Z"
      },
      {
        "duration": 355,
        "start_time": "2023-03-06T18:56:00.834Z"
      },
      {
        "duration": 24,
        "start_time": "2023-03-06T18:56:01.191Z"
      },
      {
        "duration": 148,
        "start_time": "2023-03-06T18:56:01.217Z"
      },
      {
        "duration": 17,
        "start_time": "2023-03-06T18:56:01.367Z"
      },
      {
        "duration": 737,
        "start_time": "2023-03-06T18:56:01.386Z"
      },
      {
        "duration": 819,
        "start_time": "2023-03-06T18:56:02.125Z"
      },
      {
        "duration": 722,
        "start_time": "2023-03-06T18:56:02.946Z"
      },
      {
        "duration": 5,
        "start_time": "2023-03-06T18:56:03.670Z"
      },
      {
        "duration": 29,
        "start_time": "2023-03-06T18:56:03.677Z"
      },
      {
        "duration": 48,
        "start_time": "2023-03-06T18:56:03.708Z"
      },
      {
        "duration": 30,
        "start_time": "2023-03-06T18:56:03.758Z"
      },
      {
        "duration": 50,
        "start_time": "2023-03-06T18:56:03.790Z"
      },
      {
        "duration": 3,
        "start_time": "2023-03-06T18:56:03.843Z"
      },
      {
        "duration": 197,
        "start_time": "2023-03-06T18:56:03.847Z"
      },
      {
        "duration": 297,
        "start_time": "2023-03-06T18:56:04.046Z"
      },
      {
        "duration": 295,
        "start_time": "2023-03-06T18:56:04.346Z"
      },
      {
        "duration": 95,
        "start_time": "2023-03-06T18:56:04.645Z"
      },
      {
        "duration": 11,
        "start_time": "2023-03-06T18:56:04.742Z"
      },
      {
        "duration": 8,
        "start_time": "2023-03-06T18:56:04.754Z"
      },
      {
        "duration": 6,
        "start_time": "2023-03-06T18:56:04.763Z"
      },
      {
        "duration": 877,
        "start_time": "2023-03-06T18:56:04.770Z"
      },
      {
        "duration": 851,
        "start_time": "2023-03-06T18:56:05.649Z"
      },
      {
        "duration": 877,
        "start_time": "2023-03-06T18:56:06.502Z"
      },
      {
        "duration": 103,
        "start_time": "2023-03-06T19:04:28.171Z"
      },
      {
        "duration": 1238,
        "start_time": "2023-03-06T19:04:35.791Z"
      },
      {
        "duration": 346,
        "start_time": "2023-03-06T19:04:37.031Z"
      },
      {
        "duration": 25,
        "start_time": "2023-03-06T19:04:37.378Z"
      },
      {
        "duration": 138,
        "start_time": "2023-03-06T19:04:37.404Z"
      },
      {
        "duration": 19,
        "start_time": "2023-03-06T19:04:37.544Z"
      },
      {
        "duration": 717,
        "start_time": "2023-03-06T19:04:37.564Z"
      },
      {
        "duration": 780,
        "start_time": "2023-03-06T19:04:38.283Z"
      },
      {
        "duration": 732,
        "start_time": "2023-03-06T19:04:39.065Z"
      },
      {
        "duration": 6,
        "start_time": "2023-03-06T19:04:39.798Z"
      },
      {
        "duration": 40,
        "start_time": "2023-03-06T19:04:39.806Z"
      },
      {
        "duration": 268,
        "start_time": "2023-03-06T19:04:39.848Z"
      },
      {
        "duration": 0,
        "start_time": "2023-03-06T19:04:40.117Z"
      },
      {
        "duration": 0,
        "start_time": "2023-03-06T19:04:40.119Z"
      },
      {
        "duration": 0,
        "start_time": "2023-03-06T19:04:40.119Z"
      },
      {
        "duration": 0,
        "start_time": "2023-03-06T19:04:40.120Z"
      },
      {
        "duration": 0,
        "start_time": "2023-03-06T19:04:40.139Z"
      },
      {
        "duration": 0,
        "start_time": "2023-03-06T19:04:40.141Z"
      },
      {
        "duration": 0,
        "start_time": "2023-03-06T19:04:40.142Z"
      },
      {
        "duration": 77,
        "start_time": "2023-03-06T19:05:25.365Z"
      },
      {
        "duration": 5,
        "start_time": "2023-03-06T19:05:44.545Z"
      },
      {
        "duration": 30,
        "start_time": "2023-03-06T19:05:45.537Z"
      },
      {
        "duration": 10,
        "start_time": "2023-03-06T19:05:46.712Z"
      },
      {
        "duration": 7,
        "start_time": "2023-03-06T19:06:22.510Z"
      },
      {
        "duration": 32,
        "start_time": "2023-03-06T19:06:23.443Z"
      },
      {
        "duration": 4,
        "start_time": "2023-03-06T19:06:24.349Z"
      },
      {
        "duration": 95,
        "start_time": "2023-03-06T19:08:17.344Z"
      },
      {
        "duration": 8,
        "start_time": "2023-03-06T19:08:51.862Z"
      },
      {
        "duration": 339,
        "start_time": "2023-03-06T19:08:57.703Z"
      },
      {
        "duration": 3,
        "start_time": "2023-03-06T19:08:59.811Z"
      },
      {
        "duration": 3,
        "start_time": "2023-03-06T19:09:22.017Z"
      },
      {
        "duration": 5,
        "start_time": "2023-03-06T19:18:01.534Z"
      },
      {
        "duration": 6,
        "start_time": "2023-03-06T19:18:11.629Z"
      },
      {
        "duration": 6,
        "start_time": "2023-03-06T19:21:07.203Z"
      },
      {
        "duration": 6,
        "start_time": "2023-03-06T19:21:21.110Z"
      },
      {
        "duration": 7,
        "start_time": "2023-03-06T19:21:49.423Z"
      },
      {
        "duration": 8,
        "start_time": "2023-03-06T19:21:53.041Z"
      },
      {
        "duration": 6,
        "start_time": "2023-03-06T19:22:14.851Z"
      },
      {
        "duration": 1275,
        "start_time": "2023-03-06T19:22:32.339Z"
      },
      {
        "duration": 341,
        "start_time": "2023-03-06T19:22:33.616Z"
      },
      {
        "duration": 25,
        "start_time": "2023-03-06T19:22:33.958Z"
      },
      {
        "duration": 135,
        "start_time": "2023-03-06T19:22:33.985Z"
      },
      {
        "duration": 25,
        "start_time": "2023-03-06T19:22:34.122Z"
      },
      {
        "duration": 726,
        "start_time": "2023-03-06T19:22:34.148Z"
      },
      {
        "duration": 759,
        "start_time": "2023-03-06T19:22:34.876Z"
      },
      {
        "duration": 675,
        "start_time": "2023-03-06T19:22:35.636Z"
      },
      {
        "duration": 7,
        "start_time": "2023-03-06T19:22:36.312Z"
      },
      {
        "duration": 422,
        "start_time": "2023-03-06T19:22:36.320Z"
      },
      {
        "duration": 97,
        "start_time": "2023-03-06T19:22:36.744Z"
      },
      {
        "duration": 104,
        "start_time": "2023-03-06T19:22:36.843Z"
      },
      {
        "duration": 6,
        "start_time": "2023-03-06T19:22:36.949Z"
      },
      {
        "duration": 6,
        "start_time": "2023-03-06T19:22:36.957Z"
      },
      {
        "duration": 5,
        "start_time": "2023-03-06T19:22:36.964Z"
      },
      {
        "duration": 880,
        "start_time": "2023-03-06T19:22:36.970Z"
      },
      {
        "duration": 836,
        "start_time": "2023-03-06T19:22:37.851Z"
      },
      {
        "duration": 847,
        "start_time": "2023-03-06T19:22:38.689Z"
      },
      {
        "duration": 956,
        "start_time": "2023-03-06T19:22:58.364Z"
      },
      {
        "duration": 857,
        "start_time": "2023-03-06T19:23:06.563Z"
      },
      {
        "duration": 844,
        "start_time": "2023-03-06T19:23:10.627Z"
      },
      {
        "duration": 1880,
        "start_time": "2023-03-07T08:55:37.747Z"
      },
      {
        "duration": 753,
        "start_time": "2023-03-07T08:55:39.629Z"
      },
      {
        "duration": 28,
        "start_time": "2023-03-07T08:55:40.384Z"
      },
      {
        "duration": 141,
        "start_time": "2023-03-07T08:55:40.414Z"
      },
      {
        "duration": 23,
        "start_time": "2023-03-07T08:55:40.556Z"
      },
      {
        "duration": 795,
        "start_time": "2023-03-07T08:55:40.581Z"
      },
      {
        "duration": 833,
        "start_time": "2023-03-07T08:55:41.378Z"
      },
      {
        "duration": 740,
        "start_time": "2023-03-07T08:55:42.213Z"
      },
      {
        "duration": 7,
        "start_time": "2023-03-07T08:55:42.955Z"
      },
      {
        "duration": 487,
        "start_time": "2023-03-07T08:55:42.965Z"
      },
      {
        "duration": 85,
        "start_time": "2023-03-07T08:55:43.455Z"
      },
      {
        "duration": 30,
        "start_time": "2023-03-07T08:55:43.632Z"
      },
      {
        "duration": 18,
        "start_time": "2023-03-07T08:55:43.664Z"
      },
      {
        "duration": 24,
        "start_time": "2023-03-07T08:55:43.684Z"
      },
      {
        "duration": 10,
        "start_time": "2023-03-07T08:55:43.709Z"
      },
      {
        "duration": 940,
        "start_time": "2023-03-07T08:55:43.721Z"
      },
      {
        "duration": 885,
        "start_time": "2023-03-07T08:55:44.663Z"
      },
      {
        "duration": 900,
        "start_time": "2023-03-07T08:55:45.550Z"
      },
      {
        "duration": 1479,
        "start_time": "2023-03-07T09:30:55.495Z"
      },
      {
        "duration": 413,
        "start_time": "2023-03-07T09:30:56.976Z"
      },
      {
        "duration": 26,
        "start_time": "2023-03-07T09:30:57.392Z"
      },
      {
        "duration": 155,
        "start_time": "2023-03-07T09:30:57.430Z"
      },
      {
        "duration": 23,
        "start_time": "2023-03-07T09:30:57.587Z"
      },
      {
        "duration": 817,
        "start_time": "2023-03-07T09:30:57.611Z"
      },
      {
        "duration": 842,
        "start_time": "2023-03-07T09:30:58.430Z"
      },
      {
        "duration": 850,
        "start_time": "2023-03-07T09:30:59.273Z"
      },
      {
        "duration": 7,
        "start_time": "2023-03-07T09:31:00.124Z"
      },
      {
        "duration": 496,
        "start_time": "2023-03-07T09:31:00.134Z"
      },
      {
        "duration": 12,
        "start_time": "2023-03-07T09:31:00.633Z"
      },
      {
        "duration": 56,
        "start_time": "2023-03-07T09:31:00.731Z"
      },
      {
        "duration": 41,
        "start_time": "2023-03-07T09:31:00.789Z"
      },
      {
        "duration": 52,
        "start_time": "2023-03-07T09:31:00.832Z"
      },
      {
        "duration": 38,
        "start_time": "2023-03-07T09:31:00.886Z"
      },
      {
        "duration": 1044,
        "start_time": "2023-03-07T09:31:00.925Z"
      },
      {
        "duration": 1487,
        "start_time": "2023-03-07T09:31:01.970Z"
      },
      {
        "duration": 2178,
        "start_time": "2023-03-07T09:31:03.459Z"
      },
      {
        "duration": 5,
        "start_time": "2023-03-07T09:34:57.157Z"
      },
      {
        "duration": 700,
        "start_time": "2023-03-07T09:56:03.334Z"
      },
      {
        "duration": 1429,
        "start_time": "2023-03-07T09:57:29.198Z"
      },
      {
        "duration": 430,
        "start_time": "2023-03-07T09:57:30.629Z"
      },
      {
        "duration": 39,
        "start_time": "2023-03-07T09:57:31.061Z"
      },
      {
        "duration": 446,
        "start_time": "2023-03-07T09:57:31.103Z"
      },
      {
        "duration": 84,
        "start_time": "2023-03-07T09:57:31.552Z"
      },
      {
        "duration": 1853,
        "start_time": "2023-03-07T09:57:31.639Z"
      },
      {
        "duration": 962,
        "start_time": "2023-03-07T09:57:33.494Z"
      },
      {
        "duration": 760,
        "start_time": "2023-03-07T09:57:34.458Z"
      },
      {
        "duration": 7,
        "start_time": "2023-03-07T09:57:35.219Z"
      },
      {
        "duration": 412,
        "start_time": "2023-03-07T09:57:35.231Z"
      },
      {
        "duration": 191,
        "start_time": "2023-03-07T09:57:35.645Z"
      },
      {
        "duration": 19,
        "start_time": "2023-03-07T09:57:35.838Z"
      },
      {
        "duration": 16,
        "start_time": "2023-03-07T09:57:35.859Z"
      },
      {
        "duration": 14,
        "start_time": "2023-03-07T09:57:35.878Z"
      },
      {
        "duration": 17,
        "start_time": "2023-03-07T09:57:35.894Z"
      },
      {
        "duration": 1192,
        "start_time": "2023-03-07T09:57:35.913Z"
      },
      {
        "duration": 1080,
        "start_time": "2023-03-07T09:57:37.107Z"
      },
      {
        "duration": 1090,
        "start_time": "2023-03-07T09:57:38.190Z"
      },
      {
        "duration": 1527,
        "start_time": "2023-03-07T10:04:02.636Z"
      },
      {
        "duration": 492,
        "start_time": "2023-03-07T10:04:04.166Z"
      },
      {
        "duration": 31,
        "start_time": "2023-03-07T10:04:04.661Z"
      },
      {
        "duration": 193,
        "start_time": "2023-03-07T10:04:04.694Z"
      },
      {
        "duration": 24,
        "start_time": "2023-03-07T10:04:04.889Z"
      },
      {
        "duration": 794,
        "start_time": "2023-03-07T10:04:04.931Z"
      },
      {
        "duration": 936,
        "start_time": "2023-03-07T10:04:05.731Z"
      },
      {
        "duration": 805,
        "start_time": "2023-03-07T10:04:06.669Z"
      },
      {
        "duration": 9,
        "start_time": "2023-03-07T10:04:07.476Z"
      },
      {
        "duration": 543,
        "start_time": "2023-03-07T10:04:07.488Z"
      },
      {
        "duration": 99,
        "start_time": "2023-03-07T10:04:08.033Z"
      },
      {
        "duration": 2,
        "start_time": "2023-03-07T10:04:08.134Z"
      },
      {
        "duration": 20,
        "start_time": "2023-03-07T10:04:08.138Z"
      },
      {
        "duration": 41,
        "start_time": "2023-03-07T10:04:08.159Z"
      },
      {
        "duration": 16,
        "start_time": "2023-03-07T10:04:08.202Z"
      },
      {
        "duration": 1072,
        "start_time": "2023-03-07T10:04:08.220Z"
      },
      {
        "duration": 1034,
        "start_time": "2023-03-07T10:04:09.294Z"
      },
      {
        "duration": 1070,
        "start_time": "2023-03-07T10:04:10.330Z"
      },
      {
        "duration": 1740,
        "start_time": "2023-03-07T11:02:57.455Z"
      },
      {
        "duration": 542,
        "start_time": "2023-03-07T11:02:59.198Z"
      },
      {
        "duration": 37,
        "start_time": "2023-03-07T11:02:59.742Z"
      },
      {
        "duration": 231,
        "start_time": "2023-03-07T11:02:59.784Z"
      },
      {
        "duration": 61,
        "start_time": "2023-03-07T11:03:00.019Z"
      },
      {
        "duration": 829,
        "start_time": "2023-03-07T11:03:00.082Z"
      },
      {
        "duration": 966,
        "start_time": "2023-03-07T11:03:00.913Z"
      },
      {
        "duration": 815,
        "start_time": "2023-03-07T11:03:01.881Z"
      },
      {
        "duration": 7,
        "start_time": "2023-03-07T11:03:02.698Z"
      },
      {
        "duration": 423,
        "start_time": "2023-03-07T11:03:02.706Z"
      },
      {
        "duration": 22,
        "start_time": "2023-03-07T11:03:03.131Z"
      },
      {
        "duration": 87,
        "start_time": "2023-03-07T11:03:03.158Z"
      },
      {
        "duration": 25,
        "start_time": "2023-03-07T11:03:03.247Z"
      },
      {
        "duration": 12,
        "start_time": "2023-03-07T11:03:03.277Z"
      },
      {
        "duration": 8,
        "start_time": "2023-03-07T11:03:03.291Z"
      },
      {
        "duration": 2290,
        "start_time": "2023-03-07T11:03:03.301Z"
      },
      {
        "duration": 1888,
        "start_time": "2023-03-07T11:03:05.593Z"
      },
      {
        "duration": 2072,
        "start_time": "2023-03-07T11:03:07.483Z"
      },
      {
        "duration": 1829,
        "start_time": "2023-03-07T11:04:11.545Z"
      },
      {
        "duration": 536,
        "start_time": "2023-03-07T11:04:13.377Z"
      },
      {
        "duration": 55,
        "start_time": "2023-03-07T11:04:13.915Z"
      },
      {
        "duration": 202,
        "start_time": "2023-03-07T11:04:13.972Z"
      },
      {
        "duration": 29,
        "start_time": "2023-03-07T11:04:14.182Z"
      },
      {
        "duration": 892,
        "start_time": "2023-03-07T11:04:14.213Z"
      },
      {
        "duration": 1011,
        "start_time": "2023-03-07T11:04:15.107Z"
      },
      {
        "duration": 889,
        "start_time": "2023-03-07T11:04:16.123Z"
      },
      {
        "duration": 28,
        "start_time": "2023-03-07T11:04:17.015Z"
      },
      {
        "duration": 334,
        "start_time": "2023-03-07T11:04:17.055Z"
      },
      {
        "duration": 63,
        "start_time": "2023-03-07T11:04:17.392Z"
      },
      {
        "duration": 64,
        "start_time": "2023-03-07T11:04:17.471Z"
      },
      {
        "duration": 12,
        "start_time": "2023-03-07T11:04:17.549Z"
      },
      {
        "duration": 11,
        "start_time": "2023-03-07T11:04:17.570Z"
      },
      {
        "duration": 7,
        "start_time": "2023-03-07T11:04:17.583Z"
      },
      {
        "duration": 1254,
        "start_time": "2023-03-07T11:04:17.591Z"
      },
      {
        "duration": 1293,
        "start_time": "2023-03-07T11:04:18.855Z"
      },
      {
        "duration": 1135,
        "start_time": "2023-03-07T11:04:20.150Z"
      },
      {
        "duration": 10,
        "start_time": "2023-03-07T23:29:26.617Z"
      },
      {
        "duration": 49,
        "start_time": "2023-03-08T08:55:59.739Z"
      },
      {
        "duration": 1549,
        "start_time": "2023-03-08T08:56:06.440Z"
      },
      {
        "duration": 795,
        "start_time": "2023-03-08T08:56:07.991Z"
      },
      {
        "duration": 27,
        "start_time": "2023-03-08T08:56:08.788Z"
      },
      {
        "duration": 165,
        "start_time": "2023-03-08T08:56:08.817Z"
      },
      {
        "duration": 117,
        "start_time": "2023-03-08T08:56:08.983Z"
      },
      {
        "duration": 0,
        "start_time": "2023-03-08T08:56:09.102Z"
      },
      {
        "duration": 0,
        "start_time": "2023-03-08T08:56:09.104Z"
      },
      {
        "duration": 0,
        "start_time": "2023-03-08T08:56:09.106Z"
      },
      {
        "duration": 0,
        "start_time": "2023-03-08T08:56:09.107Z"
      },
      {
        "duration": 0,
        "start_time": "2023-03-08T08:56:09.108Z"
      },
      {
        "duration": 0,
        "start_time": "2023-03-08T08:56:09.110Z"
      },
      {
        "duration": 0,
        "start_time": "2023-03-08T08:56:09.111Z"
      },
      {
        "duration": 0,
        "start_time": "2023-03-08T08:56:09.112Z"
      },
      {
        "duration": 0,
        "start_time": "2023-03-08T08:56:09.113Z"
      },
      {
        "duration": 0,
        "start_time": "2023-03-08T08:56:09.114Z"
      },
      {
        "duration": 0,
        "start_time": "2023-03-08T08:56:09.116Z"
      },
      {
        "duration": 0,
        "start_time": "2023-03-08T08:56:09.117Z"
      },
      {
        "duration": 0,
        "start_time": "2023-03-08T08:56:09.118Z"
      },
      {
        "duration": 0,
        "start_time": "2023-03-08T08:56:09.120Z"
      },
      {
        "duration": 0,
        "start_time": "2023-03-08T08:56:09.121Z"
      },
      {
        "duration": 17,
        "start_time": "2023-03-08T08:56:37.736Z"
      },
      {
        "duration": 1306,
        "start_time": "2023-03-08T08:56:43.908Z"
      },
      {
        "duration": 381,
        "start_time": "2023-03-08T08:56:45.216Z"
      },
      {
        "duration": 27,
        "start_time": "2023-03-08T08:56:45.599Z"
      },
      {
        "duration": 165,
        "start_time": "2023-03-08T08:56:45.629Z"
      },
      {
        "duration": 15,
        "start_time": "2023-03-08T08:56:45.796Z"
      },
      {
        "duration": 26,
        "start_time": "2023-03-08T08:56:45.813Z"
      },
      {
        "duration": 690,
        "start_time": "2023-03-08T08:56:45.840Z"
      },
      {
        "duration": 758,
        "start_time": "2023-03-08T08:56:46.532Z"
      },
      {
        "duration": 664,
        "start_time": "2023-03-08T08:56:47.292Z"
      },
      {
        "duration": 7,
        "start_time": "2023-03-08T08:56:47.958Z"
      },
      {
        "duration": 414,
        "start_time": "2023-03-08T08:56:47.976Z"
      },
      {
        "duration": 88,
        "start_time": "2023-03-08T08:56:48.393Z"
      },
      {
        "duration": 114,
        "start_time": "2023-03-08T08:56:48.485Z"
      },
      {
        "duration": 9,
        "start_time": "2023-03-08T08:56:48.601Z"
      },
      {
        "duration": 20,
        "start_time": "2023-03-08T08:56:48.611Z"
      },
      {
        "duration": 26,
        "start_time": "2023-03-08T08:56:48.633Z"
      },
      {
        "duration": 11,
        "start_time": "2023-03-08T08:56:48.661Z"
      },
      {
        "duration": 1011,
        "start_time": "2023-03-08T08:56:48.674Z"
      },
      {
        "duration": 950,
        "start_time": "2023-03-08T08:56:49.687Z"
      },
      {
        "duration": 981,
        "start_time": "2023-03-08T08:56:50.638Z"
      },
      {
        "duration": 108,
        "start_time": "2023-03-08T09:00:05.572Z"
      },
      {
        "duration": 1399,
        "start_time": "2023-03-08T09:00:24.655Z"
      },
      {
        "duration": 388,
        "start_time": "2023-03-08T09:00:26.056Z"
      },
      {
        "duration": 26,
        "start_time": "2023-03-08T09:00:26.446Z"
      },
      {
        "duration": 155,
        "start_time": "2023-03-08T09:00:26.478Z"
      },
      {
        "duration": 123,
        "start_time": "2023-03-08T09:00:26.635Z"
      },
      {
        "duration": 29,
        "start_time": "2023-03-08T09:00:26.760Z"
      },
      {
        "duration": 680,
        "start_time": "2023-03-08T09:00:26.791Z"
      },
      {
        "duration": 759,
        "start_time": "2023-03-08T09:00:27.473Z"
      },
      {
        "duration": 706,
        "start_time": "2023-03-08T09:00:28.234Z"
      },
      {
        "duration": 6,
        "start_time": "2023-03-08T09:00:28.943Z"
      },
      {
        "duration": 526,
        "start_time": "2023-03-08T09:00:28.951Z"
      },
      {
        "duration": 102,
        "start_time": "2023-03-08T09:00:29.480Z"
      },
      {
        "duration": 34,
        "start_time": "2023-03-08T09:00:29.584Z"
      },
      {
        "duration": 31,
        "start_time": "2023-03-08T09:00:29.621Z"
      },
      {
        "duration": 40,
        "start_time": "2023-03-08T09:00:29.654Z"
      },
      {
        "duration": 35,
        "start_time": "2023-03-08T09:00:29.695Z"
      },
      {
        "duration": 33,
        "start_time": "2023-03-08T09:00:29.731Z"
      },
      {
        "duration": 1053,
        "start_time": "2023-03-08T09:00:29.766Z"
      },
      {
        "duration": 985,
        "start_time": "2023-03-08T09:00:30.821Z"
      },
      {
        "duration": 1049,
        "start_time": "2023-03-08T09:00:31.808Z"
      },
      {
        "duration": 119,
        "start_time": "2023-03-08T09:01:23.019Z"
      },
      {
        "duration": 127,
        "start_time": "2023-03-08T09:04:09.203Z"
      },
      {
        "duration": 1160,
        "start_time": "2023-03-08T09:04:32.954Z"
      },
      {
        "duration": 561,
        "start_time": "2023-03-08T09:05:21.275Z"
      },
      {
        "duration": 70,
        "start_time": "2023-03-08T09:07:22.851Z"
      },
      {
        "duration": 481,
        "start_time": "2023-03-08T09:08:13.317Z"
      },
      {
        "duration": 75,
        "start_time": "2023-03-08T09:08:46.728Z"
      },
      {
        "duration": 119,
        "start_time": "2023-03-08T09:08:58.529Z"
      },
      {
        "duration": 550,
        "start_time": "2023-03-08T09:09:27.940Z"
      },
      {
        "duration": 441,
        "start_time": "2023-03-08T09:14:22.593Z"
      },
      {
        "duration": 599,
        "start_time": "2023-03-08T09:14:50.730Z"
      },
      {
        "duration": 554,
        "start_time": "2023-03-08T09:19:28.939Z"
      },
      {
        "duration": 50,
        "start_time": "2023-03-08T09:21:17.459Z"
      },
      {
        "duration": 46,
        "start_time": "2023-03-08T09:21:22.309Z"
      },
      {
        "duration": 624,
        "start_time": "2023-03-08T09:21:26.335Z"
      },
      {
        "duration": 757,
        "start_time": "2023-03-08T09:31:03.502Z"
      },
      {
        "duration": 27,
        "start_time": "2023-03-08T09:31:41.748Z"
      },
      {
        "duration": 92,
        "start_time": "2023-03-08T09:31:49.076Z"
      },
      {
        "duration": 147,
        "start_time": "2023-03-08T09:33:04.276Z"
      },
      {
        "duration": 51,
        "start_time": "2023-03-08T09:33:54.321Z"
      },
      {
        "duration": 4,
        "start_time": "2023-03-08T09:34:18.420Z"
      },
      {
        "duration": 5,
        "start_time": "2023-03-08T09:34:46.881Z"
      },
      {
        "duration": 144,
        "start_time": "2023-03-08T09:35:21.260Z"
      },
      {
        "duration": 1137,
        "start_time": "2023-03-08T09:36:54.405Z"
      },
      {
        "duration": 2024,
        "start_time": "2023-03-08T09:37:15.808Z"
      },
      {
        "duration": 677,
        "start_time": "2023-03-08T09:40:52.841Z"
      },
      {
        "duration": 86,
        "start_time": "2023-03-08T09:43:02.153Z"
      },
      {
        "duration": 20,
        "start_time": "2023-03-08T09:48:00.113Z"
      },
      {
        "duration": 11,
        "start_time": "2023-03-08T09:48:47.218Z"
      },
      {
        "duration": 3261,
        "start_time": "2023-03-08T09:51:37.794Z"
      },
      {
        "duration": 2513,
        "start_time": "2023-03-08T09:51:52.067Z"
      },
      {
        "duration": 1592,
        "start_time": "2023-03-08T09:51:54.584Z"
      },
      {
        "duration": 402,
        "start_time": "2023-03-08T09:51:56.178Z"
      },
      {
        "duration": 27,
        "start_time": "2023-03-08T09:51:56.585Z"
      },
      {
        "duration": 168,
        "start_time": "2023-03-08T09:51:56.614Z"
      },
      {
        "duration": 771,
        "start_time": "2023-03-08T09:51:56.786Z"
      },
      {
        "duration": 48,
        "start_time": "2023-03-08T09:51:57.559Z"
      },
      {
        "duration": 920,
        "start_time": "2023-03-08T09:51:57.608Z"
      },
      {
        "duration": 935,
        "start_time": "2023-03-08T09:51:58.530Z"
      },
      {
        "duration": 869,
        "start_time": "2023-03-08T09:51:59.468Z"
      },
      {
        "duration": 0,
        "start_time": "2023-03-08T09:54:34.151Z"
      },
      {
        "duration": 0,
        "start_time": "2023-03-08T09:54:34.152Z"
      },
      {
        "duration": 0,
        "start_time": "2023-03-08T09:54:34.154Z"
      },
      {
        "duration": 0,
        "start_time": "2023-03-08T09:54:34.157Z"
      },
      {
        "duration": 0,
        "start_time": "2023-03-08T09:54:34.158Z"
      },
      {
        "duration": 0,
        "start_time": "2023-03-08T09:54:34.160Z"
      },
      {
        "duration": 0,
        "start_time": "2023-03-08T09:54:34.161Z"
      },
      {
        "duration": 0,
        "start_time": "2023-03-08T09:54:34.178Z"
      },
      {
        "duration": 0,
        "start_time": "2023-03-08T09:54:34.180Z"
      },
      {
        "duration": 0,
        "start_time": "2023-03-08T09:54:34.181Z"
      },
      {
        "duration": 0,
        "start_time": "2023-03-08T09:54:34.183Z"
      },
      {
        "duration": 0,
        "start_time": "2023-03-08T09:54:34.185Z"
      },
      {
        "duration": 57,
        "start_time": "2023-03-08T09:54:46.287Z"
      },
      {
        "duration": 5,
        "start_time": "2023-03-08T09:55:06.863Z"
      },
      {
        "duration": 1436,
        "start_time": "2023-03-08T09:55:15.262Z"
      },
      {
        "duration": 417,
        "start_time": "2023-03-08T09:55:16.703Z"
      },
      {
        "duration": 27,
        "start_time": "2023-03-08T09:55:17.122Z"
      },
      {
        "duration": 190,
        "start_time": "2023-03-08T09:55:17.151Z"
      },
      {
        "duration": 774,
        "start_time": "2023-03-08T09:55:17.343Z"
      },
      {
        "duration": 29,
        "start_time": "2023-03-08T09:55:18.118Z"
      },
      {
        "duration": 933,
        "start_time": "2023-03-08T09:55:18.149Z"
      },
      {
        "duration": 1017,
        "start_time": "2023-03-08T09:55:19.086Z"
      },
      {
        "duration": 880,
        "start_time": "2023-03-08T09:55:20.108Z"
      },
      {
        "duration": 55,
        "start_time": "2023-03-08T09:55:20.991Z"
      },
      {
        "duration": 0,
        "start_time": "2023-03-08T09:55:21.048Z"
      },
      {
        "duration": 0,
        "start_time": "2023-03-08T09:55:21.050Z"
      },
      {
        "duration": 0,
        "start_time": "2023-03-08T09:55:21.051Z"
      },
      {
        "duration": 0,
        "start_time": "2023-03-08T09:55:21.052Z"
      },
      {
        "duration": 0,
        "start_time": "2023-03-08T09:55:21.053Z"
      },
      {
        "duration": 0,
        "start_time": "2023-03-08T09:55:21.054Z"
      },
      {
        "duration": 0,
        "start_time": "2023-03-08T09:55:21.055Z"
      },
      {
        "duration": 0,
        "start_time": "2023-03-08T09:55:21.056Z"
      },
      {
        "duration": 0,
        "start_time": "2023-03-08T09:55:21.058Z"
      },
      {
        "duration": 0,
        "start_time": "2023-03-08T09:55:21.059Z"
      },
      {
        "duration": 0,
        "start_time": "2023-03-08T09:55:21.060Z"
      },
      {
        "duration": 244,
        "start_time": "2023-03-08T09:55:33.139Z"
      },
      {
        "duration": 436,
        "start_time": "2023-03-08T09:55:54.562Z"
      },
      {
        "duration": 240,
        "start_time": "2023-03-08T09:56:00.692Z"
      },
      {
        "duration": 204,
        "start_time": "2023-03-08T09:57:48.349Z"
      },
      {
        "duration": 19,
        "start_time": "2023-03-08T09:58:18.054Z"
      },
      {
        "duration": 1611,
        "start_time": "2023-03-08T09:58:24.503Z"
      },
      {
        "duration": 456,
        "start_time": "2023-03-08T09:58:26.116Z"
      },
      {
        "duration": 48,
        "start_time": "2023-03-08T09:58:26.574Z"
      },
      {
        "duration": 205,
        "start_time": "2023-03-08T09:58:26.624Z"
      },
      {
        "duration": 853,
        "start_time": "2023-03-08T09:58:26.832Z"
      },
      {
        "duration": 48,
        "start_time": "2023-03-08T09:58:27.687Z"
      },
      {
        "duration": 973,
        "start_time": "2023-03-08T09:58:27.738Z"
      },
      {
        "duration": 1099,
        "start_time": "2023-03-08T09:58:28.712Z"
      },
      {
        "duration": 940,
        "start_time": "2023-03-08T09:58:29.813Z"
      },
      {
        "duration": 163,
        "start_time": "2023-03-08T09:58:30.756Z"
      },
      {
        "duration": 0,
        "start_time": "2023-03-08T09:58:30.922Z"
      },
      {
        "duration": 0,
        "start_time": "2023-03-08T09:58:30.924Z"
      },
      {
        "duration": 0,
        "start_time": "2023-03-08T09:58:30.926Z"
      },
      {
        "duration": 0,
        "start_time": "2023-03-08T09:58:30.928Z"
      },
      {
        "duration": 0,
        "start_time": "2023-03-08T09:58:30.929Z"
      },
      {
        "duration": 0,
        "start_time": "2023-03-08T09:58:30.931Z"
      },
      {
        "duration": 0,
        "start_time": "2023-03-08T09:58:30.933Z"
      },
      {
        "duration": 0,
        "start_time": "2023-03-08T09:58:30.934Z"
      },
      {
        "duration": 0,
        "start_time": "2023-03-08T09:58:30.936Z"
      },
      {
        "duration": 0,
        "start_time": "2023-03-08T09:58:30.938Z"
      },
      {
        "duration": 0,
        "start_time": "2023-03-08T09:58:30.940Z"
      },
      {
        "duration": 115,
        "start_time": "2023-03-08T09:58:45.379Z"
      },
      {
        "duration": 1848,
        "start_time": "2023-03-08T09:59:33.125Z"
      },
      {
        "duration": 514,
        "start_time": "2023-03-08T09:59:34.975Z"
      },
      {
        "duration": 35,
        "start_time": "2023-03-08T09:59:35.505Z"
      },
      {
        "duration": 259,
        "start_time": "2023-03-08T09:59:35.543Z"
      },
      {
        "duration": 940,
        "start_time": "2023-03-08T09:59:35.804Z"
      },
      {
        "duration": 61,
        "start_time": "2023-03-08T09:59:36.746Z"
      },
      {
        "duration": 1117,
        "start_time": "2023-03-08T09:59:36.810Z"
      },
      {
        "duration": 1331,
        "start_time": "2023-03-08T09:59:37.930Z"
      },
      {
        "duration": 1073,
        "start_time": "2023-03-08T09:59:39.264Z"
      },
      {
        "duration": 111,
        "start_time": "2023-03-08T09:59:40.341Z"
      },
      {
        "duration": 8,
        "start_time": "2023-03-08T09:59:40.454Z"
      },
      {
        "duration": 753,
        "start_time": "2023-03-08T09:59:40.464Z"
      },
      {
        "duration": 63,
        "start_time": "2023-03-08T09:59:41.230Z"
      },
      {
        "duration": 115,
        "start_time": "2023-03-08T09:59:41.296Z"
      },
      {
        "duration": 12,
        "start_time": "2023-03-08T09:59:41.414Z"
      },
      {
        "duration": 15,
        "start_time": "2023-03-08T09:59:41.428Z"
      },
      {
        "duration": 13,
        "start_time": "2023-03-08T09:59:41.445Z"
      },
      {
        "duration": 10,
        "start_time": "2023-03-08T09:59:41.461Z"
      },
      {
        "duration": 1405,
        "start_time": "2023-03-08T09:59:41.474Z"
      },
      {
        "duration": 1161,
        "start_time": "2023-03-08T09:59:42.882Z"
      },
      {
        "duration": 1197,
        "start_time": "2023-03-08T09:59:44.044Z"
      },
      {
        "duration": 139,
        "start_time": "2023-03-08T10:44:44.379Z"
      },
      {
        "duration": 59,
        "start_time": "2023-03-08T10:45:24.386Z"
      },
      {
        "duration": 12,
        "start_time": "2023-03-08T10:45:51.067Z"
      },
      {
        "duration": 8,
        "start_time": "2023-03-08T10:52:12.810Z"
      },
      {
        "duration": 37,
        "start_time": "2023-03-08T10:52:29.417Z"
      },
      {
        "duration": 1053,
        "start_time": "2023-03-08T10:53:34.274Z"
      },
      {
        "duration": 333,
        "start_time": "2023-03-08T10:53:46.396Z"
      },
      {
        "duration": 52,
        "start_time": "2023-03-08T10:54:09.580Z"
      },
      {
        "duration": 40,
        "start_time": "2023-03-08T10:54:14.867Z"
      },
      {
        "duration": 20,
        "start_time": "2023-03-08T10:54:49.416Z"
      },
      {
        "duration": 31,
        "start_time": "2023-03-08T10:55:01.804Z"
      },
      {
        "duration": 8,
        "start_time": "2023-03-08T10:55:12.856Z"
      },
      {
        "duration": 35,
        "start_time": "2023-03-08T10:55:18.270Z"
      },
      {
        "duration": 15,
        "start_time": "2023-03-08T10:55:22.750Z"
      },
      {
        "duration": 28,
        "start_time": "2023-03-08T10:57:39.379Z"
      },
      {
        "duration": 18,
        "start_time": "2023-03-08T10:58:40.905Z"
      },
      {
        "duration": 179,
        "start_time": "2023-03-08T10:58:50.854Z"
      },
      {
        "duration": 15,
        "start_time": "2023-03-08T10:59:03.822Z"
      },
      {
        "duration": 40,
        "start_time": "2023-03-08T10:59:12.972Z"
      },
      {
        "duration": 44,
        "start_time": "2023-03-08T10:59:27.665Z"
      },
      {
        "duration": 28,
        "start_time": "2023-03-08T10:59:51.806Z"
      },
      {
        "duration": 27,
        "start_time": "2023-03-08T11:01:15.995Z"
      },
      {
        "duration": 1423,
        "start_time": "2023-03-08T11:01:29.550Z"
      },
      {
        "duration": 423,
        "start_time": "2023-03-08T11:01:30.976Z"
      },
      {
        "duration": 27,
        "start_time": "2023-03-08T11:01:31.401Z"
      },
      {
        "duration": 174,
        "start_time": "2023-03-08T11:01:31.430Z"
      },
      {
        "duration": 756,
        "start_time": "2023-03-08T11:01:31.606Z"
      },
      {
        "duration": 31,
        "start_time": "2023-03-08T11:01:32.364Z"
      },
      {
        "duration": 910,
        "start_time": "2023-03-08T11:01:32.397Z"
      },
      {
        "duration": 870,
        "start_time": "2023-03-08T11:01:33.309Z"
      },
      {
        "duration": 851,
        "start_time": "2023-03-08T11:01:34.181Z"
      },
      {
        "duration": 78,
        "start_time": "2023-03-08T11:01:35.035Z"
      },
      {
        "duration": 27,
        "start_time": "2023-03-08T11:01:35.115Z"
      },
      {
        "duration": 45,
        "start_time": "2023-03-08T11:01:35.144Z"
      },
      {
        "duration": 8,
        "start_time": "2023-03-08T11:01:35.191Z"
      },
      {
        "duration": 577,
        "start_time": "2023-03-08T11:01:35.201Z"
      },
      {
        "duration": 103,
        "start_time": "2023-03-08T11:01:35.780Z"
      },
      {
        "duration": 32,
        "start_time": "2023-03-08T11:01:35.885Z"
      },
      {
        "duration": 4,
        "start_time": "2023-03-08T11:01:35.919Z"
      },
      {
        "duration": 32,
        "start_time": "2023-03-08T11:01:35.925Z"
      },
      {
        "duration": 23,
        "start_time": "2023-03-08T11:01:35.959Z"
      },
      {
        "duration": 21,
        "start_time": "2023-03-08T11:01:35.984Z"
      },
      {
        "duration": 29,
        "start_time": "2023-03-08T11:01:36.007Z"
      },
      {
        "duration": 1159,
        "start_time": "2023-03-08T11:01:36.038Z"
      },
      {
        "duration": 1047,
        "start_time": "2023-03-08T11:01:37.199Z"
      },
      {
        "duration": 1030,
        "start_time": "2023-03-08T11:01:38.248Z"
      },
      {
        "duration": 1489,
        "start_time": "2023-03-08T11:03:33.458Z"
      },
      {
        "duration": 442,
        "start_time": "2023-03-08T11:03:34.950Z"
      },
      {
        "duration": 27,
        "start_time": "2023-03-08T11:03:35.394Z"
      },
      {
        "duration": 80,
        "start_time": "2023-03-08T11:03:35.424Z"
      },
      {
        "duration": 21,
        "start_time": "2023-03-08T11:03:35.506Z"
      },
      {
        "duration": 22,
        "start_time": "2023-03-08T11:03:35.529Z"
      },
      {
        "duration": 174,
        "start_time": "2023-03-08T11:03:35.553Z"
      },
      {
        "duration": 811,
        "start_time": "2023-03-08T11:03:35.729Z"
      },
      {
        "duration": 35,
        "start_time": "2023-03-08T11:03:36.542Z"
      },
      {
        "duration": 972,
        "start_time": "2023-03-08T11:03:36.581Z"
      },
      {
        "duration": 915,
        "start_time": "2023-03-08T11:03:37.555Z"
      },
      {
        "duration": 837,
        "start_time": "2023-03-08T11:03:38.472Z"
      },
      {
        "duration": 8,
        "start_time": "2023-03-08T11:03:39.311Z"
      },
      {
        "duration": 712,
        "start_time": "2023-03-08T11:03:39.321Z"
      },
      {
        "duration": 56,
        "start_time": "2023-03-08T11:03:40.035Z"
      },
      {
        "duration": 64,
        "start_time": "2023-03-08T11:03:40.177Z"
      },
      {
        "duration": 34,
        "start_time": "2023-03-08T11:03:40.244Z"
      },
      {
        "duration": 45,
        "start_time": "2023-03-08T11:03:40.280Z"
      },
      {
        "duration": 30,
        "start_time": "2023-03-08T11:03:40.327Z"
      },
      {
        "duration": 40,
        "start_time": "2023-03-08T11:03:40.359Z"
      },
      {
        "duration": 22,
        "start_time": "2023-03-08T11:03:40.401Z"
      },
      {
        "duration": 1122,
        "start_time": "2023-03-08T11:03:40.425Z"
      },
      {
        "duration": 1096,
        "start_time": "2023-03-08T11:03:41.549Z"
      },
      {
        "duration": 1046,
        "start_time": "2023-03-08T11:03:42.647Z"
      },
      {
        "duration": 367,
        "start_time": "2023-03-08T11:15:53.913Z"
      },
      {
        "duration": 376,
        "start_time": "2023-03-08T11:16:05.027Z"
      },
      {
        "duration": 406,
        "start_time": "2023-03-08T11:16:29.458Z"
      },
      {
        "duration": 412,
        "start_time": "2023-03-08T11:16:39.945Z"
      },
      {
        "duration": 422,
        "start_time": "2023-03-08T11:17:21.738Z"
      },
      {
        "duration": 407,
        "start_time": "2023-03-08T11:19:22.478Z"
      },
      {
        "duration": 449,
        "start_time": "2023-03-08T11:19:57.811Z"
      },
      {
        "duration": 379,
        "start_time": "2023-03-08T11:20:48.218Z"
      },
      {
        "duration": 411,
        "start_time": "2023-03-08T11:20:52.226Z"
      },
      {
        "duration": 3121,
        "start_time": "2023-03-08T12:04:20.416Z"
      },
      {
        "duration": 46,
        "start_time": "2023-03-08T12:04:48.156Z"
      },
      {
        "duration": 3096,
        "start_time": "2023-03-08T12:04:57.865Z"
      },
      {
        "duration": 4,
        "start_time": "2023-03-08T12:05:34.662Z"
      },
      {
        "duration": 3057,
        "start_time": "2023-03-08T12:08:59.392Z"
      },
      {
        "duration": 6,
        "start_time": "2023-03-08T12:09:32.263Z"
      },
      {
        "duration": 5,
        "start_time": "2023-03-08T12:09:41.326Z"
      },
      {
        "duration": 6,
        "start_time": "2023-03-08T12:09:51.000Z"
      },
      {
        "duration": 233,
        "start_time": "2023-03-08T12:16:43.030Z"
      },
      {
        "duration": 3223,
        "start_time": "2023-03-08T12:21:20.034Z"
      },
      {
        "duration": 14,
        "start_time": "2023-03-08T12:22:13.427Z"
      },
      {
        "duration": 318,
        "start_time": "2023-03-08T12:23:00.889Z"
      },
      {
        "duration": 8,
        "start_time": "2023-03-08T12:30:12.673Z"
      },
      {
        "duration": 3263,
        "start_time": "2023-03-08T12:30:15.215Z"
      },
      {
        "duration": 3131,
        "start_time": "2023-03-08T12:34:23.884Z"
      },
      {
        "duration": 3184,
        "start_time": "2023-03-08T12:34:32.568Z"
      },
      {
        "duration": 11,
        "start_time": "2023-03-08T12:36:02.336Z"
      },
      {
        "duration": 135,
        "start_time": "2023-03-08T12:36:57.095Z"
      },
      {
        "duration": 153,
        "start_time": "2023-03-08T12:37:58.162Z"
      },
      {
        "duration": 163,
        "start_time": "2023-03-08T12:38:40.044Z"
      },
      {
        "duration": 19,
        "start_time": "2023-03-08T12:44:45.406Z"
      },
      {
        "duration": 3223,
        "start_time": "2023-03-08T12:55:32.762Z"
      },
      {
        "duration": 3102,
        "start_time": "2023-03-08T12:55:43.793Z"
      },
      {
        "duration": 1578,
        "start_time": "2023-03-08T12:56:09.493Z"
      },
      {
        "duration": 657,
        "start_time": "2023-03-08T12:56:11.073Z"
      },
      {
        "duration": 26,
        "start_time": "2023-03-08T12:56:11.732Z"
      },
      {
        "duration": 375,
        "start_time": "2023-03-08T12:56:11.761Z"
      },
      {
        "duration": 392,
        "start_time": "2023-03-08T12:56:12.138Z"
      },
      {
        "duration": 390,
        "start_time": "2023-03-08T12:56:12.532Z"
      },
      {
        "duration": 164,
        "start_time": "2023-03-08T12:56:12.925Z"
      },
      {
        "duration": 802,
        "start_time": "2023-03-08T12:56:13.092Z"
      },
      {
        "duration": 24,
        "start_time": "2023-03-08T12:56:13.895Z"
      },
      {
        "duration": 974,
        "start_time": "2023-03-08T12:56:13.922Z"
      },
      {
        "duration": 866,
        "start_time": "2023-03-08T12:56:14.898Z"
      },
      {
        "duration": 981,
        "start_time": "2023-03-08T12:56:15.766Z"
      },
      {
        "duration": 7,
        "start_time": "2023-03-08T12:56:16.749Z"
      },
      {
        "duration": 581,
        "start_time": "2023-03-08T12:56:16.758Z"
      },
      {
        "duration": 54,
        "start_time": "2023-03-08T12:56:17.341Z"
      },
      {
        "duration": 113,
        "start_time": "2023-03-08T12:56:17.399Z"
      },
      {
        "duration": 4,
        "start_time": "2023-03-08T12:56:17.514Z"
      },
      {
        "duration": 14,
        "start_time": "2023-03-08T12:56:17.519Z"
      },
      {
        "duration": 13,
        "start_time": "2023-03-08T12:56:17.535Z"
      },
      {
        "duration": 12,
        "start_time": "2023-03-08T12:56:17.550Z"
      },
      {
        "duration": 5,
        "start_time": "2023-03-08T12:56:17.564Z"
      },
      {
        "duration": 3183,
        "start_time": "2023-03-08T12:56:17.571Z"
      },
      {
        "duration": 4,
        "start_time": "2023-03-08T12:56:20.756Z"
      },
      {
        "duration": 10,
        "start_time": "2023-03-08T12:56:20.779Z"
      },
      {
        "duration": 14,
        "start_time": "2023-03-08T12:56:20.792Z"
      },
      {
        "duration": 158,
        "start_time": "2023-03-08T12:56:20.808Z"
      },
      {
        "duration": 3090,
        "start_time": "2023-03-08T12:58:23.594Z"
      },
      {
        "duration": 3374,
        "start_time": "2023-03-08T12:58:49.478Z"
      },
      {
        "duration": 3025,
        "start_time": "2023-03-08T12:59:18.187Z"
      },
      {
        "duration": 2996,
        "start_time": "2023-03-08T12:59:55.452Z"
      },
      {
        "duration": 10,
        "start_time": "2023-03-08T13:00:59.790Z"
      },
      {
        "duration": 11,
        "start_time": "2023-03-08T13:01:13.805Z"
      },
      {
        "duration": 265,
        "start_time": "2023-03-08T13:01:23.813Z"
      },
      {
        "duration": 155,
        "start_time": "2023-03-08T13:01:47.380Z"
      },
      {
        "duration": 134,
        "start_time": "2023-03-08T13:04:15.173Z"
      },
      {
        "duration": 16,
        "start_time": "2023-03-08T13:04:34.490Z"
      },
      {
        "duration": 141,
        "start_time": "2023-03-08T13:05:47.472Z"
      },
      {
        "duration": 14,
        "start_time": "2023-03-08T13:06:16.772Z"
      },
      {
        "duration": 1545,
        "start_time": "2023-03-08T13:06:25.559Z"
      },
      {
        "duration": 420,
        "start_time": "2023-03-08T13:06:27.106Z"
      },
      {
        "duration": 25,
        "start_time": "2023-03-08T13:06:27.528Z"
      },
      {
        "duration": 374,
        "start_time": "2023-03-08T13:06:27.556Z"
      },
      {
        "duration": 384,
        "start_time": "2023-03-08T13:06:27.932Z"
      },
      {
        "duration": 398,
        "start_time": "2023-03-08T13:06:28.318Z"
      },
      {
        "duration": 166,
        "start_time": "2023-03-08T13:06:28.719Z"
      },
      {
        "duration": 824,
        "start_time": "2023-03-08T13:06:28.887Z"
      },
      {
        "duration": 23,
        "start_time": "2023-03-08T13:06:29.713Z"
      },
      {
        "duration": 945,
        "start_time": "2023-03-08T13:06:29.739Z"
      },
      {
        "duration": 940,
        "start_time": "2023-03-08T13:06:30.687Z"
      },
      {
        "duration": 1084,
        "start_time": "2023-03-08T13:06:31.630Z"
      },
      {
        "duration": 8,
        "start_time": "2023-03-08T13:06:32.716Z"
      },
      {
        "duration": 508,
        "start_time": "2023-03-08T13:06:32.727Z"
      },
      {
        "duration": 148,
        "start_time": "2023-03-08T13:06:33.237Z"
      },
      {
        "duration": 47,
        "start_time": "2023-03-08T13:06:33.387Z"
      },
      {
        "duration": 33,
        "start_time": "2023-03-08T13:06:33.436Z"
      },
      {
        "duration": 37,
        "start_time": "2023-03-08T13:06:33.471Z"
      },
      {
        "duration": 30,
        "start_time": "2023-03-08T13:06:33.510Z"
      },
      {
        "duration": 39,
        "start_time": "2023-03-08T13:06:33.542Z"
      },
      {
        "duration": 25,
        "start_time": "2023-03-08T13:06:33.583Z"
      },
      {
        "duration": 3144,
        "start_time": "2023-03-08T13:06:33.610Z"
      },
      {
        "duration": 7,
        "start_time": "2023-03-08T13:06:36.756Z"
      },
      {
        "duration": 18,
        "start_time": "2023-03-08T13:06:36.764Z"
      },
      {
        "duration": 8,
        "start_time": "2023-03-08T13:06:36.791Z"
      },
      {
        "duration": 23,
        "start_time": "2023-03-08T13:06:36.802Z"
      },
      {
        "duration": 171,
        "start_time": "2023-03-08T13:06:36.827Z"
      },
      {
        "duration": 763,
        "start_time": "2023-03-08T13:07:04.700Z"
      },
      {
        "duration": 135,
        "start_time": "2023-03-08T13:07:36.188Z"
      },
      {
        "duration": 120,
        "start_time": "2023-03-08T13:07:52.998Z"
      },
      {
        "duration": 10733,
        "start_time": "2023-03-08T13:08:07.269Z"
      },
      {
        "duration": 38,
        "start_time": "2023-03-08T13:08:42.769Z"
      },
      {
        "duration": 27,
        "start_time": "2023-03-08T13:08:45.623Z"
      },
      {
        "duration": 23,
        "start_time": "2023-03-08T13:09:50.671Z"
      },
      {
        "duration": 161,
        "start_time": "2023-03-08T13:09:57.344Z"
      },
      {
        "duration": 186,
        "start_time": "2023-03-08T13:12:38.345Z"
      },
      {
        "duration": 202,
        "start_time": "2023-03-08T13:13:57.019Z"
      },
      {
        "duration": 182,
        "start_time": "2023-03-08T13:14:16.249Z"
      },
      {
        "duration": 22,
        "start_time": "2023-03-08T13:16:13.874Z"
      },
      {
        "duration": 189,
        "start_time": "2023-03-08T13:16:22.024Z"
      },
      {
        "duration": 208,
        "start_time": "2023-03-08T13:16:30.463Z"
      },
      {
        "duration": 194,
        "start_time": "2023-03-08T13:16:42.021Z"
      },
      {
        "duration": 209,
        "start_time": "2023-03-08T13:16:49.507Z"
      },
      {
        "duration": 194,
        "start_time": "2023-03-08T13:16:54.623Z"
      },
      {
        "duration": 29,
        "start_time": "2023-03-08T13:21:42.786Z"
      },
      {
        "duration": 2117,
        "start_time": "2023-03-08T13:26:31.094Z"
      },
      {
        "duration": 701,
        "start_time": "2023-03-08T13:26:33.220Z"
      },
      {
        "duration": 62,
        "start_time": "2023-03-08T13:26:33.928Z"
      },
      {
        "duration": 701,
        "start_time": "2023-03-08T13:26:33.994Z"
      },
      {
        "duration": 539,
        "start_time": "2023-03-08T13:26:34.698Z"
      },
      {
        "duration": 457,
        "start_time": "2023-03-08T13:26:35.245Z"
      },
      {
        "duration": 239,
        "start_time": "2023-03-08T13:26:35.704Z"
      },
      {
        "duration": 1312,
        "start_time": "2023-03-08T13:26:35.946Z"
      },
      {
        "duration": 45,
        "start_time": "2023-03-08T13:26:37.260Z"
      },
      {
        "duration": 1467,
        "start_time": "2023-03-08T13:26:37.310Z"
      },
      {
        "duration": 1879,
        "start_time": "2023-03-08T13:26:38.780Z"
      },
      {
        "duration": 1319,
        "start_time": "2023-03-08T13:26:40.662Z"
      },
      {
        "duration": 11,
        "start_time": "2023-03-08T13:26:41.984Z"
      },
      {
        "duration": 726,
        "start_time": "2023-03-08T13:26:41.998Z"
      },
      {
        "duration": 35,
        "start_time": "2023-03-08T13:26:42.779Z"
      },
      {
        "duration": 111,
        "start_time": "2023-03-08T13:26:42.819Z"
      },
      {
        "duration": 22,
        "start_time": "2023-03-08T13:26:42.936Z"
      },
      {
        "duration": 17,
        "start_time": "2023-03-08T13:26:42.960Z"
      },
      {
        "duration": 29,
        "start_time": "2023-03-08T13:26:42.980Z"
      },
      {
        "duration": 52,
        "start_time": "2023-03-08T13:26:43.012Z"
      },
      {
        "duration": 57,
        "start_time": "2023-03-08T13:26:43.066Z"
      },
      {
        "duration": 3946,
        "start_time": "2023-03-08T13:26:43.126Z"
      },
      {
        "duration": 17,
        "start_time": "2023-03-08T13:26:47.077Z"
      },
      {
        "duration": 13,
        "start_time": "2023-03-08T13:26:47.097Z"
      },
      {
        "duration": 14,
        "start_time": "2023-03-08T13:26:47.112Z"
      },
      {
        "duration": 18,
        "start_time": "2023-03-08T13:26:47.128Z"
      },
      {
        "duration": 194,
        "start_time": "2023-03-08T13:26:47.150Z"
      },
      {
        "duration": 0,
        "start_time": "2023-03-09T12:58:30.490Z"
      },
      {
        "duration": 1501,
        "start_time": "2023-03-09T12:59:44.628Z"
      },
      {
        "duration": 408,
        "start_time": "2023-03-09T12:59:46.131Z"
      },
      {
        "duration": 28,
        "start_time": "2023-03-09T12:59:46.541Z"
      },
      {
        "duration": 368,
        "start_time": "2023-03-09T12:59:46.571Z"
      },
      {
        "duration": 351,
        "start_time": "2023-03-09T12:59:46.942Z"
      },
      {
        "duration": 316,
        "start_time": "2023-03-09T12:59:47.294Z"
      },
      {
        "duration": 134,
        "start_time": "2023-03-09T12:59:47.612Z"
      },
      {
        "duration": 613,
        "start_time": "2023-03-09T12:59:47.748Z"
      },
      {
        "duration": 31,
        "start_time": "2023-03-09T12:59:48.362Z"
      },
      {
        "duration": 835,
        "start_time": "2023-03-09T12:59:48.395Z"
      },
      {
        "duration": 763,
        "start_time": "2023-03-09T12:59:49.231Z"
      },
      {
        "duration": 845,
        "start_time": "2023-03-09T12:59:49.995Z"
      },
      {
        "duration": 6,
        "start_time": "2023-03-09T12:59:50.842Z"
      },
      {
        "duration": 540,
        "start_time": "2023-03-09T12:59:50.850Z"
      },
      {
        "duration": 103,
        "start_time": "2023-03-09T12:59:51.393Z"
      },
      {
        "duration": 36,
        "start_time": "2023-03-09T12:59:51.498Z"
      },
      {
        "duration": 18,
        "start_time": "2023-03-09T12:59:51.535Z"
      },
      {
        "duration": 10,
        "start_time": "2023-03-09T12:59:51.555Z"
      },
      {
        "duration": 17,
        "start_time": "2023-03-09T12:59:51.566Z"
      },
      {
        "duration": 23,
        "start_time": "2023-03-09T12:59:51.585Z"
      },
      {
        "duration": 16,
        "start_time": "2023-03-09T12:59:51.609Z"
      },
      {
        "duration": 2763,
        "start_time": "2023-03-09T12:59:51.626Z"
      },
      {
        "duration": 11,
        "start_time": "2023-03-09T12:59:54.391Z"
      },
      {
        "duration": 5,
        "start_time": "2023-03-09T12:59:54.404Z"
      },
      {
        "duration": 10,
        "start_time": "2023-03-09T12:59:54.411Z"
      },
      {
        "duration": 6,
        "start_time": "2023-03-09T12:59:54.423Z"
      },
      {
        "duration": 183,
        "start_time": "2023-03-09T12:59:54.431Z"
      }
    ],
    "kernelspec": {
      "display_name": "Python 3 (ipykernel)",
      "language": "python",
      "name": "python3"
    },
    "language_info": {
      "codemirror_mode": {
        "name": "ipython",
        "version": 3
      },
      "file_extension": ".py",
      "mimetype": "text/x-python",
      "name": "python",
      "nbconvert_exporter": "python",
      "pygments_lexer": "ipython3",
      "version": "3.11.0"
    },
    "toc": {
      "base_numbering": 1,
      "nav_menu": {},
      "number_sections": true,
      "sideBar": true,
      "skip_h1_title": true,
      "title_cell": "Table of Contents",
      "title_sidebar": "Содержание",
      "toc_cell": false,
      "toc_position": {
        "height": "calc(100% - 180px)",
        "left": "10px",
        "top": "150px",
        "width": "356.594px"
      },
      "toc_section_display": true,
      "toc_window_display": true
    },
    "colab": {
      "provenance": [],
      "include_colab_link": true
    }
  },
  "nbformat": 4,
  "nbformat_minor": 0
}

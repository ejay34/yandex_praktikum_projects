{
  "cells": [
    {
      "cell_type": "markdown",
      "metadata": {
        "id": "view-in-github",
        "colab_type": "text"
      },
      "source": [
        "<a href=\"https://colab.research.google.com/github/ejay34/yandex_praktikum_projects/blob/main/module1_prefabricated_project_1.ipynb\" target=\"_parent\"><img src=\"https://colab.research.google.com/assets/colab-badge.svg\" alt=\"Open In Colab\"/></a>"
      ]
    },
    {
      "cell_type": "markdown",
      "source": [
        "# Исследование о продаже игр интернет-магазина\n",
        "\n",
        "В нашем распоряжении исторические данные о продажах игр, полученные из открытых источников доступны, оценки пользователей и экспертов, жанры и платформы\n",
        "\n",
        "*Цель исследования:* Выявить закономерности, определяющие успешность игры. Это позволит сделать ставку на потенциально популярный продукт и спланировать рекламные кампании.\n",
        "\n",
        "*Этапы исследования:*\n",
        "1. Чтение данных из файла. Общее знакомство с данными\n",
        "2. Предобработка данных:\n",
        "  - обработка пропусков в данных;\n",
        "  - обработка дубликатов;\n",
        "  - замена типов данных\n",
        "3. Исследовательский анализ данных:\n",
        "  - определение интенсивности выпуска игр в разные годы;\n",
        "  - определение популярности продажи игр по платформам;\n",
        "  - определение популярности платформ;\n",
        "  - определение актуального периода исследования;\n",
        "  - исследование влияния отзывов пользователей и критиков на продажи;\n",
        "  - определение общего распределения игр по жанрам.\n",
        "4. Составление портрета пользователя каждого региона:\n",
        "  - Северная Америка\n",
        "  - Европа\n",
        "  - Япония\n",
        "5. Проверка гипотез:\n",
        "  - Средние пользовательские рейтинги платформ Xbox One и PC одинаковые;\n",
        "  - Средние пользовательские рейтинги жанров Action и Sports разные.\n",
        "6. Итоговый вывод"
      ],
      "metadata": {
        "id": "qzBgvE57z0uw"
      }
    },
    {
      "cell_type": "markdown",
      "source": [
        "<h1>Содержание<span class=\"tocSkip\"></span></h1>\n",
        "<div class=\"toc\"><ul class=\"toc-item\"><li><span><a href=\"#Откроем-файл-с-данными-и-изучим-общую-информацию\" data-toc-modified-id=\"Откроем-файл-с-данными-и-изучим-общую-информацию-1\"><span class=\"toc-item-num\">1&nbsp;&nbsp;</span>Откроем файл с данными и изучим общую информацию</a></span><ul class=\"toc-item\"><li><span><a href=\"#Импортируем-библиотеки,-необходимые-для-проведения-исследования.\" data-toc-modified-id=\"Импортируем-библиотеки,-необходимые-для-проведения-исследования.-1.1\"><span class=\"toc-item-num\">1.1&nbsp;&nbsp;</span>Импортируем библиотеки, необходимые для проведения исследования.</a></span></li><li><span><a href=\"#Выведем-основную-информацию-о-датафрейме\" data-toc-modified-id=\"Выведем-основную-информацию-о-датафрейме-1.2\"><span class=\"toc-item-num\">1.2&nbsp;&nbsp;</span>Выведем основную информацию о датафрейме</a></span></li><li><span><a href=\"#Найдем-количество-пропущенных-значений-в-столбцах-датафрейма\" data-toc-modified-id=\"Найдем-количество-пропущенных-значений-в-столбцах-датафрейма-1.3\"><span class=\"toc-item-num\">1.3&nbsp;&nbsp;</span>Найдем количество пропущенных значений в столбцах датафрейма</a></span></li></ul></li><li><span><a href=\"#Предобработка-данных\" data-toc-modified-id=\"Предобработка-данных-2\"><span class=\"toc-item-num\">2&nbsp;&nbsp;</span>Предобработка данных</a></span><ul class=\"toc-item\"><li><span><a href=\"#Приведем-к-нижнему-регистру-все-названия-столбцов-датафрейма\" data-toc-modified-id=\"Приведем-к-нижнему-регистру-все-названия-столбцов-датафрейма-2.1\"><span class=\"toc-item-num\">2.1&nbsp;&nbsp;</span>Приведем к нижнему регистру все названия столбцов датафрейма</a></span></li><li><span><a href=\"#Заменим-типы-данных\" data-toc-modified-id=\"Заменим-типы-данных-2.2\"><span class=\"toc-item-num\">2.2&nbsp;&nbsp;</span>Заменим типы данных</a></span></li><li><span><a href=\"#Обработка-пропусков-данных\" data-toc-modified-id=\"Обработка-пропусков-данных-2.3\"><span class=\"toc-item-num\">2.3&nbsp;&nbsp;</span>Обработка пропусков данных</a></span></li><li><span><a href=\"#Выполним-проверку-на-явные-дубликаты\" data-toc-modified-id=\"Выполним-проверку-на-явные-дубликаты-2.4\"><span class=\"toc-item-num\">2.4&nbsp;&nbsp;</span>Выполним проверку на явные дубликаты</a></span></li><li><span><a href=\"#Вычислим-суммарные-продажи-во-всех-регионах-и-запишем-в-отдельный-столбец-total_sales\" data-toc-modified-id=\"Вычислим-суммарные-продажи-во-всех-регионах-и-запишем-в-отдельный-столбец-total_sales-2.5\"><span class=\"toc-item-num\">2.5&nbsp;&nbsp;</span>Вычислим суммарные продажи во всех регионах и запишем в отдельный столбец <code>total_sales</code></a></span></li></ul></li><li><span><a href=\"#Исследовательский-анализ-данных\" data-toc-modified-id=\"Исследовательский-анализ-данных-3\"><span class=\"toc-item-num\">3&nbsp;&nbsp;</span>Исследовательский анализ данных</a></span><ul class=\"toc-item\"><li><span><a href=\"#Изучим,-сколько-игр-выпускалось-в-разные-годы\" data-toc-modified-id=\"Изучим,-сколько-игр-выпускалось-в-разные-годы-3.1\"><span class=\"toc-item-num\">3.1&nbsp;&nbsp;</span>Изучим, сколько игр выпускалось в разные годы</a></span></li><li><span><a href=\"#Изучим,-как-менялись-продажи-по-платформам\" data-toc-modified-id=\"Изучим,-как-менялись-продажи-по-платформам-3.2\"><span class=\"toc-item-num\">3.2&nbsp;&nbsp;</span>Изучим, как менялись продажи по платформам</a></span></li><li><span><a href=\"#Выясним,-какие-платформы-лидируют-по-продажам\" data-toc-modified-id=\"Выясним,-какие-платформы-лидируют-по-продажам-3.3\"><span class=\"toc-item-num\">3.3&nbsp;&nbsp;</span>Выясним, какие платформы лидируют по продажам</a></span></li><li><span><a href=\"#Возьмем-данные,-выбранные-за-актуальный-период\" data-toc-modified-id=\"Возьмем-данные,-выбранные-за-актуальный-период-3.4\"><span class=\"toc-item-num\">3.4&nbsp;&nbsp;</span>Возьмем данные, выбранные за актуальный период</a></span></li><li><span><a href=\"#Изучим,-какие-платформы-лидируют-по-продажам\" data-toc-modified-id=\"Изучим,-какие-платформы-лидируют-по-продажам-3.5\"><span class=\"toc-item-num\">3.5&nbsp;&nbsp;</span>Изучим, какие платформы лидируют по продажам</a></span></li><li><span><a href=\"#Исследуем,-как-влияют-на-продажи-внутри-одной-популярной-платформы-отзывы-пользователей-и-критиков.\" data-toc-modified-id=\"Исследуем,-как-влияют-на-продажи-внутри-одной-популярной-платформы-отзывы-пользователей-и-критиков.-3.6\"><span class=\"toc-item-num\">3.6&nbsp;&nbsp;</span>Исследуем, как влияют на продажи внутри одной популярной платформы отзывы пользователей и критиков.</a></span></li><li><span><a href=\"#Соотнесем-выводы-для-остальных-платформ-из-списка-потенциально-прибыльных\" data-toc-modified-id=\"Соотнесем-выводы-для-остальных-платформ-из-списка-потенциально-прибыльных-3.7\"><span class=\"toc-item-num\">3.7&nbsp;&nbsp;</span>Соотнесем выводы для остальных платформ из списка потенциально прибыльных</a></span></li><li><span><a href=\"#Проверим-общее-распределение-игр-по-жанрам\" data-toc-modified-id=\"Проверим-общее-распределение-игр-по-жанрам-3.8\"><span class=\"toc-item-num\">3.8&nbsp;&nbsp;</span>Проверим общее распределение игр по жанрам</a></span></li></ul></li><li><span><a href=\"#Составьте-портрет-пользователя-каждого-региона\" data-toc-modified-id=\"Составьте-портрет-пользователя-каждого-региона-4\"><span class=\"toc-item-num\">4&nbsp;&nbsp;</span>Составьте портрет пользователя каждого региона</a></span><ul class=\"toc-item\"><li><span><a href=\"#Северная-Америка\" data-toc-modified-id=\"Северная-Америка-4.1\"><span class=\"toc-item-num\">4.1&nbsp;&nbsp;</span>Северная Америка</a></span><ul class=\"toc-item\"><li><span><a href=\"#Самые-популярные-платформы\" data-toc-modified-id=\"Самые-популярные-платформы-4.1.1\"><span class=\"toc-item-num\">4.1.1&nbsp;&nbsp;</span>Самые популярные платформы</a></span></li><li><span><a href=\"#Самые-популярные-жанры\" data-toc-modified-id=\"Самые-популярные-жанры-4.1.2\"><span class=\"toc-item-num\">4.1.2&nbsp;&nbsp;</span>Самые популярные жанры</a></span></li><li><span><a href=\"#Влияние-рейтинга-ESRB-на-продажи\" data-toc-modified-id=\"Влияние-рейтинга-ESRB-на-продажи-4.1.3\"><span class=\"toc-item-num\">4.1.3&nbsp;&nbsp;</span>Влияние рейтинга ESRB на продажи</a></span></li></ul></li><li><span><a href=\"#Европа\" data-toc-modified-id=\"Европа-4.2\"><span class=\"toc-item-num\">4.2&nbsp;&nbsp;</span>Европа</a></span><ul class=\"toc-item\"><li><span><a href=\"#Самые-популярные-платформы\" data-toc-modified-id=\"Самые-популярные-платформы-4.2.1\"><span class=\"toc-item-num\">4.2.1&nbsp;&nbsp;</span>Самые популярные платформы</a></span></li><li><span><a href=\"#Самые-популярные-жанры\" data-toc-modified-id=\"Самые-популярные-жанры-4.2.2\"><span class=\"toc-item-num\">4.2.2&nbsp;&nbsp;</span>Самые популярные жанры</a></span></li><li><span><a href=\"#Влияние-рейтинга-ESRB-на-продажи\" data-toc-modified-id=\"Влияние-рейтинга-ESRB-на-продажи-4.2.3\"><span class=\"toc-item-num\">4.2.3&nbsp;&nbsp;</span>Влияние рейтинга ESRB на продажи</a></span></li></ul></li><li><span><a href=\"#Япония\" data-toc-modified-id=\"Япония-4.3\"><span class=\"toc-item-num\">4.3&nbsp;&nbsp;</span>Япония</a></span><ul class=\"toc-item\"><li><span><a href=\"#Самые-популярные-платформы\" data-toc-modified-id=\"Самые-популярные-платформы-4.3.1\"><span class=\"toc-item-num\">4.3.1&nbsp;&nbsp;</span>Самые популярные платформы</a></span></li><li><span><a href=\"#Самые-популярные-жанры\" data-toc-modified-id=\"Самые-популярные-жанры-4.3.2\"><span class=\"toc-item-num\">4.3.2&nbsp;&nbsp;</span>Самые популярные жанры</a></span></li><li><span><a href=\"#Влияние-рейтинга-ESRB-на-продажи\" data-toc-modified-id=\"Влияние-рейтинга-ESRB-на-продажи-4.3.3\"><span class=\"toc-item-num\">4.3.3&nbsp;&nbsp;</span>Влияние рейтинга ESRB на продажи</a></span></li></ul></li><li><span><a href=\"#Остальные-страны\" data-toc-modified-id=\"Остальные-страны-4.4\"><span class=\"toc-item-num\">4.4&nbsp;&nbsp;</span>Остальные страны</a></span><ul class=\"toc-item\"><li><span><a href=\"#Самые-популярные-платформы\" data-toc-modified-id=\"Самые-популярные-платформы-4.4.1\"><span class=\"toc-item-num\">4.4.1&nbsp;&nbsp;</span>Самые популярные платформы</a></span></li><li><span><a href=\"#Самые-популярные-жанры\" data-toc-modified-id=\"Самые-популярные-жанры-4.4.2\"><span class=\"toc-item-num\">4.4.2&nbsp;&nbsp;</span>Самые популярные жанры</a></span></li><li><span><a href=\"#Влияние-рейтинга-ESRB-на-продажи\" data-toc-modified-id=\"Влияние-рейтинга-ESRB-на-продажи-4.4.3\"><span class=\"toc-item-num\">4.4.3&nbsp;&nbsp;</span>Влияние рейтинга ESRB на продажи</a></span></li></ul></li></ul></li><li><span><a href=\"#Проверка-гипотез\" data-toc-modified-id=\"Проверка-гипотез-5\"><span class=\"toc-item-num\">5&nbsp;&nbsp;</span>Проверка гипотез</a></span><ul class=\"toc-item\"><li><span><a href=\"#Средние-пользовательские-рейтинги-платформ-XOne-и-PC-одинаковые\" data-toc-modified-id=\"Средние-пользовательские-рейтинги-платформ-XOne-и-PC-одинаковые-5.1\"><span class=\"toc-item-num\">5.1&nbsp;&nbsp;</span>Средние пользовательские рейтинги платформ XOne и PC одинаковые</a></span></li><li><span><a href=\"#Средние-пользовательские-рейтинги-жанров-Action-и-Sports-разные\" data-toc-modified-id=\"Средние-пользовательские-рейтинги-жанров-Action-и-Sports-разные-5.2\"><span class=\"toc-item-num\">5.2&nbsp;&nbsp;</span>Средние пользовательские рейтинги жанров Action и Sports разные</a></span></li></ul></li><li><span><a href=\"#Общий-вывод\" data-toc-modified-id=\"Общий-вывод-6\"><span class=\"toc-item-num\">6&nbsp;&nbsp;</span>Общий вывод</a></span></li></ul></div>"
      ],
      "metadata": {
        "id": "lqj2RfD0GjSN"
      }
    },
    {
      "cell_type": "markdown",
      "metadata": {
        "id": "ylaTjFcao7iT"
      },
      "source": [
        "### Откроем файл с данными и изучим общую информацию"
      ]
    },
    {
      "cell_type": "markdown",
      "metadata": {
        "id": "L8NC0LSVo7iT"
      },
      "source": [
        "<a id='section_1_1'></a>\n",
        "#### Импортируем библиотеки, необходимые для проведения исследования. Считаем данные из csv-файла в датафрейм и сохраните в переменную df"
      ]
    },
    {
      "cell_type": "code",
      "execution_count": null,
      "metadata": {
        "id": "PzNHpZpLo7iT"
      },
      "outputs": [],
      "source": [
        "import pandas as pd\n",
        "import numpy as np\n",
        "from scipy import stats as st\n",
        "\n",
        "import seaborn as sns\n",
        "import matplotlib.pyplot as plt\n",
        "\n",
        "# Сброс ограничений на число столбцов\n",
        "pd.set_option('display.max_columns', None)"
      ]
    },
    {
      "cell_type": "code",
      "execution_count": null,
      "metadata": {
        "id": "-FCVNSGqo7iT"
      },
      "outputs": [],
      "source": [
        "# Считываем данные из csv-файла с применением обработчика ошибок\n",
        "try:\n",
        "    df = pd.read_csv('/datasets/games.csv')\n",
        "except:\n",
        "    df = pd.read_csv('https://code.s3.yandex.net/datasets/games.csv')"
      ]
    },
    {
      "cell_type": "code",
      "execution_count": null,
      "metadata": {
        "id": "4gwp8bnxo7iT",
        "outputId": "dfc3e305-4132-4c0f-efc5-0a25ef5f5a91",
        "colab": {
          "base_uri": "https://localhost:8080/",
          "height": 206
        }
      },
      "outputs": [
        {
          "output_type": "execute_result",
          "data": {
            "text/plain": [
              "                       Name Platform  Year_of_Release         Genre  NA_sales  \\\n",
              "0                Wii Sports      Wii           2006.0        Sports     41.36   \n",
              "1         Super Mario Bros.      NES           1985.0      Platform     29.08   \n",
              "2            Mario Kart Wii      Wii           2008.0        Racing     15.68   \n",
              "3         Wii Sports Resort      Wii           2009.0        Sports     15.61   \n",
              "4  Pokemon Red/Pokemon Blue       GB           1996.0  Role-Playing     11.27   \n",
              "\n",
              "   EU_sales  JP_sales  Other_sales  Critic_Score User_Score Rating  \n",
              "0     28.96      3.77         8.45          76.0          8      E  \n",
              "1      3.58      6.81         0.77           NaN        NaN    NaN  \n",
              "2     12.76      3.79         3.29          82.0        8.3      E  \n",
              "3     10.93      3.28         2.95          80.0          8      E  \n",
              "4      8.89     10.22         1.00           NaN        NaN    NaN  "
            ],
            "text/html": [
              "\n",
              "  <div id=\"df-020bee05-72c8-4030-aa69-af5c4d48142f\">\n",
              "    <div class=\"colab-df-container\">\n",
              "      <div>\n",
              "<style scoped>\n",
              "    .dataframe tbody tr th:only-of-type {\n",
              "        vertical-align: middle;\n",
              "    }\n",
              "\n",
              "    .dataframe tbody tr th {\n",
              "        vertical-align: top;\n",
              "    }\n",
              "\n",
              "    .dataframe thead th {\n",
              "        text-align: right;\n",
              "    }\n",
              "</style>\n",
              "<table border=\"1\" class=\"dataframe\">\n",
              "  <thead>\n",
              "    <tr style=\"text-align: right;\">\n",
              "      <th></th>\n",
              "      <th>Name</th>\n",
              "      <th>Platform</th>\n",
              "      <th>Year_of_Release</th>\n",
              "      <th>Genre</th>\n",
              "      <th>NA_sales</th>\n",
              "      <th>EU_sales</th>\n",
              "      <th>JP_sales</th>\n",
              "      <th>Other_sales</th>\n",
              "      <th>Critic_Score</th>\n",
              "      <th>User_Score</th>\n",
              "      <th>Rating</th>\n",
              "    </tr>\n",
              "  </thead>\n",
              "  <tbody>\n",
              "    <tr>\n",
              "      <th>0</th>\n",
              "      <td>Wii Sports</td>\n",
              "      <td>Wii</td>\n",
              "      <td>2006.0</td>\n",
              "      <td>Sports</td>\n",
              "      <td>41.36</td>\n",
              "      <td>28.96</td>\n",
              "      <td>3.77</td>\n",
              "      <td>8.45</td>\n",
              "      <td>76.0</td>\n",
              "      <td>8</td>\n",
              "      <td>E</td>\n",
              "    </tr>\n",
              "    <tr>\n",
              "      <th>1</th>\n",
              "      <td>Super Mario Bros.</td>\n",
              "      <td>NES</td>\n",
              "      <td>1985.0</td>\n",
              "      <td>Platform</td>\n",
              "      <td>29.08</td>\n",
              "      <td>3.58</td>\n",
              "      <td>6.81</td>\n",
              "      <td>0.77</td>\n",
              "      <td>NaN</td>\n",
              "      <td>NaN</td>\n",
              "      <td>NaN</td>\n",
              "    </tr>\n",
              "    <tr>\n",
              "      <th>2</th>\n",
              "      <td>Mario Kart Wii</td>\n",
              "      <td>Wii</td>\n",
              "      <td>2008.0</td>\n",
              "      <td>Racing</td>\n",
              "      <td>15.68</td>\n",
              "      <td>12.76</td>\n",
              "      <td>3.79</td>\n",
              "      <td>3.29</td>\n",
              "      <td>82.0</td>\n",
              "      <td>8.3</td>\n",
              "      <td>E</td>\n",
              "    </tr>\n",
              "    <tr>\n",
              "      <th>3</th>\n",
              "      <td>Wii Sports Resort</td>\n",
              "      <td>Wii</td>\n",
              "      <td>2009.0</td>\n",
              "      <td>Sports</td>\n",
              "      <td>15.61</td>\n",
              "      <td>10.93</td>\n",
              "      <td>3.28</td>\n",
              "      <td>2.95</td>\n",
              "      <td>80.0</td>\n",
              "      <td>8</td>\n",
              "      <td>E</td>\n",
              "    </tr>\n",
              "    <tr>\n",
              "      <th>4</th>\n",
              "      <td>Pokemon Red/Pokemon Blue</td>\n",
              "      <td>GB</td>\n",
              "      <td>1996.0</td>\n",
              "      <td>Role-Playing</td>\n",
              "      <td>11.27</td>\n",
              "      <td>8.89</td>\n",
              "      <td>10.22</td>\n",
              "      <td>1.00</td>\n",
              "      <td>NaN</td>\n",
              "      <td>NaN</td>\n",
              "      <td>NaN</td>\n",
              "    </tr>\n",
              "  </tbody>\n",
              "</table>\n",
              "</div>\n",
              "      <button class=\"colab-df-convert\" onclick=\"convertToInteractive('df-020bee05-72c8-4030-aa69-af5c4d48142f')\"\n",
              "              title=\"Convert this dataframe to an interactive table.\"\n",
              "              style=\"display:none;\">\n",
              "        \n",
              "  <svg xmlns=\"http://www.w3.org/2000/svg\" height=\"24px\"viewBox=\"0 0 24 24\"\n",
              "       width=\"24px\">\n",
              "    <path d=\"M0 0h24v24H0V0z\" fill=\"none\"/>\n",
              "    <path d=\"M18.56 5.44l.94 2.06.94-2.06 2.06-.94-2.06-.94-.94-2.06-.94 2.06-2.06.94zm-11 1L8.5 8.5l.94-2.06 2.06-.94-2.06-.94L8.5 2.5l-.94 2.06-2.06.94zm10 10l.94 2.06.94-2.06 2.06-.94-2.06-.94-.94-2.06-.94 2.06-2.06.94z\"/><path d=\"M17.41 7.96l-1.37-1.37c-.4-.4-.92-.59-1.43-.59-.52 0-1.04.2-1.43.59L10.3 9.45l-7.72 7.72c-.78.78-.78 2.05 0 2.83L4 21.41c.39.39.9.59 1.41.59.51 0 1.02-.2 1.41-.59l7.78-7.78 2.81-2.81c.8-.78.8-2.07 0-2.86zM5.41 20L4 18.59l7.72-7.72 1.47 1.35L5.41 20z\"/>\n",
              "  </svg>\n",
              "      </button>\n",
              "      \n",
              "  <style>\n",
              "    .colab-df-container {\n",
              "      display:flex;\n",
              "      flex-wrap:wrap;\n",
              "      gap: 12px;\n",
              "    }\n",
              "\n",
              "    .colab-df-convert {\n",
              "      background-color: #E8F0FE;\n",
              "      border: none;\n",
              "      border-radius: 50%;\n",
              "      cursor: pointer;\n",
              "      display: none;\n",
              "      fill: #1967D2;\n",
              "      height: 32px;\n",
              "      padding: 0 0 0 0;\n",
              "      width: 32px;\n",
              "    }\n",
              "\n",
              "    .colab-df-convert:hover {\n",
              "      background-color: #E2EBFA;\n",
              "      box-shadow: 0px 1px 2px rgba(60, 64, 67, 0.3), 0px 1px 3px 1px rgba(60, 64, 67, 0.15);\n",
              "      fill: #174EA6;\n",
              "    }\n",
              "\n",
              "    [theme=dark] .colab-df-convert {\n",
              "      background-color: #3B4455;\n",
              "      fill: #D2E3FC;\n",
              "    }\n",
              "\n",
              "    [theme=dark] .colab-df-convert:hover {\n",
              "      background-color: #434B5C;\n",
              "      box-shadow: 0px 1px 3px 1px rgba(0, 0, 0, 0.15);\n",
              "      filter: drop-shadow(0px 1px 2px rgba(0, 0, 0, 0.3));\n",
              "      fill: #FFFFFF;\n",
              "    }\n",
              "  </style>\n",
              "\n",
              "      <script>\n",
              "        const buttonEl =\n",
              "          document.querySelector('#df-020bee05-72c8-4030-aa69-af5c4d48142f button.colab-df-convert');\n",
              "        buttonEl.style.display =\n",
              "          google.colab.kernel.accessAllowed ? 'block' : 'none';\n",
              "\n",
              "        async function convertToInteractive(key) {\n",
              "          const element = document.querySelector('#df-020bee05-72c8-4030-aa69-af5c4d48142f');\n",
              "          const dataTable =\n",
              "            await google.colab.kernel.invokeFunction('convertToInteractive',\n",
              "                                                     [key], {});\n",
              "          if (!dataTable) return;\n",
              "\n",
              "          const docLinkHtml = 'Like what you see? Visit the ' +\n",
              "            '<a target=\"_blank\" href=https://colab.research.google.com/notebooks/data_table.ipynb>data table notebook</a>'\n",
              "            + ' to learn more about interactive tables.';\n",
              "          element.innerHTML = '';\n",
              "          dataTable['output_type'] = 'display_data';\n",
              "          await google.colab.output.renderOutput(dataTable, element);\n",
              "          const docLink = document.createElement('div');\n",
              "          docLink.innerHTML = docLinkHtml;\n",
              "          element.appendChild(docLink);\n",
              "        }\n",
              "      </script>\n",
              "    </div>\n",
              "  </div>\n",
              "  "
            ]
          },
          "metadata": {},
          "execution_count": 3
        }
      ],
      "source": [
        "# Выведем первые 5 строк датафрейма, чтобы получить представление о структуре данных\n",
        "df.head()"
      ]
    },
    {
      "cell_type": "markdown",
      "metadata": {
        "id": "dLOj9_HKo7iT"
      },
      "source": [
        "<a id='section_1_2'></a>\n",
        "#### Выведем основную информацию о датафрейме"
      ]
    },
    {
      "cell_type": "code",
      "execution_count": null,
      "metadata": {
        "id": "lElISs6wo7iT",
        "outputId": "13c68401-0d77-4048-f984-e82ed25de25f",
        "colab": {
          "base_uri": "https://localhost:8080/"
        }
      },
      "outputs": [
        {
          "output_type": "stream",
          "name": "stdout",
          "text": [
            "<class 'pandas.core.frame.DataFrame'>\n",
            "RangeIndex: 16715 entries, 0 to 16714\n",
            "Data columns (total 11 columns):\n",
            " #   Column           Non-Null Count  Dtype  \n",
            "---  ------           --------------  -----  \n",
            " 0   Name             16713 non-null  object \n",
            " 1   Platform         16715 non-null  object \n",
            " 2   Year_of_Release  16446 non-null  float64\n",
            " 3   Genre            16713 non-null  object \n",
            " 4   NA_sales         16715 non-null  float64\n",
            " 5   EU_sales         16715 non-null  float64\n",
            " 6   JP_sales         16715 non-null  float64\n",
            " 7   Other_sales      16715 non-null  float64\n",
            " 8   Critic_Score     8137 non-null   float64\n",
            " 9   User_Score       10014 non-null  object \n",
            " 10  Rating           9949 non-null   object \n",
            "dtypes: float64(6), object(5)\n",
            "memory usage: 1.4+ MB\n"
          ]
        }
      ],
      "source": [
        "# Выводим и изучаем общую информацию о датафрейме\n",
        "df.info()"
      ]
    },
    {
      "cell_type": "markdown",
      "metadata": {
        "id": "imhlDw8no7iT"
      },
      "source": [
        "<a id='section_1_3'></a>\n",
        "#### Найдем количество пропущенных значений в столбцах датафрейма"
      ]
    },
    {
      "cell_type": "code",
      "execution_count": null,
      "metadata": {
        "id": "uO5SmT2do7iT",
        "outputId": "bcbf8e9a-88be-43a2-8044-7919c80b451d",
        "colab": {
          "base_uri": "https://localhost:8080/",
          "height": 394
        }
      },
      "outputs": [
        {
          "output_type": "execute_result",
          "data": {
            "text/plain": [
              "<pandas.io.formats.style.Styler at 0x7f1411c0b130>"
            ],
            "text/html": [
              "<style type=\"text/css\">\n",
              "#T_42b7f_row0_col0, #T_42b7f_row1_col0, #T_42b7f_row3_col0, #T_42b7f_row4_col0, #T_42b7f_row5_col0, #T_42b7f_row6_col0, #T_42b7f_row7_col0 {\n",
              "  background-color: #3b4cc0;\n",
              "  color: #f1f1f1;\n",
              "}\n",
              "#T_42b7f_row2_col0 {\n",
              "  background-color: #4358cb;\n",
              "  color: #f1f1f1;\n",
              "}\n",
              "#T_42b7f_row8_col0 {\n",
              "  background-color: #b40426;\n",
              "  color: #f1f1f1;\n",
              "}\n",
              "#T_42b7f_row9_col0 {\n",
              "  background-color: #f08b6e;\n",
              "  color: #f1f1f1;\n",
              "}\n",
              "#T_42b7f_row10_col0 {\n",
              "  background-color: #ef886b;\n",
              "  color: #f1f1f1;\n",
              "}\n",
              "</style>\n",
              "<table id=\"T_42b7f\" class=\"dataframe\">\n",
              "  <thead>\n",
              "    <tr>\n",
              "      <th class=\"blank level0\" >&nbsp;</th>\n",
              "      <th id=\"T_42b7f_level0_col0\" class=\"col_heading level0 col0\" >0</th>\n",
              "    </tr>\n",
              "  </thead>\n",
              "  <tbody>\n",
              "    <tr>\n",
              "      <th id=\"T_42b7f_level0_row0\" class=\"row_heading level0 row0\" >Name</th>\n",
              "      <td id=\"T_42b7f_row0_col0\" class=\"data row0 col0\" >0.000000</td>\n",
              "    </tr>\n",
              "    <tr>\n",
              "      <th id=\"T_42b7f_level0_row1\" class=\"row_heading level0 row1\" >Platform</th>\n",
              "      <td id=\"T_42b7f_row1_col0\" class=\"data row1 col0\" >0.000000</td>\n",
              "    </tr>\n",
              "    <tr>\n",
              "      <th id=\"T_42b7f_level0_row2\" class=\"row_heading level0 row2\" >Year_of_Release</th>\n",
              "      <td id=\"T_42b7f_row2_col0\" class=\"data row2 col0\" >1.600000</td>\n",
              "    </tr>\n",
              "    <tr>\n",
              "      <th id=\"T_42b7f_level0_row3\" class=\"row_heading level0 row3\" >Genre</th>\n",
              "      <td id=\"T_42b7f_row3_col0\" class=\"data row3 col0\" >0.000000</td>\n",
              "    </tr>\n",
              "    <tr>\n",
              "      <th id=\"T_42b7f_level0_row4\" class=\"row_heading level0 row4\" >NA_sales</th>\n",
              "      <td id=\"T_42b7f_row4_col0\" class=\"data row4 col0\" >0.000000</td>\n",
              "    </tr>\n",
              "    <tr>\n",
              "      <th id=\"T_42b7f_level0_row5\" class=\"row_heading level0 row5\" >EU_sales</th>\n",
              "      <td id=\"T_42b7f_row5_col0\" class=\"data row5 col0\" >0.000000</td>\n",
              "    </tr>\n",
              "    <tr>\n",
              "      <th id=\"T_42b7f_level0_row6\" class=\"row_heading level0 row6\" >JP_sales</th>\n",
              "      <td id=\"T_42b7f_row6_col0\" class=\"data row6 col0\" >0.000000</td>\n",
              "    </tr>\n",
              "    <tr>\n",
              "      <th id=\"T_42b7f_level0_row7\" class=\"row_heading level0 row7\" >Other_sales</th>\n",
              "      <td id=\"T_42b7f_row7_col0\" class=\"data row7 col0\" >0.000000</td>\n",
              "    </tr>\n",
              "    <tr>\n",
              "      <th id=\"T_42b7f_level0_row8\" class=\"row_heading level0 row8\" >Critic_Score</th>\n",
              "      <td id=\"T_42b7f_row8_col0\" class=\"data row8 col0\" >51.300000</td>\n",
              "    </tr>\n",
              "    <tr>\n",
              "      <th id=\"T_42b7f_level0_row9\" class=\"row_heading level0 row9\" >User_Score</th>\n",
              "      <td id=\"T_42b7f_row9_col0\" class=\"data row9 col0\" >40.100000</td>\n",
              "    </tr>\n",
              "    <tr>\n",
              "      <th id=\"T_42b7f_level0_row10\" class=\"row_heading level0 row10\" >Rating</th>\n",
              "      <td id=\"T_42b7f_row10_col0\" class=\"data row10 col0\" >40.500000</td>\n",
              "    </tr>\n",
              "  </tbody>\n",
              "</table>\n"
            ]
          },
          "metadata": {},
          "execution_count": 5
        }
      ],
      "source": [
        "pd.DataFrame(round(df.isna().mean()*100,1)).style.background_gradient('coolwarm')"
      ]
    },
    {
      "cell_type": "markdown",
      "metadata": {
        "id": "s04nCInqo7iT"
      },
      "source": [
        "### Предобработка данных"
      ]
    },
    {
      "cell_type": "markdown",
      "metadata": {
        "id": "pW--_HlVo7iT"
      },
      "source": [
        "#### Приведем к нижнему регистру все названия столбцов датафрейма"
      ]
    },
    {
      "cell_type": "code",
      "execution_count": null,
      "metadata": {
        "id": "E0_f6-fio7iT",
        "outputId": "63b6e92d-1aea-4bc8-f08c-de0676f0f771",
        "colab": {
          "base_uri": "https://localhost:8080/",
          "height": 206
        }
      },
      "outputs": [
        {
          "output_type": "execute_result",
          "data": {
            "text/plain": [
              "                       name platform  year_of_release         genre  na_sales  \\\n",
              "0                Wii Sports      Wii           2006.0        Sports     41.36   \n",
              "1         Super Mario Bros.      NES           1985.0      Platform     29.08   \n",
              "2            Mario Kart Wii      Wii           2008.0        Racing     15.68   \n",
              "3         Wii Sports Resort      Wii           2009.0        Sports     15.61   \n",
              "4  Pokemon Red/Pokemon Blue       GB           1996.0  Role-Playing     11.27   \n",
              "\n",
              "   eu_sales  jp_sales  other_sales  critic_score user_score rating  \n",
              "0     28.96      3.77         8.45          76.0          8      E  \n",
              "1      3.58      6.81         0.77           NaN        NaN    NaN  \n",
              "2     12.76      3.79         3.29          82.0        8.3      E  \n",
              "3     10.93      3.28         2.95          80.0          8      E  \n",
              "4      8.89     10.22         1.00           NaN        NaN    NaN  "
            ],
            "text/html": [
              "\n",
              "  <div id=\"df-ddc92df0-7033-46ea-bf56-e92503bde422\">\n",
              "    <div class=\"colab-df-container\">\n",
              "      <div>\n",
              "<style scoped>\n",
              "    .dataframe tbody tr th:only-of-type {\n",
              "        vertical-align: middle;\n",
              "    }\n",
              "\n",
              "    .dataframe tbody tr th {\n",
              "        vertical-align: top;\n",
              "    }\n",
              "\n",
              "    .dataframe thead th {\n",
              "        text-align: right;\n",
              "    }\n",
              "</style>\n",
              "<table border=\"1\" class=\"dataframe\">\n",
              "  <thead>\n",
              "    <tr style=\"text-align: right;\">\n",
              "      <th></th>\n",
              "      <th>name</th>\n",
              "      <th>platform</th>\n",
              "      <th>year_of_release</th>\n",
              "      <th>genre</th>\n",
              "      <th>na_sales</th>\n",
              "      <th>eu_sales</th>\n",
              "      <th>jp_sales</th>\n",
              "      <th>other_sales</th>\n",
              "      <th>critic_score</th>\n",
              "      <th>user_score</th>\n",
              "      <th>rating</th>\n",
              "    </tr>\n",
              "  </thead>\n",
              "  <tbody>\n",
              "    <tr>\n",
              "      <th>0</th>\n",
              "      <td>Wii Sports</td>\n",
              "      <td>Wii</td>\n",
              "      <td>2006.0</td>\n",
              "      <td>Sports</td>\n",
              "      <td>41.36</td>\n",
              "      <td>28.96</td>\n",
              "      <td>3.77</td>\n",
              "      <td>8.45</td>\n",
              "      <td>76.0</td>\n",
              "      <td>8</td>\n",
              "      <td>E</td>\n",
              "    </tr>\n",
              "    <tr>\n",
              "      <th>1</th>\n",
              "      <td>Super Mario Bros.</td>\n",
              "      <td>NES</td>\n",
              "      <td>1985.0</td>\n",
              "      <td>Platform</td>\n",
              "      <td>29.08</td>\n",
              "      <td>3.58</td>\n",
              "      <td>6.81</td>\n",
              "      <td>0.77</td>\n",
              "      <td>NaN</td>\n",
              "      <td>NaN</td>\n",
              "      <td>NaN</td>\n",
              "    </tr>\n",
              "    <tr>\n",
              "      <th>2</th>\n",
              "      <td>Mario Kart Wii</td>\n",
              "      <td>Wii</td>\n",
              "      <td>2008.0</td>\n",
              "      <td>Racing</td>\n",
              "      <td>15.68</td>\n",
              "      <td>12.76</td>\n",
              "      <td>3.79</td>\n",
              "      <td>3.29</td>\n",
              "      <td>82.0</td>\n",
              "      <td>8.3</td>\n",
              "      <td>E</td>\n",
              "    </tr>\n",
              "    <tr>\n",
              "      <th>3</th>\n",
              "      <td>Wii Sports Resort</td>\n",
              "      <td>Wii</td>\n",
              "      <td>2009.0</td>\n",
              "      <td>Sports</td>\n",
              "      <td>15.61</td>\n",
              "      <td>10.93</td>\n",
              "      <td>3.28</td>\n",
              "      <td>2.95</td>\n",
              "      <td>80.0</td>\n",
              "      <td>8</td>\n",
              "      <td>E</td>\n",
              "    </tr>\n",
              "    <tr>\n",
              "      <th>4</th>\n",
              "      <td>Pokemon Red/Pokemon Blue</td>\n",
              "      <td>GB</td>\n",
              "      <td>1996.0</td>\n",
              "      <td>Role-Playing</td>\n",
              "      <td>11.27</td>\n",
              "      <td>8.89</td>\n",
              "      <td>10.22</td>\n",
              "      <td>1.00</td>\n",
              "      <td>NaN</td>\n",
              "      <td>NaN</td>\n",
              "      <td>NaN</td>\n",
              "    </tr>\n",
              "  </tbody>\n",
              "</table>\n",
              "</div>\n",
              "      <button class=\"colab-df-convert\" onclick=\"convertToInteractive('df-ddc92df0-7033-46ea-bf56-e92503bde422')\"\n",
              "              title=\"Convert this dataframe to an interactive table.\"\n",
              "              style=\"display:none;\">\n",
              "        \n",
              "  <svg xmlns=\"http://www.w3.org/2000/svg\" height=\"24px\"viewBox=\"0 0 24 24\"\n",
              "       width=\"24px\">\n",
              "    <path d=\"M0 0h24v24H0V0z\" fill=\"none\"/>\n",
              "    <path d=\"M18.56 5.44l.94 2.06.94-2.06 2.06-.94-2.06-.94-.94-2.06-.94 2.06-2.06.94zm-11 1L8.5 8.5l.94-2.06 2.06-.94-2.06-.94L8.5 2.5l-.94 2.06-2.06.94zm10 10l.94 2.06.94-2.06 2.06-.94-2.06-.94-.94-2.06-.94 2.06-2.06.94z\"/><path d=\"M17.41 7.96l-1.37-1.37c-.4-.4-.92-.59-1.43-.59-.52 0-1.04.2-1.43.59L10.3 9.45l-7.72 7.72c-.78.78-.78 2.05 0 2.83L4 21.41c.39.39.9.59 1.41.59.51 0 1.02-.2 1.41-.59l7.78-7.78 2.81-2.81c.8-.78.8-2.07 0-2.86zM5.41 20L4 18.59l7.72-7.72 1.47 1.35L5.41 20z\"/>\n",
              "  </svg>\n",
              "      </button>\n",
              "      \n",
              "  <style>\n",
              "    .colab-df-container {\n",
              "      display:flex;\n",
              "      flex-wrap:wrap;\n",
              "      gap: 12px;\n",
              "    }\n",
              "\n",
              "    .colab-df-convert {\n",
              "      background-color: #E8F0FE;\n",
              "      border: none;\n",
              "      border-radius: 50%;\n",
              "      cursor: pointer;\n",
              "      display: none;\n",
              "      fill: #1967D2;\n",
              "      height: 32px;\n",
              "      padding: 0 0 0 0;\n",
              "      width: 32px;\n",
              "    }\n",
              "\n",
              "    .colab-df-convert:hover {\n",
              "      background-color: #E2EBFA;\n",
              "      box-shadow: 0px 1px 2px rgba(60, 64, 67, 0.3), 0px 1px 3px 1px rgba(60, 64, 67, 0.15);\n",
              "      fill: #174EA6;\n",
              "    }\n",
              "\n",
              "    [theme=dark] .colab-df-convert {\n",
              "      background-color: #3B4455;\n",
              "      fill: #D2E3FC;\n",
              "    }\n",
              "\n",
              "    [theme=dark] .colab-df-convert:hover {\n",
              "      background-color: #434B5C;\n",
              "      box-shadow: 0px 1px 3px 1px rgba(0, 0, 0, 0.15);\n",
              "      filter: drop-shadow(0px 1px 2px rgba(0, 0, 0, 0.3));\n",
              "      fill: #FFFFFF;\n",
              "    }\n",
              "  </style>\n",
              "\n",
              "      <script>\n",
              "        const buttonEl =\n",
              "          document.querySelector('#df-ddc92df0-7033-46ea-bf56-e92503bde422 button.colab-df-convert');\n",
              "        buttonEl.style.display =\n",
              "          google.colab.kernel.accessAllowed ? 'block' : 'none';\n",
              "\n",
              "        async function convertToInteractive(key) {\n",
              "          const element = document.querySelector('#df-ddc92df0-7033-46ea-bf56-e92503bde422');\n",
              "          const dataTable =\n",
              "            await google.colab.kernel.invokeFunction('convertToInteractive',\n",
              "                                                     [key], {});\n",
              "          if (!dataTable) return;\n",
              "\n",
              "          const docLinkHtml = 'Like what you see? Visit the ' +\n",
              "            '<a target=\"_blank\" href=https://colab.research.google.com/notebooks/data_table.ipynb>data table notebook</a>'\n",
              "            + ' to learn more about interactive tables.';\n",
              "          element.innerHTML = '';\n",
              "          dataTable['output_type'] = 'display_data';\n",
              "          await google.colab.output.renderOutput(dataTable, element);\n",
              "          const docLink = document.createElement('div');\n",
              "          docLink.innerHTML = docLinkHtml;\n",
              "          element.appendChild(docLink);\n",
              "        }\n",
              "      </script>\n",
              "    </div>\n",
              "  </div>\n",
              "  "
            ]
          },
          "metadata": {},
          "execution_count": 6
        }
      ],
      "source": [
        "df.columns = df.columns.str.lower()\n",
        "df.head()"
      ]
    },
    {
      "cell_type": "markdown",
      "metadata": {
        "id": "3JfKPXaio7iT"
      },
      "source": [
        "#### Заменим типы данных"
      ]
    },
    {
      "cell_type": "code",
      "execution_count": null,
      "metadata": {
        "id": "DwXdtHF-o7iT"
      },
      "outputs": [],
      "source": [
        "# Заменим тип данных в столбце year_of_release на int\n",
        "df['year_of_release'] = df['year_of_release'].astype('Int64')\n",
        "df['user_score'] = pd.to_numeric(df['user_score'], downcast='float', errors='coerce')"
      ]
    },
    {
      "cell_type": "markdown",
      "metadata": {
        "id": "7k3qMnsio7iT"
      },
      "source": [
        "**Промежуточный вывод:** Из полученных данных, на мой взгляд, только столбцы `year_of_release` и `user_score` требуют преобразования. Присваивать тип datetime столбцу `year_of_release` считаю нецелесообразно, потому что данные от этого не потеряют качества. Значения в столбце `user_score` заменили на float с применением параметра errors='coerce' для того, чтобы ошибочные данные заменялись на NaN"
      ]
    },
    {
      "cell_type": "markdown",
      "metadata": {
        "id": "XgtWGjtio7iT"
      },
      "source": [
        "#### Обработка пропусков данных"
      ]
    },
    {
      "cell_type": "code",
      "execution_count": null,
      "metadata": {
        "id": "cXDbrDDho7iT"
      },
      "outputs": [],
      "source": [
        "# Удалим строки с пропусками в столбцах 'name', 'genre' и 'year_of_release'\n",
        "df.dropna(subset=['name', 'genre', 'year_of_release'], inplace=True)\n",
        "\n",
        "# Заменим пропущенные данные в столбце 'rating'\n",
        "df['rating'] = df['rating'].fillna('Unknow')"
      ]
    },
    {
      "cell_type": "markdown",
      "metadata": {
        "id": "kHrPMZ5ao7ii"
      },
      "source": [
        "**Промежуточный вывод:**\n",
        "\n",
        "Строки с пропусками в столбцах `name` и `genre` было решено удалить потому, что из всего датафрейма их было всего 2. Пропущенные строки из `year_of_release` занимали всего 1.6% от общего датасета.\n",
        "\n",
        "Остальные пропуски было решено оставить нулевыми Удалять такой объем строк некорректно, а заменить их синтетическими данными не получилось, так как не прослеживалась явная взаимосвязь\n",
        "\n",
        "Могу предположить, что пропуски были допущены по следующим причинам:\n",
        "\n",
        "    - Ошибки в алгоритме сбора информации,\n",
        "    - Оценка RP в рейтинге означает \"Пока не определен\", присваивается тем играм, которые находятся на этапе разработки или демо-версии.\n",
        "    - Оценка tbd в столбце user_score так же означает \"Пока не определен\". Присутствие в датасете и значений NaN и tbd можно объяснить сбор данных их разных источников и, соответственно, разный подход.\n",
        "    - Также данные могли испортиться в процессе обработки, сохранении и передачи информации."
      ]
    },
    {
      "cell_type": "markdown",
      "metadata": {
        "id": "2sUqZx-To7ii"
      },
      "source": [
        "#### Выполним проверку на явные дубликаты"
      ]
    },
    {
      "cell_type": "code",
      "execution_count": null,
      "metadata": {
        "id": "i_xSUbExo7ii",
        "outputId": "2fc87ed0-cdc3-40ab-83cd-0dd15a6d552b",
        "colab": {
          "base_uri": "https://localhost:8080/"
        }
      },
      "outputs": [
        {
          "output_type": "execute_result",
          "data": {
            "text/plain": [
              "0"
            ]
          },
          "metadata": {},
          "execution_count": 9
        }
      ],
      "source": [
        "df.duplicated().sum()"
      ]
    },
    {
      "cell_type": "markdown",
      "metadata": {
        "id": "AyZ-6PZuo7ii"
      },
      "source": [
        "**Промежуточный вывод:** Явных дубликатов не выявлено"
      ]
    },
    {
      "cell_type": "markdown",
      "metadata": {
        "id": "jAWs3WFqo7ii"
      },
      "source": [
        "#### Вычислим суммарные продажи во всех регионах и запишем в отдельный столбец `total_sales`"
      ]
    },
    {
      "cell_type": "code",
      "execution_count": null,
      "metadata": {
        "id": "I4lPcDW4o7ii",
        "outputId": "258a93fa-313f-4ba8-f39b-57850918c191",
        "colab": {
          "base_uri": "https://localhost:8080/",
          "height": 206
        }
      },
      "outputs": [
        {
          "output_type": "execute_result",
          "data": {
            "text/plain": [
              "                       name platform  year_of_release         genre  na_sales  \\\n",
              "0                Wii Sports      Wii             2006        Sports     41.36   \n",
              "1         Super Mario Bros.      NES             1985      Platform     29.08   \n",
              "2            Mario Kart Wii      Wii             2008        Racing     15.68   \n",
              "3         Wii Sports Resort      Wii             2009        Sports     15.61   \n",
              "4  Pokemon Red/Pokemon Blue       GB             1996  Role-Playing     11.27   \n",
              "\n",
              "   eu_sales  jp_sales  other_sales  total_sales  critic_score  user_score  \\\n",
              "0     28.96      3.77         8.45        82.54          76.0         8.0   \n",
              "1      3.58      6.81         0.77        40.24           NaN         NaN   \n",
              "2     12.76      3.79         3.29        35.52          82.0         8.3   \n",
              "3     10.93      3.28         2.95        32.77          80.0         8.0   \n",
              "4      8.89     10.22         1.00        31.38           NaN         NaN   \n",
              "\n",
              "   rating  \n",
              "0       E  \n",
              "1  Unknow  \n",
              "2       E  \n",
              "3       E  \n",
              "4  Unknow  "
            ],
            "text/html": [
              "\n",
              "  <div id=\"df-c329b074-2925-4e72-b65f-c9786fe651aa\">\n",
              "    <div class=\"colab-df-container\">\n",
              "      <div>\n",
              "<style scoped>\n",
              "    .dataframe tbody tr th:only-of-type {\n",
              "        vertical-align: middle;\n",
              "    }\n",
              "\n",
              "    .dataframe tbody tr th {\n",
              "        vertical-align: top;\n",
              "    }\n",
              "\n",
              "    .dataframe thead th {\n",
              "        text-align: right;\n",
              "    }\n",
              "</style>\n",
              "<table border=\"1\" class=\"dataframe\">\n",
              "  <thead>\n",
              "    <tr style=\"text-align: right;\">\n",
              "      <th></th>\n",
              "      <th>name</th>\n",
              "      <th>platform</th>\n",
              "      <th>year_of_release</th>\n",
              "      <th>genre</th>\n",
              "      <th>na_sales</th>\n",
              "      <th>eu_sales</th>\n",
              "      <th>jp_sales</th>\n",
              "      <th>other_sales</th>\n",
              "      <th>total_sales</th>\n",
              "      <th>critic_score</th>\n",
              "      <th>user_score</th>\n",
              "      <th>rating</th>\n",
              "    </tr>\n",
              "  </thead>\n",
              "  <tbody>\n",
              "    <tr>\n",
              "      <th>0</th>\n",
              "      <td>Wii Sports</td>\n",
              "      <td>Wii</td>\n",
              "      <td>2006</td>\n",
              "      <td>Sports</td>\n",
              "      <td>41.36</td>\n",
              "      <td>28.96</td>\n",
              "      <td>3.77</td>\n",
              "      <td>8.45</td>\n",
              "      <td>82.54</td>\n",
              "      <td>76.0</td>\n",
              "      <td>8.0</td>\n",
              "      <td>E</td>\n",
              "    </tr>\n",
              "    <tr>\n",
              "      <th>1</th>\n",
              "      <td>Super Mario Bros.</td>\n",
              "      <td>NES</td>\n",
              "      <td>1985</td>\n",
              "      <td>Platform</td>\n",
              "      <td>29.08</td>\n",
              "      <td>3.58</td>\n",
              "      <td>6.81</td>\n",
              "      <td>0.77</td>\n",
              "      <td>40.24</td>\n",
              "      <td>NaN</td>\n",
              "      <td>NaN</td>\n",
              "      <td>Unknow</td>\n",
              "    </tr>\n",
              "    <tr>\n",
              "      <th>2</th>\n",
              "      <td>Mario Kart Wii</td>\n",
              "      <td>Wii</td>\n",
              "      <td>2008</td>\n",
              "      <td>Racing</td>\n",
              "      <td>15.68</td>\n",
              "      <td>12.76</td>\n",
              "      <td>3.79</td>\n",
              "      <td>3.29</td>\n",
              "      <td>35.52</td>\n",
              "      <td>82.0</td>\n",
              "      <td>8.3</td>\n",
              "      <td>E</td>\n",
              "    </tr>\n",
              "    <tr>\n",
              "      <th>3</th>\n",
              "      <td>Wii Sports Resort</td>\n",
              "      <td>Wii</td>\n",
              "      <td>2009</td>\n",
              "      <td>Sports</td>\n",
              "      <td>15.61</td>\n",
              "      <td>10.93</td>\n",
              "      <td>3.28</td>\n",
              "      <td>2.95</td>\n",
              "      <td>32.77</td>\n",
              "      <td>80.0</td>\n",
              "      <td>8.0</td>\n",
              "      <td>E</td>\n",
              "    </tr>\n",
              "    <tr>\n",
              "      <th>4</th>\n",
              "      <td>Pokemon Red/Pokemon Blue</td>\n",
              "      <td>GB</td>\n",
              "      <td>1996</td>\n",
              "      <td>Role-Playing</td>\n",
              "      <td>11.27</td>\n",
              "      <td>8.89</td>\n",
              "      <td>10.22</td>\n",
              "      <td>1.00</td>\n",
              "      <td>31.38</td>\n",
              "      <td>NaN</td>\n",
              "      <td>NaN</td>\n",
              "      <td>Unknow</td>\n",
              "    </tr>\n",
              "  </tbody>\n",
              "</table>\n",
              "</div>\n",
              "      <button class=\"colab-df-convert\" onclick=\"convertToInteractive('df-c329b074-2925-4e72-b65f-c9786fe651aa')\"\n",
              "              title=\"Convert this dataframe to an interactive table.\"\n",
              "              style=\"display:none;\">\n",
              "        \n",
              "  <svg xmlns=\"http://www.w3.org/2000/svg\" height=\"24px\"viewBox=\"0 0 24 24\"\n",
              "       width=\"24px\">\n",
              "    <path d=\"M0 0h24v24H0V0z\" fill=\"none\"/>\n",
              "    <path d=\"M18.56 5.44l.94 2.06.94-2.06 2.06-.94-2.06-.94-.94-2.06-.94 2.06-2.06.94zm-11 1L8.5 8.5l.94-2.06 2.06-.94-2.06-.94L8.5 2.5l-.94 2.06-2.06.94zm10 10l.94 2.06.94-2.06 2.06-.94-2.06-.94-.94-2.06-.94 2.06-2.06.94z\"/><path d=\"M17.41 7.96l-1.37-1.37c-.4-.4-.92-.59-1.43-.59-.52 0-1.04.2-1.43.59L10.3 9.45l-7.72 7.72c-.78.78-.78 2.05 0 2.83L4 21.41c.39.39.9.59 1.41.59.51 0 1.02-.2 1.41-.59l7.78-7.78 2.81-2.81c.8-.78.8-2.07 0-2.86zM5.41 20L4 18.59l7.72-7.72 1.47 1.35L5.41 20z\"/>\n",
              "  </svg>\n",
              "      </button>\n",
              "      \n",
              "  <style>\n",
              "    .colab-df-container {\n",
              "      display:flex;\n",
              "      flex-wrap:wrap;\n",
              "      gap: 12px;\n",
              "    }\n",
              "\n",
              "    .colab-df-convert {\n",
              "      background-color: #E8F0FE;\n",
              "      border: none;\n",
              "      border-radius: 50%;\n",
              "      cursor: pointer;\n",
              "      display: none;\n",
              "      fill: #1967D2;\n",
              "      height: 32px;\n",
              "      padding: 0 0 0 0;\n",
              "      width: 32px;\n",
              "    }\n",
              "\n",
              "    .colab-df-convert:hover {\n",
              "      background-color: #E2EBFA;\n",
              "      box-shadow: 0px 1px 2px rgba(60, 64, 67, 0.3), 0px 1px 3px 1px rgba(60, 64, 67, 0.15);\n",
              "      fill: #174EA6;\n",
              "    }\n",
              "\n",
              "    [theme=dark] .colab-df-convert {\n",
              "      background-color: #3B4455;\n",
              "      fill: #D2E3FC;\n",
              "    }\n",
              "\n",
              "    [theme=dark] .colab-df-convert:hover {\n",
              "      background-color: #434B5C;\n",
              "      box-shadow: 0px 1px 3px 1px rgba(0, 0, 0, 0.15);\n",
              "      filter: drop-shadow(0px 1px 2px rgba(0, 0, 0, 0.3));\n",
              "      fill: #FFFFFF;\n",
              "    }\n",
              "  </style>\n",
              "\n",
              "      <script>\n",
              "        const buttonEl =\n",
              "          document.querySelector('#df-c329b074-2925-4e72-b65f-c9786fe651aa button.colab-df-convert');\n",
              "        buttonEl.style.display =\n",
              "          google.colab.kernel.accessAllowed ? 'block' : 'none';\n",
              "\n",
              "        async function convertToInteractive(key) {\n",
              "          const element = document.querySelector('#df-c329b074-2925-4e72-b65f-c9786fe651aa');\n",
              "          const dataTable =\n",
              "            await google.colab.kernel.invokeFunction('convertToInteractive',\n",
              "                                                     [key], {});\n",
              "          if (!dataTable) return;\n",
              "\n",
              "          const docLinkHtml = 'Like what you see? Visit the ' +\n",
              "            '<a target=\"_blank\" href=https://colab.research.google.com/notebooks/data_table.ipynb>data table notebook</a>'\n",
              "            + ' to learn more about interactive tables.';\n",
              "          element.innerHTML = '';\n",
              "          dataTable['output_type'] = 'display_data';\n",
              "          await google.colab.output.renderOutput(dataTable, element);\n",
              "          const docLink = document.createElement('div');\n",
              "          docLink.innerHTML = docLinkHtml;\n",
              "          element.appendChild(docLink);\n",
              "        }\n",
              "      </script>\n",
              "    </div>\n",
              "  </div>\n",
              "  "
            ]
          },
          "metadata": {},
          "execution_count": 10
        }
      ],
      "source": [
        "df.insert(8,\n",
        "          'total_sales',\n",
        "          df[['na_sales', 'eu_sales',  'jp_sales', 'other_sales']]\n",
        "          .sum(axis=1))\n",
        "df.head()"
      ]
    },
    {
      "cell_type": "markdown",
      "metadata": {
        "id": "D7xdUFcQo7ii"
      },
      "source": [
        "### Исследовательский анализ данных"
      ]
    },
    {
      "cell_type": "markdown",
      "metadata": {
        "id": "o5FKxUVso7ii"
      },
      "source": [
        "#### Изучим, сколько игр выпускалось в разные годы"
      ]
    },
    {
      "cell_type": "code",
      "execution_count": null,
      "metadata": {
        "id": "DiCEeqD0o7ii",
        "outputId": "77fbe2b7-a81b-4a80-a991-7821455eb2e9",
        "colab": {
          "base_uri": "https://localhost:8080/",
          "height": 739
        }
      },
      "outputs": [
        {
          "output_type": "display_data",
          "data": {
            "text/plain": [
              "<Figure size 1500x800 with 1 Axes>"
            ],
            "image/png": "[encoded data removed]"
          },
          "metadata": {}
        }
      ],
      "source": [
        "games_per_years = (\n",
        "    df.pivot_table(index='year_of_release', values='name', aggfunc='count')\n",
        "    .reset_index()\n",
        ")\n",
        "\n",
        "# Построим график распределения\n",
        "plt.figure(figsize=(15, 8))\n",
        "ax = sns.barplot(data=games_per_years, x='year_of_release', y='name')\n",
        "plt.setp(ax.get_xticklabels(), rotation=45)\n",
        "plt.title('Количество игр, выпущенных в разные годы')\n",
        "plt.xlabel('Годы')\n",
        "plt.ylabel('Количество игр')\n",
        "plt.show();"
      ]
    },
    {
      "cell_type": "markdown",
      "metadata": {
        "id": "JBdyWpv_o7jG"
      },
      "source": [
        "**Промежуточный вывод:** Наибольшее количество игр было выпущено в период с 2008 по 2010 года.\n",
        "\n",
        "Данные за все периоды брать некорректно, так как платформы, с течением времени, сменяли одна другую. Значит, необходимо найти данные, которые будут представлять актуальную информацию"
      ]
    },
    {
      "cell_type": "markdown",
      "metadata": {
        "id": "tjb4Hlsno7jG"
      },
      "source": [
        "<a id='section_3_2'></a>\n",
        "#### Изучим, как менялись продажи по платформам"
      ]
    },
    {
      "cell_type": "code",
      "execution_count": null,
      "metadata": {
        "id": "YTRm_65xo7jG",
        "outputId": "87995cf2-b81a-460f-c32c-f83fb060e50c",
        "colab": {
          "base_uri": "https://localhost:8080/",
          "height": 394
        }
      },
      "outputs": [
        {
          "output_type": "execute_result",
          "data": {
            "text/plain": [
              "          total_sales\n",
              "platform             \n",
              "PS2           1233.56\n",
              "X360           961.24\n",
              "PS3            931.34\n",
              "Wii            891.18\n",
              "DS             802.78\n",
              "PS             727.58\n",
              "PS4            314.14\n",
              "GBA            312.88\n",
              "PSP            289.53\n",
              "3DS            257.81"
            ],
            "text/html": [
              "\n",
              "  <div id=\"df-3b03a4d3-a17a-44ef-b94a-db8a39e663fb\">\n",
              "    <div class=\"colab-df-container\">\n",
              "      <div>\n",
              "<style scoped>\n",
              "    .dataframe tbody tr th:only-of-type {\n",
              "        vertical-align: middle;\n",
              "    }\n",
              "\n",
              "    .dataframe tbody tr th {\n",
              "        vertical-align: top;\n",
              "    }\n",
              "\n",
              "    .dataframe thead th {\n",
              "        text-align: right;\n",
              "    }\n",
              "</style>\n",
              "<table border=\"1\" class=\"dataframe\">\n",
              "  <thead>\n",
              "    <tr style=\"text-align: right;\">\n",
              "      <th></th>\n",
              "      <th>total_sales</th>\n",
              "    </tr>\n",
              "    <tr>\n",
              "      <th>platform</th>\n",
              "      <th></th>\n",
              "    </tr>\n",
              "  </thead>\n",
              "  <tbody>\n",
              "    <tr>\n",
              "      <th>PS2</th>\n",
              "      <td>1233.56</td>\n",
              "    </tr>\n",
              "    <tr>\n",
              "      <th>X360</th>\n",
              "      <td>961.24</td>\n",
              "    </tr>\n",
              "    <tr>\n",
              "      <th>PS3</th>\n",
              "      <td>931.34</td>\n",
              "    </tr>\n",
              "    <tr>\n",
              "      <th>Wii</th>\n",
              "      <td>891.18</td>\n",
              "    </tr>\n",
              "    <tr>\n",
              "      <th>DS</th>\n",
              "      <td>802.78</td>\n",
              "    </tr>\n",
              "    <tr>\n",
              "      <th>PS</th>\n",
              "      <td>727.58</td>\n",
              "    </tr>\n",
              "    <tr>\n",
              "      <th>PS4</th>\n",
              "      <td>314.14</td>\n",
              "    </tr>\n",
              "    <tr>\n",
              "      <th>GBA</th>\n",
              "      <td>312.88</td>\n",
              "    </tr>\n",
              "    <tr>\n",
              "      <th>PSP</th>\n",
              "      <td>289.53</td>\n",
              "    </tr>\n",
              "    <tr>\n",
              "      <th>3DS</th>\n",
              "      <td>257.81</td>\n",
              "    </tr>\n",
              "  </tbody>\n",
              "</table>\n",
              "</div>\n",
              "      <button class=\"colab-df-convert\" onclick=\"convertToInteractive('df-3b03a4d3-a17a-44ef-b94a-db8a39e663fb')\"\n",
              "              title=\"Convert this dataframe to an interactive table.\"\n",
              "              style=\"display:none;\">\n",
              "        \n",
              "  <svg xmlns=\"http://www.w3.org/2000/svg\" height=\"24px\"viewBox=\"0 0 24 24\"\n",
              "       width=\"24px\">\n",
              "    <path d=\"M0 0h24v24H0V0z\" fill=\"none\"/>\n",
              "    <path d=\"M18.56 5.44l.94 2.06.94-2.06 2.06-.94-2.06-.94-.94-2.06-.94 2.06-2.06.94zm-11 1L8.5 8.5l.94-2.06 2.06-.94-2.06-.94L8.5 2.5l-.94 2.06-2.06.94zm10 10l.94 2.06.94-2.06 2.06-.94-2.06-.94-.94-2.06-.94 2.06-2.06.94z\"/><path d=\"M17.41 7.96l-1.37-1.37c-.4-.4-.92-.59-1.43-.59-.52 0-1.04.2-1.43.59L10.3 9.45l-7.72 7.72c-.78.78-.78 2.05 0 2.83L4 21.41c.39.39.9.59 1.41.59.51 0 1.02-.2 1.41-.59l7.78-7.78 2.81-2.81c.8-.78.8-2.07 0-2.86zM5.41 20L4 18.59l7.72-7.72 1.47 1.35L5.41 20z\"/>\n",
              "  </svg>\n",
              "      </button>\n",
              "      \n",
              "  <style>\n",
              "    .colab-df-container {\n",
              "      display:flex;\n",
              "      flex-wrap:wrap;\n",
              "      gap: 12px;\n",
              "    }\n",
              "\n",
              "    .colab-df-convert {\n",
              "      background-color: #E8F0FE;\n",
              "      border: none;\n",
              "      border-radius: 50%;\n",
              "      cursor: pointer;\n",
              "      display: none;\n",
              "      fill: #1967D2;\n",
              "      height: 32px;\n",
              "      padding: 0 0 0 0;\n",
              "      width: 32px;\n",
              "    }\n",
              "\n",
              "    .colab-df-convert:hover {\n",
              "      background-color: #E2EBFA;\n",
              "      box-shadow: 0px 1px 2px rgba(60, 64, 67, 0.3), 0px 1px 3px 1px rgba(60, 64, 67, 0.15);\n",
              "      fill: #174EA6;\n",
              "    }\n",
              "\n",
              "    [theme=dark] .colab-df-convert {\n",
              "      background-color: #3B4455;\n",
              "      fill: #D2E3FC;\n",
              "    }\n",
              "\n",
              "    [theme=dark] .colab-df-convert:hover {\n",
              "      background-color: #434B5C;\n",
              "      box-shadow: 0px 1px 3px 1px rgba(0, 0, 0, 0.15);\n",
              "      filter: drop-shadow(0px 1px 2px rgba(0, 0, 0, 0.3));\n",
              "      fill: #FFFFFF;\n",
              "    }\n",
              "  </style>\n",
              "\n",
              "      <script>\n",
              "        const buttonEl =\n",
              "          document.querySelector('#df-3b03a4d3-a17a-44ef-b94a-db8a39e663fb button.colab-df-convert');\n",
              "        buttonEl.style.display =\n",
              "          google.colab.kernel.accessAllowed ? 'block' : 'none';\n",
              "\n",
              "        async function convertToInteractive(key) {\n",
              "          const element = document.querySelector('#df-3b03a4d3-a17a-44ef-b94a-db8a39e663fb');\n",
              "          const dataTable =\n",
              "            await google.colab.kernel.invokeFunction('convertToInteractive',\n",
              "                                                     [key], {});\n",
              "          if (!dataTable) return;\n",
              "\n",
              "          const docLinkHtml = 'Like what you see? Visit the ' +\n",
              "            '<a target=\"_blank\" href=https://colab.research.google.com/notebooks/data_table.ipynb>data table notebook</a>'\n",
              "            + ' to learn more about interactive tables.';\n",
              "          element.innerHTML = '';\n",
              "          dataTable['output_type'] = 'display_data';\n",
              "          await google.colab.output.renderOutput(dataTable, element);\n",
              "          const docLink = document.createElement('div');\n",
              "          docLink.innerHTML = docLinkHtml;\n",
              "          element.appendChild(docLink);\n",
              "        }\n",
              "      </script>\n",
              "    </div>\n",
              "  </div>\n",
              "  "
            ]
          },
          "metadata": {},
          "execution_count": 12
        }
      ],
      "source": [
        "# Найдем платформы с наибольшими суммарными продажами\n",
        "sales_per_platform = (\n",
        "    df.pivot_table(index='platform', values='total_sales', aggfunc='sum')\n",
        "    .sort_values(by='total_sales', ascending=False)\n",
        ")\n",
        "sales_per_platform.head(10)"
      ]
    },
    {
      "cell_type": "markdown",
      "metadata": {
        "id": "0hiiSD5Qo7jG"
      },
      "source": [
        "**Промежуточный вывод:** Наибольшие суммарные продажи у платформы PS2. Следом идут X360, PS3, Wii, DS"
      ]
    },
    {
      "cell_type": "code",
      "execution_count": null,
      "metadata": {
        "id": "RLkOcU8no7jG",
        "outputId": "de12dd1c-4c43-4fa4-8140-f344cc657986",
        "colab": {
          "base_uri": "https://localhost:8080/",
          "height": 740
        }
      },
      "outputs": [
        {
          "output_type": "display_data",
          "data": {
            "text/plain": [
              "<Figure size 1500x800 with 1 Axes>"
            ],
            "image/png": "[encoded data removed]"
          },
          "metadata": {}
        }
      ],
      "source": [
        "# Построим распределение найденных платформ по годам\n",
        "ax = df.plot.scatter(x='platform',\n",
        "                     y='year_of_release',\n",
        "                     figsize=(15, 8))\n",
        "\n",
        "plt.setp(ax.get_xticklabels(), rotation=45)\n",
        "plt.title('Распределение по годам игровых платформ')\n",
        "plt.xlabel('Игровые платформы')\n",
        "plt.ylabel('Годы')\n",
        "plt.show();"
      ]
    },
    {
      "cell_type": "markdown",
      "metadata": {
        "id": "Vq-zUzxwo7jG"
      },
      "source": [
        "**Промежуточный вывод:** Судя по построенному графику, характерный \"срок жизни\" платформы составляет от 8 от 11 лет.\n",
        "\n",
        "Исходя из предыдущих выводов определим ***актуальный период*** для построения прогноза - от 2008 до 2016 года"
      ]
    },
    {
      "cell_type": "markdown",
      "metadata": {
        "id": "pizGrq-ro7jG"
      },
      "source": [
        "#### Выясним, какие платформы лидируют по продажам"
      ]
    },
    {
      "cell_type": "code",
      "execution_count": null,
      "metadata": {
        "id": "xpoR9CMvo7jG",
        "outputId": "3ae75cad-e65c-467d-a5ee-748f5606c54f",
        "colab": {
          "base_uri": "https://localhost:8080/",
          "height": 509
        }
      },
      "outputs": [
        {
          "output_type": "display_data",
          "data": {
            "text/plain": [
              "<Figure size 800x500 with 1 Axes>"
            ],
            "image/png": "[encoded data removed]"
          },
          "metadata": {}
        }
      ],
      "source": [
        "ax = df[df['year_of_release'] >= 2008].plot.scatter(x='platform', y='year_of_release', figsize=(8, 5))\n",
        "\n",
        "plt.setp(ax.get_xticklabels(), rotation=45)\n",
        "plt.title('Распределение по годам игровых платформ')\n",
        "plt.xlabel('Игровые платформы')\n",
        "plt.ylabel('Годы')\n",
        "plt.show();"
      ]
    },
    {
      "cell_type": "markdown",
      "metadata": {
        "id": "ioZCLAN6o7jV"
      },
      "source": [
        "**Промежуточный итог:** Отсеим платформы, которые уже не актуальны - это DS, PSP, PS2, XB и DC. Также можно отбросить платформы Wii, X360 и PS3, так как их \"срок жизни\" близок к критическому.\n",
        "\n",
        "Платформы PS4, 3DS, XOne, WiiU и PSV сейчас находятся в начале или середине характерного \"жизненного пути\". Далее будем их рассматривать, как потенциально прибыльные"
      ]
    },
    {
      "cell_type": "code",
      "execution_count": null,
      "metadata": {
        "id": "QlkxdYAno7jV"
      },
      "outputs": [],
      "source": [
        "# Создадим список потенциально прибыльных платформ\n",
        "potentially_profit_platform = ['PS4', '3DS', 'XOne', 'WiiU', 'PSV', 'PC']"
      ]
    },
    {
      "cell_type": "markdown",
      "metadata": {
        "id": "DAY9XfVbo7jV"
      },
      "source": [
        "<a id='section_3_4'></a>\n",
        "#### Возьмем данные, выбранные за актуальный период"
      ]
    },
    {
      "cell_type": "code",
      "execution_count": null,
      "metadata": {
        "id": "xtFIKAipo7jV"
      },
      "outputs": [],
      "source": [
        "df_actual_period = (df[df[\"year_of_release\"] >= 2013]\n",
        "                    .query('@potentially_profit_platform in platform')\n",
        "                    .reset_index())"
      ]
    },
    {
      "cell_type": "markdown",
      "metadata": {
        "id": "BSFz1tkGo7jV"
      },
      "source": [
        "<a id='section_3_5'></a>\n",
        "#### Изучим, какие платформы лидируют по продажам"
      ]
    },
    {
      "cell_type": "code",
      "execution_count": null,
      "metadata": {
        "scrolled": false,
        "id": "qCSa_7ifo7jV",
        "colab": {
          "base_uri": "https://localhost:8080/",
          "height": 529
        },
        "outputId": "f5bf7d9a-bbcb-4ee0-b490-81b2f59ba43d"
      },
      "outputs": [
        {
          "output_type": "display_data",
          "data": {
            "text/plain": [
              "<Figure size 500x500 with 1 Axes>"
            ],
            "image/png": "[encoded data removed]"
          },
          "metadata": {}
        }
      ],
      "source": [
        "sns.catplot(data=df_actual_period, x=\"total_sales\", y=\"platform\", kind='box')\n",
        "plt.xlim(0, 2)\n",
        "plt.title('Диаграмма размаха по глобальным продажам')\n",
        "plt.ylabel('Игровые платформы')\n",
        "plt.xlabel('Проданных копий, млн.шт')\n",
        "plt.show();"
      ]
    },
    {
      "cell_type": "markdown",
      "metadata": {
        "id": "bj9YgNZmo7jV"
      },
      "source": [
        "**Промежуточный итог:** По графикам видим, что наибольшие глобальные продажи приносят платформы PS4, XOne и WiiU. Медианные значения суммарной прибыли находится вблизи отметки 250000 проданных копий"
      ]
    },
    {
      "cell_type": "markdown",
      "metadata": {
        "id": "MF6r6EtFo7jV"
      },
      "source": [
        "#### Исследуем, как влияют на продажи внутри одной популярной платформы отзывы пользователей и критиков. В качестве популярной платформы возьмем PS4"
      ]
    },
    {
      "cell_type": "code",
      "execution_count": null,
      "metadata": {
        "id": "vqAp4Yzjo7jV",
        "colab": {
          "base_uri": "https://localhost:8080/",
          "height": 718
        },
        "outputId": "20dee0f7-db42-4c81-e3d7-9d384e0ccc2a"
      },
      "outputs": [
        {
          "output_type": "display_data",
          "data": {
            "text/plain": [
              "<Figure size 1500x800 with 1 Axes>"
            ],
            "image/png": "[encoded data removed]"
          },
          "metadata": {}
        }
      ],
      "source": [
        "# Построим диаграмму рассеяния\n",
        "ps_sales = df_actual_period.query('platform == \"PS4\"')\n",
        "ps_sales.plot(x='user_score', y='total_sales', kind='scatter', figsize=(15,8), alpha=0.5)\n",
        "plt.title('Диаграмма рассеяния между отзывами пользователей и продажами')\n",
        "plt.ylabel('Общие продажи, млн.шт')\n",
        "plt.xlabel('Отзывы пользователей')\n",
        "plt.show();"
      ]
    },
    {
      "cell_type": "code",
      "execution_count": null,
      "metadata": {
        "id": "JuY8-Vjyo7jV",
        "colab": {
          "base_uri": "https://localhost:8080/",
          "height": 753
        },
        "outputId": "77276518-acd8-4a75-a6da-372ed2c62460"
      },
      "outputs": [
        {
          "output_type": "display_data",
          "data": {
            "text/plain": [
              "<Figure size 1500x800 with 1 Axes>"
            ],
            "image/png": "[encoded data removed]"
          },
          "metadata": {}
        },
        {
          "output_type": "stream",
          "name": "stdout",
          "text": [
            "Корреляция между отзывами пользователей и продажами: -0.031957109005188285\n",
            "Корреляция между отзывами критиков и продажами: 0.40656790206178095\n"
          ]
        }
      ],
      "source": [
        "# Построим диаграмму рассеяния\n",
        "ps_sales = df_actual_period.query('platform == \"PS4\"')\n",
        "ps_sales.plot(x='critic_score', y='total_sales', kind='scatter', figsize=(15,8), alpha=0.5)\n",
        "plt.title('Диаграмма рассеяния между отзывами критиков и продажами')\n",
        "plt.ylabel('Общие продажи, млн.шт')\n",
        "plt.xlabel('Отзывы пользователей')\n",
        "plt.show();\n",
        "\n",
        "# Найдем корреляцию между отзывами пользователей и продажами\n",
        "print('Корреляция между отзывами пользователей и продажами:', ps_sales['user_score'].corr(ps_sales['total_sales']))\n",
        "print('Корреляция между отзывами критиков и продажами:', ps_sales['critic_score'].corr(ps_sales['total_sales']))"
      ]
    },
    {
      "cell_type": "markdown",
      "metadata": {
        "id": "gjNt_2rbo7jV"
      },
      "source": [
        "**Промежуточный итог:** Исходя из полученных данных можно сделать вывод о том, что оценки пользователей имели слабое обратное влияние на продажи игр данной платформы. При этом, оценки критиков давольно сильно влияли на показатель глобальных продаж"
      ]
    },
    {
      "cell_type": "markdown",
      "metadata": {
        "id": "B_rlHawpo7jV"
      },
      "source": [
        "<a id='section_3_7'></a>\n",
        "#### Соотнесем выводы для остальных платформ из списка потенциально прибыльных"
      ]
    },
    {
      "cell_type": "code",
      "execution_count": null,
      "metadata": {
        "id": "1paDYY4do7jV",
        "colab": {
          "base_uri": "https://localhost:8080/"
        },
        "outputId": "96009a5b-2fbb-4032-dc8c-94d32a0f524c"
      },
      "outputs": [
        {
          "output_type": "stream",
          "name": "stdout",
          "text": [
            "Для PS4:\n",
            "Корреляция между отзывами пользователей и продажами: -0.032\n",
            "Корреляция между отзывами критиков и продажами: 0.41\n",
            "\n",
            "Для 3DS:\n",
            "Корреляция между отзывами пользователей и продажами: 0.242\n",
            "Корреляция между отзывами критиков и продажами: 0.36\n",
            "\n",
            "Для XOne:\n",
            "Корреляция между отзывами пользователей и продажами: -0.069\n",
            "Корреляция между отзывами критиков и продажами: 0.42\n",
            "\n",
            "Для WiiU:\n",
            "Корреляция между отзывами пользователей и продажами: 0.419\n",
            "Корреляция между отзывами критиков и продажами: 0.38\n",
            "\n",
            "Для PSV:\n",
            "Корреляция между отзывами пользователей и продажами: 0.001\n",
            "Корреляция между отзывами критиков и продажами: 0.25\n",
            "\n",
            "Для PC:\n",
            "Корреляция между отзывами пользователей и продажами: -0.094\n",
            "Корреляция между отзывами критиков и продажами: 0.2\n",
            "\n"
          ]
        }
      ],
      "source": [
        "for platform in potentially_profit_platform:\n",
        "    corr_user_platform = (df_actual_period.loc[df_actual_period['platform'] == platform]['user_score']\n",
        "                       .corr(df_actual_period.loc[df_actual_period['platform'] == platform]['total_sales']))\n",
        "    corr_critic_platform = (df_actual_period.loc[df_actual_period['platform'] == platform]['critic_score']\n",
        "                            .corr(df_actual_period.loc[df_actual_period['platform'] == platform]['total_sales']))\n",
        "    print(f'Для {platform}:')\n",
        "    print('Корреляция между отзывами пользователей и продажами:', round(corr_user_platform, 3))\n",
        "    print('Корреляция между отзывами критиков и продажами:', round(corr_critic_platform, 2))\n",
        "    print()"
      ]
    },
    {
      "cell_type": "markdown",
      "metadata": {
        "id": "9YX73THHo7jV"
      },
      "source": [
        "**Промежуточный итог:** В большинстве случаев, вывод по платформам PC, PSV и XOne аналогичен PS4. Однако, если рассматривать портативные виды платформ, такие как 3DS и WiiU, то мы увидим, что отзывы пользователей также начинают влиять на глобальные продажи"
      ]
    },
    {
      "cell_type": "markdown",
      "metadata": {
        "id": "oJhJFjWLo7jV"
      },
      "source": [
        "<a id='section_3_8'></a>\n",
        "#### Проверим общее распределение игр по жанрам"
      ]
    },
    {
      "cell_type": "code",
      "execution_count": null,
      "metadata": {
        "id": "GRdx7cHXo7jV",
        "colab": {
          "base_uri": "https://localhost:8080/",
          "height": 529
        },
        "outputId": "ec0d906c-04bd-4a37-cb3d-50ce7ed2e064"
      },
      "outputs": [
        {
          "output_type": "display_data",
          "data": {
            "text/plain": [
              "<Figure size 500x500 with 1 Axes>"
            ],
            "image/png": "[encoded data removed]"
          },
          "metadata": {}
        }
      ],
      "source": [
        "df_actual_genre = df_actual_period.query('@potentially_profit_platform in platform')\n",
        "\n",
        "sns.catplot(data=df_actual_genre, x=\"total_sales\", y=\"genre\", kind='box')\n",
        "#plt.setp(ax.get_xticklabels(), rotation=45)\n",
        "plt.xlim(0, 4.5)\n",
        "plt.title('Диаграмма распределения игр по жанрам')\n",
        "plt.ylabel('Медиана продаж, млн.шт')\n",
        "plt.xlabel('Отзывы пользователей')\n",
        "plt.show();"
      ]
    },
    {
      "cell_type": "markdown",
      "metadata": {
        "id": "NcIdUFLvo7jV"
      },
      "source": [
        "**Промежуточный итог:** На данном графике видим явное преимущество жанра Shooter. Медианные продажи в этом жанре в 2 раза превышают, идущие следом жанры Platform и Sports.\n",
        "\n",
        "К жанрам с низкими показателями продаж относятся  Adventure и Puzzle."
      ]
    },
    {
      "cell_type": "markdown",
      "metadata": {
        "id": "5ABpXHz8o7jV"
      },
      "source": [
        "### Составьте портрет пользователя каждого региона"
      ]
    },
    {
      "cell_type": "markdown",
      "metadata": {
        "id": "CiFDbnLio7jV"
      },
      "source": [
        "<a id='section_4_1'></a>\n",
        "#### Северная Америка"
      ]
    },
    {
      "cell_type": "markdown",
      "metadata": {
        "id": "jwvTRUBbo7jV"
      },
      "source": [
        "<a id='section_4_1_1'></a>\n",
        "##### Самые популярные платформы"
      ]
    },
    {
      "cell_type": "code",
      "execution_count": null,
      "metadata": {
        "id": "a2PbFCu2o7jV",
        "colab": {
          "base_uri": "https://localhost:8080/",
          "height": 238
        },
        "outputId": "6044a2ae-4288-4c07-8404-cd86594f0a21"
      },
      "outputs": [
        {
          "output_type": "execute_result",
          "data": {
            "text/plain": [
              "          na_sales\n",
              "platform          \n",
              "PS4         108.74\n",
              "XOne         93.12\n",
              "3DS          38.20\n",
              "WiiU         29.21\n",
              "PC           11.11"
            ],
            "text/html": [
              "\n",
              "  <div id=\"df-7afb0612-df9f-4f2e-9ae8-3d3aa23a5b08\">\n",
              "    <div class=\"colab-df-container\">\n",
              "      <div>\n",
              "<style scoped>\n",
              "    .dataframe tbody tr th:only-of-type {\n",
              "        vertical-align: middle;\n",
              "    }\n",
              "\n",
              "    .dataframe tbody tr th {\n",
              "        vertical-align: top;\n",
              "    }\n",
              "\n",
              "    .dataframe thead th {\n",
              "        text-align: right;\n",
              "    }\n",
              "</style>\n",
              "<table border=\"1\" class=\"dataframe\">\n",
              "  <thead>\n",
              "    <tr style=\"text-align: right;\">\n",
              "      <th></th>\n",
              "      <th>na_sales</th>\n",
              "    </tr>\n",
              "    <tr>\n",
              "      <th>platform</th>\n",
              "      <th></th>\n",
              "    </tr>\n",
              "  </thead>\n",
              "  <tbody>\n",
              "    <tr>\n",
              "      <th>PS4</th>\n",
              "      <td>108.74</td>\n",
              "    </tr>\n",
              "    <tr>\n",
              "      <th>XOne</th>\n",
              "      <td>93.12</td>\n",
              "    </tr>\n",
              "    <tr>\n",
              "      <th>3DS</th>\n",
              "      <td>38.20</td>\n",
              "    </tr>\n",
              "    <tr>\n",
              "      <th>WiiU</th>\n",
              "      <td>29.21</td>\n",
              "    </tr>\n",
              "    <tr>\n",
              "      <th>PC</th>\n",
              "      <td>11.11</td>\n",
              "    </tr>\n",
              "  </tbody>\n",
              "</table>\n",
              "</div>\n",
              "      <button class=\"colab-df-convert\" onclick=\"convertToInteractive('df-7afb0612-df9f-4f2e-9ae8-3d3aa23a5b08')\"\n",
              "              title=\"Convert this dataframe to an interactive table.\"\n",
              "              style=\"display:none;\">\n",
              "        \n",
              "  <svg xmlns=\"http://www.w3.org/2000/svg\" height=\"24px\"viewBox=\"0 0 24 24\"\n",
              "       width=\"24px\">\n",
              "    <path d=\"M0 0h24v24H0V0z\" fill=\"none\"/>\n",
              "    <path d=\"M18.56 5.44l.94 2.06.94-2.06 2.06-.94-2.06-.94-.94-2.06-.94 2.06-2.06.94zm-11 1L8.5 8.5l.94-2.06 2.06-.94-2.06-.94L8.5 2.5l-.94 2.06-2.06.94zm10 10l.94 2.06.94-2.06 2.06-.94-2.06-.94-.94-2.06-.94 2.06-2.06.94z\"/><path d=\"M17.41 7.96l-1.37-1.37c-.4-.4-.92-.59-1.43-.59-.52 0-1.04.2-1.43.59L10.3 9.45l-7.72 7.72c-.78.78-.78 2.05 0 2.83L4 21.41c.39.39.9.59 1.41.59.51 0 1.02-.2 1.41-.59l7.78-7.78 2.81-2.81c.8-.78.8-2.07 0-2.86zM5.41 20L4 18.59l7.72-7.72 1.47 1.35L5.41 20z\"/>\n",
              "  </svg>\n",
              "      </button>\n",
              "      \n",
              "  <style>\n",
              "    .colab-df-container {\n",
              "      display:flex;\n",
              "      flex-wrap:wrap;\n",
              "      gap: 12px;\n",
              "    }\n",
              "\n",
              "    .colab-df-convert {\n",
              "      background-color: #E8F0FE;\n",
              "      border: none;\n",
              "      border-radius: 50%;\n",
              "      cursor: pointer;\n",
              "      display: none;\n",
              "      fill: #1967D2;\n",
              "      height: 32px;\n",
              "      padding: 0 0 0 0;\n",
              "      width: 32px;\n",
              "    }\n",
              "\n",
              "    .colab-df-convert:hover {\n",
              "      background-color: #E2EBFA;\n",
              "      box-shadow: 0px 1px 2px rgba(60, 64, 67, 0.3), 0px 1px 3px 1px rgba(60, 64, 67, 0.15);\n",
              "      fill: #174EA6;\n",
              "    }\n",
              "\n",
              "    [theme=dark] .colab-df-convert {\n",
              "      background-color: #3B4455;\n",
              "      fill: #D2E3FC;\n",
              "    }\n",
              "\n",
              "    [theme=dark] .colab-df-convert:hover {\n",
              "      background-color: #434B5C;\n",
              "      box-shadow: 0px 1px 3px 1px rgba(0, 0, 0, 0.15);\n",
              "      filter: drop-shadow(0px 1px 2px rgba(0, 0, 0, 0.3));\n",
              "      fill: #FFFFFF;\n",
              "    }\n",
              "  </style>\n",
              "\n",
              "      <script>\n",
              "        const buttonEl =\n",
              "          document.querySelector('#df-7afb0612-df9f-4f2e-9ae8-3d3aa23a5b08 button.colab-df-convert');\n",
              "        buttonEl.style.display =\n",
              "          google.colab.kernel.accessAllowed ? 'block' : 'none';\n",
              "\n",
              "        async function convertToInteractive(key) {\n",
              "          const element = document.querySelector('#df-7afb0612-df9f-4f2e-9ae8-3d3aa23a5b08');\n",
              "          const dataTable =\n",
              "            await google.colab.kernel.invokeFunction('convertToInteractive',\n",
              "                                                     [key], {});\n",
              "          if (!dataTable) return;\n",
              "\n",
              "          const docLinkHtml = 'Like what you see? Visit the ' +\n",
              "            '<a target=\"_blank\" href=https://colab.research.google.com/notebooks/data_table.ipynb>data table notebook</a>'\n",
              "            + ' to learn more about interactive tables.';\n",
              "          element.innerHTML = '';\n",
              "          dataTable['output_type'] = 'display_data';\n",
              "          await google.colab.output.renderOutput(dataTable, element);\n",
              "          const docLink = document.createElement('div');\n",
              "          docLink.innerHTML = docLinkHtml;\n",
              "          element.appendChild(docLink);\n",
              "        }\n",
              "      </script>\n",
              "    </div>\n",
              "  </div>\n",
              "  "
            ]
          },
          "metadata": {},
          "execution_count": 22
        }
      ],
      "source": [
        "# Найдем Топ-5 платформ в Северной Америке\n",
        "(\n",
        "    df_actual_period\n",
        "    .pivot_table(index='platform', values='na_sales', aggfunc='sum')\n",
        "    .sort_values(by='na_sales', ascending=False)\n",
        "    .head()\n",
        ")"
      ]
    },
    {
      "cell_type": "code",
      "execution_count": null,
      "metadata": {
        "id": "VZXNa7l4o7jV",
        "colab": {
          "base_uri": "https://localhost:8080/"
        },
        "outputId": "9216d384-085b-4cd9-fbf4-2f90c67261ff"
      },
      "outputs": [
        {
          "output_type": "stream",
          "name": "stdout",
          "text": [
            "\n",
            "Доля продаж игр для платформы 3DS в Северной Америке - 0.00%\n",
            "\n",
            "Доля продаж игр для платформы PC в Северной Америке - 0.00%\n",
            "\n",
            "Доля продаж игр для платформы PS4 в Северной Америке - 31.22%\n",
            "\n",
            "Доля продаж игр для платформы PSV в Северной Америке - 0.00%\n",
            "\n",
            "Доля продаж игр для платформы WiiU в Северной Америке - 47.37%\n",
            "\n",
            "Доля продаж игр для платформы XOne в Северной Америке - 57.46%\n"
          ]
        }
      ],
      "source": [
        "for platform, group in df_actual_period.groupby('platform'):\n",
        "    share_sales = (group['na_sales'] / group['total_sales']).median()\n",
        "    print()\n",
        "    print(f'Доля продаж игр для платформы {platform} в Северной Америке - {share_sales:.2%}')"
      ]
    },
    {
      "cell_type": "markdown",
      "metadata": {
        "id": "jUUjEobXo7jV"
      },
      "source": [
        "**Промежуточный вывод:** В Северной Америке большей популярностью пользуются такие платформы, как XOne, WiiU и PS4. Портативные консоли 3DS и PSV популярностью в данном регионе практически не пользовались."
      ]
    },
    {
      "cell_type": "markdown",
      "metadata": {
        "id": "aqLzy_GDo7jV"
      },
      "source": [
        "<a id='section_4_1_2'></a>\n",
        "##### Самые популярные жанры"
      ]
    },
    {
      "cell_type": "code",
      "execution_count": null,
      "metadata": {
        "id": "2-hL3rlyo7jl",
        "colab": {
          "base_uri": "https://localhost:8080/",
          "height": 457
        },
        "outputId": "4bad4f57-392e-4895-b89c-a90a0c5198d9"
      },
      "outputs": [
        {
          "output_type": "execute_result",
          "data": {
            "text/plain": [
              "              na_sales\n",
              "genre                 \n",
              "Shooter          75.37\n",
              "Action           73.43\n",
              "Role-Playing     37.92\n",
              "Sports           37.09\n",
              "Platform         14.18\n",
              "Misc             12.69\n",
              "Fighting         12.10\n",
              "Racing           10.29\n",
              "Adventure         4.57\n",
              "Simulation        4.08\n",
              "Strategy          2.87\n",
              "Puzzle            0.83"
            ],
            "text/html": [
              "\n",
              "  <div id=\"df-0c2fe327-42ba-48fe-8a4c-610ceffda8b9\">\n",
              "    <div class=\"colab-df-container\">\n",
              "      <div>\n",
              "<style scoped>\n",
              "    .dataframe tbody tr th:only-of-type {\n",
              "        vertical-align: middle;\n",
              "    }\n",
              "\n",
              "    .dataframe tbody tr th {\n",
              "        vertical-align: top;\n",
              "    }\n",
              "\n",
              "    .dataframe thead th {\n",
              "        text-align: right;\n",
              "    }\n",
              "</style>\n",
              "<table border=\"1\" class=\"dataframe\">\n",
              "  <thead>\n",
              "    <tr style=\"text-align: right;\">\n",
              "      <th></th>\n",
              "      <th>na_sales</th>\n",
              "    </tr>\n",
              "    <tr>\n",
              "      <th>genre</th>\n",
              "      <th></th>\n",
              "    </tr>\n",
              "  </thead>\n",
              "  <tbody>\n",
              "    <tr>\n",
              "      <th>Shooter</th>\n",
              "      <td>75.37</td>\n",
              "    </tr>\n",
              "    <tr>\n",
              "      <th>Action</th>\n",
              "      <td>73.43</td>\n",
              "    </tr>\n",
              "    <tr>\n",
              "      <th>Role-Playing</th>\n",
              "      <td>37.92</td>\n",
              "    </tr>\n",
              "    <tr>\n",
              "      <th>Sports</th>\n",
              "      <td>37.09</td>\n",
              "    </tr>\n",
              "    <tr>\n",
              "      <th>Platform</th>\n",
              "      <td>14.18</td>\n",
              "    </tr>\n",
              "    <tr>\n",
              "      <th>Misc</th>\n",
              "      <td>12.69</td>\n",
              "    </tr>\n",
              "    <tr>\n",
              "      <th>Fighting</th>\n",
              "      <td>12.10</td>\n",
              "    </tr>\n",
              "    <tr>\n",
              "      <th>Racing</th>\n",
              "      <td>10.29</td>\n",
              "    </tr>\n",
              "    <tr>\n",
              "      <th>Adventure</th>\n",
              "      <td>4.57</td>\n",
              "    </tr>\n",
              "    <tr>\n",
              "      <th>Simulation</th>\n",
              "      <td>4.08</td>\n",
              "    </tr>\n",
              "    <tr>\n",
              "      <th>Strategy</th>\n",
              "      <td>2.87</td>\n",
              "    </tr>\n",
              "    <tr>\n",
              "      <th>Puzzle</th>\n",
              "      <td>0.83</td>\n",
              "    </tr>\n",
              "  </tbody>\n",
              "</table>\n",
              "</div>\n",
              "      <button class=\"colab-df-convert\" onclick=\"convertToInteractive('df-0c2fe327-42ba-48fe-8a4c-610ceffda8b9')\"\n",
              "              title=\"Convert this dataframe to an interactive table.\"\n",
              "              style=\"display:none;\">\n",
              "        \n",
              "  <svg xmlns=\"http://www.w3.org/2000/svg\" height=\"24px\"viewBox=\"0 0 24 24\"\n",
              "       width=\"24px\">\n",
              "    <path d=\"M0 0h24v24H0V0z\" fill=\"none\"/>\n",
              "    <path d=\"M18.56 5.44l.94 2.06.94-2.06 2.06-.94-2.06-.94-.94-2.06-.94 2.06-2.06.94zm-11 1L8.5 8.5l.94-2.06 2.06-.94-2.06-.94L8.5 2.5l-.94 2.06-2.06.94zm10 10l.94 2.06.94-2.06 2.06-.94-2.06-.94-.94-2.06-.94 2.06-2.06.94z\"/><path d=\"M17.41 7.96l-1.37-1.37c-.4-.4-.92-.59-1.43-.59-.52 0-1.04.2-1.43.59L10.3 9.45l-7.72 7.72c-.78.78-.78 2.05 0 2.83L4 21.41c.39.39.9.59 1.41.59.51 0 1.02-.2 1.41-.59l7.78-7.78 2.81-2.81c.8-.78.8-2.07 0-2.86zM5.41 20L4 18.59l7.72-7.72 1.47 1.35L5.41 20z\"/>\n",
              "  </svg>\n",
              "      </button>\n",
              "      \n",
              "  <style>\n",
              "    .colab-df-container {\n",
              "      display:flex;\n",
              "      flex-wrap:wrap;\n",
              "      gap: 12px;\n",
              "    }\n",
              "\n",
              "    .colab-df-convert {\n",
              "      background-color: #E8F0FE;\n",
              "      border: none;\n",
              "      border-radius: 50%;\n",
              "      cursor: pointer;\n",
              "      display: none;\n",
              "      fill: #1967D2;\n",
              "      height: 32px;\n",
              "      padding: 0 0 0 0;\n",
              "      width: 32px;\n",
              "    }\n",
              "\n",
              "    .colab-df-convert:hover {\n",
              "      background-color: #E2EBFA;\n",
              "      box-shadow: 0px 1px 2px rgba(60, 64, 67, 0.3), 0px 1px 3px 1px rgba(60, 64, 67, 0.15);\n",
              "      fill: #174EA6;\n",
              "    }\n",
              "\n",
              "    [theme=dark] .colab-df-convert {\n",
              "      background-color: #3B4455;\n",
              "      fill: #D2E3FC;\n",
              "    }\n",
              "\n",
              "    [theme=dark] .colab-df-convert:hover {\n",
              "      background-color: #434B5C;\n",
              "      box-shadow: 0px 1px 3px 1px rgba(0, 0, 0, 0.15);\n",
              "      filter: drop-shadow(0px 1px 2px rgba(0, 0, 0, 0.3));\n",
              "      fill: #FFFFFF;\n",
              "    }\n",
              "  </style>\n",
              "\n",
              "      <script>\n",
              "        const buttonEl =\n",
              "          document.querySelector('#df-0c2fe327-42ba-48fe-8a4c-610ceffda8b9 button.colab-df-convert');\n",
              "        buttonEl.style.display =\n",
              "          google.colab.kernel.accessAllowed ? 'block' : 'none';\n",
              "\n",
              "        async function convertToInteractive(key) {\n",
              "          const element = document.querySelector('#df-0c2fe327-42ba-48fe-8a4c-610ceffda8b9');\n",
              "          const dataTable =\n",
              "            await google.colab.kernel.invokeFunction('convertToInteractive',\n",
              "                                                     [key], {});\n",
              "          if (!dataTable) return;\n",
              "\n",
              "          const docLinkHtml = 'Like what you see? Visit the ' +\n",
              "            '<a target=\"_blank\" href=https://colab.research.google.com/notebooks/data_table.ipynb>data table notebook</a>'\n",
              "            + ' to learn more about interactive tables.';\n",
              "          element.innerHTML = '';\n",
              "          dataTable['output_type'] = 'display_data';\n",
              "          await google.colab.output.renderOutput(dataTable, element);\n",
              "          const docLink = document.createElement('div');\n",
              "          docLink.innerHTML = docLinkHtml;\n",
              "          element.appendChild(docLink);\n",
              "        }\n",
              "      </script>\n",
              "    </div>\n",
              "  </div>\n",
              "  "
            ]
          },
          "metadata": {},
          "execution_count": 24
        }
      ],
      "source": [
        "(\n",
        "    df_actual_period\n",
        "    .pivot_table(index='genre', values='na_sales', aggfunc='sum')\n",
        "    .sort_values(by='na_sales', ascending=False)\n",
        ")"
      ]
    },
    {
      "cell_type": "markdown",
      "metadata": {
        "id": "pcf1QoHpo7jl"
      },
      "source": [
        "**Промежуточный вывод:** В Северной Америке гораздо охотнее приобретают игры жанров Action и Shooter. Игры, жанров Strategy, Puzzle занимают последние строки рейтинга по региону. Можно предположить, что в Северной Америке предпочитают игры, для переживания острых ощущений в безопасной среде"
      ]
    },
    {
      "cell_type": "markdown",
      "metadata": {
        "id": "GNmTVm1xo7jl"
      },
      "source": [
        "<a id='section_4_1_3'></a>\n",
        "##### Влияние рейтинга ESRB на продажи"
      ]
    },
    {
      "cell_type": "code",
      "execution_count": null,
      "metadata": {
        "id": "3mquthbZo7jl",
        "colab": {
          "base_uri": "https://localhost:8080/",
          "height": 760
        },
        "outputId": "7a88c7f5-26f3-4b9a-9a43-dec402634343"
      },
      "outputs": [
        {
          "output_type": "display_data",
          "data": {
            "text/plain": [
              "<Figure size 1500x800 with 1 Axes>"
            ],
            "image/png": "[encoded data removed]"
          },
          "metadata": {}
        }
      ],
      "source": [
        "(\n",
        "    df_actual_period\n",
        "    .pivot_table(index='rating', values='na_sales', aggfunc='sum')\n",
        "    .plot(kind='bar', figsize=(15,8))\n",
        ")\n",
        "plt.title('Диаграмма зависимости продаж от рейтинга ESRB')\n",
        "plt.ylabel('Продажи в Северной Америке, млн.шт')\n",
        "plt.xlabel('Рейтинг ESRB')\n",
        "plt.show();"
      ]
    },
    {
      "cell_type": "markdown",
      "metadata": {
        "id": "njW9hCNro7jl"
      },
      "source": [
        "<a id='section_4_2'></a>\n",
        "#### Европа"
      ]
    },
    {
      "cell_type": "markdown",
      "metadata": {
        "id": "rbVcTFTyo7jl"
      },
      "source": [
        "<a id='section_4_2_1'></a>\n",
        "##### Самые популярные платформы"
      ]
    },
    {
      "cell_type": "code",
      "execution_count": null,
      "metadata": {
        "id": "sQoAcH7Ko7jl",
        "colab": {
          "base_uri": "https://localhost:8080/",
          "height": 238
        },
        "outputId": "9ff75b9b-6b67-4dde-9dfa-2419f114fbc6"
      },
      "outputs": [
        {
          "output_type": "execute_result",
          "data": {
            "text/plain": [
              "          eu_sales\n",
              "platform          \n",
              "PS4         141.09\n",
              "XOne         51.59\n",
              "3DS          30.96\n",
              "PC           25.36\n",
              "WiiU         19.85"
            ],
            "text/html": [
              "\n",
              "  <div id=\"df-84dea09a-6f9e-48bb-8ddf-05a5fd5dca5a\">\n",
              "    <div class=\"colab-df-container\">\n",
              "      <div>\n",
              "<style scoped>\n",
              "    .dataframe tbody tr th:only-of-type {\n",
              "        vertical-align: middle;\n",
              "    }\n",
              "\n",
              "    .dataframe tbody tr th {\n",
              "        vertical-align: top;\n",
              "    }\n",
              "\n",
              "    .dataframe thead th {\n",
              "        text-align: right;\n",
              "    }\n",
              "</style>\n",
              "<table border=\"1\" class=\"dataframe\">\n",
              "  <thead>\n",
              "    <tr style=\"text-align: right;\">\n",
              "      <th></th>\n",
              "      <th>eu_sales</th>\n",
              "    </tr>\n",
              "    <tr>\n",
              "      <th>platform</th>\n",
              "      <th></th>\n",
              "    </tr>\n",
              "  </thead>\n",
              "  <tbody>\n",
              "    <tr>\n",
              "      <th>PS4</th>\n",
              "      <td>141.09</td>\n",
              "    </tr>\n",
              "    <tr>\n",
              "      <th>XOne</th>\n",
              "      <td>51.59</td>\n",
              "    </tr>\n",
              "    <tr>\n",
              "      <th>3DS</th>\n",
              "      <td>30.96</td>\n",
              "    </tr>\n",
              "    <tr>\n",
              "      <th>PC</th>\n",
              "      <td>25.36</td>\n",
              "    </tr>\n",
              "    <tr>\n",
              "      <th>WiiU</th>\n",
              "      <td>19.85</td>\n",
              "    </tr>\n",
              "  </tbody>\n",
              "</table>\n",
              "</div>\n",
              "      <button class=\"colab-df-convert\" onclick=\"convertToInteractive('df-84dea09a-6f9e-48bb-8ddf-05a5fd5dca5a')\"\n",
              "              title=\"Convert this dataframe to an interactive table.\"\n",
              "              style=\"display:none;\">\n",
              "        \n",
              "  <svg xmlns=\"http://www.w3.org/2000/svg\" height=\"24px\"viewBox=\"0 0 24 24\"\n",
              "       width=\"24px\">\n",
              "    <path d=\"M0 0h24v24H0V0z\" fill=\"none\"/>\n",
              "    <path d=\"M18.56 5.44l.94 2.06.94-2.06 2.06-.94-2.06-.94-.94-2.06-.94 2.06-2.06.94zm-11 1L8.5 8.5l.94-2.06 2.06-.94-2.06-.94L8.5 2.5l-.94 2.06-2.06.94zm10 10l.94 2.06.94-2.06 2.06-.94-2.06-.94-.94-2.06-.94 2.06-2.06.94z\"/><path d=\"M17.41 7.96l-1.37-1.37c-.4-.4-.92-.59-1.43-.59-.52 0-1.04.2-1.43.59L10.3 9.45l-7.72 7.72c-.78.78-.78 2.05 0 2.83L4 21.41c.39.39.9.59 1.41.59.51 0 1.02-.2 1.41-.59l7.78-7.78 2.81-2.81c.8-.78.8-2.07 0-2.86zM5.41 20L4 18.59l7.72-7.72 1.47 1.35L5.41 20z\"/>\n",
              "  </svg>\n",
              "      </button>\n",
              "      \n",
              "  <style>\n",
              "    .colab-df-container {\n",
              "      display:flex;\n",
              "      flex-wrap:wrap;\n",
              "      gap: 12px;\n",
              "    }\n",
              "\n",
              "    .colab-df-convert {\n",
              "      background-color: #E8F0FE;\n",
              "      border: none;\n",
              "      border-radius: 50%;\n",
              "      cursor: pointer;\n",
              "      display: none;\n",
              "      fill: #1967D2;\n",
              "      height: 32px;\n",
              "      padding: 0 0 0 0;\n",
              "      width: 32px;\n",
              "    }\n",
              "\n",
              "    .colab-df-convert:hover {\n",
              "      background-color: #E2EBFA;\n",
              "      box-shadow: 0px 1px 2px rgba(60, 64, 67, 0.3), 0px 1px 3px 1px rgba(60, 64, 67, 0.15);\n",
              "      fill: #174EA6;\n",
              "    }\n",
              "\n",
              "    [theme=dark] .colab-df-convert {\n",
              "      background-color: #3B4455;\n",
              "      fill: #D2E3FC;\n",
              "    }\n",
              "\n",
              "    [theme=dark] .colab-df-convert:hover {\n",
              "      background-color: #434B5C;\n",
              "      box-shadow: 0px 1px 3px 1px rgba(0, 0, 0, 0.15);\n",
              "      filter: drop-shadow(0px 1px 2px rgba(0, 0, 0, 0.3));\n",
              "      fill: #FFFFFF;\n",
              "    }\n",
              "  </style>\n",
              "\n",
              "      <script>\n",
              "        const buttonEl =\n",
              "          document.querySelector('#df-84dea09a-6f9e-48bb-8ddf-05a5fd5dca5a button.colab-df-convert');\n",
              "        buttonEl.style.display =\n",
              "          google.colab.kernel.accessAllowed ? 'block' : 'none';\n",
              "\n",
              "        async function convertToInteractive(key) {\n",
              "          const element = document.querySelector('#df-84dea09a-6f9e-48bb-8ddf-05a5fd5dca5a');\n",
              "          const dataTable =\n",
              "            await google.colab.kernel.invokeFunction('convertToInteractive',\n",
              "                                                     [key], {});\n",
              "          if (!dataTable) return;\n",
              "\n",
              "          const docLinkHtml = 'Like what you see? Visit the ' +\n",
              "            '<a target=\"_blank\" href=https://colab.research.google.com/notebooks/data_table.ipynb>data table notebook</a>'\n",
              "            + ' to learn more about interactive tables.';\n",
              "          element.innerHTML = '';\n",
              "          dataTable['output_type'] = 'display_data';\n",
              "          await google.colab.output.renderOutput(dataTable, element);\n",
              "          const docLink = document.createElement('div');\n",
              "          docLink.innerHTML = docLinkHtml;\n",
              "          element.appendChild(docLink);\n",
              "        }\n",
              "      </script>\n",
              "    </div>\n",
              "  </div>\n",
              "  "
            ]
          },
          "metadata": {},
          "execution_count": 26
        }
      ],
      "source": [
        "(\n",
        "    df_actual_period\n",
        "    .pivot_table(index='platform', values='eu_sales', aggfunc='sum')\n",
        "    .sort_values(by='eu_sales', ascending=False)\n",
        "    .head()\n",
        ")"
      ]
    },
    {
      "cell_type": "code",
      "execution_count": null,
      "metadata": {
        "id": "HBzIj9HNo7jl",
        "colab": {
          "base_uri": "https://localhost:8080/"
        },
        "outputId": "6214438e-cba1-4720-b22f-815de66bf5d5"
      },
      "outputs": [
        {
          "output_type": "stream",
          "name": "stdout",
          "text": [
            "\n",
            "Доля продаж игр для платформы 3DS в Европе - 0.00%\n",
            "\n",
            "Доля продаж игр для платформы PC в Европе - 92.86%\n",
            "\n",
            "Доля продаж игр для платформы PS4 в Европе - 41.03%\n",
            "\n",
            "Доля продаж игр для платформы PSV в Европе - 0.00%\n",
            "\n",
            "Доля продаж игр для платформы WiiU в Европе - 33.33%\n",
            "\n",
            "Доля продаж игр для платформы XOne в Европе - 33.33%\n"
          ]
        }
      ],
      "source": [
        "for platform, group in df_actual_period.groupby('platform'):\n",
        "    share_sales = (group['eu_sales'] / group['total_sales']).median()\n",
        "    print()\n",
        "    print(f'Доля продаж игр для платформы {platform} в Европе - {share_sales:.2%}')"
      ]
    },
    {
      "cell_type": "markdown",
      "metadata": {
        "id": "L0OGevWjo7jl"
      },
      "source": [
        "**Промежуточный вывод:** В Европе ситуация аналогична Северной Америке. Большей популярностью пользуются такие платформы, как XOne, WiiU и PS4. Портативные консоли 3DS и PSV, при этом, совсем не пользовались популярностью или не продавались в данном регионе."
      ]
    },
    {
      "cell_type": "markdown",
      "metadata": {
        "id": "AFsolR7oo7jl"
      },
      "source": [
        "<a id='section_4_2_2'></a>\n",
        "##### Самые популярные жанры"
      ]
    },
    {
      "cell_type": "code",
      "execution_count": null,
      "metadata": {
        "id": "fJxIbSpGo7jl",
        "colab": {
          "base_uri": "https://localhost:8080/",
          "height": 457
        },
        "outputId": "86f1ce99-bc47-49fc-a204-d1519fd69489"
      },
      "outputs": [
        {
          "output_type": "execute_result",
          "data": {
            "text/plain": [
              "              eu_sales\n",
              "genre                 \n",
              "Action           73.96\n",
              "Shooter          64.89\n",
              "Sports           38.63\n",
              "Role-Playing     32.00\n",
              "Racing           15.18\n",
              "Platform         12.16\n",
              "Misc             10.61\n",
              "Simulation       10.17\n",
              "Fighting          6.58\n",
              "Adventure         5.88\n",
              "Strategy          3.89\n",
              "Puzzle            1.00"
            ],
            "text/html": [
              "\n",
              "  <div id=\"df-542828c9-e65a-4df2-b5c6-307519a8867d\">\n",
              "    <div class=\"colab-df-container\">\n",
              "      <div>\n",
              "<style scoped>\n",
              "    .dataframe tbody tr th:only-of-type {\n",
              "        vertical-align: middle;\n",
              "    }\n",
              "\n",
              "    .dataframe tbody tr th {\n",
              "        vertical-align: top;\n",
              "    }\n",
              "\n",
              "    .dataframe thead th {\n",
              "        text-align: right;\n",
              "    }\n",
              "</style>\n",
              "<table border=\"1\" class=\"dataframe\">\n",
              "  <thead>\n",
              "    <tr style=\"text-align: right;\">\n",
              "      <th></th>\n",
              "      <th>eu_sales</th>\n",
              "    </tr>\n",
              "    <tr>\n",
              "      <th>genre</th>\n",
              "      <th></th>\n",
              "    </tr>\n",
              "  </thead>\n",
              "  <tbody>\n",
              "    <tr>\n",
              "      <th>Action</th>\n",
              "      <td>73.96</td>\n",
              "    </tr>\n",
              "    <tr>\n",
              "      <th>Shooter</th>\n",
              "      <td>64.89</td>\n",
              "    </tr>\n",
              "    <tr>\n",
              "      <th>Sports</th>\n",
              "      <td>38.63</td>\n",
              "    </tr>\n",
              "    <tr>\n",
              "      <th>Role-Playing</th>\n",
              "      <td>32.00</td>\n",
              "    </tr>\n",
              "    <tr>\n",
              "      <th>Racing</th>\n",
              "      <td>15.18</td>\n",
              "    </tr>\n",
              "    <tr>\n",
              "      <th>Platform</th>\n",
              "      <td>12.16</td>\n",
              "    </tr>\n",
              "    <tr>\n",
              "      <th>Misc</th>\n",
              "      <td>10.61</td>\n",
              "    </tr>\n",
              "    <tr>\n",
              "      <th>Simulation</th>\n",
              "      <td>10.17</td>\n",
              "    </tr>\n",
              "    <tr>\n",
              "      <th>Fighting</th>\n",
              "      <td>6.58</td>\n",
              "    </tr>\n",
              "    <tr>\n",
              "      <th>Adventure</th>\n",
              "      <td>5.88</td>\n",
              "    </tr>\n",
              "    <tr>\n",
              "      <th>Strategy</th>\n",
              "      <td>3.89</td>\n",
              "    </tr>\n",
              "    <tr>\n",
              "      <th>Puzzle</th>\n",
              "      <td>1.00</td>\n",
              "    </tr>\n",
              "  </tbody>\n",
              "</table>\n",
              "</div>\n",
              "      <button class=\"colab-df-convert\" onclick=\"convertToInteractive('df-542828c9-e65a-4df2-b5c6-307519a8867d')\"\n",
              "              title=\"Convert this dataframe to an interactive table.\"\n",
              "              style=\"display:none;\">\n",
              "        \n",
              "  <svg xmlns=\"http://www.w3.org/2000/svg\" height=\"24px\"viewBox=\"0 0 24 24\"\n",
              "       width=\"24px\">\n",
              "    <path d=\"M0 0h24v24H0V0z\" fill=\"none\"/>\n",
              "    <path d=\"M18.56 5.44l.94 2.06.94-2.06 2.06-.94-2.06-.94-.94-2.06-.94 2.06-2.06.94zm-11 1L8.5 8.5l.94-2.06 2.06-.94-2.06-.94L8.5 2.5l-.94 2.06-2.06.94zm10 10l.94 2.06.94-2.06 2.06-.94-2.06-.94-.94-2.06-.94 2.06-2.06.94z\"/><path d=\"M17.41 7.96l-1.37-1.37c-.4-.4-.92-.59-1.43-.59-.52 0-1.04.2-1.43.59L10.3 9.45l-7.72 7.72c-.78.78-.78 2.05 0 2.83L4 21.41c.39.39.9.59 1.41.59.51 0 1.02-.2 1.41-.59l7.78-7.78 2.81-2.81c.8-.78.8-2.07 0-2.86zM5.41 20L4 18.59l7.72-7.72 1.47 1.35L5.41 20z\"/>\n",
              "  </svg>\n",
              "      </button>\n",
              "      \n",
              "  <style>\n",
              "    .colab-df-container {\n",
              "      display:flex;\n",
              "      flex-wrap:wrap;\n",
              "      gap: 12px;\n",
              "    }\n",
              "\n",
              "    .colab-df-convert {\n",
              "      background-color: #E8F0FE;\n",
              "      border: none;\n",
              "      border-radius: 50%;\n",
              "      cursor: pointer;\n",
              "      display: none;\n",
              "      fill: #1967D2;\n",
              "      height: 32px;\n",
              "      padding: 0 0 0 0;\n",
              "      width: 32px;\n",
              "    }\n",
              "\n",
              "    .colab-df-convert:hover {\n",
              "      background-color: #E2EBFA;\n",
              "      box-shadow: 0px 1px 2px rgba(60, 64, 67, 0.3), 0px 1px 3px 1px rgba(60, 64, 67, 0.15);\n",
              "      fill: #174EA6;\n",
              "    }\n",
              "\n",
              "    [theme=dark] .colab-df-convert {\n",
              "      background-color: #3B4455;\n",
              "      fill: #D2E3FC;\n",
              "    }\n",
              "\n",
              "    [theme=dark] .colab-df-convert:hover {\n",
              "      background-color: #434B5C;\n",
              "      box-shadow: 0px 1px 3px 1px rgba(0, 0, 0, 0.15);\n",
              "      filter: drop-shadow(0px 1px 2px rgba(0, 0, 0, 0.3));\n",
              "      fill: #FFFFFF;\n",
              "    }\n",
              "  </style>\n",
              "\n",
              "      <script>\n",
              "        const buttonEl =\n",
              "          document.querySelector('#df-542828c9-e65a-4df2-b5c6-307519a8867d button.colab-df-convert');\n",
              "        buttonEl.style.display =\n",
              "          google.colab.kernel.accessAllowed ? 'block' : 'none';\n",
              "\n",
              "        async function convertToInteractive(key) {\n",
              "          const element = document.querySelector('#df-542828c9-e65a-4df2-b5c6-307519a8867d');\n",
              "          const dataTable =\n",
              "            await google.colab.kernel.invokeFunction('convertToInteractive',\n",
              "                                                     [key], {});\n",
              "          if (!dataTable) return;\n",
              "\n",
              "          const docLinkHtml = 'Like what you see? Visit the ' +\n",
              "            '<a target=\"_blank\" href=https://colab.research.google.com/notebooks/data_table.ipynb>data table notebook</a>'\n",
              "            + ' to learn more about interactive tables.';\n",
              "          element.innerHTML = '';\n",
              "          dataTable['output_type'] = 'display_data';\n",
              "          await google.colab.output.renderOutput(dataTable, element);\n",
              "          const docLink = document.createElement('div');\n",
              "          docLink.innerHTML = docLinkHtml;\n",
              "          element.appendChild(docLink);\n",
              "        }\n",
              "      </script>\n",
              "    </div>\n",
              "  </div>\n",
              "  "
            ]
          },
          "metadata": {},
          "execution_count": 28
        }
      ],
      "source": [
        "df_actual_period.pivot_table(index='genre', values='eu_sales', aggfunc='sum').sort_values(by='eu_sales', ascending=False)"
      ]
    },
    {
      "cell_type": "markdown",
      "metadata": {
        "id": "SvQyUzSvo7jl"
      },
      "source": [
        "**Промежуточный вывод:** По распределению жанров игр Европа почти в точности повторяет Северную Америку. На первых местах находятся жанры Action и Shooter, а игры заставляющие использовать мыслительные способности занимают последние места в рейтинге"
      ]
    },
    {
      "cell_type": "markdown",
      "metadata": {
        "id": "_WeWf4s-o7jl"
      },
      "source": [
        "<a id='section_4_2_3'></a>\n",
        "##### Влияние рейтинга ESRB на продажи"
      ]
    },
    {
      "cell_type": "code",
      "execution_count": null,
      "metadata": {
        "id": "50Fcyu15o7jl",
        "colab": {
          "base_uri": "https://localhost:8080/",
          "height": 760
        },
        "outputId": "05c0c50c-d5a5-4da5-ed04-79e5f26dd3dc"
      },
      "outputs": [
        {
          "output_type": "display_data",
          "data": {
            "text/plain": [
              "<Figure size 1500x800 with 1 Axes>"
            ],
            "image/png": "[encoded data removed]"
          },
          "metadata": {}
        }
      ],
      "source": [
        "(\n",
        "    df_actual_period\n",
        "    .pivot_table(index='rating', values='eu_sales', aggfunc='sum')\n",
        "    .plot(kind='bar', figsize=(15,8))\n",
        ")\n",
        "plt.title('Диаграмма зависимости продаж от рейтинга ESRB')\n",
        "plt.ylabel('Продажи в Европе, млн.шт')\n",
        "plt.xlabel('Рейтинг ESRB')\n",
        "plt.show();"
      ]
    },
    {
      "cell_type": "markdown",
      "metadata": {
        "id": "NCMAbeWyo7jl"
      },
      "source": [
        "<a id='section_4_3'></a>\n",
        "#### Япония"
      ]
    },
    {
      "cell_type": "markdown",
      "metadata": {
        "id": "P-dbAdECo7jl"
      },
      "source": [
        "<a id='section_4_3_1'></a>\n",
        "##### Самые популярные платформы"
      ]
    },
    {
      "cell_type": "code",
      "execution_count": null,
      "metadata": {
        "id": "6r97XNAdo7jl",
        "colab": {
          "base_uri": "https://localhost:8080/",
          "height": 238
        },
        "outputId": "02e7a742-5acf-4087-e1a3-f04efb16cca5"
      },
      "outputs": [
        {
          "output_type": "execute_result",
          "data": {
            "text/plain": [
              "          jp_sales\n",
              "platform          \n",
              "3DS          67.81\n",
              "PSV          18.59\n",
              "PS4          15.96\n",
              "WiiU         10.88\n",
              "XOne          0.34"
            ],
            "text/html": [
              "\n",
              "  <div id=\"df-8d0e6715-2377-4031-bd16-236b22498c94\">\n",
              "    <div class=\"colab-df-container\">\n",
              "      <div>\n",
              "<style scoped>\n",
              "    .dataframe tbody tr th:only-of-type {\n",
              "        vertical-align: middle;\n",
              "    }\n",
              "\n",
              "    .dataframe tbody tr th {\n",
              "        vertical-align: top;\n",
              "    }\n",
              "\n",
              "    .dataframe thead th {\n",
              "        text-align: right;\n",
              "    }\n",
              "</style>\n",
              "<table border=\"1\" class=\"dataframe\">\n",
              "  <thead>\n",
              "    <tr style=\"text-align: right;\">\n",
              "      <th></th>\n",
              "      <th>jp_sales</th>\n",
              "    </tr>\n",
              "    <tr>\n",
              "      <th>platform</th>\n",
              "      <th></th>\n",
              "    </tr>\n",
              "  </thead>\n",
              "  <tbody>\n",
              "    <tr>\n",
              "      <th>3DS</th>\n",
              "      <td>67.81</td>\n",
              "    </tr>\n",
              "    <tr>\n",
              "      <th>PSV</th>\n",
              "      <td>18.59</td>\n",
              "    </tr>\n",
              "    <tr>\n",
              "      <th>PS4</th>\n",
              "      <td>15.96</td>\n",
              "    </tr>\n",
              "    <tr>\n",
              "      <th>WiiU</th>\n",
              "      <td>10.88</td>\n",
              "    </tr>\n",
              "    <tr>\n",
              "      <th>XOne</th>\n",
              "      <td>0.34</td>\n",
              "    </tr>\n",
              "  </tbody>\n",
              "</table>\n",
              "</div>\n",
              "      <button class=\"colab-df-convert\" onclick=\"convertToInteractive('df-8d0e6715-2377-4031-bd16-236b22498c94')\"\n",
              "              title=\"Convert this dataframe to an interactive table.\"\n",
              "              style=\"display:none;\">\n",
              "        \n",
              "  <svg xmlns=\"http://www.w3.org/2000/svg\" height=\"24px\"viewBox=\"0 0 24 24\"\n",
              "       width=\"24px\">\n",
              "    <path d=\"M0 0h24v24H0V0z\" fill=\"none\"/>\n",
              "    <path d=\"M18.56 5.44l.94 2.06.94-2.06 2.06-.94-2.06-.94-.94-2.06-.94 2.06-2.06.94zm-11 1L8.5 8.5l.94-2.06 2.06-.94-2.06-.94L8.5 2.5l-.94 2.06-2.06.94zm10 10l.94 2.06.94-2.06 2.06-.94-2.06-.94-.94-2.06-.94 2.06-2.06.94z\"/><path d=\"M17.41 7.96l-1.37-1.37c-.4-.4-.92-.59-1.43-.59-.52 0-1.04.2-1.43.59L10.3 9.45l-7.72 7.72c-.78.78-.78 2.05 0 2.83L4 21.41c.39.39.9.59 1.41.59.51 0 1.02-.2 1.41-.59l7.78-7.78 2.81-2.81c.8-.78.8-2.07 0-2.86zM5.41 20L4 18.59l7.72-7.72 1.47 1.35L5.41 20z\"/>\n",
              "  </svg>\n",
              "      </button>\n",
              "      \n",
              "  <style>\n",
              "    .colab-df-container {\n",
              "      display:flex;\n",
              "      flex-wrap:wrap;\n",
              "      gap: 12px;\n",
              "    }\n",
              "\n",
              "    .colab-df-convert {\n",
              "      background-color: #E8F0FE;\n",
              "      border: none;\n",
              "      border-radius: 50%;\n",
              "      cursor: pointer;\n",
              "      display: none;\n",
              "      fill: #1967D2;\n",
              "      height: 32px;\n",
              "      padding: 0 0 0 0;\n",
              "      width: 32px;\n",
              "    }\n",
              "\n",
              "    .colab-df-convert:hover {\n",
              "      background-color: #E2EBFA;\n",
              "      box-shadow: 0px 1px 2px rgba(60, 64, 67, 0.3), 0px 1px 3px 1px rgba(60, 64, 67, 0.15);\n",
              "      fill: #174EA6;\n",
              "    }\n",
              "\n",
              "    [theme=dark] .colab-df-convert {\n",
              "      background-color: #3B4455;\n",
              "      fill: #D2E3FC;\n",
              "    }\n",
              "\n",
              "    [theme=dark] .colab-df-convert:hover {\n",
              "      background-color: #434B5C;\n",
              "      box-shadow: 0px 1px 3px 1px rgba(0, 0, 0, 0.15);\n",
              "      filter: drop-shadow(0px 1px 2px rgba(0, 0, 0, 0.3));\n",
              "      fill: #FFFFFF;\n",
              "    }\n",
              "  </style>\n",
              "\n",
              "      <script>\n",
              "        const buttonEl =\n",
              "          document.querySelector('#df-8d0e6715-2377-4031-bd16-236b22498c94 button.colab-df-convert');\n",
              "        buttonEl.style.display =\n",
              "          google.colab.kernel.accessAllowed ? 'block' : 'none';\n",
              "\n",
              "        async function convertToInteractive(key) {\n",
              "          const element = document.querySelector('#df-8d0e6715-2377-4031-bd16-236b22498c94');\n",
              "          const dataTable =\n",
              "            await google.colab.kernel.invokeFunction('convertToInteractive',\n",
              "                                                     [key], {});\n",
              "          if (!dataTable) return;\n",
              "\n",
              "          const docLinkHtml = 'Like what you see? Visit the ' +\n",
              "            '<a target=\"_blank\" href=https://colab.research.google.com/notebooks/data_table.ipynb>data table notebook</a>'\n",
              "            + ' to learn more about interactive tables.';\n",
              "          element.innerHTML = '';\n",
              "          dataTable['output_type'] = 'display_data';\n",
              "          await google.colab.output.renderOutput(dataTable, element);\n",
              "          const docLink = document.createElement('div');\n",
              "          docLink.innerHTML = docLinkHtml;\n",
              "          element.appendChild(docLink);\n",
              "        }\n",
              "      </script>\n",
              "    </div>\n",
              "  </div>\n",
              "  "
            ]
          },
          "metadata": {},
          "execution_count": 30
        }
      ],
      "source": [
        "(\n",
        "    df_actual_period\n",
        "    .pivot_table(index='platform', values='jp_sales', aggfunc='sum')\n",
        "    .sort_values(by='jp_sales', ascending=False)\n",
        "    .head()\n",
        ")"
      ]
    },
    {
      "cell_type": "code",
      "execution_count": null,
      "metadata": {
        "id": "jq3ssqd_o7jl",
        "colab": {
          "base_uri": "https://localhost:8080/"
        },
        "outputId": "73e5f1af-acc1-498d-c53c-f9795e6388a2"
      },
      "outputs": [
        {
          "output_type": "stream",
          "name": "stdout",
          "text": [
            "\n",
            "Доля продаж игр для платформы 3DS в Японии - 100.00%\n",
            "\n",
            "Доля продаж игр для платформы PC в Японии - 0.00%\n",
            "\n",
            "Доля продаж игр для платформы PS4 в Японии - 1.98%\n",
            "\n",
            "Доля продаж игр для платформы PSV в Японии - 100.00%\n",
            "\n",
            "Доля продаж игр для платформы WiiU в Японии - 0.00%\n",
            "\n",
            "Доля продаж игр для платформы XOne в Японии - 0.00%\n"
          ]
        }
      ],
      "source": [
        "for platform, group in df_actual_period.groupby('platform'):\n",
        "    share_sales = (group['jp_sales'] / group['total_sales']).median()\n",
        "    print()\n",
        "    print(f'Доля продаж игр для платформы {platform} в Японии - {share_sales:.2%}')"
      ]
    },
    {
      "cell_type": "markdown",
      "metadata": {
        "id": "kiXuhWgSo7jl"
      },
      "source": [
        "**Промежуточный вывод:** В Японии, в отличии от предыдущих регионов распределение по платформам строго обратное. На долю платформы 3DS приходится почти 40% проданных игр, а платформа PSV и вовсе 100%. Можно предположить, что эти консоли продавались, преимущественно на территории Японии."
      ]
    },
    {
      "cell_type": "markdown",
      "metadata": {
        "id": "yLAd9C1Ro7jl"
      },
      "source": [
        "<a id='section_4_3_2'></a>\n",
        "##### Самые популярные жанры"
      ]
    },
    {
      "cell_type": "code",
      "execution_count": null,
      "metadata": {
        "id": "7zT1Nan5o7jl",
        "colab": {
          "base_uri": "https://localhost:8080/",
          "height": 457
        },
        "outputId": "7ddb0300-221f-4abf-94fa-f4f509402ff2"
      },
      "outputs": [
        {
          "output_type": "execute_result",
          "data": {
            "text/plain": [
              "              jp_sales\n",
              "genre                 \n",
              "Role-Playing     44.84\n",
              "Action           29.87\n",
              "Misc              8.27\n",
              "Fighting          5.33\n",
              "Platform          4.75\n",
              "Shooter           4.56\n",
              "Adventure         4.37\n",
              "Simulation        4.29\n",
              "Sports            3.05\n",
              "Racing            1.68\n",
              "Strategy          1.43\n",
              "Puzzle            1.14"
            ],
            "text/html": [
              "\n",
              "  <div id=\"df-919d85ad-18dc-42d5-a586-2149a62034a4\">\n",
              "    <div class=\"colab-df-container\">\n",
              "      <div>\n",
              "<style scoped>\n",
              "    .dataframe tbody tr th:only-of-type {\n",
              "        vertical-align: middle;\n",
              "    }\n",
              "\n",
              "    .dataframe tbody tr th {\n",
              "        vertical-align: top;\n",
              "    }\n",
              "\n",
              "    .dataframe thead th {\n",
              "        text-align: right;\n",
              "    }\n",
              "</style>\n",
              "<table border=\"1\" class=\"dataframe\">\n",
              "  <thead>\n",
              "    <tr style=\"text-align: right;\">\n",
              "      <th></th>\n",
              "      <th>jp_sales</th>\n",
              "    </tr>\n",
              "    <tr>\n",
              "      <th>genre</th>\n",
              "      <th></th>\n",
              "    </tr>\n",
              "  </thead>\n",
              "  <tbody>\n",
              "    <tr>\n",
              "      <th>Role-Playing</th>\n",
              "      <td>44.84</td>\n",
              "    </tr>\n",
              "    <tr>\n",
              "      <th>Action</th>\n",
              "      <td>29.87</td>\n",
              "    </tr>\n",
              "    <tr>\n",
              "      <th>Misc</th>\n",
              "      <td>8.27</td>\n",
              "    </tr>\n",
              "    <tr>\n",
              "      <th>Fighting</th>\n",
              "      <td>5.33</td>\n",
              "    </tr>\n",
              "    <tr>\n",
              "      <th>Platform</th>\n",
              "      <td>4.75</td>\n",
              "    </tr>\n",
              "    <tr>\n",
              "      <th>Shooter</th>\n",
              "      <td>4.56</td>\n",
              "    </tr>\n",
              "    <tr>\n",
              "      <th>Adventure</th>\n",
              "      <td>4.37</td>\n",
              "    </tr>\n",
              "    <tr>\n",
              "      <th>Simulation</th>\n",
              "      <td>4.29</td>\n",
              "    </tr>\n",
              "    <tr>\n",
              "      <th>Sports</th>\n",
              "      <td>3.05</td>\n",
              "    </tr>\n",
              "    <tr>\n",
              "      <th>Racing</th>\n",
              "      <td>1.68</td>\n",
              "    </tr>\n",
              "    <tr>\n",
              "      <th>Strategy</th>\n",
              "      <td>1.43</td>\n",
              "    </tr>\n",
              "    <tr>\n",
              "      <th>Puzzle</th>\n",
              "      <td>1.14</td>\n",
              "    </tr>\n",
              "  </tbody>\n",
              "</table>\n",
              "</div>\n",
              "      <button class=\"colab-df-convert\" onclick=\"convertToInteractive('df-919d85ad-18dc-42d5-a586-2149a62034a4')\"\n",
              "              title=\"Convert this dataframe to an interactive table.\"\n",
              "              style=\"display:none;\">\n",
              "        \n",
              "  <svg xmlns=\"http://www.w3.org/2000/svg\" height=\"24px\"viewBox=\"0 0 24 24\"\n",
              "       width=\"24px\">\n",
              "    <path d=\"M0 0h24v24H0V0z\" fill=\"none\"/>\n",
              "    <path d=\"M18.56 5.44l.94 2.06.94-2.06 2.06-.94-2.06-.94-.94-2.06-.94 2.06-2.06.94zm-11 1L8.5 8.5l.94-2.06 2.06-.94-2.06-.94L8.5 2.5l-.94 2.06-2.06.94zm10 10l.94 2.06.94-2.06 2.06-.94-2.06-.94-.94-2.06-.94 2.06-2.06.94z\"/><path d=\"M17.41 7.96l-1.37-1.37c-.4-.4-.92-.59-1.43-.59-.52 0-1.04.2-1.43.59L10.3 9.45l-7.72 7.72c-.78.78-.78 2.05 0 2.83L4 21.41c.39.39.9.59 1.41.59.51 0 1.02-.2 1.41-.59l7.78-7.78 2.81-2.81c.8-.78.8-2.07 0-2.86zM5.41 20L4 18.59l7.72-7.72 1.47 1.35L5.41 20z\"/>\n",
              "  </svg>\n",
              "      </button>\n",
              "      \n",
              "  <style>\n",
              "    .colab-df-container {\n",
              "      display:flex;\n",
              "      flex-wrap:wrap;\n",
              "      gap: 12px;\n",
              "    }\n",
              "\n",
              "    .colab-df-convert {\n",
              "      background-color: #E8F0FE;\n",
              "      border: none;\n",
              "      border-radius: 50%;\n",
              "      cursor: pointer;\n",
              "      display: none;\n",
              "      fill: #1967D2;\n",
              "      height: 32px;\n",
              "      padding: 0 0 0 0;\n",
              "      width: 32px;\n",
              "    }\n",
              "\n",
              "    .colab-df-convert:hover {\n",
              "      background-color: #E2EBFA;\n",
              "      box-shadow: 0px 1px 2px rgba(60, 64, 67, 0.3), 0px 1px 3px 1px rgba(60, 64, 67, 0.15);\n",
              "      fill: #174EA6;\n",
              "    }\n",
              "\n",
              "    [theme=dark] .colab-df-convert {\n",
              "      background-color: #3B4455;\n",
              "      fill: #D2E3FC;\n",
              "    }\n",
              "\n",
              "    [theme=dark] .colab-df-convert:hover {\n",
              "      background-color: #434B5C;\n",
              "      box-shadow: 0px 1px 3px 1px rgba(0, 0, 0, 0.15);\n",
              "      filter: drop-shadow(0px 1px 2px rgba(0, 0, 0, 0.3));\n",
              "      fill: #FFFFFF;\n",
              "    }\n",
              "  </style>\n",
              "\n",
              "      <script>\n",
              "        const buttonEl =\n",
              "          document.querySelector('#df-919d85ad-18dc-42d5-a586-2149a62034a4 button.colab-df-convert');\n",
              "        buttonEl.style.display =\n",
              "          google.colab.kernel.accessAllowed ? 'block' : 'none';\n",
              "\n",
              "        async function convertToInteractive(key) {\n",
              "          const element = document.querySelector('#df-919d85ad-18dc-42d5-a586-2149a62034a4');\n",
              "          const dataTable =\n",
              "            await google.colab.kernel.invokeFunction('convertToInteractive',\n",
              "                                                     [key], {});\n",
              "          if (!dataTable) return;\n",
              "\n",
              "          const docLinkHtml = 'Like what you see? Visit the ' +\n",
              "            '<a target=\"_blank\" href=https://colab.research.google.com/notebooks/data_table.ipynb>data table notebook</a>'\n",
              "            + ' to learn more about interactive tables.';\n",
              "          element.innerHTML = '';\n",
              "          dataTable['output_type'] = 'display_data';\n",
              "          await google.colab.output.renderOutput(dataTable, element);\n",
              "          const docLink = document.createElement('div');\n",
              "          docLink.innerHTML = docLinkHtml;\n",
              "          element.appendChild(docLink);\n",
              "        }\n",
              "      </script>\n",
              "    </div>\n",
              "  </div>\n",
              "  "
            ]
          },
          "metadata": {},
          "execution_count": 32
        }
      ],
      "source": [
        "(\n",
        "    df_actual_period\n",
        "    .pivot_table(index='genre', values='jp_sales', aggfunc='sum')\n",
        "    .sort_values(by='jp_sales', ascending=False)\n",
        ")"
      ]
    },
    {
      "cell_type": "markdown",
      "metadata": {
        "id": "_pLfud_Ho7jl"
      },
      "source": [
        "**Промежуточный итог:** В Японии ситуация с жанрами немного отличается от Северной Америки и Европы. Здесь на первых строчках находятся Role-Playing и Action. Чуть позади Simulator и Platform. Однако, на последних местах - игры жанров Puzzle и Strategy. Можно предположить, что в Японии популярны более сдержанные жанры игр"
      ]
    },
    {
      "cell_type": "markdown",
      "metadata": {
        "id": "cZySmzVIo7jl"
      },
      "source": [
        "<a id='section_4_3_3'></a>\n",
        "##### Влияние рейтинга ESRB на продажи"
      ]
    },
    {
      "cell_type": "code",
      "execution_count": null,
      "metadata": {
        "id": "tIxtl6Pto7jl",
        "colab": {
          "base_uri": "https://localhost:8080/",
          "height": 760
        },
        "outputId": "a7e8ba8b-543d-46a5-9cad-b6ddf875218e"
      },
      "outputs": [
        {
          "output_type": "display_data",
          "data": {
            "text/plain": [
              "<Figure size 1500x800 with 1 Axes>"
            ],
            "image/png": "[encoded data removed]"
          },
          "metadata": {}
        }
      ],
      "source": [
        "(\n",
        "    df_actual_period\n",
        "    .pivot_table(index='rating', values='jp_sales', aggfunc='sum')\n",
        "    .plot(kind='bar', figsize=(15,8))\n",
        ")\n",
        "plt.title('Диаграмма зависимости продаж от рейтинга ESRB')\n",
        "plt.ylabel('Продажи в Японии, млн.шт')\n",
        "plt.xlabel('Рейтинг ESRB')\n",
        "plt.show();"
      ]
    },
    {
      "cell_type": "markdown",
      "metadata": {
        "id": "X8XPoGN0o7jl"
      },
      "source": [
        "<a id='section_4_4'></a>\n",
        "#### Остальные страны"
      ]
    },
    {
      "cell_type": "markdown",
      "metadata": {
        "id": "yxAhEV50o7jl"
      },
      "source": [
        "<a id='section_4_4_1'></a>\n",
        "##### Самые популярные платформы"
      ]
    },
    {
      "cell_type": "code",
      "execution_count": null,
      "metadata": {
        "id": "woSyHBufo7jl",
        "colab": {
          "base_uri": "https://localhost:8080/",
          "height": 238
        },
        "outputId": "a69b7663-e5b2-42fb-c3b4-5f1e0ae16e01"
      },
      "outputs": [
        {
          "output_type": "execute_result",
          "data": {
            "text/plain": [
              "          other_sales\n",
              "platform             \n",
              "PS4             48.35\n",
              "XOne            14.27\n",
              "3DS              6.28\n",
              "WiiU             4.69\n",
              "PSV              3.26"
            ],
            "text/html": [
              "\n",
              "  <div id=\"df-d57940ce-45d9-4018-8961-e033910f06a7\">\n",
              "    <div class=\"colab-df-container\">\n",
              "      <div>\n",
              "<style scoped>\n",
              "    .dataframe tbody tr th:only-of-type {\n",
              "        vertical-align: middle;\n",
              "    }\n",
              "\n",
              "    .dataframe tbody tr th {\n",
              "        vertical-align: top;\n",
              "    }\n",
              "\n",
              "    .dataframe thead th {\n",
              "        text-align: right;\n",
              "    }\n",
              "</style>\n",
              "<table border=\"1\" class=\"dataframe\">\n",
              "  <thead>\n",
              "    <tr style=\"text-align: right;\">\n",
              "      <th></th>\n",
              "      <th>other_sales</th>\n",
              "    </tr>\n",
              "    <tr>\n",
              "      <th>platform</th>\n",
              "      <th></th>\n",
              "    </tr>\n",
              "  </thead>\n",
              "  <tbody>\n",
              "    <tr>\n",
              "      <th>PS4</th>\n",
              "      <td>48.35</td>\n",
              "    </tr>\n",
              "    <tr>\n",
              "      <th>XOne</th>\n",
              "      <td>14.27</td>\n",
              "    </tr>\n",
              "    <tr>\n",
              "      <th>3DS</th>\n",
              "      <td>6.28</td>\n",
              "    </tr>\n",
              "    <tr>\n",
              "      <th>WiiU</th>\n",
              "      <td>4.69</td>\n",
              "    </tr>\n",
              "    <tr>\n",
              "      <th>PSV</th>\n",
              "      <td>3.26</td>\n",
              "    </tr>\n",
              "  </tbody>\n",
              "</table>\n",
              "</div>\n",
              "      <button class=\"colab-df-convert\" onclick=\"convertToInteractive('df-d57940ce-45d9-4018-8961-e033910f06a7')\"\n",
              "              title=\"Convert this dataframe to an interactive table.\"\n",
              "              style=\"display:none;\">\n",
              "        \n",
              "  <svg xmlns=\"http://www.w3.org/2000/svg\" height=\"24px\"viewBox=\"0 0 24 24\"\n",
              "       width=\"24px\">\n",
              "    <path d=\"M0 0h24v24H0V0z\" fill=\"none\"/>\n",
              "    <path d=\"M18.56 5.44l.94 2.06.94-2.06 2.06-.94-2.06-.94-.94-2.06-.94 2.06-2.06.94zm-11 1L8.5 8.5l.94-2.06 2.06-.94-2.06-.94L8.5 2.5l-.94 2.06-2.06.94zm10 10l.94 2.06.94-2.06 2.06-.94-2.06-.94-.94-2.06-.94 2.06-2.06.94z\"/><path d=\"M17.41 7.96l-1.37-1.37c-.4-.4-.92-.59-1.43-.59-.52 0-1.04.2-1.43.59L10.3 9.45l-7.72 7.72c-.78.78-.78 2.05 0 2.83L4 21.41c.39.39.9.59 1.41.59.51 0 1.02-.2 1.41-.59l7.78-7.78 2.81-2.81c.8-.78.8-2.07 0-2.86zM5.41 20L4 18.59l7.72-7.72 1.47 1.35L5.41 20z\"/>\n",
              "  </svg>\n",
              "      </button>\n",
              "      \n",
              "  <style>\n",
              "    .colab-df-container {\n",
              "      display:flex;\n",
              "      flex-wrap:wrap;\n",
              "      gap: 12px;\n",
              "    }\n",
              "\n",
              "    .colab-df-convert {\n",
              "      background-color: #E8F0FE;\n",
              "      border: none;\n",
              "      border-radius: 50%;\n",
              "      cursor: pointer;\n",
              "      display: none;\n",
              "      fill: #1967D2;\n",
              "      height: 32px;\n",
              "      padding: 0 0 0 0;\n",
              "      width: 32px;\n",
              "    }\n",
              "\n",
              "    .colab-df-convert:hover {\n",
              "      background-color: #E2EBFA;\n",
              "      box-shadow: 0px 1px 2px rgba(60, 64, 67, 0.3), 0px 1px 3px 1px rgba(60, 64, 67, 0.15);\n",
              "      fill: #174EA6;\n",
              "    }\n",
              "\n",
              "    [theme=dark] .colab-df-convert {\n",
              "      background-color: #3B4455;\n",
              "      fill: #D2E3FC;\n",
              "    }\n",
              "\n",
              "    [theme=dark] .colab-df-convert:hover {\n",
              "      background-color: #434B5C;\n",
              "      box-shadow: 0px 1px 3px 1px rgba(0, 0, 0, 0.15);\n",
              "      filter: drop-shadow(0px 1px 2px rgba(0, 0, 0, 0.3));\n",
              "      fill: #FFFFFF;\n",
              "    }\n",
              "  </style>\n",
              "\n",
              "      <script>\n",
              "        const buttonEl =\n",
              "          document.querySelector('#df-d57940ce-45d9-4018-8961-e033910f06a7 button.colab-df-convert');\n",
              "        buttonEl.style.display =\n",
              "          google.colab.kernel.accessAllowed ? 'block' : 'none';\n",
              "\n",
              "        async function convertToInteractive(key) {\n",
              "          const element = document.querySelector('#df-d57940ce-45d9-4018-8961-e033910f06a7');\n",
              "          const dataTable =\n",
              "            await google.colab.kernel.invokeFunction('convertToInteractive',\n",
              "                                                     [key], {});\n",
              "          if (!dataTable) return;\n",
              "\n",
              "          const docLinkHtml = 'Like what you see? Visit the ' +\n",
              "            '<a target=\"_blank\" href=https://colab.research.google.com/notebooks/data_table.ipynb>data table notebook</a>'\n",
              "            + ' to learn more about interactive tables.';\n",
              "          element.innerHTML = '';\n",
              "          dataTable['output_type'] = 'display_data';\n",
              "          await google.colab.output.renderOutput(dataTable, element);\n",
              "          const docLink = document.createElement('div');\n",
              "          docLink.innerHTML = docLinkHtml;\n",
              "          element.appendChild(docLink);\n",
              "        }\n",
              "      </script>\n",
              "    </div>\n",
              "  </div>\n",
              "  "
            ]
          },
          "metadata": {},
          "execution_count": 34
        }
      ],
      "source": [
        "(\n",
        "    df_actual_period\n",
        "    .pivot_table(index='platform', values='other_sales', aggfunc='sum')\n",
        "    .sort_values(by='other_sales', ascending=False)\n",
        "    .head()\n",
        ")"
      ]
    },
    {
      "cell_type": "code",
      "execution_count": null,
      "metadata": {
        "id": "0eLFvl_8o7jl",
        "colab": {
          "base_uri": "https://localhost:8080/"
        },
        "outputId": "49a87f07-b34f-47de-d371-1904f72ad033"
      },
      "outputs": [
        {
          "output_type": "stream",
          "name": "stdout",
          "text": [
            "\n",
            "Доля продаж игр для платформы 3DS в остальных странах - 0.00%\n",
            "\n",
            "Доля продаж игр для платформы PC в остальных странах - 0.00%\n",
            "\n",
            "Доля продаж игр для платформы PS4 в остальных странах - 14.93%\n",
            "\n",
            "Доля продаж игр для платформы PSV в остальных странах - 0.00%\n",
            "\n",
            "Доля продаж игр для платформы WiiU в остальных странах - 7.69%\n",
            "\n",
            "Доля продаж игр для платформы XOne в остальных странах - 8.74%\n"
          ]
        }
      ],
      "source": [
        "for platform, group in df_actual_period.groupby('platform'):\n",
        "    share_sales = (group['other_sales'] / group['total_sales']).median()\n",
        "    print()\n",
        "    print(f'Доля продаж игр для платформы {platform} в остальных странах - {share_sales:.2%}')"
      ]
    },
    {
      "cell_type": "markdown",
      "metadata": {
        "id": "wQXwVhJ7o7jl"
      },
      "source": [
        "**Промежуточный вывод:** В остальных странах преимущество у игр для приставок PS4. За ними игры для платформы XOne. Чуть отстают от них игры на платформах PC и WiiU"
      ]
    },
    {
      "cell_type": "markdown",
      "metadata": {
        "id": "1eGLwO4Qo7jl"
      },
      "source": [
        "<a id='section_4_4_2'></a>\n",
        "##### Самые популярные жанры"
      ]
    },
    {
      "cell_type": "code",
      "execution_count": null,
      "metadata": {
        "id": "DrwshS8Po7jl",
        "colab": {
          "base_uri": "https://localhost:8080/",
          "height": 457
        },
        "outputId": "37a478c4-3270-4de1-e89f-b2b8c7037a2c"
      },
      "outputs": [
        {
          "output_type": "execute_result",
          "data": {
            "text/plain": [
              "              other_sales\n",
              "genre                    \n",
              "Action              21.92\n",
              "Shooter             20.89\n",
              "Sports              11.90\n",
              "Role-Playing         9.18\n",
              "Racing               3.21\n",
              "Platform             3.13\n",
              "Misc                 3.09\n",
              "Fighting             2.68\n",
              "Adventure            1.66\n",
              "Simulation           1.27\n",
              "Strategy             0.72\n",
              "Puzzle               0.16"
            ],
            "text/html": [
              "\n",
              "  <div id=\"df-0158a953-7ed3-4f4c-ba7c-81c6fb7f2812\">\n",
              "    <div class=\"colab-df-container\">\n",
              "      <div>\n",
              "<style scoped>\n",
              "    .dataframe tbody tr th:only-of-type {\n",
              "        vertical-align: middle;\n",
              "    }\n",
              "\n",
              "    .dataframe tbody tr th {\n",
              "        vertical-align: top;\n",
              "    }\n",
              "\n",
              "    .dataframe thead th {\n",
              "        text-align: right;\n",
              "    }\n",
              "</style>\n",
              "<table border=\"1\" class=\"dataframe\">\n",
              "  <thead>\n",
              "    <tr style=\"text-align: right;\">\n",
              "      <th></th>\n",
              "      <th>other_sales</th>\n",
              "    </tr>\n",
              "    <tr>\n",
              "      <th>genre</th>\n",
              "      <th></th>\n",
              "    </tr>\n",
              "  </thead>\n",
              "  <tbody>\n",
              "    <tr>\n",
              "      <th>Action</th>\n",
              "      <td>21.92</td>\n",
              "    </tr>\n",
              "    <tr>\n",
              "      <th>Shooter</th>\n",
              "      <td>20.89</td>\n",
              "    </tr>\n",
              "    <tr>\n",
              "      <th>Sports</th>\n",
              "      <td>11.90</td>\n",
              "    </tr>\n",
              "    <tr>\n",
              "      <th>Role-Playing</th>\n",
              "      <td>9.18</td>\n",
              "    </tr>\n",
              "    <tr>\n",
              "      <th>Racing</th>\n",
              "      <td>3.21</td>\n",
              "    </tr>\n",
              "    <tr>\n",
              "      <th>Platform</th>\n",
              "      <td>3.13</td>\n",
              "    </tr>\n",
              "    <tr>\n",
              "      <th>Misc</th>\n",
              "      <td>3.09</td>\n",
              "    </tr>\n",
              "    <tr>\n",
              "      <th>Fighting</th>\n",
              "      <td>2.68</td>\n",
              "    </tr>\n",
              "    <tr>\n",
              "      <th>Adventure</th>\n",
              "      <td>1.66</td>\n",
              "    </tr>\n",
              "    <tr>\n",
              "      <th>Simulation</th>\n",
              "      <td>1.27</td>\n",
              "    </tr>\n",
              "    <tr>\n",
              "      <th>Strategy</th>\n",
              "      <td>0.72</td>\n",
              "    </tr>\n",
              "    <tr>\n",
              "      <th>Puzzle</th>\n",
              "      <td>0.16</td>\n",
              "    </tr>\n",
              "  </tbody>\n",
              "</table>\n",
              "</div>\n",
              "      <button class=\"colab-df-convert\" onclick=\"convertToInteractive('df-0158a953-7ed3-4f4c-ba7c-81c6fb7f2812')\"\n",
              "              title=\"Convert this dataframe to an interactive table.\"\n",
              "              style=\"display:none;\">\n",
              "        \n",
              "  <svg xmlns=\"http://www.w3.org/2000/svg\" height=\"24px\"viewBox=\"0 0 24 24\"\n",
              "       width=\"24px\">\n",
              "    <path d=\"M0 0h24v24H0V0z\" fill=\"none\"/>\n",
              "    <path d=\"M18.56 5.44l.94 2.06.94-2.06 2.06-.94-2.06-.94-.94-2.06-.94 2.06-2.06.94zm-11 1L8.5 8.5l.94-2.06 2.06-.94-2.06-.94L8.5 2.5l-.94 2.06-2.06.94zm10 10l.94 2.06.94-2.06 2.06-.94-2.06-.94-.94-2.06-.94 2.06-2.06.94z\"/><path d=\"M17.41 7.96l-1.37-1.37c-.4-.4-.92-.59-1.43-.59-.52 0-1.04.2-1.43.59L10.3 9.45l-7.72 7.72c-.78.78-.78 2.05 0 2.83L4 21.41c.39.39.9.59 1.41.59.51 0 1.02-.2 1.41-.59l7.78-7.78 2.81-2.81c.8-.78.8-2.07 0-2.86zM5.41 20L4 18.59l7.72-7.72 1.47 1.35L5.41 20z\"/>\n",
              "  </svg>\n",
              "      </button>\n",
              "      \n",
              "  <style>\n",
              "    .colab-df-container {\n",
              "      display:flex;\n",
              "      flex-wrap:wrap;\n",
              "      gap: 12px;\n",
              "    }\n",
              "\n",
              "    .colab-df-convert {\n",
              "      background-color: #E8F0FE;\n",
              "      border: none;\n",
              "      border-radius: 50%;\n",
              "      cursor: pointer;\n",
              "      display: none;\n",
              "      fill: #1967D2;\n",
              "      height: 32px;\n",
              "      padding: 0 0 0 0;\n",
              "      width: 32px;\n",
              "    }\n",
              "\n",
              "    .colab-df-convert:hover {\n",
              "      background-color: #E2EBFA;\n",
              "      box-shadow: 0px 1px 2px rgba(60, 64, 67, 0.3), 0px 1px 3px 1px rgba(60, 64, 67, 0.15);\n",
              "      fill: #174EA6;\n",
              "    }\n",
              "\n",
              "    [theme=dark] .colab-df-convert {\n",
              "      background-color: #3B4455;\n",
              "      fill: #D2E3FC;\n",
              "    }\n",
              "\n",
              "    [theme=dark] .colab-df-convert:hover {\n",
              "      background-color: #434B5C;\n",
              "      box-shadow: 0px 1px 3px 1px rgba(0, 0, 0, 0.15);\n",
              "      filter: drop-shadow(0px 1px 2px rgba(0, 0, 0, 0.3));\n",
              "      fill: #FFFFFF;\n",
              "    }\n",
              "  </style>\n",
              "\n",
              "      <script>\n",
              "        const buttonEl =\n",
              "          document.querySelector('#df-0158a953-7ed3-4f4c-ba7c-81c6fb7f2812 button.colab-df-convert');\n",
              "        buttonEl.style.display =\n",
              "          google.colab.kernel.accessAllowed ? 'block' : 'none';\n",
              "\n",
              "        async function convertToInteractive(key) {\n",
              "          const element = document.querySelector('#df-0158a953-7ed3-4f4c-ba7c-81c6fb7f2812');\n",
              "          const dataTable =\n",
              "            await google.colab.kernel.invokeFunction('convertToInteractive',\n",
              "                                                     [key], {});\n",
              "          if (!dataTable) return;\n",
              "\n",
              "          const docLinkHtml = 'Like what you see? Visit the ' +\n",
              "            '<a target=\"_blank\" href=https://colab.research.google.com/notebooks/data_table.ipynb>data table notebook</a>'\n",
              "            + ' to learn more about interactive tables.';\n",
              "          element.innerHTML = '';\n",
              "          dataTable['output_type'] = 'display_data';\n",
              "          await google.colab.output.renderOutput(dataTable, element);\n",
              "          const docLink = document.createElement('div');\n",
              "          docLink.innerHTML = docLinkHtml;\n",
              "          element.appendChild(docLink);\n",
              "        }\n",
              "      </script>\n",
              "    </div>\n",
              "  </div>\n",
              "  "
            ]
          },
          "metadata": {},
          "execution_count": 36
        }
      ],
      "source": [
        "(\n",
        "    df_actual_period\n",
        "    .pivot_table(index='genre', values='other_sales', aggfunc='sum')\n",
        "    .sort_values(by='other_sales', ascending=False)\n",
        ")"
      ]
    },
    {
      "cell_type": "markdown",
      "metadata": {
        "id": "HiFxTCvlo7j1"
      },
      "source": [
        "**Промежуточный итог:** В остальных странах покупатели отдают предпочтение играм жанров Action и Shooter. Наименьшее предпочтение покупатели отдают жанрам Puzzle, Strategy и Adventure. В целом, картина схожа с продажами в регионах Северной Америки и Европе."
      ]
    },
    {
      "cell_type": "markdown",
      "metadata": {
        "id": "cimszj3io7j1"
      },
      "source": [
        "<a id='section_4_4_3'></a>\n",
        "##### Влияние рейтинга ESRB на продажи"
      ]
    },
    {
      "cell_type": "code",
      "execution_count": null,
      "metadata": {
        "id": "A2ey-cvoo7j1",
        "colab": {
          "base_uri": "https://localhost:8080/",
          "height": 760
        },
        "outputId": "10122331-fed7-4c85-80dd-4c5a5c099a45"
      },
      "outputs": [
        {
          "output_type": "display_data",
          "data": {
            "text/plain": [
              "<Figure size 1500x800 with 1 Axes>"
            ],
            "image/png": "[encoded data removed]"
          },
          "metadata": {}
        }
      ],
      "source": [
        "(\n",
        "    df_actual_period\n",
        "    .pivot_table(index='rating', values='other_sales', aggfunc='sum')\n",
        "    .plot(kind='bar', figsize=(15,8))\n",
        ")\n",
        "plt.title('Диаграмма зависимости продаж от рейтинга ESRB')\n",
        "plt.ylabel('Продажи в остальных странах, млн.шт')\n",
        "plt.xlabel('Рейтинг ESRB')\n",
        "plt.show();"
      ]
    },
    {
      "cell_type": "markdown",
      "metadata": {
        "id": "x3KxGlYzo7j1"
      },
      "source": [
        "**Промежуточный вывод:** Entertainment Software Rating Board (ESRB) — негосударственная организация, основное направление деятельности — принятие и определение рейтингов для компьютерных видеоигр и другого развлекательного программного обеспечения в США и Канаде. Таким образом, рейтинг маркирует только игры, разработанные в этих странах, то есть для разработчиков из других регионов этот рейтинг не заполняется.\n",
        "\n",
        "Исходя из этого, было принято решение установить заглушку в пропущенных данных, чтобы проследить взаимосвязь по продажам. Было выявлено, что в Северной Америке большую часть продаж занимают игры с рейтингом «M» («Mature») — «Для взрослых», за ним следом идут игры со значением «Unknow», затем, «E» («Everyone») — «Для всех» и «T» («Teen») — «Подростки». Аналогичное распределение наблюдается и в странах Европы.\n",
        "В Японии же картина несколько отличается. Наиболее продаваемыми здесь являются игры со значением «Unknow», затем, со значительным отрывом, игры с рейтингом рейтингом «E», «T», «M» и «E10+».\n",
        "\n",
        "Данные, помеченные значением «Unknow» в столбце рейтинга ESRB означают, что эти игры были выпущены за пределами Северной Америки и Канады."
      ]
    },
    {
      "cell_type": "markdown",
      "metadata": {
        "id": "-MWWgApjo7j1"
      },
      "source": [
        "<a id='section_5'></a>\n",
        "### Проверка гипотез"
      ]
    },
    {
      "cell_type": "markdown",
      "metadata": {
        "id": "OLZ1mCf7o7j1"
      },
      "source": [
        "<a id='section_5_1'></a>\n",
        "#### Средние пользовательские рейтинги платформ XOne и PC одинаковые"
      ]
    },
    {
      "cell_type": "markdown",
      "metadata": {
        "id": "sXHDOaYno7j1"
      },
      "source": [
        "**Нулевая гипотеза:** Средние пользовательские рейтинги одинаковые;\n",
        "\n",
        "**Альтернативная гипотеза:** Средние пользовательские рейтинги различны."
      ]
    },
    {
      "cell_type": "code",
      "execution_count": null,
      "metadata": {
        "id": "n-wjRim8o7j1",
        "colab": {
          "base_uri": "https://localhost:8080/"
        },
        "outputId": "b439f05b-d01c-461f-a627-c4150d58242f"
      },
      "outputs": [
        {
          "output_type": "stream",
          "name": "stdout",
          "text": [
            "p-значение: 0.147597032047728\n",
            "Не получилось отвергнуть нулевую гипотезу\n"
          ]
        }
      ],
      "source": [
        "# Выберем две совокупности пользовательских оценок платформ XOne и PC\n",
        "xone_median_user_rating = df_actual_period.query('platform == \"XOne\" and user_score.notna()')['user_score']\n",
        "pc_median_user_rating = df_actual_period.query('platform == \"PC\" and user_score.notna()')['user_score']\n",
        "\n",
        "# Выберем критические уровень статистической значимости на уровне 5%\n",
        "alpha = .05\n",
        "\n",
        "results = st.ttest_ind(\n",
        "    xone_median_user_rating,\n",
        "    pc_median_user_rating,\n",
        "    equal_var=False)\n",
        "\n",
        "print('p-значение:', results.pvalue)\n",
        "\n",
        "if results.pvalue < alpha:\n",
        "    print('Отвергаем нулевую гипотезу')\n",
        "else:\n",
        "    print('Не получилось отвергнуть нулевую гипотезу')"
      ]
    },
    {
      "cell_type": "markdown",
      "metadata": {
        "id": "hKfADZgxo7j1"
      },
      "source": [
        "**Результат проверки гипотезы:** По результатам проверки, гипотезу о равенстве средних пользовательских рейтингов платформ XOne и PC отвергнуть не получилось, так как вероятность случайно получить такое различие равно 61,3%"
      ]
    },
    {
      "cell_type": "markdown",
      "metadata": {
        "id": "hBwaxt4io7j1"
      },
      "source": [
        "<a id='section_5_2'></a>\n",
        "#### Средние пользовательские рейтинги жанров Action и Sports разные"
      ]
    },
    {
      "cell_type": "markdown",
      "metadata": {
        "id": "i8iLHD-Io7j1"
      },
      "source": [
        "**Нулевая гипотеза:** Средние пользовательские рейтинги одинаковы;\n",
        "\n",
        "**Альтернативная гипотеза:** Средние пользовательские рейтинги различны."
      ]
    },
    {
      "cell_type": "code",
      "execution_count": null,
      "metadata": {
        "id": "SVbXeqA7o7j1",
        "colab": {
          "base_uri": "https://localhost:8080/"
        },
        "outputId": "8028439c-1d33-466c-e3b6-51a26b09509a"
      },
      "outputs": [
        {
          "output_type": "stream",
          "name": "stdout",
          "text": [
            "p-значение: 1.2678140416803603e-11\n",
            "Отвергаем нулевую гипотезу\n"
          ]
        }
      ],
      "source": [
        "# Выберем две совокупности пользовательских оценок жанров Action и Sports\n",
        "action_median_user_rating = df_actual_period.query('genre == \"Action\" and user_score.notna()')['user_score']\n",
        "sports_median_user_rating = df_actual_period.query('genre == \"Sports\" and user_score.notna()')['user_score']\n",
        "\n",
        "# Выберем критические уровень статистической значимости на уровне 5%\n",
        "alpha = .05\n",
        "\n",
        "results = st.ttest_ind(\n",
        "    action_median_user_rating,\n",
        "    sports_median_user_rating,\n",
        "    equal_var=False)\n",
        "\n",
        "print('p-значение:', results.pvalue)\n",
        "\n",
        "if results.pvalue < alpha:\n",
        "    print('Отвергаем нулевую гипотезу')\n",
        "else:\n",
        "    print('Не получилось отвергнуть нулевую гипотезу')"
      ]
    },
    {
      "cell_type": "markdown",
      "metadata": {
        "id": "DWsa2-tXo7j1"
      },
      "source": [
        "**Результат проверки гипотезы:** По результатам проверки, гипотезу о равенстве средних пользовательских рейтингов жанров Action и Sports отвергаем."
      ]
    },
    {
      "cell_type": "markdown",
      "metadata": {
        "id": "OSO_vGP9o7j1"
      },
      "source": [
        "**Промежуточный вывод:** Уровень значимости численно определяет, где проходит граница вероятности попасть слишком далеко от центра распределения. Общепринятые пороговые значения 1% или 5%. Сравнивая результаты статистики разности в стандартных отклонениях (p-значение) с уровнем значимости (aplha), понимаем, что на результаты проверки гипотез они не влияют. Поэтому, было принято решение взять значение уровня значимости на уровне 5%, как общепринятое."
      ]
    },
    {
      "cell_type": "markdown",
      "metadata": {
        "id": "etdFVCZ7o7j1"
      },
      "source": [
        "<a id='section_6'></a>\n",
        "### Общий вывод"
      ]
    },
    {
      "cell_type": "markdown",
      "metadata": {
        "id": "6XpuG8hGo7j1"
      },
      "source": [
        "В данном исследовании мы изучили данные о продажах игр, полученные из открытых источников и выявили определяющие успешность игры закономерности. Это позволяет сделать ставку на потенциально популярный продукт и спланировать рекламные кампании.\n",
        "\n",
        "1. На первом этапе работы мы произвели чтение данных из предоставленного файла и оценили качество полученных данных.\n",
        "\n",
        "\n",
        "2. На втором этапе произвели предварительную обработку данных\n",
        "    - Привели наименования всех столбцов датафрейма к нижнему регистру для удобства работы с данными;\n",
        "    - Заменили типы данных столбца `year_of_release` для правильного отображения года выпуска, а также столбца `user_score`, для избежания ошибок в дальнейших вычислениях;\n",
        "    - Произвели обработку пропусков данных. Строки с пропусками в столбцах `name` и `genre` удалили, так как их было все 2 и на весь датафрейм влияния эти данные не оказывали. Пропущенные строки из `year_of_release` занимали всего 1,6% от общего количества данных датафрейма, поэтому их также было решено удалить. Остальные пропуски было решено оставить нулевыми, так как удалять такой объем строк было бы некорректно, а заменить их синтетическими данными не получилось, так как не прослеживалась явная взаимосвязь;\n",
        "    - Добавили в датафрейм дополнительный столбец `total_sales` и записали в него вычисленное количество проданных копий игр о всех регионах.\n",
        "    \n",
        "    \n",
        "3. Третьем этапом произвели исследовательский анализ данных\n",
        "    - Изучили количество игр выпущенных в разные годы и выявили, что наибольшее количество игр было выпущено в период с 2008 по 2010 годы;\n",
        "    - Изучили, как платформы сменяли друг друга со временем и выявили, что характерный срок существования платформ составляет от 8 до 11 лет. Исходя из этого, приняли актуальный период для построения прогноза - от 2008 до 2016 года;\n",
        "    - Выяснили, какие платформы лидируют по продажам на выбранном временном отрезке. Отсеяв уже неактуальные платформы, а также платформы, срок существования уже близок к критическому, создали список потенциально прибыльных платформ (PlayStation 4, Nintendo 3DS, Xbox One, Nintendo Wii U, PlayStation Vita и PC);\n",
        "    - Изучили, какие из актуальных платформ лидируют по продажам. Согласно построенной диаграмме размаха, наибольшие глобальные продажи приносят платформы PlayStation 4, Xbox One и Nintendo Wii U;\n",
        "    - Исследовали с применением коэффициента корреляции Пирсона взаимосвязи пользовательских оценок и оценок критиков с продажами для каждой из платформ. Согласно получившимся результатам, у таких платформ, как PlayStation 4, PlayStation Vita и Xbox One оценки пользователей имели слабое влияние на продажи, а оценки критиков имеют среднее влияние. Однако, если рассматривать портативные виды платформ, такие как Nintendo 3DS и Nintendo Wii U, то увидим, что оценки пользователей также начинают влиять на продажи;\n",
        "    - Построили общее распределение игр по жанрам и выявили выраженное преимущество таких жанров, как Action, Shooter и Role-Playing, а жанры Puzzle, и Strategy находятся в конце рейтинга;\n",
        "\n",
        "\n",
        "4. На четвертом этапе составим портрет пользователя каждого региона отдельно:\n",
        "    - В Северной Америке большие продажи имеют игры для платформ PlayStation 4 и Xbox One. Из жанров игр, американцы предпочитают Shooter и Action. Игры жанров Strategy, Puzzle и Adventure занимают последние места;\n",
        "    - В европейских странах предпочитают игры на платформах, как PlayStation 4 и Xbox One. Как и пользователи Северной Америки, в европейских странах распределение по жанрам схоже;\n",
        "    - В Японии самой популярной является платформа Nintendo 3DS. В процессе исследования выявился интересный факт - доля платформы PlayStation Vita в Японии составляет 100%. Можно предположить, что эта платформа продавалась, преимущественно на территории Японии. В случае с жанровыми предпочтениями, в Японии наиболее предпочтительными являются Role-Playing и Action, чуть позади - Simulator и Platform.\n",
        "    - В остальных странах с большим отрывом лидируют игры для платформы PlayStation 4. В случае с жанровыми предпочтениями, ситуация почти повторяет результаты в Северной Америке и Европе.\n",
        "    \n",
        "    \n",
        "5. На заключительном этапе мы проверили две гипотезы. В процессе проверки гипотезы, приняли критический уровень статистической значимости и применили критерий ttest_int, так как выборки не зависят друг от друга\n",
        "    - Средние пользовательские рейтинги платформ Xbox One и PC отвергнуть не получилось;\n",
        "    - Равенство средних пользовательских рейтингов жанров Action и Sports отвергаем.\n",
        "    \n",
        "\n",
        "**Заключение:**\n",
        "На основании данных проведенного исследования, можно предположить, что в 2017 году самыми продаваемыми играми станут игры на платформе PlayStation 4, так как, по итогу нашего исследования, эта платформа популярна во всех регионах. Самым популярным жанром является Action с рейтингом ESRB \"M\""
      ]
    }
  ],
  "metadata": {
    "ExecuteTimeLog": [
      {
        "duration": 1019,
        "start_time": "2023-01-16T09:09:02.014Z"
      },
      {
        "duration": 22,
        "start_time": "2023-01-16T09:09:11.271Z"
      },
      {
        "duration": 15,
        "start_time": "2023-01-16T09:11:49.674Z"
      },
      {
        "duration": 16,
        "start_time": "2023-01-16T09:12:33.377Z"
      },
      {
        "duration": 14,
        "start_time": "2023-01-16T09:13:37.324Z"
      },
      {
        "duration": 780,
        "start_time": "2023-01-16T09:16:16.973Z"
      },
      {
        "duration": 3,
        "start_time": "2023-01-16T09:17:16.709Z"
      },
      {
        "duration": 101,
        "start_time": "2023-01-16T10:52:05.395Z"
      },
      {
        "duration": 99,
        "start_time": "2023-01-16T12:42:06.694Z"
      },
      {
        "duration": 14,
        "start_time": "2023-01-16T12:44:58.049Z"
      },
      {
        "duration": 6,
        "start_time": "2023-01-16T12:51:52.497Z"
      },
      {
        "duration": 18,
        "start_time": "2023-01-16T12:52:39.946Z"
      },
      {
        "duration": 19,
        "start_time": "2023-01-16T12:52:57.194Z"
      },
      {
        "duration": 8,
        "start_time": "2023-01-16T12:55:01.503Z"
      },
      {
        "duration": 8,
        "start_time": "2023-01-16T12:55:05.736Z"
      },
      {
        "duration": 31,
        "start_time": "2023-01-16T12:55:56.289Z"
      },
      {
        "duration": 13,
        "start_time": "2023-01-16T12:56:15.616Z"
      },
      {
        "duration": 3,
        "start_time": "2023-01-16T13:00:39.179Z"
      },
      {
        "duration": 6,
        "start_time": "2023-01-16T13:00:49.525Z"
      },
      {
        "duration": 33,
        "start_time": "2023-01-16T13:02:08.677Z"
      },
      {
        "duration": 12,
        "start_time": "2023-01-16T13:03:05.705Z"
      },
      {
        "duration": 740,
        "start_time": "2023-01-16T13:08:06.729Z"
      },
      {
        "duration": 19,
        "start_time": "2023-01-16T13:08:07.472Z"
      },
      {
        "duration": 25,
        "start_time": "2023-01-16T13:08:07.492Z"
      },
      {
        "duration": 58,
        "start_time": "2023-01-16T13:08:07.520Z"
      },
      {
        "duration": 18,
        "start_time": "2023-01-16T13:08:07.580Z"
      },
      {
        "duration": 21,
        "start_time": "2023-01-16T13:08:07.599Z"
      },
      {
        "duration": 50,
        "start_time": "2023-01-16T13:08:07.621Z"
      },
      {
        "duration": 67,
        "start_time": "2023-01-16T13:08:07.673Z"
      },
      {
        "duration": 26,
        "start_time": "2023-01-16T13:09:31.354Z"
      },
      {
        "duration": 26,
        "start_time": "2023-01-16T13:11:07.029Z"
      },
      {
        "duration": 14,
        "start_time": "2023-01-16T13:11:29.346Z"
      },
      {
        "duration": 25,
        "start_time": "2023-01-16T13:11:38.298Z"
      },
      {
        "duration": 14,
        "start_time": "2023-01-16T13:12:53.934Z"
      },
      {
        "duration": 10,
        "start_time": "2023-01-16T13:13:12.483Z"
      },
      {
        "duration": 15,
        "start_time": "2023-01-16T13:13:29.626Z"
      },
      {
        "duration": 11,
        "start_time": "2023-01-16T13:24:16.242Z"
      },
      {
        "duration": 11,
        "start_time": "2023-01-16T13:24:29.933Z"
      },
      {
        "duration": 28,
        "start_time": "2023-01-16T13:24:35.901Z"
      },
      {
        "duration": 29,
        "start_time": "2023-01-16T13:26:18.253Z"
      },
      {
        "duration": 43,
        "start_time": "2023-01-16T13:27:25.414Z"
      },
      {
        "duration": 7,
        "start_time": "2023-01-16T13:29:18.697Z"
      },
      {
        "duration": 6,
        "start_time": "2023-01-16T13:29:36.783Z"
      },
      {
        "duration": 31,
        "start_time": "2023-01-16T13:30:00.804Z"
      },
      {
        "duration": 6,
        "start_time": "2023-01-16T13:30:05.474Z"
      },
      {
        "duration": 10,
        "start_time": "2023-01-16T13:30:25.975Z"
      },
      {
        "duration": 6,
        "start_time": "2023-01-16T13:31:45.706Z"
      },
      {
        "duration": 7,
        "start_time": "2023-01-16T13:32:55.599Z"
      },
      {
        "duration": 8,
        "start_time": "2023-01-16T13:33:04.648Z"
      },
      {
        "duration": 7,
        "start_time": "2023-01-16T13:33:19.143Z"
      },
      {
        "duration": 1028,
        "start_time": "2023-01-16T15:42:48.835Z"
      },
      {
        "duration": 18,
        "start_time": "2023-01-16T15:42:49.866Z"
      },
      {
        "duration": 26,
        "start_time": "2023-01-16T15:42:49.885Z"
      },
      {
        "duration": 50,
        "start_time": "2023-01-16T15:42:49.914Z"
      },
      {
        "duration": 16,
        "start_time": "2023-01-16T15:42:49.967Z"
      },
      {
        "duration": 10,
        "start_time": "2023-01-16T15:42:49.985Z"
      },
      {
        "duration": 42,
        "start_time": "2023-01-16T15:42:49.997Z"
      },
      {
        "duration": 10,
        "start_time": "2023-01-16T15:42:50.041Z"
      },
      {
        "duration": 36,
        "start_time": "2023-01-16T15:46:46.358Z"
      },
      {
        "duration": 6,
        "start_time": "2023-01-16T15:49:21.109Z"
      },
      {
        "duration": 68,
        "start_time": "2023-01-16T15:50:04.173Z"
      },
      {
        "duration": 13,
        "start_time": "2023-01-16T15:50:57.082Z"
      },
      {
        "duration": 13,
        "start_time": "2023-01-16T15:52:01.092Z"
      },
      {
        "duration": 13,
        "start_time": "2023-01-16T15:53:02.800Z"
      },
      {
        "duration": 19,
        "start_time": "2023-01-16T15:54:44.587Z"
      },
      {
        "duration": 138,
        "start_time": "2023-01-16T15:55:42.734Z"
      },
      {
        "duration": 29,
        "start_time": "2023-01-16T15:56:15.046Z"
      },
      {
        "duration": 996,
        "start_time": "2023-01-16T15:56:33.262Z"
      },
      {
        "duration": 214,
        "start_time": "2023-01-16T15:58:19.753Z"
      },
      {
        "duration": 7,
        "start_time": "2023-01-16T15:58:47.041Z"
      },
      {
        "duration": 24,
        "start_time": "2023-01-16T15:59:51.934Z"
      },
      {
        "duration": 23,
        "start_time": "2023-01-16T16:00:03.026Z"
      },
      {
        "duration": 7,
        "start_time": "2023-01-16T16:00:45.704Z"
      },
      {
        "duration": 6,
        "start_time": "2023-01-16T16:01:37.662Z"
      },
      {
        "duration": 7,
        "start_time": "2023-01-16T16:07:44.034Z"
      },
      {
        "duration": 9,
        "start_time": "2023-01-16T16:12:46.930Z"
      },
      {
        "duration": 6,
        "start_time": "2023-01-16T16:20:19.105Z"
      },
      {
        "duration": 7,
        "start_time": "2023-01-16T16:21:22.245Z"
      },
      {
        "duration": 19,
        "start_time": "2023-01-16T16:21:29.844Z"
      },
      {
        "duration": 11,
        "start_time": "2023-01-16T16:23:02.210Z"
      },
      {
        "duration": 24,
        "start_time": "2023-01-16T16:23:10.750Z"
      },
      {
        "duration": 8,
        "start_time": "2023-01-16T16:23:20.752Z"
      },
      {
        "duration": 660,
        "start_time": "2023-01-16T16:23:47.957Z"
      },
      {
        "duration": 17,
        "start_time": "2023-01-16T16:23:48.619Z"
      },
      {
        "duration": 20,
        "start_time": "2023-01-16T16:23:48.638Z"
      },
      {
        "duration": 67,
        "start_time": "2023-01-16T16:23:48.660Z"
      },
      {
        "duration": 15,
        "start_time": "2023-01-16T16:23:48.729Z"
      },
      {
        "duration": 8,
        "start_time": "2023-01-16T16:23:48.745Z"
      },
      {
        "duration": 25,
        "start_time": "2023-01-16T16:23:48.754Z"
      },
      {
        "duration": 7,
        "start_time": "2023-01-16T16:23:48.781Z"
      },
      {
        "duration": 29,
        "start_time": "2023-01-16T16:23:48.789Z"
      },
      {
        "duration": 10,
        "start_time": "2023-01-16T16:23:48.820Z"
      },
      {
        "duration": 2,
        "start_time": "2023-01-16T16:23:48.832Z"
      },
      {
        "duration": 15,
        "start_time": "2023-01-16T16:23:48.836Z"
      },
      {
        "duration": 9,
        "start_time": "2023-01-16T16:24:14.269Z"
      },
      {
        "duration": 700,
        "start_time": "2023-01-16T16:25:39.812Z"
      },
      {
        "duration": 17,
        "start_time": "2023-01-16T16:25:40.514Z"
      },
      {
        "duration": 15,
        "start_time": "2023-01-16T16:25:40.532Z"
      },
      {
        "duration": 68,
        "start_time": "2023-01-16T16:25:40.548Z"
      },
      {
        "duration": 16,
        "start_time": "2023-01-16T16:25:40.619Z"
      },
      {
        "duration": 15,
        "start_time": "2023-01-16T16:25:40.637Z"
      },
      {
        "duration": 28,
        "start_time": "2023-01-16T16:25:40.654Z"
      },
      {
        "duration": 7,
        "start_time": "2023-01-16T16:25:40.684Z"
      },
      {
        "duration": 6,
        "start_time": "2023-01-16T16:25:40.716Z"
      },
      {
        "duration": 14,
        "start_time": "2023-01-16T16:25:40.724Z"
      },
      {
        "duration": 5,
        "start_time": "2023-01-16T16:25:40.740Z"
      },
      {
        "duration": 9,
        "start_time": "2023-01-16T16:25:40.747Z"
      },
      {
        "duration": 29,
        "start_time": "2023-01-16T16:34:27.615Z"
      },
      {
        "duration": 84,
        "start_time": "2023-01-16T16:35:33.018Z"
      },
      {
        "duration": 33,
        "start_time": "2023-01-16T16:35:51.551Z"
      },
      {
        "duration": 14,
        "start_time": "2023-01-16T16:39:10.806Z"
      },
      {
        "duration": 5,
        "start_time": "2023-01-16T16:40:11.957Z"
      },
      {
        "duration": 15,
        "start_time": "2023-01-16T16:40:21.344Z"
      },
      {
        "duration": 12,
        "start_time": "2023-01-16T16:50:39.307Z"
      },
      {
        "duration": 685,
        "start_time": "2023-01-16T16:51:00.730Z"
      },
      {
        "duration": 18,
        "start_time": "2023-01-16T16:51:01.416Z"
      },
      {
        "duration": 15,
        "start_time": "2023-01-16T16:51:01.435Z"
      },
      {
        "duration": 65,
        "start_time": "2023-01-16T16:51:01.451Z"
      },
      {
        "duration": 16,
        "start_time": "2023-01-16T16:51:01.518Z"
      },
      {
        "duration": 18,
        "start_time": "2023-01-16T16:51:01.535Z"
      },
      {
        "duration": 22,
        "start_time": "2023-01-16T16:51:01.555Z"
      },
      {
        "duration": 22,
        "start_time": "2023-01-16T16:51:01.579Z"
      },
      {
        "duration": 5,
        "start_time": "2023-01-16T16:55:40.125Z"
      },
      {
        "duration": 675,
        "start_time": "2023-01-16T16:56:36.184Z"
      },
      {
        "duration": 17,
        "start_time": "2023-01-16T16:56:36.861Z"
      },
      {
        "duration": 14,
        "start_time": "2023-01-16T16:56:36.879Z"
      },
      {
        "duration": 59,
        "start_time": "2023-01-16T16:56:36.894Z"
      },
      {
        "duration": 20,
        "start_time": "2023-01-16T16:56:36.957Z"
      },
      {
        "duration": 13,
        "start_time": "2023-01-16T16:56:36.979Z"
      },
      {
        "duration": 7,
        "start_time": "2023-01-16T16:56:36.997Z"
      },
      {
        "duration": 17,
        "start_time": "2023-01-16T16:56:37.006Z"
      },
      {
        "duration": 11,
        "start_time": "2023-01-16T16:59:03.553Z"
      },
      {
        "duration": 16,
        "start_time": "2023-01-16T16:59:18.112Z"
      },
      {
        "duration": 76,
        "start_time": "2023-01-16T17:00:13.460Z"
      },
      {
        "duration": 17,
        "start_time": "2023-01-16T17:00:30.492Z"
      },
      {
        "duration": 11,
        "start_time": "2023-01-16T17:00:38.341Z"
      },
      {
        "duration": 14,
        "start_time": "2023-01-16T17:01:06.203Z"
      },
      {
        "duration": 17,
        "start_time": "2023-01-16T17:07:42.872Z"
      },
      {
        "duration": 5,
        "start_time": "2023-01-16T17:08:21.046Z"
      },
      {
        "duration": 20,
        "start_time": "2023-01-16T17:08:33.972Z"
      },
      {
        "duration": 4,
        "start_time": "2023-01-16T17:08:49.971Z"
      },
      {
        "duration": 11,
        "start_time": "2023-01-16T17:09:40.818Z"
      },
      {
        "duration": 741,
        "start_time": "2023-01-16T17:32:15.814Z"
      },
      {
        "duration": 6,
        "start_time": "2023-01-16T17:32:45.740Z"
      },
      {
        "duration": 14,
        "start_time": "2023-01-16T17:32:49.683Z"
      },
      {
        "duration": 32,
        "start_time": "2023-01-16T17:43:42.380Z"
      },
      {
        "duration": 27,
        "start_time": "2023-01-16T17:44:26.804Z"
      },
      {
        "duration": 24,
        "start_time": "2023-01-16T17:44:33.348Z"
      },
      {
        "duration": 611,
        "start_time": "2023-01-16T17:45:10.971Z"
      },
      {
        "duration": 17,
        "start_time": "2023-01-16T17:45:11.584Z"
      },
      {
        "duration": 13,
        "start_time": "2023-01-16T17:45:11.603Z"
      },
      {
        "duration": 50,
        "start_time": "2023-01-16T17:45:11.618Z"
      },
      {
        "duration": 15,
        "start_time": "2023-01-16T17:45:11.670Z"
      },
      {
        "duration": 9,
        "start_time": "2023-01-16T17:45:11.687Z"
      },
      {
        "duration": 87,
        "start_time": "2023-01-16T17:45:11.716Z"
      },
      {
        "duration": 0,
        "start_time": "2023-01-16T17:45:11.805Z"
      },
      {
        "duration": 0,
        "start_time": "2023-01-16T17:45:11.806Z"
      },
      {
        "duration": 25,
        "start_time": "2023-01-16T17:45:27.037Z"
      },
      {
        "duration": 13,
        "start_time": "2023-01-16T17:46:00.592Z"
      },
      {
        "duration": 12,
        "start_time": "2023-01-16T17:46:10.315Z"
      },
      {
        "duration": 15,
        "start_time": "2023-01-16T17:46:35.116Z"
      },
      {
        "duration": 29,
        "start_time": "2023-01-16T17:47:32.372Z"
      },
      {
        "duration": 70,
        "start_time": "2023-01-16T17:47:56.251Z"
      },
      {
        "duration": 24,
        "start_time": "2023-01-16T17:47:59.872Z"
      },
      {
        "duration": 9,
        "start_time": "2023-01-16T17:48:09.720Z"
      },
      {
        "duration": 659,
        "start_time": "2023-01-16T17:50:48.643Z"
      },
      {
        "duration": 19,
        "start_time": "2023-01-16T17:50:49.303Z"
      },
      {
        "duration": 14,
        "start_time": "2023-01-16T17:50:49.323Z"
      },
      {
        "duration": 50,
        "start_time": "2023-01-16T17:50:49.339Z"
      },
      {
        "duration": 34,
        "start_time": "2023-01-16T17:50:49.392Z"
      },
      {
        "duration": 12,
        "start_time": "2023-01-16T17:50:49.428Z"
      },
      {
        "duration": 9,
        "start_time": "2023-01-16T17:50:49.441Z"
      },
      {
        "duration": 2,
        "start_time": "2023-01-16T17:50:49.452Z"
      },
      {
        "duration": 5,
        "start_time": "2023-01-16T17:50:49.456Z"
      },
      {
        "duration": 6,
        "start_time": "2023-01-16T17:57:35.315Z"
      },
      {
        "duration": 6,
        "start_time": "2023-01-16T17:59:56.963Z"
      },
      {
        "duration": 15,
        "start_time": "2023-01-16T18:00:40.940Z"
      },
      {
        "duration": 24,
        "start_time": "2023-01-16T18:03:06.132Z"
      },
      {
        "duration": 16,
        "start_time": "2023-01-16T18:04:03.133Z"
      },
      {
        "duration": 31,
        "start_time": "2023-01-16T18:04:32.918Z"
      },
      {
        "duration": 10,
        "start_time": "2023-01-16T18:04:54.031Z"
      },
      {
        "duration": 24,
        "start_time": "2023-01-16T18:05:01.909Z"
      },
      {
        "duration": 21,
        "start_time": "2023-01-16T18:07:20.094Z"
      },
      {
        "duration": 20,
        "start_time": "2023-01-16T18:08:47.060Z"
      },
      {
        "duration": 18,
        "start_time": "2023-01-16T18:08:54.955Z"
      },
      {
        "duration": 79,
        "start_time": "2023-01-16T18:12:47.471Z"
      },
      {
        "duration": 3,
        "start_time": "2023-01-16T18:12:54.167Z"
      },
      {
        "duration": 16,
        "start_time": "2023-01-16T18:13:09.005Z"
      },
      {
        "duration": 600,
        "start_time": "2023-01-16T18:13:14.561Z"
      },
      {
        "duration": 17,
        "start_time": "2023-01-16T18:13:15.163Z"
      },
      {
        "duration": 13,
        "start_time": "2023-01-16T18:13:15.181Z"
      },
      {
        "duration": 58,
        "start_time": "2023-01-16T18:13:15.196Z"
      },
      {
        "duration": 14,
        "start_time": "2023-01-16T18:13:15.256Z"
      },
      {
        "duration": 39,
        "start_time": "2023-01-16T18:13:15.271Z"
      },
      {
        "duration": 6,
        "start_time": "2023-01-16T18:13:15.312Z"
      },
      {
        "duration": 20,
        "start_time": "2023-01-16T18:13:15.320Z"
      },
      {
        "duration": 8,
        "start_time": "2023-01-16T18:13:15.341Z"
      },
      {
        "duration": 3,
        "start_time": "2023-01-16T18:13:15.351Z"
      },
      {
        "duration": 6,
        "start_time": "2023-01-16T18:13:15.355Z"
      },
      {
        "duration": 9,
        "start_time": "2023-01-16T18:14:34.594Z"
      },
      {
        "duration": 7,
        "start_time": "2023-01-16T18:16:43.964Z"
      },
      {
        "duration": 16,
        "start_time": "2023-01-16T18:20:42.304Z"
      },
      {
        "duration": 24,
        "start_time": "2023-01-16T18:21:05.135Z"
      },
      {
        "duration": 28,
        "start_time": "2023-01-16T18:21:47.318Z"
      },
      {
        "duration": 26,
        "start_time": "2023-01-16T18:22:16.933Z"
      },
      {
        "duration": 27,
        "start_time": "2023-01-16T18:22:48.385Z"
      },
      {
        "duration": 686,
        "start_time": "2023-01-16T18:23:26.367Z"
      },
      {
        "duration": 18,
        "start_time": "2023-01-16T18:23:27.055Z"
      },
      {
        "duration": 14,
        "start_time": "2023-01-16T18:23:27.075Z"
      },
      {
        "duration": 78,
        "start_time": "2023-01-16T18:23:27.090Z"
      },
      {
        "duration": 16,
        "start_time": "2023-01-16T18:23:27.171Z"
      },
      {
        "duration": 7,
        "start_time": "2023-01-16T18:23:27.188Z"
      },
      {
        "duration": 26,
        "start_time": "2023-01-16T18:23:27.197Z"
      },
      {
        "duration": 32,
        "start_time": "2023-01-16T18:23:27.227Z"
      },
      {
        "duration": 3,
        "start_time": "2023-01-16T18:23:27.261Z"
      },
      {
        "duration": 5,
        "start_time": "2023-01-16T18:23:27.266Z"
      },
      {
        "duration": 6,
        "start_time": "2023-01-16T18:24:05.744Z"
      },
      {
        "duration": 37,
        "start_time": "2023-01-16T18:24:06.696Z"
      },
      {
        "duration": 40,
        "start_time": "2023-01-16T18:24:45.125Z"
      },
      {
        "duration": 24,
        "start_time": "2023-01-16T18:30:45.069Z"
      },
      {
        "duration": 24,
        "start_time": "2023-01-16T18:30:59.476Z"
      },
      {
        "duration": 36,
        "start_time": "2023-01-16T18:31:56.625Z"
      },
      {
        "duration": 40,
        "start_time": "2023-01-16T18:32:21.304Z"
      },
      {
        "duration": 14,
        "start_time": "2023-01-16T18:32:33.609Z"
      },
      {
        "duration": 17,
        "start_time": "2023-01-16T18:33:05.573Z"
      },
      {
        "duration": 5,
        "start_time": "2023-01-16T18:37:14.855Z"
      },
      {
        "duration": 9,
        "start_time": "2023-01-16T18:39:09.778Z"
      },
      {
        "duration": 627,
        "start_time": "2023-01-16T18:39:39.937Z"
      },
      {
        "duration": 574,
        "start_time": "2023-01-16T18:40:11.134Z"
      },
      {
        "duration": 10,
        "start_time": "2023-01-16T18:40:51.276Z"
      },
      {
        "duration": 7,
        "start_time": "2023-01-16T18:44:39.257Z"
      },
      {
        "duration": 6,
        "start_time": "2023-01-16T18:46:07.755Z"
      },
      {
        "duration": 14,
        "start_time": "2023-01-16T18:46:09.794Z"
      },
      {
        "duration": 9,
        "start_time": "2023-01-16T18:46:12.395Z"
      },
      {
        "duration": 6,
        "start_time": "2023-01-16T18:47:21.332Z"
      },
      {
        "duration": 1010,
        "start_time": "2023-01-16T18:50:09.783Z"
      },
      {
        "duration": 952,
        "start_time": "2023-01-16T18:50:27.179Z"
      },
      {
        "duration": 1247,
        "start_time": "2023-01-16T18:51:18.260Z"
      },
      {
        "duration": 1261,
        "start_time": "2023-01-16T18:51:30.482Z"
      },
      {
        "duration": 1180,
        "start_time": "2023-01-16T18:51:59.107Z"
      },
      {
        "duration": 57,
        "start_time": "2023-01-16T18:54:57.513Z"
      },
      {
        "duration": 652,
        "start_time": "2023-01-16T18:55:04.513Z"
      },
      {
        "duration": 17,
        "start_time": "2023-01-16T18:55:05.168Z"
      },
      {
        "duration": 13,
        "start_time": "2023-01-16T18:55:05.186Z"
      },
      {
        "duration": 55,
        "start_time": "2023-01-16T18:55:05.200Z"
      },
      {
        "duration": 973,
        "start_time": "2023-01-16T18:55:05.257Z"
      },
      {
        "duration": 0,
        "start_time": "2023-01-16T18:55:06.232Z"
      },
      {
        "duration": 0,
        "start_time": "2023-01-16T18:55:06.234Z"
      },
      {
        "duration": 0,
        "start_time": "2023-01-16T18:55:06.235Z"
      },
      {
        "duration": 0,
        "start_time": "2023-01-16T18:55:06.237Z"
      },
      {
        "duration": 0,
        "start_time": "2023-01-16T18:55:06.238Z"
      },
      {
        "duration": 0,
        "start_time": "2023-01-16T18:55:06.240Z"
      },
      {
        "duration": 676,
        "start_time": "2023-01-16T18:55:47.129Z"
      },
      {
        "duration": 22,
        "start_time": "2023-01-16T18:55:47.807Z"
      },
      {
        "duration": 20,
        "start_time": "2023-01-16T18:55:47.831Z"
      },
      {
        "duration": 49,
        "start_time": "2023-01-16T18:55:47.853Z"
      },
      {
        "duration": 19,
        "start_time": "2023-01-16T18:55:47.915Z"
      },
      {
        "duration": 7,
        "start_time": "2023-01-16T18:55:47.936Z"
      },
      {
        "duration": 1248,
        "start_time": "2023-01-16T18:55:47.944Z"
      },
      {
        "duration": 5,
        "start_time": "2023-01-16T18:55:49.194Z"
      },
      {
        "duration": 13,
        "start_time": "2023-01-16T18:55:49.201Z"
      },
      {
        "duration": 13,
        "start_time": "2023-01-16T18:55:49.216Z"
      },
      {
        "duration": 20,
        "start_time": "2023-01-16T18:55:49.231Z"
      },
      {
        "duration": 12,
        "start_time": "2023-01-16T19:01:10.886Z"
      },
      {
        "duration": 9,
        "start_time": "2023-01-16T19:01:53.932Z"
      },
      {
        "duration": 13,
        "start_time": "2023-01-16T19:02:14.618Z"
      },
      {
        "duration": 645,
        "start_time": "2023-01-16T19:02:20.554Z"
      },
      {
        "duration": 16,
        "start_time": "2023-01-16T19:02:21.201Z"
      },
      {
        "duration": 13,
        "start_time": "2023-01-16T19:02:21.219Z"
      },
      {
        "duration": 50,
        "start_time": "2023-01-16T19:02:21.233Z"
      },
      {
        "duration": 31,
        "start_time": "2023-01-16T19:02:21.284Z"
      },
      {
        "duration": 7,
        "start_time": "2023-01-16T19:02:21.317Z"
      },
      {
        "duration": 18,
        "start_time": "2023-01-16T19:02:21.326Z"
      },
      {
        "duration": 16,
        "start_time": "2023-01-16T19:02:21.345Z"
      },
      {
        "duration": 6,
        "start_time": "2023-01-16T19:02:21.363Z"
      },
      {
        "duration": 18,
        "start_time": "2023-01-16T19:02:21.371Z"
      },
      {
        "duration": 5,
        "start_time": "2023-01-16T19:02:21.391Z"
      },
      {
        "duration": 12,
        "start_time": "2023-01-16T19:02:38.894Z"
      },
      {
        "duration": 657,
        "start_time": "2023-01-16T19:02:45.544Z"
      },
      {
        "duration": 17,
        "start_time": "2023-01-16T19:02:46.203Z"
      },
      {
        "duration": 15,
        "start_time": "2023-01-16T19:02:46.222Z"
      },
      {
        "duration": 95,
        "start_time": "2023-01-16T19:02:46.239Z"
      },
      {
        "duration": 21,
        "start_time": "2023-01-16T19:02:46.337Z"
      },
      {
        "duration": 20,
        "start_time": "2023-01-16T19:02:46.359Z"
      },
      {
        "duration": 14,
        "start_time": "2023-01-16T19:02:46.381Z"
      },
      {
        "duration": 15,
        "start_time": "2023-01-16T19:02:46.400Z"
      },
      {
        "duration": 6,
        "start_time": "2023-01-16T19:02:46.416Z"
      },
      {
        "duration": 23,
        "start_time": "2023-01-16T19:02:46.424Z"
      },
      {
        "duration": 13,
        "start_time": "2023-01-16T19:02:46.449Z"
      },
      {
        "duration": 761,
        "start_time": "2023-01-16T19:03:31.538Z"
      },
      {
        "duration": 22,
        "start_time": "2023-01-16T19:03:32.301Z"
      },
      {
        "duration": 23,
        "start_time": "2023-01-16T19:03:32.324Z"
      },
      {
        "duration": 50,
        "start_time": "2023-01-16T19:03:32.349Z"
      },
      {
        "duration": 37,
        "start_time": "2023-01-16T19:03:32.400Z"
      },
      {
        "duration": 16,
        "start_time": "2023-01-16T19:03:32.439Z"
      },
      {
        "duration": 8,
        "start_time": "2023-01-16T19:03:32.457Z"
      },
      {
        "duration": 14,
        "start_time": "2023-01-16T19:03:32.466Z"
      },
      {
        "duration": 6,
        "start_time": "2023-01-16T19:03:32.482Z"
      },
      {
        "duration": 42,
        "start_time": "2023-01-16T19:03:32.490Z"
      },
      {
        "duration": 12,
        "start_time": "2023-01-16T19:03:32.534Z"
      },
      {
        "duration": 15,
        "start_time": "2023-01-16T19:03:43.411Z"
      },
      {
        "duration": 6,
        "start_time": "2023-01-16T19:03:46.244Z"
      },
      {
        "duration": 13,
        "start_time": "2023-01-16T19:03:57.558Z"
      },
      {
        "duration": 6,
        "start_time": "2023-01-16T19:05:32.110Z"
      },
      {
        "duration": 9,
        "start_time": "2023-01-16T19:17:25.124Z"
      },
      {
        "duration": 6,
        "start_time": "2023-01-16T19:18:43.807Z"
      },
      {
        "duration": 7,
        "start_time": "2023-01-16T19:19:28.852Z"
      },
      {
        "duration": 14,
        "start_time": "2023-01-16T19:30:10.006Z"
      },
      {
        "duration": 9,
        "start_time": "2023-01-16T19:30:21.220Z"
      },
      {
        "duration": 17,
        "start_time": "2023-01-16T19:33:16.619Z"
      },
      {
        "duration": 15,
        "start_time": "2023-01-16T19:33:45.355Z"
      },
      {
        "duration": 13,
        "start_time": "2023-01-16T19:33:57.442Z"
      },
      {
        "duration": 17,
        "start_time": "2023-01-16T19:35:20.118Z"
      },
      {
        "duration": 13,
        "start_time": "2023-01-16T19:38:12.374Z"
      },
      {
        "duration": 72,
        "start_time": "2023-01-16T19:41:18.670Z"
      },
      {
        "duration": 9,
        "start_time": "2023-01-16T19:41:25.236Z"
      },
      {
        "duration": 127,
        "start_time": "2023-01-16T19:41:28.923Z"
      },
      {
        "duration": 143,
        "start_time": "2023-01-16T19:41:53.122Z"
      },
      {
        "duration": 183,
        "start_time": "2023-01-16T19:41:59.138Z"
      },
      {
        "duration": 338,
        "start_time": "2023-01-16T19:42:06.514Z"
      },
      {
        "duration": 130,
        "start_time": "2023-01-16T19:42:10.417Z"
      },
      {
        "duration": 12,
        "start_time": "2023-01-16T19:43:27.903Z"
      },
      {
        "duration": 11,
        "start_time": "2023-01-16T19:49:26.300Z"
      },
      {
        "duration": 11,
        "start_time": "2023-01-16T19:49:33.923Z"
      },
      {
        "duration": 164,
        "start_time": "2023-01-16T19:51:09.182Z"
      },
      {
        "duration": 18,
        "start_time": "2023-01-16T19:54:22.150Z"
      },
      {
        "duration": 1219,
        "start_time": "2023-01-16T19:54:30.069Z"
      },
      {
        "duration": 19,
        "start_time": "2023-01-16T19:54:31.290Z"
      },
      {
        "duration": 40,
        "start_time": "2023-01-16T19:54:31.311Z"
      },
      {
        "duration": 67,
        "start_time": "2023-01-16T19:54:31.354Z"
      },
      {
        "duration": 13,
        "start_time": "2023-01-16T19:54:31.423Z"
      },
      {
        "duration": 21,
        "start_time": "2023-01-16T19:54:31.438Z"
      },
      {
        "duration": 11,
        "start_time": "2023-01-16T19:54:31.461Z"
      },
      {
        "duration": 5,
        "start_time": "2023-01-16T19:54:31.474Z"
      },
      {
        "duration": 146,
        "start_time": "2023-01-16T19:54:31.481Z"
      },
      {
        "duration": 0,
        "start_time": "2023-01-16T19:54:31.629Z"
      },
      {
        "duration": 0,
        "start_time": "2023-01-16T19:54:31.630Z"
      },
      {
        "duration": 712,
        "start_time": "2023-01-16T19:55:14.043Z"
      },
      {
        "duration": 294,
        "start_time": "2023-01-16T19:55:54.473Z"
      },
      {
        "duration": 294,
        "start_time": "2023-01-16T19:56:32.674Z"
      },
      {
        "duration": 153,
        "start_time": "2023-01-16T19:56:48.350Z"
      },
      {
        "duration": 200,
        "start_time": "2023-01-16T19:56:57.333Z"
      },
      {
        "duration": 296,
        "start_time": "2023-01-16T19:57:08.437Z"
      },
      {
        "duration": 322,
        "start_time": "2023-01-16T19:58:07.587Z"
      },
      {
        "duration": 63,
        "start_time": "2023-01-17T07:29:09.648Z"
      },
      {
        "duration": 1510,
        "start_time": "2023-01-17T07:29:16.115Z"
      },
      {
        "duration": 16,
        "start_time": "2023-01-17T07:29:17.627Z"
      },
      {
        "duration": 13,
        "start_time": "2023-01-17T07:29:17.645Z"
      },
      {
        "duration": 50,
        "start_time": "2023-01-17T07:29:17.660Z"
      },
      {
        "duration": 14,
        "start_time": "2023-01-17T07:29:17.711Z"
      },
      {
        "duration": 20,
        "start_time": "2023-01-17T07:29:17.726Z"
      },
      {
        "duration": 14,
        "start_time": "2023-01-17T07:29:17.748Z"
      },
      {
        "duration": 15,
        "start_time": "2023-01-17T07:29:17.763Z"
      },
      {
        "duration": 296,
        "start_time": "2023-01-17T07:29:17.780Z"
      },
      {
        "duration": 257,
        "start_time": "2023-01-17T07:29:18.077Z"
      },
      {
        "duration": 53,
        "start_time": "2023-01-17T07:44:54.461Z"
      },
      {
        "duration": 1115,
        "start_time": "2023-01-17T07:45:38.586Z"
      },
      {
        "duration": 15,
        "start_time": "2023-01-17T07:45:39.703Z"
      },
      {
        "duration": 12,
        "start_time": "2023-01-17T07:45:39.720Z"
      },
      {
        "duration": 43,
        "start_time": "2023-01-17T07:45:39.734Z"
      },
      {
        "duration": 45,
        "start_time": "2023-01-17T07:45:39.778Z"
      },
      {
        "duration": 24,
        "start_time": "2023-01-17T07:45:39.825Z"
      },
      {
        "duration": 9,
        "start_time": "2023-01-17T07:45:39.850Z"
      },
      {
        "duration": 13,
        "start_time": "2023-01-17T07:45:39.860Z"
      },
      {
        "duration": 17,
        "start_time": "2023-01-17T07:45:39.874Z"
      },
      {
        "duration": 294,
        "start_time": "2023-01-17T07:45:39.893Z"
      },
      {
        "duration": 238,
        "start_time": "2023-01-17T07:45:40.189Z"
      },
      {
        "duration": 103,
        "start_time": "2023-01-17T09:26:56.421Z"
      },
      {
        "duration": 13,
        "start_time": "2023-01-17T09:27:11.059Z"
      },
      {
        "duration": 17,
        "start_time": "2023-01-17T09:27:34.927Z"
      },
      {
        "duration": 1210,
        "start_time": "2023-01-17T09:28:09.397Z"
      },
      {
        "duration": 16,
        "start_time": "2023-01-17T09:28:10.609Z"
      },
      {
        "duration": 21,
        "start_time": "2023-01-17T09:28:10.627Z"
      },
      {
        "duration": 56,
        "start_time": "2023-01-17T09:28:10.650Z"
      },
      {
        "duration": 63,
        "start_time": "2023-01-17T09:28:10.708Z"
      },
      {
        "duration": 14,
        "start_time": "2023-01-17T09:28:10.773Z"
      },
      {
        "duration": 12,
        "start_time": "2023-01-17T09:28:10.789Z"
      },
      {
        "duration": 17,
        "start_time": "2023-01-17T09:28:10.802Z"
      },
      {
        "duration": 25,
        "start_time": "2023-01-17T09:28:10.821Z"
      },
      {
        "duration": 325,
        "start_time": "2023-01-17T09:28:10.847Z"
      },
      {
        "duration": 265,
        "start_time": "2023-01-17T09:28:11.174Z"
      },
      {
        "duration": 295,
        "start_time": "2023-01-17T09:29:31.111Z"
      },
      {
        "duration": 355,
        "start_time": "2023-01-17T09:30:07.035Z"
      },
      {
        "duration": 337,
        "start_time": "2023-01-17T09:30:49.227Z"
      },
      {
        "duration": 262,
        "start_time": "2023-01-17T09:30:58.832Z"
      },
      {
        "duration": 336,
        "start_time": "2023-01-17T09:33:04.531Z"
      },
      {
        "duration": 284,
        "start_time": "2023-01-17T09:33:07.248Z"
      },
      {
        "duration": 237,
        "start_time": "2023-01-17T09:33:24.953Z"
      },
      {
        "duration": 10,
        "start_time": "2023-01-17T09:35:49.938Z"
      },
      {
        "duration": 10,
        "start_time": "2023-01-17T09:36:02.093Z"
      },
      {
        "duration": 12,
        "start_time": "2023-01-17T09:36:25.123Z"
      },
      {
        "duration": 124,
        "start_time": "2023-01-17T09:43:42.094Z"
      },
      {
        "duration": 136,
        "start_time": "2023-01-17T09:43:58.936Z"
      },
      {
        "duration": 156,
        "start_time": "2023-01-17T09:44:29.033Z"
      },
      {
        "duration": 104,
        "start_time": "2023-01-17T09:44:44.404Z"
      },
      {
        "duration": 21,
        "start_time": "2023-01-17T09:46:38.387Z"
      },
      {
        "duration": 1155,
        "start_time": "2023-01-17T09:46:46.225Z"
      },
      {
        "duration": 121,
        "start_time": "2023-01-17T09:49:12.598Z"
      },
      {
        "duration": 253,
        "start_time": "2023-01-17T09:50:13.663Z"
      },
      {
        "duration": 405,
        "start_time": "2023-01-17T09:50:34.462Z"
      },
      {
        "duration": 205,
        "start_time": "2023-01-17T09:52:03.124Z"
      },
      {
        "duration": 40,
        "start_time": "2023-01-17T09:52:40.124Z"
      },
      {
        "duration": 152,
        "start_time": "2023-01-17T09:52:49.739Z"
      },
      {
        "duration": 23,
        "start_time": "2023-01-17T09:56:05.513Z"
      },
      {
        "duration": 180,
        "start_time": "2023-01-17T09:56:21.321Z"
      },
      {
        "duration": 44,
        "start_time": "2023-01-17T12:29:20.382Z"
      },
      {
        "duration": 1456,
        "start_time": "2023-01-17T12:29:26.964Z"
      },
      {
        "duration": 19,
        "start_time": "2023-01-17T12:29:28.422Z"
      },
      {
        "duration": 15,
        "start_time": "2023-01-17T12:29:28.442Z"
      },
      {
        "duration": 57,
        "start_time": "2023-01-17T12:29:28.459Z"
      },
      {
        "duration": 66,
        "start_time": "2023-01-17T12:29:28.517Z"
      },
      {
        "duration": 16,
        "start_time": "2023-01-17T12:29:28.584Z"
      },
      {
        "duration": 7,
        "start_time": "2023-01-17T12:29:28.601Z"
      },
      {
        "duration": 14,
        "start_time": "2023-01-17T12:29:28.610Z"
      },
      {
        "duration": 37,
        "start_time": "2023-01-17T12:29:28.628Z"
      },
      {
        "duration": 331,
        "start_time": "2023-01-17T12:29:28.668Z"
      },
      {
        "duration": 12,
        "start_time": "2023-01-17T12:29:29.001Z"
      },
      {
        "duration": 161,
        "start_time": "2023-01-17T12:29:29.015Z"
      },
      {
        "duration": 1129,
        "start_time": "2023-01-17T13:33:00.404Z"
      },
      {
        "duration": 15,
        "start_time": "2023-01-17T13:33:01.535Z"
      },
      {
        "duration": 30,
        "start_time": "2023-01-17T13:33:01.552Z"
      },
      {
        "duration": 57,
        "start_time": "2023-01-17T13:33:01.584Z"
      },
      {
        "duration": 48,
        "start_time": "2023-01-17T13:33:01.643Z"
      },
      {
        "duration": 14,
        "start_time": "2023-01-17T13:33:01.692Z"
      },
      {
        "duration": 32,
        "start_time": "2023-01-17T13:33:01.707Z"
      },
      {
        "duration": 51,
        "start_time": "2023-01-17T13:33:01.741Z"
      },
      {
        "duration": 40,
        "start_time": "2023-01-17T13:33:01.794Z"
      },
      {
        "duration": 294,
        "start_time": "2023-01-17T13:33:01.836Z"
      },
      {
        "duration": 18,
        "start_time": "2023-01-17T13:33:02.131Z"
      },
      {
        "duration": 144,
        "start_time": "2023-01-17T13:33:02.150Z"
      },
      {
        "duration": 14,
        "start_time": "2023-01-17T13:33:13.064Z"
      },
      {
        "duration": 143,
        "start_time": "2023-01-17T13:34:16.017Z"
      },
      {
        "duration": 144,
        "start_time": "2023-01-17T13:34:31.965Z"
      },
      {
        "duration": 152,
        "start_time": "2023-01-17T13:34:43.338Z"
      },
      {
        "duration": 12,
        "start_time": "2023-01-17T13:35:05.979Z"
      },
      {
        "duration": 145,
        "start_time": "2023-01-17T13:35:09.673Z"
      },
      {
        "duration": 16,
        "start_time": "2023-01-17T13:36:24.612Z"
      },
      {
        "duration": 140,
        "start_time": "2023-01-17T13:36:27.103Z"
      },
      {
        "duration": 211,
        "start_time": "2023-01-17T13:37:01.453Z"
      },
      {
        "duration": 56,
        "start_time": "2023-01-17T15:52:28.339Z"
      },
      {
        "duration": 1452,
        "start_time": "2023-01-17T15:52:35.443Z"
      },
      {
        "duration": 19,
        "start_time": "2023-01-17T15:52:36.897Z"
      },
      {
        "duration": 30,
        "start_time": "2023-01-17T15:52:36.917Z"
      },
      {
        "duration": 57,
        "start_time": "2023-01-17T15:52:36.948Z"
      },
      {
        "duration": 69,
        "start_time": "2023-01-17T15:52:37.007Z"
      },
      {
        "duration": 17,
        "start_time": "2023-01-17T15:52:37.078Z"
      },
      {
        "duration": 24,
        "start_time": "2023-01-17T15:52:37.097Z"
      },
      {
        "duration": 29,
        "start_time": "2023-01-17T15:52:37.123Z"
      },
      {
        "duration": 28,
        "start_time": "2023-01-17T15:52:37.154Z"
      },
      {
        "duration": 357,
        "start_time": "2023-01-17T15:52:37.184Z"
      },
      {
        "duration": 16,
        "start_time": "2023-01-17T15:52:37.542Z"
      },
      {
        "duration": 183,
        "start_time": "2023-01-17T15:52:37.559Z"
      },
      {
        "duration": 6,
        "start_time": "2023-01-17T15:52:37.744Z"
      },
      {
        "duration": 186,
        "start_time": "2023-01-17T15:59:06.844Z"
      },
      {
        "duration": 267,
        "start_time": "2023-01-17T16:01:18.972Z"
      },
      {
        "duration": 153,
        "start_time": "2023-01-17T16:04:18.428Z"
      },
      {
        "duration": 147,
        "start_time": "2023-01-17T16:07:49.848Z"
      },
      {
        "duration": 152,
        "start_time": "2023-01-17T16:08:01.746Z"
      },
      {
        "duration": 145,
        "start_time": "2023-01-17T16:10:35.771Z"
      },
      {
        "duration": 1316,
        "start_time": "2023-01-17T16:10:53.123Z"
      },
      {
        "duration": 17,
        "start_time": "2023-01-17T16:10:54.441Z"
      },
      {
        "duration": 51,
        "start_time": "2023-01-17T16:10:54.460Z"
      },
      {
        "duration": 91,
        "start_time": "2023-01-17T16:10:54.513Z"
      },
      {
        "duration": 56,
        "start_time": "2023-01-17T16:10:54.606Z"
      },
      {
        "duration": 16,
        "start_time": "2023-01-17T16:10:54.664Z"
      },
      {
        "duration": 36,
        "start_time": "2023-01-17T16:10:54.682Z"
      },
      {
        "duration": 44,
        "start_time": "2023-01-17T16:10:54.720Z"
      },
      {
        "duration": 36,
        "start_time": "2023-01-17T16:10:54.765Z"
      },
      {
        "duration": 364,
        "start_time": "2023-01-17T16:10:54.803Z"
      },
      {
        "duration": 16,
        "start_time": "2023-01-17T16:10:55.169Z"
      },
      {
        "duration": 183,
        "start_time": "2023-01-17T16:10:55.187Z"
      },
      {
        "duration": 216,
        "start_time": "2023-01-17T16:10:55.371Z"
      },
      {
        "duration": 136,
        "start_time": "2023-01-17T16:10:55.590Z"
      },
      {
        "duration": 3,
        "start_time": "2023-01-17T16:11:28.006Z"
      },
      {
        "duration": 33,
        "start_time": "2023-01-17T16:11:29.858Z"
      },
      {
        "duration": 34,
        "start_time": "2023-01-17T16:11:51.103Z"
      },
      {
        "duration": 135,
        "start_time": "2023-01-17T16:12:11.575Z"
      },
      {
        "duration": 15,
        "start_time": "2023-01-17T16:24:27.830Z"
      },
      {
        "duration": 9,
        "start_time": "2023-01-17T16:24:41.151Z"
      },
      {
        "duration": 10,
        "start_time": "2023-01-17T16:24:50.045Z"
      },
      {
        "duration": 12,
        "start_time": "2023-01-17T16:26:08.835Z"
      },
      {
        "duration": 10,
        "start_time": "2023-01-17T16:30:39.726Z"
      },
      {
        "duration": 10,
        "start_time": "2023-01-17T16:33:06.124Z"
      },
      {
        "duration": 9,
        "start_time": "2023-01-17T16:33:43.123Z"
      },
      {
        "duration": 11,
        "start_time": "2023-01-17T16:33:59.066Z"
      },
      {
        "duration": 10,
        "start_time": "2023-01-17T16:34:12.138Z"
      },
      {
        "duration": 52,
        "start_time": "2023-01-17T16:34:22.097Z"
      },
      {
        "duration": 1273,
        "start_time": "2023-01-17T16:34:30.698Z"
      },
      {
        "duration": 18,
        "start_time": "2023-01-17T16:34:31.973Z"
      },
      {
        "duration": 20,
        "start_time": "2023-01-17T16:34:31.992Z"
      },
      {
        "duration": 68,
        "start_time": "2023-01-17T16:34:32.014Z"
      },
      {
        "duration": 63,
        "start_time": "2023-01-17T16:34:32.085Z"
      },
      {
        "duration": 16,
        "start_time": "2023-01-17T16:34:32.149Z"
      },
      {
        "duration": 12,
        "start_time": "2023-01-17T16:34:32.167Z"
      },
      {
        "duration": 28,
        "start_time": "2023-01-17T16:34:32.181Z"
      },
      {
        "duration": 27,
        "start_time": "2023-01-17T16:34:32.211Z"
      },
      {
        "duration": 375,
        "start_time": "2023-01-17T16:34:32.240Z"
      },
      {
        "duration": 25,
        "start_time": "2023-01-17T16:34:32.617Z"
      },
      {
        "duration": 175,
        "start_time": "2023-01-17T16:34:32.644Z"
      },
      {
        "duration": 232,
        "start_time": "2023-01-17T16:34:32.821Z"
      },
      {
        "duration": 151,
        "start_time": "2023-01-17T16:34:33.057Z"
      },
      {
        "duration": 118,
        "start_time": "2023-01-17T16:34:33.210Z"
      },
      {
        "duration": 12,
        "start_time": "2023-01-17T16:34:39.995Z"
      },
      {
        "duration": 14,
        "start_time": "2023-01-17T16:55:15.985Z"
      },
      {
        "duration": 13,
        "start_time": "2023-01-17T16:55:25.297Z"
      },
      {
        "duration": 15,
        "start_time": "2023-01-17T16:57:38.134Z"
      },
      {
        "duration": 12,
        "start_time": "2023-01-17T16:59:32.446Z"
      },
      {
        "duration": 10,
        "start_time": "2023-01-17T16:59:54.412Z"
      },
      {
        "duration": 136,
        "start_time": "2023-01-17T17:00:21.986Z"
      },
      {
        "duration": 16,
        "start_time": "2023-01-17T17:00:24.444Z"
      },
      {
        "duration": 18,
        "start_time": "2023-01-17T17:00:28.011Z"
      },
      {
        "duration": 11,
        "start_time": "2023-01-17T17:00:46.282Z"
      },
      {
        "duration": 307,
        "start_time": "2023-01-17T17:01:06.841Z"
      },
      {
        "duration": 357,
        "start_time": "2023-01-17T17:01:17.417Z"
      },
      {
        "duration": 331,
        "start_time": "2023-01-17T17:06:12.947Z"
      },
      {
        "duration": 257,
        "start_time": "2023-01-17T17:06:22.291Z"
      },
      {
        "duration": 266,
        "start_time": "2023-01-17T17:06:28.624Z"
      },
      {
        "duration": 211,
        "start_time": "2023-01-17T17:06:46.263Z"
      },
      {
        "duration": 334,
        "start_time": "2023-01-17T17:07:36.292Z"
      },
      {
        "duration": 339,
        "start_time": "2023-01-17T17:08:11.419Z"
      },
      {
        "duration": 230,
        "start_time": "2023-01-17T17:08:35.266Z"
      },
      {
        "duration": 332,
        "start_time": "2023-01-17T17:10:08.374Z"
      },
      {
        "duration": 371,
        "start_time": "2023-01-17T17:10:28.100Z"
      },
      {
        "duration": 356,
        "start_time": "2023-01-17T17:11:06.493Z"
      },
      {
        "duration": 324,
        "start_time": "2023-01-17T17:11:12.451Z"
      },
      {
        "duration": 290,
        "start_time": "2023-01-17T17:11:31.779Z"
      },
      {
        "duration": 13,
        "start_time": "2023-01-17T17:12:02.543Z"
      },
      {
        "duration": 116,
        "start_time": "2023-01-17T17:12:09.975Z"
      },
      {
        "duration": 183,
        "start_time": "2023-01-17T17:12:27.439Z"
      },
      {
        "duration": 16,
        "start_time": "2023-01-17T17:14:25.291Z"
      },
      {
        "duration": 16,
        "start_time": "2023-01-17T17:14:53.801Z"
      },
      {
        "duration": 370,
        "start_time": "2023-01-17T17:17:46.415Z"
      },
      {
        "duration": 378,
        "start_time": "2023-01-17T17:20:10.881Z"
      },
      {
        "duration": 339,
        "start_time": "2023-01-17T17:29:36.747Z"
      },
      {
        "duration": 335,
        "start_time": "2023-01-17T17:30:52.160Z"
      },
      {
        "duration": 366,
        "start_time": "2023-01-17T17:31:08.014Z"
      },
      {
        "duration": 418,
        "start_time": "2023-01-17T17:31:16.438Z"
      },
      {
        "duration": 1328,
        "start_time": "2023-01-17T17:31:28.000Z"
      },
      {
        "duration": 18,
        "start_time": "2023-01-17T17:31:29.331Z"
      },
      {
        "duration": 13,
        "start_time": "2023-01-17T17:31:29.351Z"
      },
      {
        "duration": 53,
        "start_time": "2023-01-17T17:31:29.366Z"
      },
      {
        "duration": 57,
        "start_time": "2023-01-17T17:31:29.436Z"
      },
      {
        "duration": 16,
        "start_time": "2023-01-17T17:31:29.495Z"
      },
      {
        "duration": 28,
        "start_time": "2023-01-17T17:31:29.512Z"
      },
      {
        "duration": 12,
        "start_time": "2023-01-17T17:31:29.542Z"
      },
      {
        "duration": 17,
        "start_time": "2023-01-17T17:31:29.556Z"
      },
      {
        "duration": 365,
        "start_time": "2023-01-17T17:31:29.574Z"
      },
      {
        "duration": 16,
        "start_time": "2023-01-17T17:31:29.940Z"
      },
      {
        "duration": 169,
        "start_time": "2023-01-17T17:31:29.958Z"
      },
      {
        "duration": 217,
        "start_time": "2023-01-17T17:31:30.130Z"
      },
      {
        "duration": 150,
        "start_time": "2023-01-17T17:31:30.350Z"
      },
      {
        "duration": 17,
        "start_time": "2023-01-17T17:31:30.502Z"
      },
      {
        "duration": 372,
        "start_time": "2023-01-17T17:31:30.521Z"
      },
      {
        "duration": 351,
        "start_time": "2023-01-17T17:32:02.139Z"
      },
      {
        "duration": 334,
        "start_time": "2023-01-17T17:42:36.747Z"
      },
      {
        "duration": 448,
        "start_time": "2023-01-17T17:42:42.595Z"
      },
      {
        "duration": 357,
        "start_time": "2023-01-17T17:43:01.225Z"
      },
      {
        "duration": 32,
        "start_time": "2023-01-17T17:50:56.396Z"
      },
      {
        "duration": 29,
        "start_time": "2023-01-17T17:51:29.220Z"
      },
      {
        "duration": 1200,
        "start_time": "2023-01-17T17:51:51.460Z"
      },
      {
        "duration": 1239,
        "start_time": "2023-01-17T17:52:01.680Z"
      },
      {
        "duration": 22,
        "start_time": "2023-01-17T17:52:23.456Z"
      },
      {
        "duration": 31,
        "start_time": "2023-01-17T17:52:55.150Z"
      },
      {
        "duration": 21,
        "start_time": "2023-01-17T17:53:09.094Z"
      },
      {
        "duration": 107,
        "start_time": "2023-01-17T17:53:28.092Z"
      },
      {
        "duration": 120,
        "start_time": "2023-01-17T17:57:41.047Z"
      },
      {
        "duration": 20,
        "start_time": "2023-01-17T17:58:03.446Z"
      },
      {
        "duration": 21,
        "start_time": "2023-01-17T17:58:25.261Z"
      },
      {
        "duration": 21,
        "start_time": "2023-01-17T17:58:37.943Z"
      },
      {
        "duration": 1279,
        "start_time": "2023-01-17T17:59:02.514Z"
      },
      {
        "duration": 21,
        "start_time": "2023-01-17T17:59:03.795Z"
      },
      {
        "duration": 21,
        "start_time": "2023-01-17T17:59:03.819Z"
      },
      {
        "duration": 83,
        "start_time": "2023-01-17T17:59:03.842Z"
      },
      {
        "duration": 60,
        "start_time": "2023-01-17T17:59:03.927Z"
      },
      {
        "duration": 16,
        "start_time": "2023-01-17T17:59:03.988Z"
      },
      {
        "duration": 46,
        "start_time": "2023-01-17T17:59:04.006Z"
      },
      {
        "duration": 57,
        "start_time": "2023-01-17T17:59:04.054Z"
      },
      {
        "duration": 35,
        "start_time": "2023-01-17T17:59:04.112Z"
      },
      {
        "duration": 363,
        "start_time": "2023-01-17T17:59:04.149Z"
      },
      {
        "duration": 25,
        "start_time": "2023-01-17T17:59:04.513Z"
      },
      {
        "duration": 168,
        "start_time": "2023-01-17T17:59:04.540Z"
      },
      {
        "duration": 222,
        "start_time": "2023-01-17T17:59:04.710Z"
      },
      {
        "duration": 148,
        "start_time": "2023-01-17T17:59:04.936Z"
      },
      {
        "duration": 17,
        "start_time": "2023-01-17T17:59:05.085Z"
      },
      {
        "duration": 389,
        "start_time": "2023-01-17T17:59:05.103Z"
      },
      {
        "duration": 21,
        "start_time": "2023-01-17T17:59:05.494Z"
      },
      {
        "duration": 22,
        "start_time": "2023-01-17T17:59:39.625Z"
      },
      {
        "duration": 201,
        "start_time": "2023-01-17T17:59:56.656Z"
      },
      {
        "duration": 370,
        "start_time": "2023-01-17T18:01:26.581Z"
      },
      {
        "duration": 9,
        "start_time": "2023-01-17T18:02:07.154Z"
      },
      {
        "duration": 37,
        "start_time": "2023-01-17T18:02:29.696Z"
      },
      {
        "duration": 13,
        "start_time": "2023-01-17T18:03:00.299Z"
      },
      {
        "duration": 916,
        "start_time": "2023-01-17T18:03:10.541Z"
      },
      {
        "duration": 887,
        "start_time": "2023-01-17T18:04:36.034Z"
      },
      {
        "duration": 983,
        "start_time": "2023-01-17T18:19:29.650Z"
      },
      {
        "duration": 1060,
        "start_time": "2023-01-17T18:19:51.222Z"
      },
      {
        "duration": 959,
        "start_time": "2023-01-17T18:20:41.694Z"
      },
      {
        "duration": 988,
        "start_time": "2023-01-17T18:21:07.906Z"
      },
      {
        "duration": 842,
        "start_time": "2023-01-17T18:23:55.649Z"
      },
      {
        "duration": 732,
        "start_time": "2023-01-17T18:24:35.767Z"
      },
      {
        "duration": 21,
        "start_time": "2023-01-17T18:25:38.651Z"
      },
      {
        "duration": 5,
        "start_time": "2023-01-17T18:26:12.795Z"
      },
      {
        "duration": 1297,
        "start_time": "2023-01-17T18:26:19.855Z"
      },
      {
        "duration": 19,
        "start_time": "2023-01-17T18:26:21.155Z"
      },
      {
        "duration": 28,
        "start_time": "2023-01-17T18:26:21.176Z"
      },
      {
        "duration": 66,
        "start_time": "2023-01-17T18:26:21.206Z"
      },
      {
        "duration": 67,
        "start_time": "2023-01-17T18:26:21.274Z"
      },
      {
        "duration": 17,
        "start_time": "2023-01-17T18:26:21.343Z"
      },
      {
        "duration": 46,
        "start_time": "2023-01-17T18:26:21.361Z"
      },
      {
        "duration": 32,
        "start_time": "2023-01-17T18:26:21.408Z"
      },
      {
        "duration": 40,
        "start_time": "2023-01-17T18:26:21.442Z"
      },
      {
        "duration": 436,
        "start_time": "2023-01-17T18:26:21.485Z"
      },
      {
        "duration": 20,
        "start_time": "2023-01-17T18:26:21.924Z"
      },
      {
        "duration": 286,
        "start_time": "2023-01-17T18:26:21.946Z"
      },
      {
        "duration": 219,
        "start_time": "2023-01-17T18:26:22.237Z"
      },
      {
        "duration": 168,
        "start_time": "2023-01-17T18:26:22.459Z"
      },
      {
        "duration": 388,
        "start_time": "2023-01-17T18:26:22.629Z"
      },
      {
        "duration": 775,
        "start_time": "2023-01-17T18:26:23.019Z"
      },
      {
        "duration": 726,
        "start_time": "2023-01-17T18:27:17.911Z"
      },
      {
        "duration": 735,
        "start_time": "2023-01-17T18:27:57.406Z"
      },
      {
        "duration": 1393,
        "start_time": "2023-01-18T09:10:58.013Z"
      },
      {
        "duration": 19,
        "start_time": "2023-01-18T09:10:59.408Z"
      },
      {
        "duration": 14,
        "start_time": "2023-01-18T09:10:59.429Z"
      },
      {
        "duration": 51,
        "start_time": "2023-01-18T09:10:59.445Z"
      },
      {
        "duration": 73,
        "start_time": "2023-01-18T09:10:59.498Z"
      },
      {
        "duration": 16,
        "start_time": "2023-01-18T09:10:59.572Z"
      },
      {
        "duration": 9,
        "start_time": "2023-01-18T09:10:59.590Z"
      },
      {
        "duration": 30,
        "start_time": "2023-01-18T09:10:59.601Z"
      },
      {
        "duration": 20,
        "start_time": "2023-01-18T09:10:59.632Z"
      },
      {
        "duration": 345,
        "start_time": "2023-01-18T09:10:59.654Z"
      },
      {
        "duration": 21,
        "start_time": "2023-01-18T09:11:00.001Z"
      },
      {
        "duration": 161,
        "start_time": "2023-01-18T09:11:00.024Z"
      },
      {
        "duration": 206,
        "start_time": "2023-01-18T09:11:00.187Z"
      },
      {
        "duration": 148,
        "start_time": "2023-01-18T09:11:00.395Z"
      },
      {
        "duration": 403,
        "start_time": "2023-01-18T09:11:00.545Z"
      },
      {
        "duration": 664,
        "start_time": "2023-01-18T09:11:00.950Z"
      },
      {
        "duration": 72,
        "start_time": "2023-01-18T09:11:27.277Z"
      },
      {
        "duration": 344,
        "start_time": "2023-01-18T09:11:41.549Z"
      },
      {
        "duration": 326,
        "start_time": "2023-01-18T09:12:04.646Z"
      },
      {
        "duration": 215,
        "start_time": "2023-01-18T09:13:15.469Z"
      },
      {
        "duration": 169,
        "start_time": "2023-01-18T09:15:13.845Z"
      },
      {
        "duration": 229,
        "start_time": "2023-01-18T09:15:24.183Z"
      },
      {
        "duration": 682,
        "start_time": "2023-01-18T09:45:05.642Z"
      },
      {
        "duration": 1213,
        "start_time": "2023-01-18T09:45:18.512Z"
      },
      {
        "duration": 18,
        "start_time": "2023-01-18T09:45:19.728Z"
      },
      {
        "duration": 15,
        "start_time": "2023-01-18T09:45:19.748Z"
      },
      {
        "duration": 71,
        "start_time": "2023-01-18T09:45:19.765Z"
      },
      {
        "duration": 54,
        "start_time": "2023-01-18T09:45:19.838Z"
      },
      {
        "duration": 31,
        "start_time": "2023-01-18T09:45:19.893Z"
      },
      {
        "duration": 8,
        "start_time": "2023-01-18T09:45:19.926Z"
      },
      {
        "duration": 12,
        "start_time": "2023-01-18T09:45:19.936Z"
      },
      {
        "duration": 18,
        "start_time": "2023-01-18T09:45:19.950Z"
      },
      {
        "duration": 358,
        "start_time": "2023-01-18T09:45:19.971Z"
      },
      {
        "duration": 14,
        "start_time": "2023-01-18T09:45:20.331Z"
      },
      {
        "duration": 212,
        "start_time": "2023-01-18T09:45:20.347Z"
      },
      {
        "duration": 207,
        "start_time": "2023-01-18T09:45:20.561Z"
      },
      {
        "duration": 145,
        "start_time": "2023-01-18T09:45:20.770Z"
      },
      {
        "duration": 359,
        "start_time": "2023-01-18T09:45:20.922Z"
      },
      {
        "duration": 692,
        "start_time": "2023-01-18T09:45:21.283Z"
      },
      {
        "duration": 251,
        "start_time": "2023-01-18T09:45:43.306Z"
      },
      {
        "duration": 676,
        "start_time": "2023-01-18T09:46:10.239Z"
      },
      {
        "duration": 672,
        "start_time": "2023-01-18T09:47:59.381Z"
      },
      {
        "duration": 700,
        "start_time": "2023-01-18T09:48:44.521Z"
      },
      {
        "duration": 693,
        "start_time": "2023-01-18T09:48:52.740Z"
      },
      {
        "duration": 136,
        "start_time": "2023-01-18T09:49:54.004Z"
      },
      {
        "duration": 1240,
        "start_time": "2023-01-18T09:50:35.792Z"
      },
      {
        "duration": 19,
        "start_time": "2023-01-18T09:50:37.034Z"
      },
      {
        "duration": 17,
        "start_time": "2023-01-18T09:50:37.055Z"
      },
      {
        "duration": 70,
        "start_time": "2023-01-18T09:50:37.074Z"
      },
      {
        "duration": 58,
        "start_time": "2023-01-18T09:50:37.145Z"
      },
      {
        "duration": 27,
        "start_time": "2023-01-18T09:50:37.205Z"
      },
      {
        "duration": 13,
        "start_time": "2023-01-18T09:50:37.234Z"
      },
      {
        "duration": 18,
        "start_time": "2023-01-18T09:50:37.249Z"
      },
      {
        "duration": 19,
        "start_time": "2023-01-18T09:50:37.268Z"
      },
      {
        "duration": 374,
        "start_time": "2023-01-18T09:50:37.290Z"
      },
      {
        "duration": 16,
        "start_time": "2023-01-18T09:50:37.666Z"
      },
      {
        "duration": 227,
        "start_time": "2023-01-18T09:50:37.684Z"
      },
      {
        "duration": 223,
        "start_time": "2023-01-18T09:50:37.913Z"
      },
      {
        "duration": 154,
        "start_time": "2023-01-18T09:50:38.138Z"
      },
      {
        "duration": 397,
        "start_time": "2023-01-18T09:50:38.294Z"
      },
      {
        "duration": 187,
        "start_time": "2023-01-18T09:50:38.694Z"
      },
      {
        "duration": 1324,
        "start_time": "2023-01-18T09:53:14.012Z"
      },
      {
        "duration": 18,
        "start_time": "2023-01-18T09:53:15.339Z"
      },
      {
        "duration": 16,
        "start_time": "2023-01-18T09:53:15.359Z"
      },
      {
        "duration": 70,
        "start_time": "2023-01-18T09:53:15.377Z"
      },
      {
        "duration": 53,
        "start_time": "2023-01-18T09:53:15.448Z"
      },
      {
        "duration": 28,
        "start_time": "2023-01-18T09:53:15.503Z"
      },
      {
        "duration": 10,
        "start_time": "2023-01-18T09:53:15.533Z"
      },
      {
        "duration": 15,
        "start_time": "2023-01-18T09:53:15.544Z"
      },
      {
        "duration": 22,
        "start_time": "2023-01-18T09:53:15.561Z"
      },
      {
        "duration": 386,
        "start_time": "2023-01-18T09:53:15.586Z"
      },
      {
        "duration": 17,
        "start_time": "2023-01-18T09:53:15.974Z"
      },
      {
        "duration": 230,
        "start_time": "2023-01-18T09:53:15.993Z"
      },
      {
        "duration": 214,
        "start_time": "2023-01-18T09:53:16.225Z"
      },
      {
        "duration": 151,
        "start_time": "2023-01-18T09:53:16.441Z"
      },
      {
        "duration": 365,
        "start_time": "2023-01-18T09:53:16.594Z"
      },
      {
        "duration": 176,
        "start_time": "2023-01-18T09:53:16.961Z"
      },
      {
        "duration": 1207,
        "start_time": "2023-01-18T09:53:37.332Z"
      },
      {
        "duration": 19,
        "start_time": "2023-01-18T09:53:38.541Z"
      },
      {
        "duration": 14,
        "start_time": "2023-01-18T09:53:38.562Z"
      },
      {
        "duration": 68,
        "start_time": "2023-01-18T09:53:38.578Z"
      },
      {
        "duration": 53,
        "start_time": "2023-01-18T09:53:38.647Z"
      },
      {
        "duration": 26,
        "start_time": "2023-01-18T09:53:38.702Z"
      },
      {
        "duration": 10,
        "start_time": "2023-01-18T09:53:38.730Z"
      },
      {
        "duration": 15,
        "start_time": "2023-01-18T09:53:38.742Z"
      },
      {
        "duration": 21,
        "start_time": "2023-01-18T09:53:38.759Z"
      },
      {
        "duration": 361,
        "start_time": "2023-01-18T09:53:38.782Z"
      },
      {
        "duration": 16,
        "start_time": "2023-01-18T09:53:39.145Z"
      },
      {
        "duration": 225,
        "start_time": "2023-01-18T09:53:39.162Z"
      },
      {
        "duration": 217,
        "start_time": "2023-01-18T09:53:39.389Z"
      },
      {
        "duration": 156,
        "start_time": "2023-01-18T09:53:39.608Z"
      },
      {
        "duration": 370,
        "start_time": "2023-01-18T09:53:39.765Z"
      },
      {
        "duration": 189,
        "start_time": "2023-01-18T09:53:40.137Z"
      },
      {
        "duration": 183,
        "start_time": "2023-01-18T09:53:52.513Z"
      },
      {
        "duration": 246,
        "start_time": "2023-01-18T09:54:26.681Z"
      },
      {
        "duration": 168,
        "start_time": "2023-01-18T09:54:56.981Z"
      },
      {
        "duration": 6,
        "start_time": "2023-01-18T09:59:34.770Z"
      },
      {
        "duration": 1177,
        "start_time": "2023-01-18T09:59:42.070Z"
      },
      {
        "duration": 18,
        "start_time": "2023-01-18T09:59:43.250Z"
      },
      {
        "duration": 15,
        "start_time": "2023-01-18T09:59:43.270Z"
      },
      {
        "duration": 65,
        "start_time": "2023-01-18T09:59:43.287Z"
      },
      {
        "duration": 51,
        "start_time": "2023-01-18T09:59:43.354Z"
      },
      {
        "duration": 26,
        "start_time": "2023-01-18T09:59:43.406Z"
      },
      {
        "duration": 18,
        "start_time": "2023-01-18T09:59:43.434Z"
      },
      {
        "duration": 8,
        "start_time": "2023-01-18T09:59:43.454Z"
      },
      {
        "duration": 19,
        "start_time": "2023-01-18T09:59:43.464Z"
      },
      {
        "duration": 355,
        "start_time": "2023-01-18T09:59:43.485Z"
      },
      {
        "duration": 16,
        "start_time": "2023-01-18T09:59:43.843Z"
      },
      {
        "duration": 222,
        "start_time": "2023-01-18T09:59:43.861Z"
      },
      {
        "duration": 262,
        "start_time": "2023-01-18T09:59:44.084Z"
      },
      {
        "duration": 150,
        "start_time": "2023-01-18T09:59:44.350Z"
      },
      {
        "duration": 365,
        "start_time": "2023-01-18T09:59:44.502Z"
      },
      {
        "duration": 204,
        "start_time": "2023-01-18T09:59:44.869Z"
      },
      {
        "duration": 192,
        "start_time": "2023-01-18T10:00:28.088Z"
      },
      {
        "duration": 6,
        "start_time": "2023-01-18T10:02:55.639Z"
      },
      {
        "duration": 1164,
        "start_time": "2023-01-18T10:03:02.367Z"
      },
      {
        "duration": 19,
        "start_time": "2023-01-18T10:03:03.533Z"
      },
      {
        "duration": 15,
        "start_time": "2023-01-18T10:03:03.553Z"
      },
      {
        "duration": 71,
        "start_time": "2023-01-18T10:03:03.570Z"
      },
      {
        "duration": 51,
        "start_time": "2023-01-18T10:03:03.643Z"
      },
      {
        "duration": 29,
        "start_time": "2023-01-18T10:03:03.695Z"
      },
      {
        "duration": 13,
        "start_time": "2023-01-18T10:03:03.727Z"
      },
      {
        "duration": 10,
        "start_time": "2023-01-18T10:03:03.742Z"
      },
      {
        "duration": 20,
        "start_time": "2023-01-18T10:03:03.754Z"
      },
      {
        "duration": 381,
        "start_time": "2023-01-18T10:03:03.776Z"
      },
      {
        "duration": 16,
        "start_time": "2023-01-18T10:03:04.160Z"
      },
      {
        "duration": 269,
        "start_time": "2023-01-18T10:03:04.178Z"
      },
      {
        "duration": 224,
        "start_time": "2023-01-18T10:03:04.449Z"
      },
      {
        "duration": 152,
        "start_time": "2023-01-18T10:03:04.676Z"
      },
      {
        "duration": 344,
        "start_time": "2023-01-18T10:03:04.830Z"
      },
      {
        "duration": 185,
        "start_time": "2023-01-18T10:03:05.175Z"
      },
      {
        "duration": 76,
        "start_time": "2023-01-18T10:08:14.715Z"
      },
      {
        "duration": 170,
        "start_time": "2023-01-18T10:08:39.300Z"
      },
      {
        "duration": 206,
        "start_time": "2023-01-18T10:15:57.165Z"
      },
      {
        "duration": 1138,
        "start_time": "2023-01-18T10:18:38.580Z"
      },
      {
        "duration": 18,
        "start_time": "2023-01-18T10:18:39.720Z"
      },
      {
        "duration": 14,
        "start_time": "2023-01-18T10:18:39.739Z"
      },
      {
        "duration": 74,
        "start_time": "2023-01-18T10:18:39.756Z"
      },
      {
        "duration": 59,
        "start_time": "2023-01-18T10:18:39.832Z"
      },
      {
        "duration": 29,
        "start_time": "2023-01-18T10:18:39.893Z"
      },
      {
        "duration": 16,
        "start_time": "2023-01-18T10:18:39.924Z"
      },
      {
        "duration": 13,
        "start_time": "2023-01-18T10:18:39.942Z"
      },
      {
        "duration": 20,
        "start_time": "2023-01-18T10:18:39.957Z"
      },
      {
        "duration": 394,
        "start_time": "2023-01-18T10:18:39.979Z"
      },
      {
        "duration": 16,
        "start_time": "2023-01-18T10:18:40.376Z"
      },
      {
        "duration": 217,
        "start_time": "2023-01-18T10:18:40.393Z"
      },
      {
        "duration": 214,
        "start_time": "2023-01-18T10:18:40.612Z"
      },
      {
        "duration": 150,
        "start_time": "2023-01-18T10:18:40.827Z"
      },
      {
        "duration": 399,
        "start_time": "2023-01-18T10:18:40.978Z"
      },
      {
        "duration": 193,
        "start_time": "2023-01-18T10:18:41.379Z"
      },
      {
        "duration": 70,
        "start_time": "2023-01-18T10:18:41.574Z"
      },
      {
        "duration": 201,
        "start_time": "2023-01-18T10:19:25.369Z"
      },
      {
        "duration": 50,
        "start_time": "2023-01-18T12:57:30.126Z"
      },
      {
        "duration": 1559,
        "start_time": "2023-01-18T12:57:37.431Z"
      },
      {
        "duration": 19,
        "start_time": "2023-01-18T12:57:38.992Z"
      },
      {
        "duration": 15,
        "start_time": "2023-01-18T12:57:39.013Z"
      },
      {
        "duration": 67,
        "start_time": "2023-01-18T12:57:39.030Z"
      },
      {
        "duration": 57,
        "start_time": "2023-01-18T12:57:39.099Z"
      },
      {
        "duration": 34,
        "start_time": "2023-01-18T12:57:39.158Z"
      },
      {
        "duration": 13,
        "start_time": "2023-01-18T12:57:39.194Z"
      },
      {
        "duration": 10,
        "start_time": "2023-01-18T12:57:39.208Z"
      },
      {
        "duration": 18,
        "start_time": "2023-01-18T12:57:39.220Z"
      },
      {
        "duration": 390,
        "start_time": "2023-01-18T12:57:39.241Z"
      },
      {
        "duration": 16,
        "start_time": "2023-01-18T12:57:39.633Z"
      },
      {
        "duration": 224,
        "start_time": "2023-01-18T12:57:39.651Z"
      },
      {
        "duration": 207,
        "start_time": "2023-01-18T12:57:39.880Z"
      },
      {
        "duration": 153,
        "start_time": "2023-01-18T12:57:40.089Z"
      },
      {
        "duration": 421,
        "start_time": "2023-01-18T12:57:40.244Z"
      },
      {
        "duration": 0,
        "start_time": "2023-01-18T12:57:40.667Z"
      },
      {
        "duration": 0,
        "start_time": "2023-01-18T12:57:40.668Z"
      },
      {
        "duration": 377,
        "start_time": "2023-01-18T12:58:09.592Z"
      },
      {
        "duration": 50,
        "start_time": "2023-01-18T16:09:24.009Z"
      },
      {
        "duration": 1577,
        "start_time": "2023-01-18T16:09:30.406Z"
      },
      {
        "duration": 17,
        "start_time": "2023-01-18T16:09:31.985Z"
      },
      {
        "duration": 34,
        "start_time": "2023-01-18T16:09:32.004Z"
      },
      {
        "duration": 54,
        "start_time": "2023-01-18T16:09:32.040Z"
      },
      {
        "duration": 54,
        "start_time": "2023-01-18T16:09:32.096Z"
      },
      {
        "duration": 14,
        "start_time": "2023-01-18T16:09:32.152Z"
      },
      {
        "duration": 33,
        "start_time": "2023-01-18T16:09:32.167Z"
      },
      {
        "duration": 12,
        "start_time": "2023-01-18T16:09:32.201Z"
      },
      {
        "duration": 22,
        "start_time": "2023-01-18T16:09:32.214Z"
      },
      {
        "duration": 318,
        "start_time": "2023-01-18T16:09:32.238Z"
      },
      {
        "duration": 15,
        "start_time": "2023-01-18T16:09:32.558Z"
      },
      {
        "duration": 202,
        "start_time": "2023-01-18T16:09:32.575Z"
      },
      {
        "duration": 209,
        "start_time": "2023-01-18T16:09:32.778Z"
      },
      {
        "duration": 142,
        "start_time": "2023-01-18T16:09:32.989Z"
      },
      {
        "duration": 382,
        "start_time": "2023-01-18T16:09:33.134Z"
      },
      {
        "duration": 173,
        "start_time": "2023-01-18T16:09:33.518Z"
      },
      {
        "duration": 112,
        "start_time": "2023-01-18T16:09:33.693Z"
      },
      {
        "duration": 10,
        "start_time": "2023-01-18T16:09:44.064Z"
      },
      {
        "duration": 10,
        "start_time": "2023-01-18T16:09:53.728Z"
      },
      {
        "duration": 14,
        "start_time": "2023-01-18T16:10:10.023Z"
      },
      {
        "duration": 10189,
        "start_time": "2023-01-18T16:11:32.971Z"
      },
      {
        "duration": 1183,
        "start_time": "2023-01-18T16:11:59.545Z"
      },
      {
        "duration": 1343,
        "start_time": "2023-01-18T16:12:15.096Z"
      },
      {
        "duration": 155,
        "start_time": "2023-01-18T16:12:50.159Z"
      },
      {
        "duration": 131,
        "start_time": "2023-01-18T16:12:57.325Z"
      },
      {
        "duration": 1190,
        "start_time": "2023-01-18T16:13:26.574Z"
      },
      {
        "duration": 17,
        "start_time": "2023-01-18T16:13:27.766Z"
      },
      {
        "duration": 18,
        "start_time": "2023-01-18T16:13:27.784Z"
      },
      {
        "duration": 68,
        "start_time": "2023-01-18T16:13:27.804Z"
      },
      {
        "duration": 52,
        "start_time": "2023-01-18T16:13:27.873Z"
      },
      {
        "duration": 28,
        "start_time": "2023-01-18T16:13:27.927Z"
      },
      {
        "duration": 17,
        "start_time": "2023-01-18T16:13:27.956Z"
      },
      {
        "duration": 15,
        "start_time": "2023-01-18T16:13:27.975Z"
      },
      {
        "duration": 22,
        "start_time": "2023-01-18T16:13:27.992Z"
      },
      {
        "duration": 341,
        "start_time": "2023-01-18T16:13:28.017Z"
      },
      {
        "duration": 16,
        "start_time": "2023-01-18T16:13:28.359Z"
      },
      {
        "duration": 213,
        "start_time": "2023-01-18T16:13:28.377Z"
      },
      {
        "duration": 183,
        "start_time": "2023-01-18T16:13:28.592Z"
      },
      {
        "duration": 140,
        "start_time": "2023-01-18T16:13:28.777Z"
      },
      {
        "duration": 387,
        "start_time": "2023-01-18T16:13:28.919Z"
      },
      {
        "duration": 176,
        "start_time": "2023-01-18T16:13:29.309Z"
      },
      {
        "duration": 987,
        "start_time": "2023-01-18T16:13:29.487Z"
      },
      {
        "duration": 920,
        "start_time": "2023-01-18T16:13:52.844Z"
      },
      {
        "duration": 896,
        "start_time": "2023-01-18T16:15:46.983Z"
      },
      {
        "duration": 168,
        "start_time": "2023-01-18T16:16:42.251Z"
      },
      {
        "duration": 120,
        "start_time": "2023-01-18T16:18:32.735Z"
      },
      {
        "duration": 365,
        "start_time": "2023-01-18T16:18:34.814Z"
      },
      {
        "duration": 159,
        "start_time": "2023-01-18T16:18:37.973Z"
      },
      {
        "duration": 761,
        "start_time": "2023-01-18T16:18:41.157Z"
      },
      {
        "duration": 1013,
        "start_time": "2023-01-18T16:20:33.576Z"
      },
      {
        "duration": 927,
        "start_time": "2023-01-18T16:20:45.087Z"
      },
      {
        "duration": 1685,
        "start_time": "2023-01-18T16:30:28.698Z"
      },
      {
        "duration": 1598,
        "start_time": "2023-01-18T16:30:40.761Z"
      },
      {
        "duration": 20,
        "start_time": "2023-01-18T16:44:04.770Z"
      },
      {
        "duration": 16,
        "start_time": "2023-01-18T16:45:26.057Z"
      },
      {
        "duration": 1112,
        "start_time": "2023-01-18T16:47:17.116Z"
      },
      {
        "duration": 723,
        "start_time": "2023-01-18T16:47:33.302Z"
      },
      {
        "duration": 655,
        "start_time": "2023-01-18T16:47:52.204Z"
      },
      {
        "duration": 651,
        "start_time": "2023-01-18T16:48:41.336Z"
      },
      {
        "duration": 367,
        "start_time": "2023-01-18T16:54:43.110Z"
      },
      {
        "duration": 1194,
        "start_time": "2023-01-18T16:55:03.434Z"
      },
      {
        "duration": 22,
        "start_time": "2023-01-18T16:55:04.631Z"
      },
      {
        "duration": 18,
        "start_time": "2023-01-18T16:55:04.655Z"
      },
      {
        "duration": 76,
        "start_time": "2023-01-18T16:55:04.676Z"
      },
      {
        "duration": 58,
        "start_time": "2023-01-18T16:55:04.755Z"
      },
      {
        "duration": 31,
        "start_time": "2023-01-18T16:55:04.814Z"
      },
      {
        "duration": 25,
        "start_time": "2023-01-18T16:55:04.847Z"
      },
      {
        "duration": 18,
        "start_time": "2023-01-18T16:55:04.874Z"
      },
      {
        "duration": 28,
        "start_time": "2023-01-18T16:55:04.894Z"
      },
      {
        "duration": 378,
        "start_time": "2023-01-18T16:55:04.923Z"
      },
      {
        "duration": 605,
        "start_time": "2023-01-18T16:55:05.303Z"
      },
      {
        "duration": 304,
        "start_time": "2023-01-18T16:55:05.909Z"
      },
      {
        "duration": 16,
        "start_time": "2023-01-18T16:55:06.214Z"
      },
      {
        "duration": 242,
        "start_time": "2023-01-18T16:55:06.244Z"
      },
      {
        "duration": 178,
        "start_time": "2023-01-18T16:55:06.488Z"
      },
      {
        "duration": 131,
        "start_time": "2023-01-18T16:55:06.667Z"
      },
      {
        "duration": 410,
        "start_time": "2023-01-18T16:55:06.800Z"
      },
      {
        "duration": 343,
        "start_time": "2023-01-18T16:55:07.211Z"
      },
      {
        "duration": 823,
        "start_time": "2023-01-18T16:55:07.555Z"
      },
      {
        "duration": 47,
        "start_time": "2023-01-18T16:55:08.380Z"
      },
      {
        "duration": 125,
        "start_time": "2023-01-18T16:56:14.307Z"
      },
      {
        "duration": 19,
        "start_time": "2023-01-18T16:56:20.234Z"
      },
      {
        "duration": 21,
        "start_time": "2023-01-18T16:56:49.460Z"
      },
      {
        "duration": 344,
        "start_time": "2023-01-18T16:58:21.291Z"
      },
      {
        "duration": 328,
        "start_time": "2023-01-18T16:58:32.458Z"
      },
      {
        "duration": 450,
        "start_time": "2023-01-18T16:59:06.563Z"
      },
      {
        "duration": 362,
        "start_time": "2023-01-18T17:06:02.500Z"
      },
      {
        "duration": 440,
        "start_time": "2023-01-18T17:08:27.676Z"
      },
      {
        "duration": 336,
        "start_time": "2023-01-18T17:08:38.300Z"
      },
      {
        "duration": 382,
        "start_time": "2023-01-18T17:08:42.836Z"
      },
      {
        "duration": 339,
        "start_time": "2023-01-18T17:09:10.178Z"
      },
      {
        "duration": 359,
        "start_time": "2023-01-18T17:11:24.325Z"
      },
      {
        "duration": 506,
        "start_time": "2023-01-18T17:11:47.628Z"
      },
      {
        "duration": 415,
        "start_time": "2023-01-18T17:11:52.793Z"
      },
      {
        "duration": 413,
        "start_time": "2023-01-18T17:12:02.873Z"
      },
      {
        "duration": 416,
        "start_time": "2023-01-18T17:12:23.745Z"
      },
      {
        "duration": 453,
        "start_time": "2023-01-18T17:13:18.286Z"
      },
      {
        "duration": 18,
        "start_time": "2023-01-18T17:18:07.226Z"
      },
      {
        "duration": 1123,
        "start_time": "2023-01-18T17:18:15.191Z"
      },
      {
        "duration": 17,
        "start_time": "2023-01-18T17:18:16.316Z"
      },
      {
        "duration": 15,
        "start_time": "2023-01-18T17:18:16.335Z"
      },
      {
        "duration": 49,
        "start_time": "2023-01-18T17:18:16.352Z"
      },
      {
        "duration": 12,
        "start_time": "2023-01-18T17:18:16.402Z"
      },
      {
        "duration": 28,
        "start_time": "2023-01-18T17:18:16.416Z"
      },
      {
        "duration": 10,
        "start_time": "2023-01-18T17:18:16.445Z"
      },
      {
        "duration": 18,
        "start_time": "2023-01-18T17:18:16.456Z"
      },
      {
        "duration": 382,
        "start_time": "2023-01-18T17:18:16.476Z"
      },
      {
        "duration": 14,
        "start_time": "2023-01-18T17:18:16.860Z"
      },
      {
        "duration": 206,
        "start_time": "2023-01-18T17:18:16.875Z"
      },
      {
        "duration": 154,
        "start_time": "2023-01-18T17:18:17.083Z"
      },
      {
        "duration": 137,
        "start_time": "2023-01-18T17:18:17.239Z"
      },
      {
        "duration": 301,
        "start_time": "2023-01-18T17:18:17.377Z"
      },
      {
        "duration": 165,
        "start_time": "2023-01-18T17:18:17.679Z"
      },
      {
        "duration": 835,
        "start_time": "2023-01-18T17:18:17.845Z"
      },
      {
        "duration": 91,
        "start_time": "2023-01-18T17:18:18.682Z"
      },
      {
        "duration": 434,
        "start_time": "2023-01-18T17:27:35.892Z"
      },
      {
        "duration": 341,
        "start_time": "2023-01-18T17:28:15.225Z"
      },
      {
        "duration": 353,
        "start_time": "2023-01-18T17:28:38.506Z"
      },
      {
        "duration": 61,
        "start_time": "2023-01-18T17:33:50.945Z"
      },
      {
        "duration": 268,
        "start_time": "2023-01-18T17:33:59.873Z"
      },
      {
        "duration": 268,
        "start_time": "2023-01-18T17:34:05.392Z"
      },
      {
        "duration": 283,
        "start_time": "2023-01-18T17:36:57.712Z"
      },
      {
        "duration": 168,
        "start_time": "2023-01-18T17:37:53.380Z"
      },
      {
        "duration": 15,
        "start_time": "2023-01-18T17:38:52.354Z"
      },
      {
        "duration": 281,
        "start_time": "2023-01-18T17:39:51.878Z"
      },
      {
        "duration": 181,
        "start_time": "2023-01-18T17:39:58.621Z"
      },
      {
        "duration": 158,
        "start_time": "2023-01-18T17:41:53.320Z"
      },
      {
        "duration": 161,
        "start_time": "2023-01-18T17:41:56.848Z"
      },
      {
        "duration": 3,
        "start_time": "2023-01-18T17:45:25.956Z"
      },
      {
        "duration": 113,
        "start_time": "2023-01-18T17:46:07.715Z"
      },
      {
        "duration": 121,
        "start_time": "2023-01-18T17:47:33.992Z"
      },
      {
        "duration": 7,
        "start_time": "2023-01-18T17:48:04.145Z"
      },
      {
        "duration": 19,
        "start_time": "2023-01-18T17:48:16.677Z"
      },
      {
        "duration": 18,
        "start_time": "2023-01-18T17:48:29.093Z"
      },
      {
        "duration": 9,
        "start_time": "2023-01-18T17:48:43.762Z"
      },
      {
        "duration": 17,
        "start_time": "2023-01-18T17:48:49.715Z"
      },
      {
        "duration": 344,
        "start_time": "2023-01-18T17:50:17.323Z"
      },
      {
        "duration": 305,
        "start_time": "2023-01-18T17:51:05.153Z"
      },
      {
        "duration": 391,
        "start_time": "2023-01-18T17:51:21.785Z"
      },
      {
        "duration": 540,
        "start_time": "2023-01-18T17:51:33.296Z"
      },
      {
        "duration": 328,
        "start_time": "2023-01-18T17:51:48.999Z"
      },
      {
        "duration": 169,
        "start_time": "2023-01-18T17:57:37.734Z"
      },
      {
        "duration": 189,
        "start_time": "2023-01-18T17:57:49.934Z"
      },
      {
        "duration": 176,
        "start_time": "2023-01-18T17:58:08.244Z"
      },
      {
        "duration": 7,
        "start_time": "2023-01-18T17:58:23.523Z"
      },
      {
        "duration": 317,
        "start_time": "2023-01-18T18:00:20.750Z"
      },
      {
        "duration": 332,
        "start_time": "2023-01-18T18:00:33.820Z"
      },
      {
        "duration": 301,
        "start_time": "2023-01-18T18:00:50.770Z"
      },
      {
        "duration": 11,
        "start_time": "2023-01-18T18:02:36.597Z"
      },
      {
        "duration": 162,
        "start_time": "2023-01-18T18:03:36.386Z"
      },
      {
        "duration": 157,
        "start_time": "2023-01-18T18:03:45.978Z"
      },
      {
        "duration": 167,
        "start_time": "2023-01-18T18:05:12.645Z"
      },
      {
        "duration": 257,
        "start_time": "2023-01-18T18:05:29.349Z"
      },
      {
        "duration": 12,
        "start_time": "2023-01-18T18:11:52.194Z"
      },
      {
        "duration": 11,
        "start_time": "2023-01-18T18:12:08.553Z"
      },
      {
        "duration": 5285,
        "start_time": "2023-01-18T18:16:15.847Z"
      },
      {
        "duration": 5479,
        "start_time": "2023-01-18T18:16:49.325Z"
      },
      {
        "duration": 9,
        "start_time": "2023-01-18T18:53:22.197Z"
      },
      {
        "duration": 1570,
        "start_time": "2023-01-18T18:53:28.470Z"
      },
      {
        "duration": 29,
        "start_time": "2023-01-18T18:53:30.043Z"
      },
      {
        "duration": 31,
        "start_time": "2023-01-18T18:53:30.074Z"
      },
      {
        "duration": 75,
        "start_time": "2023-01-18T18:53:30.108Z"
      },
      {
        "duration": 16,
        "start_time": "2023-01-18T18:53:30.185Z"
      },
      {
        "duration": 77,
        "start_time": "2023-01-18T18:53:30.203Z"
      },
      {
        "duration": 56,
        "start_time": "2023-01-18T18:53:30.282Z"
      },
      {
        "duration": 98,
        "start_time": "2023-01-18T18:53:30.340Z"
      },
      {
        "duration": 475,
        "start_time": "2023-01-18T18:53:30.440Z"
      },
      {
        "duration": 136,
        "start_time": "2023-01-18T18:53:30.917Z"
      },
      {
        "duration": 0,
        "start_time": "2023-01-18T18:53:31.055Z"
      },
      {
        "duration": 0,
        "start_time": "2023-01-18T18:53:31.056Z"
      },
      {
        "duration": 0,
        "start_time": "2023-01-18T18:53:31.058Z"
      },
      {
        "duration": 0,
        "start_time": "2023-01-18T18:53:31.059Z"
      },
      {
        "duration": 0,
        "start_time": "2023-01-18T18:53:31.061Z"
      },
      {
        "duration": 0,
        "start_time": "2023-01-18T18:53:31.062Z"
      },
      {
        "duration": 0,
        "start_time": "2023-01-18T18:53:31.064Z"
      },
      {
        "duration": 16,
        "start_time": "2023-01-18T18:54:04.655Z"
      },
      {
        "duration": 1274,
        "start_time": "2023-01-18T18:54:16.778Z"
      },
      {
        "duration": 18,
        "start_time": "2023-01-18T18:54:18.055Z"
      },
      {
        "duration": 14,
        "start_time": "2023-01-18T18:54:18.075Z"
      },
      {
        "duration": 86,
        "start_time": "2023-01-18T18:54:18.091Z"
      },
      {
        "duration": 18,
        "start_time": "2023-01-18T18:54:18.180Z"
      },
      {
        "duration": 14,
        "start_time": "2023-01-18T18:54:18.200Z"
      },
      {
        "duration": 33,
        "start_time": "2023-01-18T18:54:18.216Z"
      },
      {
        "duration": 25,
        "start_time": "2023-01-18T18:54:18.251Z"
      },
      {
        "duration": 447,
        "start_time": "2023-01-18T18:54:18.280Z"
      },
      {
        "duration": 22,
        "start_time": "2023-01-18T18:54:18.729Z"
      },
      {
        "duration": 438,
        "start_time": "2023-01-18T18:54:18.753Z"
      },
      {
        "duration": 242,
        "start_time": "2023-01-18T18:54:19.193Z"
      },
      {
        "duration": 3,
        "start_time": "2023-01-18T18:54:19.441Z"
      },
      {
        "duration": 22,
        "start_time": "2023-01-18T18:54:19.447Z"
      },
      {
        "duration": 339,
        "start_time": "2023-01-18T18:54:19.470Z"
      },
      {
        "duration": 204,
        "start_time": "2023-01-18T18:54:19.812Z"
      },
      {
        "duration": 128,
        "start_time": "2023-01-18T18:54:20.018Z"
      },
      {
        "duration": 285,
        "start_time": "2023-01-18T18:56:08.112Z"
      },
      {
        "duration": 10,
        "start_time": "2023-01-18T18:56:27.917Z"
      },
      {
        "duration": 157,
        "start_time": "2023-01-18T18:57:11.828Z"
      },
      {
        "duration": 341,
        "start_time": "2023-01-18T18:58:25.623Z"
      },
      {
        "duration": 239,
        "start_time": "2023-01-18T19:03:08.689Z"
      },
      {
        "duration": 234,
        "start_time": "2023-01-18T19:03:31.144Z"
      },
      {
        "duration": 212,
        "start_time": "2023-01-18T19:04:00.730Z"
      },
      {
        "duration": 42,
        "start_time": "2023-01-18T19:05:09.260Z"
      },
      {
        "duration": 140,
        "start_time": "2023-01-18T19:05:20.433Z"
      },
      {
        "duration": 188,
        "start_time": "2023-01-18T19:05:30.564Z"
      },
      {
        "duration": 303,
        "start_time": "2023-01-18T19:07:23.214Z"
      },
      {
        "duration": 18,
        "start_time": "2023-01-18T19:14:38.655Z"
      },
      {
        "duration": 18,
        "start_time": "2023-01-18T19:14:55.672Z"
      },
      {
        "duration": 23,
        "start_time": "2023-01-18T19:15:59.781Z"
      },
      {
        "duration": 22,
        "start_time": "2023-01-18T19:16:20.515Z"
      },
      {
        "duration": 22,
        "start_time": "2023-01-18T19:16:26.978Z"
      },
      {
        "duration": 26,
        "start_time": "2023-01-18T19:16:46.626Z"
      },
      {
        "duration": 159,
        "start_time": "2023-01-18T19:17:34.943Z"
      },
      {
        "duration": 74,
        "start_time": "2023-01-18T19:21:55.076Z"
      },
      {
        "duration": 170,
        "start_time": "2023-01-18T19:22:00.553Z"
      },
      {
        "duration": 219,
        "start_time": "2023-01-18T19:25:14.248Z"
      },
      {
        "duration": 246,
        "start_time": "2023-01-18T19:26:08.202Z"
      },
      {
        "duration": 234,
        "start_time": "2023-01-18T19:30:38.320Z"
      },
      {
        "duration": 221,
        "start_time": "2023-01-18T19:33:13.049Z"
      },
      {
        "duration": 1489,
        "start_time": "2023-01-19T05:07:58.467Z"
      },
      {
        "duration": 18,
        "start_time": "2023-01-19T05:07:59.958Z"
      },
      {
        "duration": 17,
        "start_time": "2023-01-19T05:07:59.978Z"
      },
      {
        "duration": 65,
        "start_time": "2023-01-19T05:07:59.998Z"
      },
      {
        "duration": 15,
        "start_time": "2023-01-19T05:08:00.065Z"
      },
      {
        "duration": 16,
        "start_time": "2023-01-19T05:08:00.081Z"
      },
      {
        "duration": 22,
        "start_time": "2023-01-19T05:08:00.099Z"
      },
      {
        "duration": 29,
        "start_time": "2023-01-19T05:08:00.122Z"
      },
      {
        "duration": 385,
        "start_time": "2023-01-19T05:08:00.152Z"
      },
      {
        "duration": 18,
        "start_time": "2023-01-19T05:08:00.540Z"
      },
      {
        "duration": 319,
        "start_time": "2023-01-19T05:08:00.559Z"
      },
      {
        "duration": 196,
        "start_time": "2023-01-19T05:08:00.880Z"
      },
      {
        "duration": 3,
        "start_time": "2023-01-19T05:08:01.078Z"
      },
      {
        "duration": 31,
        "start_time": "2023-01-19T05:08:01.083Z"
      },
      {
        "duration": 408,
        "start_time": "2023-01-19T05:08:01.116Z"
      },
      {
        "duration": 181,
        "start_time": "2023-01-19T05:08:01.526Z"
      },
      {
        "duration": 45,
        "start_time": "2023-01-19T05:08:01.709Z"
      },
      {
        "duration": 0,
        "start_time": "2023-01-19T05:08:01.756Z"
      },
      {
        "duration": 248,
        "start_time": "2023-01-19T05:08:14.168Z"
      },
      {
        "duration": 1141,
        "start_time": "2023-01-19T05:08:55.060Z"
      },
      {
        "duration": 20,
        "start_time": "2023-01-19T05:08:56.203Z"
      },
      {
        "duration": 27,
        "start_time": "2023-01-19T05:08:56.225Z"
      },
      {
        "duration": 63,
        "start_time": "2023-01-19T05:08:56.254Z"
      },
      {
        "duration": 15,
        "start_time": "2023-01-19T05:08:56.320Z"
      },
      {
        "duration": 14,
        "start_time": "2023-01-19T05:08:56.349Z"
      },
      {
        "duration": 9,
        "start_time": "2023-01-19T05:08:56.365Z"
      },
      {
        "duration": 24,
        "start_time": "2023-01-19T05:08:56.376Z"
      },
      {
        "duration": 429,
        "start_time": "2023-01-19T05:08:56.402Z"
      },
      {
        "duration": 20,
        "start_time": "2023-01-19T05:08:56.834Z"
      },
      {
        "duration": 326,
        "start_time": "2023-01-19T05:08:56.856Z"
      },
      {
        "duration": 200,
        "start_time": "2023-01-19T05:08:57.183Z"
      },
      {
        "duration": 3,
        "start_time": "2023-01-19T05:08:57.384Z"
      },
      {
        "duration": 48,
        "start_time": "2023-01-19T05:08:57.390Z"
      },
      {
        "duration": 330,
        "start_time": "2023-01-19T05:08:57.440Z"
      },
      {
        "duration": 183,
        "start_time": "2023-01-19T05:08:57.772Z"
      },
      {
        "duration": 260,
        "start_time": "2023-01-19T05:08:57.956Z"
      },
      {
        "duration": 0,
        "start_time": "2023-01-19T05:08:58.217Z"
      },
      {
        "duration": 169,
        "start_time": "2023-01-19T05:09:48.092Z"
      },
      {
        "duration": 180,
        "start_time": "2023-01-19T05:18:58.980Z"
      },
      {
        "duration": 9,
        "start_time": "2023-01-19T05:22:22.481Z"
      },
      {
        "duration": 12,
        "start_time": "2023-01-19T07:47:19.276Z"
      },
      {
        "duration": 236,
        "start_time": "2023-01-19T07:47:38.917Z"
      },
      {
        "duration": 1174,
        "start_time": "2023-01-19T07:48:58.483Z"
      },
      {
        "duration": 19,
        "start_time": "2023-01-19T07:48:59.663Z"
      },
      {
        "duration": 13,
        "start_time": "2023-01-19T07:48:59.683Z"
      },
      {
        "duration": 63,
        "start_time": "2023-01-19T07:48:59.698Z"
      },
      {
        "duration": 15,
        "start_time": "2023-01-19T07:48:59.766Z"
      },
      {
        "duration": 12,
        "start_time": "2023-01-19T07:48:59.783Z"
      },
      {
        "duration": 9,
        "start_time": "2023-01-19T07:48:59.797Z"
      },
      {
        "duration": 17,
        "start_time": "2023-01-19T07:48:59.807Z"
      },
      {
        "duration": 441,
        "start_time": "2023-01-19T07:48:59.826Z"
      },
      {
        "duration": 16,
        "start_time": "2023-01-19T07:49:00.269Z"
      },
      {
        "duration": 358,
        "start_time": "2023-01-19T07:49:00.287Z"
      },
      {
        "duration": 217,
        "start_time": "2023-01-19T07:49:00.647Z"
      },
      {
        "duration": 3,
        "start_time": "2023-01-19T07:49:00.866Z"
      },
      {
        "duration": 24,
        "start_time": "2023-01-19T07:49:00.870Z"
      },
      {
        "duration": 410,
        "start_time": "2023-01-19T07:49:00.895Z"
      },
      {
        "duration": 204,
        "start_time": "2023-01-19T07:49:01.306Z"
      },
      {
        "duration": 15,
        "start_time": "2023-01-19T07:49:01.511Z"
      },
      {
        "duration": 263,
        "start_time": "2023-01-19T07:49:01.528Z"
      },
      {
        "duration": 200,
        "start_time": "2023-01-19T07:49:48.043Z"
      },
      {
        "duration": 309,
        "start_time": "2023-01-19T07:52:58.520Z"
      },
      {
        "duration": 197,
        "start_time": "2023-01-19T07:53:48.411Z"
      },
      {
        "duration": 10,
        "start_time": "2023-01-19T08:04:17.326Z"
      },
      {
        "duration": 16,
        "start_time": "2023-01-19T08:04:28.806Z"
      },
      {
        "duration": 14,
        "start_time": "2023-01-19T08:04:38.470Z"
      },
      {
        "duration": 19,
        "start_time": "2023-01-19T08:05:20.017Z"
      },
      {
        "duration": 122,
        "start_time": "2023-01-19T08:07:26.713Z"
      },
      {
        "duration": 17,
        "start_time": "2023-01-19T08:07:35.384Z"
      },
      {
        "duration": 15,
        "start_time": "2023-01-19T08:08:12.368Z"
      },
      {
        "duration": 14,
        "start_time": "2023-01-19T08:09:22.000Z"
      },
      {
        "duration": 15,
        "start_time": "2023-01-19T08:09:27.766Z"
      },
      {
        "duration": 12,
        "start_time": "2023-01-19T08:13:24.644Z"
      },
      {
        "duration": 11,
        "start_time": "2023-01-19T08:13:27.684Z"
      },
      {
        "duration": 16,
        "start_time": "2023-01-19T08:13:35.812Z"
      },
      {
        "duration": 15,
        "start_time": "2023-01-19T08:13:49.318Z"
      },
      {
        "duration": 1226,
        "start_time": "2023-01-19T08:19:32.346Z"
      },
      {
        "duration": 23,
        "start_time": "2023-01-19T08:19:33.574Z"
      },
      {
        "duration": 21,
        "start_time": "2023-01-19T08:19:33.599Z"
      },
      {
        "duration": 73,
        "start_time": "2023-01-19T08:19:33.622Z"
      },
      {
        "duration": 14,
        "start_time": "2023-01-19T08:19:33.696Z"
      },
      {
        "duration": 11,
        "start_time": "2023-01-19T08:19:33.712Z"
      },
      {
        "duration": 9,
        "start_time": "2023-01-19T08:19:33.724Z"
      },
      {
        "duration": 34,
        "start_time": "2023-01-19T08:19:33.734Z"
      },
      {
        "duration": 439,
        "start_time": "2023-01-19T08:19:33.771Z"
      },
      {
        "duration": 15,
        "start_time": "2023-01-19T08:19:34.213Z"
      },
      {
        "duration": 341,
        "start_time": "2023-01-19T08:19:34.230Z"
      },
      {
        "duration": 204,
        "start_time": "2023-01-19T08:19:34.573Z"
      },
      {
        "duration": 3,
        "start_time": "2023-01-19T08:19:34.779Z"
      },
      {
        "duration": 14,
        "start_time": "2023-01-19T08:19:34.783Z"
      },
      {
        "duration": 399,
        "start_time": "2023-01-19T08:19:34.798Z"
      },
      {
        "duration": 208,
        "start_time": "2023-01-19T08:19:35.199Z"
      },
      {
        "duration": 15,
        "start_time": "2023-01-19T08:19:35.409Z"
      },
      {
        "duration": 245,
        "start_time": "2023-01-19T08:19:35.426Z"
      },
      {
        "duration": 15,
        "start_time": "2023-01-19T08:19:35.673Z"
      },
      {
        "duration": 14,
        "start_time": "2023-01-19T08:19:35.690Z"
      },
      {
        "duration": 13,
        "start_time": "2023-01-19T08:19:35.706Z"
      },
      {
        "duration": 45,
        "start_time": "2023-01-19T08:19:35.721Z"
      },
      {
        "duration": 33,
        "start_time": "2023-01-19T08:19:35.768Z"
      },
      {
        "duration": 18,
        "start_time": "2023-01-19T08:19:35.803Z"
      },
      {
        "duration": 115,
        "start_time": "2023-01-19T09:20:10.269Z"
      },
      {
        "duration": 17,
        "start_time": "2023-01-19T09:20:37.741Z"
      },
      {
        "duration": 16,
        "start_time": "2023-01-19T09:26:09.635Z"
      },
      {
        "duration": 10,
        "start_time": "2023-01-19T09:26:35.963Z"
      },
      {
        "duration": 16,
        "start_time": "2023-01-19T09:28:09.476Z"
      },
      {
        "duration": 11,
        "start_time": "2023-01-19T09:28:25.644Z"
      },
      {
        "duration": 12,
        "start_time": "2023-01-19T09:28:48.166Z"
      },
      {
        "duration": 12,
        "start_time": "2023-01-19T09:31:21.672Z"
      },
      {
        "duration": 44,
        "start_time": "2023-01-19T09:33:31.552Z"
      },
      {
        "duration": 12,
        "start_time": "2023-01-19T09:33:41.851Z"
      },
      {
        "duration": 62,
        "start_time": "2023-01-19T09:35:42.669Z"
      },
      {
        "duration": 82,
        "start_time": "2023-01-19T09:36:38.408Z"
      },
      {
        "duration": 9,
        "start_time": "2023-01-19T09:37:50.802Z"
      },
      {
        "duration": 10,
        "start_time": "2023-01-19T09:38:19.050Z"
      },
      {
        "duration": 14,
        "start_time": "2023-01-19T09:40:07.232Z"
      },
      {
        "duration": 11,
        "start_time": "2023-01-19T09:40:15.411Z"
      },
      {
        "duration": 1153,
        "start_time": "2023-01-19T09:41:40.887Z"
      },
      {
        "duration": 16,
        "start_time": "2023-01-19T09:41:42.042Z"
      },
      {
        "duration": 13,
        "start_time": "2023-01-19T09:41:42.060Z"
      },
      {
        "duration": 52,
        "start_time": "2023-01-19T09:41:42.075Z"
      },
      {
        "duration": 28,
        "start_time": "2023-01-19T09:41:42.129Z"
      },
      {
        "duration": 17,
        "start_time": "2023-01-19T09:41:42.158Z"
      },
      {
        "duration": 12,
        "start_time": "2023-01-19T09:41:42.177Z"
      },
      {
        "duration": 17,
        "start_time": "2023-01-19T09:41:42.190Z"
      },
      {
        "duration": 416,
        "start_time": "2023-01-19T09:41:42.209Z"
      },
      {
        "duration": 27,
        "start_time": "2023-01-19T09:41:42.629Z"
      },
      {
        "duration": 320,
        "start_time": "2023-01-19T09:41:42.658Z"
      },
      {
        "duration": 199,
        "start_time": "2023-01-19T09:41:42.980Z"
      },
      {
        "duration": 2,
        "start_time": "2023-01-19T09:41:43.181Z"
      },
      {
        "duration": 10,
        "start_time": "2023-01-19T09:41:43.185Z"
      },
      {
        "duration": 368,
        "start_time": "2023-01-19T09:41:43.196Z"
      },
      {
        "duration": 196,
        "start_time": "2023-01-19T09:41:43.566Z"
      },
      {
        "duration": 16,
        "start_time": "2023-01-19T09:41:43.765Z"
      },
      {
        "duration": 245,
        "start_time": "2023-01-19T09:41:43.782Z"
      },
      {
        "duration": 22,
        "start_time": "2023-01-19T09:41:44.028Z"
      },
      {
        "duration": 10,
        "start_time": "2023-01-19T09:41:44.051Z"
      },
      {
        "duration": 13,
        "start_time": "2023-01-19T09:41:44.062Z"
      },
      {
        "duration": 12,
        "start_time": "2023-01-19T09:41:44.076Z"
      },
      {
        "duration": 9,
        "start_time": "2023-01-19T09:41:44.090Z"
      },
      {
        "duration": 12,
        "start_time": "2023-01-19T09:41:44.100Z"
      },
      {
        "duration": 47,
        "start_time": "2023-01-19T09:41:44.113Z"
      },
      {
        "duration": 13,
        "start_time": "2023-01-19T09:41:44.162Z"
      },
      {
        "duration": 11,
        "start_time": "2023-01-19T09:42:19.181Z"
      },
      {
        "duration": 1201,
        "start_time": "2023-01-19T09:44:03.041Z"
      },
      {
        "duration": 17,
        "start_time": "2023-01-19T09:44:04.244Z"
      },
      {
        "duration": 14,
        "start_time": "2023-01-19T09:44:04.263Z"
      },
      {
        "duration": 49,
        "start_time": "2023-01-19T09:44:04.279Z"
      },
      {
        "duration": 23,
        "start_time": "2023-01-19T09:44:04.330Z"
      },
      {
        "duration": 17,
        "start_time": "2023-01-19T09:44:04.355Z"
      },
      {
        "duration": 9,
        "start_time": "2023-01-19T09:44:04.373Z"
      },
      {
        "duration": 17,
        "start_time": "2023-01-19T09:44:04.384Z"
      },
      {
        "duration": 413,
        "start_time": "2023-01-19T09:44:04.402Z"
      },
      {
        "duration": 16,
        "start_time": "2023-01-19T09:44:04.818Z"
      },
      {
        "duration": 332,
        "start_time": "2023-01-19T09:44:04.836Z"
      },
      {
        "duration": 210,
        "start_time": "2023-01-19T09:44:05.170Z"
      },
      {
        "duration": 3,
        "start_time": "2023-01-19T09:44:05.382Z"
      },
      {
        "duration": 23,
        "start_time": "2023-01-19T09:44:05.387Z"
      },
      {
        "duration": 389,
        "start_time": "2023-01-19T09:44:05.412Z"
      },
      {
        "duration": 201,
        "start_time": "2023-01-19T09:44:05.803Z"
      },
      {
        "duration": 15,
        "start_time": "2023-01-19T09:44:06.006Z"
      },
      {
        "duration": 217,
        "start_time": "2023-01-19T09:44:06.023Z"
      },
      {
        "duration": 19,
        "start_time": "2023-01-19T09:44:06.242Z"
      },
      {
        "duration": 28,
        "start_time": "2023-01-19T09:44:06.263Z"
      },
      {
        "duration": 17,
        "start_time": "2023-01-19T09:44:06.293Z"
      },
      {
        "duration": 29,
        "start_time": "2023-01-19T09:44:06.312Z"
      },
      {
        "duration": 26,
        "start_time": "2023-01-19T09:44:06.342Z"
      },
      {
        "duration": 18,
        "start_time": "2023-01-19T09:44:06.370Z"
      },
      {
        "duration": 13,
        "start_time": "2023-01-19T09:44:06.390Z"
      },
      {
        "duration": 13,
        "start_time": "2023-01-19T09:44:06.404Z"
      },
      {
        "duration": 13,
        "start_time": "2023-01-19T09:44:06.419Z"
      },
      {
        "duration": 13,
        "start_time": "2023-01-19T09:52:39.033Z"
      },
      {
        "duration": 14,
        "start_time": "2023-01-19T10:00:47.303Z"
      },
      {
        "duration": 14,
        "start_time": "2023-01-19T10:06:22.271Z"
      },
      {
        "duration": 302,
        "start_time": "2023-01-19T10:19:56.196Z"
      },
      {
        "duration": 176,
        "start_time": "2023-01-19T10:22:17.742Z"
      },
      {
        "duration": 18,
        "start_time": "2023-01-19T10:22:57.243Z"
      },
      {
        "duration": 16,
        "start_time": "2023-01-19T10:24:32.501Z"
      },
      {
        "duration": 17,
        "start_time": "2023-01-19T10:25:27.919Z"
      },
      {
        "duration": 226,
        "start_time": "2023-01-19T10:26:32.689Z"
      },
      {
        "duration": 151,
        "start_time": "2023-01-19T10:27:07.583Z"
      },
      {
        "duration": 139,
        "start_time": "2023-01-19T10:27:24.691Z"
      },
      {
        "duration": 155,
        "start_time": "2023-01-19T10:27:44.836Z"
      },
      {
        "duration": 1824,
        "start_time": "2023-01-19T15:35:18.955Z"
      },
      {
        "duration": 20,
        "start_time": "2023-01-19T15:35:20.782Z"
      },
      {
        "duration": 21,
        "start_time": "2023-01-19T15:35:20.804Z"
      },
      {
        "duration": 78,
        "start_time": "2023-01-19T15:35:20.828Z"
      },
      {
        "duration": 19,
        "start_time": "2023-01-19T15:35:20.907Z"
      },
      {
        "duration": 25,
        "start_time": "2023-01-19T15:35:20.928Z"
      },
      {
        "duration": 12,
        "start_time": "2023-01-19T15:35:20.955Z"
      },
      {
        "duration": 43,
        "start_time": "2023-01-19T15:35:20.968Z"
      },
      {
        "duration": 459,
        "start_time": "2023-01-19T15:35:21.013Z"
      },
      {
        "duration": 23,
        "start_time": "2023-01-19T15:35:21.476Z"
      },
      {
        "duration": 401,
        "start_time": "2023-01-19T15:35:21.501Z"
      },
      {
        "duration": 257,
        "start_time": "2023-01-19T15:35:21.904Z"
      },
      {
        "duration": 4,
        "start_time": "2023-01-19T15:35:22.163Z"
      },
      {
        "duration": 22,
        "start_time": "2023-01-19T15:35:22.169Z"
      },
      {
        "duration": 453,
        "start_time": "2023-01-19T15:35:22.193Z"
      },
      {
        "duration": 217,
        "start_time": "2023-01-19T15:35:22.648Z"
      },
      {
        "duration": 30,
        "start_time": "2023-01-19T15:35:22.867Z"
      },
      {
        "duration": 250,
        "start_time": "2023-01-19T15:35:22.899Z"
      },
      {
        "duration": 16,
        "start_time": "2023-01-19T15:35:23.151Z"
      },
      {
        "duration": 35,
        "start_time": "2023-01-19T15:35:23.168Z"
      },
      {
        "duration": 21,
        "start_time": "2023-01-19T15:35:23.205Z"
      },
      {
        "duration": 185,
        "start_time": "2023-01-19T15:35:23.228Z"
      },
      {
        "duration": 16,
        "start_time": "2023-01-19T15:35:23.416Z"
      },
      {
        "duration": 15,
        "start_time": "2023-01-19T15:35:23.434Z"
      },
      {
        "duration": 41,
        "start_time": "2023-01-19T15:35:23.451Z"
      },
      {
        "duration": 299,
        "start_time": "2023-01-19T15:35:23.494Z"
      },
      {
        "duration": 16,
        "start_time": "2023-01-19T15:35:23.795Z"
      },
      {
        "duration": 13,
        "start_time": "2023-01-19T15:35:23.814Z"
      },
      {
        "duration": 15,
        "start_time": "2023-01-19T15:35:23.829Z"
      },
      {
        "duration": 209,
        "start_time": "2023-01-19T15:35:23.846Z"
      },
      {
        "duration": 61,
        "start_time": "2023-01-19T15:41:54.116Z"
      },
      {
        "duration": 52,
        "start_time": "2023-01-19T15:42:55.477Z"
      },
      {
        "duration": 58,
        "start_time": "2023-01-19T15:43:18.675Z"
      },
      {
        "duration": 43,
        "start_time": "2023-01-19T15:43:24.066Z"
      },
      {
        "duration": 216,
        "start_time": "2023-01-19T15:51:08.327Z"
      },
      {
        "duration": 202,
        "start_time": "2023-01-19T15:51:25.091Z"
      },
      {
        "duration": 16,
        "start_time": "2023-01-19T16:07:23.189Z"
      },
      {
        "duration": 16,
        "start_time": "2023-01-19T16:08:02.660Z"
      },
      {
        "duration": 1309,
        "start_time": "2023-01-19T16:08:36.412Z"
      },
      {
        "duration": 19,
        "start_time": "2023-01-19T16:08:37.724Z"
      },
      {
        "duration": 34,
        "start_time": "2023-01-19T16:08:37.745Z"
      },
      {
        "duration": 68,
        "start_time": "2023-01-19T16:08:37.782Z"
      },
      {
        "duration": 17,
        "start_time": "2023-01-19T16:08:37.852Z"
      },
      {
        "duration": 33,
        "start_time": "2023-01-19T16:08:37.871Z"
      },
      {
        "duration": 18,
        "start_time": "2023-01-19T16:08:37.906Z"
      },
      {
        "duration": 57,
        "start_time": "2023-01-19T16:08:37.926Z"
      },
      {
        "duration": 463,
        "start_time": "2023-01-19T16:08:37.985Z"
      },
      {
        "duration": 16,
        "start_time": "2023-01-19T16:08:38.450Z"
      },
      {
        "duration": 352,
        "start_time": "2023-01-19T16:08:38.468Z"
      },
      {
        "duration": 232,
        "start_time": "2023-01-19T16:08:38.822Z"
      },
      {
        "duration": 3,
        "start_time": "2023-01-19T16:08:39.056Z"
      },
      {
        "duration": 55,
        "start_time": "2023-01-19T16:08:39.062Z"
      },
      {
        "duration": 444,
        "start_time": "2023-01-19T16:08:39.119Z"
      },
      {
        "duration": 284,
        "start_time": "2023-01-19T16:08:39.566Z"
      },
      {
        "duration": 61,
        "start_time": "2023-01-19T16:08:39.853Z"
      },
      {
        "duration": 285,
        "start_time": "2023-01-19T16:08:39.917Z"
      },
      {
        "duration": 18,
        "start_time": "2023-01-19T16:08:40.204Z"
      },
      {
        "duration": 34,
        "start_time": "2023-01-19T16:08:40.224Z"
      },
      {
        "duration": 26,
        "start_time": "2023-01-19T16:08:40.261Z"
      },
      {
        "duration": 226,
        "start_time": "2023-01-19T16:08:40.290Z"
      },
      {
        "duration": 16,
        "start_time": "2023-01-19T16:08:40.519Z"
      },
      {
        "duration": 18,
        "start_time": "2023-01-19T16:08:40.538Z"
      },
      {
        "duration": 39,
        "start_time": "2023-01-19T16:08:40.558Z"
      },
      {
        "duration": 309,
        "start_time": "2023-01-19T16:08:40.599Z"
      },
      {
        "duration": 17,
        "start_time": "2023-01-19T16:08:40.910Z"
      },
      {
        "duration": 34,
        "start_time": "2023-01-19T16:08:40.929Z"
      },
      {
        "duration": 34,
        "start_time": "2023-01-19T16:08:40.966Z"
      },
      {
        "duration": 204,
        "start_time": "2023-01-19T16:08:41.001Z"
      },
      {
        "duration": 21,
        "start_time": "2023-01-19T16:08:41.207Z"
      },
      {
        "duration": 35,
        "start_time": "2023-01-19T16:08:41.230Z"
      },
      {
        "duration": 34,
        "start_time": "2023-01-19T16:08:41.267Z"
      },
      {
        "duration": 232,
        "start_time": "2023-01-19T16:08:41.303Z"
      },
      {
        "duration": 3,
        "start_time": "2023-01-19T16:16:11.227Z"
      },
      {
        "duration": 1437,
        "start_time": "2023-01-19T16:21:48.391Z"
      },
      {
        "duration": 40,
        "start_time": "2023-01-19T16:21:49.833Z"
      },
      {
        "duration": 35,
        "start_time": "2023-01-19T16:21:49.885Z"
      },
      {
        "duration": 152,
        "start_time": "2023-01-19T16:21:49.922Z"
      },
      {
        "duration": 22,
        "start_time": "2023-01-19T16:21:50.077Z"
      },
      {
        "duration": 39,
        "start_time": "2023-01-19T16:21:50.101Z"
      },
      {
        "duration": 13,
        "start_time": "2023-01-19T16:21:50.142Z"
      },
      {
        "duration": 30,
        "start_time": "2023-01-19T16:21:50.158Z"
      },
      {
        "duration": 558,
        "start_time": "2023-01-19T16:21:50.191Z"
      },
      {
        "duration": 23,
        "start_time": "2023-01-19T16:21:50.752Z"
      },
      {
        "duration": 438,
        "start_time": "2023-01-19T16:21:50.786Z"
      },
      {
        "duration": 341,
        "start_time": "2023-01-19T16:21:51.227Z"
      },
      {
        "duration": 4,
        "start_time": "2023-01-19T16:21:51.570Z"
      },
      {
        "duration": 13,
        "start_time": "2023-01-19T16:21:51.588Z"
      },
      {
        "duration": 445,
        "start_time": "2023-01-19T16:21:51.604Z"
      },
      {
        "duration": 272,
        "start_time": "2023-01-19T16:21:52.054Z"
      },
      {
        "duration": 67,
        "start_time": "2023-01-19T16:21:52.329Z"
      },
      {
        "duration": 344,
        "start_time": "2023-01-19T16:21:52.399Z"
      },
      {
        "duration": 23,
        "start_time": "2023-01-19T16:21:52.745Z"
      },
      {
        "duration": 19,
        "start_time": "2023-01-19T16:21:52.785Z"
      },
      {
        "duration": 21,
        "start_time": "2023-01-19T16:21:52.806Z"
      },
      {
        "duration": 324,
        "start_time": "2023-01-19T16:21:52.829Z"
      },
      {
        "duration": 31,
        "start_time": "2023-01-19T16:21:53.155Z"
      },
      {
        "duration": 18,
        "start_time": "2023-01-19T16:21:53.188Z"
      },
      {
        "duration": 23,
        "start_time": "2023-01-19T16:21:53.208Z"
      },
      {
        "duration": 375,
        "start_time": "2023-01-19T16:21:53.234Z"
      },
      {
        "duration": 19,
        "start_time": "2023-01-19T16:21:53.612Z"
      },
      {
        "duration": 37,
        "start_time": "2023-01-19T16:21:53.633Z"
      },
      {
        "duration": 21,
        "start_time": "2023-01-19T16:21:53.673Z"
      },
      {
        "duration": 273,
        "start_time": "2023-01-19T16:21:53.697Z"
      },
      {
        "duration": 36,
        "start_time": "2023-01-19T16:21:53.973Z"
      },
      {
        "duration": 26,
        "start_time": "2023-01-19T16:21:54.012Z"
      },
      {
        "duration": 53,
        "start_time": "2023-01-19T16:21:54.041Z"
      },
      {
        "duration": 326,
        "start_time": "2023-01-19T16:21:54.096Z"
      },
      {
        "duration": 12,
        "start_time": "2023-01-19T16:21:54.424Z"
      },
      {
        "duration": 9,
        "start_time": "2023-01-19T16:25:56.781Z"
      },
      {
        "duration": 13,
        "start_time": "2023-01-19T16:26:04.987Z"
      },
      {
        "duration": 15,
        "start_time": "2023-01-19T16:26:34.843Z"
      },
      {
        "duration": 15,
        "start_time": "2023-01-19T16:26:44.097Z"
      },
      {
        "duration": 16,
        "start_time": "2023-01-19T16:26:58.752Z"
      },
      {
        "duration": 16,
        "start_time": "2023-01-19T16:33:11.342Z"
      },
      {
        "duration": 15,
        "start_time": "2023-01-19T16:34:18.787Z"
      },
      {
        "duration": 6,
        "start_time": "2023-01-19T16:35:40.115Z"
      },
      {
        "duration": 6,
        "start_time": "2023-01-19T16:38:32.289Z"
      },
      {
        "duration": 5,
        "start_time": "2023-01-19T16:38:38.913Z"
      },
      {
        "duration": 5,
        "start_time": "2023-01-19T16:38:43.721Z"
      },
      {
        "duration": 14,
        "start_time": "2023-01-19T16:50:13.734Z"
      },
      {
        "duration": 18,
        "start_time": "2023-01-19T16:59:20.657Z"
      },
      {
        "duration": 16,
        "start_time": "2023-01-19T16:59:24.473Z"
      },
      {
        "duration": 17,
        "start_time": "2023-01-19T16:59:28.961Z"
      },
      {
        "duration": 15,
        "start_time": "2023-01-19T16:59:33.311Z"
      },
      {
        "duration": 1350,
        "start_time": "2023-01-19T16:59:41.095Z"
      },
      {
        "duration": 22,
        "start_time": "2023-01-19T16:59:42.447Z"
      },
      {
        "duration": 25,
        "start_time": "2023-01-19T16:59:42.471Z"
      },
      {
        "duration": 61,
        "start_time": "2023-01-19T16:59:42.499Z"
      },
      {
        "duration": 33,
        "start_time": "2023-01-19T16:59:42.562Z"
      },
      {
        "duration": 12,
        "start_time": "2023-01-19T16:59:42.596Z"
      },
      {
        "duration": 19,
        "start_time": "2023-01-19T16:59:42.610Z"
      },
      {
        "duration": 22,
        "start_time": "2023-01-19T16:59:42.631Z"
      },
      {
        "duration": 506,
        "start_time": "2023-01-19T16:59:42.655Z"
      },
      {
        "duration": 28,
        "start_time": "2023-01-19T16:59:43.164Z"
      },
      {
        "duration": 342,
        "start_time": "2023-01-19T16:59:43.194Z"
      },
      {
        "duration": 272,
        "start_time": "2023-01-19T16:59:43.538Z"
      },
      {
        "duration": 3,
        "start_time": "2023-01-19T16:59:43.812Z"
      },
      {
        "duration": 13,
        "start_time": "2023-01-19T16:59:43.817Z"
      },
      {
        "duration": 414,
        "start_time": "2023-01-19T16:59:43.832Z"
      },
      {
        "duration": 224,
        "start_time": "2023-01-19T16:59:44.248Z"
      },
      {
        "duration": 45,
        "start_time": "2023-01-19T16:59:44.474Z"
      },
      {
        "duration": 258,
        "start_time": "2023-01-19T16:59:44.521Z"
      },
      {
        "duration": 15,
        "start_time": "2023-01-19T16:59:44.784Z"
      },
      {
        "duration": 23,
        "start_time": "2023-01-19T16:59:44.801Z"
      },
      {
        "duration": 16,
        "start_time": "2023-01-19T16:59:44.826Z"
      },
      {
        "duration": 218,
        "start_time": "2023-01-19T16:59:44.844Z"
      },
      {
        "duration": 24,
        "start_time": "2023-01-19T16:59:45.064Z"
      },
      {
        "duration": 14,
        "start_time": "2023-01-19T16:59:45.090Z"
      },
      {
        "duration": 15,
        "start_time": "2023-01-19T16:59:45.106Z"
      },
      {
        "duration": 310,
        "start_time": "2023-01-19T16:59:45.123Z"
      },
      {
        "duration": 16,
        "start_time": "2023-01-19T16:59:45.435Z"
      },
      {
        "duration": 30,
        "start_time": "2023-01-19T16:59:45.454Z"
      },
      {
        "duration": 19,
        "start_time": "2023-01-19T16:59:45.486Z"
      },
      {
        "duration": 222,
        "start_time": "2023-01-19T16:59:45.507Z"
      },
      {
        "duration": 16,
        "start_time": "2023-01-19T16:59:45.731Z"
      },
      {
        "duration": 18,
        "start_time": "2023-01-19T16:59:45.749Z"
      },
      {
        "duration": 16,
        "start_time": "2023-01-19T16:59:45.785Z"
      },
      {
        "duration": 213,
        "start_time": "2023-01-19T16:59:45.802Z"
      },
      {
        "duration": 15,
        "start_time": "2023-01-19T16:59:46.017Z"
      },
      {
        "duration": 22,
        "start_time": "2023-01-19T16:59:46.034Z"
      },
      {
        "duration": 2,
        "start_time": "2023-01-19T17:14:03.517Z"
      },
      {
        "duration": 1423,
        "start_time": "2023-01-19T19:07:42.352Z"
      },
      {
        "duration": 21,
        "start_time": "2023-01-19T19:07:43.777Z"
      },
      {
        "duration": 23,
        "start_time": "2023-01-19T19:07:43.800Z"
      },
      {
        "duration": 75,
        "start_time": "2023-01-19T19:07:43.825Z"
      },
      {
        "duration": 16,
        "start_time": "2023-01-19T19:07:43.902Z"
      },
      {
        "duration": 15,
        "start_time": "2023-01-19T19:07:43.920Z"
      },
      {
        "duration": 25,
        "start_time": "2023-01-19T19:07:43.937Z"
      },
      {
        "duration": 35,
        "start_time": "2023-01-19T19:07:43.965Z"
      },
      {
        "duration": 457,
        "start_time": "2023-01-19T19:07:44.002Z"
      },
      {
        "duration": 32,
        "start_time": "2023-01-19T19:07:44.461Z"
      },
      {
        "duration": 349,
        "start_time": "2023-01-19T19:07:44.495Z"
      },
      {
        "duration": 232,
        "start_time": "2023-01-19T19:07:44.846Z"
      },
      {
        "duration": 4,
        "start_time": "2023-01-19T19:07:45.080Z"
      },
      {
        "duration": 10,
        "start_time": "2023-01-19T19:07:45.089Z"
      },
      {
        "duration": 408,
        "start_time": "2023-01-19T19:07:45.101Z"
      },
      {
        "duration": 255,
        "start_time": "2023-01-19T19:07:45.511Z"
      },
      {
        "duration": 56,
        "start_time": "2023-01-19T19:07:45.768Z"
      },
      {
        "duration": 258,
        "start_time": "2023-01-19T19:07:45.827Z"
      },
      {
        "duration": 19,
        "start_time": "2023-01-19T19:07:46.087Z"
      },
      {
        "duration": 20,
        "start_time": "2023-01-19T19:07:46.108Z"
      },
      {
        "duration": 17,
        "start_time": "2023-01-19T19:07:46.130Z"
      },
      {
        "duration": 235,
        "start_time": "2023-01-19T19:07:46.149Z"
      },
      {
        "duration": 17,
        "start_time": "2023-01-19T19:07:46.386Z"
      },
      {
        "duration": 14,
        "start_time": "2023-01-19T19:07:46.405Z"
      },
      {
        "duration": 25,
        "start_time": "2023-01-19T19:07:46.421Z"
      },
      {
        "duration": 325,
        "start_time": "2023-01-19T19:07:46.448Z"
      },
      {
        "duration": 26,
        "start_time": "2023-01-19T19:07:46.775Z"
      },
      {
        "duration": 23,
        "start_time": "2023-01-19T19:07:46.804Z"
      },
      {
        "duration": 19,
        "start_time": "2023-01-19T19:07:46.829Z"
      },
      {
        "duration": 234,
        "start_time": "2023-01-19T19:07:46.850Z"
      },
      {
        "duration": 20,
        "start_time": "2023-01-19T19:07:47.086Z"
      },
      {
        "duration": 17,
        "start_time": "2023-01-19T19:07:47.108Z"
      },
      {
        "duration": 20,
        "start_time": "2023-01-19T19:07:47.127Z"
      },
      {
        "duration": 279,
        "start_time": "2023-01-19T19:07:47.149Z"
      },
      {
        "duration": 15,
        "start_time": "2023-01-19T19:07:47.430Z"
      },
      {
        "duration": 37,
        "start_time": "2023-01-19T19:07:47.447Z"
      },
      {
        "duration": 1183,
        "start_time": "2023-01-19T20:16:32.648Z"
      },
      {
        "duration": 17,
        "start_time": "2023-01-19T20:16:33.832Z"
      },
      {
        "duration": 12,
        "start_time": "2023-01-19T20:16:33.851Z"
      },
      {
        "duration": 49,
        "start_time": "2023-01-19T20:16:33.865Z"
      },
      {
        "duration": 13,
        "start_time": "2023-01-19T20:16:33.915Z"
      },
      {
        "duration": 31,
        "start_time": "2023-01-19T20:16:33.930Z"
      },
      {
        "duration": 10,
        "start_time": "2023-01-19T20:16:33.963Z"
      },
      {
        "duration": 17,
        "start_time": "2023-01-19T20:16:33.975Z"
      },
      {
        "duration": 390,
        "start_time": "2023-01-19T20:16:33.994Z"
      },
      {
        "duration": 15,
        "start_time": "2023-01-19T20:16:34.386Z"
      },
      {
        "duration": 314,
        "start_time": "2023-01-19T20:16:34.403Z"
      },
      {
        "duration": 188,
        "start_time": "2023-01-19T20:16:34.719Z"
      },
      {
        "duration": 2,
        "start_time": "2023-01-19T20:16:34.909Z"
      },
      {
        "duration": 11,
        "start_time": "2023-01-19T20:16:34.913Z"
      },
      {
        "duration": 361,
        "start_time": "2023-01-19T20:16:34.925Z"
      },
      {
        "duration": 191,
        "start_time": "2023-01-19T20:16:35.287Z"
      },
      {
        "duration": 45,
        "start_time": "2023-01-19T20:16:35.479Z"
      },
      {
        "duration": 223,
        "start_time": "2023-01-19T20:16:35.526Z"
      },
      {
        "duration": 14,
        "start_time": "2023-01-19T20:16:35.750Z"
      },
      {
        "duration": 16,
        "start_time": "2023-01-19T20:16:35.765Z"
      },
      {
        "duration": 14,
        "start_time": "2023-01-19T20:16:35.782Z"
      },
      {
        "duration": 196,
        "start_time": "2023-01-19T20:16:35.798Z"
      },
      {
        "duration": 14,
        "start_time": "2023-01-19T20:16:35.996Z"
      },
      {
        "duration": 18,
        "start_time": "2023-01-19T20:16:36.012Z"
      },
      {
        "duration": 31,
        "start_time": "2023-01-19T20:16:36.031Z"
      },
      {
        "duration": 247,
        "start_time": "2023-01-19T20:16:36.063Z"
      },
      {
        "duration": 14,
        "start_time": "2023-01-19T20:16:36.312Z"
      },
      {
        "duration": 27,
        "start_time": "2023-01-19T20:16:36.329Z"
      },
      {
        "duration": 13,
        "start_time": "2023-01-19T20:16:36.358Z"
      },
      {
        "duration": 181,
        "start_time": "2023-01-19T20:16:36.372Z"
      },
      {
        "duration": 14,
        "start_time": "2023-01-19T20:16:36.555Z"
      },
      {
        "duration": 15,
        "start_time": "2023-01-19T20:16:36.570Z"
      },
      {
        "duration": 13,
        "start_time": "2023-01-19T20:16:36.586Z"
      },
      {
        "duration": 203,
        "start_time": "2023-01-19T20:16:36.601Z"
      },
      {
        "duration": 14,
        "start_time": "2023-01-19T20:16:36.806Z"
      },
      {
        "duration": 14,
        "start_time": "2023-01-19T20:16:36.821Z"
      },
      {
        "duration": 1272,
        "start_time": "2023-01-19T21:09:48.453Z"
      },
      {
        "duration": 194,
        "start_time": "2023-01-19T21:09:49.727Z"
      },
      {
        "duration": 22,
        "start_time": "2023-01-19T21:09:49.923Z"
      },
      {
        "duration": 16,
        "start_time": "2023-01-19T21:09:49.947Z"
      },
      {
        "duration": 59,
        "start_time": "2023-01-19T21:09:49.964Z"
      },
      {
        "duration": 26,
        "start_time": "2023-01-19T21:09:50.025Z"
      },
      {
        "duration": 13,
        "start_time": "2023-01-19T21:09:50.053Z"
      },
      {
        "duration": 10,
        "start_time": "2023-01-19T21:09:50.067Z"
      },
      {
        "duration": 21,
        "start_time": "2023-01-19T21:09:50.079Z"
      },
      {
        "duration": 491,
        "start_time": "2023-01-19T21:09:50.104Z"
      },
      {
        "duration": 20,
        "start_time": "2023-01-19T21:09:50.598Z"
      },
      {
        "duration": 417,
        "start_time": "2023-01-19T21:09:50.620Z"
      },
      {
        "duration": 220,
        "start_time": "2023-01-19T21:09:51.039Z"
      },
      {
        "duration": 4,
        "start_time": "2023-01-19T21:09:51.261Z"
      },
      {
        "duration": 32,
        "start_time": "2023-01-19T21:09:51.267Z"
      },
      {
        "duration": 395,
        "start_time": "2023-01-19T21:09:51.301Z"
      },
      {
        "duration": 199,
        "start_time": "2023-01-19T21:09:51.698Z"
      },
      {
        "duration": 52,
        "start_time": "2023-01-19T21:09:51.899Z"
      },
      {
        "duration": 213,
        "start_time": "2023-01-19T21:09:51.953Z"
      },
      {
        "duration": 12,
        "start_time": "2023-01-19T21:09:52.168Z"
      },
      {
        "duration": 15,
        "start_time": "2023-01-19T21:09:52.182Z"
      },
      {
        "duration": 17,
        "start_time": "2023-01-19T21:09:52.199Z"
      },
      {
        "duration": 193,
        "start_time": "2023-01-19T21:09:52.218Z"
      },
      {
        "duration": 13,
        "start_time": "2023-01-19T21:09:52.412Z"
      },
      {
        "duration": 26,
        "start_time": "2023-01-19T21:09:52.427Z"
      },
      {
        "duration": 18,
        "start_time": "2023-01-19T21:09:52.455Z"
      },
      {
        "duration": 277,
        "start_time": "2023-01-19T21:09:52.474Z"
      },
      {
        "duration": 17,
        "start_time": "2023-01-19T21:09:52.754Z"
      },
      {
        "duration": 17,
        "start_time": "2023-01-19T21:09:52.772Z"
      },
      {
        "duration": 17,
        "start_time": "2023-01-19T21:09:52.790Z"
      },
      {
        "duration": 195,
        "start_time": "2023-01-19T21:09:52.808Z"
      },
      {
        "duration": 12,
        "start_time": "2023-01-19T21:09:53.005Z"
      },
      {
        "duration": 12,
        "start_time": "2023-01-19T21:09:53.019Z"
      },
      {
        "duration": 14,
        "start_time": "2023-01-19T21:09:53.049Z"
      },
      {
        "duration": 196,
        "start_time": "2023-01-19T21:09:53.064Z"
      },
      {
        "duration": 13,
        "start_time": "2023-01-19T21:09:53.262Z"
      },
      {
        "duration": 19,
        "start_time": "2023-01-19T21:09:53.276Z"
      },
      {
        "duration": 15,
        "start_time": "2023-01-19T21:14:31.784Z"
      },
      {
        "duration": 14,
        "start_time": "2023-01-19T21:14:40.182Z"
      },
      {
        "duration": 194,
        "start_time": "2023-01-19T21:19:47.218Z"
      },
      {
        "duration": 1751,
        "start_time": "2023-01-20T06:04:51.830Z"
      },
      {
        "duration": 207,
        "start_time": "2023-01-20T06:04:53.583Z"
      },
      {
        "duration": 26,
        "start_time": "2023-01-20T06:04:53.792Z"
      },
      {
        "duration": 19,
        "start_time": "2023-01-20T06:04:53.821Z"
      },
      {
        "duration": 72,
        "start_time": "2023-01-20T06:04:53.842Z"
      },
      {
        "duration": 15,
        "start_time": "2023-01-20T06:04:53.916Z"
      },
      {
        "duration": 13,
        "start_time": "2023-01-20T06:04:53.934Z"
      },
      {
        "duration": 10,
        "start_time": "2023-01-20T06:04:53.949Z"
      },
      {
        "duration": 39,
        "start_time": "2023-01-20T06:04:53.961Z"
      },
      {
        "duration": 18,
        "start_time": "2023-01-20T06:04:54.003Z"
      },
      {
        "duration": 423,
        "start_time": "2023-01-20T06:04:54.024Z"
      },
      {
        "duration": 16,
        "start_time": "2023-01-20T06:04:54.448Z"
      },
      {
        "duration": 314,
        "start_time": "2023-01-20T06:04:54.466Z"
      },
      {
        "duration": 199,
        "start_time": "2023-01-20T06:04:54.783Z"
      },
      {
        "duration": 9,
        "start_time": "2023-01-20T06:04:54.984Z"
      },
      {
        "duration": 13,
        "start_time": "2023-01-20T06:04:54.995Z"
      },
      {
        "duration": 498,
        "start_time": "2023-01-20T06:04:55.010Z"
      },
      {
        "duration": 191,
        "start_time": "2023-01-20T06:04:55.510Z"
      },
      {
        "duration": 206,
        "start_time": "2023-01-20T06:04:55.703Z"
      },
      {
        "duration": 57,
        "start_time": "2023-01-20T06:04:55.912Z"
      },
      {
        "duration": 287,
        "start_time": "2023-01-20T06:04:55.971Z"
      },
      {
        "duration": 22,
        "start_time": "2023-01-20T06:04:56.260Z"
      },
      {
        "duration": 17,
        "start_time": "2023-01-20T06:04:56.284Z"
      },
      {
        "duration": 13,
        "start_time": "2023-01-20T06:04:56.303Z"
      },
      {
        "duration": 282,
        "start_time": "2023-01-20T06:04:56.317Z"
      },
      {
        "duration": 13,
        "start_time": "2023-01-20T06:04:56.601Z"
      },
      {
        "duration": 13,
        "start_time": "2023-01-20T06:04:56.616Z"
      },
      {
        "duration": 14,
        "start_time": "2023-01-20T06:04:56.632Z"
      },
      {
        "duration": 196,
        "start_time": "2023-01-20T06:04:56.648Z"
      },
      {
        "duration": 17,
        "start_time": "2023-01-20T06:04:56.846Z"
      },
      {
        "duration": 27,
        "start_time": "2023-01-20T06:04:56.865Z"
      },
      {
        "duration": 15,
        "start_time": "2023-01-20T06:04:56.894Z"
      },
      {
        "duration": 197,
        "start_time": "2023-01-20T06:04:56.910Z"
      },
      {
        "duration": 15,
        "start_time": "2023-01-20T06:04:57.108Z"
      },
      {
        "duration": 16,
        "start_time": "2023-01-20T06:04:57.125Z"
      },
      {
        "duration": 20,
        "start_time": "2023-01-20T06:04:57.142Z"
      },
      {
        "duration": 203,
        "start_time": "2023-01-20T06:04:57.164Z"
      },
      {
        "duration": 14,
        "start_time": "2023-01-20T06:04:57.369Z"
      },
      {
        "duration": 20,
        "start_time": "2023-01-20T06:04:57.385Z"
      },
      {
        "duration": 9,
        "start_time": "2023-01-20T06:06:09.758Z"
      },
      {
        "duration": 16,
        "start_time": "2023-01-20T06:06:50.821Z"
      },
      {
        "duration": 13,
        "start_time": "2023-01-20T06:07:13.143Z"
      },
      {
        "duration": 1124,
        "start_time": "2023-01-20T06:07:19.357Z"
      },
      {
        "duration": 77,
        "start_time": "2023-01-20T06:07:20.484Z"
      },
      {
        "duration": 21,
        "start_time": "2023-01-20T06:07:20.563Z"
      },
      {
        "duration": 18,
        "start_time": "2023-01-20T06:07:20.586Z"
      },
      {
        "duration": 82,
        "start_time": "2023-01-20T06:07:20.606Z"
      },
      {
        "duration": 20,
        "start_time": "2023-01-20T06:07:20.690Z"
      },
      {
        "duration": 26,
        "start_time": "2023-01-20T06:07:20.712Z"
      },
      {
        "duration": 13,
        "start_time": "2023-01-20T06:07:20.740Z"
      },
      {
        "duration": 22,
        "start_time": "2023-01-20T06:07:20.755Z"
      },
      {
        "duration": 44,
        "start_time": "2023-01-20T06:07:20.780Z"
      },
      {
        "duration": 436,
        "start_time": "2023-01-20T06:07:20.826Z"
      },
      {
        "duration": 16,
        "start_time": "2023-01-20T06:07:21.263Z"
      },
      {
        "duration": 362,
        "start_time": "2023-01-20T06:07:21.280Z"
      },
      {
        "duration": 220,
        "start_time": "2023-01-20T06:07:21.644Z"
      },
      {
        "duration": 3,
        "start_time": "2023-01-20T06:07:21.865Z"
      },
      {
        "duration": 23,
        "start_time": "2023-01-20T06:07:21.869Z"
      },
      {
        "duration": 403,
        "start_time": "2023-01-20T06:07:21.894Z"
      },
      {
        "duration": 220,
        "start_time": "2023-01-20T06:07:22.300Z"
      },
      {
        "duration": 216,
        "start_time": "2023-01-20T06:07:22.522Z"
      },
      {
        "duration": 77,
        "start_time": "2023-01-20T06:07:22.740Z"
      },
      {
        "duration": 248,
        "start_time": "2023-01-20T06:07:22.819Z"
      },
      {
        "duration": 25,
        "start_time": "2023-01-20T06:07:23.069Z"
      },
      {
        "duration": 14,
        "start_time": "2023-01-20T06:07:23.096Z"
      },
      {
        "duration": 29,
        "start_time": "2023-01-20T06:07:23.114Z"
      },
      {
        "duration": 398,
        "start_time": "2023-01-20T06:07:23.147Z"
      },
      {
        "duration": 14,
        "start_time": "2023-01-20T06:07:23.547Z"
      },
      {
        "duration": 30,
        "start_time": "2023-01-20T06:07:23.562Z"
      },
      {
        "duration": 28,
        "start_time": "2023-01-20T06:07:23.597Z"
      },
      {
        "duration": 203,
        "start_time": "2023-01-20T06:07:23.627Z"
      },
      {
        "duration": 18,
        "start_time": "2023-01-20T06:07:23.832Z"
      },
      {
        "duration": 13,
        "start_time": "2023-01-20T06:07:23.852Z"
      },
      {
        "duration": 55,
        "start_time": "2023-01-20T06:07:23.867Z"
      },
      {
        "duration": 211,
        "start_time": "2023-01-20T06:07:23.924Z"
      },
      {
        "duration": 17,
        "start_time": "2023-01-20T06:07:24.137Z"
      },
      {
        "duration": 16,
        "start_time": "2023-01-20T06:07:24.155Z"
      },
      {
        "duration": 34,
        "start_time": "2023-01-20T06:07:24.173Z"
      },
      {
        "duration": 210,
        "start_time": "2023-01-20T06:07:24.209Z"
      },
      {
        "duration": 17,
        "start_time": "2023-01-20T06:07:24.421Z"
      },
      {
        "duration": 17,
        "start_time": "2023-01-20T06:07:24.440Z"
      },
      {
        "duration": 229,
        "start_time": "2023-01-20T06:08:38.318Z"
      },
      {
        "duration": 213,
        "start_time": "2023-01-20T06:14:58.472Z"
      },
      {
        "duration": 114,
        "start_time": "2023-01-20T06:55:39.761Z"
      },
      {
        "duration": 134,
        "start_time": "2023-01-20T06:57:10.218Z"
      },
      {
        "duration": 123,
        "start_time": "2023-01-20T06:57:28.509Z"
      },
      {
        "duration": 22,
        "start_time": "2023-01-20T07:01:35.563Z"
      },
      {
        "duration": 348,
        "start_time": "2023-01-20T07:02:14.068Z"
      },
      {
        "duration": 456,
        "start_time": "2023-01-20T07:02:42.679Z"
      },
      {
        "duration": 540,
        "start_time": "2023-01-20T07:03:16.209Z"
      },
      {
        "duration": 466,
        "start_time": "2023-01-20T07:03:48.112Z"
      },
      {
        "duration": 23,
        "start_time": "2023-01-20T07:06:12.529Z"
      },
      {
        "duration": 450,
        "start_time": "2023-01-20T07:51:27.792Z"
      },
      {
        "duration": 469,
        "start_time": "2023-01-20T07:51:39.978Z"
      },
      {
        "duration": 489,
        "start_time": "2023-01-20T07:52:15.930Z"
      },
      {
        "duration": 585,
        "start_time": "2023-01-20T07:52:35.938Z"
      },
      {
        "duration": 486,
        "start_time": "2023-01-20T07:53:31.620Z"
      },
      {
        "duration": 480,
        "start_time": "2023-01-20T07:53:47.984Z"
      },
      {
        "duration": 451,
        "start_time": "2023-01-20T07:56:15.216Z"
      },
      {
        "duration": 475,
        "start_time": "2023-01-20T07:56:23.275Z"
      }
    ],
    "kernelspec": {
      "display_name": "Python 3 (ipykernel)",
      "language": "python",
      "name": "python3"
    },
    "language_info": {
      "codemirror_mode": {
        "name": "ipython",
        "version": 3
      },
      "file_extension": ".py",
      "mimetype": "text/x-python",
      "name": "python",
      "nbconvert_exporter": "python",
      "pygments_lexer": "ipython3",
      "version": "3.9.5"
    },
    "toc": {
      "base_numbering": 1,
      "nav_menu": {},
      "number_sections": true,
      "sideBar": true,
      "skip_h1_title": true,
      "title_cell": "Table of Contents",
      "title_sidebar": "Contents",
      "toc_cell": false,
      "toc_position": {
        "height": "calc(100% - 180px)",
        "left": "10px",
        "top": "150px",
        "width": "356.594px"
      },
      "toc_section_display": true,
      "toc_window_display": true
    },
    "colab": {
      "provenance": [],
      "include_colab_link": true
    }
  },
  "nbformat": 4,
  "nbformat_minor": 0
}

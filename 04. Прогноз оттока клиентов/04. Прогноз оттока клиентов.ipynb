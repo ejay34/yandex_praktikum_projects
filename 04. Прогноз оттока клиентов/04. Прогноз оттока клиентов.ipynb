{
  "cells": [
    {
      "cell_type": "markdown",
      "metadata": {
        "id": "view-in-github",
        "colab_type": "text"
      },
      "source": [
        "<a href=\"https://colab.research.google.com/github/ejay34/yandex_praktikum_projects/blob/main/04.%20%D0%9E%D1%82%D1%82%D0%BE%D0%BA%20%D0%BA%D0%BB%D0%B8%D0%B5%D0%BD%D1%82%D0%BE%D0%B2.ipynb\" target=\"_parent\"><img src=\"https://colab.research.google.com/assets/colab-badge.svg\" alt=\"Open In Colab\"/></a>"
      ]
    },
    {
      "cell_type": "markdown",
      "metadata": {
        "id": "xSRKxBuqWxaG"
      },
      "source": [
        "# Отток клиентов\n",
        "\n",
        "Условный заказчик исследования - «Бета-Банк» - предоставил исторические данные о поведении клиентов и расторжении договоров с банком. Необходимо построить модель с предельно большим значением F1-меры, но не менее 0.59. Дополнительно необходимо измерить AUC-ROC и сравнить её значение с F1-мерой.\n",
        "\n",
        "*Цель исследования:* Спрогнозировать, уйдёт ли в ближайшее время клиент из банка.\n",
        "\n",
        "*Этапы исследования:*\n",
        "1.  Подготовка данных\n",
        "2.  Исследование задачи\n",
        "  -  Модель DecisionTree\n",
        "  -  Модель RandomForest\n",
        "  -  Модель LogisticRegression\n",
        "  -  ROC-кривая\n",
        "3.  Борьба с дисбалансом\n",
        "  -  Добавление class_weight='balanced'\n",
        "  -  Увеличение выборки\n",
        "  -  Увеличение выборки с балансировкой классов\n",
        "  -  Уменьшение выборки с балансировкой классов\n",
        "4.  Краткий вывод\n",
        "5.  Тестирование модели\n",
        "6.  Итоговый вывод"
      ]
    },
    {
      "cell_type": "markdown",
      "metadata": {
        "toc": true,
        "id": "MznCJHQbWxaE"
      },
      "source": [
        "<h1>Содержание<span class=\"tocSkip\"></span></h1>\n",
        "<div class=\"toc\"><ul class=\"toc-item\"><li><span><a href=\"#Подготовка-данных\" data-toc-modified-id=\"Подготовка-данных-1\"><span class=\"toc-item-num\">1&nbsp;&nbsp;</span>Подготовка данных</a></span><ul class=\"toc-item\"><li><span><a href=\"#Импорт-необходимых-библиотек-и-загрузка-данных\" data-toc-modified-id=\"Импорт-необходимых-библиотек-и-загрузка-данных-1.1\"><span class=\"toc-item-num\">1.1&nbsp;&nbsp;</span>Импорт необходимых библиотек и загрузка данных</a></span></li><li><span><a href=\"#Вывод-основной-информации-о-датафрейме\" data-toc-modified-id=\"Вывод-основной-информации-о-датафрейме-1.2\"><span class=\"toc-item-num\">1.2&nbsp;&nbsp;</span>Вывод основной информации о датафрейме</a></span></li><li><span><a href=\"#Предобработка-данных\" data-toc-modified-id=\"Предобработка-данных-1.3\"><span class=\"toc-item-num\">1.3&nbsp;&nbsp;</span>Предобработка данных</a></span></li><li><span><a href=\"#Подготовка-признаков\" data-toc-modified-id=\"Подготовка-признаков-1.4\"><span class=\"toc-item-num\">1.4&nbsp;&nbsp;</span>Подготовка признаков</a></span></li><li><span><a href=\"#Разделение-признаков-на-предсказывающие-и-целевой\" data-toc-modified-id=\"Разделение-признаков-на-предсказывающие-и-целевой-1.5\"><span class=\"toc-item-num\">1.5&nbsp;&nbsp;</span>Разделение признаков на предсказывающие и целевой</a></span></li><li><span><a href=\"#Вывод\" data-toc-modified-id=\"Вывод-1.6\"><span class=\"toc-item-num\">1.6&nbsp;&nbsp;</span>Вывод</a></span></li></ul></li><li><span><a href=\"#Исследование-задачи\" data-toc-modified-id=\"Исследование-задачи-2\"><span class=\"toc-item-num\">2&nbsp;&nbsp;</span>Исследование задачи</a></span><ul class=\"toc-item\"><li><span><a href=\"#Модель-&quot;Дерево-решений&quot;\" data-toc-modified-id=\"Модель-&quot;Дерево-решений&quot;-2.1\"><span class=\"toc-item-num\">2.1&nbsp;&nbsp;</span>Модель \"Дерево решений\"</a></span></li><li><span><a href=\"#Модель-&quot;Случайный-лес&quot;\" data-toc-modified-id=\"Модель-&quot;Случайный-лес&quot;-2.2\"><span class=\"toc-item-num\">2.2&nbsp;&nbsp;</span>Модель \"Случайный лес\"</a></span></li><li><span><a href=\"#Модель-&quot;Логистическая-регрессия&quot;\" data-toc-modified-id=\"Модель-&quot;Логистическая-регрессия&quot;-2.3\"><span class=\"toc-item-num\">2.3&nbsp;&nbsp;</span>Модель \"Логистическая регрессия\"</a></span></li><li><span><a href=\"#Результаты\" data-toc-modified-id=\"Результаты-2.4\"><span class=\"toc-item-num\">2.4&nbsp;&nbsp;</span>Результаты</a></span></li><li><span><a href=\"#Построим-ROC-кривую\" data-toc-modified-id=\"Построим-ROC-кривую-2.5\"><span class=\"toc-item-num\">2.5&nbsp;&nbsp;</span>Построим ROC-кривую</a></span></li></ul></li><li><span><a href=\"#Борьба-с-дисбалансом\" data-toc-modified-id=\"Борьба-с-дисбалансом-3\"><span class=\"toc-item-num\">3&nbsp;&nbsp;</span>Борьба с дисбалансом</a></span><ul class=\"toc-item\"><li><span><a href=\"#Добавление-class_weight='balanced'\" data-toc-modified-id=\"Добавление-class_weight='balanced'-3.1\"><span class=\"toc-item-num\">3.1&nbsp;&nbsp;</span>Добавление <code>class_weight='balanced'</code></a></span><ul class=\"toc-item\"><li><span><a href=\"#Модель-&quot;Дерево-решений&quot;\" data-toc-modified-id=\"Модель-&quot;Дерево-решений&quot;-3.1.1\"><span class=\"toc-item-num\">3.1.1&nbsp;&nbsp;</span>Модель \"Дерево решений\"</a></span></li><li><span><a href=\"#Модель-&quot;Случайный-лес&quot;\" data-toc-modified-id=\"Модель-&quot;Случайный-лес&quot;-3.1.2\"><span class=\"toc-item-num\">3.1.2&nbsp;&nbsp;</span>Модель \"Случайный лес\"</a></span></li><li><span><a href=\"#Модель-&quot;Логистическая-регрессия&quot;\" data-toc-modified-id=\"Модель-&quot;Логистическая-регрессия&quot;-3.1.3\"><span class=\"toc-item-num\">3.1.3&nbsp;&nbsp;</span>Модель \"Логистическая регрессия\"</a></span></li><li><span><a href=\"#Результаты\" data-toc-modified-id=\"Результаты-3.1.4\"><span class=\"toc-item-num\">3.1.4&nbsp;&nbsp;</span>Результаты</a></span></li><li><span><a href=\"#Построим-ROC-кривую\" data-toc-modified-id=\"Построим-ROC-кривую-3.1.5\"><span class=\"toc-item-num\">3.1.5&nbsp;&nbsp;</span>Построим ROC-кривую</a></span></li></ul></li><li><span><a href=\"#Увеличение-выборки\" data-toc-modified-id=\"Увеличение-выборки-3.2\"><span class=\"toc-item-num\">3.2&nbsp;&nbsp;</span>Увеличение выборки</a></span><ul class=\"toc-item\"><li><span><a href=\"#Увеличим-количество-положительных-ответов\" data-toc-modified-id=\"Увеличим-количество-положительных-ответов-3.2.1\"><span class=\"toc-item-num\">3.2.1&nbsp;&nbsp;</span>Увеличим количество положительных ответов</a></span></li><li><span><a href=\"#Модель-&quot;Дерево-решений&quot;\" data-toc-modified-id=\"Модель-&quot;Дерево-решений&quot;-3.2.2\"><span class=\"toc-item-num\">3.2.2&nbsp;&nbsp;</span>Модель \"Дерево решений\"</a></span></li><li><span><a href=\"#Модель-&quot;Случайный-лес&quot;\" data-toc-modified-id=\"Модель-&quot;Случайный-лес&quot;-3.2.3\"><span class=\"toc-item-num\">3.2.3&nbsp;&nbsp;</span>Модель \"Случайный лес\"</a></span></li><li><span><a href=\"#Модель-&quot;Логистическая-регрессия&quot;\" data-toc-modified-id=\"Модель-&quot;Логистическая-регрессия&quot;-3.2.4\"><span class=\"toc-item-num\">3.2.4&nbsp;&nbsp;</span>Модель \"Логистическая регрессия\"</a></span></li><li><span><a href=\"#Результаты\" data-toc-modified-id=\"Результаты-3.2.5\"><span class=\"toc-item-num\">3.2.5&nbsp;&nbsp;</span>Результаты</a></span></li><li><span><a href=\"#Построим-ROC-кривую\" data-toc-modified-id=\"Построим-ROC-кривую-3.2.6\"><span class=\"toc-item-num\">3.2.6&nbsp;&nbsp;</span>Построим ROC-кривую</a></span></li></ul></li><li><span><a href=\"#Увеличение-выборки-с-балансировкой-классов-class_weight='balanced'\" data-toc-modified-id=\"Увеличение-выборки-с-балансировкой-классов-class_weight='balanced'-3.3\"><span class=\"toc-item-num\">3.3&nbsp;&nbsp;</span>Увеличение выборки с балансировкой классов <code>class_weight='balanced'</code></a></span></li><li><span><a href=\"#Уменьшение-выборки\" data-toc-modified-id=\"Уменьшение-выборки-3.4\"><span class=\"toc-item-num\">3.4&nbsp;&nbsp;</span>Уменьшение выборки</a></span><ul class=\"toc-item\"><li><span><a href=\"#Уменьшим-количество-отрицательных-ответов\" data-toc-modified-id=\"Уменьшим-количество-отрицательных-ответов-3.4.1\"><span class=\"toc-item-num\">3.4.1&nbsp;&nbsp;</span>Уменьшим количество отрицательных ответов</a></span></li><li><span><a href=\"#Модель-&quot;Дерево-решений&quot;\" data-toc-modified-id=\"Модель-&quot;Дерево-решений&quot;-3.4.2\"><span class=\"toc-item-num\">3.4.2&nbsp;&nbsp;</span>Модель \"Дерево решений\"</a></span></li><li><span><a href=\"#Модель-&quot;Случайный-лес&quot;\" data-toc-modified-id=\"Модель-&quot;Случайный-лес&quot;-3.4.3\"><span class=\"toc-item-num\">3.4.3&nbsp;&nbsp;</span>Модель \"Случайный лес\"</a></span></li><li><span><a href=\"#Модель-&quot;Логистическая-регрессия&quot;\" data-toc-modified-id=\"Модель-&quot;Логистическая-регрессия&quot;-3.4.4\"><span class=\"toc-item-num\">3.4.4&nbsp;&nbsp;</span>Модель \"Логистическая регрессия\"</a></span></li><li><span><a href=\"#Результаты\" data-toc-modified-id=\"Результаты-3.4.5\"><span class=\"toc-item-num\">3.4.5&nbsp;&nbsp;</span>Результаты</a></span></li><li><span><a href=\"#Пострим-ROC-кривую\" data-toc-modified-id=\"Пострим-ROC-кривую-3.4.6\"><span class=\"toc-item-num\">3.4.6&nbsp;&nbsp;</span>Пострим ROC-кривую</a></span></li></ul></li><li><span><a href=\"#Уменьшение-выборки-с-балансировкой-классов-class_weight='balanced'\" data-toc-modified-id=\"Уменьшение-выборки-с-балансировкой-классов-class_weight='balanced'-3.5\"><span class=\"toc-item-num\">3.5&nbsp;&nbsp;</span>Уменьшение выборки с балансировкой классов <code>class_weight='balanced'</code></a></span></li><li><span><a href=\"#Краткий-вывод\" data-toc-modified-id=\"Краткий-вывод-3.6\"><span class=\"toc-item-num\">3.6&nbsp;&nbsp;</span>Краткий вывод</a></span></li></ul></li><li><span><a href=\"#Тестирование-модели\" data-toc-modified-id=\"Тестирование-модели-4\"><span class=\"toc-item-num\">4&nbsp;&nbsp;</span>Тестирование модели</a></span><ul class=\"toc-item\"><li><span><a href=\"#Краткий-вывод\" data-toc-modified-id=\"Краткий-вывод-4.1\"><span class=\"toc-item-num\">4.1&nbsp;&nbsp;</span>Краткий вывод</a></span></li></ul></li><li><span><a href=\"#Общий-вывод\" data-toc-modified-id=\"Общий-вывод-5\"><span class=\"toc-item-num\">5&nbsp;&nbsp;</span>Общий вывод</a></span></li><li><span><a href=\"#Чек-лист-готовности-проекта\" data-toc-modified-id=\"Чек-лист-готовности-проекта-6\"><span class=\"toc-item-num\">6&nbsp;&nbsp;</span>Чек-лист готовности проекта</a></span></li><li><span><a href=\"#Общий-вывод-по-проекту\" data-toc-modified-id=\"Общий-вывод-по-проекту-7\"><span class=\"toc-item-num\">7&nbsp;&nbsp;</span><b>Общий вывод по проекту</b></a></span></li></ul></div>"
      ]
    },
    {
      "cell_type": "markdown",
      "metadata": {
        "id": "tmDBrQ73WxaI"
      },
      "source": [
        "## Подготовка данных"
      ]
    },
    {
      "cell_type": "markdown",
      "metadata": {
        "id": "2UGd4R8sWxaI"
      },
      "source": [
        "### Импорт необходимых библиотек и загрузка данных"
      ]
    },
    {
      "cell_type": "code",
      "execution_count": null,
      "metadata": {
        "id": "LMjFHLJsWxaI"
      },
      "outputs": [],
      "source": [
        "# Импортируем необходимые библиотеки\n",
        "import pandas as pd\n",
        "\n",
        "from tqdm import tqdm\n",
        "\n",
        "import seaborn as sns\n",
        "import matplotlib.pyplot as plt\n",
        "\n",
        "from sklearn.preprocessing import (StandardScaler,\n",
        "                                   OneHotEncoder,\n",
        "                                   OrdinalEncoder)\n",
        "from sklearn.utils import shuffle\n",
        "\n",
        "from sklearn.metrics import (precision_score,\n",
        "                             f1_score,\n",
        "                             confusion_matrix,\n",
        "                             roc_auc_score,\n",
        "                             roc_curve)\n",
        "\n",
        "from sklearn.model_selection import train_test_split\n",
        "\n",
        "from sklearn.tree import DecisionTreeClassifier\n",
        "from sklearn.ensemble import RandomForestClassifier\n",
        "from sklearn.linear_model import LogisticRegression\n",
        "\n",
        "# Сброс ограничений на число столбцов\n",
        "pd.set_option('display.max_columns', None)\n",
        "pd.options.mode.chained_assignment=None\n",
        "\n",
        "# Ограничение десятичных знаков в типах данных float\n",
        "pd.set_option('display.float_format', '{:.3f}'.format)\n",
        "\n",
        "# Шаблон оформления графиков\n",
        "sns.set_palette('deep')\n",
        "sns.set_style(\"whitegrid\")"
      ]
    },
    {
      "cell_type": "code",
      "execution_count": null,
      "metadata": {
        "id": "sMVD4G7VWxaK"
      },
      "outputs": [],
      "source": [
        "# Загрузим данные из csv-файла в переменную data\n",
        "try:\n",
        "    df = pd.read_csv('/datasets/Churn.csv')\n",
        "except:\n",
        "    df = pd.read_csv('https://code.s3.yandex.net/datasets/Churn.csv')"
      ]
    },
    {
      "cell_type": "markdown",
      "metadata": {
        "id": "5vVPz5KPWxaK"
      },
      "source": [
        "### Вывод основной информации о датафрейме"
      ]
    },
    {
      "cell_type": "code",
      "execution_count": null,
      "metadata": {
        "colab": {
          "base_uri": "https://localhost:8080/",
          "height": 536
        },
        "id": "ub0HxKKbWxaL",
        "outputId": "e2e72b0b-82ea-4a98-aa7a-cbf6e34bd810"
      },
      "outputs": [
        {
          "output_type": "stream",
          "name": "stdout",
          "text": [
            "Размерность исходных данных: \n",
            "\tобъектов - 10000, \n",
            "\tпризнаков - 14\n",
            "\n"
          ]
        },
        {
          "output_type": "display_data",
          "data": {
            "text/plain": [
              "   RowNumber  CustomerId   Surname  CreditScore Geography  Gender  Age  \\\n",
              "0          1    15634602  Hargrave          619    France  Female   42   \n",
              "1          2    15647311      Hill          608     Spain  Female   41   \n",
              "2          3    15619304      Onio          502    France  Female   42   \n",
              "3          4    15701354      Boni          699    France  Female   39   \n",
              "4          5    15737888  Mitchell          850     Spain  Female   43   \n",
              "\n",
              "   Tenure    Balance  NumOfProducts  HasCrCard  IsActiveMember  \\\n",
              "0   2.000      0.000              1          1               1   \n",
              "1   1.000  83807.860              1          0               1   \n",
              "2   8.000 159660.800              3          1               0   \n",
              "3   1.000      0.000              2          0               0   \n",
              "4   2.000 125510.820              1          1               1   \n",
              "\n",
              "   EstimatedSalary  Exited  \n",
              "0       101348.880       1  \n",
              "1       112542.580       0  \n",
              "2       113931.570       1  \n",
              "3        93826.630       0  \n",
              "4        79084.100       0  "
            ],
            "text/html": [
              "\n",
              "  <div id=\"df-045b8856-352f-4851-a9e0-f7132cfacedf\">\n",
              "    <div class=\"colab-df-container\">\n",
              "      <div>\n",
              "<style scoped>\n",
              "    .dataframe tbody tr th:only-of-type {\n",
              "        vertical-align: middle;\n",
              "    }\n",
              "\n",
              "    .dataframe tbody tr th {\n",
              "        vertical-align: top;\n",
              "    }\n",
              "\n",
              "    .dataframe thead th {\n",
              "        text-align: right;\n",
              "    }\n",
              "</style>\n",
              "<table border=\"1\" class=\"dataframe\">\n",
              "  <thead>\n",
              "    <tr style=\"text-align: right;\">\n",
              "      <th></th>\n",
              "      <th>RowNumber</th>\n",
              "      <th>CustomerId</th>\n",
              "      <th>Surname</th>\n",
              "      <th>CreditScore</th>\n",
              "      <th>Geography</th>\n",
              "      <th>Gender</th>\n",
              "      <th>Age</th>\n",
              "      <th>Tenure</th>\n",
              "      <th>Balance</th>\n",
              "      <th>NumOfProducts</th>\n",
              "      <th>HasCrCard</th>\n",
              "      <th>IsActiveMember</th>\n",
              "      <th>EstimatedSalary</th>\n",
              "      <th>Exited</th>\n",
              "    </tr>\n",
              "  </thead>\n",
              "  <tbody>\n",
              "    <tr>\n",
              "      <th>0</th>\n",
              "      <td>1</td>\n",
              "      <td>15634602</td>\n",
              "      <td>Hargrave</td>\n",
              "      <td>619</td>\n",
              "      <td>France</td>\n",
              "      <td>Female</td>\n",
              "      <td>42</td>\n",
              "      <td>2.000</td>\n",
              "      <td>0.000</td>\n",
              "      <td>1</td>\n",
              "      <td>1</td>\n",
              "      <td>1</td>\n",
              "      <td>101348.880</td>\n",
              "      <td>1</td>\n",
              "    </tr>\n",
              "    <tr>\n",
              "      <th>1</th>\n",
              "      <td>2</td>\n",
              "      <td>15647311</td>\n",
              "      <td>Hill</td>\n",
              "      <td>608</td>\n",
              "      <td>Spain</td>\n",
              "      <td>Female</td>\n",
              "      <td>41</td>\n",
              "      <td>1.000</td>\n",
              "      <td>83807.860</td>\n",
              "      <td>1</td>\n",
              "      <td>0</td>\n",
              "      <td>1</td>\n",
              "      <td>112542.580</td>\n",
              "      <td>0</td>\n",
              "    </tr>\n",
              "    <tr>\n",
              "      <th>2</th>\n",
              "      <td>3</td>\n",
              "      <td>15619304</td>\n",
              "      <td>Onio</td>\n",
              "      <td>502</td>\n",
              "      <td>France</td>\n",
              "      <td>Female</td>\n",
              "      <td>42</td>\n",
              "      <td>8.000</td>\n",
              "      <td>159660.800</td>\n",
              "      <td>3</td>\n",
              "      <td>1</td>\n",
              "      <td>0</td>\n",
              "      <td>113931.570</td>\n",
              "      <td>1</td>\n",
              "    </tr>\n",
              "    <tr>\n",
              "      <th>3</th>\n",
              "      <td>4</td>\n",
              "      <td>15701354</td>\n",
              "      <td>Boni</td>\n",
              "      <td>699</td>\n",
              "      <td>France</td>\n",
              "      <td>Female</td>\n",
              "      <td>39</td>\n",
              "      <td>1.000</td>\n",
              "      <td>0.000</td>\n",
              "      <td>2</td>\n",
              "      <td>0</td>\n",
              "      <td>0</td>\n",
              "      <td>93826.630</td>\n",
              "      <td>0</td>\n",
              "    </tr>\n",
              "    <tr>\n",
              "      <th>4</th>\n",
              "      <td>5</td>\n",
              "      <td>15737888</td>\n",
              "      <td>Mitchell</td>\n",
              "      <td>850</td>\n",
              "      <td>Spain</td>\n",
              "      <td>Female</td>\n",
              "      <td>43</td>\n",
              "      <td>2.000</td>\n",
              "      <td>125510.820</td>\n",
              "      <td>1</td>\n",
              "      <td>1</td>\n",
              "      <td>1</td>\n",
              "      <td>79084.100</td>\n",
              "      <td>0</td>\n",
              "    </tr>\n",
              "  </tbody>\n",
              "</table>\n",
              "</div>\n",
              "      <button class=\"colab-df-convert\" onclick=\"convertToInteractive('df-045b8856-352f-4851-a9e0-f7132cfacedf')\"\n",
              "              title=\"Convert this dataframe to an interactive table.\"\n",
              "              style=\"display:none;\">\n",
              "        \n",
              "  <svg xmlns=\"http://www.w3.org/2000/svg\" height=\"24px\"viewBox=\"0 0 24 24\"\n",
              "       width=\"24px\">\n",
              "    <path d=\"M0 0h24v24H0V0z\" fill=\"none\"/>\n",
              "    <path d=\"M18.56 5.44l.94 2.06.94-2.06 2.06-.94-2.06-.94-.94-2.06-.94 2.06-2.06.94zm-11 1L8.5 8.5l.94-2.06 2.06-.94-2.06-.94L8.5 2.5l-.94 2.06-2.06.94zm10 10l.94 2.06.94-2.06 2.06-.94-2.06-.94-.94-2.06-.94 2.06-2.06.94z\"/><path d=\"M17.41 7.96l-1.37-1.37c-.4-.4-.92-.59-1.43-.59-.52 0-1.04.2-1.43.59L10.3 9.45l-7.72 7.72c-.78.78-.78 2.05 0 2.83L4 21.41c.39.39.9.59 1.41.59.51 0 1.02-.2 1.41-.59l7.78-7.78 2.81-2.81c.8-.78.8-2.07 0-2.86zM5.41 20L4 18.59l7.72-7.72 1.47 1.35L5.41 20z\"/>\n",
              "  </svg>\n",
              "      </button>\n",
              "      \n",
              "  <style>\n",
              "    .colab-df-container {\n",
              "      display:flex;\n",
              "      flex-wrap:wrap;\n",
              "      gap: 12px;\n",
              "    }\n",
              "\n",
              "    .colab-df-convert {\n",
              "      background-color: #E8F0FE;\n",
              "      border: none;\n",
              "      border-radius: 50%;\n",
              "      cursor: pointer;\n",
              "      display: none;\n",
              "      fill: #1967D2;\n",
              "      height: 32px;\n",
              "      padding: 0 0 0 0;\n",
              "      width: 32px;\n",
              "    }\n",
              "\n",
              "    .colab-df-convert:hover {\n",
              "      background-color: #E2EBFA;\n",
              "      box-shadow: 0px 1px 2px rgba(60, 64, 67, 0.3), 0px 1px 3px 1px rgba(60, 64, 67, 0.15);\n",
              "      fill: #174EA6;\n",
              "    }\n",
              "\n",
              "    [theme=dark] .colab-df-convert {\n",
              "      background-color: #3B4455;\n",
              "      fill: #D2E3FC;\n",
              "    }\n",
              "\n",
              "    [theme=dark] .colab-df-convert:hover {\n",
              "      background-color: #434B5C;\n",
              "      box-shadow: 0px 1px 3px 1px rgba(0, 0, 0, 0.15);\n",
              "      filter: drop-shadow(0px 1px 2px rgba(0, 0, 0, 0.3));\n",
              "      fill: #FFFFFF;\n",
              "    }\n",
              "  </style>\n",
              "\n",
              "      <script>\n",
              "        const buttonEl =\n",
              "          document.querySelector('#df-045b8856-352f-4851-a9e0-f7132cfacedf button.colab-df-convert');\n",
              "        buttonEl.style.display =\n",
              "          google.colab.kernel.accessAllowed ? 'block' : 'none';\n",
              "\n",
              "        async function convertToInteractive(key) {\n",
              "          const element = document.querySelector('#df-045b8856-352f-4851-a9e0-f7132cfacedf');\n",
              "          const dataTable =\n",
              "            await google.colab.kernel.invokeFunction('convertToInteractive',\n",
              "                                                     [key], {});\n",
              "          if (!dataTable) return;\n",
              "\n",
              "          const docLinkHtml = 'Like what you see? Visit the ' +\n",
              "            '<a target=\"_blank\" href=https://colab.research.google.com/notebooks/data_table.ipynb>data table notebook</a>'\n",
              "            + ' to learn more about interactive tables.';\n",
              "          element.innerHTML = '';\n",
              "          dataTable['output_type'] = 'display_data';\n",
              "          await google.colab.output.renderOutput(dataTable, element);\n",
              "          const docLink = document.createElement('div');\n",
              "          docLink.innerHTML = docLinkHtml;\n",
              "          element.appendChild(docLink);\n",
              "        }\n",
              "      </script>\n",
              "    </div>\n",
              "  </div>\n",
              "  "
            ]
          },
          "metadata": {}
        },
        {
          "output_type": "execute_result",
          "data": {
            "text/plain": [
              "RowNumber            int64\n",
              "CustomerId           int64\n",
              "Surname             object\n",
              "CreditScore          int64\n",
              "Geography           object\n",
              "Gender              object\n",
              "Age                  int64\n",
              "Tenure             float64\n",
              "Balance            float64\n",
              "NumOfProducts        int64\n",
              "HasCrCard            int64\n",
              "IsActiveMember       int64\n",
              "EstimatedSalary    float64\n",
              "Exited               int64\n",
              "dtype: object"
            ]
          },
          "metadata": {},
          "execution_count": 3
        }
      ],
      "source": [
        "# Выведем информацию и датасете\n",
        "print(f'Размерность исходных данных: \\n\\tобъектов - {df.shape[0]}, \\n\\tпризнаков - {df.shape[1]}\\n')\n",
        "display(df.head())\n",
        "df.dtypes"
      ]
    },
    {
      "cell_type": "code",
      "execution_count": null,
      "metadata": {
        "colab": {
          "base_uri": "https://localhost:8080/"
        },
        "id": "5tYE7IaEWxaM",
        "outputId": "550ed074-1c5a-4b17-8ff5-f64d6100cbd4"
      },
      "outputs": [
        {
          "output_type": "execute_result",
          "data": {
            "text/plain": [
              "RowNumber            0\n",
              "CustomerId           0\n",
              "Surname              0\n",
              "CreditScore          0\n",
              "Geography            0\n",
              "Gender               0\n",
              "Age                  0\n",
              "Tenure             909\n",
              "Balance              0\n",
              "NumOfProducts        0\n",
              "HasCrCard            0\n",
              "IsActiveMember       0\n",
              "EstimatedSalary      0\n",
              "Exited               0\n",
              "dtype: int64"
            ]
          },
          "metadata": {},
          "execution_count": 4
        }
      ],
      "source": [
        "# Найдем количество пропущенных значений в столбцах датафрейма\n",
        "df.isna().sum()"
      ]
    },
    {
      "cell_type": "code",
      "execution_count": null,
      "metadata": {
        "colab": {
          "base_uri": "https://localhost:8080/"
        },
        "id": "vMUkIY1SWxaM",
        "outputId": "86a6ccf6-a248-49d8-f9cf-277dfa312381"
      },
      "outputs": [
        {
          "output_type": "stream",
          "name": "stdout",
          "text": [
            "Явных дубликатов: 0\n"
          ]
        }
      ],
      "source": [
        "# Выполним проверку на явные дубликаты\n",
        "print(f'Явных дубликатов: {df.duplicated().sum()}')"
      ]
    },
    {
      "cell_type": "code",
      "execution_count": null,
      "metadata": {
        "colab": {
          "base_uri": "https://localhost:8080/",
          "height": 1000
        },
        "id": "tFXO3yQvWxaM",
        "outputId": "4c79b657-e2cc-4a66-dcc9-a301517881f7"
      },
      "outputs": [
        {
          "output_type": "display_data",
          "data": {
            "text/plain": [
              "<Figure size 2000x1500 with 12 Axes>"
            ],
            "image/png": "[encoded data removed]"
          },
          "metadata": {}
        }
      ],
      "source": [
        "df.hist(bins=50, figsize=(20,15), edgecolor='black', linewidth=2)\n",
        "plt.show()"
      ]
    },
    {
      "cell_type": "markdown",
      "metadata": {
        "id": "oSsT0pJ1WxaN"
      },
      "source": [
        "### Предобработка данных"
      ]
    },
    {
      "cell_type": "code",
      "execution_count": null,
      "metadata": {
        "id": "kOTYI5i1WxaN"
      },
      "outputs": [],
      "source": [
        "# Заменим пропущенные данные медианными\n",
        "df.Tenure = (df.Tenure\n",
        "             .fillna(df.Tenure.median())\n",
        "             .astype('int64'))"
      ]
    },
    {
      "cell_type": "markdown",
      "metadata": {
        "id": "N1Pf6Tp5WxaN"
      },
      "source": [
        "### Подготовка признаков"
      ]
    },
    {
      "cell_type": "code",
      "execution_count": null,
      "metadata": {
        "id": "eR8AtyKLWxaN"
      },
      "outputs": [],
      "source": [
        "# Удалим из датасета столбцы 'RowNumber', 'CustomerId', 'Surname', так как они помешают обучению модели\n",
        "df.drop(['RowNumber', 'CustomerId', 'Surname'], axis=1, inplace=True)"
      ]
    },
    {
      "cell_type": "code",
      "execution_count": null,
      "metadata": {
        "colab": {
          "base_uri": "https://localhost:8080/"
        },
        "id": "iBB6CckXWxaO",
        "outputId": "41c0d6f7-91e1-473c-b164-d10accf50ed2"
      },
      "outputs": [
        {
          "output_type": "stream",
          "name": "stdout",
          "text": [
            "<class 'pandas.core.frame.DataFrame'>\n",
            "RangeIndex: 10000 entries, 0 to 9999\n",
            "Data columns (total 11 columns):\n",
            " #   Column            Non-Null Count  Dtype  \n",
            "---  ------            --------------  -----  \n",
            " 0   credit_score      10000 non-null  int64  \n",
            " 1   geography         10000 non-null  object \n",
            " 2   gender            10000 non-null  object \n",
            " 3   age               10000 non-null  int64  \n",
            " 4   tenure            10000 non-null  int64  \n",
            " 5   balance           10000 non-null  float64\n",
            " 6   num_of_products   10000 non-null  int64  \n",
            " 7   has_credit_card   10000 non-null  int64  \n",
            " 8   is_active_member  10000 non-null  int64  \n",
            " 9   estimated_salary  10000 non-null  float64\n",
            " 10  exited            10000 non-null  int64  \n",
            "dtypes: float64(2), int64(7), object(2)\n",
            "memory usage: 859.5+ KB\n"
          ]
        }
      ],
      "source": [
        "# Заменим наименования признаков в соответствии с PEP8\n",
        "df.columns = ['credit_score', 'geography', 'gender', 'age', 'tenure', 'balance',\n",
        "       'num_of_products', 'has_credit_card', 'is_active_member', 'estimated_salary',\n",
        "       'exited']\n",
        "df.info()"
      ]
    },
    {
      "cell_type": "markdown",
      "metadata": {
        "id": "r6Dgtek_WxaO"
      },
      "source": [
        "### Разделение признаков на предсказывающие и целевой"
      ]
    },
    {
      "cell_type": "code",
      "execution_count": null,
      "metadata": {
        "id": "Bx3bYSj6WxaO"
      },
      "outputs": [],
      "source": [
        "# Разделим данные по признакам на target и features\n",
        "target = df.exited\n",
        "features = df.drop('exited', axis=1)"
      ]
    },
    {
      "cell_type": "markdown",
      "metadata": {
        "id": "5voBT7t6WxaO"
      },
      "source": [
        "**Исследуем соотношение классов по целевому признаку**"
      ]
    },
    {
      "cell_type": "code",
      "execution_count": null,
      "metadata": {
        "colab": {
          "base_uri": "https://localhost:8080/",
          "height": 437
        },
        "id": "CimW_K4QWxaO",
        "outputId": "a2232320-117e-47c5-e957-e1adc901dd55"
      },
      "outputs": [
        {
          "output_type": "display_data",
          "data": {
            "text/plain": [
              "<Figure size 700x400 with 1 Axes>"
            ],
            "image/png": "[encoded data removed]"
          },
          "metadata": {}
        },
        {
          "output_type": "execute_result",
          "data": {
            "text/plain": [
              "0   0.796\n",
              "1   0.204\n",
              "Name: exited, dtype: float64"
            ]
          },
          "metadata": {},
          "execution_count": 11
        }
      ],
      "source": [
        "(df['exited']\n",
        " .value_counts()\n",
        " .plot(\n",
        "     kind='bar',\n",
        "     grid=True,\n",
        "     figsize=(7, 4),\n",
        "     title='Соотношения целевого признака')\n",
        ")\n",
        "plt.show()\n",
        "\n",
        "target.value_counts(normalize=True)"
      ]
    },
    {
      "cell_type": "code",
      "execution_count": null,
      "metadata": {
        "colab": {
          "base_uri": "https://localhost:8080/"
        },
        "id": "5xQEKhYBWxaP",
        "outputId": "d9c4e344-3032-49ee-b4a7-36e8c9f3025e"
      },
      "outputs": [
        {
          "output_type": "stream",
          "name": "stdout",
          "text": [
            "Количество строк в обучающей выборке: 6000, или 60.0% от исходных данных\n",
            "Количество строк в тестовой выборке: 2000, или 20.0% от исходных данных\n",
            "Количество строк в валидационной выборке: 2000, или 20.0% от исходных данных\n"
          ]
        }
      ],
      "source": [
        "# Примем значение аргумента random_state в переменной state\n",
        "STATE = 1231\n",
        "\n",
        "# Разделяем исходные данные на обучающую и тестовую выборки в соотношении 60:40\n",
        "# Затем, полученную тестовую выборку еще раз разделим на тестовую и валидационную\n",
        "# Таким образом на обучающую выборку придется 60% данных, на тестовую и валидационную - по 20%\n",
        "features_train, features_valid, target_train, target_valid = train_test_split(\n",
        "    features,\n",
        "    target,\n",
        "    test_size=0.4,\n",
        "    stratify=target,\n",
        "    random_state=STATE)\n",
        "\n",
        "# Тестовую выборку разделим на тестовую и валидационную\n",
        "features_test, features_valid, target_test, target_valid = train_test_split(\n",
        "    features_valid,\n",
        "    target_valid,\n",
        "    test_size=0.5,\n",
        "    stratify=target_valid,\n",
        "    random_state=STATE)\n",
        "\n",
        "print(f'Количество строк в обучающей выборке: {features_train.shape[0]}, или {(len(features_train) / len(df)):.1%} от исходных данных')\n",
        "print(f'Количество строк в тестовой выборке: {features_test.shape[0]}, или {(len(features_test) / len(df)):.1%} от исходных данных')\n",
        "print(f'Количество строк в валидационной выборке: {features_valid.shape[0]}, или {(len(features_valid) / len(df)):.1%} от исходных данных')"
      ]
    },
    {
      "cell_type": "code",
      "execution_count": null,
      "metadata": {
        "colab": {
          "base_uri": "https://localhost:8080/",
          "height": 206
        },
        "id": "gozgkXcgWxaP",
        "outputId": "9d694476-b36e-4bfc-837e-2444fdcf5224"
      },
      "outputs": [
        {
          "output_type": "execute_result",
          "data": {
            "text/plain": [
              "      credit_score  age  tenure    balance  num_of_products  has_credit_card  \\\n",
              "3958           633   43       5      0.000                2                1   \n",
              "5458           635   35       2 113635.160                1                1   \n",
              "4045           687   36       5      0.000                1                1   \n",
              "6313           575   27       3 139301.680                1                1   \n",
              "2208           728   46       2 109705.520                1                1   \n",
              "\n",
              "      is_active_member  estimated_salary  geography_germany  geography_spain  \\\n",
              "3958                 1         48249.880                  0                0   \n",
              "5458                 0         90883.120                  0                1   \n",
              "4045                 0         17696.220                  0                1   \n",
              "6313                 0         99843.980                  0                0   \n",
              "2208                 0         20276.870                  0                0   \n",
              "\n",
              "      gender_male  \n",
              "3958            1  \n",
              "5458            1  \n",
              "4045            0  \n",
              "6313            1  \n",
              "2208            0  "
            ],
            "text/html": [
              "\n",
              "  <div id=\"df-2115e425-655b-42fc-aed4-c3e2c2b9d726\">\n",
              "    <div class=\"colab-df-container\">\n",
              "      <div>\n",
              "<style scoped>\n",
              "    .dataframe tbody tr th:only-of-type {\n",
              "        vertical-align: middle;\n",
              "    }\n",
              "\n",
              "    .dataframe tbody tr th {\n",
              "        vertical-align: top;\n",
              "    }\n",
              "\n",
              "    .dataframe thead th {\n",
              "        text-align: right;\n",
              "    }\n",
              "</style>\n",
              "<table border=\"1\" class=\"dataframe\">\n",
              "  <thead>\n",
              "    <tr style=\"text-align: right;\">\n",
              "      <th></th>\n",
              "      <th>credit_score</th>\n",
              "      <th>age</th>\n",
              "      <th>tenure</th>\n",
              "      <th>balance</th>\n",
              "      <th>num_of_products</th>\n",
              "      <th>has_credit_card</th>\n",
              "      <th>is_active_member</th>\n",
              "      <th>estimated_salary</th>\n",
              "      <th>geography_germany</th>\n",
              "      <th>geography_spain</th>\n",
              "      <th>gender_male</th>\n",
              "    </tr>\n",
              "  </thead>\n",
              "  <tbody>\n",
              "    <tr>\n",
              "      <th>3958</th>\n",
              "      <td>633</td>\n",
              "      <td>43</td>\n",
              "      <td>5</td>\n",
              "      <td>0.000</td>\n",
              "      <td>2</td>\n",
              "      <td>1</td>\n",
              "      <td>1</td>\n",
              "      <td>48249.880</td>\n",
              "      <td>0</td>\n",
              "      <td>0</td>\n",
              "      <td>1</td>\n",
              "    </tr>\n",
              "    <tr>\n",
              "      <th>5458</th>\n",
              "      <td>635</td>\n",
              "      <td>35</td>\n",
              "      <td>2</td>\n",
              "      <td>113635.160</td>\n",
              "      <td>1</td>\n",
              "      <td>1</td>\n",
              "      <td>0</td>\n",
              "      <td>90883.120</td>\n",
              "      <td>0</td>\n",
              "      <td>1</td>\n",
              "      <td>1</td>\n",
              "    </tr>\n",
              "    <tr>\n",
              "      <th>4045</th>\n",
              "      <td>687</td>\n",
              "      <td>36</td>\n",
              "      <td>5</td>\n",
              "      <td>0.000</td>\n",
              "      <td>1</td>\n",
              "      <td>1</td>\n",
              "      <td>0</td>\n",
              "      <td>17696.220</td>\n",
              "      <td>0</td>\n",
              "      <td>1</td>\n",
              "      <td>0</td>\n",
              "    </tr>\n",
              "    <tr>\n",
              "      <th>6313</th>\n",
              "      <td>575</td>\n",
              "      <td>27</td>\n",
              "      <td>3</td>\n",
              "      <td>139301.680</td>\n",
              "      <td>1</td>\n",
              "      <td>1</td>\n",
              "      <td>0</td>\n",
              "      <td>99843.980</td>\n",
              "      <td>0</td>\n",
              "      <td>0</td>\n",
              "      <td>1</td>\n",
              "    </tr>\n",
              "    <tr>\n",
              "      <th>2208</th>\n",
              "      <td>728</td>\n",
              "      <td>46</td>\n",
              "      <td>2</td>\n",
              "      <td>109705.520</td>\n",
              "      <td>1</td>\n",
              "      <td>1</td>\n",
              "      <td>0</td>\n",
              "      <td>20276.870</td>\n",
              "      <td>0</td>\n",
              "      <td>0</td>\n",
              "      <td>0</td>\n",
              "    </tr>\n",
              "  </tbody>\n",
              "</table>\n",
              "</div>\n",
              "      <button class=\"colab-df-convert\" onclick=\"convertToInteractive('df-2115e425-655b-42fc-aed4-c3e2c2b9d726')\"\n",
              "              title=\"Convert this dataframe to an interactive table.\"\n",
              "              style=\"display:none;\">\n",
              "        \n",
              "  <svg xmlns=\"http://www.w3.org/2000/svg\" height=\"24px\"viewBox=\"0 0 24 24\"\n",
              "       width=\"24px\">\n",
              "    <path d=\"M0 0h24v24H0V0z\" fill=\"none\"/>\n",
              "    <path d=\"M18.56 5.44l.94 2.06.94-2.06 2.06-.94-2.06-.94-.94-2.06-.94 2.06-2.06.94zm-11 1L8.5 8.5l.94-2.06 2.06-.94-2.06-.94L8.5 2.5l-.94 2.06-2.06.94zm10 10l.94 2.06.94-2.06 2.06-.94-2.06-.94-.94-2.06-.94 2.06-2.06.94z\"/><path d=\"M17.41 7.96l-1.37-1.37c-.4-.4-.92-.59-1.43-.59-.52 0-1.04.2-1.43.59L10.3 9.45l-7.72 7.72c-.78.78-.78 2.05 0 2.83L4 21.41c.39.39.9.59 1.41.59.51 0 1.02-.2 1.41-.59l7.78-7.78 2.81-2.81c.8-.78.8-2.07 0-2.86zM5.41 20L4 18.59l7.72-7.72 1.47 1.35L5.41 20z\"/>\n",
              "  </svg>\n",
              "      </button>\n",
              "      \n",
              "  <style>\n",
              "    .colab-df-container {\n",
              "      display:flex;\n",
              "      flex-wrap:wrap;\n",
              "      gap: 12px;\n",
              "    }\n",
              "\n",
              "    .colab-df-convert {\n",
              "      background-color: #E8F0FE;\n",
              "      border: none;\n",
              "      border-radius: 50%;\n",
              "      cursor: pointer;\n",
              "      display: none;\n",
              "      fill: #1967D2;\n",
              "      height: 32px;\n",
              "      padding: 0 0 0 0;\n",
              "      width: 32px;\n",
              "    }\n",
              "\n",
              "    .colab-df-convert:hover {\n",
              "      background-color: #E2EBFA;\n",
              "      box-shadow: 0px 1px 2px rgba(60, 64, 67, 0.3), 0px 1px 3px 1px rgba(60, 64, 67, 0.15);\n",
              "      fill: #174EA6;\n",
              "    }\n",
              "\n",
              "    [theme=dark] .colab-df-convert {\n",
              "      background-color: #3B4455;\n",
              "      fill: #D2E3FC;\n",
              "    }\n",
              "\n",
              "    [theme=dark] .colab-df-convert:hover {\n",
              "      background-color: #434B5C;\n",
              "      box-shadow: 0px 1px 3px 1px rgba(0, 0, 0, 0.15);\n",
              "      filter: drop-shadow(0px 1px 2px rgba(0, 0, 0, 0.3));\n",
              "      fill: #FFFFFF;\n",
              "    }\n",
              "  </style>\n",
              "\n",
              "      <script>\n",
              "        const buttonEl =\n",
              "          document.querySelector('#df-2115e425-655b-42fc-aed4-c3e2c2b9d726 button.colab-df-convert');\n",
              "        buttonEl.style.display =\n",
              "          google.colab.kernel.accessAllowed ? 'block' : 'none';\n",
              "\n",
              "        async function convertToInteractive(key) {\n",
              "          const element = document.querySelector('#df-2115e425-655b-42fc-aed4-c3e2c2b9d726');\n",
              "          const dataTable =\n",
              "            await google.colab.kernel.invokeFunction('convertToInteractive',\n",
              "                                                     [key], {});\n",
              "          if (!dataTable) return;\n",
              "\n",
              "          const docLinkHtml = 'Like what you see? Visit the ' +\n",
              "            '<a target=\"_blank\" href=https://colab.research.google.com/notebooks/data_table.ipynb>data table notebook</a>'\n",
              "            + ' to learn more about interactive tables.';\n",
              "          element.innerHTML = '';\n",
              "          dataTable['output_type'] = 'display_data';\n",
              "          await google.colab.output.renderOutput(dataTable, element);\n",
              "          const docLink = document.createElement('div');\n",
              "          docLink.innerHTML = docLinkHtml;\n",
              "          element.appendChild(docLink);\n",
              "        }\n",
              "      </script>\n",
              "    </div>\n",
              "  </div>\n",
              "  "
            ]
          },
          "metadata": {},
          "execution_count": 13
        }
      ],
      "source": [
        "# Применим метод прямого кодирования для преобразования категориальных признаков\n",
        "features_train = pd.get_dummies(features_train, drop_first=True)\n",
        "features_valid = pd.get_dummies(features_valid, drop_first=True)\n",
        "features_test = pd.get_dummies(features_test, drop_first=True)\n",
        "\n",
        "features_train.columns = features_train.columns.str.lower()\n",
        "features_valid.columns = features_valid.columns.str.lower()\n",
        "features_test.columns = features_test.columns.str.lower()\n",
        "\n",
        "features_train.head()\n",
        "\n",
        "#columns = ['Gender', 'Geography']\n",
        "#encoder = OneHotEncoder()\n",
        "#ohe = pd.DataFrame(encoder.fit_transform(df[columns]))\n",
        "#ohe.columns = encoder.get_feature_names_out(columns)\n",
        "#df_ohe = df.join(ohe)\n",
        "#df_ohe.drop(columns, axis=1, inplace=True)"
      ]
    },
    {
      "cell_type": "code",
      "execution_count": null,
      "metadata": {
        "id": "zw8_fMd_WxaQ"
      },
      "outputs": [],
      "source": [
        "# Масштабируем признаки\n",
        "\n",
        "numeric = ['credit_score', 'age', 'balance', 'estimated_salary']\n",
        "\n",
        "scaler = StandardScaler()\n",
        "scaler.fit(features_train[numeric])\n",
        "\n",
        "pd.options.mode.chained_assignment = None\n",
        "\n",
        "features_train[numeric] = scaler.transform(features_train[numeric])\n",
        "features_test[numeric] = scaler.transform(features_test[numeric])\n",
        "features_valid[numeric] = scaler.transform(features_valid[numeric])"
      ]
    },
    {
      "cell_type": "markdown",
      "metadata": {
        "id": "DCSmY_J_WxaQ"
      },
      "source": [
        "### Вывод\n",
        "\n",
        "Данные прочитаны и сохранены в переменной `df`. Исходные данные содержат 10000 объектов и 14 признаков. Признак `Tenure` содержит 909 пропусков, которые мы обработаем ниже. Явных дубликатов в данных не выявлено. Из данных было решено удалить признаки `RowNumber`, `CustomerId` и `Surname`, так как они не несут важной информации для построения предсказывающей модели, и даже, могут ухудшить её.\n",
        "\n",
        "Пропуски признака Tenure, содержащего в себе данные о стаже человека в статусе клиента банка, было решено заменить медианой. Решение заменить пропуски на нули, на наш взгляд, было бы не верным, так как другие признаки объекта намекают на то, что человек все же является клиентом банка.\n",
        "\n",
        "На данном этапе был применен метод прямого кодирования для преобразования категориальных признаков в численные для того, чтобы модель могла учитывать эти данные при обучении. Признак Gender представлен признаком male, содержащим бинарные значения (если объект является мужчиной - 1, если женщиной - 0), для избежания мультиколлинеарности данных.\n",
        "\n",
        "Наименования признаков были изменены в соответствии со стандартами PEP8 языка Python.\n",
        "\n",
        "Исследовали дисбаланс классов целевого признака. Отрицательных классов в 3,91 раза больше положительных. Эти наблюдения мы применим ниже для балансировки данных.\n",
        "\n",
        "Разделили исходные данные на обучающую, валидационную и тестовую выборки в соотношении 60:20:20. При разделении выборок применили метод стратификации, чтобы избежать дисбаланса классов.\n",
        "\n",
        "Так как датасет имеет различные по величинам признаки, было сделано масштабирование признаков, исключая признаки, содержащие бинарные значения."
      ]
    },
    {
      "cell_type": "markdown",
      "metadata": {
        "id": "MOSuZSrQWxaR"
      },
      "source": [
        "## Исследование задачи"
      ]
    },
    {
      "cell_type": "markdown",
      "metadata": {
        "id": "KYKWENTDWxad"
      },
      "source": [
        "### Модель \"Дерево решений\""
      ]
    },
    {
      "cell_type": "code",
      "source": [
        "def TreeModel(X=X_train, y=y_train, balance=None):\n",
        "\n",
        "  model = DecisionTreeClassifier(random_state=STATE,\n",
        "                                 criterion='gini',\n",
        "                                 class_weight=balanced)\n",
        "\n",
        "  grid_params={'max_depth': range(1, 16)}\n",
        "\n",
        "  grid = GridSearchCV(model,\n",
        "                      grid_params,\n",
        "                      cv=3,\n",
        "                      scoring=make_scorer(f1_score,\n",
        "                                          greater_is_better=True))\n",
        "\n",
        "  grid.fit(X, y)\n",
        "\n",
        "  print(grid.best_params_)\n",
        "\n",
        "  model = grid.best_estimator_\n",
        "  model.fit(X, y)\n",
        "\n",
        "  predicted = model.predict(X)\n",
        "\n",
        "  print('Метрика F1 для модели DecisionTreeClassifier =', round(grid.best_score_, 3))\n",
        "\n",
        "  return model,\n",
        "\n",
        "\n",
        "best_model_unbalanced_dr = None\n",
        "best_result_f1_unbalanced_dr = 0\n",
        "best_result_auc_roc_unbalanced_dr = 0\n",
        "best_depth_unbalanced_dr = 0\n",
        "\n",
        "for depth in range(1, 16):\n",
        "    model_unbalanced_dr = DecisionTreeClassifier(\n",
        "        random_state=STATE,\n",
        "        max_depth=depth,\n",
        "        criterion='gini')\n",
        "\n",
        "    model_unbalanced_dr.fit(features_train, target_train)\n",
        "    predictions_unbalanced_dr = model_unbalanced_dr.predict(features_valid)\n",
        "    probabilities_unbalanced_dr = model_unbalanced_dr.predict_proba(features_valid)\n",
        "    probabilities_one_valid_unbalanced_dr = probabilities_unbalanced_dr[:,1]\n",
        "    result_f1_unbalanced_dr = f1_score(predictions_unbalanced_dr, target_valid)\n",
        "    result_auc_roc_unbalanced_dr = roc_auc_score(target_valid, probabilities_one_valid_unbalanced_dr)\n",
        "\n",
        "    if result_f1_unbalanced_dr > best_result_f1_unbalanced_dr:\n",
        "        best_model_unbalanced_dr = model_unbalanced_dr\n",
        "        best_result_f1_unbalanced_dr = result_f1_unbalanced_dr\n",
        "        best_result_auc_roc_unbalanced_dr = result_auc_roc_unbalanced_dr\n",
        "        best_depth_unbalanced_dr = depth\n",
        "\n",
        "fpr_unbalanced_dr, tpr_unbalanced_dr, thresholds = roc_curve(target_valid, probabilities_one_valid_unbalanced_dr)\n",
        "\n",
        "f1_unbalanced_dr = best_result_f1_unbalanced_dr\n",
        "auc_roc_unbalanced_dr = best_result_auc_roc_unbalanced_dr\n",
        "\n",
        "print('Наилучшие результаты модели Дерево решений:')\n",
        "print(f'\\n\\tГлубина дерева:\\t{best_depth_unbalanced_dr}')"
      ],
      "metadata": {
        "id": "9iKWaO5eNgXE",
        "colab": {
          "base_uri": "https://localhost:8080/",
          "height": 236
        },
        "outputId": "b02f7089-09ed-49ac-fd4e-7602b7b90266"
      },
      "execution_count": null,
      "outputs": [
        {
          "output_type": "error",
          "ename": "NameError",
          "evalue": "ignored",
          "traceback": [
            "\u001b[0;31m---------------------------------------------------------------------------\u001b[0m",
            "\u001b[0;31mNameError\u001b[0m                                 Traceback (most recent call last)",
            "\u001b[0;32m<ipython-input-16-0941811adabc>\u001b[0m in \u001b[0;36m<cell line: 1>\u001b[0;34m()\u001b[0m\n\u001b[0;32m----> 1\u001b[0;31m \u001b[0;32mdef\u001b[0m \u001b[0mTreeModel\u001b[0m\u001b[0;34m(\u001b[0m\u001b[0mX\u001b[0m\u001b[0;34m=\u001b[0m\u001b[0mX_train\u001b[0m\u001b[0;34m,\u001b[0m \u001b[0my\u001b[0m\u001b[0;34m=\u001b[0m\u001b[0my_train\u001b[0m\u001b[0;34m,\u001b[0m \u001b[0mbalance\u001b[0m\u001b[0;34m=\u001b[0m\u001b[0;32mNone\u001b[0m\u001b[0;34m)\u001b[0m\u001b[0;34m:\u001b[0m\u001b[0;34m\u001b[0m\u001b[0;34m\u001b[0m\u001b[0m\n\u001b[0m\u001b[1;32m      2\u001b[0m \u001b[0;34m\u001b[0m\u001b[0m\n\u001b[1;32m      3\u001b[0m   model = DecisionTreeClassifier(random_state=STATE,\n\u001b[1;32m      4\u001b[0m                                  \u001b[0mcriterion\u001b[0m\u001b[0;34m=\u001b[0m\u001b[0;34m'gini'\u001b[0m\u001b[0;34m,\u001b[0m\u001b[0;34m\u001b[0m\u001b[0;34m\u001b[0m\u001b[0m\n\u001b[1;32m      5\u001b[0m                                  class_weight=balanced)\n",
            "\u001b[0;31mNameError\u001b[0m: name 'X_train' is not defined"
          ]
        }
      ]
    },
    {
      "cell_type": "code",
      "execution_count": null,
      "metadata": {
        "id": "g2mHOw7zWxad"
      },
      "outputs": [],
      "source": [
        "best_model_unbalanced_dr = None\n",
        "best_result_f1_unbalanced_dr = 0\n",
        "best_result_auc_roc_unbalanced_dr = 0\n",
        "best_depth_unbalanced_dr = 0\n",
        "\n",
        "for depth in range(1, 16):\n",
        "    model_unbalanced_dr = DecisionTreeClassifier(\n",
        "        random_state=STATE,\n",
        "        max_depth=depth,\n",
        "        criterion='gini')\n",
        "\n",
        "    model_unbalanced_dr.fit(features_train, target_train)\n",
        "    predictions_unbalanced_dr = model_unbalanced_dr.predict(features_valid)\n",
        "    probabilities_unbalanced_dr = model_unbalanced_dr.predict_proba(features_valid)\n",
        "    probabilities_one_valid_unbalanced_dr = probabilities_unbalanced_dr[:,1]\n",
        "    result_f1_unbalanced_dr = f1_score(predictions_unbalanced_dr, target_valid)\n",
        "    result_auc_roc_unbalanced_dr = roc_auc_score(target_valid, probabilities_one_valid_unbalanced_dr)\n",
        "\n",
        "    if result_f1_unbalanced_dr > best_result_f1_unbalanced_dr:\n",
        "        best_model_unbalanced_dr = model_unbalanced_dr\n",
        "        best_result_f1_unbalanced_dr = result_f1_unbalanced_dr\n",
        "        best_result_auc_roc_unbalanced_dr = result_auc_roc_unbalanced_dr\n",
        "        best_depth_unbalanced_dr = depth\n",
        "\n",
        "fpr_unbalanced_dr, tpr_unbalanced_dr, thresholds = roc_curve(target_valid, probabilities_one_valid_unbalanced_dr)\n",
        "\n",
        "f1_unbalanced_dr = best_result_f1_unbalanced_dr\n",
        "auc_roc_unbalanced_dr = best_result_auc_roc_unbalanced_dr\n",
        "\n",
        "print('Наилучшие результаты модели Дерево решений:')\n",
        "print(f'\\n\\tГлубина дерева:\\t{best_depth_unbalanced_dr}')"
      ]
    },
    {
      "cell_type": "markdown",
      "metadata": {
        "id": "yYpJaewVWxae"
      },
      "source": [
        "### Модель \"Случайный лес\""
      ]
    },
    {
      "cell_type": "code",
      "execution_count": null,
      "metadata": {
        "id": "RJFJZyFMWxaf"
      },
      "outputs": [],
      "source": [
        "best_model_unbalanced_rf = None\n",
        "best_result_f1_unbalanced_rf = 0\n",
        "best_result_auc_roc_unbalanced_rf = 0\n",
        "best_est_unbalanced_rf = 0\n",
        "best_depth_unbalanced_rf = 0\n",
        "\n",
        "for est in tqdm(range(50, 70, 2)):\n",
        "    for depth in range(10, 16):\n",
        "        model_unbalanced_rf = RandomForestClassifier(\n",
        "            random_state=STATE,\n",
        "            n_estimators=est,\n",
        "            max_depth = depth)\n",
        "\n",
        "        model_unbalanced_rf.fit(features_train, target_train)\n",
        "        predictions_unbalanced_rf = model_unbalanced_rf.predict(features_valid)\n",
        "        probabilities_unbalanced_rf = model_unbalanced_rf.predict_proba(features_valid)\n",
        "        probabilities_one_valid_unbalanced_rf = probabilities_unbalanced_rf[:,1]\n",
        "\n",
        "        result_f1_unbalanced_rf = f1_score(predictions_unbalanced_rf, target_valid)\n",
        "        result_auc_roc_unbalanced_rf = roc_auc_score(target_valid, probabilities_one_valid_unbalanced_rf)\n",
        "\n",
        "        if result_f1_unbalanced_rf > best_result_f1_unbalanced_rf:\n",
        "            best_model_unbalanced_rf = model_unbalanced_rf\n",
        "            best_result_f1_unbalanced_rf = result_f1_unbalanced_rf\n",
        "            best_result_auc_roc_unbalanced_rf = result_auc_roc_unbalanced_rf\n",
        "            best_depth_unbalanced_rf = depth\n",
        "            best_est_unbalanced_rf = est\n",
        "\n",
        "fpr_unbalanced_rf, tpr_unbalanced_rf, thresholds = roc_curve(target_valid, probabilities_one_valid_unbalanced_rf)\n",
        "\n",
        "f1_unbalanced_rf = best_result_f1_unbalanced_rf\n",
        "auc_roc_unbalanced_rf = best_result_auc_roc_unbalanced_rf\n",
        "\n",
        "print('Наилучшие результаты модели Случайный лес:')\n",
        "print(f'\\n\\tГлубина дерева:\\t\\t{best_depth_unbalanced_rf}')\n",
        "print(f'\\tКоличество деревьев:\\t{best_est_unbalanced_rf}')"
      ]
    },
    {
      "cell_type": "markdown",
      "metadata": {
        "id": "P_FpqS6DWxaf"
      },
      "source": [
        "### Модель \"Логистическая регрессия\""
      ]
    },
    {
      "cell_type": "code",
      "execution_count": null,
      "metadata": {
        "id": "SI2OTJjcWxag"
      },
      "outputs": [],
      "source": [
        "solvers = ['lbfgs', 'liblinear', 'newton-cg', 'sag', 'saga']\n",
        "best_model_unbalanced_lr = None\n",
        "best_result_f1_unbalanced_lr = 0\n",
        "best_result_auc_roc_unbalanced_lr = 0\n",
        "best_solver_unbalanced_lr = None\n",
        "\n",
        "for i in tqdm(solvers):\n",
        "    model_unbalanced_lr = LogisticRegression(\n",
        "            random_state=STATE,\n",
        "            solver=i,\n",
        "            max_iter=1000)\n",
        "\n",
        "    model_unbalanced_lr.fit(features_train, target_train)\n",
        "    predictions_unbalanced_lr = model_unbalanced_lr.predict(features_valid)\n",
        "    probabilities_unbalanced_lr = model_unbalanced_lr.predict_proba(features_valid)\n",
        "    probabilities_one_valid_unbalanced_lr = probabilities_unbalanced_lr[:,1]\n",
        "    result_f1_unbalanced_lr = f1_score(predictions_unbalanced_lr, target_valid)\n",
        "    result_auc_roc_unbalanced_lr = roc_auc_score(target_valid, predictions_unbalanced_lr)\n",
        "\n",
        "    if result_f1_unbalanced_lr > best_result_f1_unbalanced_lr:\n",
        "        best_model_unbalanced_lr = model_unbalanced_lr\n",
        "        best_result_f1_unbalanced_lr = result_f1_unbalanced_lr\n",
        "        best_result_auc_roc_unbalanced_lr = result_auc_roc_unbalanced_lr\n",
        "        best_solver_unbalanced_lr = i\n",
        "\n",
        "f1_unbalanced_lr = best_result_f1_unbalanced_lr\n",
        "auc_roc_unbalanced_lr = best_result_auc_roc_unbalanced_lr\n",
        "\n",
        "fpr_unbalanced_lr, tpr_unbalanced_lr, thresholds = roc_curve(target_valid, probabilities_one_valid_unbalanced_lr)\n",
        "\n",
        "print('Наилучшие результаты модели Логистическая регрессия:')\n",
        "print(f'\\n\\tАлгоритм решения:\\t{best_solver_unbalanced_lr}')"
      ]
    },
    {
      "cell_type": "markdown",
      "metadata": {
        "id": "CuFICiZjWxag"
      },
      "source": [
        "### Результаты"
      ]
    },
    {
      "cell_type": "code",
      "execution_count": null,
      "metadata": {
        "scrolled": true,
        "id": "_2PYkZMPWxag"
      },
      "outputs": [],
      "source": [
        "(\n",
        "    pd.DataFrame(\n",
        "        {'unbalanced': ['Дерево решений', 'Случайный лес', 'Логистическая регрессия'],\n",
        "         'F1_score': [f1_unbalanced_dr, f1_unbalanced_rf, f1_unbalanced_lr],\n",
        "         'AUC-ROC': [auc_roc_unbalanced_dr, auc_roc_unbalanced_rf, auc_roc_unbalanced_lr]})\n",
        "    .set_index('unbalanced')\n",
        ")"
      ]
    },
    {
      "cell_type": "markdown",
      "metadata": {
        "id": "hdOgAzpJWxah"
      },
      "source": [
        "### Построим ROC-кривую"
      ]
    },
    {
      "cell_type": "code",
      "execution_count": null,
      "metadata": {
        "id": "x5oOE3zjWxah"
      },
      "outputs": [],
      "source": [
        "plt.figure()\n",
        "\n",
        "plt.figure(figsize=(12,8))\n",
        "plt.plot([0, 1], [0, 1], linestyle='--')\n",
        "plt.xlim([0.0, 1.0])\n",
        "plt.ylim([0.0, 1.0])\n",
        "plt.plot(fpr_unbalanced_lr, tpr_unbalanced_lr)\n",
        "plt.plot(fpr_unbalanced_dr, tpr_unbalanced_dr)\n",
        "plt.plot(fpr_unbalanced_rf, tpr_unbalanced_rf)\n",
        "plt.xlabel('False Positive Rate')\n",
        "plt.ylabel('True Positive Rate')\n",
        "plt.title('ROC-кривая')\n",
        "plt.legend(('Случайная модель',\n",
        "            'Логистическая регрессия',\n",
        "            'Дерево решения',\n",
        "            'Случайный лес'),\n",
        "           loc= 'upper left')\n",
        "plt.show()"
      ]
    },
    {
      "cell_type": "markdown",
      "metadata": {
        "id": "FTi9iPSDWxah"
      },
      "source": [
        "**Промежуточный вывод:** На данном этапе мы обучили три модели на несбалансированных выборках и вычислили лучшие метрики каждой из них.\n",
        "\n",
        "В результате, лучшей моделью оказалось Дерево решений (F1 = 0.574 и AUC-ROC = 0.820). Однако, модель Случайного леса отстает не значительно (F1 = 0.572 и AUC-ROC = 0.845). Логистическая регрессия сильно проигрывает (F1 = 0.335 и AUC-ROC = 0.596)"
      ]
    },
    {
      "cell_type": "markdown",
      "metadata": {
        "id": "89vcxnuiWxai"
      },
      "source": [
        "## Борьба с дисбалансом"
      ]
    },
    {
      "cell_type": "markdown",
      "metadata": {
        "id": "o4_Ds3m8Wxai"
      },
      "source": [
        "### Добавление `class_weight='balanced'`"
      ]
    },
    {
      "cell_type": "markdown",
      "metadata": {
        "id": "4CTa0-XQWxai"
      },
      "source": [
        "#### Модель \"Дерево решений\""
      ]
    },
    {
      "cell_type": "code",
      "execution_count": null,
      "metadata": {
        "id": "JT8e_JVSWxai"
      },
      "outputs": [],
      "source": [
        "best_model_balanced_dr = None\n",
        "best_result_f1_balanced_dr = 0\n",
        "best_result_auc_roc_balanced_dr = 0\n",
        "best_depth_balanced_dr = 0\n",
        "\n",
        "for depth in range(1, 16):\n",
        "    model_balanced_dr = DecisionTreeClassifier(\n",
        "        random_state=STATE,\n",
        "        max_depth=depth,\n",
        "        criterion='gini',\n",
        "        class_weight='balanced')\n",
        "\n",
        "    model_balanced_dr.fit(features_train, target_train)\n",
        "    predictions_balanced_dr = model_balanced_dr.predict(features_valid)\n",
        "    probabilities_balanced_dr = model_balanced_dr.predict_proba(features_valid)\n",
        "    probabilities_one_valid_balanced_dr = probabilities_balanced_dr[:,1]\n",
        "    result_f1_balanced_dr = f1_score(predictions_balanced_dr, target_valid)\n",
        "    result_auc_roc_balanced_dr = roc_auc_score(target_valid, probabilities_one_valid_balanced_dr)\n",
        "\n",
        "    if result_f1_balanced_dr > best_result_f1_balanced_dr:\n",
        "        best_model_balanced_dr = model_balanced_dr\n",
        "        best_result_f1_balanced_dr = result_f1_balanced_dr\n",
        "        best_result_auc_roc_balanced_dr = result_auc_roc_balanced_dr\n",
        "        best_depth_balanced_dr = depth\n",
        "\n",
        "fpr_balanced_dr, tpr_balanced_dr, thresholds = roc_curve(target_valid, probabilities_one_valid_balanced_dr)\n",
        "\n",
        "f1_balanced_dr = best_result_f1_balanced_dr\n",
        "auc_roc_balanced_dr = best_result_auc_roc_balanced_dr\n",
        "\n",
        "print('Наилучшие результаты модели Дерево решений:')\n",
        "print(f'\\n\\tГлубина дерева:\\t{best_depth_balanced_dr}')"
      ]
    },
    {
      "cell_type": "markdown",
      "metadata": {
        "id": "Lu9c0UclWxaj"
      },
      "source": [
        "#### Модель \"Случайный лес\""
      ]
    },
    {
      "cell_type": "code",
      "execution_count": null,
      "metadata": {
        "id": "RjX0LrAEWxaj"
      },
      "outputs": [],
      "source": [
        "best_model_balanced_rf = None\n",
        "best_result_f1_balanced_rf = 0\n",
        "best_result_auc_roc_balanced_rf = 0\n",
        "best_est_balanced_rf = 0\n",
        "best_depth_balanced_rf = 0\n",
        "\n",
        "for est in tqdm(range(50, 70, 2)):\n",
        "    for depth in range(10, 16):\n",
        "        model_balanced_rf = RandomForestClassifier(\n",
        "            random_state=STATE,\n",
        "            n_estimators=est,\n",
        "            max_depth = depth,\n",
        "            class_weight='balanced')\n",
        "\n",
        "        model_balanced_rf.fit(features_train, target_train)\n",
        "        predictions_balanced_rf = model_balanced_rf.predict(features_valid)\n",
        "        probabilities_balanced_rf = model_balanced_rf.predict_proba(features_valid)\n",
        "        probabilities_one_valid_balanced_rf = probabilities_balanced_rf[:,1]\n",
        "\n",
        "        result_f1_balanced_rf = f1_score(predictions_balanced_rf, target_valid)\n",
        "        result_auc_roc_balanced_rf = roc_auc_score(target_valid, probabilities_one_valid_balanced_rf)\n",
        "\n",
        "        if result_f1_balanced_rf > best_result_f1_balanced_rf:\n",
        "            best_model_balanced_rf = model_balanced_rf\n",
        "            best_result_f1_balanced_rf = result_f1_balanced_rf\n",
        "            best_result_auc_roc_balanced_rf = result_auc_roc_balanced_rf\n",
        "            best_depth_balanced_rf = depth\n",
        "            best_est_balanced_rf = est\n",
        "\n",
        "fpr_balanced_rf, tpr_balanced_rf, thresholds = roc_curve(target_valid, probabilities_one_valid_balanced_rf)\n",
        "\n",
        "f1_balanced_rf = best_result_f1_balanced_rf\n",
        "auc_roc_balanced_rf = best_result_auc_roc_balanced_rf\n",
        "\n",
        "print('Наилучшие результаты модели Случайный лес:')\n",
        "print(f'\\n\\tГлубина дерева:\\t\\t{best_depth_balanced_rf}')\n",
        "print(f'\\tКоличество деревьев:\\t{best_est_balanced_rf}')"
      ]
    },
    {
      "cell_type": "markdown",
      "metadata": {
        "id": "PE8RKI13Wxaj"
      },
      "source": [
        "<div class=\"alert alert-block alert-warning\">\n",
        "<b>Изменения:</b> Исправил расчет метрики AUC-ROC и добавил перебор гиперпараметров\n",
        "</div>"
      ]
    },
    {
      "cell_type": "markdown",
      "metadata": {
        "id": "ZPDiSMxlWxaj"
      },
      "source": [
        "#### Модель \"Логистическая регрессия\""
      ]
    },
    {
      "cell_type": "code",
      "execution_count": null,
      "metadata": {
        "id": "Vzf6NUwQWxak"
      },
      "outputs": [],
      "source": [
        "solvers = ['lbfgs', 'liblinear', 'newton-cg', 'sag', 'saga']\n",
        "best_model_balanced_lr = None\n",
        "best_result_f1_balanced_lr = 0\n",
        "best_result_auc_roc_balanced_lr = 0\n",
        "best_solver_balanced_lr = None\n",
        "\n",
        "for i in tqdm(solvers):\n",
        "    model_balanced_lr = LogisticRegression(\n",
        "            random_state=STATE,\n",
        "            solver=i,\n",
        "            max_iter=1000,\n",
        "            class_weight='balanced')\n",
        "\n",
        "    model_balanced_lr.fit(features_train, target_train)\n",
        "    predictions_balanced_lr = model_balanced_lr.predict(features_valid)\n",
        "    probabilities_balanced_lr = model_balanced_lr.predict_proba(features_valid)\n",
        "    probabilities_one_valid_balanced_lr = probabilities_balanced_lr[:,1]\n",
        "    result_f1_balanced_lr = f1_score(predictions_balanced_lr, target_valid)\n",
        "    result_auc_roc_balanced_lr = roc_auc_score(target_valid, predictions_balanced_lr)\n",
        "\n",
        "    if result_f1_balanced_lr > best_result_f1_balanced_lr:\n",
        "        best_model_balanced_lr = model_balanced_lr\n",
        "        best_result_f1_balanced_lr = result_f1_balanced_lr\n",
        "        best_result_auc_roc_balanced_lr = result_auc_roc_balanced_lr\n",
        "        best_solver_balanced_lr = i\n",
        "\n",
        "f1_balanced_lr = best_result_f1_balanced_lr\n",
        "auc_roc_balanced_lr = best_result_auc_roc_balanced_lr\n",
        "\n",
        "fpr_balanced_lr, tpr_balanced_lr, thresholds = roc_curve(target_valid, probabilities_one_valid_balanced_lr)\n",
        "\n",
        "print('Наилучшие результаты модели Логистическая регрессия:')\n",
        "print(f'\\n\\tАлгоритм решения:\\t{best_solver_balanced_lr}')"
      ]
    },
    {
      "cell_type": "markdown",
      "metadata": {
        "id": "HHmSfkPtWxak"
      },
      "source": [
        "<div class=\"alert alert-block alert-warning\">\n",
        "<b>Изменения:</b> Исправил расчет метрики AUC-ROC и добавил перебор гиперпараметров\n",
        "</div>"
      ]
    },
    {
      "cell_type": "markdown",
      "metadata": {
        "id": "jUtJMXFRWxak"
      },
      "source": [
        "#### Результаты"
      ]
    },
    {
      "cell_type": "code",
      "execution_count": null,
      "metadata": {
        "scrolled": true,
        "id": "t4rC2s7NWxak"
      },
      "outputs": [],
      "source": [
        "balanced_models = (\n",
        "    pd.DataFrame(\n",
        "        {'balanced': ['Дерево решений', 'Случайный лес', 'Логистическая регрессия'],\n",
        "         'F1_score': [f1_balanced_dr, f1_balanced_rf, f1_balanced_lr],\n",
        "         'AUC-ROC': [auc_roc_balanced_dr, auc_roc_balanced_rf, auc_roc_balanced_lr]})\n",
        "    .set_index('balanced')\n",
        ")\n",
        "balanced_models"
      ]
    },
    {
      "cell_type": "markdown",
      "metadata": {
        "id": "G5TnWmT8Wxal"
      },
      "source": [
        "#### Построим ROC-кривую"
      ]
    },
    {
      "cell_type": "code",
      "execution_count": null,
      "metadata": {
        "id": "CJhsgcuDWxal"
      },
      "outputs": [],
      "source": [
        "plt.figure()\n",
        "\n",
        "plt.figure(figsize=(12,8))\n",
        "plt.plot([0, 1], [0, 1], linestyle='--')\n",
        "plt.xlim([0.0, 1.0])\n",
        "plt.ylim([0.0, 1.0])\n",
        "plt.plot(fpr_balanced_lr, tpr_balanced_lr)\n",
        "plt.plot(fpr_balanced_dr, tpr_balanced_dr)\n",
        "plt.plot(fpr_balanced_rf,tpr_balanced_rf)\n",
        "plt.xlabel('False Positive Rate')\n",
        "plt.ylabel('True Positive Rate')\n",
        "plt.title('ROC-кривая')\n",
        "plt.legend(('Случайная модель','Логистическая регрессия','Дерево решения','Случайный лес'),\n",
        "           loc= 'upper left')\n",
        "plt.show()"
      ]
    },
    {
      "cell_type": "markdown",
      "metadata": {
        "id": "yZecShscWxal"
      },
      "source": [
        "**Промежуточный вывод:** На данном этапе применили к обучающим моделям аргумент `class_weight='balanced'`, который определяет веса класса. По умолчанию, модель считает все классы равнозначными. При указании значения `'balanced'` модель автоматически настраивает веса классов, обратно пропорциональных частотам классов во входных данных.\n",
        "\n",
        "После подстановки данного аргумента, лучший результат по метрике F1 показала модель Случайного леса, а по AUC-ROC - Дерево решений. Логистическая регрессия также сильно отстает"
      ]
    },
    {
      "cell_type": "markdown",
      "metadata": {
        "id": "hbQnMXjKWxam"
      },
      "source": [
        "### Увеличение выборки"
      ]
    },
    {
      "cell_type": "markdown",
      "metadata": {
        "id": "QBYmEFM3Wxam"
      },
      "source": [
        "#### Увеличим количество положительных ответов"
      ]
    },
    {
      "cell_type": "code",
      "execution_count": null,
      "metadata": {
        "id": "hfcQFAqoWxam"
      },
      "outputs": [],
      "source": [
        "# Увеличим в выборке положительные ответы в 4 раза\n",
        "repeat = 4\n",
        "\n",
        "features_zeros = features_train[target_train == 0]\n",
        "features_ones = features_train[target_train == 1]\n",
        "target_zeros = target_train[target_train == 0]\n",
        "target_ones = target_train[target_train == 1]\n",
        "\n",
        "features_upsampled = pd.concat([features_zeros] + [features_ones] * repeat)\n",
        "target_upsampled = pd.concat([target_zeros] + [target_ones] * repeat)\n",
        "\n",
        "features_upsampled, target_upsampled = shuffle(\n",
        "    features_upsampled,\n",
        "    target_upsampled,\n",
        "    random_state=STATE)\n",
        "\n",
        "print(f'\\nВ целевом признаке классы распределены в соотношении {target_upsampled.value_counts(normalize=True)[0]:.2%}/{target_upsampled.value_counts(normalize=True)[1]:.2%}')"
      ]
    },
    {
      "cell_type": "markdown",
      "metadata": {
        "id": "bT8fd27YWxan"
      },
      "source": [
        "#### Модель \"Дерево решений\""
      ]
    },
    {
      "cell_type": "code",
      "execution_count": null,
      "metadata": {
        "id": "ZyeRnDBsWxan"
      },
      "outputs": [],
      "source": [
        "best_model_upsampled_dr = None\n",
        "best_result_f1_upsampled_dr = 0\n",
        "best_result_auc_roc_upsampled_dr = 0\n",
        "best_depth_upsampled_dr = 0\n",
        "\n",
        "for depth in range(1, 16):\n",
        "    model_upsampled_dr = DecisionTreeClassifier(\n",
        "        random_state=STATE,\n",
        "        max_depth=depth,\n",
        "        criterion='gini')\n",
        "\n",
        "    model_upsampled_dr.fit(features_upsampled, target_upsampled)\n",
        "    predictions_upsampled_dr = model_upsampled_dr.predict(features_valid)\n",
        "    probabilities_upsampled_dr = model_upsampled_dr.predict_proba(features_valid)\n",
        "    probabilities_one_valid_upsampled_dr = probabilities_upsampled_dr[:,1]\n",
        "    result_f1_upsampled_dr = f1_score(predictions_upsampled_dr, target_valid)\n",
        "    result_auc_roc_upsampled_dr = roc_auc_score(target_valid, probabilities_one_valid_upsampled_dr)\n",
        "\n",
        "    if result_f1_upsampled_dr > best_result_f1_upsampled_dr:\n",
        "        best_model_upsampled_dr = model_upsampled_dr\n",
        "        best_result_f1_upsampled_dr = result_f1_upsampled_dr\n",
        "        best_result_auc_roc_upsampled_dr = result_auc_roc_upsampled_dr\n",
        "        best_depth_upsampled_dr = depth\n",
        "\n",
        "fpr_upsampled_dr, tpr_upsampled_dr, thresholds = roc_curve(target_valid, probabilities_one_valid_upsampled_dr)\n",
        "\n",
        "f1_upsampled_dr = best_result_f1_upsampled_dr\n",
        "auc_roc_upsampled_dr = best_result_auc_roc_upsampled_dr\n",
        "\n",
        "print('Наилучшие результаты модели Дерево решений:')\n",
        "print(f'\\n\\tГлубина дерева:\\t{best_depth_upsampled_dr}')"
      ]
    },
    {
      "cell_type": "markdown",
      "metadata": {
        "id": "u0_vNsS0Wxao"
      },
      "source": [
        "#### Модель \"Случайный лес\""
      ]
    },
    {
      "cell_type": "code",
      "execution_count": null,
      "metadata": {
        "id": "9vZXJ521Wxao"
      },
      "outputs": [],
      "source": [
        "best_model_upsampled_rf = None\n",
        "best_result_f1_upsampled_rf = 0\n",
        "best_result_auc_roc_upsampled_rf = 0\n",
        "best_est_upsampled_rf = 0\n",
        "best_depth_upsampled_rf = 0\n",
        "\n",
        "for est in tqdm(range(50, 70, 2)):\n",
        "    for depth in range(10, 16):\n",
        "        model_upsampled_rf = RandomForestClassifier(\n",
        "            random_state=STATE,\n",
        "            n_estimators=est,\n",
        "            max_depth = depth)\n",
        "\n",
        "        model_upsampled_rf.fit(features_upsampled, target_upsampled)\n",
        "        predictions_upsampled_rf = model_upsampled_rf.predict(features_valid)\n",
        "        probabilities_upsampled_rf = model_upsampled_rf.predict_proba(features_valid)\n",
        "        probabilities_one_valid_upsampled_rf = probabilities_upsampled_rf[:,1]\n",
        "\n",
        "        result_f1_upsampled_rf = f1_score(predictions_upsampled_rf, target_valid)\n",
        "        result_auc_roc_upsampled_rf = roc_auc_score(target_valid, probabilities_one_valid_upsampled_rf)\n",
        "\n",
        "        if result_f1_upsampled_rf > best_result_f1_upsampled_rf:\n",
        "            best_model_upsampled_rf = model_upsampled_rf\n",
        "            best_result_f1_upsampled_rf = result_f1_upsampled_rf\n",
        "            best_result_auc_roc_upsampled_rf = result_auc_roc_upsampled_rf\n",
        "            best_depth_upsampled_rf = depth\n",
        "            best_est_upsampled_rf = est\n",
        "\n",
        "fpr_upsampled_rf, tpr_upsampled_rf, thresholds = roc_curve(target_valid, probabilities_one_valid_upsampled_rf)\n",
        "\n",
        "f1_upsampled_rf = best_result_f1_upsampled_rf\n",
        "auc_roc_upsampled_rf = best_result_auc_roc_upsampled_rf\n",
        "\n",
        "print('Наилучшие результаты модели Случайный лес:')\n",
        "print(f'\\n\\tГлубина дерева:\\t\\t{best_depth_upsampled_rf}')\n",
        "print(f'\\tКоличество деревьев:\\t{best_est_upsampled_rf}')"
      ]
    },
    {
      "cell_type": "markdown",
      "metadata": {
        "id": "fUixyk5MWxao"
      },
      "source": [
        "#### Модель \"Логистическая регрессия\""
      ]
    },
    {
      "cell_type": "code",
      "execution_count": null,
      "metadata": {
        "id": "MSo60DIxWxap"
      },
      "outputs": [],
      "source": [
        "solvers = ['lbfgs', 'liblinear', 'newton-cg', 'sag', 'saga']\n",
        "best_model_upsampled_lr = None\n",
        "best_result_f1_upsampled_lr = 0\n",
        "best_result_auc_roc_upsampled_lr = 0\n",
        "best_solver_upsampled_lr = None\n",
        "\n",
        "for i in tqdm(solvers):\n",
        "    model_upsampled_lr = LogisticRegression(\n",
        "            random_state=STATE,\n",
        "            solver=i,\n",
        "            max_iter=1000)\n",
        "\n",
        "    model_upsampled_lr.fit(features_upsampled, target_upsampled)\n",
        "    predictions_upsampled_lr = model_upsampled_lr.predict(features_valid)\n",
        "    probabilities_upsampled_lr = model_upsampled_lr.predict_proba(features_valid)\n",
        "    probabilities_one_valid_upsampled_lr = probabilities_upsampled_lr[:,1]\n",
        "    result_f1_upsampled_lr = f1_score(predictions_upsampled_lr, target_valid)\n",
        "    result_auc_roc_upsampled_lr = roc_auc_score(target_valid, predictions_upsampled_lr)\n",
        "\n",
        "    if result_f1_upsampled_lr > best_result_f1_upsampled_lr:\n",
        "        best_model_upsampled_lr = model_upsampled_lr\n",
        "        best_result_f1_upsampled_lr = result_f1_upsampled_lr\n",
        "        best_result_auc_roc_upsampled_lr = result_auc_roc_upsampled_lr\n",
        "        best_solver_upsampled_lr = i\n",
        "\n",
        "f1_upsampled_lr = best_result_f1_upsampled_lr\n",
        "auc_roc_upsampled_lr = best_result_auc_roc_upsampled_lr\n",
        "\n",
        "fpr_upsampled_lr, tpr_upsampled_lr, thresholds = roc_curve(target_valid, probabilities_one_valid_upsampled_lr)\n",
        "\n",
        "print('Наилучшие результаты модели Логистическая регрессия:')\n",
        "print(f'\\n\\tАлгоритм решения:\\t{best_solver_upsampled_lr}')"
      ]
    },
    {
      "cell_type": "markdown",
      "metadata": {
        "id": "AOZi3pQuWxap"
      },
      "source": [
        "#### Результаты"
      ]
    },
    {
      "cell_type": "code",
      "execution_count": null,
      "metadata": {
        "id": "4J3GcSopWxap"
      },
      "outputs": [],
      "source": [
        "upsampled_models = (\n",
        "    pd.DataFrame(\n",
        "        {'upsampling': ['Дерево решений', 'Случайный лес', 'Логистическая регрессия'],\n",
        "         'F1_score': [f1_upsampled_dr, f1_upsampled_rf, f1_upsampled_lr],\n",
        "         'AUC-ROC': [auc_roc_upsampled_dr, auc_roc_upsampled_rf, auc_roc_upsampled_lr]})\n",
        "    .set_index('upsampling')\n",
        ")\n",
        "upsampled_models"
      ]
    },
    {
      "cell_type": "markdown",
      "metadata": {
        "id": "DwYKvtr8Wxaq"
      },
      "source": [
        "#### Построим ROC-кривую"
      ]
    },
    {
      "cell_type": "code",
      "execution_count": null,
      "metadata": {
        "id": "poAE_uYLWxaq"
      },
      "outputs": [],
      "source": [
        "plt.figure()\n",
        "\n",
        "plt.figure(figsize=(12,8))\n",
        "plt.plot([0, 1], [0, 1], linestyle='--')\n",
        "plt.xlim([0.0, 1.0])\n",
        "plt.ylim([0.0, 1.0])\n",
        "plt.plot(fpr_upsampled_lr, tpr_upsampled_lr)\n",
        "plt.plot(fpr_upsampled_dr, tpr_upsampled_dr)\n",
        "plt.plot(fpr_upsampled_rf,tpr_upsampled_rf)\n",
        "plt.xlabel('False Positive Rate')\n",
        "plt.ylabel('True Positive Rate')\n",
        "plt.title('ROC-кривая')\n",
        "plt.legend(('Случайная модель','Логистическая регрессия','Дерево решения','Случайный лес'),\n",
        "           loc= 'upper left')\n",
        "plt.show()"
      ]
    },
    {
      "cell_type": "markdown",
      "metadata": {
        "id": "P58O4yPjWxaq"
      },
      "source": [
        "**Промежуточный вывод:** Следующим способом борьбы с дисбалансом рассмотрим увеличение положительных классов без автоматической настройки весов.\n",
        "\n",
        "В результате, модель Случайный лес получила более высокое значение метрики F1. По метрике AUC-ROC модели Дерево решений и Случайный лес практически равны."
      ]
    },
    {
      "cell_type": "markdown",
      "metadata": {
        "id": "85_GyGYTWxaq"
      },
      "source": [
        "### Увеличение выборки с балансировкой классов `class_weight='balanced'`"
      ]
    },
    {
      "cell_type": "markdown",
      "metadata": {
        "id": "y9LH9ENsWxar"
      },
      "source": [
        "### Уменьшение выборки"
      ]
    },
    {
      "cell_type": "markdown",
      "metadata": {
        "id": "OcEhU-H2Wxar"
      },
      "source": [
        "#### Уменьшим количество отрицательных ответов"
      ]
    },
    {
      "cell_type": "code",
      "execution_count": null,
      "metadata": {
        "id": "lOhlM3O9Wxar"
      },
      "outputs": [],
      "source": [
        "# Уменьшим в выборке отрицательные ответы в 4 раза\n",
        "\n",
        "features_zeros = features_train[target_train == 0]\n",
        "features_ones = features_train[target_train == 1]\n",
        "target_zeros = target_train[target_train == 0]\n",
        "target_ones = target_train[target_train == 1]\n",
        "\n",
        "features_sample = features_zeros.sample(frac=0.2557, random_state=STATE)\n",
        "target_sample = target_zeros.sample(frac=0.2557, random_state=STATE)\n",
        "\n",
        "features_downsampled = pd.concat([features_sample] + [features_ones])\n",
        "target_downsampled = pd.concat([target_sample] + [target_ones])\n",
        "\n",
        "features_downsampled, target_downsampled = shuffle(\n",
        "    features_downsampled,\n",
        "    target_downsampled,\n",
        "    random_state=STATE)\n",
        "\n",
        "print(f'\\nВ целевом признаке классы распределены в соотношении {target_downsampled.value_counts(normalize=True)[0]:.2%}/{target_downsampled.value_counts(normalize=True)[1]:.2%}')"
      ]
    },
    {
      "cell_type": "markdown",
      "metadata": {
        "id": "VHvlqzsSWxas"
      },
      "source": [
        "#### Модель \"Дерево решений\""
      ]
    },
    {
      "cell_type": "code",
      "execution_count": null,
      "metadata": {
        "id": "s2mnqx2UWxas"
      },
      "outputs": [],
      "source": [
        "best_model_downsampled_dr = None\n",
        "best_result_f1_downsampled_dr = 0\n",
        "best_result_auc_roc_downsampled_dr = 0\n",
        "best_depth_downsampled_dr = 0\n",
        "\n",
        "for depth in range(1, 16):\n",
        "    model_downsampled_dr = DecisionTreeClassifier(\n",
        "        random_state=STATE,\n",
        "        max_depth=depth,\n",
        "        criterion='gini')\n",
        "\n",
        "    model_downsampled_dr.fit(features_downsampled, target_downsampled)\n",
        "    predictions_downsampled_dr = model_downsampled_dr.predict(features_valid)\n",
        "    probabilities_downsampled_dr = model_downsampled_dr.predict_proba(features_valid)\n",
        "    probabilities_one_valid_downsampled_dr = probabilities_downsampled_dr[:,1]\n",
        "    result_f1_downsampled_dr = f1_score(predictions_downsampled_dr, target_valid)\n",
        "    result_auc_roc_downsampled_dr = roc_auc_score(target_valid, probabilities_one_valid_downsampled_dr)\n",
        "\n",
        "    if result_f1_downsampled_dr > best_result_f1_downsampled_dr:\n",
        "        best_model_downsampled_dr = model_downsampled_dr\n",
        "        best_result_f1_downsampled_dr = result_f1_downsampled_dr\n",
        "        best_result_auc_roc_downsampled_dr = result_auc_roc_downsampled_dr\n",
        "        best_depth_downsampled_dr = depth\n",
        "\n",
        "fpr_downsampled_dr, tpr_downsampled_dr, thresholds = roc_curve(target_valid, probabilities_one_valid_downsampled_dr)\n",
        "\n",
        "f1_downsampled_dr = best_result_f1_downsampled_dr\n",
        "auc_roc_downsampled_dr = best_result_auc_roc_downsampled_dr\n",
        "\n",
        "print('Наилучшие результаты модели Дерево решений:')\n",
        "print(f'\\n\\tГлубина дерева:\\t{best_depth_downsampled_dr}')"
      ]
    },
    {
      "cell_type": "markdown",
      "metadata": {
        "id": "WyzbJmxDWxat"
      },
      "source": [
        "#### Модель \"Случайный лес\""
      ]
    },
    {
      "cell_type": "code",
      "execution_count": null,
      "metadata": {
        "id": "93eybTTIWxat"
      },
      "outputs": [],
      "source": [
        "best_model_downsampled_rf = None\n",
        "best_result_f1_downsampled_rf = 0\n",
        "best_result_auc_roc_downsampled_rf = 0\n",
        "best_est_downsampled_rf = 0\n",
        "best_depth_downsampled_rf = 0\n",
        "\n",
        "for est in tqdm(range(50, 70, 2)):\n",
        "    for depth in range(10, 16):\n",
        "        model_downsampled_rf = RandomForestClassifier(\n",
        "            random_state=STATE,\n",
        "            n_estimators=est,\n",
        "            max_depth = depth)\n",
        "\n",
        "        model_downsampled_rf.fit(features_downsampled, target_downsampled)\n",
        "        predictions_downsampled_rf = model_downsampled_rf.predict(features_valid)\n",
        "        probabilities_downsampled_rf = model_downsampled_rf.predict_proba(features_valid)\n",
        "        probabilities_one_valid_downsampled_rf = probabilities_downsampled_rf[:,1]\n",
        "\n",
        "        result_f1_downsampled_rf = f1_score(predictions_downsampled_rf, target_valid)\n",
        "        result_auc_roc_downsampled_rf = roc_auc_score(target_valid, probabilities_one_valid_downsampled_rf)\n",
        "\n",
        "        if result_f1_downsampled_rf > best_result_f1_downsampled_rf:\n",
        "            best_model_downsampled_rf = model_downsampled_rf\n",
        "            best_result_f1_downsampled_rf = result_f1_downsampled_rf\n",
        "            best_result_auc_roc_downsampled_rf = result_auc_roc_downsampled_rf\n",
        "            best_depth_downsampled_rf = depth\n",
        "            best_est_downsampled_rf = est\n",
        "\n",
        "fpr_downsampled_rf, tpr_downsampled_rf, thresholds = roc_curve(target_valid, probabilities_one_valid_downsampled_rf)\n",
        "\n",
        "f1_downsampled_rf = best_result_f1_downsampled_rf\n",
        "auc_roc_downsampled_rf = best_result_auc_roc_downsampled_rf\n",
        "\n",
        "print('Наилучшие результаты модели Случайный лес:')\n",
        "print(f'\\n\\tГлубина дерева:\\t\\t{best_depth_downsampled_rf}')\n",
        "print(f'\\tКоличество деревьев:\\t{best_est_downsampled_rf}')"
      ]
    },
    {
      "cell_type": "markdown",
      "metadata": {
        "id": "CkYQF7q0Wxat"
      },
      "source": [
        "#### Модель \"Логистическая регрессия\""
      ]
    },
    {
      "cell_type": "code",
      "execution_count": null,
      "metadata": {
        "id": "KF9yLHHrWxat"
      },
      "outputs": [],
      "source": [
        "solvers = ['lbfgs', 'liblinear', 'newton-cg', 'sag', 'saga']\n",
        "best_model_downsampled_lr = None\n",
        "best_result_f1_downsampled_lr = 0\n",
        "best_result_auc_roc_downsampled_lr = 0\n",
        "best_solver_downsampled_lr = None\n",
        "\n",
        "for i in tqdm(solvers):\n",
        "    model_downsampled_lr = LogisticRegression(\n",
        "            random_state=STATE,\n",
        "            solver=i,\n",
        "            max_iter=1000)\n",
        "\n",
        "    model_downsampled_lr.fit(features_downsampled, target_downsampled)\n",
        "    predictions_downsampled_lr = model_downsampled_lr.predict(features_valid)\n",
        "    probabilities_downsampled_lr = model_downsampled_lr.predict_proba(features_valid)\n",
        "    probabilities_one_valid_downsampled_lr = probabilities_downsampled_lr[:,1]\n",
        "    result_f1_downsampled_lr = f1_score(predictions_downsampled_lr, target_valid)\n",
        "    result_auc_roc_downsampled_lr = roc_auc_score(target_valid, predictions_downsampled_lr)\n",
        "\n",
        "    if result_f1_downsampled_lr > best_result_f1_downsampled_lr:\n",
        "        best_model_downsampled_lr = model_downsampled_lr\n",
        "        best_result_f1_downsampled_lr = result_f1_downsampled_lr\n",
        "        best_result_auc_roc_downsampled_lr = result_auc_roc_downsampled_lr\n",
        "        best_solver_downsampled_lr = i\n",
        "\n",
        "f1_downsampled_lr = best_result_f1_downsampled_lr\n",
        "auc_roc_downsampled_lr = best_result_auc_roc_downsampled_lr\n",
        "\n",
        "fpr_downsampled_lr, tpr_downsampled_lr, thresholds = roc_curve(target_valid, probabilities_one_valid_downsampled_lr)\n",
        "\n",
        "print('Наилучшие результаты модели Логистическая регрессия:')\n",
        "print(f'\\n\\tАлгоритм решения:\\t{best_solver_downsampled_lr}')"
      ]
    },
    {
      "cell_type": "markdown",
      "metadata": {
        "id": "qOrPs8inWxau"
      },
      "source": [
        "#### Результаты"
      ]
    },
    {
      "cell_type": "code",
      "execution_count": null,
      "metadata": {
        "id": "HftC-NpuWxau"
      },
      "outputs": [],
      "source": [
        "downsampled_models = (\n",
        "    pd.DataFrame(\n",
        "        {'downsampling': ['Дерево решений', 'Случайный лес', 'Логистическая регрессия'],\n",
        "         'F1_score': [f1_downsampled_dr, f1_downsampled_rf, f1_downsampled_lr],\n",
        "         'AUC-ROC': [auc_roc_downsampled_dr, auc_roc_downsampled_rf, auc_roc_downsampled_lr]})\n",
        "    .set_index('downsampling')\n",
        ")\n",
        "downsampled_models"
      ]
    },
    {
      "cell_type": "markdown",
      "metadata": {
        "id": "aLJlfNO4Wxau"
      },
      "source": [
        "#### Пострим ROC-кривую"
      ]
    },
    {
      "cell_type": "code",
      "execution_count": null,
      "metadata": {
        "id": "oThYRCoPWxav"
      },
      "outputs": [],
      "source": [
        "plt.figure()\n",
        "\n",
        "plt.figure(figsize=(12,8))\n",
        "plt.plot([0, 1], [0, 1], linestyle='--')\n",
        "plt.xlim([0.0, 1.0])\n",
        "plt.ylim([0.0, 1.0])\n",
        "plt.plot(fpr_downsampled_lr, tpr_downsampled_lr)\n",
        "plt.plot(fpr_downsampled_dr, tpr_downsampled_dr)\n",
        "plt.plot(fpr_downsampled_rf,tpr_downsampled_rf)\n",
        "plt.xlabel('False Positive Rate')\n",
        "plt.ylabel('True Positive Rate')\n",
        "plt.title('ROC-кривая')\n",
        "plt.legend(('Случайная модель','Логистическая регрессия','Дерево решения','Случайный лес'),\n",
        "           loc= 'upper left')\n",
        "plt.show()"
      ]
    },
    {
      "cell_type": "markdown",
      "metadata": {
        "id": "Z-GAV5pJWxav"
      },
      "source": [
        "**Промежуточный вывод:** В случае с уменьшением в выборке отрицательных классов значения метрики F1 во всех трех моделях сильно упали. Ни одна из моделей не смогла превысить заданных порог значения по этой метрике в 0,59"
      ]
    },
    {
      "cell_type": "markdown",
      "metadata": {
        "id": "tkmLq8S-Wxav"
      },
      "source": [
        "### Уменьшение выборки с балансировкой классов `class_weight='balanced'`"
      ]
    },
    {
      "cell_type": "markdown",
      "metadata": {
        "id": "4-POF1MsWxaw"
      },
      "source": [
        "### Краткий вывод\n",
        "\n",
        "Модель, обученная алгоритмом Случайный лес с увеличением положительных ответов дала результат метрики F1 = 0.612 и AUC-ROC = 0.847. Её и выберем, как лучшую для финального тестирования.\n",
        "\n",
        "Аналогичные результаты показала модель, обученная алгоритмом Случайный лес с балансировкой классов аргументом `class_weight='balanced'`, 0.611 и 0.854, соответственно.\n",
        "\n",
        "Худшие результаты принесла модель линейной регрессии, причем практически независимо от способа балансировки. Результаты лежат в пределах F1 = 0.48 - 0.491 и AUC-ROC = 0.694 - 0.702."
      ]
    },
    {
      "cell_type": "markdown",
      "metadata": {
        "id": "mdDTfQvgWxaw"
      },
      "source": [
        "## Тестирование модели"
      ]
    },
    {
      "cell_type": "code",
      "execution_count": null,
      "metadata": {
        "id": "BXURsiTiWxax"
      },
      "outputs": [],
      "source": [
        "predictions_test_rf = model_upsampled_rf.predict(features_test)\n",
        "\n",
        "print(f'F1 тестовой модели:\\t\\t{f1_score(predictions_test_rf, target_test)}')\n",
        "print(f'AUC-ROC тестовой модели:\\t{roc_auc_score(target_test, predictions_test_rf)}')"
      ]
    },
    {
      "cell_type": "markdown",
      "metadata": {
        "id": "ysE62ckDWxax"
      },
      "source": [
        "### Краткий вывод\n",
        "\n",
        "Результаты финального тестирования подтвердили правильный выбор предсказывающей модели. Результаты метрики F1 = 0,618 выше значений, заданных в условии, а значение AUC-ROC = 0,759 говорит о хорошем качестве предсказывающей модели"
      ]
    },
    {
      "cell_type": "markdown",
      "metadata": {
        "id": "dyOV5KcKWxax"
      },
      "source": [
        "## Общий вывод\n",
        "\n",
        "В данном исследовании нам был предостален набор данных условного банка «Бета-Банк». Нам нужно было построить модель прогнозирования, уход клиента из банка в ближайшее время. Чтобы добиться необходимой точности предсказания, было задано довести значение метрики F1-меры до 0.59.\n",
        "\n",
        "Исходные данные содержат 10000 объектов. Признак Tenure содержит 909 пропусков, которые мы заменили на медианные значения. Решение заменить пропуски на нули, на наш взгляд, было бы не верным, так как другие признаки объекта намекают на то, что человек все же является клиентом банка. Из данных было решено удалить признаки RowNumber, CustomerId и Surname, так как они не несут важной информации для построения предсказывающей модели, и даже, могут ухудшить её.\n",
        "\n",
        "Исследовали дисбаланс классов целевого признака. Отрицательных классов, примерно, в 4 раза больше положительных. Эти наблюдения мы применили для балансировки данных, методом увеличения положительных классов и уменьшения отрицательных.\n",
        "\n",
        "Разделили исходные данные на обучающую, валидационную и тестовую выборки в соотношении 60:20:20. При разделении выборок применили метод стратификации, чтобы избежать дисбаланса классов.\n",
        "\n",
        "Так как датасет имеет различные по величинам признаки, было сделано масштабирование признаков, исключая признаки, содержащие бинарные значения.\n",
        "\n",
        "*Прежде, чем резюмировать результаты исследования, нужно определить по каким параметрам мы выбирали лучшую модель. Метриками качества мы выбрали F1_score и AUC-ROC.*\n",
        "\n",
        "***Оценка F1*** – среднее гармоническое значение Точности измерений (Accuracy) и Отзыва (Recall) с Весами (Weight) при наличии. F1 обычно более полезна, чем точность измерений, особенно если распределение классов неравномерно.\n",
        "\n",
        "***Площадь под ROC-кривой (AUC-ROC)*** – это метрика оценки для задач Бинарной классификации. Площадь под кривой (AUC) является мерой способности классификатора различать классы и используется в качестве сводки кривой ROC. ROC-кривая помогает визуализировать, насколько хорошо работает классификатор машинного обучения.\n",
        "\n",
        "В исследовании, мы рассмотрели 5 методов борьбы с дисбалансом в данных. Настройка весов признаков в моделях, увеличение и уменьшение выборок и совмещение их с настройкой весов.\n",
        "\n",
        "- Наилучший показатель дала модель Случайного леса при обучении её на выборке с увеличением положительных классов. Метрика F1 дала результат в 0.612, а значение AUC-ROC - 0.847 и модель Случайного леса с балансировкой класса аргументом `class_weight='balanced'` F1 = 0.611 и AUC-ROC = 0.854.\n",
        "- Худшие показатель дали модели, обученные алгоритмом Линейная регрессия со всему методами балансировки. Метрики F1 лежат в пределах 0.480 - 0.491, а AUC-ROC - в пределах 0.694 - 0.702.\n",
        "\n",
        "Таким образом, самой качественной моделью была принята модель Случайный лес, обученная на выборке с увеличением положительных классов. Её мы и приняли за наилучшую.\n",
        "\n",
        "После проведения финального тестирования на тестовой выборке были получены значения метрик F1 = 0.605 и AUC-ROC = 0.747. Результаты удовлетворяют условию, и даже превосходят его на 2.5%"
      ]
    }
  ],
  "metadata": {
    "ExecuteTimeLog": [
      {
        "duration": 48,
        "start_time": "2023-02-21T19:35:35.092Z"
      },
      {
        "duration": 375,
        "start_time": "2023-02-21T19:35:38.036Z"
      },
      {
        "duration": 78,
        "start_time": "2023-02-21T19:35:40.259Z"
      },
      {
        "duration": 20,
        "start_time": "2023-02-21T19:35:42.196Z"
      },
      {
        "duration": 3,
        "start_time": "2023-02-21T19:38:53.988Z"
      },
      {
        "duration": 455,
        "start_time": "2023-02-21T19:39:52.078Z"
      },
      {
        "duration": 38,
        "start_time": "2023-02-21T19:39:52.536Z"
      },
      {
        "duration": 25,
        "start_time": "2023-02-21T19:39:52.576Z"
      },
      {
        "duration": 15,
        "start_time": "2023-02-21T19:39:52.603Z"
      },
      {
        "duration": 5,
        "start_time": "2023-02-21T19:48:40.771Z"
      },
      {
        "duration": 82,
        "start_time": "2023-02-21T19:48:51.634Z"
      },
      {
        "duration": 11,
        "start_time": "2023-02-21T19:49:06.443Z"
      },
      {
        "duration": 410,
        "start_time": "2023-02-21T19:49:19.557Z"
      },
      {
        "duration": 36,
        "start_time": "2023-02-21T19:49:19.968Z"
      },
      {
        "duration": 24,
        "start_time": "2023-02-21T19:49:20.006Z"
      },
      {
        "duration": 20,
        "start_time": "2023-02-21T19:49:20.032Z"
      },
      {
        "duration": 4,
        "start_time": "2023-02-21T19:49:20.053Z"
      },
      {
        "duration": 14,
        "start_time": "2023-02-21T19:49:31.378Z"
      },
      {
        "duration": 5,
        "start_time": "2023-02-21T19:50:16.421Z"
      },
      {
        "duration": 29,
        "start_time": "2023-02-21T19:51:24.732Z"
      },
      {
        "duration": 8,
        "start_time": "2023-02-21T19:53:51.925Z"
      },
      {
        "duration": 8,
        "start_time": "2023-02-21T19:54:28.901Z"
      },
      {
        "duration": 3,
        "start_time": "2023-02-21T20:11:53.598Z"
      },
      {
        "duration": 2050,
        "start_time": "2023-02-21T20:19:54.723Z"
      },
      {
        "duration": 1641,
        "start_time": "2023-02-21T20:20:41.890Z"
      },
      {
        "duration": 1855,
        "start_time": "2023-02-21T20:21:13.337Z"
      },
      {
        "duration": 1811,
        "start_time": "2023-02-21T20:21:34.834Z"
      },
      {
        "duration": 1621,
        "start_time": "2023-02-21T20:25:37.154Z"
      },
      {
        "duration": 415,
        "start_time": "2023-02-21T20:26:52.888Z"
      },
      {
        "duration": 99,
        "start_time": "2023-02-21T20:26:53.305Z"
      },
      {
        "duration": 17,
        "start_time": "2023-02-21T20:26:53.406Z"
      },
      {
        "duration": 12,
        "start_time": "2023-02-21T20:26:53.425Z"
      },
      {
        "duration": 5,
        "start_time": "2023-02-21T20:26:53.438Z"
      },
      {
        "duration": 22,
        "start_time": "2023-02-21T20:26:53.445Z"
      },
      {
        "duration": 34,
        "start_time": "2023-02-21T20:26:53.469Z"
      },
      {
        "duration": 358,
        "start_time": "2023-02-21T20:27:17.642Z"
      },
      {
        "duration": 90,
        "start_time": "2023-02-21T20:27:18.004Z"
      },
      {
        "duration": 19,
        "start_time": "2023-02-21T20:27:18.096Z"
      },
      {
        "duration": 14,
        "start_time": "2023-02-21T20:27:18.117Z"
      },
      {
        "duration": 4,
        "start_time": "2023-02-21T20:27:18.134Z"
      },
      {
        "duration": 29,
        "start_time": "2023-02-21T20:27:18.140Z"
      },
      {
        "duration": 6,
        "start_time": "2023-02-21T20:27:18.171Z"
      },
      {
        "duration": 383,
        "start_time": "2023-02-21T20:27:53.562Z"
      },
      {
        "duration": 121,
        "start_time": "2023-02-21T20:27:53.947Z"
      },
      {
        "duration": 23,
        "start_time": "2023-02-21T20:27:54.070Z"
      },
      {
        "duration": 15,
        "start_time": "2023-02-21T20:27:54.095Z"
      },
      {
        "duration": 6,
        "start_time": "2023-02-21T20:27:54.112Z"
      },
      {
        "duration": 31,
        "start_time": "2023-02-21T20:27:54.120Z"
      },
      {
        "duration": 7,
        "start_time": "2023-02-21T20:27:54.153Z"
      },
      {
        "duration": 405,
        "start_time": "2023-02-21T20:28:09.679Z"
      },
      {
        "duration": 68,
        "start_time": "2023-02-21T20:28:10.086Z"
      },
      {
        "duration": 19,
        "start_time": "2023-02-21T20:28:10.155Z"
      },
      {
        "duration": 12,
        "start_time": "2023-02-21T20:28:10.176Z"
      },
      {
        "duration": 5,
        "start_time": "2023-02-21T20:28:10.189Z"
      },
      {
        "duration": 13,
        "start_time": "2023-02-21T20:28:10.195Z"
      },
      {
        "duration": 7,
        "start_time": "2023-02-21T20:28:10.209Z"
      },
      {
        "duration": 387,
        "start_time": "2023-02-21T20:28:55.328Z"
      },
      {
        "duration": 105,
        "start_time": "2023-02-21T20:28:55.717Z"
      },
      {
        "duration": 19,
        "start_time": "2023-02-21T20:28:55.824Z"
      },
      {
        "duration": 12,
        "start_time": "2023-02-21T20:28:55.844Z"
      },
      {
        "duration": 4,
        "start_time": "2023-02-21T20:28:55.858Z"
      },
      {
        "duration": 40,
        "start_time": "2023-02-21T20:28:55.863Z"
      },
      {
        "duration": 6,
        "start_time": "2023-02-21T20:28:55.905Z"
      },
      {
        "duration": 394,
        "start_time": "2023-02-21T20:30:02.965Z"
      },
      {
        "duration": 45,
        "start_time": "2023-02-21T20:30:03.361Z"
      },
      {
        "duration": 17,
        "start_time": "2023-02-21T20:30:03.408Z"
      },
      {
        "duration": 13,
        "start_time": "2023-02-21T20:30:03.426Z"
      },
      {
        "duration": 3,
        "start_time": "2023-02-21T20:30:03.441Z"
      },
      {
        "duration": 11,
        "start_time": "2023-02-21T20:30:03.446Z"
      },
      {
        "duration": 6,
        "start_time": "2023-02-21T20:30:03.459Z"
      },
      {
        "duration": 1211,
        "start_time": "2023-02-21T20:30:21.790Z"
      },
      {
        "duration": 573,
        "start_time": "2023-02-21T20:30:45.868Z"
      },
      {
        "duration": 6,
        "start_time": "2023-02-21T20:31:42.325Z"
      },
      {
        "duration": 5,
        "start_time": "2023-02-21T20:32:14.629Z"
      },
      {
        "duration": 5,
        "start_time": "2023-02-21T20:32:21.672Z"
      },
      {
        "duration": 356,
        "start_time": "2023-02-21T20:32:43.063Z"
      },
      {
        "duration": 35,
        "start_time": "2023-02-21T20:32:43.421Z"
      },
      {
        "duration": 20,
        "start_time": "2023-02-21T20:32:43.458Z"
      },
      {
        "duration": 13,
        "start_time": "2023-02-21T20:32:43.480Z"
      },
      {
        "duration": 8,
        "start_time": "2023-02-21T20:32:43.495Z"
      },
      {
        "duration": 8,
        "start_time": "2023-02-21T20:32:43.505Z"
      },
      {
        "duration": 9,
        "start_time": "2023-02-21T20:32:43.514Z"
      },
      {
        "duration": 65,
        "start_time": "2023-02-21T20:37:08.049Z"
      },
      {
        "duration": 10,
        "start_time": "2023-02-21T20:38:02.396Z"
      },
      {
        "duration": 8,
        "start_time": "2023-02-21T20:38:48.301Z"
      },
      {
        "duration": 9,
        "start_time": "2023-02-21T20:39:37.449Z"
      },
      {
        "duration": 7,
        "start_time": "2023-02-21T20:39:50.424Z"
      },
      {
        "duration": 4,
        "start_time": "2023-02-21T20:40:09.200Z"
      },
      {
        "duration": 6,
        "start_time": "2023-02-21T20:40:12.405Z"
      },
      {
        "duration": 5,
        "start_time": "2023-02-21T20:45:40.189Z"
      },
      {
        "duration": 15,
        "start_time": "2023-02-21T20:47:00.081Z"
      },
      {
        "duration": 427,
        "start_time": "2023-02-21T20:47:16.313Z"
      },
      {
        "duration": 34,
        "start_time": "2023-02-21T20:47:16.742Z"
      },
      {
        "duration": 20,
        "start_time": "2023-02-21T20:47:16.778Z"
      },
      {
        "duration": 13,
        "start_time": "2023-02-21T20:47:16.800Z"
      },
      {
        "duration": 11,
        "start_time": "2023-02-21T20:47:16.814Z"
      },
      {
        "duration": 11,
        "start_time": "2023-02-21T20:47:16.827Z"
      },
      {
        "duration": 9,
        "start_time": "2023-02-21T20:47:42.803Z"
      },
      {
        "duration": 34,
        "start_time": "2023-02-21T20:49:55.946Z"
      },
      {
        "duration": 411,
        "start_time": "2023-02-21T20:50:43.134Z"
      },
      {
        "duration": 35,
        "start_time": "2023-02-21T20:50:43.547Z"
      },
      {
        "duration": 20,
        "start_time": "2023-02-21T20:50:43.584Z"
      },
      {
        "duration": 16,
        "start_time": "2023-02-21T20:50:43.606Z"
      },
      {
        "duration": 5,
        "start_time": "2023-02-21T20:50:43.625Z"
      },
      {
        "duration": 17,
        "start_time": "2023-02-21T20:50:43.632Z"
      },
      {
        "duration": 5,
        "start_time": "2023-02-21T20:50:43.651Z"
      },
      {
        "duration": 8,
        "start_time": "2023-02-21T20:50:43.658Z"
      },
      {
        "duration": 62,
        "start_time": "2023-02-21T20:50:43.668Z"
      },
      {
        "duration": 417,
        "start_time": "2023-02-21T20:51:07.711Z"
      },
      {
        "duration": 34,
        "start_time": "2023-02-21T20:51:08.130Z"
      },
      {
        "duration": 20,
        "start_time": "2023-02-21T20:51:08.165Z"
      },
      {
        "duration": 15,
        "start_time": "2023-02-21T20:51:08.188Z"
      },
      {
        "duration": 4,
        "start_time": "2023-02-21T20:51:08.205Z"
      },
      {
        "duration": 17,
        "start_time": "2023-02-21T20:51:08.211Z"
      },
      {
        "duration": 5,
        "start_time": "2023-02-21T20:51:08.229Z"
      },
      {
        "duration": 6,
        "start_time": "2023-02-21T20:51:08.235Z"
      },
      {
        "duration": 26,
        "start_time": "2023-02-21T20:51:08.243Z"
      },
      {
        "duration": 57,
        "start_time": "2023-02-21T20:54:05.760Z"
      },
      {
        "duration": 9,
        "start_time": "2023-02-21T20:54:39.654Z"
      },
      {
        "duration": 709,
        "start_time": "2023-02-21T20:54:47.326Z"
      },
      {
        "duration": 6,
        "start_time": "2023-02-21T21:02:01.786Z"
      },
      {
        "duration": 26,
        "start_time": "2023-02-21T21:05:13.207Z"
      },
      {
        "duration": 7,
        "start_time": "2023-02-21T21:06:35.570Z"
      },
      {
        "duration": 54,
        "start_time": "2023-02-21T21:09:03.724Z"
      },
      {
        "duration": 10,
        "start_time": "2023-02-21T21:09:26.899Z"
      },
      {
        "duration": 18,
        "start_time": "2023-02-21T21:09:38.930Z"
      },
      {
        "duration": 1092,
        "start_time": "2023-02-21T21:09:57.265Z"
      },
      {
        "duration": 35,
        "start_time": "2023-02-21T21:09:58.359Z"
      },
      {
        "duration": 24,
        "start_time": "2023-02-21T21:09:58.396Z"
      },
      {
        "duration": 15,
        "start_time": "2023-02-21T21:09:58.422Z"
      },
      {
        "duration": 4,
        "start_time": "2023-02-21T21:09:58.439Z"
      },
      {
        "duration": 19,
        "start_time": "2023-02-21T21:09:58.445Z"
      },
      {
        "duration": 6,
        "start_time": "2023-02-21T21:09:58.466Z"
      },
      {
        "duration": 31,
        "start_time": "2023-02-21T21:09:58.474Z"
      },
      {
        "duration": 6,
        "start_time": "2023-02-21T21:09:58.506Z"
      },
      {
        "duration": 6,
        "start_time": "2023-02-21T21:09:58.514Z"
      },
      {
        "duration": 120,
        "start_time": "2023-02-21T21:09:58.521Z"
      },
      {
        "duration": 11,
        "start_time": "2023-02-21T21:10:50.653Z"
      },
      {
        "duration": 13,
        "start_time": "2023-02-21T21:11:13.300Z"
      },
      {
        "duration": 10,
        "start_time": "2023-02-21T21:11:27.891Z"
      },
      {
        "duration": 18,
        "start_time": "2023-02-21T21:12:19.586Z"
      },
      {
        "duration": 16,
        "start_time": "2023-02-21T21:12:36.450Z"
      },
      {
        "duration": 1067,
        "start_time": "2023-02-21T21:13:39.789Z"
      },
      {
        "duration": 36,
        "start_time": "2023-02-21T21:13:40.858Z"
      },
      {
        "duration": 21,
        "start_time": "2023-02-21T21:13:40.896Z"
      },
      {
        "duration": 12,
        "start_time": "2023-02-21T21:13:40.919Z"
      },
      {
        "duration": 4,
        "start_time": "2023-02-21T21:13:40.933Z"
      },
      {
        "duration": 13,
        "start_time": "2023-02-21T21:13:40.938Z"
      },
      {
        "duration": 4,
        "start_time": "2023-02-21T21:13:40.953Z"
      },
      {
        "duration": 13,
        "start_time": "2023-02-21T21:13:40.959Z"
      },
      {
        "duration": 7,
        "start_time": "2023-02-21T21:13:41.002Z"
      },
      {
        "duration": 10,
        "start_time": "2023-02-21T21:13:41.011Z"
      },
      {
        "duration": 112,
        "start_time": "2023-02-21T21:13:41.023Z"
      },
      {
        "duration": 30,
        "start_time": "2023-02-21T21:14:16.653Z"
      },
      {
        "duration": 28,
        "start_time": "2023-02-21T21:21:06.783Z"
      },
      {
        "duration": 14,
        "start_time": "2023-02-21T21:21:35.915Z"
      },
      {
        "duration": 54,
        "start_time": "2023-02-22T16:10:03.087Z"
      },
      {
        "duration": 1117,
        "start_time": "2023-02-22T16:10:09.376Z"
      },
      {
        "duration": 75,
        "start_time": "2023-02-22T16:10:10.495Z"
      },
      {
        "duration": 20,
        "start_time": "2023-02-22T16:10:10.572Z"
      },
      {
        "duration": 11,
        "start_time": "2023-02-22T16:10:10.594Z"
      },
      {
        "duration": 5,
        "start_time": "2023-02-22T16:10:10.607Z"
      },
      {
        "duration": 12,
        "start_time": "2023-02-22T16:10:10.613Z"
      },
      {
        "duration": 4,
        "start_time": "2023-02-22T16:10:10.627Z"
      },
      {
        "duration": 16,
        "start_time": "2023-02-22T16:10:10.633Z"
      },
      {
        "duration": 11,
        "start_time": "2023-02-22T16:10:10.652Z"
      },
      {
        "duration": 5,
        "start_time": "2023-02-22T16:10:10.664Z"
      },
      {
        "duration": 7,
        "start_time": "2023-02-22T16:10:10.670Z"
      },
      {
        "duration": 15,
        "start_time": "2023-02-22T16:10:10.710Z"
      },
      {
        "duration": 101,
        "start_time": "2023-02-22T16:12:11.632Z"
      },
      {
        "duration": 1056,
        "start_time": "2023-02-22T16:12:30.125Z"
      },
      {
        "duration": 37,
        "start_time": "2023-02-22T16:12:31.182Z"
      },
      {
        "duration": 19,
        "start_time": "2023-02-22T16:12:31.221Z"
      },
      {
        "duration": 25,
        "start_time": "2023-02-22T16:12:31.242Z"
      },
      {
        "duration": 16,
        "start_time": "2023-02-22T16:12:31.269Z"
      },
      {
        "duration": 29,
        "start_time": "2023-02-22T16:12:31.286Z"
      },
      {
        "duration": 16,
        "start_time": "2023-02-22T16:12:31.316Z"
      },
      {
        "duration": 22,
        "start_time": "2023-02-22T16:12:31.333Z"
      },
      {
        "duration": 39,
        "start_time": "2023-02-22T16:12:31.357Z"
      },
      {
        "duration": 7,
        "start_time": "2023-02-22T16:13:01.846Z"
      },
      {
        "duration": 1039,
        "start_time": "2023-02-22T16:13:08.253Z"
      },
      {
        "duration": 39,
        "start_time": "2023-02-22T16:13:09.294Z"
      },
      {
        "duration": 19,
        "start_time": "2023-02-22T16:13:09.334Z"
      },
      {
        "duration": 12,
        "start_time": "2023-02-22T16:13:09.355Z"
      },
      {
        "duration": 4,
        "start_time": "2023-02-22T16:13:09.369Z"
      },
      {
        "duration": 11,
        "start_time": "2023-02-22T16:13:09.374Z"
      },
      {
        "duration": 23,
        "start_time": "2023-02-22T16:13:09.387Z"
      },
      {
        "duration": 13,
        "start_time": "2023-02-22T16:13:09.412Z"
      },
      {
        "duration": 10,
        "start_time": "2023-02-22T16:13:09.427Z"
      },
      {
        "duration": 1089,
        "start_time": "2023-02-22T16:15:26.109Z"
      },
      {
        "duration": 37,
        "start_time": "2023-02-22T16:15:27.200Z"
      },
      {
        "duration": 20,
        "start_time": "2023-02-22T16:15:27.238Z"
      },
      {
        "duration": 11,
        "start_time": "2023-02-22T16:15:27.260Z"
      },
      {
        "duration": 4,
        "start_time": "2023-02-22T16:15:27.273Z"
      },
      {
        "duration": 15,
        "start_time": "2023-02-22T16:15:27.279Z"
      },
      {
        "duration": 4,
        "start_time": "2023-02-22T16:15:27.296Z"
      },
      {
        "duration": 18,
        "start_time": "2023-02-22T16:15:27.302Z"
      },
      {
        "duration": 25,
        "start_time": "2023-02-22T16:15:27.321Z"
      },
      {
        "duration": 5,
        "start_time": "2023-02-22T16:15:37.855Z"
      },
      {
        "duration": 12,
        "start_time": "2023-02-22T16:15:41.918Z"
      },
      {
        "duration": 16,
        "start_time": "2023-02-22T16:15:53.720Z"
      },
      {
        "duration": 106,
        "start_time": "2023-02-22T16:16:24.477Z"
      },
      {
        "duration": 7,
        "start_time": "2023-02-22T16:16:46.653Z"
      },
      {
        "duration": 1049,
        "start_time": "2023-02-22T16:25:36.347Z"
      },
      {
        "duration": 36,
        "start_time": "2023-02-22T16:25:37.398Z"
      },
      {
        "duration": 19,
        "start_time": "2023-02-22T16:25:37.436Z"
      },
      {
        "duration": 13,
        "start_time": "2023-02-22T16:25:37.457Z"
      },
      {
        "duration": 4,
        "start_time": "2023-02-22T16:25:37.471Z"
      },
      {
        "duration": 18,
        "start_time": "2023-02-22T16:25:37.476Z"
      },
      {
        "duration": 4,
        "start_time": "2023-02-22T16:25:37.495Z"
      },
      {
        "duration": 8,
        "start_time": "2023-02-22T16:25:37.510Z"
      },
      {
        "duration": 16,
        "start_time": "2023-02-22T16:25:48.681Z"
      },
      {
        "duration": 19,
        "start_time": "2023-02-22T16:26:26.768Z"
      },
      {
        "duration": 1103,
        "start_time": "2023-02-22T16:26:38.582Z"
      },
      {
        "duration": 36,
        "start_time": "2023-02-22T16:26:39.687Z"
      },
      {
        "duration": 18,
        "start_time": "2023-02-22T16:26:39.724Z"
      },
      {
        "duration": 12,
        "start_time": "2023-02-22T16:26:39.744Z"
      },
      {
        "duration": 3,
        "start_time": "2023-02-22T16:26:39.759Z"
      },
      {
        "duration": 11,
        "start_time": "2023-02-22T16:26:39.764Z"
      },
      {
        "duration": 3,
        "start_time": "2023-02-22T16:26:39.777Z"
      },
      {
        "duration": 18,
        "start_time": "2023-02-22T16:26:39.809Z"
      },
      {
        "duration": 17,
        "start_time": "2023-02-22T16:27:01.197Z"
      },
      {
        "duration": 1104,
        "start_time": "2023-02-22T16:28:09.577Z"
      },
      {
        "duration": 36,
        "start_time": "2023-02-22T16:28:10.683Z"
      },
      {
        "duration": 19,
        "start_time": "2023-02-22T16:28:10.721Z"
      },
      {
        "duration": 12,
        "start_time": "2023-02-22T16:28:10.742Z"
      },
      {
        "duration": 4,
        "start_time": "2023-02-22T16:28:10.755Z"
      },
      {
        "duration": 12,
        "start_time": "2023-02-22T16:28:10.761Z"
      },
      {
        "duration": 9,
        "start_time": "2023-02-22T16:28:10.775Z"
      },
      {
        "duration": 26,
        "start_time": "2023-02-22T16:28:10.785Z"
      },
      {
        "duration": 21,
        "start_time": "2023-02-22T16:28:10.812Z"
      },
      {
        "duration": 4,
        "start_time": "2023-02-22T16:34:35.102Z"
      },
      {
        "duration": 6,
        "start_time": "2023-02-22T16:40:37.605Z"
      },
      {
        "duration": 11,
        "start_time": "2023-02-22T16:40:40.084Z"
      },
      {
        "duration": 120,
        "start_time": "2023-02-22T16:40:44.628Z"
      },
      {
        "duration": 4,
        "start_time": "2023-02-22T16:42:20.473Z"
      },
      {
        "duration": 1089,
        "start_time": "2023-02-22T16:45:24.697Z"
      },
      {
        "duration": 36,
        "start_time": "2023-02-22T16:45:25.788Z"
      },
      {
        "duration": 19,
        "start_time": "2023-02-22T16:45:25.825Z"
      },
      {
        "duration": 12,
        "start_time": "2023-02-22T16:45:25.846Z"
      },
      {
        "duration": 3,
        "start_time": "2023-02-22T16:45:25.861Z"
      },
      {
        "duration": 389,
        "start_time": "2023-02-22T16:45:25.866Z"
      },
      {
        "duration": 4,
        "start_time": "2023-02-22T16:45:47.653Z"
      },
      {
        "duration": 5,
        "start_time": "2023-02-22T16:47:06.552Z"
      },
      {
        "duration": 13,
        "start_time": "2023-02-22T16:47:19.103Z"
      },
      {
        "duration": 9,
        "start_time": "2023-02-22T16:47:39.766Z"
      },
      {
        "duration": 5,
        "start_time": "2023-02-22T16:47:52.598Z"
      },
      {
        "duration": 4,
        "start_time": "2023-02-22T16:48:09.726Z"
      },
      {
        "duration": 12,
        "start_time": "2023-02-22T16:48:18.077Z"
      },
      {
        "duration": 5,
        "start_time": "2023-02-22T16:49:13.043Z"
      },
      {
        "duration": 12,
        "start_time": "2023-02-22T16:49:30.417Z"
      },
      {
        "duration": 19,
        "start_time": "2023-02-22T16:49:37.002Z"
      },
      {
        "duration": 16,
        "start_time": "2023-02-22T16:49:48.227Z"
      },
      {
        "duration": 1057,
        "start_time": "2023-02-22T16:52:21.516Z"
      },
      {
        "duration": 38,
        "start_time": "2023-02-22T16:52:22.575Z"
      },
      {
        "duration": 19,
        "start_time": "2023-02-22T16:52:22.614Z"
      },
      {
        "duration": 13,
        "start_time": "2023-02-22T16:52:22.635Z"
      },
      {
        "duration": 9,
        "start_time": "2023-02-22T16:52:22.650Z"
      },
      {
        "duration": 13,
        "start_time": "2023-02-22T16:52:22.661Z"
      },
      {
        "duration": 120,
        "start_time": "2023-02-22T16:52:22.676Z"
      },
      {
        "duration": 0,
        "start_time": "2023-02-22T16:52:22.798Z"
      },
      {
        "duration": 0,
        "start_time": "2023-02-22T16:52:22.799Z"
      },
      {
        "duration": 5,
        "start_time": "2023-02-22T16:52:39.914Z"
      },
      {
        "duration": 18,
        "start_time": "2023-02-22T16:52:48.777Z"
      },
      {
        "duration": 17,
        "start_time": "2023-02-22T16:53:00.305Z"
      },
      {
        "duration": 5,
        "start_time": "2023-02-22T16:53:03.998Z"
      },
      {
        "duration": 11,
        "start_time": "2023-02-22T16:53:14.542Z"
      },
      {
        "duration": 1085,
        "start_time": "2023-02-22T16:53:20.966Z"
      },
      {
        "duration": 36,
        "start_time": "2023-02-22T16:53:22.053Z"
      },
      {
        "duration": 20,
        "start_time": "2023-02-22T16:53:22.090Z"
      },
      {
        "duration": 12,
        "start_time": "2023-02-22T16:53:22.112Z"
      },
      {
        "duration": 3,
        "start_time": "2023-02-22T16:53:22.127Z"
      },
      {
        "duration": 11,
        "start_time": "2023-02-22T16:53:22.132Z"
      },
      {
        "duration": 4,
        "start_time": "2023-02-22T16:53:22.145Z"
      },
      {
        "duration": 18,
        "start_time": "2023-02-22T16:53:22.150Z"
      },
      {
        "duration": 41,
        "start_time": "2023-02-22T16:53:22.169Z"
      },
      {
        "duration": 4,
        "start_time": "2023-02-22T16:53:42.149Z"
      },
      {
        "duration": 5,
        "start_time": "2023-02-22T16:53:51.565Z"
      },
      {
        "duration": 124,
        "start_time": "2023-02-22T16:54:45.826Z"
      },
      {
        "duration": 25,
        "start_time": "2023-02-22T16:55:28.012Z"
      },
      {
        "duration": 1061,
        "start_time": "2023-02-22T17:02:24.813Z"
      },
      {
        "duration": 66,
        "start_time": "2023-02-22T17:02:25.876Z"
      },
      {
        "duration": 4,
        "start_time": "2023-02-22T17:02:25.944Z"
      },
      {
        "duration": 28,
        "start_time": "2023-02-22T17:02:25.950Z"
      },
      {
        "duration": 5,
        "start_time": "2023-02-22T17:02:25.980Z"
      },
      {
        "duration": 27,
        "start_time": "2023-02-22T17:02:25.986Z"
      },
      {
        "duration": 10,
        "start_time": "2023-02-22T17:02:26.015Z"
      },
      {
        "duration": 8,
        "start_time": "2023-02-22T17:02:26.027Z"
      },
      {
        "duration": 18,
        "start_time": "2023-02-22T17:02:26.037Z"
      },
      {
        "duration": 1050,
        "start_time": "2023-02-22T17:03:27.760Z"
      },
      {
        "duration": 61,
        "start_time": "2023-02-22T17:03:28.812Z"
      },
      {
        "duration": 3,
        "start_time": "2023-02-22T17:03:28.875Z"
      },
      {
        "duration": 11,
        "start_time": "2023-02-22T17:03:28.880Z"
      },
      {
        "duration": 4,
        "start_time": "2023-02-22T17:03:28.893Z"
      },
      {
        "duration": 21,
        "start_time": "2023-02-22T17:03:28.898Z"
      },
      {
        "duration": 9,
        "start_time": "2023-02-22T17:03:28.920Z"
      },
      {
        "duration": 3,
        "start_time": "2023-02-22T17:03:28.931Z"
      },
      {
        "duration": 14,
        "start_time": "2023-02-22T17:03:28.936Z"
      },
      {
        "duration": 17,
        "start_time": "2023-02-22T17:05:11.913Z"
      },
      {
        "duration": 1107,
        "start_time": "2023-02-22T17:05:23.511Z"
      },
      {
        "duration": 61,
        "start_time": "2023-02-22T17:05:24.620Z"
      },
      {
        "duration": 3,
        "start_time": "2023-02-22T17:05:24.683Z"
      },
      {
        "duration": 11,
        "start_time": "2023-02-22T17:05:24.688Z"
      },
      {
        "duration": 5,
        "start_time": "2023-02-22T17:05:24.701Z"
      },
      {
        "duration": 20,
        "start_time": "2023-02-22T17:05:24.707Z"
      },
      {
        "duration": 9,
        "start_time": "2023-02-22T17:05:24.729Z"
      },
      {
        "duration": 5,
        "start_time": "2023-02-22T17:05:24.740Z"
      },
      {
        "duration": 16,
        "start_time": "2023-02-22T17:05:24.746Z"
      },
      {
        "duration": 17,
        "start_time": "2023-02-22T17:05:24.764Z"
      },
      {
        "duration": 20,
        "start_time": "2023-02-22T17:05:58.785Z"
      },
      {
        "duration": 2712,
        "start_time": "2023-02-22T17:12:05.848Z"
      },
      {
        "duration": 1143,
        "start_time": "2023-02-22T17:13:37.473Z"
      },
      {
        "duration": 60,
        "start_time": "2023-02-22T17:13:38.618Z"
      },
      {
        "duration": 4,
        "start_time": "2023-02-22T17:13:38.680Z"
      },
      {
        "duration": 12,
        "start_time": "2023-02-22T17:13:38.685Z"
      },
      {
        "duration": 4,
        "start_time": "2023-02-22T17:13:38.698Z"
      },
      {
        "duration": 21,
        "start_time": "2023-02-22T17:13:38.704Z"
      },
      {
        "duration": 10,
        "start_time": "2023-02-22T17:13:38.726Z"
      },
      {
        "duration": 4,
        "start_time": "2023-02-22T17:13:38.737Z"
      },
      {
        "duration": 14,
        "start_time": "2023-02-22T17:13:38.743Z"
      },
      {
        "duration": 20,
        "start_time": "2023-02-22T17:13:38.760Z"
      },
      {
        "duration": 2872,
        "start_time": "2023-02-22T17:13:38.781Z"
      },
      {
        "duration": 109,
        "start_time": "2023-02-22T17:14:27.726Z"
      },
      {
        "duration": 1076,
        "start_time": "2023-02-22T17:14:51.553Z"
      },
      {
        "duration": 63,
        "start_time": "2023-02-22T17:14:52.632Z"
      },
      {
        "duration": 5,
        "start_time": "2023-02-22T17:14:52.697Z"
      },
      {
        "duration": 32,
        "start_time": "2023-02-22T17:14:52.703Z"
      },
      {
        "duration": 6,
        "start_time": "2023-02-22T17:14:52.737Z"
      },
      {
        "duration": 21,
        "start_time": "2023-02-22T17:14:52.745Z"
      },
      {
        "duration": 10,
        "start_time": "2023-02-22T17:14:52.767Z"
      },
      {
        "duration": 25,
        "start_time": "2023-02-22T17:14:52.778Z"
      },
      {
        "duration": 21,
        "start_time": "2023-02-22T17:14:52.805Z"
      },
      {
        "duration": 28,
        "start_time": "2023-02-22T17:14:52.828Z"
      },
      {
        "duration": 2841,
        "start_time": "2023-02-22T17:14:52.859Z"
      },
      {
        "duration": 310,
        "start_time": "2023-02-22T17:14:55.701Z"
      },
      {
        "duration": 19,
        "start_time": "2023-02-22T17:15:30.421Z"
      },
      {
        "duration": 21889,
        "start_time": "2023-02-22T17:17:19.144Z"
      },
      {
        "duration": 1202,
        "start_time": "2023-02-22T17:20:07.373Z"
      },
      {
        "duration": 64,
        "start_time": "2023-02-22T17:20:08.578Z"
      },
      {
        "duration": 5,
        "start_time": "2023-02-22T17:20:08.643Z"
      },
      {
        "duration": 10,
        "start_time": "2023-02-22T17:20:08.649Z"
      },
      {
        "duration": 4,
        "start_time": "2023-02-22T17:20:08.661Z"
      },
      {
        "duration": 27,
        "start_time": "2023-02-22T17:20:08.666Z"
      },
      {
        "duration": 24,
        "start_time": "2023-02-22T17:20:08.694Z"
      },
      {
        "duration": 3,
        "start_time": "2023-02-22T17:20:08.719Z"
      },
      {
        "duration": 13,
        "start_time": "2023-02-22T17:20:08.724Z"
      },
      {
        "duration": 22,
        "start_time": "2023-02-22T17:20:08.738Z"
      },
      {
        "duration": 348216,
        "start_time": "2023-02-22T17:20:08.762Z"
      },
      {
        "duration": 52,
        "start_time": "2023-02-22T17:25:56.981Z"
      },
      {
        "duration": 1133,
        "start_time": "2023-02-22T17:29:12.983Z"
      },
      {
        "duration": 62,
        "start_time": "2023-02-22T17:29:14.118Z"
      },
      {
        "duration": 4,
        "start_time": "2023-02-22T17:29:14.181Z"
      },
      {
        "duration": 13,
        "start_time": "2023-02-22T17:29:14.187Z"
      },
      {
        "duration": 4,
        "start_time": "2023-02-22T17:29:14.202Z"
      },
      {
        "duration": 19,
        "start_time": "2023-02-22T17:29:14.208Z"
      },
      {
        "duration": 10,
        "start_time": "2023-02-22T17:29:14.229Z"
      },
      {
        "duration": 4,
        "start_time": "2023-02-22T17:29:14.240Z"
      },
      {
        "duration": 15,
        "start_time": "2023-02-22T17:29:14.245Z"
      },
      {
        "duration": 53,
        "start_time": "2023-02-22T17:29:14.262Z"
      },
      {
        "duration": 351930,
        "start_time": "2023-02-22T17:29:14.316Z"
      },
      {
        "duration": 20,
        "start_time": "2023-02-22T17:35:06.247Z"
      },
      {
        "duration": 2987,
        "start_time": "2023-02-22T17:36:26.104Z"
      },
      {
        "duration": 34611,
        "start_time": "2023-02-22T17:37:04.116Z"
      },
      {
        "duration": 56601,
        "start_time": "2023-02-22T17:37:45.267Z"
      },
      {
        "duration": 392836,
        "start_time": "2023-02-22T17:38:58.232Z"
      },
      {
        "duration": 1213,
        "start_time": "2023-02-22T17:49:26.613Z"
      },
      {
        "duration": 63,
        "start_time": "2023-02-22T17:49:27.827Z"
      },
      {
        "duration": 4,
        "start_time": "2023-02-22T17:49:27.892Z"
      },
      {
        "duration": 11,
        "start_time": "2023-02-22T17:49:27.897Z"
      },
      {
        "duration": 4,
        "start_time": "2023-02-22T17:49:27.909Z"
      },
      {
        "duration": 20,
        "start_time": "2023-02-22T17:49:27.914Z"
      },
      {
        "duration": 10,
        "start_time": "2023-02-22T17:49:27.936Z"
      },
      {
        "duration": 3,
        "start_time": "2023-02-22T17:49:27.948Z"
      },
      {
        "duration": 146,
        "start_time": "2023-02-22T17:49:27.953Z"
      },
      {
        "duration": 97463,
        "start_time": "2023-02-22T17:50:01.827Z"
      },
      {
        "duration": 65457,
        "start_time": "2023-02-22T17:51:54.903Z"
      },
      {
        "duration": 1092,
        "start_time": "2023-02-22T17:53:58.031Z"
      },
      {
        "duration": 60,
        "start_time": "2023-02-22T17:53:59.125Z"
      },
      {
        "duration": 4,
        "start_time": "2023-02-22T17:53:59.187Z"
      },
      {
        "duration": 11,
        "start_time": "2023-02-22T17:53:59.193Z"
      },
      {
        "duration": 4,
        "start_time": "2023-02-22T17:53:59.206Z"
      },
      {
        "duration": 20,
        "start_time": "2023-02-22T17:53:59.211Z"
      },
      {
        "duration": 10,
        "start_time": "2023-02-22T17:53:59.232Z"
      },
      {
        "duration": 6,
        "start_time": "2023-02-22T17:53:59.243Z"
      },
      {
        "duration": 15,
        "start_time": "2023-02-22T17:53:59.250Z"
      },
      {
        "duration": 49,
        "start_time": "2023-02-22T17:53:59.267Z"
      },
      {
        "duration": 10387,
        "start_time": "2023-02-22T17:53:59.317Z"
      },
      {
        "duration": 145729,
        "start_time": "2023-02-22T17:54:15.935Z"
      },
      {
        "duration": 24,
        "start_time": "2023-02-22T17:57:51.560Z"
      },
      {
        "duration": 379,
        "start_time": "2023-02-22T17:58:12.951Z"
      },
      {
        "duration": 347,
        "start_time": "2023-02-22T17:58:20.795Z"
      },
      {
        "duration": 5,
        "start_time": "2023-02-22T18:01:04.860Z"
      },
      {
        "duration": 17,
        "start_time": "2023-02-22T18:08:00.925Z"
      },
      {
        "duration": 4,
        "start_time": "2023-02-22T18:08:46.858Z"
      },
      {
        "duration": 12,
        "start_time": "2023-02-22T18:08:54.106Z"
      },
      {
        "duration": 31883,
        "start_time": "2023-02-22T18:11:25.387Z"
      },
      {
        "duration": 29,
        "start_time": "2023-02-22T18:12:43.360Z"
      },
      {
        "duration": 448,
        "start_time": "2023-02-22T18:13:19.078Z"
      },
      {
        "duration": 678,
        "start_time": "2023-02-22T18:18:14.905Z"
      },
      {
        "duration": 676,
        "start_time": "2023-02-22T18:18:34.583Z"
      },
      {
        "duration": 8,
        "start_time": "2023-02-22T18:22:48.354Z"
      },
      {
        "duration": 4,
        "start_time": "2023-02-22T18:23:06.458Z"
      },
      {
        "duration": 6,
        "start_time": "2023-02-22T18:23:17.273Z"
      },
      {
        "duration": 33108,
        "start_time": "2023-02-22T18:23:49.486Z"
      },
      {
        "duration": 4,
        "start_time": "2023-02-22T18:26:33.903Z"
      },
      {
        "duration": 378,
        "start_time": "2023-02-22T18:29:55.365Z"
      },
      {
        "duration": 113,
        "start_time": "2023-02-22T18:30:04.140Z"
      },
      {
        "duration": 5,
        "start_time": "2023-02-22T18:30:45.642Z"
      },
      {
        "duration": 6,
        "start_time": "2023-02-22T18:30:52.881Z"
      },
      {
        "duration": 1315,
        "start_time": "2023-02-22T18:33:39.232Z"
      },
      {
        "duration": 60,
        "start_time": "2023-02-22T18:33:40.549Z"
      },
      {
        "duration": 4,
        "start_time": "2023-02-22T18:33:40.611Z"
      },
      {
        "duration": 9,
        "start_time": "2023-02-22T18:33:40.617Z"
      },
      {
        "duration": 5,
        "start_time": "2023-02-22T18:33:40.629Z"
      },
      {
        "duration": 20,
        "start_time": "2023-02-22T18:33:40.636Z"
      },
      {
        "duration": 11,
        "start_time": "2023-02-22T18:33:40.657Z"
      },
      {
        "duration": 3,
        "start_time": "2023-02-22T18:33:40.670Z"
      },
      {
        "duration": 46,
        "start_time": "2023-02-22T18:33:40.675Z"
      },
      {
        "duration": 21,
        "start_time": "2023-02-22T18:33:40.723Z"
      },
      {
        "duration": 24722,
        "start_time": "2023-02-22T18:33:40.746Z"
      },
      {
        "duration": 43,
        "start_time": "2023-02-22T18:34:05.469Z"
      },
      {
        "duration": 504,
        "start_time": "2023-02-22T18:34:05.515Z"
      },
      {
        "duration": 5,
        "start_time": "2023-02-22T18:34:06.022Z"
      },
      {
        "duration": 11,
        "start_time": "2023-02-22T18:34:06.028Z"
      },
      {
        "duration": 12,
        "start_time": "2023-02-22T18:34:06.040Z"
      },
      {
        "duration": 32159,
        "start_time": "2023-02-22T18:34:06.053Z"
      },
      {
        "duration": 34,
        "start_time": "2023-02-22T18:34:38.214Z"
      },
      {
        "duration": 550,
        "start_time": "2023-02-22T18:34:38.311Z"
      },
      {
        "duration": 114,
        "start_time": "2023-02-22T18:34:38.863Z"
      },
      {
        "duration": 6,
        "start_time": "2023-02-22T18:34:38.978Z"
      },
      {
        "duration": 702,
        "start_time": "2023-02-22T18:34:38.986Z"
      },
      {
        "duration": 681,
        "start_time": "2023-02-22T18:35:30.636Z"
      },
      {
        "duration": 4,
        "start_time": "2023-02-22T18:49:30.410Z"
      },
      {
        "duration": 1420,
        "start_time": "2023-02-22T18:55:39.605Z"
      },
      {
        "duration": 60,
        "start_time": "2023-02-22T18:55:41.028Z"
      },
      {
        "duration": 4,
        "start_time": "2023-02-22T18:55:41.090Z"
      },
      {
        "duration": 14,
        "start_time": "2023-02-22T18:55:41.096Z"
      },
      {
        "duration": 5,
        "start_time": "2023-02-22T18:55:41.112Z"
      },
      {
        "duration": 129,
        "start_time": "2023-02-22T18:55:41.119Z"
      },
      {
        "duration": 0,
        "start_time": "2023-02-22T18:55:41.250Z"
      },
      {
        "duration": 0,
        "start_time": "2023-02-22T18:55:41.252Z"
      },
      {
        "duration": 0,
        "start_time": "2023-02-22T18:55:41.253Z"
      },
      {
        "duration": 0,
        "start_time": "2023-02-22T18:55:41.254Z"
      },
      {
        "duration": 0,
        "start_time": "2023-02-22T18:55:41.256Z"
      },
      {
        "duration": 0,
        "start_time": "2023-02-22T18:55:41.257Z"
      },
      {
        "duration": 0,
        "start_time": "2023-02-22T18:55:41.258Z"
      },
      {
        "duration": 0,
        "start_time": "2023-02-22T18:55:41.260Z"
      },
      {
        "duration": 0,
        "start_time": "2023-02-22T18:55:41.261Z"
      },
      {
        "duration": 0,
        "start_time": "2023-02-22T18:55:41.262Z"
      },
      {
        "duration": 0,
        "start_time": "2023-02-22T18:55:41.264Z"
      },
      {
        "duration": 0,
        "start_time": "2023-02-22T18:55:41.265Z"
      },
      {
        "duration": 0,
        "start_time": "2023-02-22T18:55:41.266Z"
      },
      {
        "duration": 0,
        "start_time": "2023-02-22T18:55:41.268Z"
      },
      {
        "duration": 0,
        "start_time": "2023-02-22T18:55:41.269Z"
      },
      {
        "duration": 0,
        "start_time": "2023-02-22T18:55:41.271Z"
      },
      {
        "duration": 1346,
        "start_time": "2023-02-22T18:56:39.678Z"
      },
      {
        "duration": 58,
        "start_time": "2023-02-22T18:56:41.026Z"
      },
      {
        "duration": 4,
        "start_time": "2023-02-22T18:56:41.085Z"
      },
      {
        "duration": 15,
        "start_time": "2023-02-22T18:56:41.091Z"
      },
      {
        "duration": 4,
        "start_time": "2023-02-22T18:56:41.108Z"
      },
      {
        "duration": 360,
        "start_time": "2023-02-22T18:56:41.113Z"
      },
      {
        "duration": 0,
        "start_time": "2023-02-22T18:56:41.475Z"
      },
      {
        "duration": 0,
        "start_time": "2023-02-22T18:56:41.476Z"
      },
      {
        "duration": 0,
        "start_time": "2023-02-22T18:56:41.477Z"
      },
      {
        "duration": 0,
        "start_time": "2023-02-22T18:56:41.478Z"
      },
      {
        "duration": 0,
        "start_time": "2023-02-22T18:56:41.478Z"
      },
      {
        "duration": 0,
        "start_time": "2023-02-22T18:56:41.479Z"
      },
      {
        "duration": 0,
        "start_time": "2023-02-22T18:56:41.480Z"
      },
      {
        "duration": 0,
        "start_time": "2023-02-22T18:56:41.481Z"
      },
      {
        "duration": 0,
        "start_time": "2023-02-22T18:56:41.481Z"
      },
      {
        "duration": 0,
        "start_time": "2023-02-22T18:56:41.482Z"
      },
      {
        "duration": 0,
        "start_time": "2023-02-22T18:56:41.483Z"
      },
      {
        "duration": 0,
        "start_time": "2023-02-22T18:56:41.484Z"
      },
      {
        "duration": 0,
        "start_time": "2023-02-22T18:56:41.485Z"
      },
      {
        "duration": 0,
        "start_time": "2023-02-22T18:56:41.486Z"
      },
      {
        "duration": 0,
        "start_time": "2023-02-22T18:56:41.487Z"
      },
      {
        "duration": 0,
        "start_time": "2023-02-22T18:56:41.510Z"
      },
      {
        "duration": 14,
        "start_time": "2023-02-22T18:58:30.889Z"
      },
      {
        "duration": 1403,
        "start_time": "2023-02-22T18:59:00.767Z"
      },
      {
        "duration": 67,
        "start_time": "2023-02-22T18:59:02.171Z"
      },
      {
        "duration": 4,
        "start_time": "2023-02-22T18:59:02.240Z"
      },
      {
        "duration": 15,
        "start_time": "2023-02-22T18:59:02.246Z"
      },
      {
        "duration": 5,
        "start_time": "2023-02-22T18:59:02.264Z"
      },
      {
        "duration": 43,
        "start_time": "2023-02-22T18:59:02.270Z"
      },
      {
        "duration": 11,
        "start_time": "2023-02-22T18:59:02.314Z"
      },
      {
        "duration": 6,
        "start_time": "2023-02-22T18:59:02.326Z"
      },
      {
        "duration": 15,
        "start_time": "2023-02-22T18:59:02.333Z"
      },
      {
        "duration": 25,
        "start_time": "2023-02-22T18:59:02.350Z"
      },
      {
        "duration": 23608,
        "start_time": "2023-02-22T18:59:02.377Z"
      },
      {
        "duration": 43,
        "start_time": "2023-02-22T18:59:25.987Z"
      },
      {
        "duration": 524,
        "start_time": "2023-02-22T18:59:26.032Z"
      },
      {
        "duration": 5,
        "start_time": "2023-02-22T18:59:26.559Z"
      },
      {
        "duration": 14,
        "start_time": "2023-02-22T18:59:26.566Z"
      },
      {
        "duration": 22,
        "start_time": "2023-02-22T18:59:26.581Z"
      },
      {
        "duration": 33598,
        "start_time": "2023-02-22T18:59:26.604Z"
      },
      {
        "duration": 101,
        "start_time": "2023-02-22T19:00:00.210Z"
      },
      {
        "duration": 548,
        "start_time": "2023-02-22T19:00:00.313Z"
      },
      {
        "duration": 5,
        "start_time": "2023-02-22T19:00:00.863Z"
      },
      {
        "duration": 719,
        "start_time": "2023-02-22T19:00:00.870Z"
      },
      {
        "duration": 112,
        "start_time": "2023-02-22T19:00:01.591Z"
      },
      {
        "duration": 1390,
        "start_time": "2023-02-22T19:37:44.872Z"
      },
      {
        "duration": 59,
        "start_time": "2023-02-22T19:37:46.264Z"
      },
      {
        "duration": 11,
        "start_time": "2023-02-22T19:37:46.325Z"
      },
      {
        "duration": 4,
        "start_time": "2023-02-22T19:37:46.337Z"
      },
      {
        "duration": 6,
        "start_time": "2023-02-22T19:37:46.343Z"
      },
      {
        "duration": 20,
        "start_time": "2023-02-22T19:37:46.350Z"
      },
      {
        "duration": 17,
        "start_time": "2023-02-22T19:37:46.371Z"
      },
      {
        "duration": 4,
        "start_time": "2023-02-22T19:37:46.416Z"
      },
      {
        "duration": 21,
        "start_time": "2023-02-22T19:37:46.421Z"
      },
      {
        "duration": 21,
        "start_time": "2023-02-22T19:37:46.445Z"
      },
      {
        "duration": 4,
        "start_time": "2023-02-22T19:37:46.468Z"
      },
      {
        "duration": 16,
        "start_time": "2023-02-22T19:37:46.473Z"
      },
      {
        "duration": 24373,
        "start_time": "2023-02-22T19:37:46.490Z"
      },
      {
        "duration": 17,
        "start_time": "2023-02-22T19:38:10.865Z"
      },
      {
        "duration": 467,
        "start_time": "2023-02-22T19:38:10.910Z"
      },
      {
        "duration": 4,
        "start_time": "2023-02-22T19:38:11.379Z"
      },
      {
        "duration": 7,
        "start_time": "2023-02-22T19:38:11.385Z"
      },
      {
        "duration": 26,
        "start_time": "2023-02-22T19:38:11.393Z"
      },
      {
        "duration": 31518,
        "start_time": "2023-02-22T19:38:11.421Z"
      },
      {
        "duration": 169,
        "start_time": "2023-02-22T19:38:42.940Z"
      },
      {
        "duration": 458,
        "start_time": "2023-02-22T19:38:43.111Z"
      },
      {
        "duration": 5,
        "start_time": "2023-02-22T19:38:43.570Z"
      },
      {
        "duration": 673,
        "start_time": "2023-02-22T19:38:43.576Z"
      },
      {
        "duration": 115,
        "start_time": "2023-02-22T19:38:44.250Z"
      },
      {
        "duration": 4,
        "start_time": "2023-02-22T19:44:31.534Z"
      },
      {
        "duration": 6,
        "start_time": "2023-02-22T19:44:38.134Z"
      },
      {
        "duration": 1619,
        "start_time": "2023-02-23T14:55:37.864Z"
      },
      {
        "duration": 79,
        "start_time": "2023-02-23T14:55:41.190Z"
      },
      {
        "duration": 28,
        "start_time": "2023-02-23T14:55:44.549Z"
      },
      {
        "duration": 25,
        "start_time": "2023-02-23T14:55:49.940Z"
      },
      {
        "duration": 9,
        "start_time": "2023-02-23T14:56:15.373Z"
      },
      {
        "duration": 15,
        "start_time": "2023-02-23T14:56:21.610Z"
      },
      {
        "duration": 14,
        "start_time": "2023-02-23T14:56:31.266Z"
      },
      {
        "duration": 6,
        "start_time": "2023-02-23T14:56:37.866Z"
      },
      {
        "duration": 4,
        "start_time": "2023-02-23T14:57:15.568Z"
      },
      {
        "duration": 19,
        "start_time": "2023-02-23T14:57:17.912Z"
      },
      {
        "duration": 1513,
        "start_time": "2023-02-23T15:45:34.264Z"
      },
      {
        "duration": 37,
        "start_time": "2023-02-23T15:45:35.779Z"
      },
      {
        "duration": 20,
        "start_time": "2023-02-23T15:45:35.818Z"
      },
      {
        "duration": 7,
        "start_time": "2023-02-23T15:45:35.840Z"
      },
      {
        "duration": 12,
        "start_time": "2023-02-23T15:45:35.848Z"
      },
      {
        "duration": 5,
        "start_time": "2023-02-23T15:45:35.861Z"
      },
      {
        "duration": 20,
        "start_time": "2023-02-23T15:45:35.868Z"
      },
      {
        "duration": 39,
        "start_time": "2023-02-23T15:45:35.889Z"
      },
      {
        "duration": 10,
        "start_time": "2023-02-23T15:45:35.930Z"
      },
      {
        "duration": 6,
        "start_time": "2023-02-23T15:45:35.942Z"
      },
      {
        "duration": 21,
        "start_time": "2023-02-23T15:45:35.949Z"
      },
      {
        "duration": 24,
        "start_time": "2023-02-23T15:45:35.972Z"
      },
      {
        "duration": 31,
        "start_time": "2023-02-23T15:45:35.998Z"
      },
      {
        "duration": 23476,
        "start_time": "2023-02-23T15:45:36.031Z"
      },
      {
        "duration": 21,
        "start_time": "2023-02-23T15:45:59.509Z"
      },
      {
        "duration": 520,
        "start_time": "2023-02-23T15:45:59.532Z"
      },
      {
        "duration": 5,
        "start_time": "2023-02-23T15:46:00.053Z"
      },
      {
        "duration": 150,
        "start_time": "2023-02-23T15:46:00.059Z"
      },
      {
        "duration": 0,
        "start_time": "2023-02-23T15:46:00.211Z"
      },
      {
        "duration": 0,
        "start_time": "2023-02-23T15:46:00.212Z"
      },
      {
        "duration": 0,
        "start_time": "2023-02-23T15:46:00.213Z"
      },
      {
        "duration": 0,
        "start_time": "2023-02-23T15:46:00.214Z"
      },
      {
        "duration": 0,
        "start_time": "2023-02-23T15:46:00.215Z"
      },
      {
        "duration": 0,
        "start_time": "2023-02-23T15:46:00.216Z"
      },
      {
        "duration": 0,
        "start_time": "2023-02-23T15:46:00.217Z"
      },
      {
        "duration": 13,
        "start_time": "2023-02-23T15:49:28.142Z"
      },
      {
        "duration": 16,
        "start_time": "2023-02-23T15:50:28.754Z"
      },
      {
        "duration": 58,
        "start_time": "2023-02-23T15:50:47.978Z"
      },
      {
        "duration": 314,
        "start_time": "2023-02-23T15:50:55.697Z"
      },
      {
        "duration": 296,
        "start_time": "2023-02-23T15:51:30.663Z"
      },
      {
        "duration": 1445,
        "start_time": "2023-02-23T16:03:38.595Z"
      },
      {
        "duration": 37,
        "start_time": "2023-02-23T16:03:40.042Z"
      },
      {
        "duration": 22,
        "start_time": "2023-02-23T16:03:40.081Z"
      },
      {
        "duration": 16,
        "start_time": "2023-02-23T16:03:40.104Z"
      },
      {
        "duration": 17,
        "start_time": "2023-02-23T16:03:40.122Z"
      },
      {
        "duration": 1885,
        "start_time": "2023-02-23T16:03:40.141Z"
      },
      {
        "duration": 5,
        "start_time": "2023-02-23T16:03:42.028Z"
      },
      {
        "duration": 8,
        "start_time": "2023-02-23T16:03:42.034Z"
      },
      {
        "duration": 14,
        "start_time": "2023-02-23T16:03:42.043Z"
      },
      {
        "duration": 14,
        "start_time": "2023-02-23T16:03:42.058Z"
      },
      {
        "duration": 3,
        "start_time": "2023-02-23T16:03:42.074Z"
      },
      {
        "duration": 8,
        "start_time": "2023-02-23T16:03:42.079Z"
      },
      {
        "duration": 40,
        "start_time": "2023-02-23T16:03:42.088Z"
      },
      {
        "duration": 22,
        "start_time": "2023-02-23T16:03:42.131Z"
      },
      {
        "duration": 25200,
        "start_time": "2023-02-23T16:03:42.155Z"
      },
      {
        "duration": 18,
        "start_time": "2023-02-23T16:04:07.356Z"
      },
      {
        "duration": 474,
        "start_time": "2023-02-23T16:04:07.410Z"
      },
      {
        "duration": 6,
        "start_time": "2023-02-23T16:04:07.885Z"
      },
      {
        "duration": 294,
        "start_time": "2023-02-23T16:04:07.892Z"
      },
      {
        "duration": 165,
        "start_time": "2023-02-23T16:04:08.188Z"
      },
      {
        "duration": 0,
        "start_time": "2023-02-23T16:04:08.355Z"
      },
      {
        "duration": 1,
        "start_time": "2023-02-23T16:04:08.357Z"
      },
      {
        "duration": 0,
        "start_time": "2023-02-23T16:04:08.359Z"
      },
      {
        "duration": 0,
        "start_time": "2023-02-23T16:04:08.360Z"
      },
      {
        "duration": 0,
        "start_time": "2023-02-23T16:04:08.362Z"
      },
      {
        "duration": 0,
        "start_time": "2023-02-23T16:04:08.363Z"
      },
      {
        "duration": 19,
        "start_time": "2023-02-23T16:09:10.403Z"
      },
      {
        "duration": 33094,
        "start_time": "2023-02-23T16:09:12.898Z"
      },
      {
        "duration": 58,
        "start_time": "2023-02-23T16:09:56.888Z"
      },
      {
        "duration": 458,
        "start_time": "2023-02-23T16:10:04.521Z"
      },
      {
        "duration": 33796,
        "start_time": "2023-02-23T16:11:02.829Z"
      },
      {
        "duration": 38,
        "start_time": "2023-02-23T16:11:44.899Z"
      },
      {
        "duration": 485,
        "start_time": "2023-02-23T16:11:48.484Z"
      },
      {
        "duration": 6,
        "start_time": "2023-02-23T16:12:12.641Z"
      },
      {
        "duration": 11,
        "start_time": "2023-02-23T16:14:46.210Z"
      },
      {
        "duration": 6,
        "start_time": "2023-02-23T16:15:18.874Z"
      },
      {
        "duration": 5,
        "start_time": "2023-02-23T16:15:41.735Z"
      },
      {
        "duration": 6,
        "start_time": "2023-02-23T16:16:00.633Z"
      },
      {
        "duration": 5,
        "start_time": "2023-02-23T16:16:15.054Z"
      },
      {
        "duration": 72,
        "start_time": "2023-02-23T16:17:04.721Z"
      },
      {
        "duration": 6,
        "start_time": "2023-02-23T16:17:13.139Z"
      },
      {
        "duration": 6,
        "start_time": "2023-02-23T16:17:18.066Z"
      },
      {
        "duration": 6,
        "start_time": "2023-02-23T16:17:31.138Z"
      },
      {
        "duration": 7,
        "start_time": "2023-02-23T16:17:37.821Z"
      },
      {
        "duration": 7,
        "start_time": "2023-02-23T16:18:08.176Z"
      },
      {
        "duration": 5,
        "start_time": "2023-02-23T16:18:20.080Z"
      },
      {
        "duration": 14,
        "start_time": "2023-02-23T16:19:43.180Z"
      },
      {
        "duration": 12,
        "start_time": "2023-02-23T16:20:09.289Z"
      },
      {
        "duration": 11,
        "start_time": "2023-02-23T16:20:50.049Z"
      },
      {
        "duration": 11,
        "start_time": "2023-02-23T16:23:20.579Z"
      },
      {
        "duration": 85,
        "start_time": "2023-02-23T16:24:16.334Z"
      },
      {
        "duration": 13,
        "start_time": "2023-02-23T16:24:35.493Z"
      },
      {
        "duration": 24,
        "start_time": "2023-02-23T16:26:17.697Z"
      },
      {
        "duration": 66,
        "start_time": "2023-02-23T16:47:11.835Z"
      },
      {
        "duration": 16,
        "start_time": "2023-02-23T16:47:17.530Z"
      },
      {
        "duration": 18,
        "start_time": "2023-02-23T16:50:02.076Z"
      },
      {
        "duration": 19,
        "start_time": "2023-02-23T16:50:34.769Z"
      },
      {
        "duration": 23,
        "start_time": "2023-02-23T16:54:16.262Z"
      },
      {
        "duration": 21,
        "start_time": "2023-02-23T16:54:35.511Z"
      },
      {
        "duration": 15,
        "start_time": "2023-02-23T16:57:01.334Z"
      },
      {
        "duration": 25,
        "start_time": "2023-02-23T16:57:27.699Z"
      },
      {
        "duration": 17,
        "start_time": "2023-02-23T16:57:41.256Z"
      },
      {
        "duration": 21,
        "start_time": "2023-02-23T16:58:19.946Z"
      },
      {
        "duration": 17,
        "start_time": "2023-02-23T16:59:58.771Z"
      },
      {
        "duration": 17,
        "start_time": "2023-02-23T17:00:02.821Z"
      },
      {
        "duration": 17,
        "start_time": "2023-02-23T17:00:27.834Z"
      },
      {
        "duration": 11,
        "start_time": "2023-02-23T17:00:46.825Z"
      },
      {
        "duration": 10,
        "start_time": "2023-02-23T17:01:30.199Z"
      },
      {
        "duration": 11,
        "start_time": "2023-02-23T17:01:37.037Z"
      },
      {
        "duration": 1456,
        "start_time": "2023-02-23T17:02:43.879Z"
      },
      {
        "duration": 38,
        "start_time": "2023-02-23T17:02:45.336Z"
      },
      {
        "duration": 22,
        "start_time": "2023-02-23T17:02:45.375Z"
      },
      {
        "duration": 6,
        "start_time": "2023-02-23T17:02:45.399Z"
      },
      {
        "duration": 34,
        "start_time": "2023-02-23T17:02:45.407Z"
      },
      {
        "duration": 2091,
        "start_time": "2023-02-23T17:02:45.443Z"
      },
      {
        "duration": 5,
        "start_time": "2023-02-23T17:02:47.536Z"
      },
      {
        "duration": 13,
        "start_time": "2023-02-23T17:02:47.543Z"
      },
      {
        "duration": 16,
        "start_time": "2023-02-23T17:02:47.558Z"
      },
      {
        "duration": 45,
        "start_time": "2023-02-23T17:02:47.578Z"
      },
      {
        "duration": 5,
        "start_time": "2023-02-23T17:02:47.624Z"
      },
      {
        "duration": 13,
        "start_time": "2023-02-23T17:02:47.631Z"
      },
      {
        "duration": 19,
        "start_time": "2023-02-23T17:02:47.646Z"
      },
      {
        "duration": 22,
        "start_time": "2023-02-23T17:02:47.668Z"
      },
      {
        "duration": 25001,
        "start_time": "2023-02-23T17:02:47.691Z"
      },
      {
        "duration": 41,
        "start_time": "2023-02-23T17:03:12.694Z"
      },
      {
        "duration": 592,
        "start_time": "2023-02-23T17:03:12.736Z"
      },
      {
        "duration": 11,
        "start_time": "2023-02-23T17:03:13.330Z"
      },
      {
        "duration": 288,
        "start_time": "2023-02-23T17:03:13.357Z"
      },
      {
        "duration": 14,
        "start_time": "2023-02-23T17:03:13.646Z"
      },
      {
        "duration": 34063,
        "start_time": "2023-02-23T17:03:13.661Z"
      },
      {
        "duration": 91,
        "start_time": "2023-02-23T17:03:47.726Z"
      },
      {
        "duration": 585,
        "start_time": "2023-02-23T17:03:47.830Z"
      },
      {
        "duration": 11,
        "start_time": "2023-02-23T17:03:48.416Z"
      },
      {
        "duration": 676,
        "start_time": "2023-02-23T17:03:48.429Z"
      },
      {
        "duration": 112,
        "start_time": "2023-02-23T17:03:49.107Z"
      },
      {
        "duration": 368,
        "start_time": "2023-02-23T17:11:31.724Z"
      },
      {
        "duration": 23,
        "start_time": "2023-02-23T17:18:46.459Z"
      },
      {
        "duration": 128,
        "start_time": "2023-02-23T17:23:43.532Z"
      },
      {
        "duration": 88,
        "start_time": "2023-02-23T17:23:56.387Z"
      },
      {
        "duration": 1220,
        "start_time": "2023-02-23T17:24:00.722Z"
      },
      {
        "duration": 129,
        "start_time": "2023-02-23T17:24:13.954Z"
      },
      {
        "duration": 2210,
        "start_time": "2023-02-23T17:39:28.254Z"
      },
      {
        "duration": 73,
        "start_time": "2023-02-23T17:39:30.466Z"
      },
      {
        "duration": 25,
        "start_time": "2023-02-23T17:39:30.541Z"
      },
      {
        "duration": 34,
        "start_time": "2023-02-23T17:39:30.568Z"
      },
      {
        "duration": 71,
        "start_time": "2023-02-23T17:39:30.603Z"
      },
      {
        "duration": 2421,
        "start_time": "2023-02-23T17:39:30.675Z"
      },
      {
        "duration": 5,
        "start_time": "2023-02-23T17:39:33.098Z"
      },
      {
        "duration": 12,
        "start_time": "2023-02-23T17:39:33.105Z"
      },
      {
        "duration": 60,
        "start_time": "2023-02-23T17:39:33.119Z"
      },
      {
        "duration": 12,
        "start_time": "2023-02-23T17:39:33.185Z"
      },
      {
        "duration": 4,
        "start_time": "2023-02-23T17:39:33.198Z"
      },
      {
        "duration": 54,
        "start_time": "2023-02-23T17:39:33.204Z"
      },
      {
        "duration": 14,
        "start_time": "2023-02-23T17:39:33.259Z"
      },
      {
        "duration": 25,
        "start_time": "2023-02-23T17:39:33.275Z"
      },
      {
        "duration": 27291,
        "start_time": "2023-02-23T17:39:33.302Z"
      },
      {
        "duration": 56,
        "start_time": "2023-02-23T17:40:00.594Z"
      },
      {
        "duration": 822,
        "start_time": "2023-02-23T17:40:00.652Z"
      },
      {
        "duration": 0,
        "start_time": "2023-02-23T17:40:01.476Z"
      },
      {
        "duration": 0,
        "start_time": "2023-02-23T17:40:01.477Z"
      },
      {
        "duration": 0,
        "start_time": "2023-02-23T17:40:01.478Z"
      },
      {
        "duration": 0,
        "start_time": "2023-02-23T17:40:01.480Z"
      },
      {
        "duration": 0,
        "start_time": "2023-02-23T17:40:01.481Z"
      },
      {
        "duration": 0,
        "start_time": "2023-02-23T17:40:01.482Z"
      },
      {
        "duration": 0,
        "start_time": "2023-02-23T17:40:01.484Z"
      },
      {
        "duration": 0,
        "start_time": "2023-02-23T17:40:01.485Z"
      },
      {
        "duration": 0,
        "start_time": "2023-02-23T17:40:01.486Z"
      },
      {
        "duration": 0,
        "start_time": "2023-02-23T17:40:01.487Z"
      },
      {
        "duration": 0,
        "start_time": "2023-02-23T17:40:01.488Z"
      },
      {
        "duration": 399,
        "start_time": "2023-02-23T17:40:43.488Z"
      },
      {
        "duration": 12,
        "start_time": "2023-02-23T17:40:46.059Z"
      },
      {
        "duration": 1524,
        "start_time": "2023-02-23T17:41:57.058Z"
      },
      {
        "duration": 48,
        "start_time": "2023-02-23T17:41:58.584Z"
      },
      {
        "duration": 29,
        "start_time": "2023-02-23T17:41:58.636Z"
      },
      {
        "duration": 8,
        "start_time": "2023-02-23T17:41:58.666Z"
      },
      {
        "duration": 11,
        "start_time": "2023-02-23T17:41:58.676Z"
      },
      {
        "duration": 1991,
        "start_time": "2023-02-23T17:41:58.688Z"
      },
      {
        "duration": 5,
        "start_time": "2023-02-23T17:42:00.680Z"
      },
      {
        "duration": 30,
        "start_time": "2023-02-23T17:42:00.687Z"
      },
      {
        "duration": 37,
        "start_time": "2023-02-23T17:42:00.728Z"
      },
      {
        "duration": 35,
        "start_time": "2023-02-23T17:42:00.767Z"
      },
      {
        "duration": 42,
        "start_time": "2023-02-23T17:42:00.804Z"
      },
      {
        "duration": 37,
        "start_time": "2023-02-23T17:42:00.848Z"
      },
      {
        "duration": 58,
        "start_time": "2023-02-23T17:42:00.887Z"
      },
      {
        "duration": 36,
        "start_time": "2023-02-23T17:42:00.947Z"
      },
      {
        "duration": 25462,
        "start_time": "2023-02-23T17:42:00.985Z"
      },
      {
        "duration": 169,
        "start_time": "2023-02-23T17:42:26.450Z"
      },
      {
        "duration": 431,
        "start_time": "2023-02-23T17:42:26.620Z"
      },
      {
        "duration": 12,
        "start_time": "2023-02-23T17:42:27.053Z"
      },
      {
        "duration": 32,
        "start_time": "2023-02-23T17:42:27.067Z"
      },
      {
        "duration": 278,
        "start_time": "2023-02-23T17:42:27.113Z"
      },
      {
        "duration": 13,
        "start_time": "2023-02-23T17:42:27.393Z"
      },
      {
        "duration": 269,
        "start_time": "2023-02-23T17:42:27.415Z"
      },
      {
        "duration": 34712,
        "start_time": "2023-02-23T17:42:27.685Z"
      },
      {
        "duration": 44,
        "start_time": "2023-02-23T17:43:02.399Z"
      },
      {
        "duration": 678,
        "start_time": "2023-02-23T17:43:02.445Z"
      },
      {
        "duration": 17,
        "start_time": "2023-02-23T17:43:03.127Z"
      },
      {
        "duration": 689,
        "start_time": "2023-02-23T17:43:03.147Z"
      },
      {
        "duration": 214,
        "start_time": "2023-02-23T17:43:03.839Z"
      },
      {
        "duration": 9,
        "start_time": "2023-02-23T17:43:04.055Z"
      },
      {
        "duration": 552,
        "start_time": "2023-02-23T17:56:08.447Z"
      },
      {
        "duration": 1227,
        "start_time": "2023-02-23T17:56:17.941Z"
      },
      {
        "duration": 1300,
        "start_time": "2023-02-23T17:56:38.764Z"
      },
      {
        "duration": 1275,
        "start_time": "2023-02-23T17:56:51.779Z"
      },
      {
        "duration": 1238,
        "start_time": "2023-02-23T17:57:55.568Z"
      },
      {
        "duration": 13,
        "start_time": "2023-02-23T17:58:14.991Z"
      },
      {
        "duration": 1114,
        "start_time": "2023-02-23T17:58:23.439Z"
      },
      {
        "duration": 82,
        "start_time": "2023-02-23T18:37:14.144Z"
      },
      {
        "duration": 23950,
        "start_time": "2023-02-23T18:38:04.230Z"
      },
      {
        "duration": 24050,
        "start_time": "2023-02-23T18:39:03.676Z"
      },
      {
        "duration": 24234,
        "start_time": "2023-02-23T18:40:52.335Z"
      },
      {
        "duration": 24346,
        "start_time": "2023-02-23T18:41:33.037Z"
      },
      {
        "duration": 66,
        "start_time": "2023-02-23T18:45:51.033Z"
      },
      {
        "duration": 4,
        "start_time": "2023-02-23T18:45:59.680Z"
      },
      {
        "duration": 360,
        "start_time": "2023-02-23T18:46:02.495Z"
      },
      {
        "duration": 380,
        "start_time": "2023-02-23T18:46:11.367Z"
      },
      {
        "duration": 361,
        "start_time": "2023-02-23T18:46:25.790Z"
      },
      {
        "duration": 376,
        "start_time": "2023-02-23T18:49:45.332Z"
      },
      {
        "duration": 10,
        "start_time": "2023-02-23T18:50:10.988Z"
      },
      {
        "duration": 24351,
        "start_time": "2023-02-23T18:51:03.643Z"
      },
      {
        "duration": 22,
        "start_time": "2023-02-23T18:52:07.007Z"
      },
      {
        "duration": 9,
        "start_time": "2023-02-23T18:52:46.845Z"
      },
      {
        "duration": 9,
        "start_time": "2023-02-23T18:53:11.243Z"
      },
      {
        "duration": 8,
        "start_time": "2023-02-23T18:55:12.176Z"
      },
      {
        "duration": 9,
        "start_time": "2023-02-23T18:55:45.869Z"
      },
      {
        "duration": 9,
        "start_time": "2023-02-23T18:56:42.387Z"
      },
      {
        "duration": 4,
        "start_time": "2023-02-23T18:56:50.457Z"
      },
      {
        "duration": 25,
        "start_time": "2023-02-23T18:56:53.427Z"
      },
      {
        "duration": 35,
        "start_time": "2023-02-23T18:57:03.099Z"
      },
      {
        "duration": 4,
        "start_time": "2023-02-23T19:01:07.526Z"
      },
      {
        "duration": 339,
        "start_time": "2023-02-23T19:01:09.390Z"
      },
      {
        "duration": 7,
        "start_time": "2023-02-23T19:01:12.951Z"
      },
      {
        "duration": 23494,
        "start_time": "2023-02-23T19:01:15.501Z"
      },
      {
        "duration": 4,
        "start_time": "2023-02-23T19:01:42.101Z"
      },
      {
        "duration": 9,
        "start_time": "2023-02-23T19:01:44.115Z"
      },
      {
        "duration": 26,
        "start_time": "2023-02-23T19:01:51.781Z"
      },
      {
        "duration": 21,
        "start_time": "2023-02-23T19:02:04.659Z"
      },
      {
        "duration": 365,
        "start_time": "2023-02-23T19:02:17.010Z"
      },
      {
        "duration": 23153,
        "start_time": "2023-02-23T19:02:19.074Z"
      },
      {
        "duration": 1776,
        "start_time": "2023-02-24T08:45:57.642Z"
      },
      {
        "duration": 212,
        "start_time": "2023-02-24T08:45:59.421Z"
      },
      {
        "duration": 36,
        "start_time": "2023-02-24T08:45:59.635Z"
      },
      {
        "duration": 8,
        "start_time": "2023-02-24T08:45:59.672Z"
      },
      {
        "duration": 11,
        "start_time": "2023-02-24T08:45:59.682Z"
      },
      {
        "duration": 2249,
        "start_time": "2023-02-24T08:45:59.694Z"
      },
      {
        "duration": 17,
        "start_time": "2023-02-24T08:46:01.944Z"
      },
      {
        "duration": 29,
        "start_time": "2023-02-24T08:46:01.970Z"
      },
      {
        "duration": 23,
        "start_time": "2023-02-24T08:46:02.001Z"
      },
      {
        "duration": 24,
        "start_time": "2023-02-24T08:46:02.025Z"
      },
      {
        "duration": 5,
        "start_time": "2023-02-24T08:46:02.051Z"
      },
      {
        "duration": 30,
        "start_time": "2023-02-24T08:46:02.058Z"
      },
      {
        "duration": 20,
        "start_time": "2023-02-24T08:46:02.089Z"
      },
      {
        "duration": 32,
        "start_time": "2023-02-24T08:46:02.112Z"
      },
      {
        "duration": 142,
        "start_time": "2023-02-24T08:46:02.146Z"
      },
      {
        "duration": 0,
        "start_time": "2023-02-24T08:46:02.289Z"
      },
      {
        "duration": 0,
        "start_time": "2023-02-24T08:46:02.291Z"
      },
      {
        "duration": 0,
        "start_time": "2023-02-24T08:46:02.292Z"
      },
      {
        "duration": 0,
        "start_time": "2023-02-24T08:46:02.293Z"
      },
      {
        "duration": 0,
        "start_time": "2023-02-24T08:46:02.295Z"
      },
      {
        "duration": 0,
        "start_time": "2023-02-24T08:46:02.296Z"
      },
      {
        "duration": 0,
        "start_time": "2023-02-24T08:46:02.297Z"
      },
      {
        "duration": 0,
        "start_time": "2023-02-24T08:46:02.299Z"
      },
      {
        "duration": 0,
        "start_time": "2023-02-24T08:46:02.300Z"
      },
      {
        "duration": 0,
        "start_time": "2023-02-24T08:46:02.301Z"
      },
      {
        "duration": 0,
        "start_time": "2023-02-24T08:46:02.303Z"
      },
      {
        "duration": 0,
        "start_time": "2023-02-24T08:46:02.304Z"
      },
      {
        "duration": 0,
        "start_time": "2023-02-24T08:46:02.306Z"
      },
      {
        "duration": 0,
        "start_time": "2023-02-24T08:46:02.307Z"
      },
      {
        "duration": 0,
        "start_time": "2023-02-24T08:46:02.308Z"
      },
      {
        "duration": 0,
        "start_time": "2023-02-24T08:46:02.309Z"
      },
      {
        "duration": 354,
        "start_time": "2023-02-24T08:46:38.334Z"
      },
      {
        "duration": 23804,
        "start_time": "2023-02-24T08:46:42.834Z"
      },
      {
        "duration": 24522,
        "start_time": "2023-02-24T08:47:18.646Z"
      },
      {
        "duration": 24221,
        "start_time": "2023-02-24T08:48:22.673Z"
      },
      {
        "duration": 2348,
        "start_time": "2023-02-24T08:48:57.032Z"
      },
      {
        "duration": 1942,
        "start_time": "2023-02-24T08:49:36.934Z"
      },
      {
        "duration": 4854,
        "start_time": "2023-02-24T08:50:03.913Z"
      },
      {
        "duration": 2552,
        "start_time": "2023-02-24T08:50:40.300Z"
      },
      {
        "duration": 3054,
        "start_time": "2023-02-24T08:50:59.205Z"
      },
      {
        "duration": 16,
        "start_time": "2023-02-24T08:52:59.245Z"
      },
      {
        "duration": 1392,
        "start_time": "2023-02-24T08:53:12.712Z"
      },
      {
        "duration": 56,
        "start_time": "2023-02-24T08:53:14.106Z"
      },
      {
        "duration": 21,
        "start_time": "2023-02-24T08:53:14.164Z"
      },
      {
        "duration": 8,
        "start_time": "2023-02-24T08:53:14.186Z"
      },
      {
        "duration": 16,
        "start_time": "2023-02-24T08:53:14.196Z"
      },
      {
        "duration": 2157,
        "start_time": "2023-02-24T08:53:14.213Z"
      },
      {
        "duration": 5,
        "start_time": "2023-02-24T08:53:16.372Z"
      },
      {
        "duration": 14,
        "start_time": "2023-02-24T08:53:16.379Z"
      },
      {
        "duration": 18,
        "start_time": "2023-02-24T08:53:16.395Z"
      },
      {
        "duration": 18,
        "start_time": "2023-02-24T08:53:16.415Z"
      },
      {
        "duration": 22,
        "start_time": "2023-02-24T08:53:16.435Z"
      },
      {
        "duration": 20,
        "start_time": "2023-02-24T08:53:16.459Z"
      },
      {
        "duration": 17,
        "start_time": "2023-02-24T08:53:16.481Z"
      },
      {
        "duration": 32,
        "start_time": "2023-02-24T08:53:16.503Z"
      },
      {
        "duration": 362,
        "start_time": "2023-02-24T08:53:16.538Z"
      },
      {
        "duration": 23234,
        "start_time": "2023-02-24T08:53:16.902Z"
      },
      {
        "duration": 3017,
        "start_time": "2023-02-24T08:53:40.138Z"
      },
      {
        "duration": 210,
        "start_time": "2023-02-24T08:53:43.157Z"
      },
      {
        "duration": 0,
        "start_time": "2023-02-24T08:53:43.369Z"
      },
      {
        "duration": 0,
        "start_time": "2023-02-24T08:53:43.371Z"
      },
      {
        "duration": 0,
        "start_time": "2023-02-24T08:53:43.372Z"
      },
      {
        "duration": 0,
        "start_time": "2023-02-24T08:53:43.374Z"
      },
      {
        "duration": 0,
        "start_time": "2023-02-24T08:53:43.375Z"
      },
      {
        "duration": 0,
        "start_time": "2023-02-24T08:53:43.377Z"
      },
      {
        "duration": 0,
        "start_time": "2023-02-24T08:53:43.378Z"
      },
      {
        "duration": 0,
        "start_time": "2023-02-24T08:53:43.382Z"
      },
      {
        "duration": 0,
        "start_time": "2023-02-24T08:53:43.383Z"
      },
      {
        "duration": 0,
        "start_time": "2023-02-24T08:53:43.385Z"
      },
      {
        "duration": 0,
        "start_time": "2023-02-24T08:53:43.386Z"
      },
      {
        "duration": 0,
        "start_time": "2023-02-24T08:53:43.388Z"
      },
      {
        "duration": 0,
        "start_time": "2023-02-24T08:53:43.389Z"
      },
      {
        "duration": 1384,
        "start_time": "2023-02-24T09:00:41.235Z"
      },
      {
        "duration": 42,
        "start_time": "2023-02-24T09:00:42.621Z"
      },
      {
        "duration": 21,
        "start_time": "2023-02-24T09:00:42.665Z"
      },
      {
        "duration": 7,
        "start_time": "2023-02-24T09:00:42.687Z"
      },
      {
        "duration": 15,
        "start_time": "2023-02-24T09:00:42.697Z"
      },
      {
        "duration": 2039,
        "start_time": "2023-02-24T09:00:42.713Z"
      },
      {
        "duration": 5,
        "start_time": "2023-02-24T09:00:44.754Z"
      },
      {
        "duration": 7,
        "start_time": "2023-02-24T09:00:44.761Z"
      },
      {
        "duration": 12,
        "start_time": "2023-02-24T09:00:44.769Z"
      },
      {
        "duration": 10,
        "start_time": "2023-02-24T09:00:44.783Z"
      },
      {
        "duration": 4,
        "start_time": "2023-02-24T09:00:44.795Z"
      },
      {
        "duration": 13,
        "start_time": "2023-02-24T09:00:44.801Z"
      },
      {
        "duration": 43,
        "start_time": "2023-02-24T09:00:44.816Z"
      },
      {
        "duration": 27,
        "start_time": "2023-02-24T09:00:44.862Z"
      },
      {
        "duration": 135,
        "start_time": "2023-02-24T09:00:44.890Z"
      },
      {
        "duration": 0,
        "start_time": "2023-02-24T09:00:45.027Z"
      },
      {
        "duration": 0,
        "start_time": "2023-02-24T09:00:45.028Z"
      },
      {
        "duration": 0,
        "start_time": "2023-02-24T09:00:45.029Z"
      },
      {
        "duration": 0,
        "start_time": "2023-02-24T09:00:45.031Z"
      },
      {
        "duration": 0,
        "start_time": "2023-02-24T09:00:45.031Z"
      },
      {
        "duration": 0,
        "start_time": "2023-02-24T09:00:45.033Z"
      },
      {
        "duration": 0,
        "start_time": "2023-02-24T09:00:45.048Z"
      },
      {
        "duration": 0,
        "start_time": "2023-02-24T09:00:45.049Z"
      },
      {
        "duration": 0,
        "start_time": "2023-02-24T09:00:45.050Z"
      },
      {
        "duration": 0,
        "start_time": "2023-02-24T09:00:45.051Z"
      },
      {
        "duration": 0,
        "start_time": "2023-02-24T09:00:45.052Z"
      },
      {
        "duration": 0,
        "start_time": "2023-02-24T09:00:45.053Z"
      },
      {
        "duration": 0,
        "start_time": "2023-02-24T09:00:45.054Z"
      },
      {
        "duration": 0,
        "start_time": "2023-02-24T09:00:45.055Z"
      },
      {
        "duration": 0,
        "start_time": "2023-02-24T09:00:45.056Z"
      },
      {
        "duration": 0,
        "start_time": "2023-02-24T09:00:45.057Z"
      },
      {
        "duration": 332,
        "start_time": "2023-02-24T09:01:12.868Z"
      },
      {
        "duration": 315,
        "start_time": "2023-02-24T09:01:17.443Z"
      },
      {
        "duration": 22822,
        "start_time": "2023-02-24T09:01:47.474Z"
      },
      {
        "duration": 2049,
        "start_time": "2023-02-24T09:02:19.801Z"
      },
      {
        "duration": 2234,
        "start_time": "2023-02-24T09:02:54.814Z"
      },
      {
        "duration": 11,
        "start_time": "2023-02-24T09:03:06.606Z"
      },
      {
        "duration": 1997,
        "start_time": "2023-02-24T09:03:13.054Z"
      },
      {
        "duration": 10,
        "start_time": "2023-02-24T09:03:27.749Z"
      },
      {
        "duration": 4,
        "start_time": "2023-02-24T09:20:44.120Z"
      },
      {
        "duration": 37,
        "start_time": "2023-02-24T09:20:46.857Z"
      },
      {
        "duration": 4,
        "start_time": "2023-02-24T09:21:30.575Z"
      },
      {
        "duration": 25,
        "start_time": "2023-02-24T09:21:32.399Z"
      },
      {
        "duration": 3,
        "start_time": "2023-02-24T09:23:35.866Z"
      },
      {
        "duration": 463,
        "start_time": "2023-02-24T09:23:37.544Z"
      },
      {
        "duration": 4,
        "start_time": "2023-02-24T09:24:42.728Z"
      },
      {
        "duration": 49,
        "start_time": "2023-02-24T09:24:44.100Z"
      },
      {
        "duration": 10,
        "start_time": "2023-02-24T09:25:20.668Z"
      },
      {
        "duration": 9,
        "start_time": "2023-02-24T09:35:17.224Z"
      },
      {
        "duration": 267,
        "start_time": "2023-02-24T09:35:59.883Z"
      },
      {
        "duration": 1233,
        "start_time": "2023-02-24T09:37:05.225Z"
      },
      {
        "duration": 1368,
        "start_time": "2023-02-24T09:39:48.903Z"
      },
      {
        "duration": 42,
        "start_time": "2023-02-24T09:39:50.273Z"
      },
      {
        "duration": 23,
        "start_time": "2023-02-24T09:39:50.317Z"
      },
      {
        "duration": 7,
        "start_time": "2023-02-24T09:39:50.343Z"
      },
      {
        "duration": 15,
        "start_time": "2023-02-24T09:39:50.352Z"
      },
      {
        "duration": 2097,
        "start_time": "2023-02-24T09:39:50.369Z"
      },
      {
        "duration": 7,
        "start_time": "2023-02-24T09:39:52.467Z"
      },
      {
        "duration": 6,
        "start_time": "2023-02-24T09:39:52.476Z"
      },
      {
        "duration": 16,
        "start_time": "2023-02-24T09:39:52.484Z"
      },
      {
        "duration": 12,
        "start_time": "2023-02-24T09:39:52.503Z"
      },
      {
        "duration": 35,
        "start_time": "2023-02-24T09:39:52.517Z"
      },
      {
        "duration": 11,
        "start_time": "2023-02-24T09:39:52.554Z"
      },
      {
        "duration": 15,
        "start_time": "2023-02-24T09:39:52.567Z"
      },
      {
        "duration": 25,
        "start_time": "2023-02-24T09:39:52.585Z"
      },
      {
        "duration": 394,
        "start_time": "2023-02-24T09:39:52.612Z"
      },
      {
        "duration": 22793,
        "start_time": "2023-02-24T09:39:53.008Z"
      },
      {
        "duration": 1548,
        "start_time": "2023-02-24T09:40:15.804Z"
      },
      {
        "duration": 203,
        "start_time": "2023-02-24T09:40:17.354Z"
      },
      {
        "duration": 0,
        "start_time": "2023-02-24T09:40:17.559Z"
      },
      {
        "duration": 0,
        "start_time": "2023-02-24T09:40:17.560Z"
      },
      {
        "duration": 0,
        "start_time": "2023-02-24T09:40:17.561Z"
      },
      {
        "duration": 0,
        "start_time": "2023-02-24T09:40:17.562Z"
      },
      {
        "duration": 0,
        "start_time": "2023-02-24T09:40:17.564Z"
      },
      {
        "duration": 0,
        "start_time": "2023-02-24T09:40:17.565Z"
      },
      {
        "duration": 0,
        "start_time": "2023-02-24T09:40:17.566Z"
      },
      {
        "duration": 0,
        "start_time": "2023-02-24T09:40:17.567Z"
      },
      {
        "duration": 0,
        "start_time": "2023-02-24T09:40:17.568Z"
      },
      {
        "duration": 0,
        "start_time": "2023-02-24T09:40:17.570Z"
      },
      {
        "duration": 0,
        "start_time": "2023-02-24T09:40:17.572Z"
      },
      {
        "duration": 0,
        "start_time": "2023-02-24T09:40:17.572Z"
      },
      {
        "duration": 0,
        "start_time": "2023-02-24T09:40:17.574Z"
      },
      {
        "duration": 344,
        "start_time": "2023-02-24T09:40:50.500Z"
      },
      {
        "duration": 22692,
        "start_time": "2023-02-24T09:40:52.257Z"
      },
      {
        "duration": 2007,
        "start_time": "2023-02-24T09:41:35.452Z"
      },
      {
        "duration": 11,
        "start_time": "2023-02-24T09:41:45.105Z"
      },
      {
        "duration": 6,
        "start_time": "2023-02-24T09:41:54.218Z"
      },
      {
        "duration": 35,
        "start_time": "2023-02-24T09:41:56.225Z"
      },
      {
        "duration": 5,
        "start_time": "2023-02-24T09:41:58.050Z"
      },
      {
        "duration": 469,
        "start_time": "2023-02-24T09:42:03.992Z"
      },
      {
        "duration": 4,
        "start_time": "2023-02-24T09:42:07.088Z"
      },
      {
        "duration": 95,
        "start_time": "2023-02-24T09:42:09.865Z"
      },
      {
        "duration": 10,
        "start_time": "2023-02-24T09:42:13.145Z"
      },
      {
        "duration": 14,
        "start_time": "2023-02-24T09:42:24.585Z"
      },
      {
        "duration": 41,
        "start_time": "2023-02-24T09:45:02.585Z"
      },
      {
        "duration": 702,
        "start_time": "2023-02-24T09:45:05.801Z"
      },
      {
        "duration": 42,
        "start_time": "2023-02-24T09:45:08.128Z"
      },
      {
        "duration": 11,
        "start_time": "2023-02-24T09:45:10.504Z"
      },
      {
        "duration": 18,
        "start_time": "2023-02-24T09:49:20.516Z"
      },
      {
        "duration": 14,
        "start_time": "2023-02-24T09:49:28.731Z"
      },
      {
        "duration": 17,
        "start_time": "2023-02-24T09:49:59.066Z"
      },
      {
        "duration": 1347,
        "start_time": "2023-02-24T09:50:43.188Z"
      },
      {
        "duration": 42,
        "start_time": "2023-02-24T09:50:44.538Z"
      },
      {
        "duration": 22,
        "start_time": "2023-02-24T09:50:44.581Z"
      },
      {
        "duration": 7,
        "start_time": "2023-02-24T09:50:44.605Z"
      },
      {
        "duration": 11,
        "start_time": "2023-02-24T09:50:44.614Z"
      },
      {
        "duration": 2183,
        "start_time": "2023-02-24T09:50:44.627Z"
      },
      {
        "duration": 7,
        "start_time": "2023-02-24T09:50:46.812Z"
      },
      {
        "duration": 6,
        "start_time": "2023-02-24T09:50:46.821Z"
      },
      {
        "duration": 27,
        "start_time": "2023-02-24T09:50:46.830Z"
      },
      {
        "duration": 10,
        "start_time": "2023-02-24T09:50:46.859Z"
      },
      {
        "duration": 4,
        "start_time": "2023-02-24T09:50:46.871Z"
      },
      {
        "duration": 10,
        "start_time": "2023-02-24T09:50:46.876Z"
      },
      {
        "duration": 14,
        "start_time": "2023-02-24T09:50:46.888Z"
      },
      {
        "duration": 59,
        "start_time": "2023-02-24T09:50:46.905Z"
      },
      {
        "duration": 353,
        "start_time": "2023-02-24T09:50:46.966Z"
      },
      {
        "duration": 22477,
        "start_time": "2023-02-24T09:50:47.321Z"
      },
      {
        "duration": 2452,
        "start_time": "2023-02-24T09:51:09.799Z"
      },
      {
        "duration": 100,
        "start_time": "2023-02-24T09:51:12.253Z"
      },
      {
        "duration": 7,
        "start_time": "2023-02-24T09:51:12.356Z"
      },
      {
        "duration": 31,
        "start_time": "2023-02-24T09:51:12.365Z"
      },
      {
        "duration": 4,
        "start_time": "2023-02-24T09:51:12.398Z"
      },
      {
        "duration": 480,
        "start_time": "2023-02-24T09:51:12.404Z"
      },
      {
        "duration": 5,
        "start_time": "2023-02-24T09:51:12.885Z"
      },
      {
        "duration": 57,
        "start_time": "2023-02-24T09:51:12.892Z"
      },
      {
        "duration": 98,
        "start_time": "2023-02-24T09:51:12.952Z"
      },
      {
        "duration": 22,
        "start_time": "2023-02-24T09:51:13.052Z"
      },
      {
        "duration": 25,
        "start_time": "2023-02-24T09:51:13.076Z"
      },
      {
        "duration": 637,
        "start_time": "2023-02-24T09:51:13.103Z"
      },
      {
        "duration": 42,
        "start_time": "2023-02-24T09:51:13.743Z"
      },
      {
        "duration": 17,
        "start_time": "2023-02-24T09:51:13.848Z"
      },
      {
        "duration": 221,
        "start_time": "2023-02-24T09:51:13.866Z"
      },
      {
        "duration": 0,
        "start_time": "2023-02-24T09:51:14.088Z"
      },
      {
        "duration": 0,
        "start_time": "2023-02-24T09:51:14.090Z"
      },
      {
        "duration": 0,
        "start_time": "2023-02-24T09:51:14.091Z"
      },
      {
        "duration": 0,
        "start_time": "2023-02-24T09:51:14.092Z"
      },
      {
        "duration": 0,
        "start_time": "2023-02-24T09:51:14.093Z"
      },
      {
        "duration": 0,
        "start_time": "2023-02-24T09:51:14.094Z"
      },
      {
        "duration": 12,
        "start_time": "2023-02-24T09:55:45.329Z"
      },
      {
        "duration": 15,
        "start_time": "2023-02-24T10:02:06.125Z"
      },
      {
        "duration": 232,
        "start_time": "2023-02-24T10:02:07.940Z"
      },
      {
        "duration": 19,
        "start_time": "2023-02-24T10:02:09.268Z"
      },
      {
        "duration": 10,
        "start_time": "2023-02-24T10:02:10.653Z"
      },
      {
        "duration": 13,
        "start_time": "2023-02-24T10:06:50.247Z"
      },
      {
        "duration": 32,
        "start_time": "2023-02-24T10:06:53.739Z"
      },
      {
        "duration": 617,
        "start_time": "2023-02-24T10:06:55.302Z"
      },
      {
        "duration": 36,
        "start_time": "2023-02-24T10:06:56.429Z"
      },
      {
        "duration": 10,
        "start_time": "2023-02-24T10:06:59.065Z"
      },
      {
        "duration": 15,
        "start_time": "2023-02-24T10:09:09.704Z"
      },
      {
        "duration": 200,
        "start_time": "2023-02-24T10:09:11.072Z"
      },
      {
        "duration": 17,
        "start_time": "2023-02-24T10:09:12.214Z"
      },
      {
        "duration": 10,
        "start_time": "2023-02-24T10:09:13.663Z"
      },
      {
        "duration": 14,
        "start_time": "2023-02-24T10:09:35.743Z"
      },
      {
        "duration": 198,
        "start_time": "2023-02-24T10:09:36.885Z"
      },
      {
        "duration": 15,
        "start_time": "2023-02-24T10:09:37.894Z"
      },
      {
        "duration": 10,
        "start_time": "2023-02-24T10:09:39.269Z"
      },
      {
        "duration": 4,
        "start_time": "2023-02-24T10:13:24.909Z"
      },
      {
        "duration": 10,
        "start_time": "2023-02-24T10:13:34.227Z"
      },
      {
        "duration": 1455,
        "start_time": "2023-02-24T10:17:08.608Z"
      },
      {
        "duration": 41,
        "start_time": "2023-02-24T10:17:10.065Z"
      },
      {
        "duration": 22,
        "start_time": "2023-02-24T10:17:10.108Z"
      },
      {
        "duration": 7,
        "start_time": "2023-02-24T10:17:10.132Z"
      },
      {
        "duration": 14,
        "start_time": "2023-02-24T10:17:10.141Z"
      },
      {
        "duration": 2112,
        "start_time": "2023-02-24T10:17:10.156Z"
      },
      {
        "duration": 6,
        "start_time": "2023-02-24T10:17:12.270Z"
      },
      {
        "duration": 14,
        "start_time": "2023-02-24T10:17:12.278Z"
      },
      {
        "duration": 10,
        "start_time": "2023-02-24T10:17:12.294Z"
      },
      {
        "duration": 10,
        "start_time": "2023-02-24T10:17:12.307Z"
      },
      {
        "duration": 3,
        "start_time": "2023-02-24T10:17:12.319Z"
      },
      {
        "duration": 32,
        "start_time": "2023-02-24T10:17:12.323Z"
      },
      {
        "duration": 15,
        "start_time": "2023-02-24T10:17:12.356Z"
      },
      {
        "duration": 24,
        "start_time": "2023-02-24T10:17:12.372Z"
      },
      {
        "duration": 355,
        "start_time": "2023-02-24T10:17:12.400Z"
      },
      {
        "duration": 22374,
        "start_time": "2023-02-24T10:17:12.757Z"
      },
      {
        "duration": 2015,
        "start_time": "2023-02-24T10:17:35.133Z"
      },
      {
        "duration": 102,
        "start_time": "2023-02-24T10:17:37.151Z"
      },
      {
        "duration": 8,
        "start_time": "2023-02-24T10:17:37.254Z"
      },
      {
        "duration": 30,
        "start_time": "2023-02-24T10:17:37.264Z"
      },
      {
        "duration": 3,
        "start_time": "2023-02-24T10:17:37.298Z"
      },
      {
        "duration": 484,
        "start_time": "2023-02-24T10:17:37.303Z"
      },
      {
        "duration": 3,
        "start_time": "2023-02-24T10:17:37.789Z"
      },
      {
        "duration": 57,
        "start_time": "2023-02-24T10:17:37.794Z"
      },
      {
        "duration": 103,
        "start_time": "2023-02-24T10:17:37.853Z"
      },
      {
        "duration": 22,
        "start_time": "2023-02-24T10:17:37.958Z"
      },
      {
        "duration": 32,
        "start_time": "2023-02-24T10:17:37.981Z"
      },
      {
        "duration": 635,
        "start_time": "2023-02-24T10:17:38.017Z"
      },
      {
        "duration": 96,
        "start_time": "2023-02-24T10:17:38.653Z"
      },
      {
        "duration": 102,
        "start_time": "2023-02-24T10:17:38.752Z"
      },
      {
        "duration": 28,
        "start_time": "2023-02-24T10:17:38.856Z"
      },
      {
        "duration": 678,
        "start_time": "2023-02-24T10:17:38.885Z"
      },
      {
        "duration": 89,
        "start_time": "2023-02-24T10:17:39.565Z"
      },
      {
        "duration": 101,
        "start_time": "2023-02-24T10:17:39.657Z"
      },
      {
        "duration": 14,
        "start_time": "2023-02-24T10:17:39.760Z"
      },
      {
        "duration": 14,
        "start_time": "2023-02-24T10:17:39.776Z"
      },
      {
        "duration": 225,
        "start_time": "2023-02-24T10:17:39.792Z"
      },
      {
        "duration": 30,
        "start_time": "2023-02-24T10:17:40.019Z"
      },
      {
        "duration": 106,
        "start_time": "2023-02-24T10:17:40.051Z"
      },
      {
        "duration": 90,
        "start_time": "2023-02-24T10:17:40.159Z"
      },
      {
        "duration": 202,
        "start_time": "2023-02-24T10:17:40.250Z"
      },
      {
        "duration": 99,
        "start_time": "2023-02-24T10:17:40.454Z"
      },
      {
        "duration": 101,
        "start_time": "2023-02-24T10:17:40.556Z"
      },
      {
        "duration": 15,
        "start_time": "2023-02-24T10:17:40.658Z"
      },
      {
        "duration": 135,
        "start_time": "2023-02-24T10:17:40.675Z"
      },
      {
        "duration": 0,
        "start_time": "2023-02-24T10:17:40.811Z"
      },
      {
        "duration": 27,
        "start_time": "2023-02-24T10:52:10.834Z"
      },
      {
        "duration": 722,
        "start_time": "2023-02-24T10:54:25.957Z"
      },
      {
        "duration": 27,
        "start_time": "2023-02-24T10:59:41.483Z"
      },
      {
        "duration": 31,
        "start_time": "2023-02-24T10:59:59.514Z"
      },
      {
        "duration": 12,
        "start_time": "2023-02-24T11:00:09.032Z"
      },
      {
        "duration": 11,
        "start_time": "2023-02-24T11:00:40.287Z"
      },
      {
        "duration": 11,
        "start_time": "2023-02-24T11:00:54.525Z"
      },
      {
        "duration": 7,
        "start_time": "2023-02-24T11:01:39.913Z"
      },
      {
        "duration": 16,
        "start_time": "2023-02-24T11:06:55.958Z"
      },
      {
        "duration": 6,
        "start_time": "2023-02-24T11:17:57.222Z"
      },
      {
        "duration": 57,
        "start_time": "2023-02-24T11:18:00.215Z"
      },
      {
        "duration": 16,
        "start_time": "2023-02-24T11:19:08.544Z"
      },
      {
        "duration": 19,
        "start_time": "2023-02-24T11:22:15.347Z"
      },
      {
        "duration": 20,
        "start_time": "2023-02-24T11:22:35.462Z"
      },
      {
        "duration": 581,
        "start_time": "2023-02-24T11:24:43.769Z"
      },
      {
        "duration": 565,
        "start_time": "2023-02-24T11:25:39.564Z"
      },
      {
        "duration": 137,
        "start_time": "2023-02-24T11:26:57.993Z"
      },
      {
        "duration": 31,
        "start_time": "2023-02-24T11:27:10.250Z"
      },
      {
        "duration": 21,
        "start_time": "2023-02-24T11:28:32.459Z"
      },
      {
        "duration": 15,
        "start_time": "2023-02-24T11:29:02.675Z"
      },
      {
        "duration": 102,
        "start_time": "2023-02-24T11:29:12.274Z"
      },
      {
        "duration": 260,
        "start_time": "2023-02-24T11:29:21.178Z"
      },
      {
        "duration": 331,
        "start_time": "2023-02-24T11:57:16.524Z"
      },
      {
        "duration": 904,
        "start_time": "2023-02-24T11:57:30.652Z"
      },
      {
        "duration": 1035,
        "start_time": "2023-02-24T11:59:30.319Z"
      },
      {
        "duration": 1894,
        "start_time": "2023-02-24T12:00:42.892Z"
      },
      {
        "duration": 1357,
        "start_time": "2023-02-24T12:00:53.899Z"
      },
      {
        "duration": 46,
        "start_time": "2023-02-24T12:00:55.258Z"
      },
      {
        "duration": 21,
        "start_time": "2023-02-24T12:00:55.306Z"
      },
      {
        "duration": 9,
        "start_time": "2023-02-24T12:00:55.329Z"
      },
      {
        "duration": 20,
        "start_time": "2023-02-24T12:00:55.340Z"
      },
      {
        "duration": 2128,
        "start_time": "2023-02-24T12:00:55.362Z"
      },
      {
        "duration": 6,
        "start_time": "2023-02-24T12:00:57.491Z"
      },
      {
        "duration": 7,
        "start_time": "2023-02-24T12:00:57.498Z"
      },
      {
        "duration": 12,
        "start_time": "2023-02-24T12:00:57.506Z"
      },
      {
        "duration": 33,
        "start_time": "2023-02-24T12:00:57.519Z"
      },
      {
        "duration": 4,
        "start_time": "2023-02-24T12:00:57.554Z"
      },
      {
        "duration": 14,
        "start_time": "2023-02-24T12:00:57.559Z"
      },
      {
        "duration": 14,
        "start_time": "2023-02-24T12:00:57.575Z"
      },
      {
        "duration": 22,
        "start_time": "2023-02-24T12:00:57.592Z"
      },
      {
        "duration": 367,
        "start_time": "2023-02-24T12:00:57.616Z"
      },
      {
        "duration": 22681,
        "start_time": "2023-02-24T12:00:57.985Z"
      },
      {
        "duration": 3082,
        "start_time": "2023-02-24T12:01:20.668Z"
      },
      {
        "duration": 98,
        "start_time": "2023-02-24T12:01:23.752Z"
      },
      {
        "duration": 5,
        "start_time": "2023-02-24T12:01:23.852Z"
      },
      {
        "duration": 25,
        "start_time": "2023-02-24T12:01:23.859Z"
      },
      {
        "duration": 5,
        "start_time": "2023-02-24T12:01:23.886Z"
      },
      {
        "duration": 476,
        "start_time": "2023-02-24T12:01:23.893Z"
      },
      {
        "duration": 5,
        "start_time": "2023-02-24T12:01:24.370Z"
      },
      {
        "duration": 24,
        "start_time": "2023-02-24T12:01:24.376Z"
      },
      {
        "duration": 101,
        "start_time": "2023-02-24T12:01:24.452Z"
      },
      {
        "duration": 13,
        "start_time": "2023-02-24T12:01:24.554Z"
      },
      {
        "duration": 25,
        "start_time": "2023-02-24T12:01:24.569Z"
      },
      {
        "duration": 624,
        "start_time": "2023-02-24T12:01:24.596Z"
      },
      {
        "duration": 127,
        "start_time": "2023-02-24T12:01:25.222Z"
      },
      {
        "duration": 98,
        "start_time": "2023-02-24T12:01:25.352Z"
      },
      {
        "duration": 32,
        "start_time": "2023-02-24T12:01:25.452Z"
      },
      {
        "duration": 617,
        "start_time": "2023-02-24T12:01:25.486Z"
      },
      {
        "duration": 44,
        "start_time": "2023-02-24T12:01:26.105Z"
      },
      {
        "duration": 104,
        "start_time": "2023-02-24T12:01:26.152Z"
      },
      {
        "duration": 11,
        "start_time": "2023-02-24T12:01:26.258Z"
      },
      {
        "duration": 83,
        "start_time": "2023-02-24T12:01:26.271Z"
      },
      {
        "duration": 274,
        "start_time": "2023-02-24T12:01:26.356Z"
      },
      {
        "duration": 29,
        "start_time": "2023-02-24T12:01:26.633Z"
      },
      {
        "duration": 191,
        "start_time": "2023-02-24T12:01:26.664Z"
      },
      {
        "duration": 18,
        "start_time": "2023-02-24T12:01:26.856Z"
      },
      {
        "duration": 213,
        "start_time": "2023-02-24T12:01:26.878Z"
      },
      {
        "duration": 56,
        "start_time": "2023-02-24T12:01:27.093Z"
      },
      {
        "duration": 106,
        "start_time": "2023-02-24T12:01:27.151Z"
      },
      {
        "duration": 123,
        "start_time": "2023-02-24T12:01:27.259Z"
      },
      {
        "duration": 0,
        "start_time": "2023-02-24T12:01:27.384Z"
      },
      {
        "duration": 637,
        "start_time": "2023-02-24T13:01:56.570Z"
      },
      {
        "duration": 12,
        "start_time": "2023-02-24T13:02:37.294Z"
      },
      {
        "duration": 9,
        "start_time": "2023-02-24T13:03:16.944Z"
      },
      {
        "duration": 645,
        "start_time": "2023-02-24T13:03:25.825Z"
      },
      {
        "duration": 131,
        "start_time": "2023-02-24T13:03:30.773Z"
      },
      {
        "duration": 15,
        "start_time": "2023-02-24T13:05:07.080Z"
      },
      {
        "duration": 118,
        "start_time": "2023-02-24T13:05:48.709Z"
      },
      {
        "duration": 47,
        "start_time": "2023-02-24T13:07:37.073Z"
      },
      {
        "duration": 198,
        "start_time": "2023-02-24T13:08:02.183Z"
      },
      {
        "duration": 175,
        "start_time": "2023-02-24T13:08:17.230Z"
      },
      {
        "duration": 1518,
        "start_time": "2023-02-24T13:19:16.278Z"
      },
      {
        "duration": 43,
        "start_time": "2023-02-24T13:19:17.798Z"
      },
      {
        "duration": 22,
        "start_time": "2023-02-24T13:19:17.843Z"
      },
      {
        "duration": 7,
        "start_time": "2023-02-24T13:19:17.867Z"
      },
      {
        "duration": 15,
        "start_time": "2023-02-24T13:19:17.876Z"
      },
      {
        "duration": 2119,
        "start_time": "2023-02-24T13:19:17.893Z"
      },
      {
        "duration": 5,
        "start_time": "2023-02-24T13:19:20.014Z"
      },
      {
        "duration": 15,
        "start_time": "2023-02-24T13:19:20.021Z"
      },
      {
        "duration": 20,
        "start_time": "2023-02-24T13:19:20.038Z"
      },
      {
        "duration": 23,
        "start_time": "2023-02-24T13:19:20.060Z"
      },
      {
        "duration": 17,
        "start_time": "2023-02-24T13:19:20.084Z"
      },
      {
        "duration": 21,
        "start_time": "2023-02-24T13:19:20.103Z"
      },
      {
        "duration": 14,
        "start_time": "2023-02-24T13:19:20.126Z"
      },
      {
        "duration": 31,
        "start_time": "2023-02-24T13:19:20.142Z"
      },
      {
        "duration": 361,
        "start_time": "2023-02-24T13:19:20.175Z"
      },
      {
        "duration": 22861,
        "start_time": "2023-02-24T13:19:20.539Z"
      },
      {
        "duration": 2096,
        "start_time": "2023-02-24T13:19:43.402Z"
      },
      {
        "duration": 99,
        "start_time": "2023-02-24T13:19:45.550Z"
      },
      {
        "duration": 372,
        "start_time": "2023-02-24T13:19:45.653Z"
      },
      {
        "duration": 4,
        "start_time": "2023-02-24T13:19:46.027Z"
      },
      {
        "duration": 37,
        "start_time": "2023-02-24T13:19:46.033Z"
      },
      {
        "duration": 4,
        "start_time": "2023-02-24T13:19:46.072Z"
      },
      {
        "duration": 476,
        "start_time": "2023-02-24T13:19:46.078Z"
      },
      {
        "duration": 6,
        "start_time": "2023-02-24T13:19:46.556Z"
      },
      {
        "duration": 43,
        "start_time": "2023-02-24T13:19:46.564Z"
      },
      {
        "duration": 55,
        "start_time": "2023-02-24T13:19:46.610Z"
      },
      {
        "duration": 27,
        "start_time": "2023-02-24T13:19:46.754Z"
      },
      {
        "duration": 30,
        "start_time": "2023-02-24T13:19:46.786Z"
      },
      {
        "duration": 657,
        "start_time": "2023-02-24T13:19:46.818Z"
      },
      {
        "duration": 29,
        "start_time": "2023-02-24T13:19:47.477Z"
      },
      {
        "duration": 108,
        "start_time": "2023-02-24T13:19:47.549Z"
      },
      {
        "duration": 30,
        "start_time": "2023-02-24T13:19:47.659Z"
      },
      {
        "duration": 681,
        "start_time": "2023-02-24T13:19:47.691Z"
      },
      {
        "duration": 76,
        "start_time": "2023-02-24T13:19:48.374Z"
      },
      {
        "duration": 97,
        "start_time": "2023-02-24T13:19:48.453Z"
      },
      {
        "duration": 13,
        "start_time": "2023-02-24T13:19:48.551Z"
      },
      {
        "duration": 14,
        "start_time": "2023-02-24T13:19:48.566Z"
      },
      {
        "duration": 228,
        "start_time": "2023-02-24T13:19:48.582Z"
      },
      {
        "duration": 137,
        "start_time": "2023-02-24T13:19:48.812Z"
      },
      {
        "duration": 12,
        "start_time": "2023-02-24T13:19:48.951Z"
      },
      {
        "duration": 18,
        "start_time": "2023-02-24T13:19:48.965Z"
      },
      {
        "duration": 252,
        "start_time": "2023-02-24T13:19:48.985Z"
      },
      {
        "duration": 113,
        "start_time": "2023-02-24T13:19:49.239Z"
      },
      {
        "duration": 99,
        "start_time": "2023-02-24T13:19:49.354Z"
      },
      {
        "duration": 661,
        "start_time": "2023-02-24T13:19:49.456Z"
      },
      {
        "duration": 191,
        "start_time": "2023-02-24T13:19:50.119Z"
      },
      {
        "duration": 451,
        "start_time": "2023-02-24T13:21:26.488Z"
      },
      {
        "duration": 528,
        "start_time": "2023-02-24T13:23:02.426Z"
      },
      {
        "duration": 410,
        "start_time": "2023-02-24T13:24:40.522Z"
      },
      {
        "duration": 1423,
        "start_time": "2023-02-24T13:24:47.231Z"
      },
      {
        "duration": 40,
        "start_time": "2023-02-24T13:24:48.656Z"
      },
      {
        "duration": 21,
        "start_time": "2023-02-24T13:24:48.698Z"
      },
      {
        "duration": 8,
        "start_time": "2023-02-24T13:24:48.721Z"
      },
      {
        "duration": 25,
        "start_time": "2023-02-24T13:24:48.731Z"
      },
      {
        "duration": 2092,
        "start_time": "2023-02-24T13:24:48.758Z"
      },
      {
        "duration": 5,
        "start_time": "2023-02-24T13:24:50.853Z"
      },
      {
        "duration": 13,
        "start_time": "2023-02-24T13:24:50.860Z"
      },
      {
        "duration": 14,
        "start_time": "2023-02-24T13:24:50.875Z"
      },
      {
        "duration": 15,
        "start_time": "2023-02-24T13:24:50.890Z"
      },
      {
        "duration": 4,
        "start_time": "2023-02-24T13:24:50.907Z"
      },
      {
        "duration": 40,
        "start_time": "2023-02-24T13:24:50.913Z"
      },
      {
        "duration": 19,
        "start_time": "2023-02-24T13:24:50.955Z"
      },
      {
        "duration": 23,
        "start_time": "2023-02-24T13:24:50.977Z"
      },
      {
        "duration": 352,
        "start_time": "2023-02-24T13:24:51.002Z"
      },
      {
        "duration": 22981,
        "start_time": "2023-02-24T13:24:51.355Z"
      },
      {
        "duration": 1918,
        "start_time": "2023-02-24T13:25:14.338Z"
      },
      {
        "duration": 98,
        "start_time": "2023-02-24T13:25:16.258Z"
      },
      {
        "duration": 396,
        "start_time": "2023-02-24T13:25:16.358Z"
      },
      {
        "duration": 5,
        "start_time": "2023-02-24T13:25:16.757Z"
      },
      {
        "duration": 28,
        "start_time": "2023-02-24T13:25:16.764Z"
      },
      {
        "duration": 4,
        "start_time": "2023-02-24T13:25:16.794Z"
      },
      {
        "duration": 489,
        "start_time": "2023-02-24T13:25:16.799Z"
      },
      {
        "duration": 4,
        "start_time": "2023-02-24T13:25:17.290Z"
      },
      {
        "duration": 53,
        "start_time": "2023-02-24T13:25:17.296Z"
      },
      {
        "duration": 98,
        "start_time": "2023-02-24T13:25:17.354Z"
      },
      {
        "duration": 384,
        "start_time": "2023-02-24T13:25:17.453Z"
      },
      {
        "duration": 19,
        "start_time": "2023-02-24T13:25:17.838Z"
      },
      {
        "duration": 28,
        "start_time": "2023-02-24T13:25:17.858Z"
      },
      {
        "duration": 642,
        "start_time": "2023-02-24T13:25:17.887Z"
      },
      {
        "duration": 36,
        "start_time": "2023-02-24T13:25:18.531Z"
      },
      {
        "duration": 89,
        "start_time": "2023-02-24T13:25:18.570Z"
      },
      {
        "duration": 122,
        "start_time": "2023-02-24T13:25:18.661Z"
      },
      {
        "duration": 664,
        "start_time": "2023-02-24T13:25:18.785Z"
      },
      {
        "duration": 34,
        "start_time": "2023-02-24T13:25:19.451Z"
      },
      {
        "duration": 103,
        "start_time": "2023-02-24T13:25:19.549Z"
      },
      {
        "duration": 13,
        "start_time": "2023-02-24T13:25:19.653Z"
      },
      {
        "duration": 13,
        "start_time": "2023-02-24T13:25:19.668Z"
      },
      {
        "duration": 218,
        "start_time": "2023-02-24T13:25:19.683Z"
      },
      {
        "duration": 51,
        "start_time": "2023-02-24T13:25:19.902Z"
      },
      {
        "duration": 96,
        "start_time": "2023-02-24T13:25:19.958Z"
      },
      {
        "duration": 24,
        "start_time": "2023-02-24T13:25:20.056Z"
      },
      {
        "duration": 267,
        "start_time": "2023-02-24T13:25:20.081Z"
      },
      {
        "duration": 107,
        "start_time": "2023-02-24T13:25:20.350Z"
      },
      {
        "duration": 10,
        "start_time": "2023-02-24T13:25:20.548Z"
      },
      {
        "duration": 625,
        "start_time": "2023-02-24T13:25:20.560Z"
      },
      {
        "duration": 188,
        "start_time": "2023-02-24T13:25:21.187Z"
      },
      {
        "duration": 1537,
        "start_time": "2023-02-24T14:21:43.029Z"
      },
      {
        "duration": 40,
        "start_time": "2023-02-24T14:21:44.568Z"
      },
      {
        "duration": 22,
        "start_time": "2023-02-24T14:21:44.610Z"
      },
      {
        "duration": 7,
        "start_time": "2023-02-24T14:21:44.634Z"
      },
      {
        "duration": 12,
        "start_time": "2023-02-24T14:21:44.642Z"
      },
      {
        "duration": 2143,
        "start_time": "2023-02-24T14:21:44.655Z"
      },
      {
        "duration": 5,
        "start_time": "2023-02-24T14:21:46.800Z"
      },
      {
        "duration": 12,
        "start_time": "2023-02-24T14:21:46.807Z"
      },
      {
        "duration": 27,
        "start_time": "2023-02-24T14:21:46.821Z"
      },
      {
        "duration": 11,
        "start_time": "2023-02-24T14:21:46.852Z"
      },
      {
        "duration": 8,
        "start_time": "2023-02-24T14:21:46.865Z"
      },
      {
        "duration": 10,
        "start_time": "2023-02-24T14:21:46.875Z"
      },
      {
        "duration": 26,
        "start_time": "2023-02-24T14:21:46.887Z"
      },
      {
        "duration": 34,
        "start_time": "2023-02-24T14:21:46.915Z"
      },
      {
        "duration": 358,
        "start_time": "2023-02-24T14:21:46.951Z"
      },
      {
        "duration": 22783,
        "start_time": "2023-02-24T14:21:47.311Z"
      },
      {
        "duration": 0,
        "start_time": "2023-02-24T14:22:10.096Z"
      },
      {
        "duration": 0,
        "start_time": "2023-02-24T14:22:10.097Z"
      },
      {
        "duration": 0,
        "start_time": "2023-02-24T14:22:10.098Z"
      },
      {
        "duration": 0,
        "start_time": "2023-02-24T14:22:10.100Z"
      },
      {
        "duration": 0,
        "start_time": "2023-02-24T14:22:10.101Z"
      },
      {
        "duration": 0,
        "start_time": "2023-02-24T14:22:10.102Z"
      },
      {
        "duration": 0,
        "start_time": "2023-02-24T14:22:10.104Z"
      },
      {
        "duration": 0,
        "start_time": "2023-02-24T14:22:10.105Z"
      },
      {
        "duration": 0,
        "start_time": "2023-02-24T14:22:10.107Z"
      },
      {
        "duration": 0,
        "start_time": "2023-02-24T14:22:10.108Z"
      },
      {
        "duration": 0,
        "start_time": "2023-02-24T14:22:10.109Z"
      },
      {
        "duration": 0,
        "start_time": "2023-02-24T14:22:10.111Z"
      },
      {
        "duration": 0,
        "start_time": "2023-02-24T14:22:10.112Z"
      },
      {
        "duration": 0,
        "start_time": "2023-02-24T14:22:10.113Z"
      },
      {
        "duration": 0,
        "start_time": "2023-02-24T14:22:10.115Z"
      },
      {
        "duration": 0,
        "start_time": "2023-02-24T14:22:10.149Z"
      },
      {
        "duration": 0,
        "start_time": "2023-02-24T14:22:10.150Z"
      },
      {
        "duration": 0,
        "start_time": "2023-02-24T14:22:10.152Z"
      },
      {
        "duration": 0,
        "start_time": "2023-02-24T14:22:10.153Z"
      },
      {
        "duration": 0,
        "start_time": "2023-02-24T14:22:10.154Z"
      },
      {
        "duration": 0,
        "start_time": "2023-02-24T14:22:10.155Z"
      },
      {
        "duration": 0,
        "start_time": "2023-02-24T14:22:10.156Z"
      },
      {
        "duration": 0,
        "start_time": "2023-02-24T14:22:10.158Z"
      },
      {
        "duration": 0,
        "start_time": "2023-02-24T14:22:10.159Z"
      },
      {
        "duration": 0,
        "start_time": "2023-02-24T14:22:10.160Z"
      },
      {
        "duration": 0,
        "start_time": "2023-02-24T14:22:10.161Z"
      },
      {
        "duration": 0,
        "start_time": "2023-02-24T14:22:10.162Z"
      },
      {
        "duration": 0,
        "start_time": "2023-02-24T14:22:10.163Z"
      },
      {
        "duration": 0,
        "start_time": "2023-02-24T14:22:10.164Z"
      },
      {
        "duration": 0,
        "start_time": "2023-02-24T14:22:10.165Z"
      },
      {
        "duration": 0,
        "start_time": "2023-02-24T14:22:10.166Z"
      },
      {
        "duration": 0,
        "start_time": "2023-02-24T14:22:10.167Z"
      },
      {
        "duration": 1437,
        "start_time": "2023-02-24T14:23:48.545Z"
      },
      {
        "duration": 42,
        "start_time": "2023-02-24T14:23:49.985Z"
      },
      {
        "duration": 23,
        "start_time": "2023-02-24T14:23:50.029Z"
      },
      {
        "duration": 7,
        "start_time": "2023-02-24T14:23:50.054Z"
      },
      {
        "duration": 13,
        "start_time": "2023-02-24T14:23:50.063Z"
      },
      {
        "duration": 2168,
        "start_time": "2023-02-24T14:23:50.078Z"
      },
      {
        "duration": 7,
        "start_time": "2023-02-24T14:23:52.249Z"
      },
      {
        "duration": 8,
        "start_time": "2023-02-24T14:23:52.257Z"
      },
      {
        "duration": 11,
        "start_time": "2023-02-24T14:23:52.267Z"
      },
      {
        "duration": 11,
        "start_time": "2023-02-24T14:23:52.281Z"
      },
      {
        "duration": 5,
        "start_time": "2023-02-24T14:23:52.294Z"
      },
      {
        "duration": 8,
        "start_time": "2023-02-24T14:23:52.301Z"
      },
      {
        "duration": 51,
        "start_time": "2023-02-24T14:23:52.311Z"
      },
      {
        "duration": 29,
        "start_time": "2023-02-24T14:23:52.364Z"
      },
      {
        "duration": 363,
        "start_time": "2023-02-24T14:23:52.395Z"
      },
      {
        "duration": 23639,
        "start_time": "2023-02-24T14:23:52.760Z"
      },
      {
        "duration": 1858,
        "start_time": "2023-02-24T14:24:16.401Z"
      },
      {
        "duration": 188,
        "start_time": "2023-02-24T14:24:18.263Z"
      },
      {
        "duration": 239,
        "start_time": "2023-02-24T14:24:18.453Z"
      },
      {
        "duration": 128,
        "start_time": "2023-02-24T14:24:18.694Z"
      },
      {
        "duration": 0,
        "start_time": "2023-02-24T14:24:18.825Z"
      },
      {
        "duration": 0,
        "start_time": "2023-02-24T14:24:18.826Z"
      },
      {
        "duration": 0,
        "start_time": "2023-02-24T14:24:18.828Z"
      },
      {
        "duration": 0,
        "start_time": "2023-02-24T14:24:18.829Z"
      },
      {
        "duration": 0,
        "start_time": "2023-02-24T14:24:18.830Z"
      },
      {
        "duration": 0,
        "start_time": "2023-02-24T14:24:18.831Z"
      },
      {
        "duration": 0,
        "start_time": "2023-02-24T14:24:18.832Z"
      },
      {
        "duration": 0,
        "start_time": "2023-02-24T14:24:18.848Z"
      },
      {
        "duration": 0,
        "start_time": "2023-02-24T14:24:18.849Z"
      },
      {
        "duration": 0,
        "start_time": "2023-02-24T14:24:18.850Z"
      },
      {
        "duration": 0,
        "start_time": "2023-02-24T14:24:18.852Z"
      },
      {
        "duration": 1,
        "start_time": "2023-02-24T14:24:18.852Z"
      },
      {
        "duration": 0,
        "start_time": "2023-02-24T14:24:18.854Z"
      },
      {
        "duration": 0,
        "start_time": "2023-02-24T14:24:18.855Z"
      },
      {
        "duration": 0,
        "start_time": "2023-02-24T14:24:18.856Z"
      },
      {
        "duration": 0,
        "start_time": "2023-02-24T14:24:18.858Z"
      },
      {
        "duration": 0,
        "start_time": "2023-02-24T14:24:18.858Z"
      },
      {
        "duration": 0,
        "start_time": "2023-02-24T14:24:18.860Z"
      },
      {
        "duration": 0,
        "start_time": "2023-02-24T14:24:18.861Z"
      },
      {
        "duration": 0,
        "start_time": "2023-02-24T14:24:18.862Z"
      },
      {
        "duration": 0,
        "start_time": "2023-02-24T14:24:18.863Z"
      },
      {
        "duration": 0,
        "start_time": "2023-02-24T14:24:18.864Z"
      },
      {
        "duration": 0,
        "start_time": "2023-02-24T14:24:18.865Z"
      },
      {
        "duration": 0,
        "start_time": "2023-02-24T14:24:18.866Z"
      },
      {
        "duration": 0,
        "start_time": "2023-02-24T14:24:18.867Z"
      },
      {
        "duration": 0,
        "start_time": "2023-02-24T14:24:18.868Z"
      },
      {
        "duration": 0,
        "start_time": "2023-02-24T14:24:18.869Z"
      },
      {
        "duration": 0,
        "start_time": "2023-02-24T14:24:18.871Z"
      },
      {
        "duration": 1450,
        "start_time": "2023-02-24T14:28:27.197Z"
      },
      {
        "duration": 42,
        "start_time": "2023-02-24T14:28:28.649Z"
      },
      {
        "duration": 23,
        "start_time": "2023-02-24T14:28:28.692Z"
      },
      {
        "duration": 8,
        "start_time": "2023-02-24T14:28:28.717Z"
      },
      {
        "duration": 23,
        "start_time": "2023-02-24T14:28:28.727Z"
      },
      {
        "duration": 2076,
        "start_time": "2023-02-24T14:28:28.751Z"
      },
      {
        "duration": 5,
        "start_time": "2023-02-24T14:28:30.829Z"
      },
      {
        "duration": 38,
        "start_time": "2023-02-24T14:28:30.836Z"
      },
      {
        "duration": 55,
        "start_time": "2023-02-24T14:28:30.876Z"
      },
      {
        "duration": 39,
        "start_time": "2023-02-24T14:28:30.934Z"
      },
      {
        "duration": 26,
        "start_time": "2023-02-24T14:28:30.975Z"
      },
      {
        "duration": 39,
        "start_time": "2023-02-24T14:28:31.004Z"
      },
      {
        "duration": 48,
        "start_time": "2023-02-24T14:28:31.045Z"
      },
      {
        "duration": 52,
        "start_time": "2023-02-24T14:28:31.095Z"
      },
      {
        "duration": 389,
        "start_time": "2023-02-24T14:28:31.149Z"
      },
      {
        "duration": 22656,
        "start_time": "2023-02-24T14:28:31.539Z"
      },
      {
        "duration": 1960,
        "start_time": "2023-02-24T14:28:54.197Z"
      },
      {
        "duration": 101,
        "start_time": "2023-02-24T14:28:56.159Z"
      },
      {
        "duration": 362,
        "start_time": "2023-02-24T14:28:56.262Z"
      },
      {
        "duration": 38,
        "start_time": "2023-02-24T14:28:56.626Z"
      },
      {
        "duration": 410,
        "start_time": "2023-02-24T14:28:56.666Z"
      },
      {
        "duration": 80,
        "start_time": "2023-02-24T14:28:57.078Z"
      },
      {
        "duration": 189,
        "start_time": "2023-02-24T14:28:57.160Z"
      },
      {
        "duration": 217,
        "start_time": "2023-02-24T14:28:57.351Z"
      },
      {
        "duration": 13,
        "start_time": "2023-02-24T14:28:57.570Z"
      },
      {
        "duration": 63,
        "start_time": "2023-02-24T14:28:57.585Z"
      },
      {
        "duration": 570,
        "start_time": "2023-02-24T14:28:57.650Z"
      },
      {
        "duration": 46,
        "start_time": "2023-02-24T14:28:58.223Z"
      },
      {
        "duration": 100,
        "start_time": "2023-02-24T14:28:58.350Z"
      },
      {
        "duration": 218,
        "start_time": "2023-02-24T14:28:58.452Z"
      },
      {
        "duration": 47,
        "start_time": "2023-02-24T14:28:58.672Z"
      },
      {
        "duration": 561,
        "start_time": "2023-02-24T14:28:58.721Z"
      },
      {
        "duration": 71,
        "start_time": "2023-02-24T14:28:59.283Z"
      },
      {
        "duration": 99,
        "start_time": "2023-02-24T14:28:59.357Z"
      },
      {
        "duration": 415,
        "start_time": "2023-02-24T14:28:59.459Z"
      },
      {
        "duration": 12,
        "start_time": "2023-02-24T14:28:59.876Z"
      },
      {
        "duration": 20,
        "start_time": "2023-02-24T14:28:59.889Z"
      },
      {
        "duration": 219,
        "start_time": "2023-02-24T14:28:59.911Z"
      },
      {
        "duration": 118,
        "start_time": "2023-02-24T14:29:00.132Z"
      },
      {
        "duration": 103,
        "start_time": "2023-02-24T14:29:00.253Z"
      },
      {
        "duration": 212,
        "start_time": "2023-02-24T14:29:00.359Z"
      },
      {
        "duration": 25,
        "start_time": "2023-02-24T14:29:00.573Z"
      },
      {
        "duration": 253,
        "start_time": "2023-02-24T14:29:00.599Z"
      },
      {
        "duration": 198,
        "start_time": "2023-02-24T14:29:00.854Z"
      },
      {
        "duration": 110,
        "start_time": "2023-02-24T14:29:01.055Z"
      },
      {
        "duration": 253,
        "start_time": "2023-02-24T14:29:01.166Z"
      },
      {
        "duration": 76,
        "start_time": "2023-02-24T14:29:01.421Z"
      },
      {
        "duration": 119,
        "start_time": "2023-02-24T14:29:01.499Z"
      },
      {
        "duration": 181,
        "start_time": "2023-02-24T14:29:42.173Z"
      },
      {
        "duration": 71,
        "start_time": "2023-02-24T14:31:08.994Z"
      },
      {
        "duration": 181,
        "start_time": "2023-02-24T14:31:11.625Z"
      },
      {
        "duration": 190,
        "start_time": "2023-02-24T14:33:10.556Z"
      },
      {
        "duration": 68,
        "start_time": "2023-02-24T14:35:12.871Z"
      },
      {
        "duration": 71,
        "start_time": "2023-02-24T14:35:21.645Z"
      },
      {
        "duration": 1654,
        "start_time": "2023-02-24T14:36:52.209Z"
      },
      {
        "duration": 44,
        "start_time": "2023-02-24T14:36:53.865Z"
      },
      {
        "duration": 26,
        "start_time": "2023-02-24T14:36:53.911Z"
      },
      {
        "duration": 85,
        "start_time": "2023-02-24T14:36:53.939Z"
      },
      {
        "duration": 14,
        "start_time": "2023-02-24T14:36:54.026Z"
      },
      {
        "duration": 2072,
        "start_time": "2023-02-24T14:36:54.041Z"
      },
      {
        "duration": 5,
        "start_time": "2023-02-24T14:36:56.114Z"
      },
      {
        "duration": 6,
        "start_time": "2023-02-24T14:36:56.121Z"
      },
      {
        "duration": 24,
        "start_time": "2023-02-24T14:36:56.128Z"
      },
      {
        "duration": 11,
        "start_time": "2023-02-24T14:36:56.155Z"
      },
      {
        "duration": 3,
        "start_time": "2023-02-24T14:36:56.168Z"
      },
      {
        "duration": 8,
        "start_time": "2023-02-24T14:36:56.173Z"
      },
      {
        "duration": 12,
        "start_time": "2023-02-24T14:36:56.183Z"
      },
      {
        "duration": 20,
        "start_time": "2023-02-24T14:36:56.197Z"
      },
      {
        "duration": 382,
        "start_time": "2023-02-24T14:36:56.248Z"
      },
      {
        "duration": 22312,
        "start_time": "2023-02-24T14:36:56.632Z"
      },
      {
        "duration": 1906,
        "start_time": "2023-02-24T14:37:18.949Z"
      },
      {
        "duration": 10,
        "start_time": "2023-02-24T14:37:20.949Z"
      },
      {
        "duration": 288,
        "start_time": "2023-02-24T14:37:20.961Z"
      },
      {
        "duration": 28,
        "start_time": "2023-02-24T14:37:21.251Z"
      },
      {
        "duration": 420,
        "start_time": "2023-02-24T14:37:21.280Z"
      },
      {
        "duration": 56,
        "start_time": "2023-02-24T14:37:21.702Z"
      },
      {
        "duration": 100,
        "start_time": "2023-02-24T14:37:21.850Z"
      },
      {
        "duration": 213,
        "start_time": "2023-02-24T14:37:21.952Z"
      },
      {
        "duration": 13,
        "start_time": "2023-02-24T14:37:22.167Z"
      },
      {
        "duration": 45,
        "start_time": "2023-02-24T14:37:22.182Z"
      },
      {
        "duration": 554,
        "start_time": "2023-02-24T14:37:22.229Z"
      },
      {
        "duration": 70,
        "start_time": "2023-02-24T14:37:22.786Z"
      },
      {
        "duration": 102,
        "start_time": "2023-02-24T14:37:22.948Z"
      },
      {
        "duration": 209,
        "start_time": "2023-02-24T14:37:23.052Z"
      },
      {
        "duration": 50,
        "start_time": "2023-02-24T14:37:23.262Z"
      },
      {
        "duration": 575,
        "start_time": "2023-02-24T14:37:23.313Z"
      },
      {
        "duration": 63,
        "start_time": "2023-02-24T14:37:23.889Z"
      },
      {
        "duration": 195,
        "start_time": "2023-02-24T14:37:23.955Z"
      },
      {
        "duration": 331,
        "start_time": "2023-02-24T14:37:24.151Z"
      },
      {
        "duration": 12,
        "start_time": "2023-02-24T14:37:24.483Z"
      },
      {
        "duration": 22,
        "start_time": "2023-02-24T14:37:24.496Z"
      },
      {
        "duration": 206,
        "start_time": "2023-02-24T14:37:24.519Z"
      },
      {
        "duration": 29,
        "start_time": "2023-02-24T14:37:24.727Z"
      },
      {
        "duration": 192,
        "start_time": "2023-02-24T14:37:24.759Z"
      },
      {
        "duration": 228,
        "start_time": "2023-02-24T14:37:24.953Z"
      },
      {
        "duration": 22,
        "start_time": "2023-02-24T14:37:25.183Z"
      },
      {
        "duration": 219,
        "start_time": "2023-02-24T14:37:25.206Z"
      },
      {
        "duration": 24,
        "start_time": "2023-02-24T14:37:25.427Z"
      },
      {
        "duration": 197,
        "start_time": "2023-02-24T14:37:25.453Z"
      },
      {
        "duration": 229,
        "start_time": "2023-02-24T14:37:25.652Z"
      },
      {
        "duration": 75,
        "start_time": "2023-02-24T14:37:25.883Z"
      },
      {
        "duration": 127,
        "start_time": "2023-02-24T14:43:36.923Z"
      },
      {
        "duration": 118,
        "start_time": "2023-02-24T14:43:51.476Z"
      },
      {
        "duration": 116,
        "start_time": "2023-02-24T14:44:15.977Z"
      },
      {
        "duration": 1563,
        "start_time": "2023-02-24T16:43:12.338Z"
      },
      {
        "duration": 79,
        "start_time": "2023-02-24T16:43:13.903Z"
      },
      {
        "duration": 22,
        "start_time": "2023-02-24T16:43:13.983Z"
      },
      {
        "duration": 25,
        "start_time": "2023-02-24T16:43:14.007Z"
      },
      {
        "duration": 11,
        "start_time": "2023-02-24T16:43:14.034Z"
      },
      {
        "duration": 3053,
        "start_time": "2023-02-24T16:43:14.047Z"
      },
      {
        "duration": 6,
        "start_time": "2023-02-24T16:43:17.102Z"
      },
      {
        "duration": 8,
        "start_time": "2023-02-24T16:43:17.110Z"
      },
      {
        "duration": 33,
        "start_time": "2023-02-24T16:43:17.120Z"
      },
      {
        "duration": 15,
        "start_time": "2023-02-24T16:43:17.156Z"
      },
      {
        "duration": 3,
        "start_time": "2023-02-24T16:43:17.173Z"
      },
      {
        "duration": 9,
        "start_time": "2023-02-24T16:43:17.178Z"
      },
      {
        "duration": 13,
        "start_time": "2023-02-24T16:43:17.189Z"
      },
      {
        "duration": 52,
        "start_time": "2023-02-24T16:43:17.205Z"
      },
      {
        "duration": 182,
        "start_time": "2023-02-24T16:43:17.259Z"
      },
      {
        "duration": 382,
        "start_time": "2023-02-24T16:43:17.444Z"
      },
      {
        "duration": 3563,
        "start_time": "2023-02-24T16:43:17.828Z"
      },
      {
        "duration": 0,
        "start_time": "2023-02-24T16:43:21.394Z"
      },
      {
        "duration": 0,
        "start_time": "2023-02-24T16:43:21.395Z"
      },
      {
        "duration": 0,
        "start_time": "2023-02-24T16:43:21.396Z"
      },
      {
        "duration": 0,
        "start_time": "2023-02-24T16:43:21.397Z"
      },
      {
        "duration": 0,
        "start_time": "2023-02-24T16:43:21.398Z"
      },
      {
        "duration": 0,
        "start_time": "2023-02-24T16:43:21.399Z"
      },
      {
        "duration": 0,
        "start_time": "2023-02-24T16:43:21.400Z"
      },
      {
        "duration": 0,
        "start_time": "2023-02-24T16:43:21.401Z"
      },
      {
        "duration": 0,
        "start_time": "2023-02-24T16:43:21.402Z"
      },
      {
        "duration": 0,
        "start_time": "2023-02-24T16:43:21.403Z"
      },
      {
        "duration": 0,
        "start_time": "2023-02-24T16:43:21.404Z"
      },
      {
        "duration": 0,
        "start_time": "2023-02-24T16:43:21.405Z"
      },
      {
        "duration": 0,
        "start_time": "2023-02-24T16:43:21.406Z"
      },
      {
        "duration": 0,
        "start_time": "2023-02-24T16:43:21.407Z"
      },
      {
        "duration": 0,
        "start_time": "2023-02-24T16:43:21.408Z"
      },
      {
        "duration": 0,
        "start_time": "2023-02-24T16:43:21.409Z"
      },
      {
        "duration": 0,
        "start_time": "2023-02-24T16:43:21.411Z"
      },
      {
        "duration": 0,
        "start_time": "2023-02-24T16:43:21.412Z"
      },
      {
        "duration": 0,
        "start_time": "2023-02-24T16:43:21.413Z"
      },
      {
        "duration": 0,
        "start_time": "2023-02-24T16:43:21.414Z"
      },
      {
        "duration": 0,
        "start_time": "2023-02-24T16:43:21.454Z"
      },
      {
        "duration": 0,
        "start_time": "2023-02-24T16:43:21.455Z"
      },
      {
        "duration": 0,
        "start_time": "2023-02-24T16:43:21.456Z"
      },
      {
        "duration": 0,
        "start_time": "2023-02-24T16:43:21.457Z"
      },
      {
        "duration": 0,
        "start_time": "2023-02-24T16:43:21.458Z"
      },
      {
        "duration": 0,
        "start_time": "2023-02-24T16:43:21.459Z"
      },
      {
        "duration": 0,
        "start_time": "2023-02-24T16:43:21.461Z"
      },
      {
        "duration": 0,
        "start_time": "2023-02-24T16:43:21.462Z"
      },
      {
        "duration": 0,
        "start_time": "2023-02-24T16:43:21.463Z"
      },
      {
        "duration": 1,
        "start_time": "2023-02-24T16:43:21.464Z"
      },
      {
        "duration": 0,
        "start_time": "2023-02-24T16:43:21.466Z"
      },
      {
        "duration": 136,
        "start_time": "2023-02-24T16:44:26.530Z"
      },
      {
        "duration": 1410,
        "start_time": "2023-02-24T16:45:33.474Z"
      },
      {
        "duration": 36,
        "start_time": "2023-02-24T16:45:34.886Z"
      },
      {
        "duration": 22,
        "start_time": "2023-02-24T16:45:34.923Z"
      },
      {
        "duration": 14,
        "start_time": "2023-02-24T16:45:34.946Z"
      },
      {
        "duration": 17,
        "start_time": "2023-02-24T16:45:34.964Z"
      },
      {
        "duration": 2145,
        "start_time": "2023-02-24T16:45:34.982Z"
      },
      {
        "duration": 5,
        "start_time": "2023-02-24T16:45:37.129Z"
      },
      {
        "duration": 32,
        "start_time": "2023-02-24T16:45:37.135Z"
      },
      {
        "duration": 19,
        "start_time": "2023-02-24T16:45:37.169Z"
      },
      {
        "duration": 13,
        "start_time": "2023-02-24T16:45:37.191Z"
      },
      {
        "duration": 4,
        "start_time": "2023-02-24T16:45:37.206Z"
      },
      {
        "duration": 130,
        "start_time": "2023-02-24T16:45:37.211Z"
      },
      {
        "duration": 24,
        "start_time": "2023-02-24T16:45:37.343Z"
      },
      {
        "duration": 21,
        "start_time": "2023-02-24T16:45:37.369Z"
      },
      {
        "duration": 387,
        "start_time": "2023-02-24T16:45:37.392Z"
      },
      {
        "duration": 22513,
        "start_time": "2023-02-24T16:45:37.781Z"
      },
      {
        "duration": 3467,
        "start_time": "2023-02-24T16:46:00.295Z"
      },
      {
        "duration": 197,
        "start_time": "2023-02-24T16:46:03.768Z"
      },
      {
        "duration": 193,
        "start_time": "2023-02-24T16:46:03.967Z"
      },
      {
        "duration": 27,
        "start_time": "2023-02-24T16:46:04.166Z"
      },
      {
        "duration": 409,
        "start_time": "2023-02-24T16:46:04.194Z"
      },
      {
        "duration": 57,
        "start_time": "2023-02-24T16:46:04.605Z"
      },
      {
        "duration": 91,
        "start_time": "2023-02-24T16:46:04.663Z"
      },
      {
        "duration": 308,
        "start_time": "2023-02-24T16:46:04.756Z"
      },
      {
        "duration": 17,
        "start_time": "2023-02-24T16:46:05.065Z"
      },
      {
        "duration": 46,
        "start_time": "2023-02-24T16:46:05.086Z"
      },
      {
        "duration": 683,
        "start_time": "2023-02-24T16:46:05.134Z"
      },
      {
        "duration": 42,
        "start_time": "2023-02-24T16:46:05.820Z"
      },
      {
        "duration": 97,
        "start_time": "2023-02-24T16:46:05.874Z"
      },
      {
        "duration": 291,
        "start_time": "2023-02-24T16:46:05.973Z"
      },
      {
        "duration": 50,
        "start_time": "2023-02-24T16:46:06.266Z"
      },
      {
        "duration": 566,
        "start_time": "2023-02-24T16:46:06.318Z"
      },
      {
        "duration": 76,
        "start_time": "2023-02-24T16:46:06.886Z"
      },
      {
        "duration": 99,
        "start_time": "2023-02-24T16:46:06.964Z"
      },
      {
        "duration": 323,
        "start_time": "2023-02-24T16:46:07.065Z"
      },
      {
        "duration": 15,
        "start_time": "2023-02-24T16:46:07.390Z"
      },
      {
        "duration": 24,
        "start_time": "2023-02-24T16:46:07.406Z"
      },
      {
        "duration": 255,
        "start_time": "2023-02-24T16:46:07.432Z"
      },
      {
        "duration": 89,
        "start_time": "2023-02-24T16:46:07.690Z"
      },
      {
        "duration": 113,
        "start_time": "2023-02-24T16:46:07.856Z"
      },
      {
        "duration": 213,
        "start_time": "2023-02-24T16:46:07.971Z"
      },
      {
        "duration": 21,
        "start_time": "2023-02-24T16:46:08.185Z"
      },
      {
        "duration": 214,
        "start_time": "2023-02-24T16:46:08.208Z"
      },
      {
        "duration": 45,
        "start_time": "2023-02-24T16:46:08.424Z"
      },
      {
        "duration": 108,
        "start_time": "2023-02-24T16:46:08.471Z"
      },
      {
        "duration": 296,
        "start_time": "2023-02-24T16:46:08.581Z"
      },
      {
        "duration": 91,
        "start_time": "2023-02-24T16:46:08.878Z"
      },
      {
        "duration": 1526,
        "start_time": "2023-02-24T16:58:27.077Z"
      },
      {
        "duration": 35,
        "start_time": "2023-02-24T16:58:28.605Z"
      },
      {
        "duration": 37,
        "start_time": "2023-02-24T16:58:28.642Z"
      },
      {
        "duration": 8,
        "start_time": "2023-02-24T16:58:28.681Z"
      },
      {
        "duration": 13,
        "start_time": "2023-02-24T16:58:28.691Z"
      },
      {
        "duration": 2125,
        "start_time": "2023-02-24T16:58:28.706Z"
      },
      {
        "duration": 4,
        "start_time": "2023-02-24T16:58:30.833Z"
      },
      {
        "duration": 39,
        "start_time": "2023-02-24T16:58:30.838Z"
      },
      {
        "duration": 46,
        "start_time": "2023-02-24T16:58:30.878Z"
      },
      {
        "duration": 29,
        "start_time": "2023-02-24T16:58:30.926Z"
      },
      {
        "duration": 19,
        "start_time": "2023-02-24T16:58:30.957Z"
      },
      {
        "duration": 124,
        "start_time": "2023-02-24T16:58:30.978Z"
      },
      {
        "duration": 13,
        "start_time": "2023-02-24T16:58:31.104Z"
      },
      {
        "duration": 41,
        "start_time": "2023-02-24T16:58:31.120Z"
      },
      {
        "duration": 362,
        "start_time": "2023-02-24T16:58:31.164Z"
      },
      {
        "duration": 24075,
        "start_time": "2023-02-24T16:58:31.529Z"
      },
      {
        "duration": 1964,
        "start_time": "2023-02-24T16:58:55.606Z"
      },
      {
        "duration": 183,
        "start_time": "2023-02-24T16:58:57.572Z"
      },
      {
        "duration": 243,
        "start_time": "2023-02-24T16:58:57.757Z"
      },
      {
        "duration": 37,
        "start_time": "2023-02-24T16:58:58.001Z"
      },
      {
        "duration": 523,
        "start_time": "2023-02-24T16:58:58.054Z"
      },
      {
        "duration": 1676,
        "start_time": "2023-02-24T16:58:58.579Z"
      },
      {
        "duration": 103,
        "start_time": "2023-02-24T16:59:00.257Z"
      },
      {
        "duration": 228,
        "start_time": "2023-02-24T16:59:00.370Z"
      },
      {
        "duration": 15,
        "start_time": "2023-02-24T16:59:00.600Z"
      },
      {
        "duration": 79,
        "start_time": "2023-02-24T16:59:00.617Z"
      },
      {
        "duration": 914,
        "start_time": "2023-02-24T16:59:00.698Z"
      },
      {
        "duration": 950,
        "start_time": "2023-02-24T16:59:01.613Z"
      },
      {
        "duration": 87,
        "start_time": "2023-02-24T16:59:02.567Z"
      },
      {
        "duration": 239,
        "start_time": "2023-02-24T16:59:02.656Z"
      },
      {
        "duration": 56,
        "start_time": "2023-02-24T16:59:02.897Z"
      },
      {
        "duration": 681,
        "start_time": "2023-02-24T16:59:02.955Z"
      },
      {
        "duration": 742,
        "start_time": "2023-02-24T16:59:03.638Z"
      },
      {
        "duration": 74,
        "start_time": "2023-02-24T16:59:04.382Z"
      },
      {
        "duration": 331,
        "start_time": "2023-02-24T16:59:04.459Z"
      },
      {
        "duration": 12,
        "start_time": "2023-02-24T16:59:04.791Z"
      },
      {
        "duration": 19,
        "start_time": "2023-02-24T16:59:04.805Z"
      },
      {
        "duration": 269,
        "start_time": "2023-02-24T16:59:04.826Z"
      },
      {
        "duration": 874,
        "start_time": "2023-02-24T16:59:05.097Z"
      },
      {
        "duration": 87,
        "start_time": "2023-02-24T16:59:05.975Z"
      },
      {
        "duration": 250,
        "start_time": "2023-02-24T16:59:06.069Z"
      },
      {
        "duration": 37,
        "start_time": "2023-02-24T16:59:06.321Z"
      },
      {
        "duration": 267,
        "start_time": "2023-02-24T16:59:06.360Z"
      },
      {
        "duration": 948,
        "start_time": "2023-02-24T16:59:06.629Z"
      },
      {
        "duration": 97,
        "start_time": "2023-02-24T16:59:07.579Z"
      },
      {
        "duration": 267,
        "start_time": "2023-02-24T16:59:07.769Z"
      },
      {
        "duration": 84,
        "start_time": "2023-02-24T16:59:08.038Z"
      },
      {
        "duration": 182,
        "start_time": "2023-02-24T17:00:58.254Z"
      },
      {
        "duration": 205,
        "start_time": "2023-02-24T17:01:34.919Z"
      },
      {
        "duration": 170,
        "start_time": "2023-02-24T17:02:11.275Z"
      },
      {
        "duration": 254,
        "start_time": "2023-02-24T17:02:30.002Z"
      },
      {
        "duration": 206,
        "start_time": "2023-02-24T17:03:27.755Z"
      },
      {
        "duration": 186,
        "start_time": "2023-02-24T17:03:53.111Z"
      },
      {
        "duration": 273,
        "start_time": "2023-02-24T17:07:17.347Z"
      },
      {
        "duration": 213,
        "start_time": "2023-02-24T17:08:22.486Z"
      },
      {
        "duration": 163,
        "start_time": "2023-02-24T17:09:08.851Z"
      },
      {
        "duration": 198,
        "start_time": "2023-02-24T17:09:38.315Z"
      },
      {
        "duration": 182,
        "start_time": "2023-02-24T17:10:11.618Z"
      },
      {
        "duration": 204,
        "start_time": "2023-02-24T17:10:22.731Z"
      },
      {
        "duration": 2084,
        "start_time": "2023-02-24T17:12:31.579Z"
      },
      {
        "duration": 1535,
        "start_time": "2023-02-24T17:15:24.038Z"
      },
      {
        "duration": 38,
        "start_time": "2023-02-24T17:15:25.575Z"
      },
      {
        "duration": 20,
        "start_time": "2023-02-24T17:15:25.615Z"
      },
      {
        "duration": 10,
        "start_time": "2023-02-24T17:15:25.637Z"
      },
      {
        "duration": 12,
        "start_time": "2023-02-24T17:15:25.652Z"
      },
      {
        "duration": 2129,
        "start_time": "2023-02-24T17:15:25.665Z"
      },
      {
        "duration": 3,
        "start_time": "2023-02-24T17:15:27.796Z"
      },
      {
        "duration": 20,
        "start_time": "2023-02-24T17:15:27.801Z"
      },
      {
        "duration": 12,
        "start_time": "2023-02-24T17:15:27.823Z"
      },
      {
        "duration": 17,
        "start_time": "2023-02-24T17:15:27.836Z"
      },
      {
        "duration": 3,
        "start_time": "2023-02-24T17:15:27.855Z"
      },
      {
        "duration": 124,
        "start_time": "2023-02-24T17:15:27.859Z"
      },
      {
        "duration": 12,
        "start_time": "2023-02-24T17:15:27.985Z"
      },
      {
        "duration": 20,
        "start_time": "2023-02-24T17:15:28.000Z"
      },
      {
        "duration": 346,
        "start_time": "2023-02-24T17:15:28.022Z"
      },
      {
        "duration": 21887,
        "start_time": "2023-02-24T17:15:28.370Z"
      },
      {
        "duration": 2293,
        "start_time": "2023-02-24T17:15:50.259Z"
      },
      {
        "duration": 102,
        "start_time": "2023-02-24T17:15:52.555Z"
      },
      {
        "duration": 210,
        "start_time": "2023-02-24T17:15:52.658Z"
      },
      {
        "duration": 27,
        "start_time": "2023-02-24T17:15:52.869Z"
      },
      {
        "duration": 491,
        "start_time": "2023-02-24T17:15:52.898Z"
      },
      {
        "duration": 373,
        "start_time": "2023-02-24T17:15:53.391Z"
      },
      {
        "duration": 101,
        "start_time": "2023-02-24T17:15:53.857Z"
      },
      {
        "duration": 198,
        "start_time": "2023-02-24T17:15:53.959Z"
      },
      {
        "duration": 12,
        "start_time": "2023-02-24T17:15:54.158Z"
      },
      {
        "duration": 48,
        "start_time": "2023-02-24T17:15:54.172Z"
      },
      {
        "duration": 772,
        "start_time": "2023-02-24T17:15:54.222Z"
      },
      {
        "duration": 758,
        "start_time": "2023-02-24T17:15:54.996Z"
      },
      {
        "duration": 102,
        "start_time": "2023-02-24T17:15:55.756Z"
      },
      {
        "duration": 212,
        "start_time": "2023-02-24T17:15:55.859Z"
      },
      {
        "duration": 52,
        "start_time": "2023-02-24T17:15:56.073Z"
      },
      {
        "duration": 718,
        "start_time": "2023-02-24T17:15:56.126Z"
      },
      {
        "duration": 715,
        "start_time": "2023-02-24T17:15:56.846Z"
      },
      {
        "duration": 192,
        "start_time": "2023-02-24T17:15:57.564Z"
      },
      {
        "duration": 200,
        "start_time": "2023-02-24T17:15:57.757Z"
      },
      {
        "duration": 12,
        "start_time": "2023-02-24T17:15:57.958Z"
      },
      {
        "duration": 35,
        "start_time": "2023-02-24T17:15:57.972Z"
      },
      {
        "duration": 230,
        "start_time": "2023-02-24T17:15:58.009Z"
      },
      {
        "duration": 316,
        "start_time": "2023-02-24T17:15:58.241Z"
      },
      {
        "duration": 104,
        "start_time": "2023-02-24T17:15:58.559Z"
      },
      {
        "duration": 201,
        "start_time": "2023-02-24T17:15:58.756Z"
      },
      {
        "duration": 22,
        "start_time": "2023-02-24T17:15:58.959Z"
      },
      {
        "duration": 239,
        "start_time": "2023-02-24T17:15:58.982Z"
      },
      {
        "duration": 331,
        "start_time": "2023-02-24T17:15:59.222Z"
      },
      {
        "duration": 102,
        "start_time": "2023-02-24T17:15:59.556Z"
      },
      {
        "duration": 230,
        "start_time": "2023-02-24T17:15:59.660Z"
      },
      {
        "duration": 89,
        "start_time": "2023-02-24T17:15:59.892Z"
      },
      {
        "duration": 1415,
        "start_time": "2023-02-24T17:18:08.133Z"
      },
      {
        "duration": 39,
        "start_time": "2023-02-24T17:18:09.550Z"
      },
      {
        "duration": 24,
        "start_time": "2023-02-24T17:18:09.591Z"
      },
      {
        "duration": 6,
        "start_time": "2023-02-24T17:18:09.617Z"
      },
      {
        "duration": 15,
        "start_time": "2023-02-24T17:18:09.624Z"
      },
      {
        "duration": 2016,
        "start_time": "2023-02-24T17:18:09.641Z"
      },
      {
        "duration": 5,
        "start_time": "2023-02-24T17:18:11.659Z"
      },
      {
        "duration": 6,
        "start_time": "2023-02-24T17:18:11.665Z"
      },
      {
        "duration": 12,
        "start_time": "2023-02-24T17:18:11.672Z"
      },
      {
        "duration": 12,
        "start_time": "2023-02-24T17:18:11.686Z"
      },
      {
        "duration": 3,
        "start_time": "2023-02-24T17:18:11.699Z"
      },
      {
        "duration": 146,
        "start_time": "2023-02-24T17:18:11.704Z"
      },
      {
        "duration": 13,
        "start_time": "2023-02-24T17:18:11.852Z"
      },
      {
        "duration": 21,
        "start_time": "2023-02-24T17:18:11.866Z"
      },
      {
        "duration": 337,
        "start_time": "2023-02-24T17:18:11.888Z"
      },
      {
        "duration": 21672,
        "start_time": "2023-02-24T17:18:12.227Z"
      },
      {
        "duration": 2163,
        "start_time": "2023-02-24T17:18:33.901Z"
      },
      {
        "duration": 102,
        "start_time": "2023-02-24T17:18:36.156Z"
      },
      {
        "duration": 213,
        "start_time": "2023-02-24T17:18:36.259Z"
      },
      {
        "duration": 27,
        "start_time": "2023-02-24T17:18:36.474Z"
      },
      {
        "duration": 408,
        "start_time": "2023-02-24T17:18:36.502Z"
      },
      {
        "duration": 45,
        "start_time": "2023-02-24T17:18:36.912Z"
      },
      {
        "duration": 194,
        "start_time": "2023-02-24T17:18:36.960Z"
      },
      {
        "duration": 193,
        "start_time": "2023-02-24T17:18:37.155Z"
      },
      {
        "duration": 15,
        "start_time": "2023-02-24T17:18:37.350Z"
      },
      {
        "duration": 45,
        "start_time": "2023-02-24T17:18:37.367Z"
      },
      {
        "duration": 699,
        "start_time": "2023-02-24T17:18:37.414Z"
      },
      {
        "duration": 40,
        "start_time": "2023-02-24T17:18:38.116Z"
      },
      {
        "duration": 193,
        "start_time": "2023-02-24T17:18:38.161Z"
      },
      {
        "duration": 211,
        "start_time": "2023-02-24T17:18:38.357Z"
      },
      {
        "duration": 51,
        "start_time": "2023-02-24T17:18:38.570Z"
      },
      {
        "duration": 534,
        "start_time": "2023-02-24T17:18:38.623Z"
      },
      {
        "duration": 34,
        "start_time": "2023-02-24T17:18:39.159Z"
      },
      {
        "duration": 101,
        "start_time": "2023-02-24T17:18:39.253Z"
      },
      {
        "duration": 220,
        "start_time": "2023-02-24T17:18:39.357Z"
      },
      {
        "duration": 12,
        "start_time": "2023-02-24T17:18:39.578Z"
      },
      {
        "duration": 33,
        "start_time": "2023-02-24T17:18:39.593Z"
      },
      {
        "duration": 209,
        "start_time": "2023-02-24T17:18:39.628Z"
      },
      {
        "duration": 26,
        "start_time": "2023-02-24T17:18:39.839Z"
      },
      {
        "duration": 100,
        "start_time": "2023-02-24T17:18:39.955Z"
      },
      {
        "duration": 200,
        "start_time": "2023-02-24T17:18:40.056Z"
      },
      {
        "duration": 21,
        "start_time": "2023-02-24T17:18:40.257Z"
      },
      {
        "duration": 195,
        "start_time": "2023-02-24T17:18:40.279Z"
      },
      {
        "duration": 80,
        "start_time": "2023-02-24T17:18:40.476Z"
      },
      {
        "duration": 99,
        "start_time": "2023-02-24T17:18:40.561Z"
      },
      {
        "duration": 235,
        "start_time": "2023-02-24T17:18:40.662Z"
      },
      {
        "duration": 73,
        "start_time": "2023-02-24T17:18:40.899Z"
      },
      {
        "duration": 79,
        "start_time": "2023-02-24T17:39:39.082Z"
      },
      {
        "duration": 9,
        "start_time": "2023-02-24T17:39:41.604Z"
      },
      {
        "duration": 1549,
        "start_time": "2023-02-24T17:42:03.874Z"
      },
      {
        "duration": 42,
        "start_time": "2023-02-24T17:42:05.425Z"
      },
      {
        "duration": 26,
        "start_time": "2023-02-24T17:42:05.469Z"
      },
      {
        "duration": 9,
        "start_time": "2023-02-24T17:42:05.498Z"
      },
      {
        "duration": 22,
        "start_time": "2023-02-24T17:42:05.509Z"
      },
      {
        "duration": 2351,
        "start_time": "2023-02-24T17:42:05.533Z"
      },
      {
        "duration": 6,
        "start_time": "2023-02-24T17:42:07.886Z"
      },
      {
        "duration": 6,
        "start_time": "2023-02-24T17:42:07.893Z"
      },
      {
        "duration": 12,
        "start_time": "2023-02-24T17:42:07.901Z"
      },
      {
        "duration": 43,
        "start_time": "2023-02-24T17:42:07.915Z"
      },
      {
        "duration": 5,
        "start_time": "2023-02-24T17:42:07.965Z"
      },
      {
        "duration": 127,
        "start_time": "2023-02-24T17:42:07.971Z"
      },
      {
        "duration": 14,
        "start_time": "2023-02-24T17:42:08.100Z"
      },
      {
        "duration": 38,
        "start_time": "2023-02-24T17:42:08.116Z"
      },
      {
        "duration": 368,
        "start_time": "2023-02-24T17:42:08.157Z"
      },
      {
        "duration": 24544,
        "start_time": "2023-02-24T17:42:08.527Z"
      },
      {
        "duration": 3303,
        "start_time": "2023-02-24T17:42:33.074Z"
      },
      {
        "duration": 102,
        "start_time": "2023-02-24T17:42:36.455Z"
      },
      {
        "duration": 502,
        "start_time": "2023-02-24T17:42:36.560Z"
      },
      {
        "duration": 32,
        "start_time": "2023-02-24T17:42:37.065Z"
      },
      {
        "duration": 488,
        "start_time": "2023-02-24T17:42:37.098Z"
      },
      {
        "duration": 175,
        "start_time": "2023-02-24T17:42:37.587Z"
      },
      {
        "duration": 91,
        "start_time": "2023-02-24T17:42:37.766Z"
      },
      {
        "duration": 302,
        "start_time": "2023-02-24T17:42:37.859Z"
      },
      {
        "duration": 16,
        "start_time": "2023-02-24T17:42:38.163Z"
      },
      {
        "duration": 56,
        "start_time": "2023-02-24T17:42:38.181Z"
      },
      {
        "duration": 714,
        "start_time": "2023-02-24T17:42:38.239Z"
      },
      {
        "duration": 98,
        "start_time": "2023-02-24T17:42:38.958Z"
      },
      {
        "duration": 96,
        "start_time": "2023-02-24T17:42:39.059Z"
      },
      {
        "duration": 292,
        "start_time": "2023-02-24T17:42:39.157Z"
      },
      {
        "duration": 52,
        "start_time": "2023-02-24T17:42:39.451Z"
      },
      {
        "duration": 581,
        "start_time": "2023-02-24T17:42:39.505Z"
      },
      {
        "duration": 90,
        "start_time": "2023-02-24T17:42:40.087Z"
      },
      {
        "duration": 96,
        "start_time": "2023-02-24T17:42:40.259Z"
      },
      {
        "duration": 228,
        "start_time": "2023-02-24T17:42:40.358Z"
      },
      {
        "duration": 13,
        "start_time": "2023-02-24T17:42:40.587Z"
      },
      {
        "duration": 18,
        "start_time": "2023-02-24T17:42:40.602Z"
      },
      {
        "duration": 221,
        "start_time": "2023-02-24T17:42:40.622Z"
      },
      {
        "duration": 28,
        "start_time": "2023-02-24T17:42:40.844Z"
      },
      {
        "duration": 200,
        "start_time": "2023-02-24T17:42:40.879Z"
      },
      {
        "duration": 224,
        "start_time": "2023-02-24T17:42:41.081Z"
      },
      {
        "duration": 20,
        "start_time": "2023-02-24T17:42:41.306Z"
      },
      {
        "duration": 234,
        "start_time": "2023-02-24T17:42:41.328Z"
      },
      {
        "duration": 98,
        "start_time": "2023-02-24T17:42:41.565Z"
      },
      {
        "duration": 111,
        "start_time": "2023-02-24T17:42:41.666Z"
      },
      {
        "duration": 243,
        "start_time": "2023-02-24T17:42:41.779Z"
      },
      {
        "duration": 79,
        "start_time": "2023-02-24T17:42:42.023Z"
      },
      {
        "duration": 1479,
        "start_time": "2023-02-24T17:55:18.421Z"
      },
      {
        "duration": 37,
        "start_time": "2023-02-24T17:55:19.902Z"
      },
      {
        "duration": 23,
        "start_time": "2023-02-24T17:55:19.941Z"
      },
      {
        "duration": 8,
        "start_time": "2023-02-24T17:55:19.966Z"
      },
      {
        "duration": 17,
        "start_time": "2023-02-24T17:55:19.976Z"
      },
      {
        "duration": 2095,
        "start_time": "2023-02-24T17:55:19.995Z"
      },
      {
        "duration": 5,
        "start_time": "2023-02-24T17:55:22.092Z"
      },
      {
        "duration": 6,
        "start_time": "2023-02-24T17:55:22.098Z"
      },
      {
        "duration": 12,
        "start_time": "2023-02-24T17:55:22.106Z"
      },
      {
        "duration": 35,
        "start_time": "2023-02-24T17:55:22.119Z"
      },
      {
        "duration": 4,
        "start_time": "2023-02-24T17:55:22.156Z"
      },
      {
        "duration": 127,
        "start_time": "2023-02-24T17:55:22.161Z"
      },
      {
        "duration": 13,
        "start_time": "2023-02-24T17:55:22.290Z"
      },
      {
        "duration": 23,
        "start_time": "2023-02-24T17:55:22.307Z"
      },
      {
        "duration": 350,
        "start_time": "2023-02-24T17:55:22.332Z"
      },
      {
        "duration": 22007,
        "start_time": "2023-02-24T17:55:22.684Z"
      },
      {
        "duration": 1568,
        "start_time": "2023-02-24T17:55:44.693Z"
      },
      {
        "duration": 99,
        "start_time": "2023-02-24T17:55:46.263Z"
      },
      {
        "duration": 295,
        "start_time": "2023-02-24T17:55:46.364Z"
      },
      {
        "duration": 28,
        "start_time": "2023-02-24T17:55:46.661Z"
      },
      {
        "duration": 417,
        "start_time": "2023-02-24T17:55:46.690Z"
      },
      {
        "duration": 51,
        "start_time": "2023-02-24T17:55:47.109Z"
      },
      {
        "duration": 101,
        "start_time": "2023-02-24T17:55:47.163Z"
      },
      {
        "duration": 223,
        "start_time": "2023-02-24T17:55:47.354Z"
      },
      {
        "duration": 15,
        "start_time": "2023-02-24T17:55:47.580Z"
      },
      {
        "duration": 64,
        "start_time": "2023-02-24T17:55:47.596Z"
      },
      {
        "duration": 726,
        "start_time": "2023-02-24T17:55:47.662Z"
      },
      {
        "duration": 71,
        "start_time": "2023-02-24T17:55:48.390Z"
      },
      {
        "duration": 189,
        "start_time": "2023-02-24T17:55:48.463Z"
      },
      {
        "duration": 213,
        "start_time": "2023-02-24T17:55:48.655Z"
      },
      {
        "duration": 50,
        "start_time": "2023-02-24T17:55:48.870Z"
      },
      {
        "duration": 548,
        "start_time": "2023-02-24T17:55:48.922Z"
      },
      {
        "duration": 86,
        "start_time": "2023-02-24T17:55:49.472Z"
      },
      {
        "duration": 99,
        "start_time": "2023-02-24T17:55:49.561Z"
      },
      {
        "duration": 298,
        "start_time": "2023-02-24T17:55:49.663Z"
      },
      {
        "duration": 12,
        "start_time": "2023-02-24T17:55:49.963Z"
      },
      {
        "duration": 18,
        "start_time": "2023-02-24T17:55:49.976Z"
      },
      {
        "duration": 203,
        "start_time": "2023-02-24T17:55:49.995Z"
      },
      {
        "duration": 159,
        "start_time": "2023-02-24T17:55:50.200Z"
      },
      {
        "duration": 101,
        "start_time": "2023-02-24T17:55:50.362Z"
      },
      {
        "duration": 203,
        "start_time": "2023-02-24T17:55:50.467Z"
      },
      {
        "duration": 20,
        "start_time": "2023-02-24T17:55:50.672Z"
      },
      {
        "duration": 198,
        "start_time": "2023-02-24T17:55:50.694Z"
      },
      {
        "duration": 63,
        "start_time": "2023-02-24T17:55:50.894Z"
      },
      {
        "duration": 103,
        "start_time": "2023-02-24T17:55:50.959Z"
      },
      {
        "duration": 312,
        "start_time": "2023-02-24T17:55:51.065Z"
      },
      {
        "duration": 38,
        "start_time": "2023-02-24T17:55:51.379Z"
      },
      {
        "duration": 1597,
        "start_time": "2023-02-26T07:11:28.200Z"
      },
      {
        "duration": 190,
        "start_time": "2023-02-26T07:11:30.417Z"
      },
      {
        "duration": 25,
        "start_time": "2023-02-26T07:11:35.658Z"
      },
      {
        "duration": 8,
        "start_time": "2023-02-26T07:11:39.109Z"
      },
      {
        "duration": 11,
        "start_time": "2023-02-26T07:11:41.589Z"
      },
      {
        "duration": 2176,
        "start_time": "2023-02-26T07:11:43.494Z"
      },
      {
        "duration": 6,
        "start_time": "2023-02-26T07:11:50.223Z"
      },
      {
        "duration": 6,
        "start_time": "2023-02-26T07:11:54.140Z"
      },
      {
        "duration": 526,
        "start_time": "2023-02-26T07:12:01.294Z"
      },
      {
        "duration": 526,
        "start_time": "2023-02-26T07:12:22.821Z"
      },
      {
        "duration": 16,
        "start_time": "2023-02-26T07:13:24.260Z"
      },
      {
        "duration": 451,
        "start_time": "2023-02-26T07:14:01.562Z"
      },
      {
        "duration": 53,
        "start_time": "2023-02-26T07:14:16.951Z"
      },
      {
        "duration": 10,
        "start_time": "2023-02-26T07:25:27.808Z"
      },
      {
        "duration": 39,
        "start_time": "2023-02-26T07:25:40.073Z"
      },
      {
        "duration": 620,
        "start_time": "2023-02-26T07:25:46.182Z"
      },
      {
        "duration": 512,
        "start_time": "2023-02-26T07:30:47.188Z"
      },
      {
        "duration": 509,
        "start_time": "2023-02-26T07:31:19.891Z"
      },
      {
        "duration": 502,
        "start_time": "2023-02-26T07:32:04.695Z"
      },
      {
        "duration": 4,
        "start_time": "2023-02-26T07:32:21.138Z"
      },
      {
        "duration": 63,
        "start_time": "2023-02-26T07:32:23.327Z"
      },
      {
        "duration": 28,
        "start_time": "2023-02-26T07:32:26.529Z"
      },
      {
        "duration": 8,
        "start_time": "2023-02-26T07:32:30.200Z"
      },
      {
        "duration": 18,
        "start_time": "2023-02-26T07:32:32.271Z"
      },
      {
        "duration": 2530,
        "start_time": "2023-02-26T07:32:34.595Z"
      },
      {
        "duration": 5,
        "start_time": "2023-02-26T07:32:39.622Z"
      },
      {
        "duration": 5,
        "start_time": "2023-02-26T07:32:41.815Z"
      },
      {
        "duration": 487,
        "start_time": "2023-02-26T07:32:45.883Z"
      },
      {
        "duration": 4,
        "start_time": "2023-02-26T07:34:49.785Z"
      },
      {
        "duration": 42,
        "start_time": "2023-02-26T07:34:52.200Z"
      },
      {
        "duration": 16,
        "start_time": "2023-02-26T07:34:56.095Z"
      },
      {
        "duration": 8,
        "start_time": "2023-02-26T07:34:58.520Z"
      },
      {
        "duration": 5,
        "start_time": "2023-02-26T07:35:04.903Z"
      },
      {
        "duration": 5,
        "start_time": "2023-02-26T07:35:07.311Z"
      },
      {
        "duration": 10,
        "start_time": "2023-02-26T07:35:18.109Z"
      },
      {
        "duration": 240,
        "start_time": "2023-02-26T07:35:27.527Z"
      },
      {
        "duration": 30,
        "start_time": "2023-02-26T07:36:11.998Z"
      },
      {
        "duration": 53,
        "start_time": "2023-02-26T07:36:23.309Z"
      },
      {
        "duration": 561,
        "start_time": "2023-02-26T07:39:55.083Z"
      },
      {
        "duration": 13,
        "start_time": "2023-02-26T07:41:35.400Z"
      },
      {
        "duration": 14,
        "start_time": "2023-02-26T07:41:48.466Z"
      },
      {
        "duration": 505,
        "start_time": "2023-02-26T07:41:55.888Z"
      },
      {
        "duration": 239,
        "start_time": "2023-02-26T07:42:48.018Z"
      },
      {
        "duration": 586,
        "start_time": "2023-02-26T07:43:11.375Z"
      },
      {
        "duration": 9,
        "start_time": "2023-02-26T07:49:19.926Z"
      },
      {
        "duration": 10,
        "start_time": "2023-02-26T07:51:10.896Z"
      },
      {
        "duration": 6,
        "start_time": "2023-02-26T07:51:41.205Z"
      },
      {
        "duration": 10,
        "start_time": "2023-02-26T07:51:54.734Z"
      },
      {
        "duration": 13,
        "start_time": "2023-02-26T07:52:47.787Z"
      },
      {
        "duration": 17,
        "start_time": "2023-02-26T07:53:16.609Z"
      },
      {
        "duration": 13,
        "start_time": "2023-02-26T07:58:25.220Z"
      },
      {
        "duration": 26,
        "start_time": "2023-02-26T07:58:43.025Z"
      },
      {
        "duration": 24,
        "start_time": "2023-02-26T07:59:55.072Z"
      },
      {
        "duration": 30,
        "start_time": "2023-02-26T08:00:05.909Z"
      },
      {
        "duration": 5,
        "start_time": "2023-02-26T08:00:15.435Z"
      },
      {
        "duration": 50,
        "start_time": "2023-02-26T08:00:16.916Z"
      },
      {
        "duration": 6,
        "start_time": "2023-02-26T08:00:28.003Z"
      },
      {
        "duration": 6,
        "start_time": "2023-02-26T08:00:32.243Z"
      },
      {
        "duration": 22,
        "start_time": "2023-02-26T08:00:34.963Z"
      },
      {
        "duration": 34,
        "start_time": "2023-02-26T08:00:56.467Z"
      },
      {
        "duration": 14,
        "start_time": "2023-02-26T10:22:39.891Z"
      },
      {
        "duration": 18,
        "start_time": "2023-02-26T10:24:02.343Z"
      },
      {
        "duration": 6,
        "start_time": "2023-02-26T10:25:51.537Z"
      },
      {
        "duration": 21,
        "start_time": "2023-02-26T10:28:28.689Z"
      },
      {
        "duration": 31,
        "start_time": "2023-02-26T10:28:53.593Z"
      },
      {
        "duration": 6,
        "start_time": "2023-02-26T10:29:04.655Z"
      },
      {
        "duration": 41,
        "start_time": "2023-02-26T10:29:06.534Z"
      },
      {
        "duration": 22,
        "start_time": "2023-02-26T10:29:11.390Z"
      },
      {
        "duration": 10,
        "start_time": "2023-02-26T10:29:14.933Z"
      },
      {
        "duration": 11,
        "start_time": "2023-02-26T10:29:15.957Z"
      },
      {
        "duration": 5,
        "start_time": "2023-02-26T10:29:19.518Z"
      },
      {
        "duration": 5,
        "start_time": "2023-02-26T10:29:22.909Z"
      },
      {
        "duration": 21,
        "start_time": "2023-02-26T10:29:24.621Z"
      },
      {
        "duration": 1405,
        "start_time": "2023-02-26T10:30:43.836Z"
      },
      {
        "duration": 782,
        "start_time": "2023-02-26T10:30:55.762Z"
      },
      {
        "duration": 22,
        "start_time": "2023-02-26T10:31:24.617Z"
      },
      {
        "duration": 26,
        "start_time": "2023-02-26T10:31:45.025Z"
      },
      {
        "duration": 22,
        "start_time": "2023-02-26T10:32:13.742Z"
      },
      {
        "duration": 27,
        "start_time": "2023-02-26T10:32:52.093Z"
      },
      {
        "duration": 66,
        "start_time": "2023-02-26T10:33:09.772Z"
      },
      {
        "duration": 13,
        "start_time": "2023-02-26T11:24:13.591Z"
      },
      {
        "duration": 21,
        "start_time": "2023-02-26T11:25:15.338Z"
      },
      {
        "duration": 1461,
        "start_time": "2023-02-26T11:26:40.665Z"
      },
      {
        "duration": 59,
        "start_time": "2023-02-26T11:26:42.129Z"
      },
      {
        "duration": 25,
        "start_time": "2023-02-26T11:26:42.189Z"
      },
      {
        "duration": 8,
        "start_time": "2023-02-26T11:26:42.215Z"
      },
      {
        "duration": 12,
        "start_time": "2023-02-26T11:26:42.225Z"
      },
      {
        "duration": 2391,
        "start_time": "2023-02-26T11:26:42.238Z"
      },
      {
        "duration": 24,
        "start_time": "2023-02-26T11:26:44.631Z"
      },
      {
        "duration": 17,
        "start_time": "2023-02-26T11:26:44.658Z"
      },
      {
        "duration": 148,
        "start_time": "2023-02-26T11:26:44.678Z"
      },
      {
        "duration": 0,
        "start_time": "2023-02-26T11:26:44.829Z"
      },
      {
        "duration": 0,
        "start_time": "2023-02-26T11:26:44.830Z"
      },
      {
        "duration": 0,
        "start_time": "2023-02-26T11:26:44.831Z"
      },
      {
        "duration": 0,
        "start_time": "2023-02-26T11:26:44.832Z"
      },
      {
        "duration": 0,
        "start_time": "2023-02-26T11:26:44.833Z"
      },
      {
        "duration": 0,
        "start_time": "2023-02-26T11:26:44.835Z"
      },
      {
        "duration": 0,
        "start_time": "2023-02-26T11:26:44.850Z"
      },
      {
        "duration": 0,
        "start_time": "2023-02-26T11:26:44.851Z"
      },
      {
        "duration": 0,
        "start_time": "2023-02-26T11:26:44.857Z"
      },
      {
        "duration": 1,
        "start_time": "2023-02-26T11:26:44.858Z"
      },
      {
        "duration": 0,
        "start_time": "2023-02-26T11:26:44.860Z"
      },
      {
        "duration": 0,
        "start_time": "2023-02-26T11:26:44.861Z"
      },
      {
        "duration": 0,
        "start_time": "2023-02-26T11:26:44.862Z"
      },
      {
        "duration": 0,
        "start_time": "2023-02-26T11:26:44.863Z"
      },
      {
        "duration": 0,
        "start_time": "2023-02-26T11:26:44.865Z"
      },
      {
        "duration": 0,
        "start_time": "2023-02-26T11:26:44.868Z"
      },
      {
        "duration": 0,
        "start_time": "2023-02-26T11:26:44.869Z"
      },
      {
        "duration": 0,
        "start_time": "2023-02-26T11:26:44.871Z"
      },
      {
        "duration": 0,
        "start_time": "2023-02-26T11:26:44.873Z"
      },
      {
        "duration": 0,
        "start_time": "2023-02-26T11:26:44.874Z"
      },
      {
        "duration": 0,
        "start_time": "2023-02-26T11:26:44.875Z"
      },
      {
        "duration": 0,
        "start_time": "2023-02-26T11:26:44.877Z"
      },
      {
        "duration": 0,
        "start_time": "2023-02-26T11:26:44.880Z"
      },
      {
        "duration": 0,
        "start_time": "2023-02-26T11:26:44.880Z"
      },
      {
        "duration": 0,
        "start_time": "2023-02-26T11:26:44.881Z"
      },
      {
        "duration": 0,
        "start_time": "2023-02-26T11:26:44.882Z"
      },
      {
        "duration": 0,
        "start_time": "2023-02-26T11:26:44.882Z"
      },
      {
        "duration": 0,
        "start_time": "2023-02-26T11:26:44.883Z"
      },
      {
        "duration": 0,
        "start_time": "2023-02-26T11:26:44.883Z"
      },
      {
        "duration": 0,
        "start_time": "2023-02-26T11:26:44.885Z"
      },
      {
        "duration": 0,
        "start_time": "2023-02-26T11:26:44.886Z"
      },
      {
        "duration": 0,
        "start_time": "2023-02-26T11:26:44.887Z"
      },
      {
        "duration": 0,
        "start_time": "2023-02-26T11:26:44.889Z"
      },
      {
        "duration": 0,
        "start_time": "2023-02-26T11:26:44.889Z"
      },
      {
        "duration": 0,
        "start_time": "2023-02-26T11:26:44.891Z"
      },
      {
        "duration": 0,
        "start_time": "2023-02-26T11:26:44.891Z"
      },
      {
        "duration": 0,
        "start_time": "2023-02-26T11:26:44.892Z"
      },
      {
        "duration": 0,
        "start_time": "2023-02-26T11:26:44.894Z"
      },
      {
        "duration": 15,
        "start_time": "2023-02-26T11:34:05.088Z"
      },
      {
        "duration": 440,
        "start_time": "2023-02-26T11:34:15.292Z"
      },
      {
        "duration": 16,
        "start_time": "2023-02-26T11:36:54.146Z"
      },
      {
        "duration": 11,
        "start_time": "2023-02-26T11:37:24.425Z"
      },
      {
        "duration": 7,
        "start_time": "2023-02-26T11:44:00.349Z"
      },
      {
        "duration": 26,
        "start_time": "2023-02-26T11:45:25.496Z"
      },
      {
        "duration": 1681,
        "start_time": "2023-02-26T11:45:47.173Z"
      },
      {
        "duration": 49,
        "start_time": "2023-02-26T11:45:48.862Z"
      },
      {
        "duration": 45,
        "start_time": "2023-02-26T11:45:48.915Z"
      },
      {
        "duration": 19,
        "start_time": "2023-02-26T11:45:48.962Z"
      },
      {
        "duration": 22,
        "start_time": "2023-02-26T11:45:48.984Z"
      },
      {
        "duration": 2337,
        "start_time": "2023-02-26T11:45:49.009Z"
      },
      {
        "duration": 22,
        "start_time": "2023-02-26T11:45:51.348Z"
      },
      {
        "duration": 19,
        "start_time": "2023-02-26T11:45:51.373Z"
      },
      {
        "duration": 378,
        "start_time": "2023-02-26T11:45:51.395Z"
      },
      {
        "duration": 0,
        "start_time": "2023-02-26T11:45:51.778Z"
      },
      {
        "duration": 0,
        "start_time": "2023-02-26T11:45:51.780Z"
      },
      {
        "duration": 0,
        "start_time": "2023-02-26T11:45:51.781Z"
      },
      {
        "duration": 0,
        "start_time": "2023-02-26T11:45:51.783Z"
      },
      {
        "duration": 0,
        "start_time": "2023-02-26T11:45:51.784Z"
      },
      {
        "duration": 0,
        "start_time": "2023-02-26T11:45:51.786Z"
      },
      {
        "duration": 0,
        "start_time": "2023-02-26T11:45:51.787Z"
      },
      {
        "duration": 0,
        "start_time": "2023-02-26T11:45:51.789Z"
      },
      {
        "duration": 0,
        "start_time": "2023-02-26T11:45:51.791Z"
      },
      {
        "duration": 0,
        "start_time": "2023-02-26T11:45:51.792Z"
      },
      {
        "duration": 0,
        "start_time": "2023-02-26T11:45:51.852Z"
      },
      {
        "duration": 0,
        "start_time": "2023-02-26T11:45:51.853Z"
      },
      {
        "duration": 0,
        "start_time": "2023-02-26T11:45:51.854Z"
      },
      {
        "duration": 0,
        "start_time": "2023-02-26T11:45:51.855Z"
      },
      {
        "duration": 0,
        "start_time": "2023-02-26T11:45:51.856Z"
      },
      {
        "duration": 0,
        "start_time": "2023-02-26T11:45:51.857Z"
      },
      {
        "duration": 0,
        "start_time": "2023-02-26T11:45:51.858Z"
      },
      {
        "duration": 0,
        "start_time": "2023-02-26T11:45:51.859Z"
      },
      {
        "duration": 0,
        "start_time": "2023-02-26T11:45:51.861Z"
      },
      {
        "duration": 0,
        "start_time": "2023-02-26T11:45:51.864Z"
      },
      {
        "duration": 0,
        "start_time": "2023-02-26T11:45:51.865Z"
      },
      {
        "duration": 0,
        "start_time": "2023-02-26T11:45:51.867Z"
      },
      {
        "duration": 0,
        "start_time": "2023-02-26T11:45:51.868Z"
      },
      {
        "duration": 0,
        "start_time": "2023-02-26T11:45:51.870Z"
      },
      {
        "duration": 0,
        "start_time": "2023-02-26T11:45:51.871Z"
      },
      {
        "duration": 0,
        "start_time": "2023-02-26T11:45:51.873Z"
      },
      {
        "duration": 0,
        "start_time": "2023-02-26T11:45:51.874Z"
      },
      {
        "duration": 0,
        "start_time": "2023-02-26T11:45:51.875Z"
      },
      {
        "duration": 0,
        "start_time": "2023-02-26T11:45:51.878Z"
      },
      {
        "duration": 0,
        "start_time": "2023-02-26T11:45:51.879Z"
      },
      {
        "duration": 0,
        "start_time": "2023-02-26T11:45:51.881Z"
      },
      {
        "duration": 0,
        "start_time": "2023-02-26T11:45:51.882Z"
      },
      {
        "duration": 0,
        "start_time": "2023-02-26T11:45:51.883Z"
      },
      {
        "duration": 0,
        "start_time": "2023-02-26T11:45:51.885Z"
      },
      {
        "duration": 0,
        "start_time": "2023-02-26T11:45:51.887Z"
      },
      {
        "duration": 0,
        "start_time": "2023-02-26T11:45:51.888Z"
      },
      {
        "duration": 0,
        "start_time": "2023-02-26T11:45:51.890Z"
      },
      {
        "duration": 0,
        "start_time": "2023-02-26T11:45:51.891Z"
      },
      {
        "duration": 13,
        "start_time": "2023-02-26T11:46:51.162Z"
      },
      {
        "duration": 29,
        "start_time": "2023-02-26T11:47:04.434Z"
      },
      {
        "duration": 27,
        "start_time": "2023-02-26T11:47:16.469Z"
      },
      {
        "duration": 17,
        "start_time": "2023-02-26T11:48:08.878Z"
      },
      {
        "duration": 7,
        "start_time": "2023-02-26T11:52:39.888Z"
      },
      {
        "duration": 200,
        "start_time": "2023-02-26T11:52:42.101Z"
      },
      {
        "duration": 48,
        "start_time": "2023-02-26T12:08:57.480Z"
      },
      {
        "duration": 99,
        "start_time": "2023-02-26T12:09:03.902Z"
      },
      {
        "duration": 59,
        "start_time": "2023-02-26T12:09:08.812Z"
      },
      {
        "duration": 60,
        "start_time": "2023-02-26T12:09:12.108Z"
      },
      {
        "duration": 138,
        "start_time": "2023-02-26T12:09:16.654Z"
      },
      {
        "duration": 61,
        "start_time": "2023-02-26T12:09:21.805Z"
      },
      {
        "duration": 102,
        "start_time": "2023-02-26T12:09:24.704Z"
      },
      {
        "duration": 71,
        "start_time": "2023-02-26T12:09:27.142Z"
      },
      {
        "duration": 52,
        "start_time": "2023-02-26T12:09:38.517Z"
      },
      {
        "duration": 1604,
        "start_time": "2023-02-26T12:10:33.019Z"
      },
      {
        "duration": 44,
        "start_time": "2023-02-26T12:10:34.625Z"
      },
      {
        "duration": 36,
        "start_time": "2023-02-26T12:10:34.671Z"
      },
      {
        "duration": 12,
        "start_time": "2023-02-26T12:10:34.710Z"
      },
      {
        "duration": 37,
        "start_time": "2023-02-26T12:10:34.725Z"
      },
      {
        "duration": 2431,
        "start_time": "2023-02-26T12:10:34.765Z"
      },
      {
        "duration": 6,
        "start_time": "2023-02-26T12:10:37.198Z"
      },
      {
        "duration": 11,
        "start_time": "2023-02-26T12:10:37.207Z"
      },
      {
        "duration": 415,
        "start_time": "2023-02-26T12:10:37.220Z"
      },
      {
        "duration": 0,
        "start_time": "2023-02-26T12:10:37.639Z"
      },
      {
        "duration": 0,
        "start_time": "2023-02-26T12:10:37.641Z"
      },
      {
        "duration": 0,
        "start_time": "2023-02-26T12:10:37.643Z"
      },
      {
        "duration": 0,
        "start_time": "2023-02-26T12:10:37.644Z"
      },
      {
        "duration": 0,
        "start_time": "2023-02-26T12:10:37.646Z"
      },
      {
        "duration": 0,
        "start_time": "2023-02-26T12:10:37.647Z"
      },
      {
        "duration": 0,
        "start_time": "2023-02-26T12:10:37.649Z"
      },
      {
        "duration": 0,
        "start_time": "2023-02-26T12:10:37.650Z"
      },
      {
        "duration": 0,
        "start_time": "2023-02-26T12:10:37.652Z"
      },
      {
        "duration": 0,
        "start_time": "2023-02-26T12:10:37.653Z"
      },
      {
        "duration": 0,
        "start_time": "2023-02-26T12:10:37.654Z"
      },
      {
        "duration": 0,
        "start_time": "2023-02-26T12:10:37.656Z"
      },
      {
        "duration": 0,
        "start_time": "2023-02-26T12:10:37.657Z"
      },
      {
        "duration": 0,
        "start_time": "2023-02-26T12:10:37.658Z"
      },
      {
        "duration": 0,
        "start_time": "2023-02-26T12:10:37.660Z"
      },
      {
        "duration": 0,
        "start_time": "2023-02-26T12:10:37.662Z"
      },
      {
        "duration": 0,
        "start_time": "2023-02-26T12:10:37.663Z"
      },
      {
        "duration": 0,
        "start_time": "2023-02-26T12:10:37.665Z"
      },
      {
        "duration": 0,
        "start_time": "2023-02-26T12:10:37.667Z"
      },
      {
        "duration": 0,
        "start_time": "2023-02-26T12:10:37.669Z"
      },
      {
        "duration": 0,
        "start_time": "2023-02-26T12:10:37.670Z"
      },
      {
        "duration": 0,
        "start_time": "2023-02-26T12:10:37.672Z"
      },
      {
        "duration": 0,
        "start_time": "2023-02-26T12:10:37.674Z"
      },
      {
        "duration": 0,
        "start_time": "2023-02-26T12:10:37.675Z"
      },
      {
        "duration": 0,
        "start_time": "2023-02-26T12:10:37.676Z"
      },
      {
        "duration": 0,
        "start_time": "2023-02-26T12:10:37.678Z"
      },
      {
        "duration": 0,
        "start_time": "2023-02-26T12:10:37.679Z"
      },
      {
        "duration": 0,
        "start_time": "2023-02-26T12:10:37.680Z"
      },
      {
        "duration": 0,
        "start_time": "2023-02-26T12:10:37.681Z"
      },
      {
        "duration": 0,
        "start_time": "2023-02-26T12:10:37.683Z"
      },
      {
        "duration": 0,
        "start_time": "2023-02-26T12:10:37.684Z"
      },
      {
        "duration": 0,
        "start_time": "2023-02-26T12:10:37.685Z"
      },
      {
        "duration": 0,
        "start_time": "2023-02-26T12:10:37.686Z"
      },
      {
        "duration": 0,
        "start_time": "2023-02-26T12:10:37.687Z"
      },
      {
        "duration": 0,
        "start_time": "2023-02-26T12:10:37.749Z"
      },
      {
        "duration": 0,
        "start_time": "2023-02-26T12:10:37.750Z"
      },
      {
        "duration": 0,
        "start_time": "2023-02-26T12:10:37.751Z"
      },
      {
        "duration": 0,
        "start_time": "2023-02-26T12:10:37.752Z"
      },
      {
        "duration": 12,
        "start_time": "2023-02-26T12:11:44.382Z"
      },
      {
        "duration": 5,
        "start_time": "2023-02-26T12:11:57.666Z"
      },
      {
        "duration": 140,
        "start_time": "2023-02-26T12:12:04.473Z"
      },
      {
        "duration": 15,
        "start_time": "2023-02-26T12:12:09.583Z"
      },
      {
        "duration": 30,
        "start_time": "2023-02-26T12:12:13.407Z"
      },
      {
        "duration": 30,
        "start_time": "2023-02-26T12:12:29.844Z"
      },
      {
        "duration": 306,
        "start_time": "2023-02-26T12:14:58.781Z"
      },
      {
        "duration": 1622,
        "start_time": "2023-02-26T12:15:08.352Z"
      },
      {
        "duration": 45,
        "start_time": "2023-02-26T12:15:09.976Z"
      },
      {
        "duration": 31,
        "start_time": "2023-02-26T12:15:10.023Z"
      },
      {
        "duration": 48,
        "start_time": "2023-02-26T12:15:10.057Z"
      },
      {
        "duration": 61,
        "start_time": "2023-02-26T12:15:10.107Z"
      },
      {
        "duration": 3771,
        "start_time": "2023-02-26T12:15:10.170Z"
      },
      {
        "duration": 10,
        "start_time": "2023-02-26T12:15:13.943Z"
      },
      {
        "duration": 22,
        "start_time": "2023-02-26T12:15:13.954Z"
      },
      {
        "duration": 371,
        "start_time": "2023-02-26T12:15:13.978Z"
      },
      {
        "duration": 0,
        "start_time": "2023-02-26T12:15:14.353Z"
      },
      {
        "duration": 0,
        "start_time": "2023-02-26T12:15:14.354Z"
      },
      {
        "duration": 0,
        "start_time": "2023-02-26T12:15:14.357Z"
      },
      {
        "duration": 0,
        "start_time": "2023-02-26T12:15:14.359Z"
      },
      {
        "duration": 0,
        "start_time": "2023-02-26T12:15:14.360Z"
      },
      {
        "duration": 0,
        "start_time": "2023-02-26T12:15:14.362Z"
      },
      {
        "duration": 0,
        "start_time": "2023-02-26T12:15:14.364Z"
      },
      {
        "duration": 0,
        "start_time": "2023-02-26T12:15:14.365Z"
      },
      {
        "duration": 0,
        "start_time": "2023-02-26T12:15:14.367Z"
      },
      {
        "duration": 0,
        "start_time": "2023-02-26T12:15:14.368Z"
      },
      {
        "duration": 0,
        "start_time": "2023-02-26T12:15:14.370Z"
      },
      {
        "duration": 0,
        "start_time": "2023-02-26T12:15:14.371Z"
      },
      {
        "duration": 0,
        "start_time": "2023-02-26T12:15:14.374Z"
      },
      {
        "duration": 1,
        "start_time": "2023-02-26T12:15:14.375Z"
      },
      {
        "duration": 0,
        "start_time": "2023-02-26T12:15:14.379Z"
      },
      {
        "duration": 1,
        "start_time": "2023-02-26T12:15:14.380Z"
      },
      {
        "duration": 0,
        "start_time": "2023-02-26T12:15:14.382Z"
      },
      {
        "duration": 0,
        "start_time": "2023-02-26T12:15:14.384Z"
      },
      {
        "duration": 0,
        "start_time": "2023-02-26T12:15:14.385Z"
      },
      {
        "duration": 0,
        "start_time": "2023-02-26T12:15:14.387Z"
      },
      {
        "duration": 0,
        "start_time": "2023-02-26T12:15:14.388Z"
      },
      {
        "duration": 0,
        "start_time": "2023-02-26T12:15:14.390Z"
      },
      {
        "duration": 0,
        "start_time": "2023-02-26T12:15:14.449Z"
      },
      {
        "duration": 0,
        "start_time": "2023-02-26T12:15:14.451Z"
      },
      {
        "duration": 0,
        "start_time": "2023-02-26T12:15:14.452Z"
      },
      {
        "duration": 0,
        "start_time": "2023-02-26T12:15:14.454Z"
      },
      {
        "duration": 1,
        "start_time": "2023-02-26T12:15:14.456Z"
      },
      {
        "duration": 0,
        "start_time": "2023-02-26T12:15:14.458Z"
      },
      {
        "duration": 0,
        "start_time": "2023-02-26T12:15:14.460Z"
      },
      {
        "duration": 0,
        "start_time": "2023-02-26T12:15:14.462Z"
      },
      {
        "duration": 0,
        "start_time": "2023-02-26T12:15:14.463Z"
      },
      {
        "duration": 0,
        "start_time": "2023-02-26T12:15:14.465Z"
      },
      {
        "duration": 0,
        "start_time": "2023-02-26T12:15:14.466Z"
      },
      {
        "duration": 0,
        "start_time": "2023-02-26T12:15:14.467Z"
      },
      {
        "duration": 0,
        "start_time": "2023-02-26T12:15:14.469Z"
      },
      {
        "duration": 0,
        "start_time": "2023-02-26T12:15:14.471Z"
      },
      {
        "duration": 0,
        "start_time": "2023-02-26T12:15:14.472Z"
      },
      {
        "duration": 0,
        "start_time": "2023-02-26T12:15:14.474Z"
      },
      {
        "duration": 15,
        "start_time": "2023-02-26T12:15:43.934Z"
      },
      {
        "duration": 22,
        "start_time": "2023-02-26T12:16:29.435Z"
      },
      {
        "duration": 5,
        "start_time": "2023-02-26T12:16:48.881Z"
      },
      {
        "duration": 151,
        "start_time": "2023-02-26T12:16:54.869Z"
      },
      {
        "duration": 15,
        "start_time": "2023-02-26T12:16:59.001Z"
      },
      {
        "duration": 24,
        "start_time": "2023-02-26T12:17:09.888Z"
      },
      {
        "duration": 24,
        "start_time": "2023-02-26T12:17:21.072Z"
      },
      {
        "duration": 104,
        "start_time": "2023-02-26T12:19:19.877Z"
      },
      {
        "duration": 31,
        "start_time": "2023-02-26T12:19:45.936Z"
      },
      {
        "duration": 30,
        "start_time": "2023-02-26T12:19:56.385Z"
      },
      {
        "duration": 1777,
        "start_time": "2023-02-26T12:20:13.990Z"
      },
      {
        "duration": 44,
        "start_time": "2023-02-26T12:20:15.769Z"
      },
      {
        "duration": 25,
        "start_time": "2023-02-26T12:20:15.814Z"
      },
      {
        "duration": 10,
        "start_time": "2023-02-26T12:20:15.841Z"
      },
      {
        "duration": 34,
        "start_time": "2023-02-26T12:20:15.854Z"
      },
      {
        "duration": 2300,
        "start_time": "2023-02-26T12:20:15.891Z"
      },
      {
        "duration": 6,
        "start_time": "2023-02-26T12:20:18.193Z"
      },
      {
        "duration": 8,
        "start_time": "2023-02-26T12:20:18.200Z"
      },
      {
        "duration": 13,
        "start_time": "2023-02-26T12:20:18.210Z"
      },
      {
        "duration": 26,
        "start_time": "2023-02-26T12:20:18.226Z"
      },
      {
        "duration": 130,
        "start_time": "2023-02-26T12:20:18.254Z"
      },
      {
        "duration": 71,
        "start_time": "2023-02-26T12:20:18.386Z"
      },
      {
        "duration": 92,
        "start_time": "2023-02-26T12:20:18.458Z"
      },
      {
        "duration": 39,
        "start_time": "2023-02-26T12:20:18.552Z"
      },
      {
        "duration": 757,
        "start_time": "2023-02-26T12:20:18.594Z"
      },
      {
        "duration": 27352,
        "start_time": "2023-02-26T12:20:19.353Z"
      },
      {
        "duration": 4347,
        "start_time": "2023-02-26T12:20:46.708Z"
      },
      {
        "duration": 109,
        "start_time": "2023-02-26T12:20:51.058Z"
      },
      {
        "duration": 226,
        "start_time": "2023-02-26T12:20:51.169Z"
      },
      {
        "duration": 34,
        "start_time": "2023-02-26T12:20:51.398Z"
      },
      {
        "duration": 430,
        "start_time": "2023-02-26T12:20:51.434Z"
      },
      {
        "duration": 192,
        "start_time": "2023-02-26T12:20:51.868Z"
      },
      {
        "duration": 16,
        "start_time": "2023-02-26T12:20:52.063Z"
      },
      {
        "duration": 392,
        "start_time": "2023-02-26T12:20:52.081Z"
      },
      {
        "duration": 23,
        "start_time": "2023-02-26T12:20:52.475Z"
      },
      {
        "duration": 70,
        "start_time": "2023-02-26T12:20:52.501Z"
      },
      {
        "duration": 671,
        "start_time": "2023-02-26T12:20:52.576Z"
      },
      {
        "duration": 407,
        "start_time": "2023-02-26T12:20:53.252Z"
      },
      {
        "duration": 21,
        "start_time": "2023-02-26T12:20:53.662Z"
      },
      {
        "duration": 280,
        "start_time": "2023-02-26T12:20:53.749Z"
      },
      {
        "duration": 69,
        "start_time": "2023-02-26T12:20:54.032Z"
      },
      {
        "duration": 556,
        "start_time": "2023-02-26T12:20:54.104Z"
      },
      {
        "duration": 704,
        "start_time": "2023-02-26T12:20:54.662Z"
      },
      {
        "duration": 84,
        "start_time": "2023-02-26T12:20:55.373Z"
      },
      {
        "duration": 317,
        "start_time": "2023-02-26T12:20:55.460Z"
      },
      {
        "duration": 18,
        "start_time": "2023-02-26T12:20:55.779Z"
      },
      {
        "duration": 28,
        "start_time": "2023-02-26T12:20:55.800Z"
      },
      {
        "duration": 214,
        "start_time": "2023-02-26T12:20:55.849Z"
      },
      {
        "duration": 501,
        "start_time": "2023-02-26T12:20:56.064Z"
      },
      {
        "duration": 91,
        "start_time": "2023-02-26T12:20:56.570Z"
      },
      {
        "duration": 339,
        "start_time": "2023-02-26T12:20:56.669Z"
      },
      {
        "duration": 51,
        "start_time": "2023-02-26T12:20:57.011Z"
      },
      {
        "duration": 269,
        "start_time": "2023-02-26T12:20:57.069Z"
      },
      {
        "duration": 917,
        "start_time": "2023-02-26T12:20:57.340Z"
      },
      {
        "duration": 93,
        "start_time": "2023-02-26T12:20:58.265Z"
      },
      {
        "duration": 264,
        "start_time": "2023-02-26T12:20:58.362Z"
      },
      {
        "duration": 64,
        "start_time": "2023-02-26T12:20:58.628Z"
      },
      {
        "duration": 58,
        "start_time": "2023-02-26T12:20:58.694Z"
      },
      {
        "duration": 232,
        "start_time": "2023-02-26T12:26:00.917Z"
      },
      {
        "duration": 217,
        "start_time": "2023-02-26T12:31:20.966Z"
      },
      {
        "duration": 385,
        "start_time": "2023-02-26T12:32:28.530Z"
      },
      {
        "duration": 455,
        "start_time": "2023-02-26T12:58:25.995Z"
      },
      {
        "duration": 28881,
        "start_time": "2023-02-26T13:00:44.036Z"
      },
      {
        "duration": 2074,
        "start_time": "2023-02-26T13:17:51.008Z"
      },
      {
        "duration": 15,
        "start_time": "2023-02-26T13:18:00.798Z"
      },
      {
        "duration": 347,
        "start_time": "2023-02-26T13:18:22.710Z"
      },
      {
        "duration": 65,
        "start_time": "2023-02-26T13:22:53.764Z"
      },
      {
        "duration": 578,
        "start_time": "2023-02-26T13:26:03.594Z"
      },
      {
        "duration": 452,
        "start_time": "2023-02-26T13:31:28.639Z"
      },
      {
        "duration": 2019,
        "start_time": "2023-02-26T13:31:48.769Z"
      },
      {
        "duration": 12,
        "start_time": "2023-02-26T13:31:55.877Z"
      },
      {
        "duration": 234,
        "start_time": "2023-02-26T13:32:34.277Z"
      },
      {
        "duration": 26,
        "start_time": "2023-02-26T13:33:31.070Z"
      },
      {
        "duration": 423,
        "start_time": "2023-02-26T13:38:23.364Z"
      },
      {
        "duration": 59,
        "start_time": "2023-02-26T13:39:32.437Z"
      },
      {
        "duration": 20,
        "start_time": "2023-02-26T13:39:38.318Z"
      },
      {
        "duration": 16,
        "start_time": "2023-02-26T13:39:45.803Z"
      },
      {
        "duration": 16,
        "start_time": "2023-02-26T13:40:07.372Z"
      },
      {
        "duration": 17,
        "start_time": "2023-02-26T13:40:15.578Z"
      },
      {
        "duration": 16,
        "start_time": "2023-02-26T13:41:54.415Z"
      },
      {
        "duration": 17,
        "start_time": "2023-02-26T13:41:58.612Z"
      },
      {
        "duration": 12,
        "start_time": "2023-02-26T13:42:32.845Z"
      },
      {
        "duration": 15,
        "start_time": "2023-02-26T13:43:24.193Z"
      },
      {
        "duration": 17,
        "start_time": "2023-02-26T13:46:13.881Z"
      },
      {
        "duration": 17,
        "start_time": "2023-02-26T13:46:47.585Z"
      },
      {
        "duration": 19,
        "start_time": "2023-02-26T13:47:54.680Z"
      },
      {
        "duration": 22,
        "start_time": "2023-02-26T13:48:00.092Z"
      },
      {
        "duration": 19,
        "start_time": "2023-02-26T13:48:03.580Z"
      },
      {
        "duration": 26,
        "start_time": "2023-02-26T13:48:10.939Z"
      },
      {
        "duration": 16,
        "start_time": "2023-02-26T13:48:25.886Z"
      },
      {
        "duration": 17,
        "start_time": "2023-02-26T13:49:01.513Z"
      },
      {
        "duration": 25,
        "start_time": "2023-02-26T13:49:23.795Z"
      },
      {
        "duration": 23,
        "start_time": "2023-02-26T13:49:49.983Z"
      },
      {
        "duration": 25,
        "start_time": "2023-02-26T13:50:01.610Z"
      },
      {
        "duration": 21,
        "start_time": "2023-02-26T13:50:28.130Z"
      },
      {
        "duration": 20,
        "start_time": "2023-02-26T13:53:50.661Z"
      },
      {
        "duration": 18,
        "start_time": "2023-02-26T13:54:05.475Z"
      },
      {
        "duration": 15,
        "start_time": "2023-02-26T13:54:14.597Z"
      },
      {
        "duration": 18,
        "start_time": "2023-02-26T13:54:32.715Z"
      },
      {
        "duration": 22,
        "start_time": "2023-02-26T13:54:39.611Z"
      },
      {
        "duration": 487,
        "start_time": "2023-02-26T13:55:36.379Z"
      },
      {
        "duration": 1646,
        "start_time": "2023-02-26T14:23:01.077Z"
      },
      {
        "duration": 54,
        "start_time": "2023-02-26T14:23:02.725Z"
      },
      {
        "duration": 26,
        "start_time": "2023-02-26T14:23:02.781Z"
      },
      {
        "duration": 8,
        "start_time": "2023-02-26T14:23:02.809Z"
      },
      {
        "duration": 42,
        "start_time": "2023-02-26T14:23:02.818Z"
      },
      {
        "duration": 2577,
        "start_time": "2023-02-26T14:23:02.869Z"
      },
      {
        "duration": 8,
        "start_time": "2023-02-26T14:23:05.449Z"
      },
      {
        "duration": 57,
        "start_time": "2023-02-26T14:23:05.466Z"
      },
      {
        "duration": 28,
        "start_time": "2023-02-26T14:23:05.525Z"
      },
      {
        "duration": 39,
        "start_time": "2023-02-26T14:23:05.566Z"
      },
      {
        "duration": 110,
        "start_time": "2023-02-26T14:23:05.608Z"
      },
      {
        "duration": 0,
        "start_time": "2023-02-26T14:23:05.721Z"
      },
      {
        "duration": 0,
        "start_time": "2023-02-26T14:23:05.723Z"
      },
      {
        "duration": 0,
        "start_time": "2023-02-26T14:23:05.724Z"
      },
      {
        "duration": 0,
        "start_time": "2023-02-26T14:23:05.725Z"
      },
      {
        "duration": 0,
        "start_time": "2023-02-26T14:23:05.727Z"
      },
      {
        "duration": 0,
        "start_time": "2023-02-26T14:23:05.729Z"
      },
      {
        "duration": 0,
        "start_time": "2023-02-26T14:23:05.731Z"
      },
      {
        "duration": 0,
        "start_time": "2023-02-26T14:23:05.732Z"
      },
      {
        "duration": 0,
        "start_time": "2023-02-26T14:23:05.734Z"
      },
      {
        "duration": 0,
        "start_time": "2023-02-26T14:23:05.736Z"
      },
      {
        "duration": 0,
        "start_time": "2023-02-26T14:23:05.738Z"
      },
      {
        "duration": 0,
        "start_time": "2023-02-26T14:23:05.740Z"
      },
      {
        "duration": 0,
        "start_time": "2023-02-26T14:23:05.741Z"
      },
      {
        "duration": 0,
        "start_time": "2023-02-26T14:23:05.743Z"
      },
      {
        "duration": 0,
        "start_time": "2023-02-26T14:23:05.745Z"
      },
      {
        "duration": 0,
        "start_time": "2023-02-26T14:23:05.747Z"
      },
      {
        "duration": 0,
        "start_time": "2023-02-26T14:23:05.751Z"
      },
      {
        "duration": 0,
        "start_time": "2023-02-26T14:23:05.752Z"
      },
      {
        "duration": 0,
        "start_time": "2023-02-26T14:23:05.753Z"
      },
      {
        "duration": 0,
        "start_time": "2023-02-26T14:23:05.754Z"
      },
      {
        "duration": 0,
        "start_time": "2023-02-26T14:23:05.754Z"
      },
      {
        "duration": 0,
        "start_time": "2023-02-26T14:23:05.755Z"
      },
      {
        "duration": 0,
        "start_time": "2023-02-26T14:23:05.756Z"
      },
      {
        "duration": 0,
        "start_time": "2023-02-26T14:23:05.757Z"
      },
      {
        "duration": 0,
        "start_time": "2023-02-26T14:23:05.759Z"
      },
      {
        "duration": 0,
        "start_time": "2023-02-26T14:23:05.761Z"
      },
      {
        "duration": 1599,
        "start_time": "2023-02-26T14:23:47.943Z"
      },
      {
        "duration": 66,
        "start_time": "2023-02-26T14:23:49.545Z"
      },
      {
        "duration": 21,
        "start_time": "2023-02-26T14:23:49.613Z"
      },
      {
        "duration": 32,
        "start_time": "2023-02-26T14:23:49.636Z"
      },
      {
        "duration": 37,
        "start_time": "2023-02-26T14:23:49.671Z"
      },
      {
        "duration": 2303,
        "start_time": "2023-02-26T14:23:49.711Z"
      },
      {
        "duration": 7,
        "start_time": "2023-02-26T14:23:52.016Z"
      },
      {
        "duration": 7,
        "start_time": "2023-02-26T14:23:52.025Z"
      },
      {
        "duration": 42,
        "start_time": "2023-02-26T14:23:52.034Z"
      },
      {
        "duration": 8,
        "start_time": "2023-02-26T14:23:52.086Z"
      },
      {
        "duration": 144,
        "start_time": "2023-02-26T14:23:52.096Z"
      },
      {
        "duration": 25,
        "start_time": "2023-02-26T14:23:52.241Z"
      },
      {
        "duration": 65,
        "start_time": "2023-02-26T14:23:52.267Z"
      },
      {
        "duration": 40,
        "start_time": "2023-02-26T14:23:52.334Z"
      },
      {
        "duration": 410,
        "start_time": "2023-02-26T14:23:52.377Z"
      },
      {
        "duration": 28040,
        "start_time": "2023-02-26T14:23:52.789Z"
      },
      {
        "duration": 3231,
        "start_time": "2023-02-26T14:24:20.831Z"
      },
      {
        "duration": 91,
        "start_time": "2023-02-26T14:24:24.067Z"
      },
      {
        "duration": 257,
        "start_time": "2023-02-26T14:24:24.163Z"
      },
      {
        "duration": 420,
        "start_time": "2023-02-26T14:24:24.422Z"
      },
      {
        "duration": 28319,
        "start_time": "2023-02-26T14:24:24.848Z"
      },
      {
        "duration": 3217,
        "start_time": "2023-02-26T14:24:53.169Z"
      },
      {
        "duration": 37,
        "start_time": "2023-02-26T14:24:56.456Z"
      },
      {
        "duration": 467,
        "start_time": "2023-02-26T14:24:56.496Z"
      },
      {
        "duration": 21,
        "start_time": "2023-02-26T14:24:56.965Z"
      },
      {
        "duration": 505,
        "start_time": "2023-02-26T14:24:56.991Z"
      },
      {
        "duration": 37275,
        "start_time": "2023-02-26T14:24:57.498Z"
      },
      {
        "duration": 3782,
        "start_time": "2023-02-26T14:25:34.782Z"
      },
      {
        "duration": 85,
        "start_time": "2023-02-26T14:25:38.568Z"
      },
      {
        "duration": 268,
        "start_time": "2023-02-26T14:25:38.656Z"
      },
      {
        "duration": 19,
        "start_time": "2023-02-26T14:25:38.925Z"
      },
      {
        "duration": 222,
        "start_time": "2023-02-26T14:25:38.958Z"
      },
      {
        "duration": 15010,
        "start_time": "2023-02-26T14:25:39.184Z"
      },
      {
        "duration": 3171,
        "start_time": "2023-02-26T14:25:54.196Z"
      },
      {
        "duration": 69,
        "start_time": "2023-02-26T14:25:57.394Z"
      },
      {
        "duration": 261,
        "start_time": "2023-02-26T14:25:57.465Z"
      },
      {
        "duration": 132,
        "start_time": "2023-02-26T14:25:57.728Z"
      },
      {
        "duration": 7,
        "start_time": "2023-02-26T14:27:41.409Z"
      },
      {
        "duration": 26,
        "start_time": "2023-02-26T14:28:25.849Z"
      },
      {
        "duration": 1687,
        "start_time": "2023-02-26T14:30:08.478Z"
      },
      {
        "duration": 54,
        "start_time": "2023-02-26T14:30:10.175Z"
      },
      {
        "duration": 34,
        "start_time": "2023-02-26T14:30:10.231Z"
      },
      {
        "duration": 14,
        "start_time": "2023-02-26T14:30:10.277Z"
      },
      {
        "duration": 14,
        "start_time": "2023-02-26T14:30:10.292Z"
      },
      {
        "duration": 2382,
        "start_time": "2023-02-26T14:30:10.308Z"
      },
      {
        "duration": 5,
        "start_time": "2023-02-26T14:30:12.692Z"
      },
      {
        "duration": 8,
        "start_time": "2023-02-26T14:30:12.699Z"
      },
      {
        "duration": 16,
        "start_time": "2023-02-26T14:30:12.708Z"
      },
      {
        "duration": 21,
        "start_time": "2023-02-26T14:30:12.727Z"
      },
      {
        "duration": 249,
        "start_time": "2023-02-26T14:30:12.754Z"
      },
      {
        "duration": 17,
        "start_time": "2023-02-26T14:30:13.006Z"
      },
      {
        "duration": 51,
        "start_time": "2023-02-26T14:30:13.026Z"
      },
      {
        "duration": 49,
        "start_time": "2023-02-26T14:30:13.081Z"
      },
      {
        "duration": 443,
        "start_time": "2023-02-26T14:30:13.132Z"
      },
      {
        "duration": 27922,
        "start_time": "2023-02-26T14:30:13.576Z"
      },
      {
        "duration": 3601,
        "start_time": "2023-02-26T14:30:41.500Z"
      },
      {
        "duration": 57,
        "start_time": "2023-02-26T14:30:45.106Z"
      },
      {
        "duration": 433,
        "start_time": "2023-02-26T14:30:45.169Z"
      },
      {
        "duration": 420,
        "start_time": "2023-02-26T14:30:45.604Z"
      },
      {
        "duration": 28255,
        "start_time": "2023-02-26T14:30:46.026Z"
      },
      {
        "duration": 2310,
        "start_time": "2023-02-26T14:31:14.285Z"
      },
      {
        "duration": 28,
        "start_time": "2023-02-26T14:31:16.653Z"
      },
      {
        "duration": 429,
        "start_time": "2023-02-26T14:31:16.707Z"
      },
      {
        "duration": 26,
        "start_time": "2023-02-26T14:31:17.138Z"
      },
      {
        "duration": 557,
        "start_time": "2023-02-26T14:31:17.165Z"
      },
      {
        "duration": 38497,
        "start_time": "2023-02-26T14:31:17.724Z"
      },
      {
        "duration": 3758,
        "start_time": "2023-02-26T14:31:56.226Z"
      },
      {
        "duration": 82,
        "start_time": "2023-02-26T14:31:59.996Z"
      },
      {
        "duration": 243,
        "start_time": "2023-02-26T14:32:00.079Z"
      },
      {
        "duration": 15,
        "start_time": "2023-02-26T14:32:00.324Z"
      },
      {
        "duration": 282,
        "start_time": "2023-02-26T14:32:00.351Z"
      },
      {
        "duration": 16922,
        "start_time": "2023-02-26T14:32:00.635Z"
      },
      {
        "duration": 5905,
        "start_time": "2023-02-26T14:32:17.564Z"
      },
      {
        "duration": 25,
        "start_time": "2023-02-26T14:32:23.482Z"
      },
      {
        "duration": 320,
        "start_time": "2023-02-26T14:32:23.512Z"
      },
      {
        "duration": 58,
        "start_time": "2023-02-26T14:32:23.834Z"
      },
      {
        "duration": 1673,
        "start_time": "2023-02-26T15:39:38.873Z"
      },
      {
        "duration": 58,
        "start_time": "2023-02-26T15:39:40.548Z"
      },
      {
        "duration": 27,
        "start_time": "2023-02-26T15:39:40.608Z"
      },
      {
        "duration": 11,
        "start_time": "2023-02-26T15:39:40.638Z"
      },
      {
        "duration": 61,
        "start_time": "2023-02-26T15:39:40.651Z"
      },
      {
        "duration": 2303,
        "start_time": "2023-02-26T15:39:40.714Z"
      },
      {
        "duration": 8,
        "start_time": "2023-02-26T15:39:43.019Z"
      },
      {
        "duration": 9,
        "start_time": "2023-02-26T15:39:43.029Z"
      },
      {
        "duration": 18,
        "start_time": "2023-02-26T15:39:43.053Z"
      },
      {
        "duration": 22,
        "start_time": "2023-02-26T15:39:43.073Z"
      },
      {
        "duration": 136,
        "start_time": "2023-02-26T15:39:43.097Z"
      },
      {
        "duration": 24,
        "start_time": "2023-02-26T15:39:43.235Z"
      },
      {
        "duration": 71,
        "start_time": "2023-02-26T15:39:43.260Z"
      },
      {
        "duration": 51,
        "start_time": "2023-02-26T15:39:43.335Z"
      },
      {
        "duration": 444,
        "start_time": "2023-02-26T15:39:43.388Z"
      },
      {
        "duration": 28222,
        "start_time": "2023-02-26T15:39:43.834Z"
      },
      {
        "duration": 3401,
        "start_time": "2023-02-26T15:40:12.064Z"
      },
      {
        "duration": 20,
        "start_time": "2023-02-26T15:40:15.469Z"
      },
      {
        "duration": 241,
        "start_time": "2023-02-26T15:40:15.492Z"
      },
      {
        "duration": 428,
        "start_time": "2023-02-26T15:40:15.736Z"
      },
      {
        "duration": 30144,
        "start_time": "2023-02-26T15:40:16.174Z"
      },
      {
        "duration": 3268,
        "start_time": "2023-02-26T15:40:46.319Z"
      },
      {
        "duration": 18,
        "start_time": "2023-02-26T15:40:49.655Z"
      },
      {
        "duration": 354,
        "start_time": "2023-02-26T15:40:49.678Z"
      },
      {
        "duration": 38,
        "start_time": "2023-02-26T15:40:50.033Z"
      },
      {
        "duration": 497,
        "start_time": "2023-02-26T15:40:50.075Z"
      },
      {
        "duration": 38144,
        "start_time": "2023-02-26T15:40:50.578Z"
      },
      {
        "duration": 3649,
        "start_time": "2023-02-26T15:41:28.724Z"
      },
      {
        "duration": 23,
        "start_time": "2023-02-26T15:41:32.448Z"
      },
      {
        "duration": 243,
        "start_time": "2023-02-26T15:41:32.475Z"
      },
      {
        "duration": 30,
        "start_time": "2023-02-26T15:41:32.720Z"
      },
      {
        "duration": 254,
        "start_time": "2023-02-26T15:41:32.754Z"
      },
      {
        "duration": 17235,
        "start_time": "2023-02-26T15:41:33.010Z"
      },
      {
        "duration": 2211,
        "start_time": "2023-02-26T15:41:50.253Z"
      },
      {
        "duration": 20,
        "start_time": "2023-02-26T15:41:52.469Z"
      },
      {
        "duration": 260,
        "start_time": "2023-02-26T15:41:52.551Z"
      },
      {
        "duration": 64,
        "start_time": "2023-02-26T15:41:52.813Z"
      }
    ],
    "kernelspec": {
      "display_name": "Python 3 (ipykernel)",
      "language": "python",
      "name": "python3"
    },
    "language_info": {
      "codemirror_mode": {
        "name": "ipython",
        "version": 3
      },
      "file_extension": ".py",
      "mimetype": "text/x-python",
      "name": "python",
      "nbconvert_exporter": "python",
      "pygments_lexer": "ipython3",
      "version": "3.9.5"
    },
    "toc": {
      "base_numbering": 1,
      "nav_menu": {},
      "number_sections": true,
      "sideBar": true,
      "skip_h1_title": true,
      "title_cell": "Содержание",
      "title_sidebar": "Contents",
      "toc_cell": true,
      "toc_position": {
        "height": "calc(100% - 180px)",
        "left": "10px",
        "top": "150px",
        "width": "277px"
      },
      "toc_section_display": true,
      "toc_window_display": true
    },
    "colab": {
      "provenance": [],
      "include_colab_link": true
    }
  },
  "nbformat": 4,
  "nbformat_minor": 0
}

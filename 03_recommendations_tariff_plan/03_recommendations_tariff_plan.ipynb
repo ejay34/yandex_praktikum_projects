{
  "cells": [
    {
      "cell_type": "markdown",
      "metadata": {
        "id": "view-in-github",
        "colab_type": "text"
      },
      "source": [
        "<a href=\"https://colab.research.google.com/github/ejay34/yandex_praktikum_projects/blob/main/03.%20%D0%A0%D0%B5%D0%BA%D0%BE%D0%BC%D0%B5%D0%BD%D0%B4%D0%B0%D1%86%D0%B8%D1%8F%20%D1%82%D0%B0%D1%80%D0%B8%D1%84%D0%BD%D0%BE%D0%B3%D0%BE%20%D0%BF%D0%BB%D0%B0%D0%BD%D0%B0.ipynb\" target=\"_parent\"><img src=\"https://colab.research.google.com/assets/colab-badge.svg\" alt=\"Open In Colab\"/></a>"
      ]
    },
    {
      "cell_type": "markdown",
      "metadata": {
        "id": "anfd984-xOiY"
      },
      "source": [
        "<a id='section_0'></a>\n",
        "# Рекомендация тарифов"
      ]
    },
    {
      "cell_type": "markdown",
      "source": [
        "Коммерческий департамент федерального оператора связи «Мегалайн» хочет понять, какой из двух тарифов - «Смарт» или «Ультра» - приносит больше денег.\n",
        "\n",
        "В распоряжении - данные 500 пользователей компании: кто они, откуда, каким тарифом пользуются, сколько звонков и сообщений каждый отправил за 2018-й год.\n",
        "\n",
        "Описание тарифов:\n",
        "\n",
        "|                      | «Смарт»    |  «Ультра» |\n",
        "|----------------------|------------|-----------|\n",
        "|Ежемесячная плата     | 550 руб.   | 1950 руб. |\n",
        "|Минут разговора       | 500 мин    | 3000 мин  |\n",
        "|Сообщений             | 50         | 1000      |\n",
        "|Интернет-трафик       | 15 Гб      | 30 Гб     |\n",
        "|Стоимость услуг сверх тарифного пакета:        |\n",
        "|Минута разговора*     | 3 руб.     | 1 руб.    |\n",
        "|Сообщение             | 3 руб.     | 1 руб.    |\n",
        "|1 Гб интернет-трафика*| 200 руб.   | 150 руб.  |\n",
        "\n",
        "*Количество использованных минут и мегабайтов «Мегалайн» всегда округляет вверх. Если пользователь проговорил всего 1 секунду, в тарифе засчитывается целая минута.\n",
        "\n",
        "*Цель исследования:* провести предварительный анализ тарифов на небольшой выборке клиентов и сделать вывод — какой тариф выгоднее.\n",
        "\n",
        "*Этапы исследования:*\n",
        "\n",
        "1. Чтение данных из предоставленного файла.\n",
        "2. Подготовка данных\n",
        "3. Построение моделей машинного обучения и оценка их качества:\n",
        "  - RandomForest\n",
        "  - LogisticRegression\n",
        "  - DessisionTree\n",
        "4. Проверка лучшей модели на тестовой выборке\n",
        "5. Сравнение модели с константной\n",
        "6. Итоговый вывод"
      ],
      "metadata": {
        "id": "y_dlG4Rm9_mC"
      }
    },
    {
      "cell_type": "markdown",
      "source": [
        "<h1>Содержание<span class=\"tocSkip\"></span></h1>\n",
        "<div class=\"toc\"><ul class=\"toc-item\"><li><span><a href=\"#Откроем-и-изучим-файл\" data-toc-modified-id=\"Откроем-и-изучим-файл-1\"><span class=\"toc-item-num\">1&nbsp;&nbsp;</span>Откроем и изучим файл</a></span></li><li><span><a href=\"#Разделение-данных-на-выборки\" data-toc-modified-id=\"Разделение-данных-на-выборки-2\"><span class=\"toc-item-num\">2&nbsp;&nbsp;</span>Разделение данных на выборки</a></span></li><li><span><a href=\"#Исследование-моделей\" data-toc-modified-id=\"Исследование-моделей-3\"><span class=\"toc-item-num\">3&nbsp;&nbsp;</span>Исследование моделей</a></span></li><li><span><a href=\"#Проверьте-модель-на-тестовой-выборке\" data-toc-modified-id=\"Проверьте-модель-на-тестовой-выборке-4\"><span class=\"toc-item-num\">4&nbsp;&nbsp;</span>Проверьте модель на тестовой выборке</a></span></li><li><span><a href=\"#(бонус)-Проверьте-модели-на-адекватность\" data-toc-modified-id=\"(бонус)-Проверьте-модели-на-адекватность-5\"><span class=\"toc-item-num\">5&nbsp;&nbsp;</span>(бонус) Проверьте модели на адекватность</a></span></li><li><span><a href=\"#Общий-вывод\" data-toc-modified-id=\"Общий-вывод-6\"><span class=\"toc-item-num\">6&nbsp;&nbsp;</span>Общий вывод</a></span></li></ul></div>"
      ],
      "metadata": {
        "id": "zTqLw_nDKvUr"
      }
    },
    {
      "cell_type": "markdown",
      "metadata": {
        "id": "uc6DhUHHxOiZ"
      },
      "source": [
        "## Откроем и изучим файл"
      ]
    },
    {
      "cell_type": "code",
      "execution_count": null,
      "metadata": {
        "id": "u0Ew4iWlxOiZ"
      },
      "outputs": [],
      "source": [
        "# Импортируем необходимые библиотеки\n",
        "import pandas as pd\n",
        "\n",
        "from sklearn.model_selection import train_test_split, GridSearchCV\n",
        "\n",
        "from sklearn.preprocessing import StandardScaler\n",
        "\n",
        "from sklearn.metrics import (mean_squared_error,\n",
        "                             accuracy_score,\n",
        "                             precision_score,\n",
        "                             make_scorer)\n",
        "\n",
        "from sklearn.tree import DecisionTreeClassifier\n",
        "from sklearn.ensemble import RandomForestClassifier\n",
        "from sklearn.linear_model import LogisticRegression\n",
        "from sklearn.dummy import DummyClassifier\n",
        "\n",
        "STATE = 1234\n",
        "\n",
        "pd.options.mode.chained_assignment = None"
      ]
    },
    {
      "cell_type": "code",
      "source": [
        "# Откроем файл с данными\n",
        "try:\n",
        "    df = pd.read_csv('/datasets/users_behavior.csv')\n",
        "except:\n",
        "    df = pd.read_csv('https://code.s3.yandex.net/datasets/users_behavior.csv')"
      ],
      "metadata": {
        "id": "gntyJEYQz9cO"
      },
      "execution_count": null,
      "outputs": []
    },
    {
      "cell_type": "code",
      "execution_count": null,
      "metadata": {
        "colab": {
          "base_uri": "https://localhost:8080/",
          "height": 445
        },
        "id": "PmJ8dgGexOic",
        "outputId": "f084667a-0247-4ec2-851f-7eb9733be753"
      },
      "outputs": [
        {
          "output_type": "stream",
          "name": "stdout",
          "text": [
            "Размерность исходных данных: строк - 3214, столбцов - 5\n"
          ]
        },
        {
          "output_type": "display_data",
          "data": {
            "text/plain": [
              "   calls  minutes  messages   mb_used  is_ultra\n",
              "0   40.0   311.90      83.0  19915.42         0\n",
              "1   85.0   516.75      56.0  22696.96         0\n",
              "2   77.0   467.66      86.0  21060.45         0\n",
              "3  106.0   745.53      81.0   8437.39         1\n",
              "4   66.0   418.74       1.0  14502.75         0"
            ],
            "text/html": [
              "\n",
              "  <div id=\"df-360a17da-f52c-45c7-b245-be2984766ed3\">\n",
              "    <div class=\"colab-df-container\">\n",
              "      <div>\n",
              "<style scoped>\n",
              "    .dataframe tbody tr th:only-of-type {\n",
              "        vertical-align: middle;\n",
              "    }\n",
              "\n",
              "    .dataframe tbody tr th {\n",
              "        vertical-align: top;\n",
              "    }\n",
              "\n",
              "    .dataframe thead th {\n",
              "        text-align: right;\n",
              "    }\n",
              "</style>\n",
              "<table border=\"1\" class=\"dataframe\">\n",
              "  <thead>\n",
              "    <tr style=\"text-align: right;\">\n",
              "      <th></th>\n",
              "      <th>calls</th>\n",
              "      <th>minutes</th>\n",
              "      <th>messages</th>\n",
              "      <th>mb_used</th>\n",
              "      <th>is_ultra</th>\n",
              "    </tr>\n",
              "  </thead>\n",
              "  <tbody>\n",
              "    <tr>\n",
              "      <th>0</th>\n",
              "      <td>40.0</td>\n",
              "      <td>311.90</td>\n",
              "      <td>83.0</td>\n",
              "      <td>19915.42</td>\n",
              "      <td>0</td>\n",
              "    </tr>\n",
              "    <tr>\n",
              "      <th>1</th>\n",
              "      <td>85.0</td>\n",
              "      <td>516.75</td>\n",
              "      <td>56.0</td>\n",
              "      <td>22696.96</td>\n",
              "      <td>0</td>\n",
              "    </tr>\n",
              "    <tr>\n",
              "      <th>2</th>\n",
              "      <td>77.0</td>\n",
              "      <td>467.66</td>\n",
              "      <td>86.0</td>\n",
              "      <td>21060.45</td>\n",
              "      <td>0</td>\n",
              "    </tr>\n",
              "    <tr>\n",
              "      <th>3</th>\n",
              "      <td>106.0</td>\n",
              "      <td>745.53</td>\n",
              "      <td>81.0</td>\n",
              "      <td>8437.39</td>\n",
              "      <td>1</td>\n",
              "    </tr>\n",
              "    <tr>\n",
              "      <th>4</th>\n",
              "      <td>66.0</td>\n",
              "      <td>418.74</td>\n",
              "      <td>1.0</td>\n",
              "      <td>14502.75</td>\n",
              "      <td>0</td>\n",
              "    </tr>\n",
              "  </tbody>\n",
              "</table>\n",
              "</div>\n",
              "      <button class=\"colab-df-convert\" onclick=\"convertToInteractive('df-360a17da-f52c-45c7-b245-be2984766ed3')\"\n",
              "              title=\"Convert this dataframe to an interactive table.\"\n",
              "              style=\"display:none;\">\n",
              "        \n",
              "  <svg xmlns=\"http://www.w3.org/2000/svg\" height=\"24px\"viewBox=\"0 0 24 24\"\n",
              "       width=\"24px\">\n",
              "    <path d=\"M0 0h24v24H0V0z\" fill=\"none\"/>\n",
              "    <path d=\"M18.56 5.44l.94 2.06.94-2.06 2.06-.94-2.06-.94-.94-2.06-.94 2.06-2.06.94zm-11 1L8.5 8.5l.94-2.06 2.06-.94-2.06-.94L8.5 2.5l-.94 2.06-2.06.94zm10 10l.94 2.06.94-2.06 2.06-.94-2.06-.94-.94-2.06-.94 2.06-2.06.94z\"/><path d=\"M17.41 7.96l-1.37-1.37c-.4-.4-.92-.59-1.43-.59-.52 0-1.04.2-1.43.59L10.3 9.45l-7.72 7.72c-.78.78-.78 2.05 0 2.83L4 21.41c.39.39.9.59 1.41.59.51 0 1.02-.2 1.41-.59l7.78-7.78 2.81-2.81c.8-.78.8-2.07 0-2.86zM5.41 20L4 18.59l7.72-7.72 1.47 1.35L5.41 20z\"/>\n",
              "  </svg>\n",
              "      </button>\n",
              "      \n",
              "  <style>\n",
              "    .colab-df-container {\n",
              "      display:flex;\n",
              "      flex-wrap:wrap;\n",
              "      gap: 12px;\n",
              "    }\n",
              "\n",
              "    .colab-df-convert {\n",
              "      background-color: #E8F0FE;\n",
              "      border: none;\n",
              "      border-radius: 50%;\n",
              "      cursor: pointer;\n",
              "      display: none;\n",
              "      fill: #1967D2;\n",
              "      height: 32px;\n",
              "      padding: 0 0 0 0;\n",
              "      width: 32px;\n",
              "    }\n",
              "\n",
              "    .colab-df-convert:hover {\n",
              "      background-color: #E2EBFA;\n",
              "      box-shadow: 0px 1px 2px rgba(60, 64, 67, 0.3), 0px 1px 3px 1px rgba(60, 64, 67, 0.15);\n",
              "      fill: #174EA6;\n",
              "    }\n",
              "\n",
              "    [theme=dark] .colab-df-convert {\n",
              "      background-color: #3B4455;\n",
              "      fill: #D2E3FC;\n",
              "    }\n",
              "\n",
              "    [theme=dark] .colab-df-convert:hover {\n",
              "      background-color: #434B5C;\n",
              "      box-shadow: 0px 1px 3px 1px rgba(0, 0, 0, 0.15);\n",
              "      filter: drop-shadow(0px 1px 2px rgba(0, 0, 0, 0.3));\n",
              "      fill: #FFFFFF;\n",
              "    }\n",
              "  </style>\n",
              "\n",
              "      <script>\n",
              "        const buttonEl =\n",
              "          document.querySelector('#df-360a17da-f52c-45c7-b245-be2984766ed3 button.colab-df-convert');\n",
              "        buttonEl.style.display =\n",
              "          google.colab.kernel.accessAllowed ? 'block' : 'none';\n",
              "\n",
              "        async function convertToInteractive(key) {\n",
              "          const element = document.querySelector('#df-360a17da-f52c-45c7-b245-be2984766ed3');\n",
              "          const dataTable =\n",
              "            await google.colab.kernel.invokeFunction('convertToInteractive',\n",
              "                                                     [key], {});\n",
              "          if (!dataTable) return;\n",
              "\n",
              "          const docLinkHtml = 'Like what you see? Visit the ' +\n",
              "            '<a target=\"_blank\" href=https://colab.research.google.com/notebooks/data_table.ipynb>data table notebook</a>'\n",
              "            + ' to learn more about interactive tables.';\n",
              "          element.innerHTML = '';\n",
              "          dataTable['output_type'] = 'display_data';\n",
              "          await google.colab.output.renderOutput(dataTable, element);\n",
              "          const docLink = document.createElement('div');\n",
              "          docLink.innerHTML = docLinkHtml;\n",
              "          element.appendChild(docLink);\n",
              "        }\n",
              "      </script>\n",
              "    </div>\n",
              "  </div>\n",
              "  "
            ]
          },
          "metadata": {}
        },
        {
          "output_type": "stream",
          "name": "stdout",
          "text": [
            "<class 'pandas.core.frame.DataFrame'>\n",
            "RangeIndex: 3214 entries, 0 to 3213\n",
            "Data columns (total 5 columns):\n",
            " #   Column    Non-Null Count  Dtype  \n",
            "---  ------    --------------  -----  \n",
            " 0   calls     3214 non-null   float64\n",
            " 1   minutes   3214 non-null   float64\n",
            " 2   messages  3214 non-null   float64\n",
            " 3   mb_used   3214 non-null   float64\n",
            " 4   is_ultra  3214 non-null   int64  \n",
            "dtypes: float64(4), int64(1)\n",
            "memory usage: 125.7 KB\n"
          ]
        }
      ],
      "source": [
        "# Выведем информацию и датасете\n",
        "print(f'Размерность исходных данных: строк - {df.shape[0]}, столбцов - {df.shape[1]}')\n",
        "display(df.head())\n",
        "df.info()"
      ]
    },
    {
      "cell_type": "code",
      "execution_count": null,
      "metadata": {
        "colab": {
          "base_uri": "https://localhost:8080/"
        },
        "id": "UHgoCbvQxOid",
        "outputId": "f91d57c8-4766-4d1c-e0c1-04ca6f658b0c"
      },
      "outputs": [
        {
          "output_type": "execute_result",
          "data": {
            "text/plain": [
              "0"
            ]
          },
          "metadata": {},
          "execution_count": 4
        }
      ],
      "source": [
        "# Посмотрим наличие явных дубликатов\n",
        "df.duplicated().sum()"
      ]
    },
    {
      "cell_type": "markdown",
      "metadata": {
        "id": "MjQeJpyUxOie"
      },
      "source": [
        "В данных не содержится пропусков и дубликатов. Данные чистые и готовы к исследованию"
      ]
    },
    {
      "cell_type": "markdown",
      "metadata": {
        "id": "VDw9hbzdxOie"
      },
      "source": [
        "<a id='section_2'></a>\n",
        "## Разделение данных на выборки"
      ]
    },
    {
      "cell_type": "code",
      "execution_count": null,
      "metadata": {
        "colab": {
          "base_uri": "https://localhost:8080/"
        },
        "id": "LW4A7mR5xOif",
        "outputId": "adbda75b-d955-4085-8d80-8402c40065d9"
      },
      "outputs": [
        {
          "output_type": "stream",
          "name": "stdout",
          "text": [
            "Количество строк в обучающей выборке: 2410, или 75.0% от исходных данных\n",
            "Количество строк в обучающей выборке: 804, или 25.0% от исходных данных\n"
          ]
        }
      ],
      "source": [
        "# Определяем выборку с признаками и целевой признак\n",
        "X = df.drop('is_ultra', axis=1)\n",
        "y = df['is_ultra']\n",
        "\n",
        "# Разделяем исходные данные на обучающую и тестовую выборки в соотношении 75:25\n",
        "X_train, X_test, y_train, y_test = train_test_split(\n",
        "    X,\n",
        "    y,\n",
        "    test_size=0.25,\n",
        "    stratify=y,\n",
        "    random_state=STATE)\n",
        "\n",
        "print(f'Количество строк в обучающей выборке: {X_train.shape[0]}, или {(len(X_train) / len(df)):.1%} от исходных данных')\n",
        "print(f'Количество строк в обучающей выборке: {X_test.shape[0]}, или {(len(X_test) / len(df)):.1%} от исходных данных')"
      ]
    },
    {
      "cell_type": "markdown",
      "metadata": {
        "id": "2SYCeDngxOih"
      },
      "source": [
        "<a id='section_3'></a>\n",
        "## Исследование моделей"
      ]
    },
    {
      "cell_type": "markdown",
      "metadata": {
        "id": "YMS4kFQVxOih"
      },
      "source": [
        "**Построим прогноз с помощью модели RandomForestClassifier**"
      ]
    },
    {
      "cell_type": "code",
      "source": [
        "rfr = RandomForestClassifier(random_state=STATE)\n",
        "\n",
        "rfr_params={'max_depth': range(1, 11),\n",
        "            'n_estimators': range(1, 11)}\n",
        "\n",
        "grid_rfr = GridSearchCV(rfr,\n",
        "                        rfr_params,\n",
        "                        cv=3,\n",
        "                        scoring=make_scorer(accuracy_score,\n",
        "                                            greater_is_better=True))\n",
        "\n",
        "grid_rfr.fit(X_train, y_train)\n",
        "\n",
        "print(grid_rfr.best_params_)\n",
        "\n",
        "model_rfr = grid_rfr.best_estimator_\n",
        "model_rfr.fit(X_train, y_train)\n",
        "\n",
        "predicted_rfr = model_rfr.predict(X_train)\n",
        "\n",
        "print('Accuracy для модели RandomForestRegressor =', round(grid_rfr.best_score_, 3))"
      ],
      "metadata": {
        "colab": {
          "base_uri": "https://localhost:8080/"
        },
        "id": "ZTgftddJ30r8",
        "outputId": "919860f4-77b6-45ca-956b-760f3e6a3a50"
      },
      "execution_count": null,
      "outputs": [
        {
          "output_type": "stream",
          "name": "stdout",
          "text": [
            "{'max_depth': 7, 'n_estimators': 9}\n",
            "Accuracy для модели RandomForestRegressor = 0.807\n"
          ]
        }
      ]
    },
    {
      "cell_type": "markdown",
      "metadata": {
        "id": "VU_dh5U2xOii"
      },
      "source": [
        "**Построим прогноз с помощью модели LogisticRegression**"
      ]
    },
    {
      "cell_type": "code",
      "execution_count": null,
      "metadata": {
        "colab": {
          "base_uri": "https://localhost:8080/"
        },
        "id": "d5FAR_7uxOii",
        "outputId": "55d90f87-0fe8-41a0-f144-aab5dd3aa84b"
      },
      "outputs": [
        {
          "output_type": "stream",
          "name": "stdout",
          "text": [
            "{'max_iter': 400}\n",
            "Accuracy для модели LogisticRegression = 0.734\n"
          ]
        }
      ],
      "source": [
        "lr = LogisticRegression(random_state=STATE)\n",
        "\n",
        "lr_params={'max_iter': range(400, 901, 100)}\n",
        "\n",
        "grid_lr = GridSearchCV(lr,\n",
        "                       lr_params,\n",
        "                       cv=3,\n",
        "                       scoring=make_scorer(accuracy_score,\n",
        "                       greater_is_better=True))\n",
        "\n",
        "grid_lr.fit(X_train, y_train)\n",
        "\n",
        "print(grid_lr.best_params_)\n",
        "\n",
        "model_lr = grid_lr.best_estimator_\n",
        "model_lr.fit(X_train, y_train)\n",
        "\n",
        "predicted_lr = model_lr.predict(X_train)\n",
        "\n",
        "print('Accuracy для модели LogisticRegression =', round(grid_lr.best_score_, 3))"
      ]
    },
    {
      "cell_type": "markdown",
      "metadata": {
        "id": "9gBBFa4txOij"
      },
      "source": [
        "**Построим прогноз с помощью модели \"дерево решений\"**"
      ]
    },
    {
      "cell_type": "code",
      "source": [
        "dt = DecisionTreeClassifier(random_state=STATE,\n",
        "                            criterion='gini')\n",
        "\n",
        "dt_params={'max_depth': range(1, 11)}\n",
        "\n",
        "grid_dt = GridSearchCV(dt,\n",
        "                       dt_params,\n",
        "                       cv=3,\n",
        "                       scoring=make_scorer(accuracy_score,\n",
        "                                           greater_is_better=True))\n",
        "\n",
        "grid_dt.fit(X_train, y_train)\n",
        "\n",
        "print(grid_dt.best_params_)\n",
        "\n",
        "model_dt = grid_dt.best_estimator_\n",
        "model_dt.fit(X_train, y_train)\n",
        "\n",
        "predicted_dt = model_dt.predict(X_train)\n",
        "\n",
        "print('Accuracy для модели DecisionTreeClassifier =', round(grid_dt.best_score_, 3))"
      ],
      "metadata": {
        "colab": {
          "base_uri": "https://localhost:8080/"
        },
        "id": "ex94ob4b42eT",
        "outputId": "d6a3383d-6b10-4c45-f368-0b0cfde723d6"
      },
      "execution_count": null,
      "outputs": [
        {
          "output_type": "stream",
          "name": "stdout",
          "text": [
            "{'max_depth': 3}\n",
            "Accuracy для модели DecisionTreeClassifier = 0.793\n"
          ]
        }
      ]
    },
    {
      "cell_type": "markdown",
      "metadata": {
        "id": "ugqjrqOMxOik"
      },
      "source": [
        "**Промежуточный вывод:** Проведя исследования качества разных моделей получили следующие результаты:\n",
        "\n",
        "- Наилучший результат показала модель, обученная алгоритмом \"Случайный лес\". Accuracy лучшей модели: 0.807\n",
        "- Немного ниже результат у модели, обученной алгоритмом \"Дерево решений\". Accuracy лучшей модели: 0.734\n",
        "- Значительно отстает модель, обученная по алгоритму \"Логистическая регрессия\". Accuracy модели: 0.793"
      ]
    },
    {
      "cell_type": "markdown",
      "metadata": {
        "id": "bkPk7wZOxOik"
      },
      "source": [
        "<a id='section_4'></a>\n",
        "## Проверка модели на тестовой выборке"
      ]
    },
    {
      "cell_type": "code",
      "execution_count": null,
      "metadata": {
        "colab": {
          "base_uri": "https://localhost:8080/"
        },
        "id": "7Z9tuizyxOil",
        "outputId": "e4bce698-c92a-4add-d911-dcc4ca726ae6"
      },
      "outputs": [
        {
          "output_type": "stream",
          "name": "stdout",
          "text": [
            "Accuracy на тестовой выборке: 0.8\n"
          ]
        }
      ],
      "source": [
        "# Построим новую модель по выбранным гиперпараметрам\n",
        "model = RandomForestClassifier(\n",
        "            random_state=STATE,\n",
        "            n_estimators=9,\n",
        "            max_depth = 7)\n",
        "\n",
        "# Обучим модель на новой \"большой\" выборке\n",
        "model.fit(X_train, y_train)\n",
        "\n",
        "# Проверим модель на тестовой выборке\n",
        "predications_test = model.predict(X_test)\n",
        "test_result = accuracy_score(y_test, predications_test)\n",
        "print(f'Accuracy на тестовой выборке: {round(test_result, 3)}')"
      ]
    },
    {
      "cell_type": "markdown",
      "metadata": {
        "id": "MgVJm1pCxOim"
      },
      "source": [
        "**Промежуточный вывод:** Accuracy, полученное на тестовой выборке с помощью модели, обученной по алгоритму \"Случайный лес\" равна 0.8055987558320373. Это хороший результат, если учитывать, что в задании требовалось довести показатель до уровня 0.75. Наш результат означает, что модель может предсказать правильный результат, примерно, в 80.6% случаев"
      ]
    },
    {
      "cell_type": "markdown",
      "metadata": {
        "id": "8Q7ax1w2xOir"
      },
      "source": [
        "<a id='section_5'></a>\n",
        "## Проверка модели на адекватность"
      ]
    },
    {
      "cell_type": "code",
      "execution_count": null,
      "metadata": {
        "colab": {
          "base_uri": "https://localhost:8080/"
        },
        "id": "umi6aVH4xOis",
        "outputId": "70fbb66d-bc55-4438-e2fa-9cdf1169ac3e"
      },
      "outputs": [
        {
          "output_type": "stream",
          "name": "stdout",
          "text": [
            "Accuracy равен: 0.694\n"
          ]
        }
      ],
      "source": [
        "# Проверим модель на адекватность\n",
        "model_dummy = DummyClassifier(random_state=STATE, strategy='most_frequent')\n",
        "model_dummy.fit(X_train, y_train)\n",
        "result_dummy = model_dummy.score(X_test, y_test)\n",
        "print(f'Accuracy равен: {round(result_dummy, 3)}')"
      ]
    },
    {
      "cell_type": "markdown",
      "metadata": {
        "id": "ttt6XtHNxOis"
      },
      "source": [
        "**Промежуточный вывод:** Accuracy, полученная моделью, обученной по алгоритму \"Случайный лес\" значительно выше, чем у модели алгоритма DummyClassifier. Таким образом, можно утверждать о вменяемости выбранного нами алгоритма.\n",
        "\n",
        "\n",
        "Алгоритм DummyClassifier с параметром `strategy='most_frequent'` всегда возвращает наиболее часто используемую метку класса в наблюдаемом аргументе."
      ]
    },
    {
      "cell_type": "markdown",
      "metadata": {
        "id": "mFyTxtZaxOit"
      },
      "source": [
        "<a id='section_7'></a>\n",
        "## Общий вывод\n",
        "\n",
        "В данном проекте мы построили модель, на основе имеющихся данных о поведении клиентов, которые уже перешли на тарифы \"Ультра\" и \"Смарт\", которая выберет подходящий тариф для пользователей, использующих архивные тарифы.\n",
        "\n",
        "1. В первой части работы мы произвели чтение данных из предоставленного файла и оценили качество полученных данных.\n",
        "2. Во второй части, разделили исходные данные на обучающую и тестовую выборки в пропорции 75:25.\n",
        "3. В третьей части мы построли три модели и обучили их на разных алгоритмах:\n",
        "    - Построили прогноз с помощью модели \"случайный лес\". С помощью цикла подобрали оптимальные гиперпараметры глубины дерева и количества деревьев. При этом, метрика качества accuracy, для данной модели, составила 0.807\n",
        "    - Построили прогноз с помощью модели \"логистическая регрессия\". Метрика accuracy, для данной модели, составила 0.734.\n",
        "    - Построили прогноз с помощью модели \"дерево решений\". При помощи цикла, подобрали оптимальное значение глубины дерева, при котором метрика accuracy выдала самое большое значение 0.793, что оказалось немногим меньше значения, полученного моделью \"случайный лес\"\n",
        "4. В четвертой части исследования мы произвели проверку качества выбранной модели \"Случайный лес\" на тестовой выборке и получили внушительный показатель accuracy, равный 0.800. Полученный показатель означает, что наша модель способна предсказать верный ответ в 80%.\n",
        "5. В пятой части проверили нашу модель на вменяемость. Здесь мы сравнили значения accuracy, полученные нашей моделью и моделью, обученную алгоритмом DummyClassifier. Этот алгоритм, с параметром strategy='most_frequent' всегда возвращает наиболее часто используемую метку класса в наблюдаемом аргументе, то есть, приближен к модели, дающую случайные ответы."
      ]
    }
  ],
  "metadata": {
    "ExecuteTimeLog": [
      {
        "duration": 394,
        "start_time": "2023-02-03T09:21:12.249Z"
      },
      {
        "duration": 72,
        "start_time": "2023-02-03T09:21:35.518Z"
      },
      {
        "duration": 67,
        "start_time": "2023-02-03T09:21:42.169Z"
      },
      {
        "duration": 64,
        "start_time": "2023-02-03T09:22:01.803Z"
      },
      {
        "duration": 38,
        "start_time": "2023-02-03T09:22:10.735Z"
      },
      {
        "duration": 47,
        "start_time": "2023-02-03T09:25:14.996Z"
      },
      {
        "duration": 87,
        "start_time": "2023-02-03T09:28:33.943Z"
      },
      {
        "duration": 32,
        "start_time": "2023-02-03T09:29:19.585Z"
      },
      {
        "duration": 33,
        "start_time": "2023-02-03T09:29:33.839Z"
      },
      {
        "duration": 50,
        "start_time": "2023-02-03T09:33:50.337Z"
      },
      {
        "duration": 8,
        "start_time": "2023-02-03T09:41:05.018Z"
      },
      {
        "duration": 2333,
        "start_time": "2023-02-03T09:41:43.686Z"
      },
      {
        "duration": 11,
        "start_time": "2023-02-03T09:41:51.156Z"
      },
      {
        "duration": 1057,
        "start_time": "2023-02-03T09:42:12.998Z"
      },
      {
        "duration": 49,
        "start_time": "2023-02-03T09:42:14.057Z"
      },
      {
        "duration": 76,
        "start_time": "2023-02-03T09:42:14.107Z"
      },
      {
        "duration": 91,
        "start_time": "2023-02-03T09:42:48.339Z"
      },
      {
        "duration": 8,
        "start_time": "2023-02-03T09:45:23.497Z"
      },
      {
        "duration": 40,
        "start_time": "2023-02-03T10:01:25.646Z"
      },
      {
        "duration": 22,
        "start_time": "2023-02-03T12:28:58.663Z"
      },
      {
        "duration": 1126,
        "start_time": "2023-02-03T12:29:36.209Z"
      },
      {
        "duration": 51,
        "start_time": "2023-02-03T12:29:37.337Z"
      },
      {
        "duration": 8,
        "start_time": "2023-02-03T12:29:37.389Z"
      },
      {
        "duration": 121,
        "start_time": "2023-02-03T12:29:37.399Z"
      },
      {
        "duration": 1163,
        "start_time": "2023-02-03T15:57:57.786Z"
      },
      {
        "duration": 107,
        "start_time": "2023-02-03T15:57:58.951Z"
      },
      {
        "duration": 9,
        "start_time": "2023-02-03T15:57:59.060Z"
      },
      {
        "duration": 124,
        "start_time": "2023-02-03T15:57:59.071Z"
      },
      {
        "duration": 88,
        "start_time": "2023-02-03T15:59:00.742Z"
      },
      {
        "duration": 95,
        "start_time": "2023-02-03T15:59:20.885Z"
      },
      {
        "duration": 3,
        "start_time": "2023-02-03T15:59:42.364Z"
      },
      {
        "duration": 1212,
        "start_time": "2023-02-03T15:59:53.627Z"
      },
      {
        "duration": 52,
        "start_time": "2023-02-03T15:59:54.842Z"
      },
      {
        "duration": 7,
        "start_time": "2023-02-03T15:59:54.896Z"
      },
      {
        "duration": 143,
        "start_time": "2023-02-03T15:59:54.907Z"
      },
      {
        "duration": 1293,
        "start_time": "2023-02-03T16:01:18.173Z"
      },
      {
        "duration": 0,
        "start_time": "2023-02-03T16:01:19.468Z"
      },
      {
        "duration": 0,
        "start_time": "2023-02-03T16:01:19.469Z"
      },
      {
        "duration": 0,
        "start_time": "2023-02-03T16:01:19.470Z"
      },
      {
        "duration": 4,
        "start_time": "2023-02-03T16:02:17.252Z"
      },
      {
        "duration": 1161,
        "start_time": "2023-02-03T16:02:25.325Z"
      },
      {
        "duration": 63,
        "start_time": "2023-02-03T16:02:26.488Z"
      },
      {
        "duration": 8,
        "start_time": "2023-02-03T16:02:26.553Z"
      },
      {
        "duration": 138,
        "start_time": "2023-02-03T16:02:26.564Z"
      },
      {
        "duration": 23,
        "start_time": "2023-02-03T16:02:54.718Z"
      },
      {
        "duration": 9,
        "start_time": "2023-02-03T16:04:22.286Z"
      },
      {
        "duration": 14,
        "start_time": "2023-02-03T16:04:24.855Z"
      },
      {
        "duration": 36,
        "start_time": "2023-02-03T16:04:33.806Z"
      },
      {
        "duration": 32,
        "start_time": "2023-02-03T16:08:17.980Z"
      },
      {
        "duration": 30,
        "start_time": "2023-02-03T16:16:12.157Z"
      },
      {
        "duration": 87,
        "start_time": "2023-02-03T16:17:13.497Z"
      },
      {
        "duration": 66,
        "start_time": "2023-02-03T16:17:56.600Z"
      },
      {
        "duration": 12,
        "start_time": "2023-02-03T16:18:30.077Z"
      },
      {
        "duration": 35,
        "start_time": "2023-02-03T16:18:49.134Z"
      },
      {
        "duration": 29,
        "start_time": "2023-02-03T16:21:10.149Z"
      },
      {
        "duration": 33,
        "start_time": "2023-02-03T16:21:31.469Z"
      },
      {
        "duration": 1172,
        "start_time": "2023-02-03T16:21:38.976Z"
      },
      {
        "duration": 51,
        "start_time": "2023-02-03T16:21:40.150Z"
      },
      {
        "duration": 8,
        "start_time": "2023-02-03T16:21:40.203Z"
      },
      {
        "duration": 143,
        "start_time": "2023-02-03T16:21:40.213Z"
      },
      {
        "duration": 33,
        "start_time": "2023-02-03T16:26:08.320Z"
      },
      {
        "duration": 62,
        "start_time": "2023-02-03T16:26:22.678Z"
      },
      {
        "duration": 1053,
        "start_time": "2023-02-03T16:33:04.462Z"
      },
      {
        "duration": 49,
        "start_time": "2023-02-03T16:33:05.516Z"
      },
      {
        "duration": 8,
        "start_time": "2023-02-03T16:33:05.567Z"
      },
      {
        "duration": 133,
        "start_time": "2023-02-03T16:33:05.576Z"
      },
      {
        "duration": 59,
        "start_time": "2023-02-03T16:36:03.280Z"
      },
      {
        "duration": 63,
        "start_time": "2023-02-03T16:38:17.602Z"
      },
      {
        "duration": 63,
        "start_time": "2023-02-03T16:38:50.530Z"
      },
      {
        "duration": 60,
        "start_time": "2023-02-03T16:39:10.190Z"
      },
      {
        "duration": 77,
        "start_time": "2023-02-03T16:39:19.942Z"
      },
      {
        "duration": 32,
        "start_time": "2023-02-03T16:39:30.335Z"
      },
      {
        "duration": 7,
        "start_time": "2023-02-03T16:47:08.601Z"
      },
      {
        "duration": 12,
        "start_time": "2023-02-03T16:52:07.577Z"
      },
      {
        "duration": 5,
        "start_time": "2023-02-03T16:53:32.894Z"
      },
      {
        "duration": 1248,
        "start_time": "2023-02-03T16:53:44.796Z"
      },
      {
        "duration": 53,
        "start_time": "2023-02-03T16:53:46.046Z"
      },
      {
        "duration": 9,
        "start_time": "2023-02-03T16:53:46.100Z"
      },
      {
        "duration": 42,
        "start_time": "2023-02-03T16:53:46.111Z"
      },
      {
        "duration": 6,
        "start_time": "2023-02-03T16:53:46.155Z"
      },
      {
        "duration": 4,
        "start_time": "2023-02-03T16:53:46.163Z"
      },
      {
        "duration": 1234,
        "start_time": "2023-02-03T16:54:59.573Z"
      },
      {
        "duration": 65,
        "start_time": "2023-02-03T16:55:00.812Z"
      },
      {
        "duration": 8,
        "start_time": "2023-02-03T16:55:00.879Z"
      },
      {
        "duration": 95,
        "start_time": "2023-02-03T16:55:00.889Z"
      },
      {
        "duration": 7,
        "start_time": "2023-02-03T16:55:00.987Z"
      },
      {
        "duration": 21,
        "start_time": "2023-02-03T16:55:00.996Z"
      },
      {
        "duration": 8,
        "start_time": "2023-02-03T16:58:18.744Z"
      },
      {
        "duration": 1112,
        "start_time": "2023-02-03T16:59:28.275Z"
      },
      {
        "duration": 55,
        "start_time": "2023-02-03T16:59:29.389Z"
      },
      {
        "duration": 8,
        "start_time": "2023-02-03T16:59:29.445Z"
      },
      {
        "duration": 40,
        "start_time": "2023-02-03T16:59:29.455Z"
      },
      {
        "duration": 7,
        "start_time": "2023-02-03T16:59:29.498Z"
      },
      {
        "duration": 19,
        "start_time": "2023-02-03T16:59:29.507Z"
      },
      {
        "duration": 1156,
        "start_time": "2023-02-03T17:01:57.195Z"
      },
      {
        "duration": 54,
        "start_time": "2023-02-03T17:01:58.353Z"
      },
      {
        "duration": 11,
        "start_time": "2023-02-03T17:01:58.409Z"
      },
      {
        "duration": 45,
        "start_time": "2023-02-03T17:01:58.422Z"
      },
      {
        "duration": 6,
        "start_time": "2023-02-03T17:01:58.469Z"
      },
      {
        "duration": 7,
        "start_time": "2023-02-03T17:01:58.477Z"
      },
      {
        "duration": 1157,
        "start_time": "2023-02-03T17:04:26.107Z"
      },
      {
        "duration": 60,
        "start_time": "2023-02-03T17:04:27.267Z"
      },
      {
        "duration": 10,
        "start_time": "2023-02-03T17:04:27.330Z"
      },
      {
        "duration": 86,
        "start_time": "2023-02-03T17:04:27.343Z"
      },
      {
        "duration": 7,
        "start_time": "2023-02-03T17:04:27.431Z"
      },
      {
        "duration": 11,
        "start_time": "2023-02-03T17:04:27.439Z"
      },
      {
        "duration": 287,
        "start_time": "2023-02-03T17:06:57.181Z"
      },
      {
        "duration": 210,
        "start_time": "2023-02-03T17:12:04.126Z"
      },
      {
        "duration": 33,
        "start_time": "2023-02-03T17:14:01.256Z"
      },
      {
        "duration": 1196,
        "start_time": "2023-02-03T17:14:14.395Z"
      },
      {
        "duration": 60,
        "start_time": "2023-02-03T17:14:15.593Z"
      },
      {
        "duration": 8,
        "start_time": "2023-02-03T17:14:15.655Z"
      },
      {
        "duration": 43,
        "start_time": "2023-02-03T17:14:15.665Z"
      },
      {
        "duration": 7,
        "start_time": "2023-02-03T17:29:52.659Z"
      },
      {
        "duration": 1094,
        "start_time": "2023-02-03T17:38:07.911Z"
      },
      {
        "duration": 51,
        "start_time": "2023-02-03T17:38:09.007Z"
      },
      {
        "duration": 6,
        "start_time": "2023-02-03T17:38:09.060Z"
      },
      {
        "duration": 7,
        "start_time": "2023-02-03T17:38:09.067Z"
      },
      {
        "duration": 108,
        "start_time": "2023-02-03T17:38:09.076Z"
      },
      {
        "duration": 1140,
        "start_time": "2023-02-03T17:38:55.765Z"
      },
      {
        "duration": 54,
        "start_time": "2023-02-03T17:38:56.907Z"
      },
      {
        "duration": 7,
        "start_time": "2023-02-03T17:38:56.963Z"
      },
      {
        "duration": 12,
        "start_time": "2023-02-03T17:38:56.972Z"
      },
      {
        "duration": 107,
        "start_time": "2023-02-03T17:38:56.986Z"
      },
      {
        "duration": 15,
        "start_time": "2023-02-03T17:40:11.970Z"
      },
      {
        "duration": 36,
        "start_time": "2023-02-03T17:40:22.729Z"
      },
      {
        "duration": 31,
        "start_time": "2023-02-03T17:49:16.698Z"
      },
      {
        "duration": 32,
        "start_time": "2023-02-03T17:50:12.079Z"
      },
      {
        "duration": 37,
        "start_time": "2023-02-03T17:51:13.444Z"
      },
      {
        "duration": 11,
        "start_time": "2023-02-03T17:53:26.157Z"
      },
      {
        "duration": 1092,
        "start_time": "2023-02-03T17:53:42.025Z"
      },
      {
        "duration": 49,
        "start_time": "2023-02-03T17:53:43.119Z"
      },
      {
        "duration": 6,
        "start_time": "2023-02-03T17:53:43.169Z"
      },
      {
        "duration": 10,
        "start_time": "2023-02-03T17:53:43.177Z"
      },
      {
        "duration": 41,
        "start_time": "2023-02-03T17:53:43.189Z"
      },
      {
        "duration": 124,
        "start_time": "2023-02-03T17:53:43.231Z"
      },
      {
        "duration": 40,
        "start_time": "2023-02-03T17:55:43.801Z"
      },
      {
        "duration": 39,
        "start_time": "2023-02-03T17:56:35.925Z"
      },
      {
        "duration": 33,
        "start_time": "2023-02-03T17:56:51.317Z"
      },
      {
        "duration": 31,
        "start_time": "2023-02-03T17:57:57.008Z"
      },
      {
        "duration": 63,
        "start_time": "2023-02-03T17:58:04.953Z"
      },
      {
        "duration": 47,
        "start_time": "2023-02-03T17:58:16.289Z"
      },
      {
        "duration": 17,
        "start_time": "2023-02-03T17:58:36.913Z"
      },
      {
        "duration": 1152,
        "start_time": "2023-02-03T18:05:45.572Z"
      },
      {
        "duration": 51,
        "start_time": "2023-02-03T18:05:46.726Z"
      },
      {
        "duration": 6,
        "start_time": "2023-02-03T18:05:46.779Z"
      },
      {
        "duration": 9,
        "start_time": "2023-02-03T18:05:46.787Z"
      },
      {
        "duration": 47,
        "start_time": "2023-02-03T18:05:46.797Z"
      },
      {
        "duration": 109,
        "start_time": "2023-02-03T18:05:46.846Z"
      },
      {
        "duration": 1836,
        "start_time": "2023-02-03T18:06:07.226Z"
      },
      {
        "duration": 1816,
        "start_time": "2023-02-03T18:09:23.032Z"
      },
      {
        "duration": 1773,
        "start_time": "2023-02-03T18:09:57.430Z"
      },
      {
        "duration": 1118,
        "start_time": "2023-02-03T18:10:20.687Z"
      },
      {
        "duration": 51,
        "start_time": "2023-02-03T18:10:21.807Z"
      },
      {
        "duration": 6,
        "start_time": "2023-02-03T18:10:21.859Z"
      },
      {
        "duration": 11,
        "start_time": "2023-02-03T18:10:21.867Z"
      },
      {
        "duration": 41,
        "start_time": "2023-02-03T18:10:21.879Z"
      },
      {
        "duration": 1742,
        "start_time": "2023-02-03T18:10:21.922Z"
      },
      {
        "duration": 132,
        "start_time": "2023-02-03T18:18:08.110Z"
      },
      {
        "duration": 228,
        "start_time": "2023-02-03T18:18:42.039Z"
      },
      {
        "duration": 32,
        "start_time": "2023-02-03T18:19:56.954Z"
      },
      {
        "duration": 30,
        "start_time": "2023-02-03T18:21:07.745Z"
      },
      {
        "duration": 33,
        "start_time": "2023-02-03T18:21:45.909Z"
      },
      {
        "duration": 32,
        "start_time": "2023-02-03T18:21:54.453Z"
      },
      {
        "duration": 33,
        "start_time": "2023-02-03T18:22:02.092Z"
      },
      {
        "duration": 1125,
        "start_time": "2023-02-03T18:22:27.945Z"
      },
      {
        "duration": 49,
        "start_time": "2023-02-03T18:22:29.072Z"
      },
      {
        "duration": 6,
        "start_time": "2023-02-03T18:22:29.123Z"
      },
      {
        "duration": 12,
        "start_time": "2023-02-03T18:22:29.130Z"
      },
      {
        "duration": 1786,
        "start_time": "2023-02-03T18:22:29.144Z"
      },
      {
        "duration": 35,
        "start_time": "2023-02-03T18:22:30.932Z"
      },
      {
        "duration": 61,
        "start_time": "2023-02-03T18:22:30.968Z"
      },
      {
        "duration": 12,
        "start_time": "2023-02-03T18:35:04.211Z"
      },
      {
        "duration": 1297,
        "start_time": "2023-02-03T18:35:30.901Z"
      },
      {
        "duration": 52,
        "start_time": "2023-02-03T18:35:32.202Z"
      },
      {
        "duration": 7,
        "start_time": "2023-02-03T18:35:32.257Z"
      },
      {
        "duration": 13,
        "start_time": "2023-02-03T18:35:32.266Z"
      },
      {
        "duration": 1792,
        "start_time": "2023-02-03T18:35:32.281Z"
      },
      {
        "duration": 50,
        "start_time": "2023-02-03T18:35:34.075Z"
      },
      {
        "duration": 79,
        "start_time": "2023-02-03T18:35:34.128Z"
      },
      {
        "duration": 13,
        "start_time": "2023-02-03T18:35:34.209Z"
      },
      {
        "duration": 99,
        "start_time": "2023-02-03T18:41:36.641Z"
      },
      {
        "duration": 14,
        "start_time": "2023-02-03T19:07:34.172Z"
      },
      {
        "duration": 1125,
        "start_time": "2023-02-03T19:08:17.573Z"
      },
      {
        "duration": 60,
        "start_time": "2023-02-03T19:08:18.700Z"
      },
      {
        "duration": 10,
        "start_time": "2023-02-03T19:08:18.762Z"
      },
      {
        "duration": 8,
        "start_time": "2023-02-03T19:08:18.775Z"
      },
      {
        "duration": 1821,
        "start_time": "2023-02-03T19:08:18.802Z"
      },
      {
        "duration": 40,
        "start_time": "2023-02-03T19:08:20.625Z"
      },
      {
        "duration": 76,
        "start_time": "2023-02-03T19:08:20.667Z"
      },
      {
        "duration": 13,
        "start_time": "2023-02-03T19:08:20.744Z"
      },
      {
        "duration": 9,
        "start_time": "2023-02-03T19:08:20.760Z"
      },
      {
        "duration": 113,
        "start_time": "2023-02-03T19:09:42.720Z"
      },
      {
        "duration": 7,
        "start_time": "2023-02-03T19:09:52.130Z"
      },
      {
        "duration": 6,
        "start_time": "2023-02-03T19:11:28.358Z"
      },
      {
        "duration": 7,
        "start_time": "2023-02-03T19:13:51.618Z"
      },
      {
        "duration": 112,
        "start_time": "2023-02-03T19:22:55.621Z"
      },
      {
        "duration": 12,
        "start_time": "2023-02-03T19:23:05.787Z"
      },
      {
        "duration": 1206,
        "start_time": "2023-02-03T19:23:29.366Z"
      },
      {
        "duration": 50,
        "start_time": "2023-02-03T19:23:30.574Z"
      },
      {
        "duration": 6,
        "start_time": "2023-02-03T19:23:30.625Z"
      },
      {
        "duration": 34,
        "start_time": "2023-02-03T19:23:30.633Z"
      },
      {
        "duration": 1776,
        "start_time": "2023-02-03T19:23:30.669Z"
      },
      {
        "duration": 33,
        "start_time": "2023-02-03T19:23:32.447Z"
      },
      {
        "duration": 57,
        "start_time": "2023-02-03T19:23:32.482Z"
      },
      {
        "duration": 13,
        "start_time": "2023-02-03T19:23:32.541Z"
      },
      {
        "duration": 126,
        "start_time": "2023-02-03T19:23:32.556Z"
      },
      {
        "duration": 75,
        "start_time": "2023-02-03T19:27:06.600Z"
      },
      {
        "duration": 11,
        "start_time": "2023-02-03T19:27:28.741Z"
      },
      {
        "duration": 18,
        "start_time": "2023-02-03T19:28:39.318Z"
      },
      {
        "duration": 16,
        "start_time": "2023-02-03T19:28:51.482Z"
      },
      {
        "duration": 17,
        "start_time": "2023-02-03T19:28:56.849Z"
      },
      {
        "duration": 5,
        "start_time": "2023-02-03T19:29:47.873Z"
      },
      {
        "duration": 1111,
        "start_time": "2023-02-03T20:06:20.290Z"
      },
      {
        "duration": 52,
        "start_time": "2023-02-03T20:06:21.403Z"
      },
      {
        "duration": 6,
        "start_time": "2023-02-03T20:06:21.456Z"
      },
      {
        "duration": 7,
        "start_time": "2023-02-03T20:06:21.464Z"
      },
      {
        "duration": 1707,
        "start_time": "2023-02-03T20:06:21.472Z"
      },
      {
        "duration": 38,
        "start_time": "2023-02-03T20:06:23.181Z"
      },
      {
        "duration": 44,
        "start_time": "2023-02-03T20:06:23.220Z"
      },
      {
        "duration": 10,
        "start_time": "2023-02-03T20:06:23.266Z"
      },
      {
        "duration": 26,
        "start_time": "2023-02-03T20:06:23.277Z"
      },
      {
        "duration": 1068,
        "start_time": "2023-02-03T20:08:37.938Z"
      },
      {
        "duration": 50,
        "start_time": "2023-02-03T20:08:39.008Z"
      },
      {
        "duration": 7,
        "start_time": "2023-02-03T20:08:39.059Z"
      },
      {
        "duration": 7,
        "start_time": "2023-02-03T20:08:39.067Z"
      },
      {
        "duration": 1659,
        "start_time": "2023-02-03T20:08:39.076Z"
      },
      {
        "duration": 28,
        "start_time": "2023-02-03T20:08:40.737Z"
      },
      {
        "duration": 49,
        "start_time": "2023-02-03T20:08:40.766Z"
      },
      {
        "duration": 8,
        "start_time": "2023-02-03T20:08:40.817Z"
      },
      {
        "duration": 9,
        "start_time": "2023-02-03T20:08:40.826Z"
      },
      {
        "duration": 1708,
        "start_time": "2023-02-03T20:26:21.101Z"
      },
      {
        "duration": 49,
        "start_time": "2023-02-03T20:26:22.811Z"
      },
      {
        "duration": 7,
        "start_time": "2023-02-03T20:26:22.862Z"
      },
      {
        "duration": 10,
        "start_time": "2023-02-03T20:26:22.871Z"
      },
      {
        "duration": 1744,
        "start_time": "2023-02-03T20:26:22.883Z"
      },
      {
        "duration": 29,
        "start_time": "2023-02-03T20:26:24.628Z"
      },
      {
        "duration": 52,
        "start_time": "2023-02-03T20:26:24.659Z"
      },
      {
        "duration": 9,
        "start_time": "2023-02-03T20:26:24.713Z"
      },
      {
        "duration": 11,
        "start_time": "2023-02-03T20:26:24.724Z"
      },
      {
        "duration": 4,
        "start_time": "2023-02-03T20:27:54.808Z"
      },
      {
        "duration": 5,
        "start_time": "2023-02-03T20:28:01.157Z"
      },
      {
        "duration": 4,
        "start_time": "2023-02-03T20:28:12.079Z"
      },
      {
        "duration": 11,
        "start_time": "2023-02-03T20:40:46.706Z"
      },
      {
        "duration": 1061,
        "start_time": "2023-02-04T05:27:37.345Z"
      },
      {
        "duration": 85,
        "start_time": "2023-02-04T05:27:38.408Z"
      },
      {
        "duration": 5,
        "start_time": "2023-02-04T05:27:38.495Z"
      },
      {
        "duration": 12,
        "start_time": "2023-02-04T05:27:38.502Z"
      },
      {
        "duration": 1546,
        "start_time": "2023-02-04T05:27:38.516Z"
      },
      {
        "duration": 29,
        "start_time": "2023-02-04T05:27:40.064Z"
      },
      {
        "duration": 49,
        "start_time": "2023-02-04T05:27:40.094Z"
      },
      {
        "duration": 8,
        "start_time": "2023-02-04T05:27:40.144Z"
      },
      {
        "duration": 5,
        "start_time": "2023-02-04T05:27:40.154Z"
      },
      {
        "duration": 1089,
        "start_time": "2023-02-04T05:39:01.999Z"
      },
      {
        "duration": 51,
        "start_time": "2023-02-04T05:39:03.090Z"
      },
      {
        "duration": 7,
        "start_time": "2023-02-04T05:39:03.142Z"
      },
      {
        "duration": 76,
        "start_time": "2023-02-04T05:39:03.150Z"
      },
      {
        "duration": 0,
        "start_time": "2023-02-04T05:39:03.227Z"
      },
      {
        "duration": 0,
        "start_time": "2023-02-04T05:39:03.228Z"
      },
      {
        "duration": 0,
        "start_time": "2023-02-04T05:39:03.229Z"
      },
      {
        "duration": 0,
        "start_time": "2023-02-04T05:39:03.230Z"
      },
      {
        "duration": 0,
        "start_time": "2023-02-04T05:39:03.231Z"
      },
      {
        "duration": 1094,
        "start_time": "2023-02-04T05:39:26.509Z"
      },
      {
        "duration": 48,
        "start_time": "2023-02-04T05:39:27.605Z"
      },
      {
        "duration": 6,
        "start_time": "2023-02-04T05:39:27.655Z"
      },
      {
        "duration": 68,
        "start_time": "2023-02-04T05:39:27.663Z"
      },
      {
        "duration": 0,
        "start_time": "2023-02-04T05:39:27.733Z"
      },
      {
        "duration": 0,
        "start_time": "2023-02-04T05:39:27.734Z"
      },
      {
        "duration": 0,
        "start_time": "2023-02-04T05:39:27.735Z"
      },
      {
        "duration": 0,
        "start_time": "2023-02-04T05:39:27.736Z"
      },
      {
        "duration": 0,
        "start_time": "2023-02-04T05:39:27.737Z"
      },
      {
        "duration": 1062,
        "start_time": "2023-02-04T05:39:54.370Z"
      },
      {
        "duration": 46,
        "start_time": "2023-02-04T05:39:55.434Z"
      },
      {
        "duration": 7,
        "start_time": "2023-02-04T05:39:55.482Z"
      },
      {
        "duration": 14,
        "start_time": "2023-02-04T05:39:55.491Z"
      },
      {
        "duration": 1656,
        "start_time": "2023-02-04T05:39:55.507Z"
      },
      {
        "duration": 35,
        "start_time": "2023-02-04T05:39:57.164Z"
      },
      {
        "duration": 49,
        "start_time": "2023-02-04T05:39:57.200Z"
      },
      {
        "duration": 8,
        "start_time": "2023-02-04T05:39:57.250Z"
      },
      {
        "duration": 9,
        "start_time": "2023-02-04T05:39:57.259Z"
      },
      {
        "duration": 11,
        "start_time": "2023-02-04T05:57:48.771Z"
      },
      {
        "duration": 12,
        "start_time": "2023-02-04T06:01:39.851Z"
      },
      {
        "duration": 10,
        "start_time": "2023-02-04T06:03:25.505Z"
      },
      {
        "duration": 71,
        "start_time": "2023-02-04T06:11:09.579Z"
      },
      {
        "duration": 39,
        "start_time": "2023-02-04T06:11:22.853Z"
      },
      {
        "duration": 1792,
        "start_time": "2023-02-04T13:09:56.857Z"
      },
      {
        "duration": 94,
        "start_time": "2023-02-04T13:09:58.651Z"
      },
      {
        "duration": 7,
        "start_time": "2023-02-04T13:09:58.748Z"
      },
      {
        "duration": 14,
        "start_time": "2023-02-04T13:09:58.758Z"
      },
      {
        "duration": 1985,
        "start_time": "2023-02-04T13:09:58.774Z"
      },
      {
        "duration": 47,
        "start_time": "2023-02-04T13:10:00.761Z"
      },
      {
        "duration": 44,
        "start_time": "2023-02-04T13:10:00.810Z"
      },
      {
        "duration": 66,
        "start_time": "2023-02-04T13:10:00.856Z"
      },
      {
        "duration": 6,
        "start_time": "2023-02-04T13:10:00.923Z"
      }
    ],
    "kernelspec": {
      "display_name": "Python 3 (ipykernel)",
      "language": "python",
      "name": "python3"
    },
    "language_info": {
      "codemirror_mode": {
        "name": "ipython",
        "version": 3
      },
      "file_extension": ".py",
      "mimetype": "text/x-python",
      "name": "python",
      "nbconvert_exporter": "python",
      "pygments_lexer": "ipython3",
      "version": "3.9.5"
    },
    "toc": {
      "base_numbering": 1,
      "nav_menu": {},
      "number_sections": true,
      "sideBar": true,
      "skip_h1_title": true,
      "title_cell": "Table of Contents",
      "title_sidebar": "Contents",
      "toc_cell": false,
      "toc_position": {},
      "toc_section_display": true,
      "toc_window_display": false
    },
    "colab": {
      "provenance": [],
      "include_colab_link": true
    }
  },
  "nbformat": 4,
  "nbformat_minor": 0
}
